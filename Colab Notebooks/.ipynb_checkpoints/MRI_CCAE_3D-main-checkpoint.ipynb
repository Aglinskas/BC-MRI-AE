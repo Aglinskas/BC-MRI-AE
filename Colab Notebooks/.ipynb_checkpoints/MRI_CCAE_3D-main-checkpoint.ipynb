{
  "nbformat": 4,
  "nbformat_minor": 0,
  "metadata": {
    "accelerator": "GPU",
    "colab": {
      "name": "MRI-CCAE-3D.ipynb",
      "provenance": [],
      "collapsed_sections": []
    },
    "kernelspec": {
      "display_name": "Python 3",
      "language": "python",
      "name": "python3"
    },
    "language_info": {
      "codemirror_mode": {
        "name": "ipython",
        "version": 3
      },
      "file_extension": ".py",
      "mimetype": "text/x-python",
      "name": "python",
      "nbconvert_exporter": "python",
      "pygments_lexer": "ipython3",
      "version": "3.7.7"
    }
  },
  "cells": [
    {
      "cell_type": "markdown",
      "metadata": {
        "id": "tXd5CerxmxGr"
      },
      "source": [
        "Make sure the tf version is 2.5.0-dev20201111 or later (for model saving)"
      ]
    },
    {
      "cell_type": "code",
      "metadata": {
        "id": "DOW1Mf_NlZYn",
        "outputId": "51e89991-731f-45f7-e5dd-69051d2038ed",
        "colab": {
          "base_uri": "https://localhost:8080/",
          "height": 1000
        }
      },
      "source": [
        "!pip install tf-nightly==2.5.0.dev20201111 -qqq --progress-bar off\n",
        "import tensorflow as tf\n",
        "print(tf.__version__)\n",
        "assert tf.__version__== '2.5.0-dev20201112','bad version'"
      ],
      "execution_count": 1,
      "outputs": [
        {
          "output_type": "stream",
          "text": [
            "\u001b[?25l\n",
            "\u001b[?25h\u001b[?25l\n",
            "\u001b[?25h\u001b[?25l\u001b[31mERROR: Exception:\n",
            "Traceback (most recent call last):\n",
            "  File \"/usr/local/lib/python3.6/dist-packages/pip/_vendor/urllib3/response.py\", line 425, in _error_catcher\n",
            "    yield\n",
            "  File \"/usr/local/lib/python3.6/dist-packages/pip/_vendor/urllib3/response.py\", line 507, in read\n",
            "    data = self._fp.read(amt) if not fp_closed else b\"\"\n",
            "  File \"/usr/local/lib/python3.6/dist-packages/pip/_vendor/cachecontrol/filewrapper.py\", line 62, in read\n",
            "    data = self.__fp.read(amt)\n",
            "  File \"/usr/lib/python3.6/http/client.py\", line 463, in read\n",
            "    n = self.readinto(b)\n",
            "  File \"/usr/lib/python3.6/http/client.py\", line 507, in readinto\n",
            "    n = self.fp.readinto(b)\n",
            "  File \"/usr/lib/python3.6/socket.py\", line 586, in readinto\n",
            "    return self._sock.recv_into(b)\n",
            "  File \"/usr/lib/python3.6/ssl.py\", line 1012, in recv_into\n",
            "    return self.read(nbytes, buffer)\n",
            "  File \"/usr/lib/python3.6/ssl.py\", line 874, in read\n",
            "    return self._sslobj.read(len, buffer)\n",
            "  File \"/usr/lib/python3.6/ssl.py\", line 631, in read\n",
            "    v = self._sslobj.read(len, buffer)\n",
            "ConnectionResetError: [Errno 104] Connection reset by peer\n",
            "\n",
            "During handling of the above exception, another exception occurred:\n",
            "\n",
            "Traceback (most recent call last):\n",
            "  File \"/usr/local/lib/python3.6/dist-packages/pip/_internal/cli/base_command.py\", line 153, in _main\n",
            "    status = self.run(options, args)\n",
            "  File \"/usr/local/lib/python3.6/dist-packages/pip/_internal/commands/install.py\", line 382, in run\n",
            "    resolver.resolve(requirement_set)\n",
            "  File \"/usr/local/lib/python3.6/dist-packages/pip/_internal/legacy_resolve.py\", line 201, in resolve\n",
            "    self._resolve_one(requirement_set, req)\n",
            "  File \"/usr/local/lib/python3.6/dist-packages/pip/_internal/legacy_resolve.py\", line 365, in _resolve_one\n",
            "    abstract_dist = self._get_abstract_dist_for(req_to_install)\n",
            "  File \"/usr/local/lib/python3.6/dist-packages/pip/_internal/legacy_resolve.py\", line 313, in _get_abstract_dist_for\n",
            "    req, self.session, self.finder, self.require_hashes\n",
            "  File \"/usr/local/lib/python3.6/dist-packages/pip/_internal/operations/prepare.py\", line 194, in prepare_linked_requirement\n",
            "    progress_bar=self.progress_bar\n",
            "  File \"/usr/local/lib/python3.6/dist-packages/pip/_internal/download.py\", line 465, in unpack_url\n",
            "    progress_bar=progress_bar\n",
            "  File \"/usr/local/lib/python3.6/dist-packages/pip/_internal/download.py\", line 316, in unpack_http_url\n",
            "    progress_bar)\n",
            "  File \"/usr/local/lib/python3.6/dist-packages/pip/_internal/download.py\", line 551, in _download_http_url\n",
            "    _download_url(resp, link, content_file, hashes, progress_bar)\n",
            "  File \"/usr/local/lib/python3.6/dist-packages/pip/_internal/download.py\", line 253, in _download_url\n",
            "    hashes.check_against_chunks(downloaded_chunks)\n",
            "  File \"/usr/local/lib/python3.6/dist-packages/pip/_internal/utils/hashes.py\", line 80, in check_against_chunks\n",
            "    for chunk in chunks:\n",
            "  File \"/usr/local/lib/python3.6/dist-packages/pip/_internal/download.py\", line 223, in written_chunks\n",
            "    for chunk in chunks:\n",
            "  File \"/usr/local/lib/python3.6/dist-packages/pip/_internal/utils/ui.py\", line 160, in iter\n",
            "    for x in it:\n",
            "  File \"/usr/local/lib/python3.6/dist-packages/pip/_internal/download.py\", line 212, in resp_read\n",
            "    decode_content=False):\n",
            "  File \"/usr/local/lib/python3.6/dist-packages/pip/_vendor/urllib3/response.py\", line 564, in stream\n",
            "    data = self.read(amt=amt, decode_content=decode_content)\n",
            "  File \"/usr/local/lib/python3.6/dist-packages/pip/_vendor/urllib3/response.py\", line 529, in read\n",
            "    raise IncompleteRead(self._fp_bytes_read, self.length_remaining)\n",
            "  File \"/usr/lib/python3.6/contextlib.py\", line 99, in __exit__\n",
            "    self.gen.throw(type, value, traceback)\n",
            "  File \"/usr/local/lib/python3.6/dist-packages/pip/_vendor/urllib3/response.py\", line 443, in _error_catcher\n",
            "    raise ProtocolError(\"Connection broken: %r\" % e, e)\n",
            "pip._vendor.urllib3.exceptions.ProtocolError: (\"Connection broken: ConnectionResetError(104, 'Connection reset by peer')\", ConnectionResetError(104, 'Connection reset by peer'))\u001b[0m\n",
            "2.3.0\n"
          ],
          "name": "stdout"
        },
        {
          "output_type": "error",
          "ename": "AssertionError",
          "evalue": "ignored",
          "traceback": [
            "\u001b[0;31m---------------------------------------------------------------------------\u001b[0m",
            "\u001b[0;31mAssertionError\u001b[0m                            Traceback (most recent call last)",
            "\u001b[0;32m<ipython-input-1-c68459e672c7>\u001b[0m in \u001b[0;36m<module>\u001b[0;34m()\u001b[0m\n\u001b[1;32m      2\u001b[0m \u001b[0;32mimport\u001b[0m \u001b[0mtensorflow\u001b[0m \u001b[0;32mas\u001b[0m \u001b[0mtf\u001b[0m\u001b[0;34m\u001b[0m\u001b[0;34m\u001b[0m\u001b[0m\n\u001b[1;32m      3\u001b[0m \u001b[0mprint\u001b[0m\u001b[0;34m(\u001b[0m\u001b[0mtf\u001b[0m\u001b[0;34m.\u001b[0m\u001b[0m__version__\u001b[0m\u001b[0;34m)\u001b[0m\u001b[0;34m\u001b[0m\u001b[0;34m\u001b[0m\u001b[0m\n\u001b[0;32m----> 4\u001b[0;31m \u001b[0;32massert\u001b[0m \u001b[0mtf\u001b[0m\u001b[0;34m.\u001b[0m\u001b[0m__version__\u001b[0m\u001b[0;34m==\u001b[0m \u001b[0;34m'2.5.0-dev20201112'\u001b[0m\u001b[0;34m,\u001b[0m\u001b[0;34m'bad version'\u001b[0m\u001b[0;34m\u001b[0m\u001b[0;34m\u001b[0m\u001b[0m\n\u001b[0m",
            "\u001b[0;31mAssertionError\u001b[0m: bad version"
          ]
        }
      ]
    },
    {
      "cell_type": "code",
      "metadata": {
        "id": "BH2mDblk7gpd"
      },
      "source": [
        "#!pip uninstall tf-nightly"
      ],
      "execution_count": null,
      "outputs": []
    },
    {
      "cell_type": "markdown",
      "metadata": {
        "id": "eRuEJnovy41N"
      },
      "source": [
        ""
      ]
    },
    {
      "cell_type": "code",
      "metadata": {
        "id": "a2DTKRkJE-Ws",
        "outputId": "df859ef5-16f1-4e1d-dde2-3cc3753606b1",
        "colab": {
          "base_uri": "https://localhost:8080/"
        }
      },
      "source": [
        "from google.colab import drive\n",
        "drive.mount(\"/content/drive\")\n",
        "print('done, mounted')\n",
        "#print(now())"
      ],
      "execution_count": null,
      "outputs": [
        {
          "output_type": "stream",
          "text": [
            "Drive already mounted at /content/drive; to attempt to forcibly remount, call drive.mount(\"/content/drive\", force_remount=True).\n",
            "done, mounted\n"
          ],
          "name": "stdout"
        }
      ]
    },
    {
      "cell_type": "code",
      "metadata": {
        "id": "1uGZG3ouuLkO",
        "outputId": "c8d79887-5863-43e9-98aa-749bc12b3cd0",
        "colab": {
          "base_uri": "https://localhost:8080/"
        }
      },
      "source": [
        "cd /content/drive/My Drive/BC-MRI-AE/"
      ],
      "execution_count": null,
      "outputs": [
        {
          "output_type": "stream",
          "text": [
            "/content/drive/.shortcut-targets-by-id/1VDdU9fNV-WigHVi-hGaIcmG0TtZ7dEiD/BC-MRI-AE\n"
          ],
          "name": "stdout"
        }
      ]
    },
    {
      "cell_type": "code",
      "metadata": {
        "id": "1t6zjPCvmIse",
        "outputId": "fb067ea1-55a4-494a-b54c-3f27c89dfe2c",
        "colab": {
          "base_uri": "https://localhost:8080/"
        }
      },
      "source": [
        "cd 'Colab Notebooks'"
      ],
      "execution_count": null,
      "outputs": [
        {
          "output_type": "stream",
          "text": [
            "/content/drive/.shortcut-targets-by-id/1VDdU9fNV-WigHVi-hGaIcmG0TtZ7dEiD/BC-MRI-AE/Colab Notebooks\n"
          ],
          "name": "stdout"
        }
      ]
    },
    {
      "cell_type": "code",
      "metadata": {
        "id": "bjXikoR3dceV",
        "outputId": "64b6ad17-b9ae-4d21-9142-1da69192bc1d",
        "colab": {
          "base_uri": "https://localhost:8080/"
        }
      },
      "source": [
        "%matplotlib inline\n",
        "from datetime import datetime;now = datetime.now;t00 = now()\n",
        "import os\n",
        "from matplotlib import pyplot as plt\n",
        "import seaborn as sns\n",
        "\n",
        "import numpy as np\n",
        "import pandas as pd\n",
        "from tqdm import tqdm\n",
        "\n",
        "#from contrastive_vae.celeb_utils import get_celeb_vae\n",
        "#from contrastive_vae.celeb_utils import get_celeb_cvae\n",
        "\n",
        "import pandas as pd\n",
        "from sklearn.metrics import silhouette_score\n",
        "\n",
        "from mri_utils import get_MRI_CVAE_3D,get_MRI_CCVAE_3D\n",
        "\n",
        "print(now()-t00)"
      ],
      "execution_count": null,
      "outputs": [
        {
          "output_type": "stream",
          "text": [
            "0:00:00.384166\n"
          ],
          "name": "stdout"
        }
      ]
    },
    {
      "cell_type": "code",
      "metadata": {
        "id": "UmLCoBjXmF8M",
        "outputId": "d77a3244-4d51-4e4a-ff68-ee83685d5a2f",
        "colab": {
          "base_uri": "https://localhost:8080/"
        }
      },
      "source": [
        "cd ../"
      ],
      "execution_count": null,
      "outputs": [
        {
          "output_type": "stream",
          "text": [
            "/content/drive/.shortcut-targets-by-id/1VDdU9fNV-WigHVi-hGaIcmG0TtZ7dEiD/BC-MRI-AE\n"
          ],
          "name": "stdout"
        }
      ]
    },
    {
      "cell_type": "markdown",
      "metadata": {
        "id": "t5xW313gmrFJ"
      },
      "source": [
        "SHAPE THE DATA"
      ]
    },
    {
      "cell_type": "code",
      "metadata": {
        "id": "STcZnREmuLkX",
        "outputId": "d1041d39-12fc-4c09-b484-0d0ffc4c5d9e",
        "colab": {
          "base_uri": "https://localhost:8080/"
        }
      },
      "source": [
        "arr = np.load('./Data/ABIDE-Anat-64iso.npz')\n",
        "ABIDE_data = arr['data']\n",
        "ABIDE_subs = arr['subs']\n",
        "nsubs = ABIDE_data.shape[0]\n",
        "[arr.shape for arr in [ABIDE_subs,ABIDE_data]]"
      ],
      "execution_count": null,
      "outputs": [
        {
          "output_type": "execute_result",
          "data": {
            "text/plain": [
              "[(1022,), (1022, 64, 64, 64)]"
            ]
          },
          "metadata": {
            "tags": []
          },
          "execution_count": 8
        }
      ]
    },
    {
      "cell_type": "code",
      "metadata": {
        "id": "71-GquGIuLka",
        "outputId": "a9109073-a30f-416a-a86c-e0d213bb89ba",
        "colab": {
          "base_uri": "https://localhost:8080/"
        }
      },
      "source": [
        "aa = np.array([ABIDE_data[s,:,:,:].sum() for s in range(ABIDE_data.shape[0])])<5000\n",
        "ABIDE_data = ABIDE_data[~aa,:,:,:]\n",
        "ABIDE_subs = ABIDE_subs[~aa]\n",
        "[arr.shape for arr in [ABIDE_subs,ABIDE_data]]"
      ],
      "execution_count": null,
      "outputs": [
        {
          "output_type": "execute_result",
          "data": {
            "text/plain": [
              "[(982,), (982, 64, 64, 64)]"
            ]
          },
          "metadata": {
            "tags": []
          },
          "execution_count": 9
        }
      ]
    },
    {
      "cell_type": "code",
      "metadata": {
        "id": "JANBc_Nm-M2N",
        "outputId": "7f7b09ef-be8f-4d82-cc40-94daac696eb9",
        "colab": {
          "base_uri": "https://localhost:8080/",
          "height": 217
        }
      },
      "source": [
        "df = pd.read_csv('./CSVs/ABIDE-legend.csv',header=1)\n",
        "df = df.iloc[np.array([df['BIDS_ID'].values[s] in ABIDE_subs for s in range(len(df))])]\n",
        "df.reset_index(inplace=True)\n",
        "\n",
        "assert len(df)==len(ABIDE_subs),'dif lenghts'\n",
        "assert all([df['BIDS_ID'][s]==ABIDE_subs[s] for s in range(len(df))]),'mismatch between df and goodsubs'\n",
        "\n",
        "df.head(5)"
      ],
      "execution_count": null,
      "outputs": [
        {
          "output_type": "execute_result",
          "data": {
            "text/html": [
              "<div>\n",
              "<style scoped>\n",
              "    .dataframe tbody tr th:only-of-type {\n",
              "        vertical-align: middle;\n",
              "    }\n",
              "\n",
              "    .dataframe tbody tr th {\n",
              "        vertical-align: top;\n",
              "    }\n",
              "\n",
              "    .dataframe thead th {\n",
              "        text-align: right;\n",
              "    }\n",
              "</style>\n",
              "<table border=\"1\" class=\"dataframe\">\n",
              "  <thead>\n",
              "    <tr style=\"text-align: right;\">\n",
              "      <th></th>\n",
              "      <th>index</th>\n",
              "      <th>BIDS_ID</th>\n",
              "      <th>ID</th>\n",
              "      <th>SUB_TYPE</th>\n",
              "      <th>VISIT</th>\n",
              "      <th>DAY_LAG</th>\n",
              "      <th>ABIDE_01</th>\n",
              "      <th>ABIDE_02</th>\n",
              "      <th>ABIDE_03</th>\n",
              "      <th>ABIDE_04</th>\n",
              "      <th>ABIDE_05</th>\n",
              "      <th>ABIDE_06</th>\n",
              "      <th>ABIDE_07</th>\n",
              "      <th>ABIDE_08</th>\n",
              "      <th>ABIDE_9</th>\n",
              "      <th>ABIDE_10</th>\n",
              "      <th>ABIDE_11</th>\n",
              "      <th>ABIDE_12</th>\n",
              "      <th>ABIDE_13</th>\n",
              "      <th>ABIDE_14</th>\n",
              "      <th>ABIDE_15</th>\n",
              "      <th>ABIDE_16</th>\n",
              "      <th>ABIDE_17</th>\n",
              "      <th>ABIDE_18</th>\n",
              "      <th>ABIDE_19</th>\n",
              "      <th>ABIDE_20</th>\n",
              "      <th>ABIDE_21</th>\n",
              "      <th>ABIDE_22</th>\n",
              "      <th>ABIDE_23</th>\n",
              "      <th>ABIDE_24</th>\n",
              "      <th>ABIDE_25</th>\n",
              "      <th>ABIDE_26</th>\n",
              "      <th>ABIDE_27</th>\n",
              "      <th>ABIDE_28</th>\n",
              "      <th>ABIDE_29</th>\n",
              "      <th>ABIDE_30</th>\n",
              "      <th>ABIDE_31</th>\n",
              "      <th>ABIDE_32</th>\n",
              "      <th>ABIDE_33</th>\n",
              "      <th>ABIDE_34</th>\n",
              "      <th>ABIDE_35</th>\n",
              "      <th>ABIDE_36</th>\n",
              "      <th>ABIDE_37</th>\n",
              "      <th>ABIDE_38</th>\n",
              "      <th>ABIDE_39</th>\n",
              "      <th>ABIDE_40</th>\n",
              "      <th>ABIDE_41</th>\n",
              "      <th>ABIDE_42</th>\n",
              "      <th>ABIDE_43</th>\n",
              "      <th>ABIDE_44</th>\n",
              "      <th>ABIDE_45</th>\n",
              "      <th>ABIDE_46</th>\n",
              "      <th>ABIDE_47</th>\n",
              "      <th>ABIDE_48</th>\n",
              "      <th>ABIDE_49</th>\n",
              "      <th>ABIDE_50</th>\n",
              "      <th>ABIDE_51</th>\n",
              "      <th>ABIDE_52</th>\n",
              "      <th>ABIDE_53</th>\n",
              "      <th>ABIDE_54</th>\n",
              "      <th>ABIDE_55</th>\n",
              "      <th>ABIDE_56</th>\n",
              "      <th>ABIDE_57</th>\n",
              "      <th>ABIDE_58</th>\n",
              "      <th>ABIDE_59</th>\n",
              "      <th>ABIDE_60</th>\n",
              "      <th>ABIDE_61</th>\n",
              "      <th>ABIDE_62</th>\n",
              "      <th>ABIDE_63</th>\n",
              "      <th>ABIDE_64</th>\n",
              "      <th>ABIDE_65</th>\n",
              "      <th>ABIDE_66</th>\n",
              "      <th>ABIDE_67</th>\n",
              "      <th>ABIDE_68</th>\n",
              "      <th>ABIDE_69</th>\n",
              "      <th>ABIDE_70</th>\n",
              "      <th>ABIDE_71</th>\n",
              "      <th>ABIDE_72</th>\n",
              "      <th>ABIDE_73</th>\n",
              "    </tr>\n",
              "  </thead>\n",
              "  <tbody>\n",
              "    <tr>\n",
              "      <th>0</th>\n",
              "      <td>0</td>\n",
              "      <td>sub-001</td>\n",
              "      <td>A00033348</td>\n",
              "      <td>PATIENT</td>\n",
              "      <td>session_1</td>\n",
              "      <td>8</td>\n",
              "      <td>51320</td>\n",
              "      <td>1</td>\n",
              "      <td>2</td>\n",
              "      <td>31.0</td>\n",
              "      <td>1</td>\n",
              "      <td>110.0</td>\n",
              "      <td>NaN</td>\n",
              "      <td>NaN</td>\n",
              "      <td>WST</td>\n",
              "      <td>NaN</td>\n",
              "      <td>NaN</td>\n",
              "      <td>NaN</td>\n",
              "      <td>NaN</td>\n",
              "      <td>NaN</td>\n",
              "      <td>NaN</td>\n",
              "      <td>NaN</td>\n",
              "      <td>NaN</td>\n",
              "      <td>NaN</td>\n",
              "      <td>NaN</td>\n",
              "      <td>R</td>\n",
              "      <td>NaN</td>\n",
              "      <td>NaN</td>\n",
              "      <td>NaN</td>\n",
              "      <td>NaN</td>\n",
              "      <td>NaN</td>\n",
              "      <td>NaN</td>\n",
              "      <td>NaN</td>\n",
              "      <td>NaN</td>\n",
              "      <td>NaN</td>\n",
              "      <td>NaN</td>\n",
              "      <td>NaN</td>\n",
              "      <td>NaN</td>\n",
              "      <td>NaN</td>\n",
              "      <td>NaN</td>\n",
              "      <td>NaN</td>\n",
              "      <td>NaN</td>\n",
              "      <td>NaN</td>\n",
              "      <td>NaN</td>\n",
              "      <td>NaN</td>\n",
              "      <td>NaN</td>\n",
              "      <td>NaN</td>\n",
              "      <td>NaN</td>\n",
              "      <td>NaN</td>\n",
              "      <td>NaN</td>\n",
              "      <td>NaN</td>\n",
              "      <td>NaN</td>\n",
              "      <td>NaN</td>\n",
              "      <td>closed</td>\n",
              "      <td>NaN</td>\n",
              "      <td>NaN</td>\n",
              "      <td>NaN</td>\n",
              "      <td>NaN</td>\n",
              "      <td>NaN</td>\n",
              "      <td>NaN</td>\n",
              "      <td>NaN</td>\n",
              "      <td>NaN</td>\n",
              "      <td>NaN</td>\n",
              "      <td>NaN</td>\n",
              "      <td>NaN</td>\n",
              "      <td>NaN</td>\n",
              "      <td>NaN</td>\n",
              "      <td>NaN</td>\n",
              "      <td>NaN</td>\n",
              "      <td>NaN</td>\n",
              "      <td>NaN</td>\n",
              "      <td>NaN</td>\n",
              "      <td>NaN</td>\n",
              "      <td>NaN</td>\n",
              "      <td>NaN</td>\n",
              "      <td>NaN</td>\n",
              "      <td>0</td>\n",
              "      <td>NaN</td>\n",
              "      <td>NaN</td>\n",
              "    </tr>\n",
              "    <tr>\n",
              "      <th>1</th>\n",
              "      <td>1</td>\n",
              "      <td>sub-002</td>\n",
              "      <td>A00033398</td>\n",
              "      <td>CONTROL</td>\n",
              "      <td>session_1</td>\n",
              "      <td>8</td>\n",
              "      <td>51373</td>\n",
              "      <td>2</td>\n",
              "      <td>0</td>\n",
              "      <td>46.0</td>\n",
              "      <td>1</td>\n",
              "      <td>119.0</td>\n",
              "      <td>NaN</td>\n",
              "      <td>NaN</td>\n",
              "      <td>WST</td>\n",
              "      <td>NaN</td>\n",
              "      <td>NaN</td>\n",
              "      <td>NaN</td>\n",
              "      <td>NaN</td>\n",
              "      <td>NaN</td>\n",
              "      <td>NaN</td>\n",
              "      <td>NaN</td>\n",
              "      <td>NaN</td>\n",
              "      <td>NaN</td>\n",
              "      <td>NaN</td>\n",
              "      <td>R</td>\n",
              "      <td>NaN</td>\n",
              "      <td>NaN</td>\n",
              "      <td>NaN</td>\n",
              "      <td>NaN</td>\n",
              "      <td>NaN</td>\n",
              "      <td>NaN</td>\n",
              "      <td>NaN</td>\n",
              "      <td>NaN</td>\n",
              "      <td>NaN</td>\n",
              "      <td>NaN</td>\n",
              "      <td>NaN</td>\n",
              "      <td>NaN</td>\n",
              "      <td>NaN</td>\n",
              "      <td>NaN</td>\n",
              "      <td>NaN</td>\n",
              "      <td>NaN</td>\n",
              "      <td>NaN</td>\n",
              "      <td>NaN</td>\n",
              "      <td>NaN</td>\n",
              "      <td>NaN</td>\n",
              "      <td>NaN</td>\n",
              "      <td>NaN</td>\n",
              "      <td>NaN</td>\n",
              "      <td>NaN</td>\n",
              "      <td>NaN</td>\n",
              "      <td>NaN</td>\n",
              "      <td>NaN</td>\n",
              "      <td>closed</td>\n",
              "      <td>NaN</td>\n",
              "      <td>NaN</td>\n",
              "      <td>NaN</td>\n",
              "      <td>NaN</td>\n",
              "      <td>NaN</td>\n",
              "      <td>NaN</td>\n",
              "      <td>NaN</td>\n",
              "      <td>NaN</td>\n",
              "      <td>NaN</td>\n",
              "      <td>NaN</td>\n",
              "      <td>NaN</td>\n",
              "      <td>NaN</td>\n",
              "      <td>NaN</td>\n",
              "      <td>NaN</td>\n",
              "      <td>NaN</td>\n",
              "      <td>NaN</td>\n",
              "      <td>NaN</td>\n",
              "      <td>NaN</td>\n",
              "      <td>NaN</td>\n",
              "      <td>NaN</td>\n",
              "      <td>NaN</td>\n",
              "      <td>NaN</td>\n",
              "      <td>0</td>\n",
              "      <td>NaN</td>\n",
              "      <td>NaN</td>\n",
              "    </tr>\n",
              "    <tr>\n",
              "      <th>2</th>\n",
              "      <td>2</td>\n",
              "      <td>sub-003</td>\n",
              "      <td>A00033352</td>\n",
              "      <td>PATIENT</td>\n",
              "      <td>session_1</td>\n",
              "      <td>8</td>\n",
              "      <td>51324</td>\n",
              "      <td>1</td>\n",
              "      <td>2</td>\n",
              "      <td>52.0</td>\n",
              "      <td>1</td>\n",
              "      <td>133.0</td>\n",
              "      <td>NaN</td>\n",
              "      <td>NaN</td>\n",
              "      <td>WST</td>\n",
              "      <td>NaN</td>\n",
              "      <td>NaN</td>\n",
              "      <td>NaN</td>\n",
              "      <td>NaN</td>\n",
              "      <td>NaN</td>\n",
              "      <td>NaN</td>\n",
              "      <td>NaN</td>\n",
              "      <td>NaN</td>\n",
              "      <td>NaN</td>\n",
              "      <td>NaN</td>\n",
              "      <td>R</td>\n",
              "      <td>NaN</td>\n",
              "      <td>NaN</td>\n",
              "      <td>NaN</td>\n",
              "      <td>NaN</td>\n",
              "      <td>NaN</td>\n",
              "      <td>NaN</td>\n",
              "      <td>NaN</td>\n",
              "      <td>NaN</td>\n",
              "      <td>NaN</td>\n",
              "      <td>NaN</td>\n",
              "      <td>NaN</td>\n",
              "      <td>NaN</td>\n",
              "      <td>NaN</td>\n",
              "      <td>NaN</td>\n",
              "      <td>NaN</td>\n",
              "      <td>NaN</td>\n",
              "      <td>NaN</td>\n",
              "      <td>NaN</td>\n",
              "      <td>NaN</td>\n",
              "      <td>NaN</td>\n",
              "      <td>NaN</td>\n",
              "      <td>NaN</td>\n",
              "      <td>NaN</td>\n",
              "      <td>NaN</td>\n",
              "      <td>NaN</td>\n",
              "      <td>NaN</td>\n",
              "      <td>NaN</td>\n",
              "      <td>closed</td>\n",
              "      <td>NaN</td>\n",
              "      <td>NaN</td>\n",
              "      <td>NaN</td>\n",
              "      <td>NaN</td>\n",
              "      <td>NaN</td>\n",
              "      <td>NaN</td>\n",
              "      <td>NaN</td>\n",
              "      <td>NaN</td>\n",
              "      <td>NaN</td>\n",
              "      <td>NaN</td>\n",
              "      <td>NaN</td>\n",
              "      <td>NaN</td>\n",
              "      <td>NaN</td>\n",
              "      <td>NaN</td>\n",
              "      <td>NaN</td>\n",
              "      <td>NaN</td>\n",
              "      <td>NaN</td>\n",
              "      <td>NaN</td>\n",
              "      <td>NaN</td>\n",
              "      <td>NaN</td>\n",
              "      <td>NaN</td>\n",
              "      <td>NaN</td>\n",
              "      <td>0</td>\n",
              "      <td>NaN</td>\n",
              "      <td>NaN</td>\n",
              "    </tr>\n",
              "    <tr>\n",
              "      <th>3</th>\n",
              "      <td>3</td>\n",
              "      <td>sub-004</td>\n",
              "      <td>A00033389</td>\n",
              "      <td>CONTROL</td>\n",
              "      <td>session_1</td>\n",
              "      <td>8</td>\n",
              "      <td>51364</td>\n",
              "      <td>2</td>\n",
              "      <td>0</td>\n",
              "      <td>26.0</td>\n",
              "      <td>1</td>\n",
              "      <td>122.0</td>\n",
              "      <td>NaN</td>\n",
              "      <td>NaN</td>\n",
              "      <td>WST</td>\n",
              "      <td>NaN</td>\n",
              "      <td>NaN</td>\n",
              "      <td>NaN</td>\n",
              "      <td>NaN</td>\n",
              "      <td>NaN</td>\n",
              "      <td>NaN</td>\n",
              "      <td>NaN</td>\n",
              "      <td>NaN</td>\n",
              "      <td>NaN</td>\n",
              "      <td>NaN</td>\n",
              "      <td>R</td>\n",
              "      <td>NaN</td>\n",
              "      <td>NaN</td>\n",
              "      <td>NaN</td>\n",
              "      <td>NaN</td>\n",
              "      <td>NaN</td>\n",
              "      <td>NaN</td>\n",
              "      <td>NaN</td>\n",
              "      <td>NaN</td>\n",
              "      <td>NaN</td>\n",
              "      <td>NaN</td>\n",
              "      <td>NaN</td>\n",
              "      <td>NaN</td>\n",
              "      <td>NaN</td>\n",
              "      <td>NaN</td>\n",
              "      <td>NaN</td>\n",
              "      <td>NaN</td>\n",
              "      <td>NaN</td>\n",
              "      <td>NaN</td>\n",
              "      <td>NaN</td>\n",
              "      <td>NaN</td>\n",
              "      <td>NaN</td>\n",
              "      <td>NaN</td>\n",
              "      <td>NaN</td>\n",
              "      <td>NaN</td>\n",
              "      <td>NaN</td>\n",
              "      <td>NaN</td>\n",
              "      <td>NaN</td>\n",
              "      <td>closed</td>\n",
              "      <td>NaN</td>\n",
              "      <td>NaN</td>\n",
              "      <td>NaN</td>\n",
              "      <td>NaN</td>\n",
              "      <td>NaN</td>\n",
              "      <td>NaN</td>\n",
              "      <td>NaN</td>\n",
              "      <td>NaN</td>\n",
              "      <td>NaN</td>\n",
              "      <td>NaN</td>\n",
              "      <td>NaN</td>\n",
              "      <td>NaN</td>\n",
              "      <td>NaN</td>\n",
              "      <td>NaN</td>\n",
              "      <td>NaN</td>\n",
              "      <td>NaN</td>\n",
              "      <td>NaN</td>\n",
              "      <td>NaN</td>\n",
              "      <td>NaN</td>\n",
              "      <td>NaN</td>\n",
              "      <td>NaN</td>\n",
              "      <td>NaN</td>\n",
              "      <td>0</td>\n",
              "      <td>NaN</td>\n",
              "      <td>NaN</td>\n",
              "    </tr>\n",
              "    <tr>\n",
              "      <th>4</th>\n",
              "      <td>4</td>\n",
              "      <td>sub-005</td>\n",
              "      <td>A00033354</td>\n",
              "      <td>PATIENT</td>\n",
              "      <td>session_1</td>\n",
              "      <td>8</td>\n",
              "      <td>51326</td>\n",
              "      <td>1</td>\n",
              "      <td>2</td>\n",
              "      <td>42.0</td>\n",
              "      <td>1</td>\n",
              "      <td>114.0</td>\n",
              "      <td>NaN</td>\n",
              "      <td>NaN</td>\n",
              "      <td>WST</td>\n",
              "      <td>NaN</td>\n",
              "      <td>NaN</td>\n",
              "      <td>NaN</td>\n",
              "      <td>NaN</td>\n",
              "      <td>NaN</td>\n",
              "      <td>NaN</td>\n",
              "      <td>NaN</td>\n",
              "      <td>NaN</td>\n",
              "      <td>NaN</td>\n",
              "      <td>NaN</td>\n",
              "      <td>R</td>\n",
              "      <td>NaN</td>\n",
              "      <td>NaN</td>\n",
              "      <td>NaN</td>\n",
              "      <td>NaN</td>\n",
              "      <td>NaN</td>\n",
              "      <td>NaN</td>\n",
              "      <td>NaN</td>\n",
              "      <td>NaN</td>\n",
              "      <td>NaN</td>\n",
              "      <td>NaN</td>\n",
              "      <td>NaN</td>\n",
              "      <td>NaN</td>\n",
              "      <td>NaN</td>\n",
              "      <td>NaN</td>\n",
              "      <td>NaN</td>\n",
              "      <td>NaN</td>\n",
              "      <td>NaN</td>\n",
              "      <td>NaN</td>\n",
              "      <td>NaN</td>\n",
              "      <td>NaN</td>\n",
              "      <td>NaN</td>\n",
              "      <td>NaN</td>\n",
              "      <td>NaN</td>\n",
              "      <td>NaN</td>\n",
              "      <td>NaN</td>\n",
              "      <td>NaN</td>\n",
              "      <td>NaN</td>\n",
              "      <td>closed</td>\n",
              "      <td>NaN</td>\n",
              "      <td>NaN</td>\n",
              "      <td>NaN</td>\n",
              "      <td>NaN</td>\n",
              "      <td>NaN</td>\n",
              "      <td>NaN</td>\n",
              "      <td>NaN</td>\n",
              "      <td>NaN</td>\n",
              "      <td>NaN</td>\n",
              "      <td>NaN</td>\n",
              "      <td>NaN</td>\n",
              "      <td>NaN</td>\n",
              "      <td>NaN</td>\n",
              "      <td>NaN</td>\n",
              "      <td>NaN</td>\n",
              "      <td>NaN</td>\n",
              "      <td>NaN</td>\n",
              "      <td>NaN</td>\n",
              "      <td>NaN</td>\n",
              "      <td>NaN</td>\n",
              "      <td>NaN</td>\n",
              "      <td>NaN</td>\n",
              "      <td>0</td>\n",
              "      <td>NaN</td>\n",
              "      <td>NaN</td>\n",
              "    </tr>\n",
              "  </tbody>\n",
              "</table>\n",
              "</div>"
            ],
            "text/plain": [
              "   index  BIDS_ID         ID SUB_TYPE  ... ABIDE_70  ABIDE_71  ABIDE_72  ABIDE_73\n",
              "0      0  sub-001  A00033348  PATIENT  ...      NaN         0       NaN       NaN\n",
              "1      1  sub-002  A00033398  CONTROL  ...      NaN         0       NaN       NaN\n",
              "2      2  sub-003  A00033352  PATIENT  ...      NaN         0       NaN       NaN\n",
              "3      3  sub-004  A00033389  CONTROL  ...      NaN         0       NaN       NaN\n",
              "4      4  sub-005  A00033354  PATIENT  ...      NaN         0       NaN       NaN\n",
              "\n",
              "[5 rows x 79 columns]"
            ]
          },
          "metadata": {
            "tags": []
          },
          "execution_count": 10
        }
      ]
    },
    {
      "cell_type": "code",
      "metadata": {
        "id": "ZoqlzdzD-U6g",
        "outputId": "ef40bf4b-57f9-452c-a651-0e979d140e02",
        "colab": {
          "base_uri": "https://localhost:8080/"
        }
      },
      "source": [
        "TD_subs = ABIDE_data[np.array(df['SUB_TYPE']=='CONTROL'),:,:,:]\n",
        "DX_subs = ABIDE_data[np.array(df['SUB_TYPE']=='PATIENT'),:,:,:]\n",
        "\n",
        "print(TD_subs.shape)\n",
        "print(DX_subs.shape)"
      ],
      "execution_count": null,
      "outputs": [
        {
          "output_type": "stream",
          "text": [
            "(500, 64, 64, 64)\n",
            "(456, 64, 64, 64)\n"
          ],
          "name": "stdout"
        }
      ]
    },
    {
      "cell_type": "code",
      "metadata": {
        "id": "xOdwBNsmF6Ee"
      },
      "source": [
        "dxArr = np.ones(len(df))\n",
        "dxArr[np.array(df['SUB_TYPE']=='PATIENT')]=2"
      ],
      "execution_count": null,
      "outputs": []
    },
    {
      "cell_type": "code",
      "metadata": {
        "id": "j_Bzy2SVn59t"
      },
      "source": [
        "batch_size = 32\n",
        "\n",
        "TD_batch = TD_subs[np.random.randint(low=0,high=TD_subs.shape[0],size=batch_size),:,:,:]\n",
        "DX_batch = DX_subs[np.random.randint(low=0,high=DX_subs.shape[0],size=batch_size),:,:,:]"
      ],
      "execution_count": null,
      "outputs": []
    },
    {
      "cell_type": "markdown",
      "metadata": {
        "id": "BTN1pbr7mnxq"
      },
      "source": [
        "TRAIN THE VAE"
      ]
    },
    {
      "cell_type": "code",
      "metadata": {
        "id": "qllddMarnEr2",
        "outputId": "82d70986-72e9-43a8-8bdd-45aae3e0498a",
        "colab": {
          "base_uri": "https://localhost:8080/",
          "height": 388
        }
      },
      "source": [
        "encoder, decoder, vae = get_MRI_CVAE_3D(input_shape=(64, 64, 64, 1), latent_dim=2, batch_size=32, disentangle=False, gamma=1)\n",
        "vae.load_weights('../tf_outputs/weights/lol')"
      ],
      "execution_count": null,
      "outputs": [
        {
          "output_type": "error",
          "ename": "ValueError",
          "evalue": "ignored",
          "traceback": [
            "\u001b[0;31m---------------------------------------------------------------------------\u001b[0m",
            "\u001b[0;31mValueError\u001b[0m                                Traceback (most recent call last)",
            "\u001b[0;32m<ipython-input-14-8826f1e717f9>\u001b[0m in \u001b[0;36m<module>\u001b[0;34m()\u001b[0m\n\u001b[1;32m      1\u001b[0m \u001b[0mencoder\u001b[0m\u001b[0;34m,\u001b[0m \u001b[0mdecoder\u001b[0m\u001b[0;34m,\u001b[0m \u001b[0mvae\u001b[0m \u001b[0;34m=\u001b[0m \u001b[0mget_MRI_CVAE_3D\u001b[0m\u001b[0;34m(\u001b[0m\u001b[0minput_shape\u001b[0m\u001b[0;34m=\u001b[0m\u001b[0;34m(\u001b[0m\u001b[0;36m64\u001b[0m\u001b[0;34m,\u001b[0m \u001b[0;36m64\u001b[0m\u001b[0;34m,\u001b[0m \u001b[0;36m64\u001b[0m\u001b[0;34m,\u001b[0m \u001b[0;36m1\u001b[0m\u001b[0;34m)\u001b[0m\u001b[0;34m,\u001b[0m \u001b[0mlatent_dim\u001b[0m\u001b[0;34m=\u001b[0m\u001b[0;36m2\u001b[0m\u001b[0;34m,\u001b[0m \u001b[0mbatch_size\u001b[0m\u001b[0;34m=\u001b[0m\u001b[0;36m32\u001b[0m\u001b[0;34m,\u001b[0m \u001b[0mdisentangle\u001b[0m\u001b[0;34m=\u001b[0m\u001b[0;32mFalse\u001b[0m\u001b[0;34m,\u001b[0m \u001b[0mgamma\u001b[0m\u001b[0;34m=\u001b[0m\u001b[0;36m1\u001b[0m\u001b[0;34m)\u001b[0m\u001b[0;34m\u001b[0m\u001b[0;34m\u001b[0m\u001b[0m\n\u001b[0;32m----> 2\u001b[0;31m \u001b[0mvae\u001b[0m\u001b[0;34m.\u001b[0m\u001b[0mload_weights\u001b[0m\u001b[0;34m(\u001b[0m\u001b[0;34m'../tf_outputs/weights/lol'\u001b[0m\u001b[0;34m)\u001b[0m\u001b[0;34m\u001b[0m\u001b[0;34m\u001b[0m\u001b[0m\n\u001b[0m",
            "\u001b[0;32m/usr/local/lib/python3.6/dist-packages/tensorflow/python/keras/engine/training.py\u001b[0m in \u001b[0;36mload_weights\u001b[0;34m(self, filepath, by_name, skip_mismatch, options)\u001b[0m\n\u001b[1;32m   2214\u001b[0m     \u001b[0;32melse\u001b[0m\u001b[0;34m:\u001b[0m\u001b[0;34m\u001b[0m\u001b[0;34m\u001b[0m\u001b[0m\n\u001b[1;32m   2215\u001b[0m       \u001b[0;32mtry\u001b[0m\u001b[0;34m:\u001b[0m\u001b[0;34m\u001b[0m\u001b[0;34m\u001b[0m\u001b[0m\n\u001b[0;32m-> 2216\u001b[0;31m         \u001b[0mpy_checkpoint_reader\u001b[0m\u001b[0;34m.\u001b[0m\u001b[0mNewCheckpointReader\u001b[0m\u001b[0;34m(\u001b[0m\u001b[0mfilepath\u001b[0m\u001b[0;34m)\u001b[0m\u001b[0;34m\u001b[0m\u001b[0;34m\u001b[0m\u001b[0m\n\u001b[0m\u001b[1;32m   2217\u001b[0m         \u001b[0msave_format\u001b[0m \u001b[0;34m=\u001b[0m \u001b[0;34m'tf'\u001b[0m\u001b[0;34m\u001b[0m\u001b[0;34m\u001b[0m\u001b[0m\n\u001b[1;32m   2218\u001b[0m       \u001b[0;32mexcept\u001b[0m \u001b[0merrors_impl\u001b[0m\u001b[0;34m.\u001b[0m\u001b[0mDataLossError\u001b[0m\u001b[0;34m:\u001b[0m\u001b[0;34m\u001b[0m\u001b[0;34m\u001b[0m\u001b[0m\n",
            "\u001b[0;32m/usr/local/lib/python3.6/dist-packages/tensorflow/python/training/py_checkpoint_reader.py\u001b[0m in \u001b[0;36mNewCheckpointReader\u001b[0;34m(filepattern)\u001b[0m\n\u001b[1;32m     93\u001b[0m   \"\"\"\n\u001b[1;32m     94\u001b[0m   \u001b[0;32mtry\u001b[0m\u001b[0;34m:\u001b[0m\u001b[0;34m\u001b[0m\u001b[0;34m\u001b[0m\u001b[0m\n\u001b[0;32m---> 95\u001b[0;31m     \u001b[0;32mreturn\u001b[0m \u001b[0mCheckpointReader\u001b[0m\u001b[0;34m(\u001b[0m\u001b[0mcompat\u001b[0m\u001b[0;34m.\u001b[0m\u001b[0mas_bytes\u001b[0m\u001b[0;34m(\u001b[0m\u001b[0mfilepattern\u001b[0m\u001b[0;34m)\u001b[0m\u001b[0;34m)\u001b[0m\u001b[0;34m\u001b[0m\u001b[0;34m\u001b[0m\u001b[0m\n\u001b[0m\u001b[1;32m     96\u001b[0m   \u001b[0;31m# TODO(b/143319754): Remove the RuntimeError casting logic once we resolve the\u001b[0m\u001b[0;34m\u001b[0m\u001b[0;34m\u001b[0m\u001b[0;34m\u001b[0m\u001b[0m\n\u001b[1;32m     97\u001b[0m   \u001b[0;31m# issue with throwing python exceptions from C++.\u001b[0m\u001b[0;34m\u001b[0m\u001b[0;34m\u001b[0m\u001b[0;34m\u001b[0m\u001b[0m\n",
            "\u001b[0;31mValueError\u001b[0m: Unsuccessful TensorSliceReader constructor: Failed to get matching files on ../tf_outputs/weights/lol: Not found: ../tf_outputs/weights; No such file or directory"
          ]
        }
      ]
    },
    {
      "cell_type": "code",
      "metadata": {
        "id": "ny0tO8kropHG",
        "outputId": "bd87e4d5-2969-4c5d-cfaa-b97a6e95403c",
        "colab": {
          "base_uri": "https://localhost:8080/",
          "height": 337
        }
      },
      "source": [
        "from scipy.spatial.distance import pdist\n",
        "from scipy.spatial.distance import squareform\n",
        "\n",
        "plt.figure(figsize=(12,5))\n",
        "plt.subplot(1,3,1)\n",
        "plt.imshow(vae.predict(TD_batch)[0,32,:,:,0])\n",
        "plt.subplot(1,3,2)\n",
        "plt.imshow(decoder.predict(np.random.randn(3,2))[0,32,:,:,0])\n",
        "plt.subplot(1,3,3)\n",
        "arr = encoder.predict(ABIDE_data)[2]\n",
        "plt.scatter(arr[:,0],arr[:,1],c=dxArr)"
      ],
      "execution_count": null,
      "outputs": [
        {
          "output_type": "execute_result",
          "data": {
            "text/plain": [
              "<matplotlib.collections.PathCollection at 0x7f555588d1d0>"
            ]
          },
          "metadata": {
            "tags": []
          },
          "execution_count": 15
        },
        {
          "output_type": "display_data",
          "data": {
            "image/png": "[encoded data removed]",
            "text/plain": [
              "<Figure size 864x360 with 3 Axes>"
            ]
          },
          "metadata": {
            "tags": [],
            "needs_background": "light"
          }
        }
      ]
    },
    {
      "cell_type": "code",
      "metadata": {
        "id": "75Xo-sRXnEuw"
      },
      "source": [
        "#encoder.save"
      ],
      "execution_count": null,
      "outputs": []
    },
    {
      "cell_type": "code",
      "metadata": {
        "id": "SQnbrEUV5cFu",
        "outputId": "18ad52fd-eaa9-44d0-cfe1-7bc36a569257",
        "colab": {
          "base_uri": "https://localhost:8080/"
        }
      },
      "source": [
        "#ls '../../../My Drive/tf_outputs/3D_CCVAE_Weights/lol'"
      ],
      "execution_count": null,
      "outputs": [
        {
          "output_type": "stream",
          "text": [
            "checkpoint  lol.data-00000-of-00001  lol.index\n"
          ],
          "name": "stdout"
        }
      ]
    },
    {
      "cell_type": "markdown",
      "metadata": {
        "id": "LAbH8lm-nXUt"
      },
      "source": [
        "TRAIN THE CONTRASTIVE VAE"
      ]
    },
    {
      "cell_type": "code",
      "metadata": {
        "id": "koVuSnmjnExm",
        "outputId": "d620bb61-f5af-4558-f6d8-89da9f8785fc",
        "colab": {
          "base_uri": "https://localhost:8080/"
        }
      },
      "source": [
        "cvae, cvae_fg, z_encoder, s_encoder, cvae_decoder = get_MRI_CCVAE_3D()\n",
        "#weights_fn = '../tf_outputs/3D_CCVAE_Weights/lol'\n",
        "weights_fn = '../../../My Drive/tf_outputs/3D_CCVAE_Weights/lol'\n",
        "cvae.load_weights(weights_fn)"
      ],
      "execution_count": null,
      "outputs": [
        {
          "output_type": "execute_result",
          "data": {
            "text/plain": [
              "<tensorflow.python.training.tracking.util.CheckpointLoadStatus at 0x7f5343805d30>"
            ]
          },
          "metadata": {
            "tags": []
          },
          "execution_count": 78
        }
      ]
    },
    {
      "cell_type": "code",
      "metadata": {
        "id": "RYMZAoHJM8Jr"
      },
      "source": [
        "#cvae.save_weights(weights_fn)"
      ],
      "execution_count": null,
      "outputs": []
    },
    {
      "cell_type": "code",
      "metadata": {
        "id": "dk3r1Bqk5eTF",
        "outputId": "c5b33ed8-f0d2-4b2c-9772-5a01aead3cee",
        "colab": {
          "base_uri": "https://localhost:8080/"
        }
      },
      "source": [
        "plt.figure(figsize=(12,5))\n",
        "plt.subplot(1,4,1)\n",
        "\n",
        "plt.imshow(cvae.predict([TD_batch,DX_batch])[0][0,32,:,:,0])\n",
        "plt.subplot(1,4,2)\n",
        "\n",
        "plt.imshow(cvae_decoder.predict(np.random.randn(3,4))[0,32,:,:,0])\n",
        "plt.subplot(1,4,3)\n",
        "\n",
        "arr = z_encoder.predict(ABIDE_data)[2]\n",
        "plt.plot(arr[dxArr==1,0],arr[dxArr==1,1],'b.',markersize=15,alpha=.3)\n",
        "plt.plot(arr[dxArr==2,0],arr[dxArr==2,1],'r.',markersize=15,alpha=.3)\n",
        "plt.legend(['TD','ASD'])\n",
        "\n",
        "plt.subplot(1,4,4)\n",
        "arr = s_encoder.predict(ABIDE_data)[2]\n",
        "plt.plot(arr[dxArr==1,0],arr[dxArr==1,1],'b.',markersize=15,alpha=.3)\n",
        "plt.plot(arr[dxArr==2,0],arr[dxArr==2,1],'r.',markersize=15,alpha=.3)\n",
        "plt.legend(['TD','ASD'])"
      ],
      "execution_count": null,
      "outputs": [
        {
          "output_type": "execute_result",
          "data": {
            "text/plain": [
              "<matplotlib.legend.Legend at 0x7f533f16bf28>"
            ]
          },
          "metadata": {
            "tags": []
          },
          "execution_count": 92
        },
        {
          "output_type": "display_data",
          "data": {
            "image/png": "[encoded data removed]",
            "text/plain": [
              "<Figure size 864x360 with 4 Axes>"
            ]
          },
          "metadata": {
            "tags": [],
            "needs_background": "light"
          }
        }
      ]
    },
    {
      "cell_type": "code",
      "metadata": {
        "id": "g3QxkVERN0zd",
        "outputId": "a1c82f68-d971-48e2-90e6-15bfb62e7a53",
        "colab": {
          "base_uri": "https://localhost:8080/"
        }
      },
      "source": [
        "#if all((np.mod(i,10)==0,np.isnan(history)==False)):\n"
      ],
      "execution_count": null,
      "outputs": [
        {
          "output_type": "execute_result",
          "data": {
            "text/plain": [
              "False"
            ]
          },
          "metadata": {
            "tags": []
          },
          "execution_count": 87
        }
      ]
    },
    {
      "cell_type": "code",
      "metadata": {
        "id": "2AQMZ8Iw5Y_x",
        "outputId": "d6ec1cd4-bb39-479e-c94f-18f32f2d4b4e",
        "colab": {
          "base_uri": "https://localhost:8080/"
        }
      },
      "source": [
        "batch_size = 16\n",
        "n_iter = 1000\n",
        "t0 = now()\n",
        "for i in range(n_iter):\n",
        "  #DX_subs,TD_subs\n",
        "  history = cvae.train_on_batch([DX_subs[np.random.randint(low=0,high=DX_subs.shape[0],size=batch_size),:,:,:],TD_subs[np.random.randint(low=0,high=TD_subs.shape[0],size=batch_size),:,:,:]])\n",
        "  \n",
        "  if np.mod(i,5)==0:\n",
        "    print(f\"{i}/{n_iter} | loss: {history} | time elapsed: {now()-t0}\")\n",
        "\n",
        "  if all((np.mod(i,25)==0,np.isnan(history)==False)):\n",
        "    cvae.save_weights(weights_fn)"
      ],
      "execution_count": null,
      "outputs": [
        {
          "output_type": "stream",
          "text": [
            "0/1000 | loss: 4508.2626953125 | time elapsed: 0:00:10.613372\n",
            "5/1000 | loss: 4254.154296875 | time elapsed: 0:01:13.892250\n",
            "10/1000 | loss: 4259.27001953125 | time elapsed: 0:02:07.436637\n",
            "15/1000 | loss: 4444.15380859375 | time elapsed: 0:03:00.921863\n",
            "20/1000 | loss: 4706.26318359375 | time elapsed: 0:03:54.168451\n",
            "25/1000 | loss: 4320.818359375 | time elapsed: 0:04:47.480849\n",
            "30/1000 | loss: 4280.984375 | time elapsed: 0:05:47.077133\n",
            "35/1000 | loss: 4707.63134765625 | time elapsed: 0:06:39.928210\n",
            "40/1000 | loss: 4621.5595703125 | time elapsed: 0:07:32.931718\n",
            "45/1000 | loss: 3879.11865234375 | time elapsed: 0:08:25.500740\n",
            "50/1000 | loss: 4512.4765625 | time elapsed: 0:09:18.446076\n",
            "55/1000 | loss: 4329.62353515625 | time elapsed: 0:10:20.653868\n",
            "60/1000 | loss: 3863.615478515625 | time elapsed: 0:11:12.411034\n",
            "65/1000 | loss: 3906.689453125 | time elapsed: 0:12:04.497094\n",
            "70/1000 | loss: 4402.91015625 | time elapsed: 0:12:56.320918\n",
            "75/1000 | loss: 3986.94189453125 | time elapsed: 0:13:48.136114\n",
            "80/1000 | loss: 3901.018310546875 | time elapsed: 0:14:46.759743\n",
            "85/1000 | loss: 4036.8359375 | time elapsed: 0:15:38.544417\n",
            "90/1000 | loss: 4239.857421875 | time elapsed: 0:16:30.141658\n",
            "95/1000 | loss: 4047.6962890625 | time elapsed: 0:17:21.903992\n",
            "100/1000 | loss: 4541.34130859375 | time elapsed: 0:18:13.885868\n",
            "105/1000 | loss: 4641.634765625 | time elapsed: 0:19:14.903961\n",
            "110/1000 | loss: 3813.4140625 | time elapsed: 0:20:06.600841\n",
            "115/1000 | loss: 4176.404296875 | time elapsed: 0:20:58.050257\n",
            "120/1000 | loss: 3703.4970703125 | time elapsed: 0:21:49.512201\n",
            "125/1000 | loss: 4068.236572265625 | time elapsed: 0:22:41.180128\n",
            "130/1000 | loss: 4125.6396484375 | time elapsed: 0:23:39.505541\n",
            "135/1000 | loss: 4143.27099609375 | time elapsed: 0:24:30.980908\n",
            "140/1000 | loss: 4050.77587890625 | time elapsed: 0:25:22.517746\n",
            "145/1000 | loss: 3627.621337890625 | time elapsed: 0:26:14.222750\n",
            "150/1000 | loss: 4246.53466796875 | time elapsed: 0:27:05.793807\n",
            "155/1000 | loss: 4096.845703125 | time elapsed: 0:28:03.891939\n",
            "160/1000 | loss: 4113.33984375 | time elapsed: 0:28:56.110107\n",
            "165/1000 | loss: 3897.165771484375 | time elapsed: 0:29:47.561498\n",
            "170/1000 | loss: 4070.5673828125 | time elapsed: 0:30:40.793168\n",
            "175/1000 | loss: 3996.30810546875 | time elapsed: 0:31:32.430246\n",
            "180/1000 | loss: 3621.8701171875 | time elapsed: 0:32:30.711288\n",
            "185/1000 | loss: 3850.84033203125 | time elapsed: 0:33:23.109147\n",
            "190/1000 | loss: 3927.186767578125 | time elapsed: 0:34:15.051028\n",
            "195/1000 | loss: 3641.2822265625 | time elapsed: 0:35:08.128889\n",
            "200/1000 | loss: 3882.6962890625 | time elapsed: 0:36:00.175448\n",
            "205/1000 | loss: 3985.140625 | time elapsed: 0:36:56.256279\n",
            "210/1000 | loss: 3449.927978515625 | time elapsed: 0:37:49.112944\n",
            "215/1000 | loss: 3778.57861328125 | time elapsed: 0:38:41.110606\n",
            "220/1000 | loss: 3879.602294921875 | time elapsed: 0:39:36.230313\n",
            "225/1000 | loss: 3598.1015625 | time elapsed: 0:40:28.893392\n",
            "230/1000 | loss: 3619.63232421875 | time elapsed: 0:41:24.591675\n",
            "235/1000 | loss: 3887.0107421875 | time elapsed: 0:42:20.924374\n",
            "240/1000 | loss: 3870.7763671875 | time elapsed: 0:43:12.612628\n",
            "245/1000 | loss: 3541.38037109375 | time elapsed: 0:44:04.546556\n",
            "250/1000 | loss: 3583.33154296875 | time elapsed: 0:44:57.681306\n",
            "255/1000 | loss: 3962.1123046875 | time elapsed: 0:45:52.884019\n",
            "260/1000 | loss: 3682.085693359375 | time elapsed: 0:46:48.721123\n",
            "265/1000 | loss: 3712.07177734375 | time elapsed: 0:47:40.669048\n",
            "270/1000 | loss: 3797.68212890625 | time elapsed: 0:48:32.161739\n",
            "275/1000 | loss: 3992.244140625 | time elapsed: 0:49:25.447272\n",
            "280/1000 | loss: 3809.32275390625 | time elapsed: 0:50:21.307770\n",
            "285/1000 | loss: 4118.29638671875 | time elapsed: 0:51:12.659297\n",
            "290/1000 | loss: 3709.268310546875 | time elapsed: 0:52:08.137547\n",
            "295/1000 | loss: 3406.0908203125 | time elapsed: 0:52:59.773429\n",
            "300/1000 | loss: 3630.01025390625 | time elapsed: 0:53:51.120930\n",
            "305/1000 | loss: 3815.155029296875 | time elapsed: 0:54:47.653805\n",
            "310/1000 | loss: 3613.65625 | time elapsed: 0:55:39.123032\n",
            "315/1000 | loss: 3488.589599609375 | time elapsed: 0:56:33.567302\n",
            "320/1000 | loss: 3595.231689453125 | time elapsed: 0:57:26.726409\n",
            "325/1000 | loss: 3786.39599609375 | time elapsed: 0:58:18.112035\n",
            "330/1000 | loss: 3689.650634765625 | time elapsed: 0:59:18.630665\n",
            "335/1000 | loss: 3583.10595703125 | time elapsed: 1:00:10.658032\n",
            "340/1000 | loss: 3711.08544921875 | time elapsed: 1:01:02.462855\n",
            "345/1000 | loss: 3530.093017578125 | time elapsed: 1:01:56.939342\n",
            "350/1000 | loss: 3745.60546875 | time elapsed: 1:02:49.571198\n",
            "355/1000 | loss: 3444.056640625 | time elapsed: 1:03:47.715382\n",
            "360/1000 | loss: 4152.59912109375 | time elapsed: 1:04:46.441590\n",
            "365/1000 | loss: 3779.68603515625 | time elapsed: 1:05:40.983318\n",
            "370/1000 | loss: 3698.791015625 | time elapsed: 1:06:35.681452\n",
            "375/1000 | loss: 3992.8916015625 | time elapsed: 1:07:29.213863\n",
            "380/1000 | loss: 3431.1767578125 | time elapsed: 1:08:28.464885\n",
            "385/1000 | loss: 4094.7509765625 | time elapsed: 1:09:29.475931\n",
            "390/1000 | loss: 3853.48583984375 | time elapsed: 1:10:24.482506\n",
            "395/1000 | loss: 3732.19091796875 | time elapsed: 1:11:17.767989\n",
            "400/1000 | loss: 3558.07861328125 | time elapsed: 1:12:11.401277\n",
            "405/1000 | loss: 3620.11181640625 | time elapsed: 1:13:07.779942\n",
            "410/1000 | loss: 3573.795654296875 | time elapsed: 1:14:03.260853\n",
            "415/1000 | loss: 3715.3564453125 | time elapsed: 1:14:59.659750\n",
            "420/1000 | loss: 3441.546142578125 | time elapsed: 1:15:53.838387\n",
            "425/1000 | loss: 3440.8876953125 | time elapsed: 1:16:47.777162\n",
            "430/1000 | loss: 3935.8525390625 | time elapsed: 1:17:43.998051\n",
            "435/1000 | loss: 4011.720703125 | time elapsed: 1:18:36.940534\n",
            "440/1000 | loss: 3493.412109375 | time elapsed: 1:19:31.408799\n",
            "445/1000 | loss: 3527.61865234375 | time elapsed: 1:20:24.858372\n",
            "450/1000 | loss: 3914.401123046875 | time elapsed: 1:21:21.979639\n",
            "455/1000 | loss: 3594.08056640625 | time elapsed: 1:22:17.612442\n",
            "460/1000 | loss: 3693.07861328125 | time elapsed: 1:23:10.038131\n",
            "465/1000 | loss: 3586.72509765625 | time elapsed: 1:24:06.883370\n",
            "470/1000 | loss: 4039.3740234375 | time elapsed: 1:24:58.553445\n",
            "475/1000 | loss: 3375.536376953125 | time elapsed: 1:25:50.561581\n",
            "480/1000 | loss: 3392.123046875 | time elapsed: 1:26:50.280479\n",
            "485/1000 | loss: 3428.51708984375 | time elapsed: 1:27:42.016444\n",
            "490/1000 | loss: 3712.166748046875 | time elapsed: 1:28:35.693177\n",
            "495/1000 | loss: 3473.658935546875 | time elapsed: 1:29:27.721576\n",
            "500/1000 | loss: 3618.4892578125 | time elapsed: 1:30:19.364805\n",
            "505/1000 | loss: 3555.135009765625 | time elapsed: 1:31:20.823363\n",
            "510/1000 | loss: 3521.798828125 | time elapsed: 1:32:16.118922\n",
            "515/1000 | loss: 3575.61376953125 | time elapsed: 1:33:09.024856\n",
            "520/1000 | loss: 3681.5947265625 | time elapsed: 1:34:03.892286\n",
            "525/1000 | loss: 3446.039794921875 | time elapsed: 1:34:57.297820\n",
            "530/1000 | loss: 3508.430908203125 | time elapsed: 1:35:57.077015\n",
            "535/1000 | loss: 3636.4384765625 | time elapsed: 1:36:51.739262\n",
            "540/1000 | loss: 3431.904296875 | time elapsed: 1:37:46.907715\n",
            "545/1000 | loss: 3913.66748046875 | time elapsed: 1:38:47.694276\n",
            "550/1000 | loss: 3446.44189453125 | time elapsed: 1:39:43.263219\n",
            "555/1000 | loss: 3918.95068359375 | time elapsed: 1:40:46.813652\n",
            "560/1000 | loss: 3477.06884765625 | time elapsed: 1:41:45.235368\n",
            "565/1000 | loss: 3182.12548828125 | time elapsed: 1:42:43.710468\n",
            "570/1000 | loss: 3370.946533203125 | time elapsed: 1:43:42.477044\n",
            "575/1000 | loss: 3563.74658203125 | time elapsed: 1:44:39.675543\n",
            "580/1000 | loss: 3306.998046875 | time elapsed: 1:45:40.687502\n",
            "585/1000 | loss: 3767.4189453125 | time elapsed: 1:46:43.260719\n",
            "590/1000 | loss: 3504.67236328125 | time elapsed: 1:47:41.437143\n",
            "595/1000 | loss: 3849.76611328125 | time elapsed: 1:48:41.455515\n",
            "600/1000 | loss: 3296.0068359375 | time elapsed: 1:49:38.909158\n",
            "605/1000 | loss: 3434.00830078125 | time elapsed: 1:50:41.163460\n",
            "610/1000 | loss: 3745.58056640625 | time elapsed: 1:51:43.439039\n",
            "615/1000 | loss: 3270.80419921875 | time elapsed: 1:52:42.167930\n",
            "620/1000 | loss: 3546.35791015625 | time elapsed: 1:53:42.705973\n",
            "625/1000 | loss: 3529.43408203125 | time elapsed: 1:54:41.228908\n",
            "630/1000 | loss: 2938.3330078125 | time elapsed: 1:55:43.525736\n",
            "635/1000 | loss: 3433.97998046875 | time elapsed: 1:56:47.239485\n",
            "640/1000 | loss: 3608.57861328125 | time elapsed: 1:57:45.616610\n",
            "645/1000 | loss: 3454.1259765625 | time elapsed: 1:58:46.800459\n",
            "650/1000 | loss: 3693.873291015625 | time elapsed: 1:59:45.260750\n",
            "655/1000 | loss: 3313.353271484375 | time elapsed: 2:00:53.026508\n",
            "660/1000 | loss: 3348.377685546875 | time elapsed: 2:01:52.446501\n",
            "665/1000 | loss: 3621.412841796875 | time elapsed: 2:02:52.139177\n",
            "670/1000 | loss: 3524.212890625 | time elapsed: 2:03:53.955601\n",
            "675/1000 | loss: 3443.690673828125 | time elapsed: 2:04:53.003914\n",
            "680/1000 | loss: 4074.9248046875 | time elapsed: 2:06:01.535458\n",
            "685/1000 | loss: 3715.39453125 | time elapsed: 2:07:00.901312\n",
            "690/1000 | loss: 3283.39208984375 | time elapsed: 2:08:01.805154\n",
            "695/1000 | loss: 3223.3046875 | time elapsed: 2:09:01.563549\n",
            "700/1000 | loss: 3462.663330078125 | time elapsed: 2:10:00.966055\n",
            "705/1000 | loss: 3753.970703125 | time elapsed: 2:11:08.073681\n",
            "710/1000 | loss: 3654.096435546875 | time elapsed: 2:12:07.117607\n",
            "715/1000 | loss: 3386.552734375 | time elapsed: 2:13:08.172567\n",
            "720/1000 | loss: 3466.7431640625 | time elapsed: 2:14:07.070742\n",
            "725/1000 | loss: 3424.65283203125 | time elapsed: 2:15:07.972428\n",
            "730/1000 | loss: 3431.45556640625 | time elapsed: 2:16:11.204581\n",
            "735/1000 | loss: 3346.138916015625 | time elapsed: 2:17:10.736841\n",
            "740/1000 | loss: 3439.215576171875 | time elapsed: 2:18:15.553145\n",
            "745/1000 | loss: 3622.21435546875 | time elapsed: 2:19:15.077976\n",
            "750/1000 | loss: 3663.3740234375 | time elapsed: 2:20:15.634680\n",
            "755/1000 | loss: 3294.539306640625 | time elapsed: 2:21:18.199349\n",
            "760/1000 | loss: 3481.9111328125 | time elapsed: 2:22:18.866246\n",
            "765/1000 | loss: 3240.122314453125 | time elapsed: 2:23:18.788344\n",
            "770/1000 | loss: 3293.85693359375 | time elapsed: 2:24:18.438783\n",
            "775/1000 | loss: 3475.4755859375 | time elapsed: 2:25:22.811484\n",
            "780/1000 | loss: 3174.1728515625 | time elapsed: 2:26:25.272848\n",
            "785/1000 | loss: 3333.391357421875 | time elapsed: 2:27:30.085370\n",
            "790/1000 | loss: 3169.343017578125 | time elapsed: 2:28:28.997914\n",
            "795/1000 | loss: 3413.188232421875 | time elapsed: 2:29:30.533051\n",
            "800/1000 | loss: 3456.23486328125 | time elapsed: 2:30:30.140188\n",
            "805/1000 | loss: 3349.015625 | time elapsed: 2:31:33.646776\n",
            "810/1000 | loss: 3722.81689453125 | time elapsed: 2:32:38.777831\n",
            "815/1000 | loss: 3777.24560546875 | time elapsed: 2:33:39.005246\n",
            "820/1000 | loss: 3840.637451171875 | time elapsed: 2:34:40.512350\n",
            "825/1000 | loss: 3635.739501953125 | time elapsed: 2:35:40.515072\n",
            "830/1000 | loss: 3145.52001953125 | time elapsed: 2:36:47.146996\n",
            "835/1000 | loss: 3326.58642578125 | time elapsed: 2:37:48.515757\n",
            "840/1000 | loss: 3108.994140625 | time elapsed: 2:38:48.525430\n",
            "845/1000 | loss: 3269.140625 | time elapsed: 2:39:50.554970\n",
            "850/1000 | loss: 3674.453857421875 | time elapsed: 2:40:50.751128\n",
            "855/1000 | loss: 3961.74462890625 | time elapsed: 2:42:00.395917\n",
            "860/1000 | loss: 3344.607421875 | time elapsed: 2:43:00.802468\n",
            "865/1000 | loss: 3433.4345703125 | time elapsed: 2:44:03.014575\n",
            "870/1000 | loss: 3533.61474609375 | time elapsed: 2:45:03.012439\n",
            "875/1000 | loss: 3210.0546875 | time elapsed: 2:46:03.080476\n",
            "880/1000 | loss: 3490.87646484375 | time elapsed: 2:47:11.136276\n",
            "885/1000 | loss: 3722.0205078125 | time elapsed: 2:48:10.535982\n",
            "890/1000 | loss: 3196.73876953125 | time elapsed: 2:49:11.952168\n",
            "895/1000 | loss: 2966.57275390625 | time elapsed: 2:50:11.333709\n",
            "900/1000 | loss: 3529.40673828125 | time elapsed: 2:51:13.009741\n",
            "905/1000 | loss: 3447.2412109375 | time elapsed: 2:52:17.073870\n",
            "910/1000 | loss: 3299.754150390625 | time elapsed: 2:53:17.840614\n",
            "915/1000 | loss: 3382.966552734375 | time elapsed: 2:54:23.798878\n",
            "920/1000 | loss: 3356.521728515625 | time elapsed: 2:55:25.024103\n",
            "925/1000 | loss: 3463.774658203125 | time elapsed: 2:56:27.367229\n",
            "930/1000 | loss: 3374.10693359375 | time elapsed: 2:57:31.788898\n",
            "935/1000 | loss: 3485.9970703125 | time elapsed: 2:58:35.581137\n",
            "940/1000 | loss: 3477.458740234375 | time elapsed: 2:59:37.761571\n",
            "945/1000 | loss: 3321.54248046875 | time elapsed: 3:00:37.553167\n",
            "950/1000 | loss: 3372.78515625 | time elapsed: 3:01:38.959166\n",
            "955/1000 | loss: 3472.0947265625 | time elapsed: 3:02:42.069777\n",
            "960/1000 | loss: 3560.836669921875 | time elapsed: 3:03:43.490400\n",
            "965/1000 | loss: 3324.29150390625 | time elapsed: 3:04:43.537117\n",
            "970/1000 | loss: 3401.90087890625 | time elapsed: 3:05:47.831708\n",
            "975/1000 | loss: 3448.71875 | time elapsed: 3:06:45.958403\n",
            "980/1000 | loss: 3578.54052734375 | time elapsed: 3:07:47.218744\n",
            "985/1000 | loss: 3267.62353515625 | time elapsed: 3:08:49.112030\n",
            "990/1000 | loss: 3611.790771484375 | time elapsed: 3:09:44.956856\n",
            "995/1000 | loss: 3534.77490234375 | time elapsed: 3:10:41.546051\n"
          ],
          "name": "stdout"
        }
      ]
    },
    {
      "cell_type": "code",
      "metadata": {
        "id": "vg5e18bWG3Sz"
      },
      "source": [
        "history = cvae.train_on_batch([DX_subs[np.random.randint(low=0,high=DX_subs.shape[0],size=batch_size),:,:,:],TD_subs[np.random.randint(low=0,high=TD_subs.shape[0],size=batch_size),:,:,:]])"
      ],
      "execution_count": null,
      "outputs": []
    },
    {
      "cell_type": "code",
      "metadata": {
        "id": "XtRF3UerHBfV",
        "outputId": "25f757e5-8579-42f0-bf08-d86d7a3b4be3",
        "colab": {
          "base_uri": "https://localhost:8080/"
        }
      },
      "source": [
        ""
      ],
      "execution_count": null,
      "outputs": [
        {
          "output_type": "execute_result",
          "data": {
            "text/plain": [
              "117466.5859375"
            ]
          },
          "metadata": {
            "tags": []
          },
          "execution_count": 69
        }
      ]
    },
    {
      "cell_type": "code",
      "metadata": {
        "id": "dVA0MU3Nnc6C"
      },
      "source": [
        "# for i in range(100):\n",
        "#   cvae.fit([DX_batch,TD_batch],epochs=10)\n",
        "#   cvae.save_weights('../tf_outputs/3D_CCVAE_Weights/lol')"
      ],
      "execution_count": null,
      "outputs": []
    },
    {
      "cell_type": "code",
      "metadata": {
        "id": "4zgFjRh_nc8W"
      },
      "source": [
        "# cvae.fit([DX_batch,TD_batch],epochs=1000)\n",
        "# cvae.save_weights('../tf_outputs/3D_CCVAE_Weights/lol')"
      ],
      "execution_count": null,
      "outputs": []
    },
    {
      "cell_type": "code",
      "metadata": {
        "id": "8lCerDpLB-V_"
      },
      "source": [
        "# cvae, cvae_fg, z_encoder, s_encoder, cvae_decoder = get_celeb_cvae(input_shape=(width, height, 3), latent_dim=latent_dim, bias=True, disentangle=True, gamma=1)\n",
        "\n",
        "# for i in tqdm(range(10000)):\n",
        "#   #DX_subs,TD_subs\n",
        "#   #cvae.train_on_batch([DX_subs[np.random.randint(0,DX_subs.shape[0],batch_size),:,:,:],TD_subs[np.random.randint(0,TD_subs.shape[0],batch_size),:,:,:]])\n",
        "#   cvae.train_on_batch([TD_subs[np.random.randint(0,TD_subs.shape[0],batch_size),:,:,:],DX_subs[np.random.randint(0,DX_subs.shape[0],batch_size),:,:,:]])"
      ],
      "execution_count": null,
      "outputs": []
    },
    {
      "cell_type": "code",
      "metadata": {
        "id": "K8qMijA49S5h"
      },
      "source": [
        "# plt.figure(figsize=(12,8))\n",
        "# for i in range(4):\n",
        "#   plt.subplot(1,4,i+1)\n",
        "#   plt.imshow(ABIDE_data_3d[np.random.randint(1,high=ABIDE_data_3d.shape[0]),:,:,0])\n",
        "#   plt.xticks([]);plt.yticks([])\n",
        "\n",
        "# plt.figure(figsize=(12,8))\n",
        "# for i in range(16):\n",
        "#   plt.subplot(4,4,i+1)\n",
        "#   plt.imshow(cvae_decoder.predict(np.random.randn(1,4))[0,:,:,0])\n",
        "#   plt.xticks([]);plt.yticks([])"
      ],
      "execution_count": null,
      "outputs": []
    },
    {
      "cell_type": "code",
      "metadata": {
        "id": "xLQ5tGLdES0y"
      },
      "source": [
        "# plt.figure(figsize=(12,4))\n",
        "# plt.subplot(1,3,1)\n",
        "# z_mean, z_log_var, z = z_encoder(ABIDE_data_3d[:,:,:,:])\n",
        "# x = z\n",
        "# plt.scatter(x[:,0],x[:,1],c=dxArr)\n",
        "# plt.title('background')\n",
        "\n",
        "# plt.subplot(1,3,2)\n",
        "# s_mean, s_log_var, s = s_encoder(ABIDE_data_3d[:,:,:,:])\n",
        "# x = s\n",
        "# plt.scatter(x[:,0],x[:,1],c=dxArr)\n",
        "# plt.title('salient')\n",
        "\n",
        "# plt.subplot(1,3,3)\n",
        "# v_mean, v_log_var, v = encoder(ABIDE_data_3d[:,:,:,:])\n",
        "# x = v\n",
        "# plt.scatter(x[:,0],x[:,1],c=dxArr)\n",
        "# plt.title('v')\n",
        "\n",
        "# plt.figure(figsize=(6,4))\n",
        "# plt.bar([0,1,2],[silhouette_score(z,dxArr),silhouette_score(s,dxArr),silhouette_score(v,dxArr)])\n",
        "# plt.xticks([0,1,2],labels=['background','salient','vae'])"
      ],
      "execution_count": null,
      "outputs": []
    },
    {
      "cell_type": "code",
      "metadata": {
        "id": "mC9qEQTv3in6"
      },
      "source": [
        ""
      ],
      "execution_count": null,
      "outputs": []
    },
    {
      "cell_type": "code",
      "metadata": {
        "id": "UY09D1uvDNwu"
      },
      "source": [
        "# from scipy.spatial.distance import pdist\n",
        "# from scipy.spatial.distance import squareform\n",
        "\n",
        "# arr = [ABIDE_data_3d[s,:,:,:].flatten() for s in range(ABIDE_data_3d.shape[0])]\n",
        "# arr = np.array(arr)"
      ],
      "execution_count": null,
      "outputs": []
    },
    {
      "cell_type": "code",
      "metadata": {
        "id": "K0Cv_GnYuLk9"
      },
      "source": [
        "\n",
        "# arrs = (np.corrcoef(arr),1-squareform(pdist(v)),1-squareform(pdist(z)),1-squareform(pdist(s)))\n",
        "# ttls = ['anatomy','VAE','Background','Salient']\n",
        "# plt.figure(figsize=(16,12))\n",
        "# for i in range(4):\n",
        "#   plt.subplot(2,2,i+1)\n",
        "#   sns.heatmap(arrs[i])\n",
        "#   plt.title(ttls[i])"
      ],
      "execution_count": null,
      "outputs": []
    },
    {
      "cell_type": "code",
      "metadata": {
        "id": "1-l1bgUPuLlA"
      },
      "source": [
        "# Get avg e dist between ASD and TD\n",
        "# What is the 258 on the bottlenack"
      ],
      "execution_count": null,
      "outputs": []
    },
    {
      "cell_type": "code",
      "metadata": {
        "id": "WMn89t84uLlD"
      },
      "source": [
        "# s_encoder.summary()"
      ],
      "execution_count": null,
      "outputs": []
    },
    {
      "cell_type": "code",
      "metadata": {
        "id": "mWQ9Ys0PuLlF"
      },
      "source": [
        ""
      ],
      "execution_count": null,
      "outputs": []
    },
    {
      "cell_type": "code",
      "metadata": {
        "id": "OJwaoBgUuLlH"
      },
      "source": [
        ""
      ],
      "execution_count": null,
      "outputs": []
    },
    {
      "cell_type": "code",
      "metadata": {
        "id": "h5HCL5GkuLlJ"
      },
      "source": [
        ""
      ],
      "execution_count": null,
      "outputs": []
    }
  ]
}
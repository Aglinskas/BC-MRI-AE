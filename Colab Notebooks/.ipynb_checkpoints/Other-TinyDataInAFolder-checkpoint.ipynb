{
 "cells": [
  {
   "cell_type": "code",
   "execution_count": 1,
   "metadata": {
    "executionInfo": {
     "elapsed": 607,
     "status": "ok",
     "timestamp": 1604342220362,
     "user": {
      "displayName": "Aidas Aglinskas",
      "photoUrl": "",
      "userId": "17395860064084454693"
     },
     "user_tz": -60
    },
    "id": "6ttFIE3lfl2d"
   },
   "outputs": [],
   "source": [
    "import os\n",
    "import numpy as np"
   ]
  },
  {
   "cell_type": "code",
   "execution_count": 2,
   "metadata": {
    "colab": {
     "base_uri": "https://localhost:8080/"
    },
    "executionInfo": {
     "elapsed": 21602,
     "status": "ok",
     "timestamp": 1604342252127,
     "user": {
      "displayName": "Aidas Aglinskas",
      "photoUrl": "",
      "userId": "17395860064084454693"
     },
     "user_tz": -60
    },
    "id": "GLgUqeDKPzuz",
    "outputId": "45d8a501-b90c-44df-c6db-d143968b0b4e"
   },
   "outputs": [
    {
     "name": "stdout",
     "output_type": "stream",
     "text": [
      "Mounted at /content/drive\n",
      "done, mounted\n"
     ]
    }
   ],
   "source": [
    "from google.colab import drive\n",
    "drive.mount(\"/content/drive\")\n",
    "print('done, mounted')"
   ]
  },
  {
   "cell_type": "code",
   "execution_count": 3,
   "metadata": {
    "colab": {
     "base_uri": "https://localhost:8080/"
    },
    "executionInfo": {
     "elapsed": 15553,
     "status": "ok",
     "timestamp": 1604342317649,
     "user": {
      "displayName": "Aidas Aglinskas",
      "photoUrl": "",
      "userId": "17395860064084454693"
     },
     "user_tz": -60
    },
    "id": "DTbt2CqDPzxR",
    "outputId": "0b5c6870-2fef-471b-bccd-3542da2e9bb1"
   },
   "outputs": [
    {
     "name": "stdout",
     "output_type": "stream",
     "text": [
      "(1060, 1, 64, 64, 64)\n"
     ]
    }
   ],
   "source": [
    "# data = np.load('/content/drive/My Drive/abide_data_60iso_1060.npy')\n",
    "# print(data.shape)"
   ]
  },
  {
   "cell_type": "code",
   "execution_count": 10,
   "metadata": {
    "executionInfo": {
     "elapsed": 30347,
     "status": "ok",
     "timestamp": 1604342568259,
     "user": {
      "displayName": "Aidas Aglinskas",
      "photoUrl": "",
      "userId": "17395860064084454693"
     },
     "user_tz": -60
    },
    "id": "E_76qq4KPzzm"
   },
   "outputs": [],
   "source": [
    "# nsubs = data.shape[0]\n",
    "# s = 0\n",
    "# [np.save(f'/content/drive/My Drive/BC-MRI-AE/Data/ABIDE-64iso-normed/sub-{s:04}-60iso.npy',data[s,0,:,:,:]) for s in range(nsubs)];"
   ]
  },
  {
   "cell_type": "code",
   "execution_count": 20,
   "metadata": {
    "executionInfo": {
     "elapsed": 475,
     "status": "ok",
     "timestamp": 1604343066245,
     "user": {
      "displayName": "Aidas Aglinskas",
      "photoUrl": "",
      "userId": "17395860064084454693"
     },
     "user_tz": -60
    },
    "id": "XY5kHyinrWkz"
   },
   "outputs": [],
   "source": [
    "# for s in range(data.shape[0]):\n",
    "#   data[s,:,:,:] = (data[s,:,:,:]-data[s,:,:,:].min()) / (data[s,:,:,:].max()-data[s,:,:,:].min())"
   ]
  },
  {
   "cell_type": "code",
   "execution_count": 25,
   "metadata": {
    "executionInfo": {
     "elapsed": 3163,
     "status": "ok",
     "timestamp": 1604343190343,
     "user": {
      "displayName": "Aidas Aglinskas",
      "photoUrl": "",
      "userId": "17395860064084454693"
     },
     "user_tz": -60
    },
    "id": "-5PAnJczcfBv"
   },
   "outputs": [],
   "source": [
    "#data = np.load('/content/drive/My Drive/BC-MRI-AE/SFARI_DATA_for_CAE_64.npy')\n",
    "#print(data.shape)\n",
    "\n",
    "# nsubs = data.shape[0]\n",
    "# s = 0\n",
    "# ofn = '/content/drive/My Drive/BC-MRI-AE/Data/SFARI-64iso-normed'\n",
    "# [np.save(f'{ofn}/sub-{s:04}-64iso.npy',data[s,0,:,:,:]) for s in range(nsubs)];"
   ]
  },
  {
   "cell_type": "code",
   "execution_count": 17,
   "metadata": {
    "colab": {
     "base_uri": "https://localhost:8080/"
    },
    "executionInfo": {
     "elapsed": 627,
     "status": "ok",
     "timestamp": 1604342987378,
     "user": {
      "displayName": "Aidas Aglinskas",
      "photoUrl": "",
      "userId": "17395860064084454693"
     },
     "user_tz": -60
    },
    "id": "bjXikoR3dceV",
    "outputId": "265d11a1-52b3-4050-b860-70b83e4298e3"
   },
   "outputs": [
    {
     "data": {
      "text/plain": [
       "True"
      ]
     },
     "execution_count": 17,
     "metadata": {
      "tags": []
     },
     "output_type": "execute_result"
    }
   ],
   "source": [
    "# os.path.exists('/content/drive/My Drive/BC-MRI-AE/SFARI_DATA_for_CAE_64.npy')"
   ]
  },
  {
   "cell_type": "code",
   "execution_count": 24,
   "metadata": {
    "colab": {
     "base_uri": "https://localhost:8080/",
     "height": 35
    },
    "executionInfo": {
     "elapsed": 695,
     "status": "ok",
     "timestamp": 1604343174704,
     "user": {
      "displayName": "Aidas Aglinskas",
      "photoUrl": "",
      "userId": "17395860064084454693"
     },
     "user_tz": -60
    },
    "id": "ScuYMrjLpo-p",
    "outputId": "baa3d6d5-52a6-4ee4-ee6e-28f13f669ee7"
   },
   "outputs": [
    {
     "data": {
      "application/vnd.google.colaboratory.intrinsic+json": {
       "type": "string"
      },
      "text/plain": [
       "'/content/drive/My Drive/BC-MRI-AE/Data/SFARI-64iso-normed/sub-0000-64iso.npy'"
      ]
     },
     "execution_count": 24,
     "metadata": {
      "tags": []
     },
     "output_type": "execute_result"
    }
   ],
   "source": [
    "# f'{ofn}/sub-{s:04}-64iso.npy'"
   ]
  },
  {
   "cell_type": "code",
   "execution_count": null,
   "metadata": {
    "id": "YK6plvnXppA3"
   },
   "outputs": [],
   "source": []
  },
  {
   "cell_type": "code",
   "execution_count": null,
   "metadata": {
    "id": "k39o6LekppDS"
   },
   "outputs": [],
   "source": []
  },
  {
   "cell_type": "code",
   "execution_count": null,
   "metadata": {
    "id": "PQSmgau7ppFt"
   },
   "outputs": [],
   "source": []
  },
  {
   "cell_type": "code",
   "execution_count": null,
   "metadata": {
    "id": "9lYXwfqUppIC"
   },
   "outputs": [],
   "source": []
  },
  {
   "cell_type": "code",
   "execution_count": null,
   "metadata": {
    "id": "Prh1klboppKr"
   },
   "outputs": [],
   "source": []
  },
  {
   "cell_type": "code",
   "execution_count": null,
   "metadata": {
    "id": "jlnFRVNIppNi"
   },
   "outputs": [],
   "source": []
  },
  {
   "cell_type": "code",
   "execution_count": null,
   "metadata": {
    "id": "NkGPm4iMppQH"
   },
   "outputs": [],
   "source": []
  }
 ],
 "metadata": {
  "accelerator": "GPU",
  "colab": {
   "authorship_tag": "ABX9TyM51bZqDgr6Xn5Xdq5dJz5H",
   "collapsed_sections": [],
   "name": "Other-TinyDataInAFolder.ipynb",
   "provenance": []
  },
  "kernelspec": {
   "display_name": "Python 3",
   "language": "python",
   "name": "python3"
  },
  "language_info": {
   "codemirror_mode": {
    "name": "ipython",
    "version": 3
   },
   "file_extension": ".py",
   "mimetype": "text/x-python",
   "name": "python",
   "nbconvert_exporter": "python",
   "pygments_lexer": "ipython3",
   "version": "3.7.7"
  }
 },
 "nbformat": 4,
 "nbformat_minor": 4
}

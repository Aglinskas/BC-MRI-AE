{
 "cells": [
  {
   "cell_type": "code",
   "execution_count": 1,
   "metadata": {},
   "outputs": [
    {
     "name": "stdout",
     "output_type": "stream",
     "text": [
      "/mmfs1/data/aglinska/BC-MRI-AE/Colab Notebooks\n"
     ]
    }
   ],
   "source": [
    "cd '/mmfs1/data/aglinska/BC-MRI-AE/Colab Notebooks'"
   ]
  },
  {
   "cell_type": "code",
   "execution_count": 2,
   "metadata": {},
   "outputs": [],
   "source": [
    "import pickle\n",
    "\n",
    "import numpy as np\n",
    "import pandas as pd \n",
    "\n",
    "from importlib import reload\n",
    "\n",
    "import helper_funcs;reload(helper_funcs);from helper_funcs import *\n",
    "import make_models;reload(make_models);from make_models import *\n",
    "\n",
    "from functools import partial\n",
    "from sklearn.decomposition import PCA\n",
    "\n",
    "from matplotlib import pyplot as plt\n",
    "\n",
    "from datetime import datetime\n",
    "\n",
    "import shutil\n",
    "from functools import partial\n",
    "from tqdm import tqdm\n",
    "tqdm = partial(tqdm, position=0, leave=True)\n"
   ]
  },
  {
   "cell_type": "code",
   "execution_count": 3,
   "metadata": {},
   "outputs": [],
   "source": [
    "dataFnOut = '/mmfs1/data/aglinska/BC-MRI-AE/Data/ABIDE-Anat-64iso-S982.npz'\n",
    "dfFnOut = '/mmfs1/data/aglinska/BC-MRI-AE/Data/ABIDE_legend_S982.csv'\n",
    "\n",
    "ABIDE_data = np.load(dataFnOut)['data']\n",
    "df = pd.read_csv(dfFnOut)\n",
    "\n",
    "patients = df['DxGroup'].values==1\n",
    "controls = df['DxGroup'].values==2\n",
    "abide_asd = ABIDE_data[patients,:,:,:]\n",
    "\n",
    "arr = np.load('../Data/SFARI-Anat-64iso-S121.npz')\n",
    "dfs = pd.read_csv('../Data/sfari_legend_S121.csv')\n",
    "\n",
    "SFARI_data = arr['data']\n",
    "SFARI_subs = arr['subs']\n",
    "\n",
    "sfari_subs_td = dfs['family_type'].values=='non-familial-control'\n",
    "sfari_subs_dupl = dfs['family_type'].values=='16p-duplication'\n",
    "sfari_subs_del = dfs['family_type'].values=='16p-deletion'"
   ]
  },
  {
   "cell_type": "code",
   "execution_count": 4,
   "metadata": {},
   "outputs": [],
   "source": [
    "patients = df['DxGroup'].values==1\n",
    "controls = df['DxGroup'].values==2"
   ]
  },
  {
   "cell_type": "code",
   "execution_count": null,
   "metadata": {},
   "outputs": [],
   "source": []
  },
  {
   "cell_type": "code",
   "execution_count": 5,
   "metadata": {},
   "outputs": [
    {
     "name": "stdout",
     "output_type": "stream",
     "text": [
      "ready\n",
      "loading\n",
      "WARNING:tensorflow:Inconsistent references when loading the checkpoint into this object graph. Either the Trackable object references in the Python program have changed in an incompatible way, or the checkpoint was generated in an incompatible program.\n",
      "\n",
      "Two checkpoint references resolved to different objects (<tensorflow.python.keras.engine.base_layer.TensorFlowOpLayer object at 0x15542c140580> and <tensorflow.python.keras.layers.core.Lambda object at 0x155438101e80>).\n"
     ]
    }
   ],
   "source": [
    "# LOAD VAE\n",
    "latent_dim=32;batch_size=64;disentangle=False;gamma=100\n",
    "encoder, decoder, vae = get_MRI_VAE_3D(input_shape=(64, 64, 64, 1), latent_dim=latent_dim, batch_size=batch_size, disentangle=disentangle, gamma=gamma)\n",
    "#fn = '/mmfs1/data/aglinska/tf_outputs/VAE/Jan12th_16d'\n",
    "#fn = '/mmfs1/data/aglinska/tf_outputs/VAE/Feb_26_32DB64G1'\n",
    "#fn = '/mmfs1/data/aglinska/tf_outputs/VAE/Feb_26_32DB64G100_DisTrue'\n",
    "fn = '/mmfs1/data/aglinska/tf_outputs/VAE/APR_4th_D32DTrue_G100'\n",
    "\n",
    "\n",
    "loss = list()\n",
    "print('ready')\n",
    "if os.path.exists(fn+'_loss.pickle'):\n",
    "    print('loading')\n",
    "    vae.load_weights(fn)\n",
    "    loss = pickle.load(open(fn+'_loss.pickle','rb'))"
   ]
  },
  {
   "cell_type": "code",
   "execution_count": 6,
   "metadata": {},
   "outputs": [
    {
     "name": "stdout",
     "output_type": "stream",
     "text": [
      "CPU times: user 986 ms, sys: 520 ms, total: 1.51 s\n",
      "Wall time: 2.74 s\n"
     ]
    },
    {
     "data": {
      "text/plain": [
       "<tensorflow.python.training.tracking.util.CheckpointLoadStatus at 0x15542c0a7640>"
      ]
     },
     "execution_count": 6,
     "metadata": {},
     "output_type": "execute_result"
    }
   ],
   "source": [
    "%%time \n",
    "# LOAD CVAE\n",
    "latent_dim = 16;batch_size = 32;beta = 1;gamma = 100;disentangle = True\n",
    "cvae, z_encoder, s_encoder, cvae_decoder = get_MRI_CCVAE_3D(latent_dim=latent_dim,beta=beta, disentangle=disentangle, gamma=gamma, bias=True, batch_size = batch_size)\n",
    "loss = list()    \n",
    "\n",
    "fdir = '/mmfs1/data/aglinska/tf_outputs/CVAE/'\n",
    "\n",
    "#fn = f'{now().strftime(\"%b%d_%H%M\")}_D{latent_dim}B{beta}G{gamma}_D{disentangle}'\n",
    "fn = 'Feb04_0524_D16B1G100_DTrue'\n",
    "#fn = os.path.join(fdir,'Mar18_1312_CVAE_D16B1G1_adam_rData2')\n",
    "fn = os.path.join(fdir,'Mar20_2125_CVAE_D16B1G1_ADAM_Bspline_r2_new')\n",
    "\n",
    "fn = os.path.join(fdir,fn)\n",
    "fn = '/mmfs1/data/aglinska/tf_outputs/CVAE/Feb23_1551_D16B1G100_DTrue'\n",
    "\n",
    "loss = pickle.load(open(fn+'_loss.pickle','rb'))\n",
    "cvae.load_weights(fn)"
   ]
  },
  {
   "cell_type": "code",
   "execution_count": null,
   "metadata": {},
   "outputs": [],
   "source": []
  },
  {
   "cell_type": "code",
   "execution_count": null,
   "metadata": {},
   "outputs": [],
   "source": []
  },
  {
   "cell_type": "code",
   "execution_count": 23,
   "metadata": {},
   "outputs": [],
   "source": [
    "s_encoder.predict(ABIDE_data[0:50,:,:,:]);"
   ]
  },
  {
   "cell_type": "code",
   "execution_count": 13,
   "metadata": {},
   "outputs": [
    {
     "name": "stdout",
     "output_type": "stream",
     "text": [
      "Model: \"z_encoder\"\n",
      "__________________________________________________________________________________________________\n",
      "Layer (type)                    Output Shape         Param #     Connected to                     \n",
      "==================================================================================================\n",
      "tg_inputs (InputLayer)          [(None, 64, 64, 64,  0                                            \n",
      "__________________________________________________________________________________________________\n",
      "conv3d_2 (Conv3D)               (None, 32, 32, 32, 6 1792        tg_inputs[0][0]                  \n",
      "__________________________________________________________________________________________________\n",
      "conv3d_3 (Conv3D)               (None, 16, 16, 16, 1 221312      conv3d_2[0][0]                   \n",
      "__________________________________________________________________________________________________\n",
      "flatten_1 (Flatten)             (None, 524288)       0           conv3d_3[0][0]                   \n",
      "__________________________________________________________________________________________________\n",
      "dense_3 (Dense)                 (None, 128)          67108992    flatten_1[0][0]                  \n",
      "__________________________________________________________________________________________________\n",
      "z_mean (Dense)                  (None, 16)           2064        dense_3[0][0]                    \n",
      "__________________________________________________________________________________________________\n",
      "z_log_var (Dense)               (None, 16)           2064        dense_3[0][0]                    \n",
      "__________________________________________________________________________________________________\n",
      "z (Lambda)                      (None, 16)           0           z_mean[0][0]                     \n",
      "                                                                 z_log_var[0][0]                  \n",
      "==================================================================================================\n",
      "Total params: 67,336,224\n",
      "Trainable params: 67,336,224\n",
      "Non-trainable params: 0\n",
      "__________________________________________________________________________________________________\n"
     ]
    }
   ],
   "source": [
    "z_encoder.summary()"
   ]
  },
  {
   "cell_type": "code",
   "execution_count": 12,
   "metadata": {},
   "outputs": [
    {
     "name": "stdout",
     "output_type": "stream",
     "text": [
      "Model: \"s_encoder\"\n",
      "__________________________________________________________________________________________________\n",
      "Layer (type)                    Output Shape         Param #     Connected to                     \n",
      "==================================================================================================\n",
      "tg_inputs (InputLayer)          [(None, 64, 64, 64,  0                                            \n",
      "__________________________________________________________________________________________________\n",
      "conv3d_4 (Conv3D)               (None, 32, 32, 32, 6 1792        tg_inputs[0][0]                  \n",
      "__________________________________________________________________________________________________\n",
      "conv3d_5 (Conv3D)               (None, 16, 16, 16, 1 221312      conv3d_4[0][0]                   \n",
      "__________________________________________________________________________________________________\n",
      "flatten_2 (Flatten)             (None, 524288)       0           conv3d_5[0][0]                   \n",
      "__________________________________________________________________________________________________\n",
      "dense_4 (Dense)                 (None, 128)          67108992    flatten_2[0][0]                  \n",
      "__________________________________________________________________________________________________\n",
      "s_mean (Dense)                  (None, 16)           2064        dense_4[0][0]                    \n",
      "__________________________________________________________________________________________________\n",
      "s_log_var (Dense)               (None, 16)           2064        dense_4[0][0]                    \n",
      "__________________________________________________________________________________________________\n",
      "s (Lambda)                      (None, 16)           0           s_mean[0][0]                     \n",
      "                                                                 s_log_var[0][0]                  \n",
      "==================================================================================================\n",
      "Total params: 67,336,224\n",
      "Trainable params: 67,336,224\n",
      "Non-trainable params: 0\n",
      "__________________________________________________________________________________________________\n"
     ]
    }
   ],
   "source": [
    "s_encoder.summary()"
   ]
  },
  {
   "cell_type": "code",
   "execution_count": 11,
   "metadata": {},
   "outputs": [
    {
     "name": "stdout",
     "output_type": "stream",
     "text": [
      "Model: \"decoder\"\n",
      "_________________________________________________________________\n",
      "Layer (type)                 Output Shape              Param #   \n",
      "=================================================================\n",
      "z_sampling (InputLayer)      [(None, 32)]              0         \n",
      "_________________________________________________________________\n",
      "dense_5 (Dense)              (None, 128)               4224      \n",
      "_________________________________________________________________\n",
      "dense_6 (Dense)              (None, 524288)            67633152  \n",
      "_________________________________________________________________\n",
      "reshape_1 (Reshape)          (None, 16, 16, 16, 128)   0         \n",
      "_________________________________________________________________\n",
      "conv3d_transpose_2 (Conv3DTr (None, 32, 32, 32, 32)    110624    \n",
      "_________________________________________________________________\n",
      "conv3d_transpose_3 (Conv3DTr (None, 64, 64, 64, 16)    13840     \n",
      "_________________________________________________________________\n",
      "decoder_output (Conv3DTransp (None, 64, 64, 64, 1)     433       \n",
      "=================================================================\n",
      "Total params: 67,762,273\n",
      "Trainable params: 67,762,273\n",
      "Non-trainable params: 0\n",
      "_________________________________________________________________\n"
     ]
    }
   ],
   "source": [
    "cvae_decoder.summary()"
   ]
  },
  {
   "cell_type": "code",
   "execution_count": null,
   "metadata": {},
   "outputs": [],
   "source": []
  },
  {
   "cell_type": "code",
   "execution_count": 14,
   "metadata": {},
   "outputs": [
    {
     "name": "stdout",
     "output_type": "stream",
     "text": [
      "Model: \"vae\"\n",
      "__________________________________________________________________________________________________\n",
      "Layer (type)                    Output Shape         Param #     Connected to                     \n",
      "==================================================================================================\n",
      "encoder_input (InputLayer)      [(None, 64, 64, 64,  0                                            \n",
      "__________________________________________________________________________________________________\n",
      "encoder (Functional)            [(None, 32), (None,  33619072    encoder_input[0][0]              \n",
      "__________________________________________________________________________________________________\n",
      "decoder (Functional)            (None, 64, 64, 64, 1 33987649    encoder[0][2]                    \n",
      "__________________________________________________________________________________________________\n",
      "conv3d (Conv3D)                 (None, 32, 32, 32, 3 896         encoder_input[0][0]              \n",
      "__________________________________________________________________________________________________\n",
      "conv3d_1 (Conv3D)               (None, 16, 16, 16, 6 55360       conv3d[0][0]                     \n",
      "__________________________________________________________________________________________________\n",
      "flatten (Flatten)               (None, 262144)       0           conv3d_1[0][0]                   \n",
      "__________________________________________________________________________________________________\n",
      "dense (Dense)                   (None, 128)          33554560    flatten[0][0]                    \n",
      "__________________________________________________________________________________________________\n",
      "z_log_var (Dense)               (None, 32)           4128        dense[0][0]                      \n",
      "__________________________________________________________________________________________________\n",
      "z_mean (Dense)                  (None, 32)           4128        dense[0][0]                      \n",
      "__________________________________________________________________________________________________\n",
      "tf_op_layer_AddV2 (TensorFlowOp [(None, 32)]         0           z_log_var[0][0]                  \n",
      "__________________________________________________________________________________________________\n",
      "tf_op_layer_Square (TensorFlowO [(None, 32)]         0           z_mean[0][0]                     \n",
      "__________________________________________________________________________________________________\n",
      "tf_op_layer_Reshape_1 (TensorFl [(None,)]            0           decoder[0][0]                    \n",
      "__________________________________________________________________________________________________\n",
      "tf_op_layer_Reshape (TensorFlow [(None,)]            0           encoder_input[0][0]              \n",
      "__________________________________________________________________________________________________\n",
      "tf_op_layer_Sub (TensorFlowOpLa [(None, 32)]         0           tf_op_layer_AddV2[0][0]          \n",
      "                                                                 tf_op_layer_Square[0][0]         \n",
      "__________________________________________________________________________________________________\n",
      "tf_op_layer_Exp (TensorFlowOpLa [(None, 32)]         0           z_log_var[0][0]                  \n",
      "__________________________________________________________________________________________________\n",
      "tf_op_layer_SquaredDifference ( [(None,)]            0           tf_op_layer_Reshape_1[0][0]      \n",
      "                                                                 tf_op_layer_Reshape[0][0]        \n",
      "__________________________________________________________________________________________________\n",
      "tf_op_layer_Sub_1 (TensorFlowOp [(None, 32)]         0           tf_op_layer_Sub[0][0]            \n",
      "                                                                 tf_op_layer_Exp[0][0]            \n",
      "__________________________________________________________________________________________________\n",
      "tf_op_layer_Mean (TensorFlowOpL [()]                 0           tf_op_layer_SquaredDifference[0][\n",
      "__________________________________________________________________________________________________\n",
      "tf_op_layer_Sum (TensorFlowOpLa [(None,)]            0           tf_op_layer_Sub_1[0][0]          \n",
      "__________________________________________________________________________________________________\n",
      "tf_op_layer_Mul (TensorFlowOpLa [()]                 0           tf_op_layer_Mean[0][0]           \n",
      "__________________________________________________________________________________________________\n",
      "tf_op_layer_Mul_1 (TensorFlowOp [(None,)]            0           tf_op_layer_Sum[0][0]            \n",
      "__________________________________________________________________________________________________\n",
      "tf_op_layer_Mean_1 (TensorFlowO [()]                 0           tf_op_layer_Mul[0][0]            \n",
      "__________________________________________________________________________________________________\n",
      "tf_op_layer_Mean_2 (TensorFlowO [()]                 0           tf_op_layer_Mul_1[0][0]          \n",
      "__________________________________________________________________________________________________\n",
      "tf_op_layer_AddV2_1 (TensorFlow [()]                 0           tf_op_layer_Mean_1[0][0]         \n",
      "                                                                 tf_op_layer_Mean_2[0][0]         \n",
      "__________________________________________________________________________________________________\n",
      "add_loss (AddLoss)              ()                   0           tf_op_layer_AddV2_1[0][0]        \n",
      "==================================================================================================\n",
      "Total params: 67,606,721\n",
      "Trainable params: 67,606,721\n",
      "Non-trainable params: 0\n",
      "__________________________________________________________________________________________________\n"
     ]
    }
   ],
   "source": [
    "vae.summary()"
   ]
  },
  {
   "cell_type": "code",
   "execution_count": null,
   "metadata": {},
   "outputs": [],
   "source": []
  },
  {
   "cell_type": "code",
   "execution_count": null,
   "metadata": {},
   "outputs": [],
   "source": []
  }
 ],
 "metadata": {
  "kernelspec": {
   "display_name": "Python 3",
   "language": "python",
   "name": "python3"
  },
  "language_info": {
   "codemirror_mode": {
    "name": "ipython",
    "version": 3
   },
   "file_extension": ".py",
   "mimetype": "text/x-python",
   "name": "python",
   "nbconvert_exporter": "python",
   "pygments_lexer": "ipython3",
   "version": "3.8.5"
  }
 },
 "nbformat": 4,
 "nbformat_minor": 4
}

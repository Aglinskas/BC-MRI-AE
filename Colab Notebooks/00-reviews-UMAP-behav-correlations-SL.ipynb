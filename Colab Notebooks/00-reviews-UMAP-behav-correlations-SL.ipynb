{
 "cells": [
  {
   "cell_type": "code",
   "execution_count": 1,
   "metadata": {},
   "outputs": [
    {
     "data": {
      "text/plain": [
       "'/mmfs1/data/aglinska/BC-MRI-AE/Colab Notebooks'"
      ]
     },
     "execution_count": 1,
     "metadata": {},
     "output_type": "execute_result"
    }
   ],
   "source": [
    "pwd"
   ]
  },
  {
   "cell_type": "code",
   "execution_count": 2,
   "metadata": {},
   "outputs": [],
   "source": [
    "import numpy as np\n",
    "import pickle\n",
    "import pandas as pd\n",
    "from matplotlib import  pyplot as plt\n",
    "import  seaborn as sns\n",
    "from helper_funcs import *\n",
    "\n",
    "from tqdm import tqdm_notebook as tqdm\n",
    "from datetime import datetime\n",
    "\n",
    "from scipy import stats"
   ]
  },
  {
   "cell_type": "code",
   "execution_count": 3,
   "metadata": {},
   "outputs": [
    {
     "data": {
      "text/html": [
       "<div>\n",
       "<style scoped>\n",
       "    .dataframe tbody tr th:only-of-type {\n",
       "        vertical-align: middle;\n",
       "    }\n",
       "\n",
       "    .dataframe tbody tr th {\n",
       "        vertical-align: top;\n",
       "    }\n",
       "\n",
       "    .dataframe thead th {\n",
       "        text-align: right;\n",
       "    }\n",
       "</style>\n",
       "<table border=\"1\" class=\"dataframe\">\n",
       "  <thead>\n",
       "    <tr style=\"text-align: right;\">\n",
       "      <th></th>\n",
       "      <th>Unnamed: 0</th>\n",
       "      <th>Unnamed: 0.1</th>\n",
       "      <th>index</th>\n",
       "      <th>BIDS_ID</th>\n",
       "      <th>Anonymized ID</th>\n",
       "      <th>Subject Type</th>\n",
       "      <th>Visit</th>\n",
       "      <th>Days since enrollment</th>\n",
       "      <th>SubID</th>\n",
       "      <th>DxGroup</th>\n",
       "      <th>...</th>\n",
       "      <th>Medication Name.1</th>\n",
       "      <th>Off stimulants at EPI scan?</th>\n",
       "      <th>ScanSite</th>\n",
       "      <th>ScannerType</th>\n",
       "      <th>ScannerID</th>\n",
       "      <th>ScanSiteID</th>\n",
       "      <th>ADOS_PCA</th>\n",
       "      <th>ADI_PCA</th>\n",
       "      <th>Vineland_PCA</th>\n",
       "      <th>WISC_PCA</th>\n",
       "    </tr>\n",
       "  </thead>\n",
       "  <tbody>\n",
       "    <tr>\n",
       "      <th>0</th>\n",
       "      <td>0</td>\n",
       "      <td>0</td>\n",
       "      <td>0</td>\n",
       "      <td>sub-001</td>\n",
       "      <td>A00033348</td>\n",
       "      <td>PATIENT</td>\n",
       "      <td>session_1</td>\n",
       "      <td>8</td>\n",
       "      <td>51320</td>\n",
       "      <td>1</td>\n",
       "      <td>...</td>\n",
       "      <td>NaN</td>\n",
       "      <td>NaN</td>\n",
       "      <td>mpg</td>\n",
       "      <td>verio</td>\n",
       "      <td>7</td>\n",
       "      <td>3</td>\n",
       "      <td>0</td>\n",
       "      <td>0</td>\n",
       "      <td>0</td>\n",
       "      <td>0</td>\n",
       "    </tr>\n",
       "    <tr>\n",
       "      <th>1</th>\n",
       "      <td>1</td>\n",
       "      <td>1</td>\n",
       "      <td>1</td>\n",
       "      <td>sub-002</td>\n",
       "      <td>A00033398</td>\n",
       "      <td>CONTROL</td>\n",
       "      <td>session_1</td>\n",
       "      <td>8</td>\n",
       "      <td>51373</td>\n",
       "      <td>2</td>\n",
       "      <td>...</td>\n",
       "      <td>NaN</td>\n",
       "      <td>NaN</td>\n",
       "      <td>mpg</td>\n",
       "      <td>verio</td>\n",
       "      <td>7</td>\n",
       "      <td>3</td>\n",
       "      <td>0</td>\n",
       "      <td>0</td>\n",
       "      <td>0</td>\n",
       "      <td>0</td>\n",
       "    </tr>\n",
       "    <tr>\n",
       "      <th>2</th>\n",
       "      <td>2</td>\n",
       "      <td>2</td>\n",
       "      <td>2</td>\n",
       "      <td>sub-003</td>\n",
       "      <td>A00033352</td>\n",
       "      <td>PATIENT</td>\n",
       "      <td>session_1</td>\n",
       "      <td>8</td>\n",
       "      <td>51324</td>\n",
       "      <td>1</td>\n",
       "      <td>...</td>\n",
       "      <td>NaN</td>\n",
       "      <td>NaN</td>\n",
       "      <td>mpg</td>\n",
       "      <td>verio</td>\n",
       "      <td>7</td>\n",
       "      <td>3</td>\n",
       "      <td>0</td>\n",
       "      <td>0</td>\n",
       "      <td>0</td>\n",
       "      <td>0</td>\n",
       "    </tr>\n",
       "    <tr>\n",
       "      <th>3</th>\n",
       "      <td>3</td>\n",
       "      <td>3</td>\n",
       "      <td>3</td>\n",
       "      <td>sub-004</td>\n",
       "      <td>A00033389</td>\n",
       "      <td>CONTROL</td>\n",
       "      <td>session_1</td>\n",
       "      <td>8</td>\n",
       "      <td>51364</td>\n",
       "      <td>2</td>\n",
       "      <td>...</td>\n",
       "      <td>NaN</td>\n",
       "      <td>NaN</td>\n",
       "      <td>mpg</td>\n",
       "      <td>verio</td>\n",
       "      <td>7</td>\n",
       "      <td>3</td>\n",
       "      <td>0</td>\n",
       "      <td>0</td>\n",
       "      <td>0</td>\n",
       "      <td>0</td>\n",
       "    </tr>\n",
       "    <tr>\n",
       "      <th>4</th>\n",
       "      <td>4</td>\n",
       "      <td>4</td>\n",
       "      <td>4</td>\n",
       "      <td>sub-005</td>\n",
       "      <td>A00033354</td>\n",
       "      <td>PATIENT</td>\n",
       "      <td>session_1</td>\n",
       "      <td>8</td>\n",
       "      <td>51326</td>\n",
       "      <td>1</td>\n",
       "      <td>...</td>\n",
       "      <td>NaN</td>\n",
       "      <td>NaN</td>\n",
       "      <td>mpg</td>\n",
       "      <td>verio</td>\n",
       "      <td>7</td>\n",
       "      <td>3</td>\n",
       "      <td>0</td>\n",
       "      <td>0</td>\n",
       "      <td>0</td>\n",
       "      <td>0</td>\n",
       "    </tr>\n",
       "  </tbody>\n",
       "</table>\n",
       "<p>5 rows × 95 columns</p>\n",
       "</div>"
      ],
      "text/plain": [
       "   Unnamed: 0  Unnamed: 0.1  index  BIDS_ID Anonymized ID Subject Type  \\\n",
       "0           0             0      0  sub-001     A00033348      PATIENT   \n",
       "1           1             1      1  sub-002     A00033398      CONTROL   \n",
       "2           2             2      2  sub-003     A00033352      PATIENT   \n",
       "3           3             3      3  sub-004     A00033389      CONTROL   \n",
       "4           4             4      4  sub-005     A00033354      PATIENT   \n",
       "\n",
       "       Visit  Days since enrollment  SubID  DxGroup  ...  Medication Name.1  \\\n",
       "0  session_1                      8  51320        1  ...                NaN   \n",
       "1  session_1                      8  51373        2  ...                NaN   \n",
       "2  session_1                      8  51324        1  ...                NaN   \n",
       "3  session_1                      8  51364        2  ...                NaN   \n",
       "4  session_1                      8  51326        1  ...                NaN   \n",
       "\n",
       "   Off stimulants at EPI scan?  ScanSite  ScannerType  ScannerID  ScanSiteID  \\\n",
       "0                          NaN       mpg        verio          7           3   \n",
       "1                          NaN       mpg        verio          7           3   \n",
       "2                          NaN       mpg        verio          7           3   \n",
       "3                          NaN       mpg        verio          7           3   \n",
       "4                          NaN       mpg        verio          7           3   \n",
       "\n",
       "  ADOS_PCA ADI_PCA Vineland_PCA  WISC_PCA  \n",
       "0        0       0            0         0  \n",
       "1        0       0            0         0  \n",
       "2        0       0            0         0  \n",
       "3        0       0            0         0  \n",
       "4        0       0            0         0  \n",
       "\n",
       "[5 rows x 95 columns]"
      ]
     },
     "execution_count": 3,
     "metadata": {},
     "output_type": "execute_result"
    }
   ],
   "source": [
    "df = pd.read_csv('../Data/ABIDE_legend_S982_pca.csv')\n",
    "df.head()"
   ]
  },
  {
   "cell_type": "code",
   "execution_count": 4,
   "metadata": {},
   "outputs": [],
   "source": [
    "subs = np.load('../Data/ABIDE-subs-982.npz')['subs']"
   ]
  },
  {
   "cell_type": "code",
   "execution_count": 5,
   "metadata": {},
   "outputs": [],
   "source": [
    "assert len(subs)==len(df), 'diff lenghts'\n",
    "assert all([subs[s]==df['BIDS_ID'].values[s] for s in range(len(df))]), 'bad order'"
   ]
  },
  {
   "cell_type": "code",
   "execution_count": 6,
   "metadata": {},
   "outputs": [],
   "source": [
    "patients = df['DxGroup'].values==1"
   ]
  },
  {
   "cell_type": "code",
   "execution_count": 7,
   "metadata": {},
   "outputs": [
    {
     "data": {
      "text/plain": [
       "array(['embedding_bg', 'embedding_sl', 'embedding_vae',\n",
       "       'sfari_embedding_vae', 'sfari_embedding_bg', 'sfari_embedding_sl',\n",
       "       'bg_space_abide', 'sl_space_abide', 'vae_space_abide',\n",
       "       'bg_space_sfari', 'sl_space_sfari', 'vae_space_sfari',\n",
       "       'bg_Sspace_sfari', 'sl_Sspace_sfari', 'vae_Sspace_sfari',\n",
       "       'reducer_bg_abide', 'reducer_sl_abide', 'reducer_vae_abide',\n",
       "       'reducer_bg_sfari', 'reducer_sl_sfari', 'reducer_vae_sfari'],\n",
       "      dtype='<U19')"
      ]
     },
     "execution_count": 7,
     "metadata": {},
     "output_type": "execute_result"
    }
   ],
   "source": [
    "fn = '../Data/embedded_data.pickle'\n",
    "data = pickle.load(open(fn,'rb'))\n",
    "np.array(list(data.keys()))"
   ]
  },
  {
   "cell_type": "code",
   "execution_count": 8,
   "metadata": {},
   "outputs": [
    {
     "name": "stdout",
     "output_type": "stream",
     "text": [
      "embedding_bg | (470, 16)\n",
      "embedding_sl | (470, 16)\n",
      "embedding_vae | (470, 32)\n",
      "sfari_embedding_vae | (51, 32)\n",
      "sfari_embedding_bg | (51, 16)\n",
      "sfari_embedding_sl | (51, 16)\n",
      "bg_space_abide | (470, 2)\n",
      "sl_space_abide | (470, 2)\n",
      "vae_space_abide | (470, 2)\n",
      "bg_space_sfari | (51, 2)\n",
      "sl_space_sfari | (51, 2)\n",
      "vae_space_sfari | (51, 2)\n",
      "bg_Sspace_sfari | (51, 2)\n",
      "sl_Sspace_sfari | (51, 2)\n",
      "vae_Sspace_sfari | (51, 2)\n"
     ]
    }
   ],
   "source": [
    "for key in data.keys():\n",
    "    try:\n",
    "        print(f'{key} | {data[key].shape}')\n",
    "    except:\n",
    "        pass"
   ]
  },
  {
   "cell_type": "code",
   "execution_count": 9,
   "metadata": {},
   "outputs": [
    {
     "name": "stdout",
     "output_type": "stream",
     "text": [
      "(10, 982, 16)\n"
     ]
    }
   ],
   "source": [
    "#data_latent = np.load('../Data/latent_vecs100.npz')\n",
    "data_latent = np.load('../Data/latent_vecs2.npz')\n",
    "list(data_latent.keys())\n",
    "print(data_latent['salient_vec_abide'].shape)"
   ]
  },
  {
   "cell_type": "code",
   "execution_count": 10,
   "metadata": {},
   "outputs": [
    {
     "data": {
      "text/plain": [
       "array([[-0.4272499 ,  0.2735272 , -2.7508783 , ..., -0.91731685,\n",
       "         0.1433426 , -1.1449697 ],\n",
       "       [-1.4786693 , -0.7763392 , -1.2325766 , ...,  0.0499858 ,\n",
       "         0.5017805 ,  0.6354925 ],\n",
       "       [-2.1715796 ,  1.5461673 ,  0.53020257, ..., -0.15939587,\n",
       "        -0.6093791 , -0.77931774],\n",
       "       ...,\n",
       "       [-0.16703203,  0.08689937, -0.4655738 , ...,  1.1736007 ,\n",
       "        -0.59409565, -1.0329659 ],\n",
       "       [-1.2406087 , -0.45388728, -0.7552429 , ..., -1.2301507 ,\n",
       "         0.5705857 , -2.9799838 ],\n",
       "       [-1.0072553 , -0.18212083, -0.8699565 , ...,  1.8765252 ,\n",
       "        -0.291705  , -0.71864563]], dtype=float32)"
      ]
     },
     "execution_count": 10,
     "metadata": {},
     "output_type": "execute_result"
    }
   ],
   "source": [
    "data_latent['salient_vec_abide'][0,:,:]"
   ]
  },
  {
   "cell_type": "code",
   "execution_count": 11,
   "metadata": {},
   "outputs": [
    {
     "name": "stdout",
     "output_type": "stream",
     "text": [
      "2022-01-14 10:26:52.537445\n"
     ]
    }
   ],
   "source": [
    "now = datetime.now\n",
    "t0 = now()\n",
    "print(t0)"
   ]
  },
  {
   "cell_type": "code",
   "execution_count": 12,
   "metadata": {},
   "outputs": [],
   "source": [
    "%%capture\n",
    "n = 10 \n",
    "umap_mat = np.zeros((n,470,2))\n",
    "for i in tqdm(range(n)):\n",
    "    umap_mat[i,:,:] = data['reducer_sl_abide'].transform(data_latent['salient_vec_abide'][i,patients,:])"
   ]
  },
  {
   "cell_type": "code",
   "execution_count": 13,
   "metadata": {},
   "outputs": [
    {
     "name": "stdout",
     "output_type": "stream",
     "text": [
      "2022-01-14 10:27:30.060274\n",
      "0:00:37.522914\n"
     ]
    }
   ],
   "source": [
    "print(now())\n",
    "print(now()-t0)"
   ]
  },
  {
   "cell_type": "code",
   "execution_count": 14,
   "metadata": {},
   "outputs": [
    {
     "data": {
      "text/plain": [
       "(10, 470, 2)"
      ]
     },
     "execution_count": 14,
     "metadata": {},
     "output_type": "execute_result"
    }
   ],
   "source": [
    "umap_mat.shape"
   ]
  },
  {
   "cell_type": "code",
   "execution_count": 15,
   "metadata": {},
   "outputs": [
    {
     "data": {
      "text/plain": [
       "<ErrorbarContainer object of 3 artists>"
      ]
     },
     "execution_count": 15,
     "metadata": {},
     "output_type": "execute_result"
    },
    {
     "data": {
      "image/png": "[encoded data removed]",
      "text/plain": [
       "<Figure size 432x288 with 1 Axes>"
      ]
     },
     "metadata": {
      "needs_background": "light"
     },
     "output_type": "display_data"
    }
   ],
   "source": [
    "y = [get_triu(np.corrcoef(umap_mat[:,:,0])).mean(),get_triu(np.corrcoef(umap_mat[:,:,1])).mean()]\n",
    "se = [get_triu(np.corrcoef(umap_mat[:,:,0])).std(),get_triu(np.corrcoef(umap_mat[:,:,1])).std()]\n",
    "plt.bar([0,1],y)\n",
    "plt.errorbar([0,1],y,se,fmt='r.')"
   ]
  },
  {
   "cell_type": "code",
   "execution_count": 16,
   "metadata": {},
   "outputs": [],
   "source": [
    "def plot_scatters(x,ys,axs=None):\n",
    "    plt.figure(figsize=np.array((10,5))*.85)\n",
    "    \n",
    "    if type(axs)!=type(None):\n",
    "        plt.sca(axs[0])\n",
    "    else:\n",
    "        plt.subplot(2,2,3)\n",
    "        \n",
    "        \n",
    "    plt.scatter(x,ys[0])\n",
    "    m,b = np.polyfit(x, ys[0], 1)\n",
    "    plt.plot(x,m*x+b,'r-',linewidth=3)\n",
    "    \n",
    "    plt.xlabel(key)\n",
    "    plt.ylabel('X axis loading')\n",
    "    \n",
    "    if type(axs)!=type(None):\n",
    "        plt.sca(axs[1])\n",
    "    else:\n",
    "        plt.subplot(2,2,4)\n",
    "        \n",
    "    #x,y = vec[v],umap_mat[i,v,1]\n",
    "    plt.scatter(x,ys[1])\n",
    "    m,b = np.polyfit(x, ys[1], 1)\n",
    "    plt.plot(x,m*x+b,'r-',linewidth=3)\n",
    "    \n",
    "    plt.xlabel(key)\n",
    "    plt.ylabel('Y axis loading')"
   ]
  },
  {
   "cell_type": "code",
   "execution_count": 23,
   "metadata": {},
   "outputs": [],
   "source": [
    "#n=10"
   ]
  },
  {
   "cell_type": "code",
   "execution_count": 18,
   "metadata": {},
   "outputs": [],
   "source": [
    "def rdelta_stats(r_x,r_y):\n",
    "    from scipy import stats\n",
    "    t,p = stats.ttest_rel(abs(r_x),abs(r_y))\n",
    "    rdelta = abs(r_x).mean()-abs(r_y).mean()\n",
    "\n",
    "    if p < .001:\n",
    "        print(f'{key} | Δr = {rdelta:.3f}, t(9) = {t:.2f}, p < .001')\n",
    "    else:\n",
    "        print(f'{key} | Δr = {rdelta:.3f}, t(9) = {t:.2f}, p = {p:.3f}')"
   ]
  },
  {
   "cell_type": "code",
   "execution_count": 19,
   "metadata": {},
   "outputs": [],
   "source": [
    "def plot_error_bar(y,xlbls=None,title=None,axs=None):\n",
    "    \n",
    "    #plt.figure(figsize=np.array((10,5))*.75)\n",
    "    if type(axs)!=type(None):\n",
    "        plt.sca(axs[0])\n",
    "        \n",
    "    xs = np.arange(len(y))\n",
    "    m = [val.mean() for val in y]\n",
    "    se = [val.std() for val in y]\n",
    "    m = [abs(val) for val in m]\n",
    "    \n",
    "    t,p = stats.ttest_1samp(y[0],0)\n",
    "    star_idx = max(np.nonzero(np.float64(p) < [1,.05,.01,.001])[0])\n",
    "    star_lbls = ['n.s','*','**','***']\n",
    "    xlbls[0] = xlbls[0]+'\\n'+star_lbls[star_idx]\n",
    "\n",
    "    t,p = stats.ttest_1samp(y[1],0)\n",
    "    star_idx = max(np.nonzero(np.float64(p) < [1,.05,.01,.001])[0])\n",
    "    star_lbls = ['n.s','*','**','***']\n",
    "    xlbls[1] = xlbls[1]+'\\n'+star_lbls[star_idx]\n",
    "    \n",
    "    plt.bar(xs,m)\n",
    "    plt.errorbar(xs,m,se,fmt='r.')\n",
    "    plt.ylabel('r')\n",
    "    \n",
    "    #t,p = stats.ttest_rel(y[0],y[1])\n",
    "    t,p = stats.ttest_rel(abs(y[0]),abs(y[1]))\n",
    "    star_idx = max(np.nonzero(np.float64(p) < [1,.05,.01,.001])[0])\n",
    "    yy = max(m)+max(se)\n",
    "    yy = yy*1.1\n",
    "    plt.plot([0,1],[yy,yy],'k-',linewidth=3)\n",
    "    plt.text(.5,yy,star_lbls[star_idx],fontsize=24)\n",
    "    \n",
    "    if xlbls:\n",
    "        plt.xticks(xs,labels=xlbls,fontsize=14)\n",
    "    if title:\n",
    "        plt.title(title,fontsize=12)\n",
    "    plt.ylim(0,yy*1.2)"
   ]
  },
  {
   "cell_type": "code",
   "execution_count": 20,
   "metadata": {},
   "outputs": [
    {
     "name": "stderr",
     "output_type": "stream",
     "text": [
      "<ipython-input-20-d58d5123f0e7>:1: SettingWithCopyWarning: \n",
      "A value is trying to be set on a copy of a slice from a DataFrame\n",
      "\n",
      "See the caveats in the documentation: https://pandas.pydata.org/pandas-docs/stable/user_guide/indexing.html#returning-a-view-versus-a-copy\n",
      "  df['ADOS_PCA'][abs(df['ADOS_PCA'].values)<.1]=np.nan\n",
      "<ipython-input-20-d58d5123f0e7>:2: SettingWithCopyWarning: \n",
      "A value is trying to be set on a copy of a slice from a DataFrame\n",
      "\n",
      "See the caveats in the documentation: https://pandas.pydata.org/pandas-docs/stable/user_guide/indexing.html#returning-a-view-versus-a-copy\n",
      "  df['ADI_PCA'][abs(df['ADI_PCA'].values)<.1]=np.nan\n",
      "<ipython-input-20-d58d5123f0e7>:3: SettingWithCopyWarning: \n",
      "A value is trying to be set on a copy of a slice from a DataFrame\n",
      "\n",
      "See the caveats in the documentation: https://pandas.pydata.org/pandas-docs/stable/user_guide/indexing.html#returning-a-view-versus-a-copy\n",
      "  df['Vineland_PCA'][abs(df['Vineland_PCA'].values)<.1]=np.nan\n",
      "<ipython-input-20-d58d5123f0e7>:4: SettingWithCopyWarning: \n",
      "A value is trying to be set on a copy of a slice from a DataFrame\n",
      "\n",
      "See the caveats in the documentation: https://pandas.pydata.org/pandas-docs/stable/user_guide/indexing.html#returning-a-view-versus-a-copy\n",
      "  df['WISC_PCA'][abs(df['WISC_PCA'].values)<.1]=np.nan\n"
     ]
    }
   ],
   "source": [
    "df['ADOS_PCA'][abs(df['ADOS_PCA'].values)<.1]=np.nan\n",
    "df['ADI_PCA'][abs(df['ADI_PCA'].values)<.1]=np.nan\n",
    "df['Vineland_PCA'][abs(df['Vineland_PCA'].values)<.1]=np.nan\n",
    "df['WISC_PCA'][abs(df['WISC_PCA'].values)<.1]=np.nan"
   ]
  },
  {
   "cell_type": "code",
   "execution_count": 24,
   "metadata": {},
   "outputs": [
    {
     "name": "stdout",
     "output_type": "stream",
     "text": [
      "ADOS_Total | Δr = -0.057, t(9) = -9.55, p < .001\n",
      "ADOS_Comm | Δr = -0.001, t(9) = -0.17, p = 0.867\n",
      "ADOS_Social | Δr = -0.065, t(9) = -11.20, p < .001\n",
      "ADOS_StBeh | Δr = 0.085, t(9) = 7.74, p < .001\n"
     ]
    },
    {
     "data": {
      "text/plain": [
       "<Figure size 612x306 with 0 Axes>"
      ]
     },
     "metadata": {},
     "output_type": "display_data"
    },
    {
     "data": {
      "image/png": "[encoded data removed]",
      "text/plain": [
       "<Figure size 810x270 with 3 Axes>"
      ]
     },
     "metadata": {
      "needs_background": "light"
     },
     "output_type": "display_data"
    },
    {
     "data": {
      "text/plain": [
       "<Figure size 612x306 with 0 Axes>"
      ]
     },
     "metadata": {},
     "output_type": "display_data"
    },
    {
     "data": {
      "image/png": "[encoded data removed]",
      "text/plain": [
       "<Figure size 810x270 with 3 Axes>"
      ]
     },
     "metadata": {
      "needs_background": "light"
     },
     "output_type": "display_data"
    },
    {
     "data": {
      "text/plain": [
       "<Figure size 612x306 with 0 Axes>"
      ]
     },
     "metadata": {},
     "output_type": "display_data"
    },
    {
     "data": {
      "image/png": "[encoded data removed]",
      "text/plain": [
       "<Figure size 810x270 with 3 Axes>"
      ]
     },
     "metadata": {
      "needs_background": "light"
     },
     "output_type": "display_data"
    },
    {
     "data": {
      "text/plain": [
       "<Figure size 612x306 with 0 Axes>"
      ]
     },
     "metadata": {},
     "output_type": "display_data"
    },
    {
     "data": {
      "image/png": "[encoded data removed]",
      "text/plain": [
       "<Figure size 810x270 with 3 Axes>"
      ]
     },
     "metadata": {
      "needs_background": "light"
     },
     "output_type": "display_data"
    }
   ],
   "source": [
    "keys = ['AgeAtScan', 'FIQ', 'VIQ', 'PIQ','ADOS_PCA',\n",
    "       'ADI_PCA', 'Vineland_PCA', 'WISC_PCA','ADOS_Total','ADOS_Comm', 'ADOS_Social', 'ADOS_StBeh', 'ADI_R_SocialTotal', 'ADI_R_VerbalTotal', 'ADI_R_RRB',\n",
    "       'ADI_R_Onset Total','SRS_RawTotal','SCQ_Total','VINELAND_Written_Vscore', 'VINELAND_CommunicationStandard',\n",
    "       'VINELAND_Personal_Vscore', 'VINELAND_Domestic_Vscore',\n",
    "       'VINELAND_Community_Vscore', 'VINELAND_DaylyLiving_Standard',\n",
    "       'VINELAND_Interpersonal_Vscore', 'VINELAND_Play_Vscore',\n",
    "       'VINELAND_Coping_Vscore', 'VINELAND_Socical_Standard',\n",
    "       'VINELAND_Domestic_Standard', 'VINELAND_ABC_Standard',\n",
    "       'VINELAND_Informant', 'ADOSGotham_SocAffect', 'ADOSGotham_Rest-RepBeh',\n",
    "       'ADOSGotham_Total', 'ADOSGotham_Severity','AQ Total', 'SRS_awareness', 'SRS_cognition', 'SRS_communication',\n",
    "       'SRS_motivation', 'SRS_manierisms', 'WISC4 VCI Verbal Comprehension Index',\n",
    "       'WISC4 PRI Perceptual Reasoning Index',\n",
    "       'WISC4 WMI Working Memory Index', 'WISC4 PSI Processing Speed Index',\n",
    "       'WISC4 Sim Scaled', 'WISC4 Vocab Scaled', 'WISC4 Info Scaled',\n",
    "       'WISC4 Blk Dsn Scaled', 'WISC4 Pic Con Scaled', 'WISC4 Matrix Scaled',\n",
    "       'WISC4 Dig Span Scaled', 'WISC4 Let Num Scaled', 'WISC4 Coding Scaled',\n",
    "       'WISC4 Sym Scaled']\n",
    "\n",
    "keys = ['ADOS_Total','ADOS_Comm', 'ADOS_Social', 'ADOS_StBeh']\n",
    "\n",
    "\n",
    "for key in keys:\n",
    "    fig = plt.figure(figsize=np.array((15,5))*.75)\n",
    "    ax1 = fig.add_subplot(1,3,1)\n",
    "    ax2 = fig.add_subplot(1,3,2)\n",
    "    ax3 = fig.add_subplot(1,3,3)\n",
    "\n",
    "    vec = df[key].values[patients]\n",
    "    v = ~np.isnan(vec)\n",
    "    r_x = np.array([np.corrcoef(vec[v],umap_mat[i,v,0])[0,1] for i in range(n)])\n",
    "    r_y = np.array([np.corrcoef(vec[v],umap_mat[i,v,1])[0,1] for i in range(n)])\n",
    "    plt.sca(ax1)\n",
    "    plot_error_bar([r_x,r_y],xlbls=['X','Y'])\n",
    "    plot_scatters(vec[v],[umap_mat[i,v,0],umap_mat[i,v,1]],axs=[ax2,ax3])\n",
    "    rdelta_stats(r_x,r_y)\n",
    "    plt.tight_layout()\n",
    "    plt.suptitle(key,fontsize=20,y=1.05)"
   ]
  },
  {
   "cell_type": "code",
   "execution_count": null,
   "metadata": {},
   "outputs": [],
   "source": []
  },
  {
   "cell_type": "code",
   "execution_count": null,
   "metadata": {},
   "outputs": [],
   "source": []
  },
  {
   "cell_type": "code",
   "execution_count": null,
   "metadata": {},
   "outputs": [],
   "source": []
  },
  {
   "cell_type": "code",
   "execution_count": null,
   "metadata": {},
   "outputs": [],
   "source": []
  },
  {
   "cell_type": "code",
   "execution_count": null,
   "metadata": {},
   "outputs": [],
   "source": []
  },
  {
   "cell_type": "code",
   "execution_count": null,
   "metadata": {},
   "outputs": [],
   "source": []
  },
  {
   "cell_type": "code",
   "execution_count": 22,
   "metadata": {},
   "outputs": [
    {
     "data": {
      "text/plain": [
       "Index(['Unnamed: 0', 'Unnamed: 0.1', 'index', 'BIDS_ID', 'Anonymized ID',\n",
       "       'Subject Type', 'Visit', 'Days since enrollment', 'SubID', 'DxGroup',\n",
       "       'DSMIVTR', 'AgeAtScan', 'Sex', 'FIQ', 'VIQ', 'PIQ', 'IQTest', 'VIQTest',\n",
       "       'PIQTest', 'ADOS_Module', 'ADOS_Total', 'ADOS_ResearchReliability',\n",
       "       'ADI_R_SocialTotal', 'ADI_R_VerbalTotal', 'ADI_R_RRB',\n",
       "       'ADI_R_Onset Total', 'ADI_R_ResearchReliability', 'Handedness_Category',\n",
       "       'Handedness_Scores', 'ADOS_Comm', 'ADOS_Social', 'ADOS_StBeh',\n",
       "       'Comorbid_adhd', 'Comorbid_phobia', 'comorbid_anxiety', 'comorbid_all',\n",
       "       'comorbid_other', 'Comorbidity', 'SRS_RawTotal', 'SRS_Version',\n",
       "       'SCQ_Total', 'VINELAND_Receptive_Vscore', 'VINELAND_Expressive_Vscore',\n",
       "       'VINELAND_Written_Vscore', 'VINELAND_CommunicationStandard',\n",
       "       'VINELAND_Personal_Vscore', 'VINELAND_Domestic_Vscore',\n",
       "       'VINELAND_Community_Vscore', 'VINELAND_DaylyLiving_Standard',\n",
       "       'VINELAND_Interpersonal_Vscore', 'VINELAND_Play_Vscore',\n",
       "       'VINELAND_Coping_Vscore', 'VINELAND_Socical_Standard',\n",
       "       'VINELAND_Domestic_Standard', 'VINELAND_ABC_Standard',\n",
       "       'VINELAND_Informant', 'ADOSGotham_SocAffect', 'ADOSGotham_Rest-RepBeh',\n",
       "       'ADOSGotham_Total', 'ADOSGotham_Severity', 'EyesStatus@restfMRI', 'BMI',\n",
       "       'AQ Total', 'SRS_awareness', 'SRS_cognition', 'SRS_communication',\n",
       "       'SRS_motivation', 'SRS_manierisms',\n",
       "       'WISC4 VCI Verbal Comprehension Index',\n",
       "       'WISC4 PRI Perceptual Reasoning Index',\n",
       "       'WISC4 WMI Working Memory Index', 'WISC4 PSI Processing Speed Index',\n",
       "       'WISC4 Sim Scaled', 'WISC4 Vocab Scaled', 'WISC4 Info Scaled',\n",
       "       'WISC4 Blk Dsn Scaled', 'WISC4 Pic Con Scaled', 'WISC4 Matrix Scaled',\n",
       "       'WISC4 Dig Span Scaled', 'WISC4 Let Num Scaled', 'WISC4 Coding Scaled',\n",
       "       'WISC4 Sym Scaled', 'Age at MPRAGE', 'Current Med Status',\n",
       "       'Medication Name', 'Medication Name.1', 'Off stimulants at EPI scan?',\n",
       "       'ScanSite', 'ScannerType', 'ScannerID', 'ScanSiteID', 'ADOS_PCA',\n",
       "       'ADI_PCA', 'Vineland_PCA', 'WISC_PCA'],\n",
       "      dtype='object')"
      ]
     },
     "execution_count": 22,
     "metadata": {},
     "output_type": "execute_result"
    }
   ],
   "source": [
    "df.columns"
   ]
  },
  {
   "cell_type": "code",
   "execution_count": null,
   "metadata": {},
   "outputs": [],
   "source": []
  },
  {
   "cell_type": "code",
   "execution_count": null,
   "metadata": {},
   "outputs": [],
   "source": []
  },
  {
   "cell_type": "code",
   "execution_count": null,
   "metadata": {},
   "outputs": [],
   "source": []
  },
  {
   "cell_type": "code",
   "execution_count": null,
   "metadata": {},
   "outputs": [],
   "source": []
  },
  {
   "cell_type": "code",
   "execution_count": null,
   "metadata": {},
   "outputs": [],
   "source": []
  },
  {
   "cell_type": "code",
   "execution_count": null,
   "metadata": {},
   "outputs": [],
   "source": []
  },
  {
   "cell_type": "code",
   "execution_count": null,
   "metadata": {},
   "outputs": [],
   "source": []
  },
  {
   "cell_type": "code",
   "execution_count": null,
   "metadata": {},
   "outputs": [],
   "source": []
  },
  {
   "cell_type": "code",
   "execution_count": null,
   "metadata": {},
   "outputs": [],
   "source": []
  },
  {
   "cell_type": "code",
   "execution_count": null,
   "metadata": {},
   "outputs": [],
   "source": []
  },
  {
   "cell_type": "code",
   "execution_count": null,
   "metadata": {},
   "outputs": [],
   "source": []
  },
  {
   "cell_type": "code",
   "execution_count": null,
   "metadata": {},
   "outputs": [],
   "source": []
  },
  {
   "cell_type": "code",
   "execution_count": null,
   "metadata": {},
   "outputs": [],
   "source": []
  },
  {
   "cell_type": "code",
   "execution_count": null,
   "metadata": {},
   "outputs": [],
   "source": []
  },
  {
   "cell_type": "code",
   "execution_count": null,
   "metadata": {},
   "outputs": [],
   "source": []
  },
  {
   "cell_type": "code",
   "execution_count": 23,
   "metadata": {},
   "outputs": [],
   "source": [
    "import sklearn"
   ]
  },
  {
   "cell_type": "code",
   "execution_count": 24,
   "metadata": {},
   "outputs": [],
   "source": [
    "PCA = sklearn.decomposition.PCA"
   ]
  },
  {
   "cell_type": "code",
   "execution_count": 25,
   "metadata": {},
   "outputs": [
    {
     "data": {
      "image/png": "[encoded data removed]",
      "text/plain": [
       "<Figure size 1080x360 with 1 Axes>"
      ]
     },
     "metadata": {
      "needs_background": "light"
     },
     "output_type": "display_data"
    }
   ],
   "source": [
    "pca = PCA()\n",
    "comp = pca.fit_transform(data['embedding_bg'])\n",
    "y = np.cumsum(pca.explained_variance_ratio_)\n",
    "n = len(y)\n",
    "x = np.arange(n)\n",
    "plt.figure(figsize=(15,5))\n",
    "plt.plot(y,'k.',markersize=20);\n",
    "plt.plot(x,np.repeat(.9,n),linewidth=3);\n",
    "plt.xticks(x,labels=x+1);"
   ]
  },
  {
   "cell_type": "code",
   "execution_count": 26,
   "metadata": {},
   "outputs": [
    {
     "data": {
      "image/png": "[encoded data removed]",
      "text/plain": [
       "<Figure size 1080x360 with 1 Axes>"
      ]
     },
     "metadata": {
      "needs_background": "light"
     },
     "output_type": "display_data"
    }
   ],
   "source": [
    "pca = PCA()\n",
    "comp = pca.fit_transform(data['embedding_sl'])\n",
    "y = np.cumsum(pca.explained_variance_ratio_)\n",
    "n = len(y)\n",
    "x = np.arange(n)\n",
    "plt.figure(figsize=(15,5))\n",
    "plt.plot(y,'k.',markersize=20);\n",
    "plt.plot(x,np.repeat(.9,n),linewidth=3);\n",
    "plt.xticks(x,labels=x+1);"
   ]
  },
  {
   "cell_type": "code",
   "execution_count": 27,
   "metadata": {},
   "outputs": [
    {
     "data": {
      "image/png": "[encoded data removed]",
      "text/plain": [
       "<Figure size 1080x360 with 1 Axes>"
      ]
     },
     "metadata": {
      "needs_background": "light"
     },
     "output_type": "display_data"
    }
   ],
   "source": [
    "pca = PCA()\n",
    "comp = pca.fit_transform(data['embedding_vae'])\n",
    "y = np.cumsum(pca.explained_variance_ratio_)\n",
    "n = len(y)\n",
    "x = np.arange(n)\n",
    "plt.figure(figsize=(15,5))\n",
    "plt.plot(y,'k.',markersize=20);\n",
    "plt.plot(x,np.repeat(.9,n),linewidth=3);\n",
    "plt.xticks(x,labels=x+1);"
   ]
  },
  {
   "cell_type": "code",
   "execution_count": null,
   "metadata": {},
   "outputs": [],
   "source": []
  },
  {
   "cell_type": "code",
   "execution_count": 28,
   "metadata": {},
   "outputs": [
    {
     "data": {
      "text/plain": [
       "(10, 470, 2)"
      ]
     },
     "execution_count": 28,
     "metadata": {},
     "output_type": "execute_result"
    }
   ],
   "source": [
    "umap_mat.shape"
   ]
  },
  {
   "cell_type": "code",
   "execution_count": 29,
   "metadata": {},
   "outputs": [],
   "source": [
    "# Zobserved = (z1 – z2) / (square root of [ (1 / N1 – 3) + (1 / N2 – 3) ]"
   ]
  },
  {
   "cell_type": "code",
   "execution_count": 30,
   "metadata": {},
   "outputs": [
    {
     "data": {
      "text/plain": [
       "Index(['Unnamed: 0', 'Unnamed: 0.1', 'index', 'BIDS_ID', 'Anonymized ID',\n",
       "       'Subject Type', 'Visit', 'Days since enrollment', 'SubID', 'DxGroup',\n",
       "       'DSMIVTR', 'AgeAtScan', 'Sex', 'FIQ', 'VIQ', 'PIQ', 'IQTest', 'VIQTest',\n",
       "       'PIQTest', 'ADOS_Module', 'ADOS_Total', 'ADOS_ResearchReliability',\n",
       "       'ADI_R_SocialTotal', 'ADI_R_VerbalTotal', 'ADI_R_RRB',\n",
       "       'ADI_R_Onset Total', 'ADI_R_ResearchReliability', 'Handedness_Category',\n",
       "       'Handedness_Scores', 'ADOS_Comm', 'ADOS_Social', 'ADOS_StBeh',\n",
       "       'Comorbid_adhd', 'Comorbid_phobia', 'comorbid_anxiety', 'comorbid_all',\n",
       "       'comorbid_other', 'Comorbidity', 'SRS_RawTotal', 'SRS_Version',\n",
       "       'SCQ_Total', 'VINELAND_Receptive_Vscore', 'VINELAND_Expressive_Vscore',\n",
       "       'VINELAND_Written_Vscore', 'VINELAND_CommunicationStandard',\n",
       "       'VINELAND_Personal_Vscore', 'VINELAND_Domestic_Vscore',\n",
       "       'VINELAND_Community_Vscore', 'VINELAND_DaylyLiving_Standard',\n",
       "       'VINELAND_Interpersonal_Vscore', 'VINELAND_Play_Vscore',\n",
       "       'VINELAND_Coping_Vscore', 'VINELAND_Socical_Standard',\n",
       "       'VINELAND_Domestic_Standard', 'VINELAND_ABC_Standard',\n",
       "       'VINELAND_Informant', 'ADOSGotham_SocAffect', 'ADOSGotham_Rest-RepBeh',\n",
       "       'ADOSGotham_Total', 'ADOSGotham_Severity', 'EyesStatus@restfMRI', 'BMI',\n",
       "       'AQ Total', 'SRS_awareness', 'SRS_cognition', 'SRS_communication',\n",
       "       'SRS_motivation', 'SRS_manierisms',\n",
       "       'WISC4 VCI Verbal Comprehension Index',\n",
       "       'WISC4 PRI Perceptual Reasoning Index',\n",
       "       'WISC4 WMI Working Memory Index', 'WISC4 PSI Processing Speed Index',\n",
       "       'WISC4 Sim Scaled', 'WISC4 Vocab Scaled', 'WISC4 Info Scaled',\n",
       "       'WISC4 Blk Dsn Scaled', 'WISC4 Pic Con Scaled', 'WISC4 Matrix Scaled',\n",
       "       'WISC4 Dig Span Scaled', 'WISC4 Let Num Scaled', 'WISC4 Coding Scaled',\n",
       "       'WISC4 Sym Scaled', 'Age at MPRAGE', 'Current Med Status',\n",
       "       'Medication Name', 'Medication Name.1', 'Off stimulants at EPI scan?',\n",
       "       'ScanSite', 'ScannerType', 'ScannerID', 'ScanSiteID', 'ADOS_PCA',\n",
       "       'ADI_PCA', 'Vineland_PCA', 'WISC_PCA'],\n",
       "      dtype='object')"
      ]
     },
     "execution_count": 30,
     "metadata": {},
     "output_type": "execute_result"
    }
   ],
   "source": [
    "df.columns"
   ]
  },
  {
   "cell_type": "code",
   "execution_count": 31,
   "metadata": {},
   "outputs": [],
   "source": [
    "key_list = ['AgeAtScan','FIQ','ADOS_Total','ADOS_Comm', 'ADOS_Social', 'ADOS_StBeh','ADI_R_SocialTotal', 'ADI_R_VerbalTotal', 'ADI_R_RRB','ADI_R_Onset Total',\n",
    "          'SRS_RawTotal',\n",
    "       'SCQ_Total',\n",
    "           'ADOSGotham_SocAffect', 'ADOSGotham_Rest-RepBeh',\n",
    "       'ADOSGotham_Total', 'ADOSGotham_Severity',\n",
    "       'AQ Total','ADOS_PCA',\n",
    "       'ADI_PCA', 'Vineland_PCA', 'WISC_PCA']\n",
    "\n",
    "key_list = ['AgeAtScan','FIQ','ADOS_Total','ADOS_Comm', 'ADOS_Social', 'ADOS_StBeh','ADI_R_SocialTotal', 'ADI_R_VerbalTotal', 'ADI_R_RRB','ADI_R_Onset Total',\n",
    "          'SRS_RawTotal',\n",
    "       'SCQ_Total',\n",
    "           'ADOSGotham_SocAffect', 'ADOSGotham_Rest-RepBeh',\n",
    "       'ADOSGotham_Total', 'ADOSGotham_Severity',\n",
    "       'AQ Total','ADOS_PCA',\n",
    "       'ADI_PCA', 'Vineland_PCA', 'WISC_PCA','VINELAND_Written_Vscore', 'VINELAND_CommunicationStandard',\n",
    "       'VINELAND_Personal_Vscore', 'VINELAND_Domestic_Vscore',\n",
    "       'VINELAND_Community_Vscore', 'VINELAND_DaylyLiving_Standard',\n",
    "       'VINELAND_Interpersonal_Vscore', 'VINELAND_Play_Vscore',\n",
    "       'VINELAND_Coping_Vscore', 'VINELAND_Socical_Standard',\n",
    "       'VINELAND_Domestic_Standard', 'VINELAND_ABC_Standard','WISC4 VCI Verbal Comprehension Index',\n",
    "       'WISC4 PRI Perceptual Reasoning Index',\n",
    "       'WISC4 WMI Working Memory Index', 'WISC4 PSI Processing Speed Index',\n",
    "       'WISC4 Sim Scaled', 'WISC4 Vocab Scaled', 'WISC4 Info Scaled',\n",
    "       'WISC4 Blk Dsn Scaled', 'WISC4 Pic Con Scaled', 'WISC4 Matrix Scaled',\n",
    "       'WISC4 Dig Span Scaled', 'WISC4 Let Num Scaled', 'WISC4 Coding Scaled',\n",
    "       'WISC4 Sym Scaled','VIQ', 'PIQ']"
   ]
  },
  {
   "cell_type": "code",
   "execution_count": 32,
   "metadata": {},
   "outputs": [
    {
     "data": {
      "text/plain": [
       "'WISC4 Sym Scaled'"
      ]
     },
     "execution_count": 32,
     "metadata": {},
     "output_type": "execute_result"
    }
   ],
   "source": [
    "key"
   ]
  },
  {
   "cell_type": "code",
   "execution_count": 33,
   "metadata": {},
   "outputs": [],
   "source": [
    "r_list = np.zeros((len(key_list),5))\n",
    "for idx,key in enumerate(key_list):\n",
    "    vec = df[key].values[patients]\n",
    "    v = ~np.isnan(vec)\n",
    "#     r1 = np.corrcoef(vec[v],umap_mat[0,v,0])[0,1]\n",
    "#     r2 = np.corrcoef(vec[v],umap_mat[0,v,1])[0,1]\n",
    "\n",
    "    pr1 = stats.pearsonr(vec[v],umap_mat[0,v,0])\n",
    "    pr2 = stats.pearsonr(vec[v],umap_mat[0,v,1])\n",
    "    r_list[idx,0] = pr1[0]\n",
    "    r_list[idx,1] = pr2[0]\n",
    "    \n",
    "    r_list[idx,2] = pr1[1]\n",
    "    r_list[idx,3] = pr2[1]\n",
    "    \n",
    "    r_list[idx,4] = len(vec[v])"
   ]
  },
  {
   "cell_type": "code",
   "execution_count": null,
   "metadata": {},
   "outputs": [],
   "source": []
  },
  {
   "cell_type": "code",
   "execution_count": null,
   "metadata": {},
   "outputs": [],
   "source": []
  },
  {
   "cell_type": "code",
   "execution_count": 34,
   "metadata": {},
   "outputs": [],
   "source": [
    "dr = pd.DataFrame()"
   ]
  },
  {
   "cell_type": "code",
   "execution_count": 35,
   "metadata": {},
   "outputs": [],
   "source": [
    "dr['key'] = key_list\n",
    "dr['rx'] = abs(r_list[:,0])\n",
    "dr['ry'] = abs(r_list[:,1])\n",
    "dr['rdelta'] = abs(r_list[:,0])-abs(r_list[:,1])\n",
    "\n",
    "dr['px'] = r_list[:,2]\n",
    "dr['py'] = r_list[:,3]\n",
    "dr['n'] = r_list[:,4]"
   ]
  },
  {
   "cell_type": "code",
   "execution_count": 36,
   "metadata": {},
   "outputs": [],
   "source": [
    "dr = dr[dr['n']>100]"
   ]
  },
  {
   "cell_type": "code",
   "execution_count": 37,
   "metadata": {},
   "outputs": [
    {
     "data": {
      "text/html": [
       "<div>\n",
       "<style scoped>\n",
       "    .dataframe tbody tr th:only-of-type {\n",
       "        vertical-align: middle;\n",
       "    }\n",
       "\n",
       "    .dataframe tbody tr th {\n",
       "        vertical-align: top;\n",
       "    }\n",
       "\n",
       "    .dataframe thead th {\n",
       "        text-align: right;\n",
       "    }\n",
       "</style>\n",
       "<table border=\"1\" class=\"dataframe\">\n",
       "  <thead>\n",
       "    <tr style=\"text-align: right;\">\n",
       "      <th></th>\n",
       "      <th>key</th>\n",
       "      <th>rx</th>\n",
       "      <th>ry</th>\n",
       "      <th>rdelta</th>\n",
       "      <th>px</th>\n",
       "      <th>py</th>\n",
       "      <th>n</th>\n",
       "    </tr>\n",
       "  </thead>\n",
       "  <tbody>\n",
       "    <tr>\n",
       "      <th>0</th>\n",
       "      <td>AgeAtScan</td>\n",
       "      <td>0.033491</td>\n",
       "      <td>0.069447</td>\n",
       "      <td>-0.035956</td>\n",
       "      <td>0.468860</td>\n",
       "      <td>0.132742</td>\n",
       "      <td>470.0</td>\n",
       "    </tr>\n",
       "    <tr>\n",
       "      <th>1</th>\n",
       "      <td>FIQ</td>\n",
       "      <td>0.083872</td>\n",
       "      <td>0.069664</td>\n",
       "      <td>0.014208</td>\n",
       "      <td>0.083073</td>\n",
       "      <td>0.150220</td>\n",
       "      <td>428.0</td>\n",
       "    </tr>\n",
       "    <tr>\n",
       "      <th>2</th>\n",
       "      <td>ADOS_Total</td>\n",
       "      <td>0.040569</td>\n",
       "      <td>0.125873</td>\n",
       "      <td>-0.085304</td>\n",
       "      <td>0.437173</td>\n",
       "      <td>0.015548</td>\n",
       "      <td>369.0</td>\n",
       "    </tr>\n",
       "    <tr>\n",
       "      <th>3</th>\n",
       "      <td>ADOS_Comm</td>\n",
       "      <td>0.035994</td>\n",
       "      <td>0.054120</td>\n",
       "      <td>-0.018127</td>\n",
       "      <td>0.505813</td>\n",
       "      <td>0.316893</td>\n",
       "      <td>344.0</td>\n",
       "    </tr>\n",
       "    <tr>\n",
       "      <th>4</th>\n",
       "      <td>ADOS_Social</td>\n",
       "      <td>0.041764</td>\n",
       "      <td>0.122729</td>\n",
       "      <td>-0.080965</td>\n",
       "      <td>0.439373</td>\n",
       "      <td>0.022611</td>\n",
       "      <td>345.0</td>\n",
       "    </tr>\n",
       "    <tr>\n",
       "      <th>5</th>\n",
       "      <td>ADOS_StBeh</td>\n",
       "      <td>0.120100</td>\n",
       "      <td>0.000635</td>\n",
       "      <td>0.119465</td>\n",
       "      <td>0.042770</td>\n",
       "      <td>0.991486</td>\n",
       "      <td>285.0</td>\n",
       "    </tr>\n",
       "    <tr>\n",
       "      <th>6</th>\n",
       "      <td>ADI_R_SocialTotal</td>\n",
       "      <td>0.062295</td>\n",
       "      <td>0.025227</td>\n",
       "      <td>0.037068</td>\n",
       "      <td>0.274200</td>\n",
       "      <td>0.658168</td>\n",
       "      <td>310.0</td>\n",
       "    </tr>\n",
       "    <tr>\n",
       "      <th>7</th>\n",
       "      <td>ADI_R_VerbalTotal</td>\n",
       "      <td>0.002839</td>\n",
       "      <td>0.015900</td>\n",
       "      <td>-0.013061</td>\n",
       "      <td>0.960234</td>\n",
       "      <td>0.780028</td>\n",
       "      <td>311.0</td>\n",
       "    </tr>\n",
       "    <tr>\n",
       "      <th>8</th>\n",
       "      <td>ADI_R_RRB</td>\n",
       "      <td>0.080997</td>\n",
       "      <td>0.039812</td>\n",
       "      <td>0.041185</td>\n",
       "      <td>0.154832</td>\n",
       "      <td>0.484922</td>\n",
       "      <td>310.0</td>\n",
       "    </tr>\n",
       "    <tr>\n",
       "      <th>9</th>\n",
       "      <td>ADI_R_Onset Total</td>\n",
       "      <td>0.034796</td>\n",
       "      <td>0.042932</td>\n",
       "      <td>-0.008136</td>\n",
       "      <td>0.559933</td>\n",
       "      <td>0.471915</td>\n",
       "      <td>283.0</td>\n",
       "    </tr>\n",
       "    <tr>\n",
       "      <th>10</th>\n",
       "      <td>SRS_RawTotal</td>\n",
       "      <td>0.033635</td>\n",
       "      <td>0.138826</td>\n",
       "      <td>-0.105192</td>\n",
       "      <td>0.645017</td>\n",
       "      <td>0.056105</td>\n",
       "      <td>190.0</td>\n",
       "    </tr>\n",
       "    <tr>\n",
       "      <th>12</th>\n",
       "      <td>ADOSGotham_SocAffect</td>\n",
       "      <td>0.094068</td>\n",
       "      <td>0.130467</td>\n",
       "      <td>-0.036399</td>\n",
       "      <td>0.190857</td>\n",
       "      <td>0.069073</td>\n",
       "      <td>195.0</td>\n",
       "    </tr>\n",
       "    <tr>\n",
       "      <th>13</th>\n",
       "      <td>ADOSGotham_Rest-RepBeh</td>\n",
       "      <td>0.051168</td>\n",
       "      <td>0.069848</td>\n",
       "      <td>-0.018680</td>\n",
       "      <td>0.471797</td>\n",
       "      <td>0.325702</td>\n",
       "      <td>200.0</td>\n",
       "    </tr>\n",
       "    <tr>\n",
       "      <th>14</th>\n",
       "      <td>ADOSGotham_Total</td>\n",
       "      <td>0.106902</td>\n",
       "      <td>0.153213</td>\n",
       "      <td>-0.046311</td>\n",
       "      <td>0.135873</td>\n",
       "      <td>0.032038</td>\n",
       "      <td>196.0</td>\n",
       "    </tr>\n",
       "    <tr>\n",
       "      <th>15</th>\n",
       "      <td>ADOSGotham_Severity</td>\n",
       "      <td>0.097642</td>\n",
       "      <td>0.178203</td>\n",
       "      <td>-0.080560</td>\n",
       "      <td>0.173354</td>\n",
       "      <td>0.012458</td>\n",
       "      <td>196.0</td>\n",
       "    </tr>\n",
       "    <tr>\n",
       "      <th>17</th>\n",
       "      <td>ADOS_PCA</td>\n",
       "      <td>0.026620</td>\n",
       "      <td>0.132728</td>\n",
       "      <td>-0.106108</td>\n",
       "      <td>0.679056</td>\n",
       "      <td>0.038284</td>\n",
       "      <td>244.0</td>\n",
       "    </tr>\n",
       "    <tr>\n",
       "      <th>18</th>\n",
       "      <td>ADI_PCA</td>\n",
       "      <td>0.012537</td>\n",
       "      <td>0.012221</td>\n",
       "      <td>0.000316</td>\n",
       "      <td>0.839031</td>\n",
       "      <td>0.843034</td>\n",
       "      <td>265.0</td>\n",
       "    </tr>\n",
       "    <tr>\n",
       "      <th>47</th>\n",
       "      <td>VIQ</td>\n",
       "      <td>0.044229</td>\n",
       "      <td>0.039154</td>\n",
       "      <td>0.005076</td>\n",
       "      <td>0.384940</td>\n",
       "      <td>0.441867</td>\n",
       "      <td>388.0</td>\n",
       "    </tr>\n",
       "    <tr>\n",
       "      <th>48</th>\n",
       "      <td>PIQ</td>\n",
       "      <td>0.050082</td>\n",
       "      <td>0.026051</td>\n",
       "      <td>0.024031</td>\n",
       "      <td>0.325779</td>\n",
       "      <td>0.609418</td>\n",
       "      <td>387.0</td>\n",
       "    </tr>\n",
       "  </tbody>\n",
       "</table>\n",
       "</div>"
      ],
      "text/plain": [
       "                       key        rx        ry    rdelta        px        py  \\\n",
       "0                AgeAtScan  0.033491  0.069447 -0.035956  0.468860  0.132742   \n",
       "1                      FIQ  0.083872  0.069664  0.014208  0.083073  0.150220   \n",
       "2               ADOS_Total  0.040569  0.125873 -0.085304  0.437173  0.015548   \n",
       "3                ADOS_Comm  0.035994  0.054120 -0.018127  0.505813  0.316893   \n",
       "4              ADOS_Social  0.041764  0.122729 -0.080965  0.439373  0.022611   \n",
       "5               ADOS_StBeh  0.120100  0.000635  0.119465  0.042770  0.991486   \n",
       "6        ADI_R_SocialTotal  0.062295  0.025227  0.037068  0.274200  0.658168   \n",
       "7        ADI_R_VerbalTotal  0.002839  0.015900 -0.013061  0.960234  0.780028   \n",
       "8                ADI_R_RRB  0.080997  0.039812  0.041185  0.154832  0.484922   \n",
       "9        ADI_R_Onset Total  0.034796  0.042932 -0.008136  0.559933  0.471915   \n",
       "10            SRS_RawTotal  0.033635  0.138826 -0.105192  0.645017  0.056105   \n",
       "12    ADOSGotham_SocAffect  0.094068  0.130467 -0.036399  0.190857  0.069073   \n",
       "13  ADOSGotham_Rest-RepBeh  0.051168  0.069848 -0.018680  0.471797  0.325702   \n",
       "14        ADOSGotham_Total  0.106902  0.153213 -0.046311  0.135873  0.032038   \n",
       "15     ADOSGotham_Severity  0.097642  0.178203 -0.080560  0.173354  0.012458   \n",
       "17                ADOS_PCA  0.026620  0.132728 -0.106108  0.679056  0.038284   \n",
       "18                 ADI_PCA  0.012537  0.012221  0.000316  0.839031  0.843034   \n",
       "47                     VIQ  0.044229  0.039154  0.005076  0.384940  0.441867   \n",
       "48                     PIQ  0.050082  0.026051  0.024031  0.325779  0.609418   \n",
       "\n",
       "        n  \n",
       "0   470.0  \n",
       "1   428.0  \n",
       "2   369.0  \n",
       "3   344.0  \n",
       "4   345.0  \n",
       "5   285.0  \n",
       "6   310.0  \n",
       "7   311.0  \n",
       "8   310.0  \n",
       "9   283.0  \n",
       "10  190.0  \n",
       "12  195.0  \n",
       "13  200.0  \n",
       "14  196.0  \n",
       "15  196.0  \n",
       "17  244.0  \n",
       "18  265.0  \n",
       "47  388.0  \n",
       "48  387.0  "
      ]
     },
     "execution_count": 37,
     "metadata": {},
     "output_type": "execute_result"
    }
   ],
   "source": [
    "dr"
   ]
  },
  {
   "cell_type": "code",
   "execution_count": null,
   "metadata": {},
   "outputs": [],
   "source": []
  },
  {
   "cell_type": "code",
   "execution_count": null,
   "metadata": {},
   "outputs": [],
   "source": []
  },
  {
   "cell_type": "code",
   "execution_count": 38,
   "metadata": {},
   "outputs": [
    {
     "data": {
      "text/html": [
       "<div>\n",
       "<style scoped>\n",
       "    .dataframe tbody tr th:only-of-type {\n",
       "        vertical-align: middle;\n",
       "    }\n",
       "\n",
       "    .dataframe tbody tr th {\n",
       "        vertical-align: top;\n",
       "    }\n",
       "\n",
       "    .dataframe thead th {\n",
       "        text-align: right;\n",
       "    }\n",
       "</style>\n",
       "<table border=\"1\" class=\"dataframe\">\n",
       "  <thead>\n",
       "    <tr style=\"text-align: right;\">\n",
       "      <th></th>\n",
       "      <th>key</th>\n",
       "      <th>rx</th>\n",
       "      <th>ry</th>\n",
       "      <th>rdelta</th>\n",
       "      <th>px</th>\n",
       "      <th>py</th>\n",
       "      <th>n</th>\n",
       "    </tr>\n",
       "  </thead>\n",
       "  <tbody>\n",
       "    <tr>\n",
       "      <th>0</th>\n",
       "      <td>AgeAtScan</td>\n",
       "      <td>0.033491</td>\n",
       "      <td>0.069447</td>\n",
       "      <td>-0.035956</td>\n",
       "      <td>0.468860</td>\n",
       "      <td>0.132742</td>\n",
       "      <td>470.0</td>\n",
       "    </tr>\n",
       "    <tr>\n",
       "      <th>1</th>\n",
       "      <td>FIQ</td>\n",
       "      <td>0.083872</td>\n",
       "      <td>0.069664</td>\n",
       "      <td>0.014208</td>\n",
       "      <td>0.083073</td>\n",
       "      <td>0.150220</td>\n",
       "      <td>428.0</td>\n",
       "    </tr>\n",
       "    <tr>\n",
       "      <th>2</th>\n",
       "      <td>ADOS_Total</td>\n",
       "      <td>0.040569</td>\n",
       "      <td>0.125873</td>\n",
       "      <td>-0.085304</td>\n",
       "      <td>0.437173</td>\n",
       "      <td>0.015548</td>\n",
       "      <td>369.0</td>\n",
       "    </tr>\n",
       "    <tr>\n",
       "      <th>3</th>\n",
       "      <td>ADOS_Comm</td>\n",
       "      <td>0.035994</td>\n",
       "      <td>0.054120</td>\n",
       "      <td>-0.018127</td>\n",
       "      <td>0.505813</td>\n",
       "      <td>0.316893</td>\n",
       "      <td>344.0</td>\n",
       "    </tr>\n",
       "    <tr>\n",
       "      <th>4</th>\n",
       "      <td>ADOS_Social</td>\n",
       "      <td>0.041764</td>\n",
       "      <td>0.122729</td>\n",
       "      <td>-0.080965</td>\n",
       "      <td>0.439373</td>\n",
       "      <td>0.022611</td>\n",
       "      <td>345.0</td>\n",
       "    </tr>\n",
       "  </tbody>\n",
       "</table>\n",
       "</div>"
      ],
      "text/plain": [
       "           key        rx        ry    rdelta        px        py      n\n",
       "0    AgeAtScan  0.033491  0.069447 -0.035956  0.468860  0.132742  470.0\n",
       "1          FIQ  0.083872  0.069664  0.014208  0.083073  0.150220  428.0\n",
       "2   ADOS_Total  0.040569  0.125873 -0.085304  0.437173  0.015548  369.0\n",
       "3    ADOS_Comm  0.035994  0.054120 -0.018127  0.505813  0.316893  344.0\n",
       "4  ADOS_Social  0.041764  0.122729 -0.080965  0.439373  0.022611  345.0"
      ]
     },
     "execution_count": 38,
     "metadata": {},
     "output_type": "execute_result"
    }
   ],
   "source": [
    "dr.head()"
   ]
  },
  {
   "cell_type": "code",
   "execution_count": 39,
   "metadata": {},
   "outputs": [
    {
     "data": {
      "text/html": [
       "<div>\n",
       "<style scoped>\n",
       "    .dataframe tbody tr th:only-of-type {\n",
       "        vertical-align: middle;\n",
       "    }\n",
       "\n",
       "    .dataframe tbody tr th {\n",
       "        vertical-align: top;\n",
       "    }\n",
       "\n",
       "    .dataframe thead th {\n",
       "        text-align: right;\n",
       "    }\n",
       "</style>\n",
       "<table border=\"1\" class=\"dataframe\">\n",
       "  <thead>\n",
       "    <tr style=\"text-align: right;\">\n",
       "      <th></th>\n",
       "      <th>key</th>\n",
       "      <th>rx</th>\n",
       "      <th>ry</th>\n",
       "      <th>rdelta</th>\n",
       "      <th>px</th>\n",
       "      <th>py</th>\n",
       "      <th>n</th>\n",
       "    </tr>\n",
       "  </thead>\n",
       "  <tbody>\n",
       "    <tr>\n",
       "      <th>5</th>\n",
       "      <td>ADOS_StBeh</td>\n",
       "      <td>0.120100</td>\n",
       "      <td>0.000635</td>\n",
       "      <td>0.119465</td>\n",
       "      <td>0.042770</td>\n",
       "      <td>0.991486</td>\n",
       "      <td>285.0</td>\n",
       "    </tr>\n",
       "    <tr>\n",
       "      <th>1</th>\n",
       "      <td>FIQ</td>\n",
       "      <td>0.083872</td>\n",
       "      <td>0.069664</td>\n",
       "      <td>0.014208</td>\n",
       "      <td>0.083073</td>\n",
       "      <td>0.150220</td>\n",
       "      <td>428.0</td>\n",
       "    </tr>\n",
       "    <tr>\n",
       "      <th>14</th>\n",
       "      <td>ADOSGotham_Total</td>\n",
       "      <td>0.106902</td>\n",
       "      <td>0.153213</td>\n",
       "      <td>-0.046311</td>\n",
       "      <td>0.135873</td>\n",
       "      <td>0.032038</td>\n",
       "      <td>196.0</td>\n",
       "    </tr>\n",
       "    <tr>\n",
       "      <th>8</th>\n",
       "      <td>ADI_R_RRB</td>\n",
       "      <td>0.080997</td>\n",
       "      <td>0.039812</td>\n",
       "      <td>0.041185</td>\n",
       "      <td>0.154832</td>\n",
       "      <td>0.484922</td>\n",
       "      <td>310.0</td>\n",
       "    </tr>\n",
       "    <tr>\n",
       "      <th>15</th>\n",
       "      <td>ADOSGotham_Severity</td>\n",
       "      <td>0.097642</td>\n",
       "      <td>0.178203</td>\n",
       "      <td>-0.080560</td>\n",
       "      <td>0.173354</td>\n",
       "      <td>0.012458</td>\n",
       "      <td>196.0</td>\n",
       "    </tr>\n",
       "  </tbody>\n",
       "</table>\n",
       "</div>"
      ],
      "text/plain": [
       "                    key        rx        ry    rdelta        px        py  \\\n",
       "5            ADOS_StBeh  0.120100  0.000635  0.119465  0.042770  0.991486   \n",
       "1                   FIQ  0.083872  0.069664  0.014208  0.083073  0.150220   \n",
       "14     ADOSGotham_Total  0.106902  0.153213 -0.046311  0.135873  0.032038   \n",
       "8             ADI_R_RRB  0.080997  0.039812  0.041185  0.154832  0.484922   \n",
       "15  ADOSGotham_Severity  0.097642  0.178203 -0.080560  0.173354  0.012458   \n",
       "\n",
       "        n  \n",
       "5   285.0  \n",
       "1   428.0  \n",
       "14  196.0  \n",
       "8   310.0  \n",
       "15  196.0  "
      ]
     },
     "execution_count": 39,
     "metadata": {},
     "output_type": "execute_result"
    }
   ],
   "source": [
    "dr.sort_values(by='px',ascending=True).head(5)"
   ]
  },
  {
   "cell_type": "code",
   "execution_count": 40,
   "metadata": {},
   "outputs": [
    {
     "data": {
      "text/html": [
       "<div>\n",
       "<style scoped>\n",
       "    .dataframe tbody tr th:only-of-type {\n",
       "        vertical-align: middle;\n",
       "    }\n",
       "\n",
       "    .dataframe tbody tr th {\n",
       "        vertical-align: top;\n",
       "    }\n",
       "\n",
       "    .dataframe thead th {\n",
       "        text-align: right;\n",
       "    }\n",
       "</style>\n",
       "<table border=\"1\" class=\"dataframe\">\n",
       "  <thead>\n",
       "    <tr style=\"text-align: right;\">\n",
       "      <th></th>\n",
       "      <th>key</th>\n",
       "      <th>rx</th>\n",
       "      <th>ry</th>\n",
       "      <th>rdelta</th>\n",
       "      <th>px</th>\n",
       "      <th>py</th>\n",
       "      <th>n</th>\n",
       "    </tr>\n",
       "  </thead>\n",
       "  <tbody>\n",
       "    <tr>\n",
       "      <th>15</th>\n",
       "      <td>ADOSGotham_Severity</td>\n",
       "      <td>0.097642</td>\n",
       "      <td>0.178203</td>\n",
       "      <td>-0.080560</td>\n",
       "      <td>0.173354</td>\n",
       "      <td>0.012458</td>\n",
       "      <td>196.0</td>\n",
       "    </tr>\n",
       "    <tr>\n",
       "      <th>2</th>\n",
       "      <td>ADOS_Total</td>\n",
       "      <td>0.040569</td>\n",
       "      <td>0.125873</td>\n",
       "      <td>-0.085304</td>\n",
       "      <td>0.437173</td>\n",
       "      <td>0.015548</td>\n",
       "      <td>369.0</td>\n",
       "    </tr>\n",
       "    <tr>\n",
       "      <th>4</th>\n",
       "      <td>ADOS_Social</td>\n",
       "      <td>0.041764</td>\n",
       "      <td>0.122729</td>\n",
       "      <td>-0.080965</td>\n",
       "      <td>0.439373</td>\n",
       "      <td>0.022611</td>\n",
       "      <td>345.0</td>\n",
       "    </tr>\n",
       "    <tr>\n",
       "      <th>14</th>\n",
       "      <td>ADOSGotham_Total</td>\n",
       "      <td>0.106902</td>\n",
       "      <td>0.153213</td>\n",
       "      <td>-0.046311</td>\n",
       "      <td>0.135873</td>\n",
       "      <td>0.032038</td>\n",
       "      <td>196.0</td>\n",
       "    </tr>\n",
       "    <tr>\n",
       "      <th>17</th>\n",
       "      <td>ADOS_PCA</td>\n",
       "      <td>0.026620</td>\n",
       "      <td>0.132728</td>\n",
       "      <td>-0.106108</td>\n",
       "      <td>0.679056</td>\n",
       "      <td>0.038284</td>\n",
       "      <td>244.0</td>\n",
       "    </tr>\n",
       "  </tbody>\n",
       "</table>\n",
       "</div>"
      ],
      "text/plain": [
       "                    key        rx        ry    rdelta        px        py  \\\n",
       "15  ADOSGotham_Severity  0.097642  0.178203 -0.080560  0.173354  0.012458   \n",
       "2            ADOS_Total  0.040569  0.125873 -0.085304  0.437173  0.015548   \n",
       "4           ADOS_Social  0.041764  0.122729 -0.080965  0.439373  0.022611   \n",
       "14     ADOSGotham_Total  0.106902  0.153213 -0.046311  0.135873  0.032038   \n",
       "17             ADOS_PCA  0.026620  0.132728 -0.106108  0.679056  0.038284   \n",
       "\n",
       "        n  \n",
       "15  196.0  \n",
       "2   369.0  \n",
       "4   345.0  \n",
       "14  196.0  \n",
       "17  244.0  "
      ]
     },
     "execution_count": 40,
     "metadata": {},
     "output_type": "execute_result"
    }
   ],
   "source": [
    "dr.sort_values(by='py',ascending=True).head(5)"
   ]
  },
  {
   "cell_type": "code",
   "execution_count": 41,
   "metadata": {},
   "outputs": [
    {
     "data": {
      "text/html": [
       "<div>\n",
       "<style scoped>\n",
       "    .dataframe tbody tr th:only-of-type {\n",
       "        vertical-align: middle;\n",
       "    }\n",
       "\n",
       "    .dataframe tbody tr th {\n",
       "        vertical-align: top;\n",
       "    }\n",
       "\n",
       "    .dataframe thead th {\n",
       "        text-align: right;\n",
       "    }\n",
       "</style>\n",
       "<table border=\"1\" class=\"dataframe\">\n",
       "  <thead>\n",
       "    <tr style=\"text-align: right;\">\n",
       "      <th></th>\n",
       "      <th>key</th>\n",
       "      <th>rx</th>\n",
       "      <th>ry</th>\n",
       "      <th>rdelta</th>\n",
       "      <th>px</th>\n",
       "      <th>py</th>\n",
       "      <th>n</th>\n",
       "    </tr>\n",
       "  </thead>\n",
       "  <tbody>\n",
       "    <tr>\n",
       "      <th>5</th>\n",
       "      <td>ADOS_StBeh</td>\n",
       "      <td>0.120100</td>\n",
       "      <td>0.000635</td>\n",
       "      <td>0.119465</td>\n",
       "      <td>0.042770</td>\n",
       "      <td>0.991486</td>\n",
       "      <td>285.0</td>\n",
       "    </tr>\n",
       "    <tr>\n",
       "      <th>8</th>\n",
       "      <td>ADI_R_RRB</td>\n",
       "      <td>0.080997</td>\n",
       "      <td>0.039812</td>\n",
       "      <td>0.041185</td>\n",
       "      <td>0.154832</td>\n",
       "      <td>0.484922</td>\n",
       "      <td>310.0</td>\n",
       "    </tr>\n",
       "    <tr>\n",
       "      <th>6</th>\n",
       "      <td>ADI_R_SocialTotal</td>\n",
       "      <td>0.062295</td>\n",
       "      <td>0.025227</td>\n",
       "      <td>0.037068</td>\n",
       "      <td>0.274200</td>\n",
       "      <td>0.658168</td>\n",
       "      <td>310.0</td>\n",
       "    </tr>\n",
       "    <tr>\n",
       "      <th>48</th>\n",
       "      <td>PIQ</td>\n",
       "      <td>0.050082</td>\n",
       "      <td>0.026051</td>\n",
       "      <td>0.024031</td>\n",
       "      <td>0.325779</td>\n",
       "      <td>0.609418</td>\n",
       "      <td>387.0</td>\n",
       "    </tr>\n",
       "    <tr>\n",
       "      <th>1</th>\n",
       "      <td>FIQ</td>\n",
       "      <td>0.083872</td>\n",
       "      <td>0.069664</td>\n",
       "      <td>0.014208</td>\n",
       "      <td>0.083073</td>\n",
       "      <td>0.150220</td>\n",
       "      <td>428.0</td>\n",
       "    </tr>\n",
       "  </tbody>\n",
       "</table>\n",
       "</div>"
      ],
      "text/plain": [
       "                  key        rx        ry    rdelta        px        py      n\n",
       "5          ADOS_StBeh  0.120100  0.000635  0.119465  0.042770  0.991486  285.0\n",
       "8           ADI_R_RRB  0.080997  0.039812  0.041185  0.154832  0.484922  310.0\n",
       "6   ADI_R_SocialTotal  0.062295  0.025227  0.037068  0.274200  0.658168  310.0\n",
       "48                PIQ  0.050082  0.026051  0.024031  0.325779  0.609418  387.0\n",
       "1                 FIQ  0.083872  0.069664  0.014208  0.083073  0.150220  428.0"
      ]
     },
     "execution_count": 41,
     "metadata": {},
     "output_type": "execute_result"
    }
   ],
   "source": [
    "dr.sort_values(by='rdelta',ascending=False).head()"
   ]
  },
  {
   "cell_type": "code",
   "execution_count": 42,
   "metadata": {},
   "outputs": [
    {
     "data": {
      "text/html": [
       "<div>\n",
       "<style scoped>\n",
       "    .dataframe tbody tr th:only-of-type {\n",
       "        vertical-align: middle;\n",
       "    }\n",
       "\n",
       "    .dataframe tbody tr th {\n",
       "        vertical-align: top;\n",
       "    }\n",
       "\n",
       "    .dataframe thead th {\n",
       "        text-align: right;\n",
       "    }\n",
       "</style>\n",
       "<table border=\"1\" class=\"dataframe\">\n",
       "  <thead>\n",
       "    <tr style=\"text-align: right;\">\n",
       "      <th></th>\n",
       "      <th>key</th>\n",
       "      <th>rx</th>\n",
       "      <th>ry</th>\n",
       "      <th>rdelta</th>\n",
       "      <th>px</th>\n",
       "      <th>py</th>\n",
       "      <th>n</th>\n",
       "    </tr>\n",
       "  </thead>\n",
       "  <tbody>\n",
       "    <tr>\n",
       "      <th>17</th>\n",
       "      <td>ADOS_PCA</td>\n",
       "      <td>0.026620</td>\n",
       "      <td>0.132728</td>\n",
       "      <td>-0.106108</td>\n",
       "      <td>0.679056</td>\n",
       "      <td>0.038284</td>\n",
       "      <td>244.0</td>\n",
       "    </tr>\n",
       "    <tr>\n",
       "      <th>10</th>\n",
       "      <td>SRS_RawTotal</td>\n",
       "      <td>0.033635</td>\n",
       "      <td>0.138826</td>\n",
       "      <td>-0.105192</td>\n",
       "      <td>0.645017</td>\n",
       "      <td>0.056105</td>\n",
       "      <td>190.0</td>\n",
       "    </tr>\n",
       "    <tr>\n",
       "      <th>2</th>\n",
       "      <td>ADOS_Total</td>\n",
       "      <td>0.040569</td>\n",
       "      <td>0.125873</td>\n",
       "      <td>-0.085304</td>\n",
       "      <td>0.437173</td>\n",
       "      <td>0.015548</td>\n",
       "      <td>369.0</td>\n",
       "    </tr>\n",
       "    <tr>\n",
       "      <th>4</th>\n",
       "      <td>ADOS_Social</td>\n",
       "      <td>0.041764</td>\n",
       "      <td>0.122729</td>\n",
       "      <td>-0.080965</td>\n",
       "      <td>0.439373</td>\n",
       "      <td>0.022611</td>\n",
       "      <td>345.0</td>\n",
       "    </tr>\n",
       "    <tr>\n",
       "      <th>15</th>\n",
       "      <td>ADOSGotham_Severity</td>\n",
       "      <td>0.097642</td>\n",
       "      <td>0.178203</td>\n",
       "      <td>-0.080560</td>\n",
       "      <td>0.173354</td>\n",
       "      <td>0.012458</td>\n",
       "      <td>196.0</td>\n",
       "    </tr>\n",
       "  </tbody>\n",
       "</table>\n",
       "</div>"
      ],
      "text/plain": [
       "                    key        rx        ry    rdelta        px        py  \\\n",
       "17             ADOS_PCA  0.026620  0.132728 -0.106108  0.679056  0.038284   \n",
       "10         SRS_RawTotal  0.033635  0.138826 -0.105192  0.645017  0.056105   \n",
       "2            ADOS_Total  0.040569  0.125873 -0.085304  0.437173  0.015548   \n",
       "4           ADOS_Social  0.041764  0.122729 -0.080965  0.439373  0.022611   \n",
       "15  ADOSGotham_Severity  0.097642  0.178203 -0.080560  0.173354  0.012458   \n",
       "\n",
       "        n  \n",
       "17  244.0  \n",
       "10  190.0  \n",
       "2   369.0  \n",
       "4   345.0  \n",
       "15  196.0  "
      ]
     },
     "execution_count": 42,
     "metadata": {},
     "output_type": "execute_result"
    }
   ],
   "source": [
    "dr_sorted = dr.sort_values(by='rdelta',ascending=True)\n",
    "dr_sorted.head()"
   ]
  },
  {
   "cell_type": "code",
   "execution_count": null,
   "metadata": {},
   "outputs": [],
   "source": []
  },
  {
   "cell_type": "code",
   "execution_count": 43,
   "metadata": {},
   "outputs": [
    {
     "data": {
      "image/png": "[encoded data removed]",
      "text/plain": [
       "<Figure size 360x1080 with 1 Axes>"
      ]
     },
     "metadata": {
      "needs_background": "light"
     },
     "output_type": "display_data"
    }
   ],
   "source": [
    "y = dr_sorted['rdelta'].values\n",
    "x = np.arange(len(y))\n",
    "lbls = dr_sorted['key'].values\n",
    "\n",
    "plt.figure(figsize=(5,15))\n",
    "plt.plot(y,x,'k.',markersize=20)\n",
    "plt.yticks(x,labels=lbls,rotation=0);"
   ]
  },
  {
   "cell_type": "code",
   "execution_count": null,
   "metadata": {},
   "outputs": [],
   "source": []
  },
  {
   "cell_type": "code",
   "execution_count": null,
   "metadata": {},
   "outputs": [],
   "source": []
  },
  {
   "cell_type": "code",
   "execution_count": 44,
   "metadata": {},
   "outputs": [
    {
     "data": {
      "text/html": [
       "<div>\n",
       "<style scoped>\n",
       "    .dataframe tbody tr th:only-of-type {\n",
       "        vertical-align: middle;\n",
       "    }\n",
       "\n",
       "    .dataframe tbody tr th {\n",
       "        vertical-align: top;\n",
       "    }\n",
       "\n",
       "    .dataframe thead th {\n",
       "        text-align: right;\n",
       "    }\n",
       "</style>\n",
       "<table border=\"1\" class=\"dataframe\">\n",
       "  <thead>\n",
       "    <tr style=\"text-align: right;\">\n",
       "      <th></th>\n",
       "      <th>key</th>\n",
       "      <th>rx</th>\n",
       "      <th>ry</th>\n",
       "      <th>rdelta</th>\n",
       "      <th>px</th>\n",
       "      <th>py</th>\n",
       "      <th>n</th>\n",
       "    </tr>\n",
       "  </thead>\n",
       "  <tbody>\n",
       "    <tr>\n",
       "      <th>5</th>\n",
       "      <td>ADOS_StBeh</td>\n",
       "      <td>0.120100</td>\n",
       "      <td>0.000635</td>\n",
       "      <td>0.119465</td>\n",
       "      <td>0.042770</td>\n",
       "      <td>0.991486</td>\n",
       "      <td>285.0</td>\n",
       "    </tr>\n",
       "    <tr>\n",
       "      <th>14</th>\n",
       "      <td>ADOSGotham_Total</td>\n",
       "      <td>0.106902</td>\n",
       "      <td>0.153213</td>\n",
       "      <td>-0.046311</td>\n",
       "      <td>0.135873</td>\n",
       "      <td>0.032038</td>\n",
       "      <td>196.0</td>\n",
       "    </tr>\n",
       "    <tr>\n",
       "      <th>15</th>\n",
       "      <td>ADOSGotham_Severity</td>\n",
       "      <td>0.097642</td>\n",
       "      <td>0.178203</td>\n",
       "      <td>-0.080560</td>\n",
       "      <td>0.173354</td>\n",
       "      <td>0.012458</td>\n",
       "      <td>196.0</td>\n",
       "    </tr>\n",
       "    <tr>\n",
       "      <th>12</th>\n",
       "      <td>ADOSGotham_SocAffect</td>\n",
       "      <td>0.094068</td>\n",
       "      <td>0.130467</td>\n",
       "      <td>-0.036399</td>\n",
       "      <td>0.190857</td>\n",
       "      <td>0.069073</td>\n",
       "      <td>195.0</td>\n",
       "    </tr>\n",
       "    <tr>\n",
       "      <th>1</th>\n",
       "      <td>FIQ</td>\n",
       "      <td>0.083872</td>\n",
       "      <td>0.069664</td>\n",
       "      <td>0.014208</td>\n",
       "      <td>0.083073</td>\n",
       "      <td>0.150220</td>\n",
       "      <td>428.0</td>\n",
       "    </tr>\n",
       "  </tbody>\n",
       "</table>\n",
       "</div>"
      ],
      "text/plain": [
       "                     key        rx        ry    rdelta        px        py  \\\n",
       "5             ADOS_StBeh  0.120100  0.000635  0.119465  0.042770  0.991486   \n",
       "14      ADOSGotham_Total  0.106902  0.153213 -0.046311  0.135873  0.032038   \n",
       "15   ADOSGotham_Severity  0.097642  0.178203 -0.080560  0.173354  0.012458   \n",
       "12  ADOSGotham_SocAffect  0.094068  0.130467 -0.036399  0.190857  0.069073   \n",
       "1                    FIQ  0.083872  0.069664  0.014208  0.083073  0.150220   \n",
       "\n",
       "        n  \n",
       "5   285.0  \n",
       "14  196.0  \n",
       "15  196.0  \n",
       "12  195.0  \n",
       "1   428.0  "
      ]
     },
     "execution_count": 44,
     "metadata": {},
     "output_type": "execute_result"
    }
   ],
   "source": [
    "dr.sort_values(by='rx',ascending=False).head()"
   ]
  },
  {
   "cell_type": "code",
   "execution_count": 45,
   "metadata": {},
   "outputs": [
    {
     "data": {
      "text/html": [
       "<div>\n",
       "<style scoped>\n",
       "    .dataframe tbody tr th:only-of-type {\n",
       "        vertical-align: middle;\n",
       "    }\n",
       "\n",
       "    .dataframe tbody tr th {\n",
       "        vertical-align: top;\n",
       "    }\n",
       "\n",
       "    .dataframe thead th {\n",
       "        text-align: right;\n",
       "    }\n",
       "</style>\n",
       "<table border=\"1\" class=\"dataframe\">\n",
       "  <thead>\n",
       "    <tr style=\"text-align: right;\">\n",
       "      <th></th>\n",
       "      <th>key</th>\n",
       "      <th>rx</th>\n",
       "      <th>ry</th>\n",
       "      <th>rdelta</th>\n",
       "      <th>px</th>\n",
       "      <th>py</th>\n",
       "      <th>n</th>\n",
       "    </tr>\n",
       "  </thead>\n",
       "  <tbody>\n",
       "    <tr>\n",
       "      <th>15</th>\n",
       "      <td>ADOSGotham_Severity</td>\n",
       "      <td>0.097642</td>\n",
       "      <td>0.178203</td>\n",
       "      <td>-0.080560</td>\n",
       "      <td>0.173354</td>\n",
       "      <td>0.012458</td>\n",
       "      <td>196.0</td>\n",
       "    </tr>\n",
       "    <tr>\n",
       "      <th>14</th>\n",
       "      <td>ADOSGotham_Total</td>\n",
       "      <td>0.106902</td>\n",
       "      <td>0.153213</td>\n",
       "      <td>-0.046311</td>\n",
       "      <td>0.135873</td>\n",
       "      <td>0.032038</td>\n",
       "      <td>196.0</td>\n",
       "    </tr>\n",
       "    <tr>\n",
       "      <th>10</th>\n",
       "      <td>SRS_RawTotal</td>\n",
       "      <td>0.033635</td>\n",
       "      <td>0.138826</td>\n",
       "      <td>-0.105192</td>\n",
       "      <td>0.645017</td>\n",
       "      <td>0.056105</td>\n",
       "      <td>190.0</td>\n",
       "    </tr>\n",
       "    <tr>\n",
       "      <th>17</th>\n",
       "      <td>ADOS_PCA</td>\n",
       "      <td>0.026620</td>\n",
       "      <td>0.132728</td>\n",
       "      <td>-0.106108</td>\n",
       "      <td>0.679056</td>\n",
       "      <td>0.038284</td>\n",
       "      <td>244.0</td>\n",
       "    </tr>\n",
       "    <tr>\n",
       "      <th>12</th>\n",
       "      <td>ADOSGotham_SocAffect</td>\n",
       "      <td>0.094068</td>\n",
       "      <td>0.130467</td>\n",
       "      <td>-0.036399</td>\n",
       "      <td>0.190857</td>\n",
       "      <td>0.069073</td>\n",
       "      <td>195.0</td>\n",
       "    </tr>\n",
       "  </tbody>\n",
       "</table>\n",
       "</div>"
      ],
      "text/plain": [
       "                     key        rx        ry    rdelta        px        py  \\\n",
       "15   ADOSGotham_Severity  0.097642  0.178203 -0.080560  0.173354  0.012458   \n",
       "14      ADOSGotham_Total  0.106902  0.153213 -0.046311  0.135873  0.032038   \n",
       "10          SRS_RawTotal  0.033635  0.138826 -0.105192  0.645017  0.056105   \n",
       "17              ADOS_PCA  0.026620  0.132728 -0.106108  0.679056  0.038284   \n",
       "12  ADOSGotham_SocAffect  0.094068  0.130467 -0.036399  0.190857  0.069073   \n",
       "\n",
       "        n  \n",
       "15  196.0  \n",
       "14  196.0  \n",
       "10  190.0  \n",
       "17  244.0  \n",
       "12  195.0  "
      ]
     },
     "execution_count": 45,
     "metadata": {},
     "output_type": "execute_result"
    }
   ],
   "source": [
    "dr.sort_values(by='ry',ascending=False).head()"
   ]
  },
  {
   "cell_type": "code",
   "execution_count": 46,
   "metadata": {},
   "outputs": [],
   "source": [
    "import scipy"
   ]
  },
  {
   "cell_type": "code",
   "execution_count": 47,
   "metadata": {},
   "outputs": [],
   "source": [
    "linkage = scipy.cluster.hierarchy.linkage\n",
    "dendrogram = scipy.cluster.hierarchy.dendrogram"
   ]
  },
  {
   "cell_type": "code",
   "execution_count": null,
   "metadata": {},
   "outputs": [],
   "source": []
  },
  {
   "cell_type": "code",
   "execution_count": 48,
   "metadata": {},
   "outputs": [
    {
     "data": {
      "image/png": "[encoded data removed]",
      "text/plain": [
       "<Figure size 360x720 with 1 Axes>"
      ]
     },
     "metadata": {
      "needs_background": "light"
     },
     "output_type": "display_data"
    }
   ],
   "source": [
    "plt.figure(figsize=(5,10))\n",
    "Z = linkage(1-dr['rdelta'].values[:,np.newaxis],'ward')\n",
    "dendrogram(Z,0,orientation='left',labels=dr['key'].values);"
   ]
  },
  {
   "cell_type": "code",
   "execution_count": 49,
   "metadata": {},
   "outputs": [
    {
     "data": {
      "text/plain": [
       "[<matplotlib.lines.Line2D at 0x15544006e5e0>]"
      ]
     },
     "execution_count": 49,
     "metadata": {},
     "output_type": "execute_result"
    },
    {
     "data": {
      "image/png": "[encoded data removed]",
      "text/plain": [
       "<Figure size 360x1080 with 1 Axes>"
      ]
     },
     "metadata": {
      "needs_background": "light"
     },
     "output_type": "display_data"
    }
   ],
   "source": [
    "dr = dr[dr['n']>150]\n",
    "c = len(dr)\n",
    "plt.figure(figsize=(5,15))\n",
    "plt.plot(np.ones(c),dr['rdelta'].values,'k.',markersize=5)\n",
    "plt.yticks(dr['rdelta'].values,labels=dr['key'].values,rotation=0);\n",
    "plt.plot([.9,1.1],[0,0])"
   ]
  },
  {
   "cell_type": "code",
   "execution_count": 50,
   "metadata": {},
   "outputs": [],
   "source": [
    "## REGRESSION with 16 dimensions"
   ]
  },
  {
   "cell_type": "code",
   "execution_count": 51,
   "metadata": {},
   "outputs": [
    {
     "data": {
      "text/plain": [
       "['salient_vec_abide',\n",
       " 'background_vec_abide',\n",
       " 'vae_vec_abide',\n",
       " 'salient_vec_sfari',\n",
       " 'background_vec_sfari',\n",
       " 'vae_vec_sfari']"
      ]
     },
     "execution_count": 51,
     "metadata": {},
     "output_type": "execute_result"
    }
   ],
   "source": [
    "list(data_latent.keys())"
   ]
  },
  {
   "cell_type": "code",
   "execution_count": 52,
   "metadata": {},
   "outputs": [
    {
     "data": {
      "text/plain": [
       "(10, 982, 16)"
      ]
     },
     "execution_count": 52,
     "metadata": {},
     "output_type": "execute_result"
    }
   ],
   "source": [
    "data_latent['salient_vec_abide'].shape"
   ]
  },
  {
   "cell_type": "code",
   "execution_count": 53,
   "metadata": {},
   "outputs": [],
   "source": [
    "# >>> import numpy as np\n",
    "# >>> from sklearn.linear_model import LinearRegression\n",
    "# >>> X = np.array([[1, 1], [1, 2], [2, 2], [2, 3]])\n",
    "# >>> # y = 1 * x_0 + 2 * x_1 + 3\n",
    "# >>> y = np.dot(X, np.array([1, 2])) + 3\n",
    "# >>> reg = LinearRegression().fit(X, y)\n",
    "# >>> reg.score(X, y)\n",
    "# 1.0\n",
    "# >>> reg.coef_\n",
    "# array([1., 2.])\n",
    "# >>> reg.intercept_\n",
    "# 3.0...\n",
    "# >>> reg.predict(np.array([[3, 5]]))\n",
    "# array([16.])"
   ]
  },
  {
   "cell_type": "code",
   "execution_count": null,
   "metadata": {},
   "outputs": [],
   "source": []
  },
  {
   "cell_type": "code",
   "execution_count": 54,
   "metadata": {},
   "outputs": [],
   "source": [
    "keys = ['AgeAtScan', 'Sex', 'FIQ', 'VIQ', 'PIQ','ADOS_Total', 'ADOS_Comm', 'ADOS_Social', 'ADOS_StBeh','SRS_awareness', 'SRS_cognition', 'SRS_communication',\n",
    "       'SRS_motivation', 'SRS_manierisms']\n",
    "\n",
    "LinearRegression = sklearn.linear_model.LinearRegression\n",
    "\n",
    "coefss = list()\n",
    "for i in range(10):\n",
    "    coefs = list()\n",
    "    for key in keys:\n",
    "       #X = data_latent['salient_vec_abide'][i,patients,:]\n",
    "        X = data_latent['background_vec_abide'][0,patients,:]\n",
    "        #X = data_latent['vae_vec_abide'][0,patients,:]\n",
    "        Y = df[key].values[patients]\n",
    "        v = ~np.isnan(Y)\n",
    "\n",
    "        X = X[v,:]\n",
    "        Y = Y[v]\n",
    "\n",
    "        reg = LinearRegression().fit(X, Y)\n",
    "        coefs.append(reg.coef_)\n",
    "    coefss.append(coefs)"
   ]
  },
  {
   "cell_type": "code",
   "execution_count": null,
   "metadata": {},
   "outputs": [],
   "source": []
  },
  {
   "cell_type": "code",
   "execution_count": 55,
   "metadata": {},
   "outputs": [
    {
     "data": {
      "image/png": "[encoded data removed]",
      "text/plain": [
       "<Figure size 1080x360 with 1 Axes>"
      ]
     },
     "metadata": {
      "needs_background": "light"
     },
     "output_type": "display_data"
    }
   ],
   "source": [
    "plt.figure(figsize=(15,5))\n",
    "coef_mat = np.array(coefs).transpose()\n",
    "coef_mat = np.array(coefss).mean(axis=0).transpose()\n",
    "plt.plot(coef_mat,'.',markersize=25,alpha=.7)\n",
    "plt.legend(keys,bbox_to_anchor=(1.0, 1), loc='upper left')\n",
    "plt.xticks(np.arange(16),labels=np.arange(16)+1);"
   ]
  },
  {
   "cell_type": "code",
   "execution_count": 56,
   "metadata": {},
   "outputs": [],
   "source": [
    "keys = ['Sex','DSMIVTR']\n",
    "\n",
    "LinearRegression = sklearn.linear_model.LinearRegression\n",
    "coefs = list()\n",
    "\n",
    "for key in keys:\n",
    "    X = data_latent['salient_vec_abide'][0,patients,:]\n",
    "    #X = data_latent['background_vec_abide'][0,patients,:]\n",
    "    #X = data_latent['vae_vec_abide'][0,patients,:]\n",
    "    Y = df[key].values[patients]\n",
    "    v = ~np.isnan(Y)\n",
    "\n",
    "    X = X[v,:]\n",
    "    Y = Y[v]\n",
    "\n",
    "    reg = LinearRegression().fit(X, Y)\n",
    "    coefs.append(reg.coef_)"
   ]
  },
  {
   "cell_type": "code",
   "execution_count": 57,
   "metadata": {},
   "outputs": [
    {
     "data": {
      "image/png": "[encoded data removed]",
      "text/plain": [
       "<Figure size 1080x360 with 1 Axes>"
      ]
     },
     "metadata": {
      "needs_background": "light"
     },
     "output_type": "display_data"
    }
   ],
   "source": [
    "plt.figure(figsize=(15,5))\n",
    "coef_mat = np.array(coefs).transpose()\n",
    "plt.plot(coef_mat,'.',markersize=25,alpha=.7)\n",
    "plt.legend(keys,bbox_to_anchor=(1.0, 1), loc='upper left')\n",
    "plt.xticks(np.arange(16),labels=np.arange(16)+1);"
   ]
  },
  {
   "cell_type": "code",
   "execution_count": 58,
   "metadata": {},
   "outputs": [],
   "source": [
    "# Y = scipy.spatial.distance.pdist(coef_mat.transpose(),metric='euclidean')\n",
    "# Z = linkage(Y,'ward');\n",
    "# dendrogram(Z,orientation='left',labels=keys);"
   ]
  },
  {
   "cell_type": "code",
   "execution_count": null,
   "metadata": {},
   "outputs": [],
   "source": []
  },
  {
   "cell_type": "code",
   "execution_count": null,
   "metadata": {},
   "outputs": [],
   "source": []
  },
  {
   "cell_type": "code",
   "execution_count": null,
   "metadata": {},
   "outputs": [],
   "source": []
  },
  {
   "cell_type": "code",
   "execution_count": null,
   "metadata": {},
   "outputs": [],
   "source": []
  },
  {
   "cell_type": "code",
   "execution_count": null,
   "metadata": {},
   "outputs": [],
   "source": []
  },
  {
   "cell_type": "code",
   "execution_count": null,
   "metadata": {},
   "outputs": [],
   "source": []
  },
  {
   "cell_type": "code",
   "execution_count": null,
   "metadata": {},
   "outputs": [],
   "source": []
  },
  {
   "cell_type": "code",
   "execution_count": null,
   "metadata": {},
   "outputs": [],
   "source": []
  }
 ],
 "metadata": {
  "kernelspec": {
   "display_name": "Python 3",
   "language": "python",
   "name": "python3"
  },
  "language_info": {
   "codemirror_mode": {
    "name": "ipython",
    "version": 3
   },
   "file_extension": ".py",
   "mimetype": "text/x-python",
   "name": "python",
   "nbconvert_exporter": "python",
   "pygments_lexer": "ipython3",
   "version": "3.8.5"
  }
 },
 "nbformat": 4,
 "nbformat_minor": 4
}

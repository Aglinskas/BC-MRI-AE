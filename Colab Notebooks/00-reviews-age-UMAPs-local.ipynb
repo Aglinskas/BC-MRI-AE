{
 "cells": [
  {
   "cell_type": "code",
   "execution_count": 1,
   "id": "ba09e640",
   "metadata": {},
   "outputs": [
    {
     "data": {
      "text/plain": [
       "'/Users/aidasaglinskas/Desktop/BC-MRI-AE/Colab Notebooks'"
      ]
     },
     "execution_count": 1,
     "metadata": {},
     "output_type": "execute_result"
    }
   ],
   "source": [
    "pwd"
   ]
  },
  {
   "cell_type": "code",
   "execution_count": 4,
   "id": "1c1c11f9",
   "metadata": {},
   "outputs": [
    {
     "ename": "ModuleNotFoundError",
     "evalue": "No module named 'ants'",
     "output_type": "error",
     "traceback": [
      "\u001b[0;31m---------------------------------------------------------------------------\u001b[0m",
      "\u001b[0;31mModuleNotFoundError\u001b[0m                       Traceback (most recent call last)",
      "Input \u001b[0;32mIn [4]\u001b[0m, in \u001b[0;36m<module>\u001b[0;34m\u001b[0m\n\u001b[1;32m      6\u001b[0m \u001b[38;5;28;01mimport\u001b[39;00m \u001b[38;5;21;01mseaborn\u001b[39;00m \u001b[38;5;28;01mas\u001b[39;00m \u001b[38;5;21;01msns\u001b[39;00m\n\u001b[1;32m      8\u001b[0m \u001b[38;5;28;01mimport\u001b[39;00m \u001b[38;5;21;01mos\u001b[39;00m\n\u001b[0;32m----> 9\u001b[0m \u001b[38;5;28;01mimport\u001b[39;00m \u001b[38;5;21;01mants\u001b[39;00m\n\u001b[1;32m     10\u001b[0m \u001b[38;5;28;01mfrom\u001b[39;00m \u001b[38;5;21;01mtqdm\u001b[39;00m \u001b[38;5;28;01mimport\u001b[39;00m tqdm\n\u001b[1;32m     12\u001b[0m \u001b[38;5;28;01mimport\u001b[39;00m \u001b[38;5;21;01mumap\u001b[39;00m\n",
      "\u001b[0;31mModuleNotFoundError\u001b[0m: No module named 'ants'"
     ]
    }
   ],
   "source": [
    "import numpy as np\n",
    "import pandas as pd\n",
    "import pickle\n",
    "\n",
    "from matplotlib import pyplot as plt\n",
    "import seaborn as sns\n",
    "\n",
    "import os\n",
    "import ants\n",
    "from tqdm import tqdm\n",
    "\n",
    "import umap"
   ]
  },
  {
   "cell_type": "code",
   "execution_count": 3,
   "id": "d7762fb6",
   "metadata": {},
   "outputs": [
    {
     "data": {
      "text/html": [
       "<div>\n",
       "<style scoped>\n",
       "    .dataframe tbody tr th:only-of-type {\n",
       "        vertical-align: middle;\n",
       "    }\n",
       "\n",
       "    .dataframe tbody tr th {\n",
       "        vertical-align: top;\n",
       "    }\n",
       "\n",
       "    .dataframe thead th {\n",
       "        text-align: right;\n",
       "    }\n",
       "</style>\n",
       "<table border=\"1\" class=\"dataframe\">\n",
       "  <thead>\n",
       "    <tr style=\"text-align: right;\">\n",
       "      <th></th>\n",
       "      <th>Unnamed: 0</th>\n",
       "      <th>index</th>\n",
       "      <th>BIDS_ID</th>\n",
       "      <th>Anonymized ID</th>\n",
       "      <th>Subject Type</th>\n",
       "      <th>Visit</th>\n",
       "      <th>Days since enrollment</th>\n",
       "      <th>SubID</th>\n",
       "      <th>DxGroup</th>\n",
       "      <th>DSMIVTR</th>\n",
       "      <th>...</th>\n",
       "      <th>WISC4 Sym Scaled</th>\n",
       "      <th>Age at MPRAGE</th>\n",
       "      <th>Current Med Status</th>\n",
       "      <th>Medication Name</th>\n",
       "      <th>Medication Name.1</th>\n",
       "      <th>Off stimulants at EPI scan?</th>\n",
       "      <th>ScanSite</th>\n",
       "      <th>ScannerType</th>\n",
       "      <th>ScannerID</th>\n",
       "      <th>ScanSiteID</th>\n",
       "    </tr>\n",
       "  </thead>\n",
       "  <tbody>\n",
       "    <tr>\n",
       "      <th>0</th>\n",
       "      <td>0</td>\n",
       "      <td>0</td>\n",
       "      <td>sub-001</td>\n",
       "      <td>A00033348</td>\n",
       "      <td>PATIENT</td>\n",
       "      <td>session_1</td>\n",
       "      <td>8</td>\n",
       "      <td>51320</td>\n",
       "      <td>1</td>\n",
       "      <td>2.0</td>\n",
       "      <td>...</td>\n",
       "      <td>NaN</td>\n",
       "      <td>NaN</td>\n",
       "      <td>0.0</td>\n",
       "      <td>NaN</td>\n",
       "      <td>NaN</td>\n",
       "      <td>NaN</td>\n",
       "      <td>mpg</td>\n",
       "      <td>verio</td>\n",
       "      <td>7</td>\n",
       "      <td>3</td>\n",
       "    </tr>\n",
       "    <tr>\n",
       "      <th>1</th>\n",
       "      <td>1</td>\n",
       "      <td>1</td>\n",
       "      <td>sub-002</td>\n",
       "      <td>A00033398</td>\n",
       "      <td>CONTROL</td>\n",
       "      <td>session_1</td>\n",
       "      <td>8</td>\n",
       "      <td>51373</td>\n",
       "      <td>2</td>\n",
       "      <td>0.0</td>\n",
       "      <td>...</td>\n",
       "      <td>NaN</td>\n",
       "      <td>NaN</td>\n",
       "      <td>0.0</td>\n",
       "      <td>NaN</td>\n",
       "      <td>NaN</td>\n",
       "      <td>NaN</td>\n",
       "      <td>mpg</td>\n",
       "      <td>verio</td>\n",
       "      <td>7</td>\n",
       "      <td>3</td>\n",
       "    </tr>\n",
       "    <tr>\n",
       "      <th>2</th>\n",
       "      <td>2</td>\n",
       "      <td>2</td>\n",
       "      <td>sub-003</td>\n",
       "      <td>A00033352</td>\n",
       "      <td>PATIENT</td>\n",
       "      <td>session_1</td>\n",
       "      <td>8</td>\n",
       "      <td>51324</td>\n",
       "      <td>1</td>\n",
       "      <td>2.0</td>\n",
       "      <td>...</td>\n",
       "      <td>NaN</td>\n",
       "      <td>NaN</td>\n",
       "      <td>0.0</td>\n",
       "      <td>NaN</td>\n",
       "      <td>NaN</td>\n",
       "      <td>NaN</td>\n",
       "      <td>mpg</td>\n",
       "      <td>verio</td>\n",
       "      <td>7</td>\n",
       "      <td>3</td>\n",
       "    </tr>\n",
       "    <tr>\n",
       "      <th>3</th>\n",
       "      <td>3</td>\n",
       "      <td>3</td>\n",
       "      <td>sub-004</td>\n",
       "      <td>A00033389</td>\n",
       "      <td>CONTROL</td>\n",
       "      <td>session_1</td>\n",
       "      <td>8</td>\n",
       "      <td>51364</td>\n",
       "      <td>2</td>\n",
       "      <td>0.0</td>\n",
       "      <td>...</td>\n",
       "      <td>NaN</td>\n",
       "      <td>NaN</td>\n",
       "      <td>0.0</td>\n",
       "      <td>NaN</td>\n",
       "      <td>NaN</td>\n",
       "      <td>NaN</td>\n",
       "      <td>mpg</td>\n",
       "      <td>verio</td>\n",
       "      <td>7</td>\n",
       "      <td>3</td>\n",
       "    </tr>\n",
       "    <tr>\n",
       "      <th>4</th>\n",
       "      <td>4</td>\n",
       "      <td>4</td>\n",
       "      <td>sub-005</td>\n",
       "      <td>A00033354</td>\n",
       "      <td>PATIENT</td>\n",
       "      <td>session_1</td>\n",
       "      <td>8</td>\n",
       "      <td>51326</td>\n",
       "      <td>1</td>\n",
       "      <td>2.0</td>\n",
       "      <td>...</td>\n",
       "      <td>NaN</td>\n",
       "      <td>NaN</td>\n",
       "      <td>0.0</td>\n",
       "      <td>NaN</td>\n",
       "      <td>NaN</td>\n",
       "      <td>NaN</td>\n",
       "      <td>mpg</td>\n",
       "      <td>verio</td>\n",
       "      <td>7</td>\n",
       "      <td>3</td>\n",
       "    </tr>\n",
       "    <tr>\n",
       "      <th>...</th>\n",
       "      <td>...</td>\n",
       "      <td>...</td>\n",
       "      <td>...</td>\n",
       "      <td>...</td>\n",
       "      <td>...</td>\n",
       "      <td>...</td>\n",
       "      <td>...</td>\n",
       "      <td>...</td>\n",
       "      <td>...</td>\n",
       "      <td>...</td>\n",
       "      <td>...</td>\n",
       "      <td>...</td>\n",
       "      <td>...</td>\n",
       "      <td>...</td>\n",
       "      <td>...</td>\n",
       "      <td>...</td>\n",
       "      <td>...</td>\n",
       "      <td>...</td>\n",
       "      <td>...</td>\n",
       "      <td>...</td>\n",
       "      <td>...</td>\n",
       "    </tr>\n",
       "    <tr>\n",
       "      <th>977</th>\n",
       "      <td>977</td>\n",
       "      <td>1094</td>\n",
       "      <td>sub-985</td>\n",
       "      <td>A00032725</td>\n",
       "      <td>CONTROL</td>\n",
       "      <td>session_1</td>\n",
       "      <td>28</td>\n",
       "      <td>51252</td>\n",
       "      <td>2</td>\n",
       "      <td>0.0</td>\n",
       "      <td>...</td>\n",
       "      <td>NaN</td>\n",
       "      <td>10.99</td>\n",
       "      <td>0.0</td>\n",
       "      <td>NaN</td>\n",
       "      <td>NaN</td>\n",
       "      <td>NaN</td>\n",
       "      <td>ucla</td>\n",
       "      <td>triotim</td>\n",
       "      <td>6</td>\n",
       "      <td>12</td>\n",
       "    </tr>\n",
       "    <tr>\n",
       "      <th>978</th>\n",
       "      <td>978</td>\n",
       "      <td>1095</td>\n",
       "      <td>sub-986</td>\n",
       "      <td>A00032704</td>\n",
       "      <td>PATIENT</td>\n",
       "      <td>session_1</td>\n",
       "      <td>28</td>\n",
       "      <td>51229</td>\n",
       "      <td>1</td>\n",
       "      <td>1.0</td>\n",
       "      <td>...</td>\n",
       "      <td>NaN</td>\n",
       "      <td>14.59</td>\n",
       "      <td>0.0</td>\n",
       "      <td>NaN</td>\n",
       "      <td>NaN</td>\n",
       "      <td>NaN</td>\n",
       "      <td>ucla</td>\n",
       "      <td>triotim</td>\n",
       "      <td>6</td>\n",
       "      <td>12</td>\n",
       "    </tr>\n",
       "    <tr>\n",
       "      <th>979</th>\n",
       "      <td>979</td>\n",
       "      <td>1096</td>\n",
       "      <td>sub-987</td>\n",
       "      <td>A00032740</td>\n",
       "      <td>CONTROL</td>\n",
       "      <td>session_1</td>\n",
       "      <td>28</td>\n",
       "      <td>51268</td>\n",
       "      <td>2</td>\n",
       "      <td>0.0</td>\n",
       "      <td>...</td>\n",
       "      <td>NaN</td>\n",
       "      <td>17.78</td>\n",
       "      <td>0.0</td>\n",
       "      <td>NaN</td>\n",
       "      <td>NaN</td>\n",
       "      <td>NaN</td>\n",
       "      <td>ucla</td>\n",
       "      <td>triotim</td>\n",
       "      <td>6</td>\n",
       "      <td>12</td>\n",
       "    </tr>\n",
       "    <tr>\n",
       "      <th>980</th>\n",
       "      <td>980</td>\n",
       "      <td>1098</td>\n",
       "      <td>sub-989</td>\n",
       "      <td>A00032686</td>\n",
       "      <td>PATIENT</td>\n",
       "      <td>session_1</td>\n",
       "      <td>28</td>\n",
       "      <td>51210</td>\n",
       "      <td>1</td>\n",
       "      <td>1.0</td>\n",
       "      <td>...</td>\n",
       "      <td>NaN</td>\n",
       "      <td>16.56</td>\n",
       "      <td>0.0</td>\n",
       "      <td>NaN</td>\n",
       "      <td>NaN</td>\n",
       "      <td>NaN</td>\n",
       "      <td>ucla</td>\n",
       "      <td>triotim</td>\n",
       "      <td>6</td>\n",
       "      <td>12</td>\n",
       "    </tr>\n",
       "    <tr>\n",
       "      <th>981</th>\n",
       "      <td>981</td>\n",
       "      <td>1099</td>\n",
       "      <td>sub-990</td>\n",
       "      <td>A00032702</td>\n",
       "      <td>PATIENT</td>\n",
       "      <td>session_1</td>\n",
       "      <td>28</td>\n",
       "      <td>51227</td>\n",
       "      <td>1</td>\n",
       "      <td>1.0</td>\n",
       "      <td>...</td>\n",
       "      <td>NaN</td>\n",
       "      <td>14.53</td>\n",
       "      <td>0.0</td>\n",
       "      <td>NaN</td>\n",
       "      <td>NaN</td>\n",
       "      <td>NaN</td>\n",
       "      <td>ucla</td>\n",
       "      <td>triotim</td>\n",
       "      <td>6</td>\n",
       "      <td>12</td>\n",
       "    </tr>\n",
       "  </tbody>\n",
       "</table>\n",
       "<p>982 rows × 90 columns</p>\n",
       "</div>"
      ],
      "text/plain": [
       "     Unnamed: 0  index  BIDS_ID Anonymized ID Subject Type      Visit  \\\n",
       "0             0      0  sub-001     A00033348      PATIENT  session_1   \n",
       "1             1      1  sub-002     A00033398      CONTROL  session_1   \n",
       "2             2      2  sub-003     A00033352      PATIENT  session_1   \n",
       "3             3      3  sub-004     A00033389      CONTROL  session_1   \n",
       "4             4      4  sub-005     A00033354      PATIENT  session_1   \n",
       "..          ...    ...      ...           ...          ...        ...   \n",
       "977         977   1094  sub-985     A00032725      CONTROL  session_1   \n",
       "978         978   1095  sub-986     A00032704      PATIENT  session_1   \n",
       "979         979   1096  sub-987     A00032740      CONTROL  session_1   \n",
       "980         980   1098  sub-989     A00032686      PATIENT  session_1   \n",
       "981         981   1099  sub-990     A00032702      PATIENT  session_1   \n",
       "\n",
       "     Days since enrollment  SubID  DxGroup  DSMIVTR  ...  WISC4 Sym Scaled  \\\n",
       "0                        8  51320        1      2.0  ...               NaN   \n",
       "1                        8  51373        2      0.0  ...               NaN   \n",
       "2                        8  51324        1      2.0  ...               NaN   \n",
       "3                        8  51364        2      0.0  ...               NaN   \n",
       "4                        8  51326        1      2.0  ...               NaN   \n",
       "..                     ...    ...      ...      ...  ...               ...   \n",
       "977                     28  51252        2      0.0  ...               NaN   \n",
       "978                     28  51229        1      1.0  ...               NaN   \n",
       "979                     28  51268        2      0.0  ...               NaN   \n",
       "980                     28  51210        1      1.0  ...               NaN   \n",
       "981                     28  51227        1      1.0  ...               NaN   \n",
       "\n",
       "     Age at MPRAGE  Current Med Status  Medication Name  Medication Name.1  \\\n",
       "0              NaN                 0.0              NaN                NaN   \n",
       "1              NaN                 0.0              NaN                NaN   \n",
       "2              NaN                 0.0              NaN                NaN   \n",
       "3              NaN                 0.0              NaN                NaN   \n",
       "4              NaN                 0.0              NaN                NaN   \n",
       "..             ...                 ...              ...                ...   \n",
       "977          10.99                 0.0              NaN                NaN   \n",
       "978          14.59                 0.0              NaN                NaN   \n",
       "979          17.78                 0.0              NaN                NaN   \n",
       "980          16.56                 0.0              NaN                NaN   \n",
       "981          14.53                 0.0              NaN                NaN   \n",
       "\n",
       "    Off stimulants at EPI scan? ScanSite ScannerType  ScannerID  ScanSiteID  \n",
       "0                           NaN      mpg       verio          7           3  \n",
       "1                           NaN      mpg       verio          7           3  \n",
       "2                           NaN      mpg       verio          7           3  \n",
       "3                           NaN      mpg       verio          7           3  \n",
       "4                           NaN      mpg       verio          7           3  \n",
       "..                          ...      ...         ...        ...         ...  \n",
       "977                         NaN     ucla     triotim          6          12  \n",
       "978                         NaN     ucla     triotim          6          12  \n",
       "979                         NaN     ucla     triotim          6          12  \n",
       "980                         NaN     ucla     triotim          6          12  \n",
       "981                         NaN     ucla     triotim          6          12  \n",
       "\n",
       "[982 rows x 90 columns]"
      ]
     },
     "execution_count": 3,
     "metadata": {},
     "output_type": "execute_result"
    }
   ],
   "source": [
    "df = pd.read_csv('../Data/ABIDE_legend_S982.csv')\n",
    "patients = df['DxGroup'].values==1\n",
    "df_asd = df.iloc[patients]\n",
    "df"
   ]
  },
  {
   "cell_type": "code",
   "execution_count": 4,
   "id": "deeea349",
   "metadata": {},
   "outputs": [
    {
     "name": "stdout",
     "output_type": "stream",
     "text": [
      "['salient_vec_abide', 'background_vec_abide', 'vae_vec_abide', 'salient_vec_sfari', 'background_vec_sfari', 'vae_vec_sfari']\n",
      "(10, 982, 16)\n",
      "(10, 982, 16)\n",
      "(10, 982, 32)\n",
      "(10, 121, 16)\n",
      "(10, 121, 16)\n",
      "(10, 121, 32)\n"
     ]
    }
   ],
   "source": [
    "data_latent_vec = np.load('../Data/latent_vecs.npz')\n",
    "keys = list(data_latent_vec.keys())\n",
    "print(keys)\n",
    "for key in keys:\n",
    "    print(data_latent_vec[key].shape)"
   ]
  },
  {
   "cell_type": "code",
   "execution_count": 5,
   "id": "cfcefa93",
   "metadata": {},
   "outputs": [
    {
     "name": "stdout",
     "output_type": "stream",
     "text": [
      "CPU times: user 909 µs, sys: 956 µs, total: 1.87 ms\n",
      "Wall time: 19.3 ms\n"
     ]
    }
   ],
   "source": [
    "%%time\n",
    "embed = pickle.load(open('../Data/embedded_data.pickle','rb'))"
   ]
  },
  {
   "cell_type": "code",
   "execution_count": 6,
   "id": "52dec595",
   "metadata": {},
   "outputs": [
    {
     "name": "stdout",
     "output_type": "stream",
     "text": [
      "embedding_bg | (470, 16)\n",
      "embedding_sl | (470, 16)\n",
      "embedding_vae | (470, 32)\n",
      "sfari_embedding_vae | (51, 32)\n",
      "sfari_embedding_bg | (51, 16)\n",
      "sfari_embedding_sl | (51, 16)\n",
      "bg_space_abide | (470, 2)\n",
      "sl_space_abide | (470, 2)\n",
      "vae_space_abide | (470, 2)\n",
      "bg_space_sfari | (51, 2)\n",
      "sl_space_sfari | (51, 2)\n",
      "vae_space_sfari | (51, 2)\n",
      "bg_Sspace_sfari | (51, 2)\n",
      "sl_Sspace_sfari | (51, 2)\n",
      "vae_Sspace_sfari | (51, 2)\n"
     ]
    }
   ],
   "source": [
    "keys = list(embed.keys())\n",
    "for key in keys:\n",
    "    try:\n",
    "        print(f'{key} | {embed[key].shape}')\n",
    "    except:\n",
    "        pass"
   ]
  },
  {
   "cell_type": "code",
   "execution_count": 7,
   "id": "0d502d79",
   "metadata": {},
   "outputs": [],
   "source": [
    "# m1 = data_latent_vec['salient_vec_abide'][0,patients,:]\n",
    "# m2 = embed['embedding_sl']"
   ]
  },
  {
   "cell_type": "code",
   "execution_count": 8,
   "id": "39d43d9a",
   "metadata": {},
   "outputs": [
    {
     "data": {
      "text/plain": [
       "['N=127', 'N=122', 'N=109', 'N=99']"
      ]
     },
     "execution_count": 8,
     "metadata": {},
     "output_type": "execute_result"
    }
   ],
   "source": [
    "ages = df_asd['AgeAtScan'].values\n",
    "ag1 = ages<12\n",
    "ag2 = (ages>12)*(ages<16)\n",
    "ag3 = (ages>16)*(ages<22)\n",
    "ag4 = ages>22\n",
    "[f'N={group.sum()}' for group in [ag1,ag2,ag3,ag4]]"
   ]
  },
  {
   "cell_type": "code",
   "execution_count": 9,
   "id": "ddb44c69",
   "metadata": {},
   "outputs": [
    {
     "data": {
      "text/plain": [
       "<matplotlib.legend.Legend at 0x1553a4bed070>"
      ]
     },
     "execution_count": 9,
     "metadata": {},
     "output_type": "execute_result"
    },
    {
     "data": {
      "image/png": "[encoded data removed]",
      "text/plain": [
       "<Figure size 432x288 with 1 Axes>"
      ]
     },
     "metadata": {
      "needs_background": "light"
     },
     "output_type": "display_data"
    }
   ],
   "source": [
    "#plt.hist(ages,alpha=.3)\n",
    "plt.hist(ages[ag1]);\n",
    "plt.hist(ages[ag2]);\n",
    "plt.hist(ages[ag3]);\n",
    "plt.hist(ages[ag4]);\n",
    "plt.legend([f'N={group.sum()}' for group in [ag1,ag2,ag3,ag4]])"
   ]
  },
  {
   "cell_type": "code",
   "execution_count": 51,
   "id": "d0f21c11",
   "metadata": {},
   "outputs": [],
   "source": [
    "n_components = 1\n",
    "n_neighbors = 5\n",
    "map_ag1 = umap.UMAP(n_components=n_components,n_neighbors=n_neighbors, random_state=42).fit(embed['embedding_sl'][ag1,:])\n",
    "map_ag2 = umap.UMAP(n_components=n_components,n_neighbors=n_neighbors, random_state=42).fit(embed['embedding_sl'][ag2,:])\n",
    "map_ag3 = umap.UMAP(n_components=n_components,n_neighbors=n_neighbors, random_state=42).fit(embed['embedding_sl'][ag3,:])\n",
    "map_ag4 = umap.UMAP(n_components=n_components,n_neighbors=n_neighbors, random_state=42).fit(embed['embedding_sl'][ag4,:])"
   ]
  },
  {
   "cell_type": "code",
   "execution_count": 52,
   "id": "7213ab1d",
   "metadata": {},
   "outputs": [],
   "source": [
    "mats = [map_ag1,map_ag2,map_ag3,map_ag4]"
   ]
  },
  {
   "cell_type": "code",
   "execution_count": 53,
   "id": "873d9bdb",
   "metadata": {},
   "outputs": [
    {
     "data": {
      "image/png": "[encoded data removed]",
      "text/plain": [
       "<Figure size 432x288 with 1 Axes>"
      ]
     },
     "metadata": {
      "needs_background": "light"
     },
     "output_type": "display_data"
    }
   ],
   "source": [
    "import scipy\n",
    "for idx,mat in enumerate(mats):\n",
    "    #plt.scatter(np.zeros(mat.embedding_.shape)+idx+1,mat.embedding_-mat.embedding_.mean()) \n",
    "    plt.scatter(np.zeros(mat.embedding_.shape)+idx+1,scipy.stats.zscore(mat.embedding_)) "
   ]
  },
  {
   "cell_type": "code",
   "execution_count": 82,
   "id": "ebe97afe",
   "metadata": {},
   "outputs": [],
   "source": [
    "group = map_ag1.embedding_[:,0]\n",
    "h = 20"
   ]
  },
  {
   "cell_type": "code",
   "execution_count": 104,
   "id": "b0d9befe",
   "metadata": {},
   "outputs": [],
   "source": [
    "subs_low = df_asd['BIDS_ID'].values[ag1][np.argsort(group)[0:h]]\n",
    "subs_high = df_asd['BIDS_ID'].values[ag1][np.argsort(group)[-h::]]\n",
    "\n",
    "assert not any([sub in subs_high for sub in subs_low]),'overlap in subs'"
   ]
  },
  {
   "cell_type": "code",
   "execution_count": 122,
   "id": "2b6dde60",
   "metadata": {},
   "outputs": [
    {
     "name": "stderr",
     "output_type": "stream",
     "text": [
      "100%|██████████| 470/470 [00:03<00:00, 136.34it/s]\n"
     ]
    }
   ],
   "source": [
    "home = os.getenv(\"HOME\")\n",
    "j_fn_temp =os.path.join(home,'jacobians/normed_Js/{}_normed_Js.nii')\n",
    "\n",
    "\n",
    "Js = dict()\n",
    "for sub in tqdm(df_asd['BIDS_ID'].values):\n",
    "    Js[sub] = ants.image_read(j_fn_temp.format(sub))"
   ]
  },
  {
   "cell_type": "code",
   "execution_count": 118,
   "id": "de0a21d2",
   "metadata": {},
   "outputs": [],
   "source": []
  },
  {
   "cell_type": "code",
   "execution_count": null,
   "id": "11247fdd",
   "metadata": {},
   "outputs": [],
   "source": []
  },
  {
   "cell_type": "code",
   "execution_count": null,
   "id": "ff6ec738",
   "metadata": {},
   "outputs": [],
   "source": []
  }
 ],
 "metadata": {
  "kernelspec": {
   "display_name": "Python 3 (ipykernel)",
   "language": "python",
   "name": "python3"
  },
  "language_info": {
   "codemirror_mode": {
    "name": "ipython",
    "version": 3
   },
   "file_extension": ".py",
   "mimetype": "text/x-python",
   "name": "python",
   "nbconvert_exporter": "python",
   "pygments_lexer": "ipython3",
   "version": "3.9.7"
  }
 },
 "nbformat": 4,
 "nbformat_minor": 5
}

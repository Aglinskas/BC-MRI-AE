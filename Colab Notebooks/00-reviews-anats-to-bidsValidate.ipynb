{
 "cells": [
  {
   "cell_type": "code",
   "execution_count": 1,
   "id": "c355f655",
   "metadata": {},
   "outputs": [],
   "source": [
    "import os\n",
    "import numpy as np\n",
    "import shutil\n",
    "from tqdm import tqdm\n",
    "copyfile = shutil.copyfile\n",
    "exists = os.path.exists"
   ]
  },
  {
   "cell_type": "code",
   "execution_count": 2,
   "id": "327126c9",
   "metadata": {},
   "outputs": [
    {
     "name": "stdout",
     "output_type": "stream",
     "text": [
      "/mmfs1/data/aglinska/data/fMRI_InData\n"
     ]
    }
   ],
   "source": [
    "cd ~/data/fMRI_InData/"
   ]
  },
  {
   "cell_type": "code",
   "execution_count": 3,
   "id": "6b23ed95",
   "metadata": {},
   "outputs": [
    {
     "data": {
      "text/plain": [
       "1109"
      ]
     },
     "execution_count": 3,
     "metadata": {},
     "output_type": "execute_result"
    }
   ],
   "source": [
    "folders = [folders for folders in os.listdir('abide_bids') if folders.startswith('sub-')]\n",
    "folders.sort()\n",
    "folders = np.array(folders)\n",
    "len(folders)"
   ]
  },
  {
   "cell_type": "code",
   "execution_count": 4,
   "id": "06fdad8e",
   "metadata": {},
   "outputs": [],
   "source": [
    "has_t1w = np.array([os.path.exists(os.path.join(f'./abide_bids/{sub}/anat/{sub}_T1w.nii')) for sub in folders])\n",
    "has_t1wo = np.array([os.path.exists(os.path.join(f'./abide_bids/{sub}/anat/{sub}_T1wo.nii')) for sub in folders])\n",
    "folders = folders[has_t1wo]"
   ]
  },
  {
   "cell_type": "code",
   "execution_count": 5,
   "id": "a28e9629",
   "metadata": {},
   "outputs": [],
   "source": [
    "subs = folders"
   ]
  },
  {
   "cell_type": "code",
   "execution_count": 6,
   "id": "91a8fc54",
   "metadata": {},
   "outputs": [
    {
     "data": {
      "text/plain": [
       "'./abide_bids_val/dataset_description.json'"
      ]
     },
     "execution_count": 6,
     "metadata": {},
     "output_type": "execute_result"
    }
   ],
   "source": [
    "if not os.path.exists('abide_bids_val'):\n",
    "    os.mkdir('abide_bids_val')\n",
    "    \n",
    "    \n",
    "src = './abide_bids/dataset_description.json'\n",
    "dest ='./abide_bids_val/dataset_description.json' \n",
    "copyfile(src,dest)"
   ]
  },
  {
   "cell_type": "code",
   "execution_count": 8,
   "id": "b5dbecf5",
   "metadata": {},
   "outputs": [
    {
     "name": "stderr",
     "output_type": "stream",
     "text": [
      "100%|██████████| 1099/1099 [07:44<00:00,  2.36it/s]\n"
     ]
    }
   ],
   "source": [
    "for sub in tqdm(subs):\n",
    "    if not exists(f'./abide_bids_val/{sub}'):\n",
    "        os.mkdir(f'./abide_bids_val/{sub}')\n",
    "        os.mkdir(f'./abide_bids_val/{sub}/anat')\n",
    "\n",
    "        src = f'./abide_bids/{sub}/anat/{sub}_T1wo.nii'\n",
    "        dest = f'./abide_bids_val/{sub}/anat/{sub}_T1w.nii'\n",
    "        copyfile(src,dest)"
   ]
  },
  {
   "cell_type": "markdown",
   "id": "217538dc",
   "metadata": {},
   "source": [
    "#!/bin/bash\n",
    "\n",
    "#SBATCH --job-name=job_mriqc_abide\n",
    "#SBATCH --output=./qc_jobs/output_qc_job_%a\n",
    "#SBATCH --error=./qc_jobs/error_qc_job_%a\n",
    "\n",
    "#SBATCH --ntasks=1\n",
    "#SBATCH --time=1:00:00\n",
    "#SBATCH --mem=32gb\n",
    "#SBATCH --array=100-1099:200\n",
    "\n",
    "#rm -rf job_mriqc_abide.slurm;nano job_mriqc_abide.slurm;sbatch job_mriqc_abide.slurm\n",
    "#$SLURM_ARRAY_TASK_ID\n",
    "\n",
    "\n",
    "#rm -rf output_fmriprep_ABIDEII-NYU_2_%a\n",
    "#rm -rf error_fmriprep_ABIDEII-NYU_2_%a\n",
    "\n",
    "cd data/fMRI_InData/abide_bids_val/\n",
    "arr=($(ls -d sub*))\n",
    "echo ${#arr[@]}\n",
    "echo ${arr[$SLURM_ARRAY_TASK_ID]}\n",
    "\n",
    "cd \n",
    "\n",
    "module load singularity/\n",
    "\n",
    "SINGULARITY_LOCALCACHEDIR=/scratch/aglinska/\n",
    "SINGULARITY_TMPDIR=/scratch/aglinska/\n",
    "SINGULARITY_CACHEDIR=/scratch/aglinska/\n",
    "\n",
    "export SINGULARITY_LOCALCACHEDIR\n",
    "export SINGULARITY_TMPDIR\n",
    "export SINGULARITY_CACHEDIR\n",
    "\n",
    "\n",
    "bids_root=~/data/fMRI_InData/abide_bids_val/\n",
    "output_folder=~/qc_reports/\n",
    "sing_image=mriqc21\n",
    "singularity run --bind /data/aglinska/scratch:/scratch --cleanenv $sing_image $bids_root $output_folder -m T1w participant --participant-label ${arr[$SLURM_ARRAY_TASK_ID]}\n",
    "#singularity run --bind /data/aglinska/scratch:/scratch --cleanenv $sing_image $data_dir $output_dir participant --participant-label $sub --fs-no-reconall --task-id 'rest' --fs-license-file $fs_lic --ignore slicetiming"
   ]
  },
  {
   "cell_type": "code",
   "execution_count": null,
   "id": "37436c11",
   "metadata": {},
   "outputs": [],
   "source": []
  },
  {
   "cell_type": "code",
   "execution_count": null,
   "id": "6043b501",
   "metadata": {},
   "outputs": [],
   "source": []
  },
  {
   "cell_type": "code",
   "execution_count": null,
   "id": "6c5a213b",
   "metadata": {},
   "outputs": [],
   "source": []
  },
  {
   "cell_type": "code",
   "execution_count": null,
   "id": "ea579759",
   "metadata": {},
   "outputs": [],
   "source": []
  },
  {
   "cell_type": "code",
   "execution_count": null,
   "id": "753970e7",
   "metadata": {},
   "outputs": [],
   "source": []
  },
  {
   "cell_type": "code",
   "execution_count": null,
   "id": "97408cb8",
   "metadata": {},
   "outputs": [],
   "source": []
  },
  {
   "cell_type": "code",
   "execution_count": null,
   "id": "36d88d48",
   "metadata": {},
   "outputs": [],
   "source": []
  },
  {
   "cell_type": "code",
   "execution_count": null,
   "id": "61759997",
   "metadata": {},
   "outputs": [],
   "source": []
  }
 ],
 "metadata": {
  "kernelspec": {
   "display_name": "Python 3",
   "language": "python",
   "name": "python3"
  },
  "language_info": {
   "codemirror_mode": {
    "name": "ipython",
    "version": 3
   },
   "file_extension": ".py",
   "mimetype": "text/x-python",
   "name": "python",
   "nbconvert_exporter": "python",
   "pygments_lexer": "ipython3",
   "version": "3.8.5"
  }
 },
 "nbformat": 4,
 "nbformat_minor": 5
}

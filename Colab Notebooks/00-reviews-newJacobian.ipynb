{
 "cells": [
  {
   "cell_type": "code",
   "execution_count": 1,
   "id": "5d3a227d",
   "metadata": {},
   "outputs": [
    {
     "name": "stdout",
     "output_type": "stream",
     "text": [
      "/mmfs1/data/aglinska/BC-MRI-AE/Colab Notebooks\n"
     ]
    }
   ],
   "source": [
    "cd /mmfs1/data/aglinska/BC-MRI-AE/Colab Notebooks"
   ]
  },
  {
   "cell_type": "code",
   "execution_count": 2,
   "id": "4d7a2afa",
   "metadata": {},
   "outputs": [
    {
     "name": "stdout",
     "output_type": "stream",
     "text": [
      "2022-01-24 14:59:23.501166\n"
     ]
    }
   ],
   "source": [
    "from datetime import datetime\n",
    "now = datetime.now;t0 = now()\n",
    "print(now())"
   ]
  },
  {
   "cell_type": "code",
   "execution_count": 3,
   "id": "109135ec",
   "metadata": {},
   "outputs": [
    {
     "data": {
      "text/plain": [
       "'/mmfs1/data/aglinska/BC-MRI-AE/Colab Notebooks'"
      ]
     },
     "execution_count": 3,
     "metadata": {},
     "output_type": "execute_result"
    }
   ],
   "source": [
    "pwd"
   ]
  },
  {
   "cell_type": "code",
   "execution_count": 4,
   "id": "aec7edbc",
   "metadata": {},
   "outputs": [
    {
     "name": "stdout",
     "output_type": "stream",
     "text": [
      "CPU times: user 1e+03 ns, sys: 0 ns, total: 1e+03 ns\n",
      "Wall time: 2.86 µs\n"
     ]
    }
   ],
   "source": [
    "%time\n",
    "import numpy as np\n",
    "import pandas as pd\n",
    "import ants\n",
    "import os\n",
    "from matplotlib import pyplot as plt"
   ]
  },
  {
   "cell_type": "code",
   "execution_count": 5,
   "id": "a0eb0bb2",
   "metadata": {},
   "outputs": [
    {
     "data": {
      "text/plain": [
       "['salient_vec_abide',\n",
       " 'background_vec_abide',\n",
       " 'vae_vec_abide',\n",
       " 'salient_vec_sfari',\n",
       " 'background_vec_sfari',\n",
       " 'vae_vec_sfari']"
      ]
     },
     "execution_count": 5,
     "metadata": {},
     "output_type": "execute_result"
    }
   ],
   "source": [
    "data_latent_vec = np.load('../Data/latent_vecs.npz')\n",
    "list(data_latent_vec.keys())"
   ]
  },
  {
   "cell_type": "code",
   "execution_count": 6,
   "id": "ddd735a0",
   "metadata": {},
   "outputs": [],
   "source": [
    "from importlib import reload\n",
    "import pickle\n",
    "import helper_funcs;reload(helper_funcs);from helper_funcs import *\n",
    "import make_models2;reload(make_models2);from make_models2 import *"
   ]
  },
  {
   "cell_type": "markdown",
   "id": "1e62383e",
   "metadata": {},
   "source": [
    "## LOAD MODEL"
   ]
  },
  {
   "cell_type": "code",
   "execution_count": 7,
   "id": "52757a06",
   "metadata": {},
   "outputs": [
    {
     "name": "stdout",
     "output_type": "stream",
     "text": [
      "CPU times: user 1e+03 ns, sys: 1 µs, total: 2 µs\n",
      "Wall time: 4.29 µs\n",
      "WARNING:tensorflow:Inconsistent references when loading the checkpoint into this object graph. Either the Trackable object references in the Python program have changed in an incompatible way, or the checkpoint was generated in an incompatible program.\n",
      "\n",
      "Two checkpoint references resolved to different objects (<tensorflow.python.keras.layers.core.Dense object at 0x1553280f9760> and <tensorflow.python.keras.layers.core.TFOpLambda object at 0x1553300676d0>).\n"
     ]
    },
    {
     "data": {
      "text/plain": [
       "<tensorflow.python.training.tracking.util.CheckpointLoadStatus at 0x15533186e0d0>"
      ]
     },
     "execution_count": 7,
     "metadata": {},
     "output_type": "execute_result"
    }
   ],
   "source": [
    "%time \n",
    "# LOAD CVAE\n",
    "latent_dim = 16;batch_size = 32;beta = 1;gamma = 100;disentangle = True\n",
    "cvae, z_encoder, s_encoder, cvae_decoder = get_MRI_CVAE_3D(latent_dim=latent_dim,beta=beta, disentangle=disentangle, gamma=gamma, bias=True, batch_size = batch_size)\n",
    "loss = list()    \n",
    "\n",
    "fn = '/mmfs1/data/aglinska/tf_outputs/CVAE/Feb23_1551_D16B1G100_DTrue'\n",
    "\n",
    "loss = pickle.load(open(fn+'_loss.pickle','rb'))\n",
    "cvae.load_weights(fn)"
   ]
  },
  {
   "cell_type": "markdown",
   "id": "e75137f0",
   "metadata": {},
   "source": [
    "## LOAD DATA"
   ]
  },
  {
   "cell_type": "code",
   "execution_count": 8,
   "id": "a8c0f802",
   "metadata": {},
   "outputs": [
    {
     "name": "stdout",
     "output_type": "stream",
     "text": [
      "(982, 90)\n",
      "(982, 64, 64, 64)\n"
     ]
    }
   ],
   "source": [
    "df = pd.read_csv('../Data/ABIDE_legend_S982.csv')\n",
    "data = np.load('../Data/ABIDE-Anat-64iso-S982.npz')['data']\n",
    "print(df.shape)\n",
    "print(data.shape)"
   ]
  },
  {
   "cell_type": "code",
   "execution_count": 9,
   "id": "2e92a396",
   "metadata": {},
   "outputs": [
    {
     "data": {
      "text/html": [
       "<div>\n",
       "<style scoped>\n",
       "    .dataframe tbody tr th:only-of-type {\n",
       "        vertical-align: middle;\n",
       "    }\n",
       "\n",
       "    .dataframe tbody tr th {\n",
       "        vertical-align: top;\n",
       "    }\n",
       "\n",
       "    .dataframe thead th {\n",
       "        text-align: right;\n",
       "    }\n",
       "</style>\n",
       "<table border=\"1\" class=\"dataframe\">\n",
       "  <thead>\n",
       "    <tr style=\"text-align: right;\">\n",
       "      <th></th>\n",
       "      <th>Unnamed: 0</th>\n",
       "      <th>index</th>\n",
       "      <th>BIDS_ID</th>\n",
       "      <th>Anonymized ID</th>\n",
       "      <th>Subject Type</th>\n",
       "      <th>Visit</th>\n",
       "      <th>Days since enrollment</th>\n",
       "      <th>SubID</th>\n",
       "      <th>DxGroup</th>\n",
       "      <th>DSMIVTR</th>\n",
       "      <th>...</th>\n",
       "      <th>WISC4 Sym Scaled</th>\n",
       "      <th>Age at MPRAGE</th>\n",
       "      <th>Current Med Status</th>\n",
       "      <th>Medication Name</th>\n",
       "      <th>Medication Name.1</th>\n",
       "      <th>Off stimulants at EPI scan?</th>\n",
       "      <th>ScanSite</th>\n",
       "      <th>ScannerType</th>\n",
       "      <th>ScannerID</th>\n",
       "      <th>ScanSiteID</th>\n",
       "    </tr>\n",
       "  </thead>\n",
       "  <tbody>\n",
       "    <tr>\n",
       "      <th>0</th>\n",
       "      <td>0</td>\n",
       "      <td>0</td>\n",
       "      <td>sub-001</td>\n",
       "      <td>A00033348</td>\n",
       "      <td>PATIENT</td>\n",
       "      <td>session_1</td>\n",
       "      <td>8</td>\n",
       "      <td>51320</td>\n",
       "      <td>1</td>\n",
       "      <td>2.0</td>\n",
       "      <td>...</td>\n",
       "      <td>NaN</td>\n",
       "      <td>NaN</td>\n",
       "      <td>0.0</td>\n",
       "      <td>NaN</td>\n",
       "      <td>NaN</td>\n",
       "      <td>NaN</td>\n",
       "      <td>mpg</td>\n",
       "      <td>verio</td>\n",
       "      <td>7</td>\n",
       "      <td>3</td>\n",
       "    </tr>\n",
       "    <tr>\n",
       "      <th>1</th>\n",
       "      <td>1</td>\n",
       "      <td>1</td>\n",
       "      <td>sub-002</td>\n",
       "      <td>A00033398</td>\n",
       "      <td>CONTROL</td>\n",
       "      <td>session_1</td>\n",
       "      <td>8</td>\n",
       "      <td>51373</td>\n",
       "      <td>2</td>\n",
       "      <td>0.0</td>\n",
       "      <td>...</td>\n",
       "      <td>NaN</td>\n",
       "      <td>NaN</td>\n",
       "      <td>0.0</td>\n",
       "      <td>NaN</td>\n",
       "      <td>NaN</td>\n",
       "      <td>NaN</td>\n",
       "      <td>mpg</td>\n",
       "      <td>verio</td>\n",
       "      <td>7</td>\n",
       "      <td>3</td>\n",
       "    </tr>\n",
       "    <tr>\n",
       "      <th>2</th>\n",
       "      <td>2</td>\n",
       "      <td>2</td>\n",
       "      <td>sub-003</td>\n",
       "      <td>A00033352</td>\n",
       "      <td>PATIENT</td>\n",
       "      <td>session_1</td>\n",
       "      <td>8</td>\n",
       "      <td>51324</td>\n",
       "      <td>1</td>\n",
       "      <td>2.0</td>\n",
       "      <td>...</td>\n",
       "      <td>NaN</td>\n",
       "      <td>NaN</td>\n",
       "      <td>0.0</td>\n",
       "      <td>NaN</td>\n",
       "      <td>NaN</td>\n",
       "      <td>NaN</td>\n",
       "      <td>mpg</td>\n",
       "      <td>verio</td>\n",
       "      <td>7</td>\n",
       "      <td>3</td>\n",
       "    </tr>\n",
       "    <tr>\n",
       "      <th>3</th>\n",
       "      <td>3</td>\n",
       "      <td>3</td>\n",
       "      <td>sub-004</td>\n",
       "      <td>A00033389</td>\n",
       "      <td>CONTROL</td>\n",
       "      <td>session_1</td>\n",
       "      <td>8</td>\n",
       "      <td>51364</td>\n",
       "      <td>2</td>\n",
       "      <td>0.0</td>\n",
       "      <td>...</td>\n",
       "      <td>NaN</td>\n",
       "      <td>NaN</td>\n",
       "      <td>0.0</td>\n",
       "      <td>NaN</td>\n",
       "      <td>NaN</td>\n",
       "      <td>NaN</td>\n",
       "      <td>mpg</td>\n",
       "      <td>verio</td>\n",
       "      <td>7</td>\n",
       "      <td>3</td>\n",
       "    </tr>\n",
       "    <tr>\n",
       "      <th>4</th>\n",
       "      <td>4</td>\n",
       "      <td>4</td>\n",
       "      <td>sub-005</td>\n",
       "      <td>A00033354</td>\n",
       "      <td>PATIENT</td>\n",
       "      <td>session_1</td>\n",
       "      <td>8</td>\n",
       "      <td>51326</td>\n",
       "      <td>1</td>\n",
       "      <td>2.0</td>\n",
       "      <td>...</td>\n",
       "      <td>NaN</td>\n",
       "      <td>NaN</td>\n",
       "      <td>0.0</td>\n",
       "      <td>NaN</td>\n",
       "      <td>NaN</td>\n",
       "      <td>NaN</td>\n",
       "      <td>mpg</td>\n",
       "      <td>verio</td>\n",
       "      <td>7</td>\n",
       "      <td>3</td>\n",
       "    </tr>\n",
       "  </tbody>\n",
       "</table>\n",
       "<p>5 rows × 90 columns</p>\n",
       "</div>"
      ],
      "text/plain": [
       "   Unnamed: 0  index  BIDS_ID Anonymized ID Subject Type      Visit  \\\n",
       "0           0      0  sub-001     A00033348      PATIENT  session_1   \n",
       "1           1      1  sub-002     A00033398      CONTROL  session_1   \n",
       "2           2      2  sub-003     A00033352      PATIENT  session_1   \n",
       "3           3      3  sub-004     A00033389      CONTROL  session_1   \n",
       "4           4      4  sub-005     A00033354      PATIENT  session_1   \n",
       "\n",
       "   Days since enrollment  SubID  DxGroup  DSMIVTR  ...  WISC4 Sym Scaled  \\\n",
       "0                      8  51320        1      2.0  ...               NaN   \n",
       "1                      8  51373        2      0.0  ...               NaN   \n",
       "2                      8  51324        1      2.0  ...               NaN   \n",
       "3                      8  51364        2      0.0  ...               NaN   \n",
       "4                      8  51326        1      2.0  ...               NaN   \n",
       "\n",
       "   Age at MPRAGE  Current Med Status  Medication Name  Medication Name.1  \\\n",
       "0            NaN                 0.0              NaN                NaN   \n",
       "1            NaN                 0.0              NaN                NaN   \n",
       "2            NaN                 0.0              NaN                NaN   \n",
       "3            NaN                 0.0              NaN                NaN   \n",
       "4            NaN                 0.0              NaN                NaN   \n",
       "\n",
       "  Off stimulants at EPI scan? ScanSite ScannerType  ScannerID  ScanSiteID  \n",
       "0                         NaN      mpg       verio          7           3  \n",
       "1                         NaN      mpg       verio          7           3  \n",
       "2                         NaN      mpg       verio          7           3  \n",
       "3                         NaN      mpg       verio          7           3  \n",
       "4                         NaN      mpg       verio          7           3  \n",
       "\n",
       "[5 rows x 90 columns]"
      ]
     },
     "execution_count": 9,
     "metadata": {},
     "output_type": "execute_result"
    }
   ],
   "source": [
    "df.head()"
   ]
  },
  {
   "cell_type": "code",
   "execution_count": 10,
   "id": "502e4c19",
   "metadata": {},
   "outputs": [
    {
     "name": "stdout",
     "output_type": "stream",
     "text": [
      "CPU times: user 5 µs, sys: 2 µs, total: 7 µs\n",
      "Wall time: 14.8 µs\n",
      "(982, 16)\n"
     ]
    }
   ],
   "source": [
    "%time\n",
    "z_embed = z_encoder.predict(data)[2]\n",
    "s_embed = s_encoder.predict(data)[2]\n",
    "print(s_embed.shape)"
   ]
  },
  {
   "cell_type": "code",
   "execution_count": 11,
   "id": "759badd1",
   "metadata": {},
   "outputs": [
    {
     "data": {
      "text/plain": [
       "['embedding_bg',\n",
       " 'embedding_sl',\n",
       " 'embedding_vae',\n",
       " 'sfari_embedding_vae',\n",
       " 'sfari_embedding_bg',\n",
       " 'sfari_embedding_sl',\n",
       " 'bg_space_abide',\n",
       " 'sl_space_abide',\n",
       " 'vae_space_abide',\n",
       " 'bg_space_sfari',\n",
       " 'sl_space_sfari',\n",
       " 'vae_space_sfari',\n",
       " 'bg_Sspace_sfari',\n",
       " 'sl_Sspace_sfari',\n",
       " 'vae_Sspace_sfari',\n",
       " 'reducer_bg_abide',\n",
       " 'reducer_sl_abide',\n",
       " 'reducer_vae_abide',\n",
       " 'reducer_bg_sfari',\n",
       " 'reducer_sl_sfari',\n",
       " 'reducer_vae_sfari']"
      ]
     },
     "execution_count": 11,
     "metadata": {},
     "output_type": "execute_result"
    }
   ],
   "source": [
    "latents = pickle.load(open('../Data/embedded_data.pickle','rb'))\n",
    "list(latents.keys())"
   ]
  },
  {
   "cell_type": "code",
   "execution_count": 12,
   "id": "35ed081c",
   "metadata": {},
   "outputs": [
    {
     "data": {
      "text/plain": [
       "(470, 16)"
      ]
     },
     "execution_count": 12,
     "metadata": {},
     "output_type": "execute_result"
    }
   ],
   "source": [
    "latents['embedding_sl'].shape"
   ]
  },
  {
   "cell_type": "code",
   "execution_count": 13,
   "id": "88a3e76a",
   "metadata": {},
   "outputs": [],
   "source": [
    "umap_sl = latents['reducer_sl_abide']"
   ]
  },
  {
   "cell_type": "code",
   "execution_count": 14,
   "id": "b0fca25f",
   "metadata": {},
   "outputs": [],
   "source": [
    "patients = df['DxGroup'].values==1"
   ]
  },
  {
   "cell_type": "code",
   "execution_count": 15,
   "id": "b6261da5",
   "metadata": {},
   "outputs": [
    {
     "data": {
      "text/plain": [
       "(470, 16)"
      ]
     },
     "execution_count": 15,
     "metadata": {},
     "output_type": "execute_result"
    }
   ],
   "source": [
    "latents['embedding_sl'].shape"
   ]
  },
  {
   "cell_type": "code",
   "execution_count": 16,
   "id": "ba010611",
   "metadata": {},
   "outputs": [],
   "source": [
    "%%capture\n",
    "embedding_sl = umap_sl.transform(latents['embedding_sl'])"
   ]
  },
  {
   "cell_type": "code",
   "execution_count": 17,
   "id": "5653fd09",
   "metadata": {},
   "outputs": [
    {
     "data": {
      "text/plain": [
       "(470, 2)"
      ]
     },
     "execution_count": 17,
     "metadata": {},
     "output_type": "execute_result"
    }
   ],
   "source": [
    "embedding_sl.shape"
   ]
  },
  {
   "cell_type": "code",
   "execution_count": 18,
   "id": "a29f0be3",
   "metadata": {},
   "outputs": [],
   "source": [
    "x_loading = embedding_sl[:,0]\n",
    "y_loading = embedding_sl[:,1]"
   ]
  },
  {
   "cell_type": "code",
   "execution_count": 19,
   "id": "d9e2e70b",
   "metadata": {},
   "outputs": [
    {
     "data": {
      "text/plain": [
       "Text(0.5, 1.0, 'SL SPACE')"
      ]
     },
     "execution_count": 19,
     "metadata": {},
     "output_type": "execute_result"
    },
    {
     "data": {
      "image/png": "[encoded data removed]",
      "text/plain": [
       "<Figure size 360x360 with 1 Axes>"
      ]
     },
     "metadata": {
      "needs_background": "light"
     },
     "output_type": "display_data"
    }
   ],
   "source": [
    "plt.figure(figsize=(5,5))\n",
    "plt.scatter(embedding_sl[:,0],embedding_sl[:,1])\n",
    "#plt.scatter(embedding_sl[x_bot_50,0],embedding_sl[x_bot_50,1])\n",
    "plt.title('SL SPACE')"
   ]
  },
  {
   "cell_type": "code",
   "execution_count": 20,
   "id": "6935f21a",
   "metadata": {},
   "outputs": [
    {
     "name": "stdout",
     "output_type": "stream",
     "text": [
      "ADOS_Total | X:-0.06,Y:-0.05\n",
      "ADOS_Comm | X:-0.08,Y:0.02\n",
      "ADOS_Social | X:-0.04,Y:-0.07\n",
      "ADOS_StBeh | X:-0.14,Y:0.01\n"
     ]
    }
   ],
   "source": [
    "keys = ['ADOS_Total','ADOS_Comm', 'ADOS_Social', 'ADOS_StBeh']\n",
    "for key in keys:\n",
    "    vec = df[key].values[patients]\n",
    "    e = np.isnan(vec)\n",
    "    r_x = np.corrcoef(vec[~e],x_loading[~e])[0,1]\n",
    "    r_y = np.corrcoef(vec[~e],y_loading[~e])[0,1]\n",
    "    print(f'{key} | X:{r_x:.2f},Y:{r_y:.2f}')"
   ]
  },
  {
   "cell_type": "markdown",
   "id": "9b05bc4b",
   "metadata": {},
   "source": [
    "ADOS_Total | X:-0.03,Y:-0.12\n",
    "\n",
    "\n",
    "ADOS_Comm | X:-0.04,Y:-0.07\n",
    "\n",
    "\n",
    "ADOS_Social | X:-0.02,Y:-0.12\n",
    "\n",
    "\n",
    "ADOS_StBeh | X:-0.12,Y:-0.06"
   ]
  },
  {
   "cell_type": "code",
   "execution_count": 21,
   "id": "d1815c5b",
   "metadata": {},
   "outputs": [],
   "source": [
    "x_bot_50 = np.argsort(x_loading)[0:50]\n",
    "x_top_50 = np.argsort(x_loading)[-50::]\n",
    "\n",
    "y_bot_50 = np.argsort(y_loading)[0:50]\n",
    "y_top_50 = np.argsort(y_loading)[-50::]"
   ]
  },
  {
   "cell_type": "code",
   "execution_count": 22,
   "id": "fea304eb",
   "metadata": {},
   "outputs": [
    {
     "data": {
      "text/plain": [
       "Text(0.5, 1.0, 'SL SPACE')"
      ]
     },
     "execution_count": 22,
     "metadata": {},
     "output_type": "execute_result"
    },
    {
     "data": {
      "image/png": "[encoded data removed]",
      "text/plain": [
       "<Figure size 360x360 with 1 Axes>"
      ]
     },
     "metadata": {
      "needs_background": "light"
     },
     "output_type": "display_data"
    }
   ],
   "source": [
    "plt.figure(figsize=(5,5))\n",
    "plt.scatter(embedding_sl[:,0],embedding_sl[:,1])\n",
    "#plt.scatter(embedding_sl[x_bot_50,0],embedding_sl[x_bot_50,1])\n",
    "plt.title('SL SPACE')"
   ]
  },
  {
   "cell_type": "code",
   "execution_count": 23,
   "id": "ec596b27",
   "metadata": {},
   "outputs": [],
   "source": [
    "_max = embedding_sl.max(axis=0)\n",
    "_min = embedding_sl.min(axis=0)\n",
    "_mid = embedding_sl.mean(axis=0)"
   ]
  },
  {
   "cell_type": "code",
   "execution_count": 24,
   "id": "783bf3a9",
   "metadata": {},
   "outputs": [
    {
     "name": "stdout",
     "output_type": "stream",
     "text": [
      "top | [ 5.552891 11.156689]\n",
      "botom | [5.552891 4.487164]\n",
      "left | [2.2256591 7.9044423]\n",
      "right | [9.042705  7.9044423]\n"
     ]
    }
   ],
   "source": [
    "# CALC CORNERS\n",
    "top = (_mid[0],_max[1])\n",
    "bottom = (_mid[0],_min[1])\n",
    "left = (_min[0],_mid[1])\n",
    "right = (_max[0],_mid[1])\n",
    "\n",
    "top = np.array(top)\n",
    "bottom = np.array(bottom)\n",
    "left = np.array(left)\n",
    "right = np.array(right)\n",
    "\n",
    "\n",
    "print(f'top | {top}')\n",
    "print(f'botom | {bottom}')\n",
    "print(f'left | {left}')\n",
    "print(f'right | {right}')"
   ]
  },
  {
   "cell_type": "code",
   "execution_count": 25,
   "id": "a86a0370",
   "metadata": {},
   "outputs": [],
   "source": [
    "idx_top50 = np.argsort(np.linalg.norm(embedding_sl-top,axis=1))[0:50]\n",
    "idx_bottom50 = np.argsort(np.linalg.norm(embedding_sl-bottom,axis=1))[0:50]\n",
    "\n",
    "idx_left50 = np.argsort(np.linalg.norm(embedding_sl-left,axis=1))[0:50]\n",
    "idx_right50 = np.argsort(np.linalg.norm(embedding_sl-right,axis=1))[0:50]"
   ]
  },
  {
   "cell_type": "code",
   "execution_count": 26,
   "id": "6283a870",
   "metadata": {},
   "outputs": [
    {
     "data": {
      "text/plain": [
       "Text(0.5, 1.0, 'SL SPACE')"
      ]
     },
     "execution_count": 26,
     "metadata": {},
     "output_type": "execute_result"
    },
    {
     "data": {
      "image/png": "[encoded data removed]",
      "text/plain": [
       "<Figure size 360x360 with 1 Axes>"
      ]
     },
     "metadata": {
      "needs_background": "light"
     },
     "output_type": "display_data"
    }
   ],
   "source": [
    "plt.figure(figsize=(5,5))\n",
    "plt.scatter(embedding_sl[:,0],embedding_sl[:,1])\n",
    "plt.scatter(embedding_sl[idx_top50,0],embedding_sl[idx_top50,1])\n",
    "plt.scatter(embedding_sl[idx_bottom50,0],embedding_sl[idx_bottom50,1])\n",
    "plt.scatter(embedding_sl[idx_left50,0],embedding_sl[idx_left50,1])\n",
    "plt.scatter(embedding_sl[idx_right50,0],embedding_sl[idx_right50,1])\n",
    "plt.legend(['none','top','bottom','left','right'])\n",
    "plt.title('SL SPACE')"
   ]
  },
  {
   "cell_type": "code",
   "execution_count": 27,
   "id": "eba9cd1c",
   "metadata": {},
   "outputs": [],
   "source": [
    "def get_corner_brains(invec):\n",
    "    z = z_encoder.predict(data[patients,:,:,:][invec,:,:,:])[2]\n",
    "    s = s_encoder.predict(data[patients,:,:,:][invec,:,:,:])[2]\n",
    "    zeros = np.zeros(s.shape)\n",
    "\n",
    "    recon = cvae_decoder.predict(np.hstack((z,s)))[:,:,:,:,0]\n",
    "    twin = cvae_decoder.predict(np.hstack((z,zeros)))[:,:,:,:,0]\n",
    "\n",
    "    return recon,twin"
   ]
  },
  {
   "cell_type": "code",
   "execution_count": 29,
   "id": "90d7b7ab",
   "metadata": {},
   "outputs": [],
   "source": [
    "#interp_type = 1 # linear\n",
    "interp_type = 4 # bSpline\n",
    "im = ants.image_read('../Data/anat_temp.nii')\n",
    "im = im.resample_image(resample_params=(64,64,64), use_voxels=True, interp_type=interp_type)"
   ]
  },
  {
   "cell_type": "code",
   "execution_count": 30,
   "id": "b187aff5",
   "metadata": {},
   "outputs": [],
   "source": [
    "template = ants.image_read('../Data/Atlas_brain_2mm.nii')\n",
    "template = template.resample_image(resample_params=(64,64,64), use_voxels=True, interp_type=interp_type)\n",
    "template_o = template.copy()\n",
    "template = ants.iMath_normalize(template)"
   ]
  },
  {
   "cell_type": "code",
   "execution_count": 31,
   "id": "d3b54ec1",
   "metadata": {},
   "outputs": [],
   "source": [
    "df_asd = df.iloc[patients]"
   ]
  },
  {
   "cell_type": "code",
   "execution_count": 32,
   "id": "0b590381",
   "metadata": {},
   "outputs": [],
   "source": [
    "#n = recon.shape[0]\n",
    "# invec = idx_top50\n",
    "# recon,twin = get_corner_brains(invec)\n",
    "# brains_recon = [im.new_image_like(recon[i,:,:,:]) for i in range(n)]\n",
    "# brains_twin = [im.new_image_like(twin[i,:,:,:]) for i in range(n)]"
   ]
  },
  {
   "cell_type": "code",
   "execution_count": 33,
   "id": "bcc534d8",
   "metadata": {},
   "outputs": [],
   "source": [
    "## NEW"
   ]
  },
  {
   "cell_type": "code",
   "execution_count": null,
   "id": "4de205b6",
   "metadata": {},
   "outputs": [],
   "source": []
  },
  {
   "cell_type": "code",
   "execution_count": null,
   "id": "1713fa62",
   "metadata": {},
   "outputs": [],
   "source": []
  },
  {
   "cell_type": "code",
   "execution_count": 34,
   "id": "0697f4f2",
   "metadata": {},
   "outputs": [],
   "source": [
    "def get_Js(invec):\n",
    "    from tqdm import tqdm\n",
    "    tmp_dir = '/scratch/aglinska/ants_files/'\n",
    "    \n",
    "    interpolator = 'bSpline'\n",
    "    interp_type=4\n",
    "    \n",
    "    Js,normed_t1s,normed_recons,normed_twins,nativeJs = [],[],[],[],[]\n",
    "    recon,twin = get_corner_brains(invec)\n",
    "    \n",
    "    for i in tqdm(range(len(invec))):\n",
    "        sub = df['BIDS_ID'].values[patients][invec[i]]\n",
    "        \n",
    "        t1 = ants.image_read(f'../../data/fMRI_InData/abide_bids/{sub}/anat/{sub}_brain.nii')\n",
    "        t1 = t1.resample_image(resample_params=(64,64,64), use_voxels=True, interp_type=interp_type)\n",
    "        t1 = ants.iMath_normalize(t1)\n",
    "        \n",
    "        \n",
    "        recon_mat = recon[i,:,:,:]\n",
    "        twin_mat = twin[i,:,:,:]\n",
    "        \n",
    "        recon_brain = t1.new_image_like(recon_mat)\n",
    "        twin_brain = t1.new_image_like(twin_mat)\n",
    "        \n",
    "        twin_brain = ants.iMath_normalize(twin_brain)\n",
    "        recon_brain = ants.iMath_normalize(recon_brain)\n",
    "        \n",
    "        #twin_brain = ants.registration(fixed=t1,moving=twin_brain,type_of_transform='Rigid')['warpedmovout']\n",
    "        #recon_brain = ants.registration(fixed=t1,moving=recon_brain,type_of_transform='Rigid')['warpedmovout']\n",
    "        \n",
    "        #rtx2t = ants.registration(fixed=template,moving=twin_brain,type_of_transform='Rigid')['warpedmovout']\n",
    "        \n",
    "        \n",
    "        tx = ants.registration(fixed=twin_brain,moving=recon_brain,type_of_transform='SyN',outprefix=tmp_dir)\n",
    "        J = ants.create_jacobian_determinant_image(domain_image=twin_brain,tx=tx['fwdtransforms'][0])\n",
    "        J = J-1\n",
    "\n",
    "        norm = ants.registration(fixed=template,moving=t1,type_of_transform='SyN',outprefix=tmp_dir)\n",
    "        normed_t1 = ants.apply_transforms(fixed=template,moving=t1,transformlist=norm['fwdtransforms'],interpolator=interpolator)\n",
    "        \n",
    "        normed_recon = ants.apply_transforms(fixed=template,moving=recon_brain,transformlist=norm['fwdtransforms'],interpolator=interpolator)\n",
    "        normed_twin = ants.apply_transforms(fixed=template,moving=twin_brain,transformlist=norm['fwdtransforms'],interpolator=interpolator)\n",
    "        normed_J = ants.apply_transforms(fixed=template,moving=J,transformlist=norm['fwdtransforms'],interpolator=interpolator)\n",
    "        \n",
    "        normed_J[template_o<100]=0\n",
    "\n",
    "        Js.append(normed_J)\n",
    "        normed_t1s.append(normed_t1)\n",
    "        normed_recons.append(normed_recon)\n",
    "        normed_twins.append(normed_twin)\n",
    "        nativeJs.append(J)\n",
    "\n",
    "    res = dict()\n",
    "    res['Js'] = Js\n",
    "    res['native_Js'] = nativeJs\n",
    "    res['normed_t1s'] = normed_t1s\n",
    "    res['normed_recons'] = normed_recons\n",
    "    res['normed_twins'] = normed_twins\n",
    "    res['twin_brain'] = twin_brain \n",
    "    res['recon_brain'] = recon_brain\n",
    "    res['t1'] = t1\n",
    "#     res[''] = \n",
    "#     res[''] = \n",
    "#     res[''] = \n",
    "    \n",
    "    return res"
   ]
  },
  {
   "cell_type": "code",
   "execution_count": 37,
   "id": "7ddb5b75",
   "metadata": {},
   "outputs": [
    {
     "name": "stderr",
     "output_type": "stream",
     "text": [
      "100%|██████████| 50/50 [04:26<00:00,  5.34s/it]\n",
      "100%|██████████| 50/50 [04:16<00:00,  5.14s/it]\n",
      "100%|██████████| 50/50 [05:14<00:00,  6.29s/it]\n",
      "100%|██████████| 50/50 [04:29<00:00,  5.40s/it]"
     ]
    },
    {
     "name": "stdout",
     "output_type": "stream",
     "text": [
      "CPU times: user 1h 33min 39s, sys: 5min 52s, total: 1h 39min 31s\n",
      "Wall time: 19min\n"
     ]
    },
    {
     "name": "stderr",
     "output_type": "stream",
     "text": [
      "\n"
     ]
    }
   ],
   "source": [
    "%%time\n",
    "res_top = get_Js(idx_top50)\n",
    "res_bottom = get_Js(idx_bottom50)\n",
    "res_left = get_Js(idx_left50)\n",
    "res_right = get_Js(idx_right50)"
   ]
  },
  {
   "cell_type": "code",
   "execution_count": 42,
   "id": "fe7d0631",
   "metadata": {},
   "outputs": [
    {
     "data": {
      "text/plain": [
       "['Js',\n",
       " 'native_Js',\n",
       " 'normed_t1s',\n",
       " 'normed_recons',\n",
       " 'normed_twins',\n",
       " 'twin_brain',\n",
       " 'recon_brain',\n",
       " 't1']"
      ]
     },
     "execution_count": 42,
     "metadata": {},
     "output_type": "execute_result"
    }
   ],
   "source": [
    "list(res_top.keys())"
   ]
  },
  {
   "cell_type": "code",
   "execution_count": 43,
   "id": "422e8323",
   "metadata": {},
   "outputs": [],
   "source": [
    "# for i in range(50):\n",
    "#     res_top['Js'][i][template<100]=0\n",
    "#     res_bottom['Js'][i][template<100]=0\n",
    "#     res_left['Js'][i][template<100]=0\n",
    "#     res_right['Js'][i][template<100]=0"
   ]
  },
  {
   "cell_type": "code",
   "execution_count": 44,
   "id": "8ffe85a1",
   "metadata": {},
   "outputs": [
    {
     "data": {
      "image/png": "[encoded data removed]",
      "text/plain": [
       "<Figure size 720x720 with 4 Axes>"
      ]
     },
     "metadata": {
      "needs_background": "light"
     },
     "output_type": "display_data"
    }
   ],
   "source": [
    "fig, axs = plt.subplots(2,2,figsize=(10,10))\n",
    "\n",
    "plt.subplot(2,2,1);\n",
    "[plt.hist(res_top['Js'][i].numpy()[template.numpy()>0],alpha=.5) for i in range(50)];\n",
    "\n",
    "plt.subplot(2,2,2);\n",
    "[plt.hist(res_bottom['Js'][i].numpy()[template.numpy()>0],alpha=.5) for i in range(50)];\n",
    "\n",
    "plt.subplot(2,2,3);\n",
    "[plt.hist(res_left['Js'][i].numpy()[template.numpy()>0],alpha=.5) for i in range(50)];\n",
    "\n",
    "plt.subplot(2,2,4);\n",
    "[plt.hist(res_right['Js'][i].numpy()[template.numpy()>0],alpha=.5) for i in range(50)];"
   ]
  },
  {
   "cell_type": "code",
   "execution_count": 45,
   "id": "2e453f49",
   "metadata": {},
   "outputs": [],
   "source": [
    "# dump results\n",
    "[res_top['Js'][i].to_filename(f'~/corner_Js/top_{i:02d}.nii') for i in range(50)];\n",
    "[res_bottom['Js'][i].to_filename(f'~/corner_Js/bottom_{i:02d}.nii') for i in range(50)];\n",
    "[res_left['Js'][i].to_filename(f'~/corner_Js/left_{i:02d}.nii') for i in range(50)];\n",
    "[res_right['Js'][i].to_filename(f'~/corner_Js/right_{i:02d}.nii') for i in range(50)];"
   ]
  },
  {
   "cell_type": "code",
   "execution_count": 46,
   "id": "08a10564",
   "metadata": {},
   "outputs": [],
   "source": [
    "!zip -r -q ~/corner_Js.zip ~/corner_Js"
   ]
  },
  {
   "cell_type": "code",
   "execution_count": 47,
   "id": "946e4ba0",
   "metadata": {},
   "outputs": [],
   "source": [
    "# [res_top['Js'][i].to_filename(f'~/corner_ims/normed_t1s{i:02d}.nii') for i in range(50)];\n",
    "# [res_bottom['Js'][i].to_filename(f'~/corner_ims/normed_t1s{i:02d}.nii') for i in range(50)];\n",
    "# [res_left['Js'][i].to_filename(f'~/corner_ims/normed_t1s{i:02d}.nii') for i in range(50)];\n",
    "# [res_right['Js'][i].to_filename(f'~/corner_ims/normed_t1s{i:02d}.nii') for i in range(50)];\n",
    "\n",
    "# [res_top['Js'][i].to_filename(f'~/corner_ims/normed_recons{i:02d}.nii') for i in range(50)];\n",
    "# [res_bottom['Js'][i].to_filename(f'~/corner_ims/normed_recons{i:02d}.nii') for i in range(50)];\n",
    "# [res_left['Js'][i].to_filename(f'~/corner_ims/normed_recons{i:02d}.nii') for i in range(50)];\n",
    "# [res_right['Js'][i].to_filename(f'~/corner_ims/normed_recons{i:02d}.nii') for i in range(50)];\n",
    "\n",
    "# [res_top['Js'][i].to_filename(f'~/corner_ims/normed_twins{i:02d}.nii') for i in range(50)];\n",
    "# [res_bottom['Js'][i].to_filename(f'~/corner_ims/normed_twins{i:02d}.nii') for i in range(50)];\n",
    "# [res_left['Js'][i].to_filename(f'~/corner_ims/normed_twins{i:02d}.nii') for i in range(50)];\n",
    "# [res_right['Js'][i].to_filename(f'~/corner_ims/normed_twins{i:02d}.nii') for i in range(50)];"
   ]
  },
  {
   "cell_type": "code",
   "execution_count": 48,
   "id": "55f37eec",
   "metadata": {},
   "outputs": [],
   "source": [
    "# !zip -r -q ~/corner_ims.zip ~/corner_ims"
   ]
  },
  {
   "cell_type": "code",
   "execution_count": 49,
   "id": "c6610938",
   "metadata": {},
   "outputs": [
    {
     "name": "stdout",
     "output_type": "stream",
     "text": [
      "/mmfs1/data/aglinska/corner_Js\n"
     ]
    }
   ],
   "source": [
    "cd ~/corner_Js/"
   ]
  },
  {
   "cell_type": "code",
   "execution_count": 50,
   "id": "3f7df832",
   "metadata": {},
   "outputs": [],
   "source": [
    "def glm_2nd_lvl_t(second_level_input,con_name='tCon',threshold=2.5):\n",
    "    \n",
    "    nsubs = int(len(second_level_input)/2)\n",
    "    condition_effect = np.hstack((np.repeat(1,nsubs),np.repeat(-1,nsubs)))\n",
    "\n",
    "    # subject_effect = np.eye(n_subjects)\n",
    "    # subjects = [f'S{i:02d}' for i in range(1, n_subjects + 1)]\n",
    "\n",
    "    unpaired_design_matrix = pd.DataFrame(\n",
    "        condition_effect[:, np.newaxis],\n",
    "        columns=[con_name])\n",
    "\n",
    "    from nilearn.glm.second_level import SecondLevelModel\n",
    "    from nilearn import plotting\n",
    "\n",
    "    second_level_model_unpaired = SecondLevelModel().fit(\n",
    "        second_level_input, design_matrix=unpaired_design_matrix)\n",
    "\n",
    "    # second_level_model_paired = SecondLevelModel().fit(\n",
    "    #     second_level_input, design_matrix=paired_design_matrix)\n",
    "\n",
    "    stat_maps_unpaired = second_level_model_unpaired.compute_contrast(con_name,output_type='all')\n",
    "    \n",
    "    return stat_maps_unpaired\n",
    "\n",
    "\n",
    "def plot_2nd_level(stat_maps_unpaired,threshold=3.1,con_name='tCon'):\n",
    "    #threshold = 2.5  # corresponds to  p < .001, uncorrected\n",
    "    display = plotting.plot_glass_brain(\n",
    "    stat_maps_unpaired['z_score'], threshold=threshold, colorbar=True, plot_abs=False,\n",
    "    title=f'{con_name} t>{threshold}', vmin=0, vmax=6)"
   ]
  },
  {
   "cell_type": "code",
   "execution_count": 51,
   "id": "523d048c",
   "metadata": {},
   "outputs": [
    {
     "name": "stderr",
     "output_type": "stream",
     "text": [
      "/data/aglinska/.local/lib/python3.8/site-packages/nilearn/glm/__init__.py:55: FutureWarning:\n",
      "\n",
      "The nilearn.glm module is experimental. It may change in any future release of Nilearn.\n",
      "\n"
     ]
    },
    {
     "name": "stdout",
     "output_type": "stream",
     "text": [
      "100\n",
      "CPU times: user 55.1 s, sys: 10.1 s, total: 1min 5s\n",
      "Wall time: 49.4 s\n"
     ]
    }
   ],
   "source": [
    "%%time\n",
    "group1 = [file for file in os.listdir() if 'left' in file];group1.sort()\n",
    "group2 = [file for file in os.listdir() if 'right' in file];group2.sort()\n",
    "second_level_input = group1+group2\n",
    "res_LR = glm_2nd_lvl_t(second_level_input)\n",
    "\n",
    "group1 = [file for file in os.listdir() if 'top' in file];group1.sort()\n",
    "group2 = [file for file in os.listdir() if 'bottom' in file];group2.sort()\n",
    "second_level_input = group1+group2\n",
    "res_TB = glm_2nd_lvl_t(second_level_input)\n",
    "\n",
    "n_subjects = len(second_level_input)\n",
    "print(n_subjects)"
   ]
  },
  {
   "cell_type": "code",
   "execution_count": 62,
   "id": "42906e12",
   "metadata": {},
   "outputs": [
    {
     "data": {
      "text/plain": [
       "<nilearn.plotting.displays.OrthoSlicer at 0x154c83da47c0>"
      ]
     },
     "execution_count": 62,
     "metadata": {},
     "output_type": "execute_result"
    },
    {
     "data": {
      "image/png": "[encoded data removed]",
      "text/plain": [
       "<Figure size 525.6x187.2 with 5 Axes>"
      ]
     },
     "metadata": {},
     "output_type": "display_data"
    }
   ],
   "source": [
    "from nilearn import plotting\n",
    "bg_img=template.to_nibabel()\n",
    "stat_map_img = res_TB['z_score']\n",
    "threshold = 3.1\n",
    "title = 'Top vs Bottom'\n",
    "plotting.plot_stat_map(stat_map_img=stat_map_img,bg_img=bg_img,threshold=threshold,title=title,cut_coords=(0,0,0))"
   ]
  },
  {
   "cell_type": "code",
   "execution_count": 63,
   "id": "5e5ade5f",
   "metadata": {},
   "outputs": [
    {
     "data": {
      "text/plain": [
       "<nilearn.plotting.displays.OrthoSlicer at 0x154c835c0e50>"
      ]
     },
     "execution_count": 63,
     "metadata": {},
     "output_type": "execute_result"
    },
    {
     "data": {
      "image/png": "[encoded data removed]",
      "text/plain": [
       "<Figure size 525.6x187.2 with 5 Axes>"
      ]
     },
     "metadata": {},
     "output_type": "display_data"
    }
   ],
   "source": [
    "bg_img=template.to_nibabel()\n",
    "stat_map_img = res_LR['z_score']\n",
    "threshold = 3.1\n",
    "title = 'Left vs Right'\n",
    "plotting.plot_stat_map(stat_map_img=stat_map_img,\n",
    "                       bg_img=bg_img,\n",
    "                       threshold=threshold,\n",
    "                       title=title,cut_coords=(0,0,0))"
   ]
  },
  {
   "cell_type": "code",
   "execution_count": 54,
   "id": "345408eb",
   "metadata": {},
   "outputs": [],
   "source": [
    "bg_img.to_filename('../bg_img.nii')"
   ]
  },
  {
   "cell_type": "code",
   "execution_count": 55,
   "id": "f4bb7e55",
   "metadata": {},
   "outputs": [],
   "source": [
    "res_LR['z_score'].to_filename('../LR_zmap.nii')\n",
    "res_TB['z_score'].to_filename('../TB_zmap.nii')"
   ]
  },
  {
   "cell_type": "code",
   "execution_count": 56,
   "id": "fd8ee76f",
   "metadata": {},
   "outputs": [],
   "source": [
    "# res_LR['z_score'].to_filename('res_LR.nii')\n",
    "# res_TB['z_score'].to_filename('res_TB.nii')\n",
    "# template.to_filename('template.nii')"
   ]
  },
  {
   "cell_type": "code",
   "execution_count": null,
   "id": "178e712b",
   "metadata": {},
   "outputs": [],
   "source": []
  },
  {
   "cell_type": "code",
   "execution_count": null,
   "id": "3be11fbc",
   "metadata": {},
   "outputs": [],
   "source": []
  },
  {
   "cell_type": "code",
   "execution_count": null,
   "id": "a5e16bbc",
   "metadata": {},
   "outputs": [],
   "source": []
  },
  {
   "cell_type": "code",
   "execution_count": null,
   "id": "5e3ae0f1",
   "metadata": {},
   "outputs": [],
   "source": []
  },
  {
   "cell_type": "code",
   "execution_count": null,
   "id": "82a457ea",
   "metadata": {},
   "outputs": [],
   "source": []
  },
  {
   "cell_type": "code",
   "execution_count": null,
   "id": "8ebe375c",
   "metadata": {},
   "outputs": [],
   "source": []
  },
  {
   "cell_type": "code",
   "execution_count": null,
   "id": "035b0dc5",
   "metadata": {},
   "outputs": [],
   "source": []
  },
  {
   "cell_type": "code",
   "execution_count": null,
   "id": "73025c4d",
   "metadata": {},
   "outputs": [],
   "source": []
  },
  {
   "cell_type": "code",
   "execution_count": null,
   "id": "dad30fa5",
   "metadata": {},
   "outputs": [],
   "source": []
  },
  {
   "cell_type": "code",
   "execution_count": null,
   "id": "fec2d3a3",
   "metadata": {},
   "outputs": [],
   "source": []
  },
  {
   "cell_type": "code",
   "execution_count": null,
   "id": "755e3008",
   "metadata": {},
   "outputs": [],
   "source": []
  },
  {
   "cell_type": "code",
   "execution_count": null,
   "id": "5fc4ce49",
   "metadata": {},
   "outputs": [],
   "source": []
  },
  {
   "cell_type": "code",
   "execution_count": null,
   "id": "65816767",
   "metadata": {},
   "outputs": [],
   "source": []
  },
  {
   "cell_type": "code",
   "execution_count": 57,
   "id": "f8353e6c",
   "metadata": {},
   "outputs": [
    {
     "name": "stdout",
     "output_type": "stream",
     "text": [
      "2022-01-24 15:49:13.848451\n",
      "0:49:50.347390\n"
     ]
    }
   ],
   "source": [
    "print(now())\n",
    "print(now()-t0)"
   ]
  },
  {
   "cell_type": "code",
   "execution_count": null,
   "id": "f7af4ab3",
   "metadata": {},
   "outputs": [],
   "source": []
  },
  {
   "cell_type": "code",
   "execution_count": null,
   "id": "2dcd9a55",
   "metadata": {},
   "outputs": [],
   "source": []
  }
 ],
 "metadata": {
  "kernelspec": {
   "display_name": "Python 3",
   "language": "python",
   "name": "python3"
  },
  "language_info": {
   "codemirror_mode": {
    "name": "ipython",
    "version": 3
   },
   "file_extension": ".py",
   "mimetype": "text/x-python",
   "name": "python",
   "nbconvert_exporter": "python",
   "pygments_lexer": "ipython3",
   "version": "3.8.5"
  }
 },
 "nbformat": 4,
 "nbformat_minor": 5
}

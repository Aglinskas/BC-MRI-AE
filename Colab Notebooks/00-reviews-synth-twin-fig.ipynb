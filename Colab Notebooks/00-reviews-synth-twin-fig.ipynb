{
 "cells": [
  {
   "cell_type": "code",
   "execution_count": 2,
   "id": "d41c2a22",
   "metadata": {},
   "outputs": [
    {
     "name": "stdout",
     "output_type": "stream",
     "text": [
      "/mmfs1/data/aglinska/BC-MRI-AE/Colab Notebooks\n"
     ]
    }
   ],
   "source": [
    "cd '/mmfs1/data/aglinska/BC-MRI-AE/Colab Notebooks'"
   ]
  },
  {
   "cell_type": "code",
   "execution_count": 3,
   "id": "4651fec5",
   "metadata": {},
   "outputs": [
    {
     "name": "stdout",
     "output_type": "stream",
     "text": [
      "CPU times: user 11.4 s, sys: 3.54 s, total: 15 s\n",
      "Wall time: 25.6 s\n"
     ]
    }
   ],
   "source": [
    "%%time\n",
    "import pickle\n",
    "\n",
    "import numpy as np\n",
    "import pandas as pd \n",
    "\n",
    "from importlib import reload\n",
    "\n",
    "import helper_funcs;reload(helper_funcs);from helper_funcs import *\n",
    "#import make_models;reload(make_models);from make_models import *\n",
    "import make_models2;reload(make_models2);from make_models2 import *\n",
    "\n",
    "from functools import partial\n",
    "from sklearn.decomposition import PCA\n",
    "\n",
    "from matplotlib import pyplot as plt\n",
    "\n",
    "from datetime import datetime\n",
    "\n",
    "import shutil\n",
    "from functools import partial\n",
    "from tqdm import tqdm\n",
    "tqdm = partial(tqdm, position=0, leave=True)\n",
    "\n",
    "import ants"
   ]
  },
  {
   "cell_type": "code",
   "execution_count": 4,
   "id": "dd926470",
   "metadata": {},
   "outputs": [],
   "source": [
    "dataFnOut = '/mmfs1/data/aglinska/BC-MRI-AE/Data/ABIDE-Anat-64iso-S982.npz'\n",
    "dfFnOut = '/mmfs1/data/aglinska/BC-MRI-AE/Data/ABIDE_legend_S982.csv'\n",
    "\n",
    "ABIDE_data = np.load(dataFnOut)['data']\n",
    "df = pd.read_csv(dfFnOut)\n",
    "\n",
    "patients = df['DxGroup'].values==1\n",
    "controls = df['DxGroup'].values==2\n",
    "abide_asd = ABIDE_data[patients,:,:,:]\n",
    "\n",
    "arr = np.load('../Data/SFARI-Anat-64iso-S121.npz')\n",
    "dfs = pd.read_csv('../Data/sfari_legend_S121.csv')\n",
    "\n",
    "SFARI_data = arr['data']\n",
    "SFARI_subs = arr['subs']\n",
    "\n",
    "sfari_subs_td = dfs['family_type'].values=='non-familial-control'\n",
    "sfari_subs_dupl = dfs['family_type'].values=='16p-duplication'\n",
    "sfari_subs_del = dfs['family_type'].values=='16p-deletion'"
   ]
  },
  {
   "cell_type": "code",
   "execution_count": 5,
   "id": "81e10547",
   "metadata": {},
   "outputs": [],
   "source": [
    "patients = df['DxGroup'].values==1\n",
    "controls = df['DxGroup'].values==2"
   ]
  },
  {
   "cell_type": "code",
   "execution_count": 6,
   "id": "f4518e73",
   "metadata": {},
   "outputs": [
    {
     "name": "stdout",
     "output_type": "stream",
     "text": [
      "ready\n",
      "loading\n"
     ]
    }
   ],
   "source": [
    "# LOAD VAE\n",
    "latent_dim=32;batch_size=64;disentangle=False;gamma=100\n",
    "encoder, decoder, vae = get_MRI_VAE_3D(input_shape=(64,64,64,1), \n",
    "                                            latent_dim=32, \n",
    "                                            batch_size = batch_size, \n",
    "                                            disentangle=True,\n",
    "                                            gamma=100,\n",
    "                                            kernel_size = 3,\n",
    "                                            filters = 48,\n",
    "                                            intermediate_dim = 128,\n",
    "                                            nlayers = 2,\n",
    "                                            bias=True)\n",
    "\n",
    "\n",
    "#fn = '/mmfs1/data/aglinska/tf_outputs/VAE/Jan12th_16d'\n",
    "#fn = '/mmfs1/data/aglinska/tf_outputs/VAE/Feb_26_32DB64G1'\n",
    "#fn = '/mmfs1/data/aglinska/tf_outputs/VAE/Feb_26_32DB64G100_DisTrue'\n",
    "#fn = '/mmfs1/data/aglinska/tf_outputs/VAE/APR_4th_D32DTrue_G100'\n",
    "#fn = '/mmfs1/data/aglinska/tf_outputs/VAE/20210919-1144'\n",
    "fn = '/mmfs1/data/aglinska/tf_outputs/VAE/20210920-2122'\n",
    "\n",
    "loss = list()\n",
    "print('ready')\n",
    "if os.path.exists(fn+'_loss.pickle'):\n",
    "    print('loading')\n",
    "    vae.load_weights(fn)\n",
    "    loss = pickle.load(open(fn+'_loss.pickle','rb'))"
   ]
  },
  {
   "cell_type": "code",
   "execution_count": 7,
   "id": "c49d197e",
   "metadata": {},
   "outputs": [
    {
     "name": "stdout",
     "output_type": "stream",
     "text": [
      "CPU times: user 3.15 s, sys: 1.24 s, total: 4.39 s\n",
      "Wall time: 6.4 s\n"
     ]
    },
    {
     "data": {
      "text/plain": [
       "<tensorflow.python.training.tracking.util.CheckpointLoadStatus at 0x1553e8171280>"
      ]
     },
     "execution_count": 7,
     "metadata": {},
     "output_type": "execute_result"
    }
   ],
   "source": [
    "%%time \n",
    "# LOAD CVAE\n",
    "latent_dim = 16;batch_size = 32;beta = 1;gamma = 100;disentangle = True\n",
    "cvae, z_encoder, s_encoder, cvae_decoder = get_MRI_CVAE_3D(latent_dim=latent_dim,beta=beta, disentangle=disentangle, gamma=gamma, bias=True, batch_size = batch_size)\n",
    "loss = list()    \n",
    "\n",
    "fdir = '/mmfs1/data/aglinska/tf_outputs/CVAE/'\n",
    "\n",
    "#fn = f'{now().strftime(\"%b%d_%H%M\")}_D{latent_dim}B{beta}G{gamma}_D{disentangle}'\n",
    "#fn = 'Feb04_0524_D16B1G100_DTrue'\n",
    "#fn = os.path.join(fdir,'Mar18_1312_CVAE_D16B1G1_adam_rData2')\n",
    "#fn = os.path.join(fdir,'Mar20_2125_CVAE_D16B1G1_ADAM_Bspline_r2_new')\n",
    "\n",
    "fn = os.path.join(fdir,fn)\n",
    "fn = '/mmfs1/data/aglinska/tf_outputs/CVAE/Feb23_1551_D16B1G100_DTrue'\n",
    "\n",
    "loss = pickle.load(open(fn+'_loss.pickle','rb'))\n",
    "cvae.load_weights(fn)"
   ]
  },
  {
   "cell_type": "code",
   "execution_count": null,
   "id": "e46d56bc",
   "metadata": {},
   "outputs": [],
   "source": [
    "def get_case_control(s):\n",
    "    sub_sex = df['Sex'].values[s]\n",
    "    sub_age = df['AgeAtScan'].values[s]\n",
    "    sub_iq = df['FIQ'].values[s]\n",
    "    \n",
    "    \n",
    "    tempdf = df.copy()\n",
    "    tempdf = tempdf.iloc[~patients]\n",
    "    tempdf = tempdf.iloc[tempdf['Sex'].values==sub_sex]\n",
    "    tempdf = tempdf.iloc[~tempdf['FIQ'].isna().values]\n",
    "    \n",
    "    e1 = abs((tempdf['FIQ'].values-sub_iq))*.5\n",
    "    e2 = abs((tempdf['AgeAtScan'].values-sub_age))\n",
    "    \n",
    "    simsub = tempdf.iloc[np.argsort(e1+e2)].iloc[0][['BIDS_ID','Sex','AgeAtScan','FIQ']]\n",
    "    \n",
    "    targ = df.iloc[s][['BIDS_ID','Sex','AgeAtScan','FIQ']]\n",
    "    cont = simsub\n",
    "    \n",
    "    match = {}\n",
    "    match['targ'] = targ\n",
    "    match['cont'] = cont\n",
    "    \n",
    "    return match"
   ]
  },
  {
   "cell_type": "code",
   "execution_count": null,
   "id": "6028db41",
   "metadata": {},
   "outputs": [],
   "source": [
    "asd_idx = np.nonzero(patients)[0]"
   ]
  },
  {
   "cell_type": "code",
   "execution_count": 125,
   "id": "8e8aacbb",
   "metadata": {},
   "outputs": [],
   "source": [
    "i = 0"
   ]
  },
  {
   "cell_type": "code",
   "execution_count": 136,
   "id": "3530e828",
   "metadata": {},
   "outputs": [
    {
     "name": "stdout",
     "output_type": "stream",
     "text": [
      "BIDS_ID      sub-028\n",
      "Sex                2\n",
      "AgeAtScan         29\n",
      "FIQ              118\n",
      "Name: 27, dtype: object\n",
      "____________________\n",
      "BIDS_ID      sub-462\n",
      "Sex                2\n",
      "AgeAtScan      29.13\n",
      "FIQ              120\n",
      "Name: 458, dtype: object\n"
     ]
    }
   ],
   "source": [
    "i+=1\n",
    "s = asd_idx[i]\n",
    "print(get_case_control(s)['targ'])\n",
    "print('____________________')\n",
    "print(get_case_control(s)['cont'])\n",
    "cont_idx = np.nonzero(get_case_control(s)['cont']['BIDS_ID'])[0][0]"
   ]
  },
  {
   "cell_type": "code",
   "execution_count": 137,
   "id": "36ad6302",
   "metadata": {},
   "outputs": [],
   "source": [
    "sub = df['BIDS_ID'].values[s]\n",
    "fn = f'~/data/fMRI_InData/abide_bids/{sub}/anat/{sub}_brain.nii'\n",
    "\n",
    "im = ants.image_read(fn)\n",
    "im64 = ants.resample_image(image=im,resample_params=(64,64,64),use_voxels=True)\n",
    "\n",
    "mat = ABIDE_data[s,:,:,:]\n",
    "mat_asd = mat\n",
    "\n",
    "S = s_encoder.predict(mat[np.newaxis,:,:,:])[2]\n",
    "Z = z_encoder.predict(mat[np.newaxis,:,:,:])[2]\n",
    "z_ = np.zeros(Z.shape)\n",
    "\n",
    "pred = cvae_decoder.predict(np.hstack((Z,S)))[0,:,:,:,0]\n",
    "pred_Z = cvae_decoder.predict(np.hstack((Z,z_)))[0,:,:,:,0]\n",
    "\n",
    "imOut_ZS = im64.new_image_like(pred)\n",
    "imOut_Z0 = im64.new_image_like(pred_Z)\n",
    "\n",
    "imOut_ZS = ants.iMath_normalize(imOut_ZS)\n",
    "imOut_Z0 = ants.iMath_normalize(imOut_Z0)\n",
    "imOut_Z0 = ants.registration(fixed=imOut_ZS,moving=imOut_Z0,type_of_transform='Rigid')['warpedmovout']\n",
    "\n",
    "tx = ants.registration(fixed=imOut_ZS,moving=imOut_Z0,type_of_transform='SyN')\n",
    "\n",
    "J = ants.create_jacobian_determinant_image(domain_image=imOut_ZS,tx=tx['fwdtransforms'][0])\n",
    "J = J-1\n",
    "Jmat = J.numpy()"
   ]
  },
  {
   "cell_type": "code",
   "execution_count": 138,
   "id": "eaa50198",
   "metadata": {},
   "outputs": [
    {
     "name": "stderr",
     "output_type": "stream",
     "text": [
      "<ipython-input-138-d71b99bd2cbc>:5: MatplotlibDeprecationWarning:\n",
      "\n",
      "Adding an axes using the same arguments as a previous axes currently reuses the earlier instance.  In a future version, a new instance will always be created and returned.  Meanwhile, this warning can be suppressed, and the future behavior ensured, by passing a unique label to each axes instance.\n",
      "\n",
      "<ipython-input-138-d71b99bd2cbc>:8: UserWarning:\n",
      "\n",
      "This figure includes Axes that are not compatible with tight_layout, so results might be incorrect.\n",
      "\n"
     ]
    },
    {
     "data": {
      "image/png": "[encoded data removed]",
      "text/plain": [
       "<Figure size 1080x360 with 4 Axes>"
      ]
     },
     "metadata": {
      "needs_background": "light"
     },
     "output_type": "display_data"
    }
   ],
   "source": [
    "plt.figure(figsize=(15,5))\n",
    "plt.subplot(1,3,1);plt.imshow(np.rot90(im64.numpy()[16,:,:]),cmap='gray');plt.xticks([]);plt.yticks([]);plt.title('Input',fontsize=14);\n",
    "plt.subplot(1,3,2);plt.imshow(np.rot90(imOut_ZS.numpy()[16,:,:]),cmap='gray');plt.xticks([]);plt.yticks([]);plt.title('Reconstruction',fontsize=14);\n",
    "plt.subplot(1,3,3);plt.imshow(np.rot90(imOut_Z0.numpy()[16,:,:]),cmap='gray');plt.xticks([]);plt.yticks([]);plt.title('Synth. TD Twin',fontsize=14);\n",
    "plt.subplot(1,3,3);plt.imshow(np.rot90(Jmat[16,:,:]),cmap='bwr',alpha=.3);plt.xticks([]);plt.yticks([]);plt.title('Synth. TD Twin',fontsize=14);\n",
    "cbar = plt.colorbar(use_gridspec=False,anchor=(0,-3),orientation='horizontal',shrink=1.3)\n",
    "plt.suptitle(sub,fontsize=16)\n",
    "plt.tight_layout()"
   ]
  },
  {
   "cell_type": "code",
   "execution_count": 141,
   "id": "7805dcb1",
   "metadata": {},
   "outputs": [],
   "source": [
    "s = cont_idx\n",
    "\n",
    "sub = df['BIDS_ID'].values[s]\n",
    "fn = f'~/data/fMRI_InData/abide_bids/{sub}/anat/{sub}_brain.nii'\n",
    "\n",
    "im = ants.image_read(fn)\n",
    "im64 = ants.resample_image(image=im,resample_params=(64,64,64),use_voxels=True)\n",
    "\n",
    "mat = ABIDE_data[s,:,:,:]\n",
    "\n",
    "S = s_encoder.predict(mat[np.newaxis,:,:,:])[2]\n",
    "Z = z_encoder.predict(mat[np.newaxis,:,:,:])[2]\n",
    "z_ = np.zeros(Z.shape)\n",
    "\n",
    "pred = cvae_decoder.predict(np.hstack((Z,S)))[0,:,:,:,0]\n",
    "pred_Z = cvae_decoder.predict(np.hstack((Z,z_)))[0,:,:,:,0]\n",
    "\n",
    "imOut_ZS = im64.new_image_like(pred)\n",
    "imOut_Z0 = im64.new_image_like(pred_Z)\n",
    "\n",
    "im = im64.new_image_like(mat)\n",
    "im_asd = im64.new_image_like(mat_asd)\n",
    "\n",
    "imOut_ZS = ants.iMath_normalize(imOut_ZS)\n",
    "imOut_Z0 = ants.iMath_normalize(imOut_Z0)\n",
    "imOut_Z0 = ants.registration(fixed=imOut_ZS,moving=imOut_Z0,type_of_transform='Rigid')['warpedmovout']\n",
    "\n",
    "tx = ants.registration(fixed=im,moving=im_asd,type_of_transform='SyN')\n",
    "J = ants.create_jacobian_determinant_image(domain_image=im,tx=tx['fwdtransforms'][0])\n",
    "#J = ants.create_jacobian_determinant_image(domain_image=im,tx=tx['invtransforms'][1])\n",
    "J = J-1\n",
    "Jmat = J.numpy()"
   ]
  },
  {
   "cell_type": "code",
   "execution_count": 142,
   "id": "31f4a9b3",
   "metadata": {},
   "outputs": [
    {
     "name": "stderr",
     "output_type": "stream",
     "text": [
      "<ipython-input-142-67b70048ab8f>:7: MatplotlibDeprecationWarning:\n",
      "\n",
      "Adding an axes using the same arguments as a previous axes currently reuses the earlier instance.  In a future version, a new instance will always be created and returned.  Meanwhile, this warning can be suppressed, and the future behavior ensured, by passing a unique label to each axes instance.\n",
      "\n",
      "<ipython-input-142-67b70048ab8f>:11: UserWarning:\n",
      "\n",
      "This figure includes Axes that are not compatible with tight_layout, so results might be incorrect.\n",
      "\n"
     ]
    },
    {
     "data": {
      "image/png": "[encoded data removed]",
      "text/plain": [
       "<Figure size 1080x360 with 4 Axes>"
      ]
     },
     "metadata": {
      "needs_background": "light"
     },
     "output_type": "display_data"
    }
   ],
   "source": [
    "plt.figure(figsize=(15,5))\n",
    "plt.subplot(1,3,2);plt.imshow(np.rot90(imOut_ZS.numpy()[16,:,:]),cmap='gray');plt.xticks([]);plt.yticks([]);plt.title('Reconstruction',fontsize=14);\n",
    "plt.subplot(1,3,3);plt.imshow(np.rot90(imOut_Z0.numpy()[16,:,:]),cmap='gray');plt.xticks([]);plt.yticks([]);plt.title('Synth. TD Twin',fontsize=14);\n",
    "#plt.subplot(1,3,3);plt.imshow(np.rot90(Jmat[16,:,:]),cmap='bwr',alpha=.3);plt.xticks([]);plt.yticks([]);plt.title('Synth. TD Twin',fontsize=14);\n",
    "\n",
    "plt.subplot(1,3,1);plt.imshow(np.rot90(im64.numpy()[16,:,:]),cmap='gray');plt.xticks([]);plt.yticks([]);plt.title('Input',fontsize=14);\n",
    "ax = plt.subplot(1,3,1);plt.imshow(np.rot90(Jmat[16,:,:]),cmap='bwr',alpha=.3);plt.xticks([]);plt.yticks([])\n",
    "cbar = plt.colorbar(use_gridspec=False,anchor=(0,-3),orientation='horizontal',shrink=1.3,ax=ax)\n",
    "\n",
    "plt.suptitle(sub,fontsize=16)\n",
    "plt.tight_layout()"
   ]
  },
  {
   "cell_type": "code",
   "execution_count": null,
   "id": "b09882bd",
   "metadata": {},
   "outputs": [],
   "source": []
  },
  {
   "cell_type": "code",
   "execution_count": null,
   "id": "49a778e7",
   "metadata": {},
   "outputs": [],
   "source": []
  },
  {
   "cell_type": "code",
   "execution_count": null,
   "id": "bd37c752",
   "metadata": {},
   "outputs": [],
   "source": []
  },
  {
   "cell_type": "code",
   "execution_count": null,
   "id": "0cee7116",
   "metadata": {},
   "outputs": [],
   "source": []
  },
  {
   "cell_type": "code",
   "execution_count": null,
   "id": "54fa0976",
   "metadata": {},
   "outputs": [],
   "source": []
  }
 ],
 "metadata": {
  "kernelspec": {
   "display_name": "Python 3",
   "language": "python",
   "name": "python3"
  },
  "language_info": {
   "codemirror_mode": {
    "name": "ipython",
    "version": 3
   },
   "file_extension": ".py",
   "mimetype": "text/x-python",
   "name": "python",
   "nbconvert_exporter": "python",
   "pygments_lexer": "ipython3",
   "version": "3.8.5"
  }
 },
 "nbformat": 4,
 "nbformat_minor": 5
}

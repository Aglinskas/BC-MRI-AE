{
 "cells": [
  {
   "cell_type": "code",
   "execution_count": 1,
   "metadata": {},
   "outputs": [],
   "source": [
    "import numpy as np\n",
    "import pandas as pd\n",
    "from matplotlib import pyplot as plt\n",
    "import scipy\n",
    "from sklearn.decomposition import PCA"
   ]
  },
  {
   "cell_type": "code",
   "execution_count": 2,
   "metadata": {},
   "outputs": [],
   "source": [
    "from helper_funcs import *"
   ]
  },
  {
   "cell_type": "code",
   "execution_count": 3,
   "metadata": {},
   "outputs": [],
   "source": [
    "data_latent_vec = np.load('../Data/latent_vecs2-new.npz')"
   ]
  },
  {
   "cell_type": "code",
   "execution_count": 4,
   "metadata": {},
   "outputs": [
    {
     "data": {
      "text/plain": [
       "['salient_vec_abide',\n",
       " 'background_vec_abide',\n",
       " 'vae_vec_abide',\n",
       " 'salient_vec_sfari',\n",
       " 'background_vec_sfari',\n",
       " 'vae_vec_sfari']"
      ]
     },
     "execution_count": 4,
     "metadata": {},
     "output_type": "execute_result"
    }
   ],
   "source": [
    "list(data_latent_vec.keys())"
   ]
  },
  {
   "cell_type": "code",
   "execution_count": 5,
   "metadata": {},
   "outputs": [],
   "source": [
    "salient_vec_abide = data_latent_vec['salient_vec_abide']\n",
    "background_vec_abide = data_latent_vec['background_vec_abide']\n",
    "vae_vec_abide = data_latent_vec['vae_vec_abide']\n",
    "salient_vec_sfari = data_latent_vec['salient_vec_sfari']\n",
    "background_vec_sfari = data_latent_vec['background_vec_sfari']\n",
    "vae_vec_sfari = data_latent_vec['vae_vec_sfari']"
   ]
  },
  {
   "cell_type": "code",
   "execution_count": 6,
   "metadata": {},
   "outputs": [],
   "source": [
    "def data2cmat(data):\n",
    "    return np.array([squareform(pdist(data[s,:,:],metric='euclidean')) for s in range(data.shape[0])])"
   ]
  },
  {
   "cell_type": "code",
   "execution_count": 7,
   "metadata": {},
   "outputs": [],
   "source": [
    "def plot_nice_bar(key,rsa,ax=None,figsize=None,dpi=None,fontsize=None,fontsize_star=None,fontweight=None,line_width=None,marker_size=None,title=None,report_t=False,do_pairwise_stars=True,do_one_sample_stars=True):\n",
    "    #key = 'ADOS_gotham_PC1'\n",
    "    import seaborn as sns\n",
    "    from scipy.stats import ttest_1samp\n",
    "    \n",
    "    from scipy.stats import ttest_ind as ttest\n",
    "    pallete = sns.color_palette()\n",
    "    pallete_new = sns.color_palette()\n",
    "    if not figsize:\n",
    "        figsize = (5,2)\n",
    "    if not dpi:\n",
    "        dpi = 300\n",
    "        \n",
    "    if not ax:\n",
    "        fig, ax = plt.subplots(1,1,figsize=figsize,dpi=dpi)\n",
    "\n",
    "    pallete_new[1]=pallete[0]\n",
    "    pallete_new[0]=pallete[1]\n",
    "    pallete_new[0] = tuple(np.array((.5,.5,.5)))\n",
    "\n",
    "    data=rsa[key]\n",
    "    n = data.shape[0]\n",
    "    c = data.shape[1]\n",
    "    x = np.arange(c)\n",
    "    \n",
    "    if not fontsize:\n",
    "        fontsize = 16\n",
    "        \n",
    "    if not fontsize_star:\n",
    "        fontsize_star = 25\n",
    "    if not fontweight:        \n",
    "        fontweight = 'bold'\n",
    "    if not line_width:    \n",
    "        line_width = 2.5\n",
    "    if not marker_size:            \n",
    "        marker_size = .1\n",
    "    \n",
    "\n",
    "\n",
    "    for i in range(c):\n",
    "        plot_data = np.zeros(data.shape)\n",
    "        plot_data[:,i] = data[:,i]\n",
    "\n",
    "        xs = np.repeat(i,n)+(np.random.rand(n)-.5)*.25\n",
    "        sc = plt.scatter(xs,data[:,i],c='k',s = marker_size)\n",
    "        b = sns.barplot(data=plot_data,errcolor='r',linewidth=line_width,errwidth=line_width,facecolor=np.hstack((np.array(pallete_new[i]),.3)),edgecolor=np.hstack((np.array(pallete_new[i]),1)))\n",
    "        #sns.barplot(x=i,y=data.mean(axis=0)[i],errcolor='r',linewidth=2.5,facecolor=np.hstack((np.array(pallete_new[i]),.7)),edgecolor=np.hstack((np.array(pallete_new[i]),.7)))\n",
    "\n",
    "    #xlbls = ['VAE','BG','SL']\n",
    "    locs, labels = plt.yticks()  \n",
    "    new_y = locs\n",
    "    new_y = np.linspace(locs[0],locs[-1],6)\n",
    "    plt.yticks(new_y,labels=[f'{yy:.2f}' for yy in new_y],fontsize=fontsize,fontweight=fontweight)\n",
    "    plt.ylabel('model fit (r)',fontsize=fontsize,fontweight=fontweight)\n",
    "\n",
    "    ax.spines['top'].set_visible(False)\n",
    "    ax.spines['right'].set_visible(False)\n",
    "    ax.spines['bottom'].set_visible(False)\n",
    "\n",
    "    for axis in ['top','bottom','left','right']:\n",
    "            ax.spines[axis].set_linewidth(line_width)\n",
    "\n",
    "    #xlbls = ['VAE','BG','SL']\n",
    "    xlbls = ['VAE','Shared','Specific']\n",
    "    plt.xticks(np.arange(3),labels=xlbls,fontsize=fontsize,fontweight=fontweight)\n",
    "\n",
    "\n",
    "    #do_one_sample_stars = True\n",
    "    if do_one_sample_stars:\n",
    "        one_sample = np.array([ttest_1samp(data[:,i],0) for i in range(3)])\n",
    "        one_sample_thresh = np.array((1,.05,.001,.0001))\n",
    "        one_sample_stars = np.array(('n.s.','*','**','***'))\n",
    "        #xlbls = ['VAE','BG','SL']\n",
    "        for i in range(c):\n",
    "            these_stars = one_sample_stars[max(np.nonzero(one_sample[i,1]<one_sample_thresh)[0])]\n",
    "            xlbls[i] = f'{xlbls[i]}\\n({these_stars})'\n",
    "        plt.xticks(np.arange(3),labels=xlbls,fontsize=fontsize,fontweight=fontweight,horizontalalignment='center',multialignment='center')\n",
    "\n",
    "    pairwise_t = np.zeros((3,3))\n",
    "    pairwise_p = np.zeros((3,3))\n",
    "\n",
    "    pairwise_sample_thresh = np.array((1,.05,.001,.0001))\n",
    "    pairwise_sample_stars = np.array(('n.s.','*','**','***'))\n",
    "\n",
    "    if report_t:\n",
    "        for i in range(c):\n",
    "            for j in range(c):\n",
    "                t,p = ttest(data[:,i],data[:,j])\n",
    "                #mnames = ['VAE','BG','SL']\n",
    "                mnames = xlbls\n",
    "\n",
    "                if p > .001:\n",
    "                    print(f'{key} {mnames[i]} >  {mnames[j]} | t({data.shape[0]-1}) = {t:.2f} p = {p:.2f}')\n",
    "                else:\n",
    "                    print(f'{key} {mnames[i]} >  {mnames[j]} | t({data.shape[0]-1}) = {t:.2f} p $<$ .001')\n",
    "                pairwise_t[i,j] = t\n",
    "                pairwise_p[i,j] = p\n",
    "\n",
    "    comps = [[1,2]]\n",
    "    #do_pairwise_stars = True\n",
    "    if do_pairwise_stars:\n",
    "        for comp_idx in range(len(comps)):\n",
    "            this_comp = comps[comp_idx]\n",
    "            sig_idx = max(np.nonzero(pairwise_p[this_comp[0],this_comp[1]]<pairwise_sample_thresh)[0])\n",
    "            max_y = new_y[-1] + comp_idx*.05\n",
    "            xs = np.array(this_comp)\n",
    "            stars = pairwise_sample_stars[sig_idx]\n",
    "            plt.plot(xs,[max_y,max_y],'k',linewidth=line_width)\n",
    "            plt.text(xs.mean(),max_y,stars,fontsize=fontsize_star,horizontalalignment='center',fontweight=fontweight)\n",
    "        \n",
    "    #plt.plot(plt.xlim(),[0,0],'k',linewidth=line_width)\n",
    "    ylim = plt.ylim()\n",
    "    plt.ylim(np.array(ylim)*(1,1.1))\n",
    "        \n",
    "    #plt.xlabel(key,fontsize=fontsize,labelpad=25.1,fontweight=fontweight)    \n",
    "    \n",
    "    if not title:\n",
    "        plt.title(key,fontsize=fontsize*1.5,pad=2,fontweight=fontweight)    \n",
    "    else:\n",
    "        plt.title(title,fontsize=fontsize*1.5,pad=2,fontweight=fontweight)"
   ]
  },
  {
   "cell_type": "code",
   "execution_count": 8,
   "metadata": {},
   "outputs": [],
   "source": [
    "cmat_salient_vec_abide = data2cmat(salient_vec_abide)\n",
    "cmat_background_vec_abide = data2cmat(background_vec_abide)\n",
    "cmat_vae_vec_abide = data2cmat(vae_vec_abide)\n",
    "cmat_salient_vec_sfari = data2cmat(salient_vec_sfari)\n",
    "cmat_background_vec_sfari = data2cmat(background_vec_sfari)\n",
    "cmat_vae_vec_sfari = data2cmat(vae_vec_sfari)"
   ]
  },
  {
   "cell_type": "code",
   "execution_count": 12,
   "metadata": {},
   "outputs": [
    {
     "data": {
      "text/plain": [
       "['data']"
      ]
     },
     "execution_count": 12,
     "metadata": {},
     "output_type": "execute_result"
    }
   ],
   "source": [
    "list(np.load(dataFnOut).keys())"
   ]
  },
  {
   "cell_type": "code",
   "execution_count": 9,
   "metadata": {},
   "outputs": [
    {
     "ename": "KeyError",
     "evalue": "'subs is not a file in the archive'",
     "output_type": "error",
     "traceback": [
      "\u001b[0;31m---------------------------------------------------------------------------\u001b[0m",
      "\u001b[0;31mKeyError\u001b[0m                                  Traceback (most recent call last)",
      "\u001b[0;32m<ipython-input-9-f5451963aaf0>\u001b[0m in \u001b[0;36m<module>\u001b[0;34m\u001b[0m\n\u001b[1;32m      3\u001b[0m \u001b[0;34m\u001b[0m\u001b[0m\n\u001b[1;32m      4\u001b[0m \u001b[0mABIDE_data\u001b[0m \u001b[0;34m=\u001b[0m \u001b[0mnp\u001b[0m\u001b[0;34m.\u001b[0m\u001b[0mload\u001b[0m\u001b[0;34m(\u001b[0m\u001b[0mdataFnOut\u001b[0m\u001b[0;34m)\u001b[0m\u001b[0;34m[\u001b[0m\u001b[0;34m'data'\u001b[0m\u001b[0;34m]\u001b[0m\u001b[0;34m\u001b[0m\u001b[0;34m\u001b[0m\u001b[0m\n\u001b[0;32m----> 5\u001b[0;31m \u001b[0mABIDE_subs\u001b[0m \u001b[0;34m=\u001b[0m \u001b[0mnp\u001b[0m\u001b[0;34m.\u001b[0m\u001b[0mload\u001b[0m\u001b[0;34m(\u001b[0m\u001b[0mdataFnOut\u001b[0m\u001b[0;34m)\u001b[0m\u001b[0;34m[\u001b[0m\u001b[0;34m'subs'\u001b[0m\u001b[0;34m]\u001b[0m\u001b[0;34m\u001b[0m\u001b[0;34m\u001b[0m\u001b[0m\n\u001b[0m\u001b[1;32m      6\u001b[0m \u001b[0;34m\u001b[0m\u001b[0m\n\u001b[1;32m      7\u001b[0m \u001b[0mdf\u001b[0m \u001b[0;34m=\u001b[0m \u001b[0mpd\u001b[0m\u001b[0;34m.\u001b[0m\u001b[0mread_csv\u001b[0m\u001b[0;34m(\u001b[0m\u001b[0mdfFnOut\u001b[0m\u001b[0;34m)\u001b[0m\u001b[0;34m\u001b[0m\u001b[0;34m\u001b[0m\u001b[0m\n",
      "\u001b[0;32m~/anaconda3/lib/python3.8/site-packages/numpy/lib/npyio.py\u001b[0m in \u001b[0;36m__getitem__\u001b[0;34m(self, key)\u001b[0m\n\u001b[1;32m    257\u001b[0m                 \u001b[0;32mreturn\u001b[0m \u001b[0mself\u001b[0m\u001b[0;34m.\u001b[0m\u001b[0mzip\u001b[0m\u001b[0;34m.\u001b[0m\u001b[0mread\u001b[0m\u001b[0;34m(\u001b[0m\u001b[0mkey\u001b[0m\u001b[0;34m)\u001b[0m\u001b[0;34m\u001b[0m\u001b[0;34m\u001b[0m\u001b[0m\n\u001b[1;32m    258\u001b[0m         \u001b[0;32melse\u001b[0m\u001b[0;34m:\u001b[0m\u001b[0;34m\u001b[0m\u001b[0;34m\u001b[0m\u001b[0m\n\u001b[0;32m--> 259\u001b[0;31m             \u001b[0;32mraise\u001b[0m \u001b[0mKeyError\u001b[0m\u001b[0;34m(\u001b[0m\u001b[0;34m\"%s is not a file in the archive\"\u001b[0m \u001b[0;34m%\u001b[0m \u001b[0mkey\u001b[0m\u001b[0;34m)\u001b[0m\u001b[0;34m\u001b[0m\u001b[0;34m\u001b[0m\u001b[0m\n\u001b[0m\u001b[1;32m    260\u001b[0m \u001b[0;34m\u001b[0m\u001b[0m\n\u001b[1;32m    261\u001b[0m \u001b[0;34m\u001b[0m\u001b[0m\n",
      "\u001b[0;31mKeyError\u001b[0m: 'subs is not a file in the archive'"
     ]
    }
   ],
   "source": [
    "dataFnOut = '../Data/ABIDE-Anat-64iso-S982.npz'\n",
    "dfFnOut = '../Data/ABIDE_legend_S982.csv'\n",
    "\n",
    "ABIDE_data = np.load(dataFnOut)['data']\n",
    "ABIDE_subs = np.load(dataFnOut)['subs']\n",
    "\n",
    "df = pd.read_csv(dfFnOut)\n",
    "\n",
    "patients = df['DxGroup'].values==1\n",
    "controls = df['DxGroup'].values==2\n",
    "abide_asd = ABIDE_data[patients,:,:,:]\n",
    "\n",
    "arr = np.load('../Data/SFARI-Anat-64iso-S121.npz')\n",
    "dfs = pd.read_csv('../Data/sfari_legend_S121.csv')\n",
    "\n",
    "SFARI_data = arr['data']\n",
    "SFARI_subs = arr['subs']\n",
    "\n",
    "sfari_subs_td = dfs['family_type'].values=='non-familial-control'\n",
    "sfari_subs_dupl = dfs['family_type'].values=='16p-duplication'\n",
    "sfari_subs_del = dfs['family_type'].values=='16p-deletion'"
   ]
  },
  {
   "cell_type": "code",
   "execution_count": null,
   "metadata": {},
   "outputs": [],
   "source": [
    "assert len(df['BIDS_ID'].values)==len(ABIDE_subs), 'mistmatch lengths'\n",
    "assert all([df['BIDS_ID'].values[s]==ABIDE_subs[s] for s in range(len(ABIDE_subs))]), 'mismatch order'"
   ]
  },
  {
   "cell_type": "markdown",
   "metadata": {},
   "source": [
    "## ABIDE"
   ]
  },
  {
   "cell_type": "code",
   "execution_count": null,
   "metadata": {},
   "outputs": [],
   "source": [
    "%time\n",
    "# Make RSA models for ABIDE data\n",
    "plt.figure(figsize=(15,15))\n",
    "default_keys = ['ADOS_Total','ADOS_Social','DSMIVTR','AgeAtScan','Sex','ScannerID','ScanSiteID','FIQ']\n",
    "scales_ = ['ratio','ratio','ordinal','ratio','ordinal','ordinal','ordinal','ratio','ratio','ratio']\n",
    "\n",
    "model_rdms = dict()\n",
    "model_idxs = dict()\n",
    "for i in range(len(default_keys)):\n",
    "\n",
    "    inVec = df[default_keys[i]].values[patients];\n",
    "    idx = ~np.isnan(inVec)\n",
    "    inVec = inVec[idx];\n",
    "    this_rdm = make_RDM(inVec,data_scale=scales_[i])\n",
    "    \n",
    "    model_rdms.update({default_keys[i] : this_rdm})\n",
    "    model_idxs.update({default_keys[i] : idx})"
   ]
  },
  {
   "cell_type": "code",
   "execution_count": null,
   "metadata": {},
   "outputs": [],
   "source": []
  },
  {
   "cell_type": "code",
   "execution_count": null,
   "metadata": {},
   "outputs": [],
   "source": [
    "def slice_cmat(data,idx):\n",
    "    mat = data[patients,:][:,patients]\n",
    "    mat = mat[idx,:][:,idx]\n",
    "    return mat"
   ]
  },
  {
   "cell_type": "code",
   "execution_count": null,
   "metadata": {},
   "outputs": [],
   "source": [
    "def fit_rsa(data,key):\n",
    "    corr = scipy.stats.stats.kendalltau\n",
    "    r = np.array([corr(get_triu(slice_cmat(data[i,:,:],model_idxs[key])),get_triu(model_rdms[key]))[0] for i in range(10)])\n",
    "    r = np.arctan(r) # Fisher Z transform\n",
    "    return r"
   ]
  },
  {
   "cell_type": "markdown",
   "metadata": {},
   "source": [
    "# PCA SCORES"
   ]
  },
  {
   "cell_type": "code",
   "execution_count": null,
   "metadata": {},
   "outputs": [],
   "source": [
    "# ABIDE FIT MODELS \n",
    "patients = df['DxGroup'].values==1\n",
    "\n",
    "data = [cmat_vae_vec_abide,cmat_background_vec_abide,cmat_salient_vec_abide]\n",
    "\n",
    "rsa_results = dict()\n",
    "for key in default_keys:\n",
    "    res = np.array([fit_rsa(datum,key) for datum in data]).transpose()\n",
    "    rsa_results.update({key : res})\n",
    "    \n",
    "    \n",
    "# PCA RSA\n",
    "keys_pca = {}\n",
    "keys_pca.update({'ADOS_PCA' :  ['ADOS_Total','ADOS_Comm', 'ADOS_Social', 'ADOS_StBeh']})\n",
    "keys_pca.update({'ADI_PCA' :   ['ADI_R_SocialTotal', 'ADI_R_VerbalTotal', 'ADI_R_RRB','ADI_R_Onset Total']})\n",
    "keys_pca.update({'Vineland_PCA' :   ['VINELAND_Receptive_Vscore',\n",
    " 'VINELAND_Expressive_Vscore',\n",
    " 'VINELAND_Written_Vscore',\n",
    " 'VINELAND_CommunicationStandard',\n",
    " 'VINELAND_Personal_Vscore',\n",
    " 'VINELAND_Domestic_Vscore',\n",
    " 'VINELAND_Community_Vscore',\n",
    " 'VINELAND_DaylyLiving_Standard',\n",
    " 'VINELAND_Interpersonal_Vscore',\n",
    " 'VINELAND_Play_Vscore',\n",
    " 'VINELAND_Coping_Vscore',\n",
    " 'VINELAND_Socical_Standard',\n",
    " 'VINELAND_Domestic_Standard',\n",
    " 'VINELAND_ABC_Standard',\n",
    " 'VINELAND_Informant']})\n",
    "keys_pca.update({'WISC_PCA' :  ['WISC4 VCI Verbal Comprehension Index',\n",
    "       'WISC4 PRI Perceptual Reasoning Index',\n",
    "       'WISC4 WMI Working Memory Index', 'WISC4 PSI Processing Speed Index',\n",
    "       'WISC4 Sim Scaled', 'WISC4 Vocab Scaled', 'WISC4 Info Scaled',\n",
    "       'WISC4 Blk Dsn Scaled', 'WISC4 Pic Con Scaled', 'WISC4 Matrix Scaled',\n",
    "       'WISC4 Dig Span Scaled', 'WISC4 Let Num Scaled', 'WISC4 Coding Scaled',\n",
    "       'WISC4 Sym Scaled']})\n",
    "# keys_pca.update({'' :   []})\n",
    "\n",
    "\n",
    "# Calculate PCA RSA\n",
    "pca_keys = list(keys_pca.keys())\n",
    "model_pcas = dict()\n",
    "for key in pca_keys:\n",
    "    arr = np.array(df[keys_pca[key]])\n",
    "    arr = arr[patients,:]\n",
    "\n",
    "    idx = ~np.isnan(arr.mean(axis=1))\n",
    "    mat = arr[idx,:]\n",
    "\n",
    "    pca = PCA(n_components=1)\n",
    "    pca_vec = pca.fit_transform(mat)\n",
    "    rdm = make_RDM(pca_vec)\n",
    "    model_rdms.update({key : rdm})\n",
    "    model_idxs.update({key : idx})\n",
    "    model_pcas.update({key : pca_vec})\n",
    "    #model_idxs.update({key : pca.fit_transform(mat)})\n",
    "    \n",
    "\n",
    "    res = np.array([fit_rsa(datum,key) for datum in data]).transpose()\n",
    "    rsa_results.update({key : res})\n",
    "    \n",
    "    df[key] = 0\n",
    "    for i_rel,i_abs in enumerate(np.nonzero(model_idxs[key])[0]):\n",
    "        #df[key].values[i_abs] = model_pcas[key][i_rel]\n",
    "        df[key].values[np.nonzero(patients)[0][i_abs]] = model_pcas[key][i_rel]"
   ]
  },
  {
   "cell_type": "code",
   "execution_count": null,
   "metadata": {},
   "outputs": [],
   "source": [
    "#df.to_csv('../Data/ABIDE_legend_S982_pca.csv')"
   ]
  },
  {
   "cell_type": "markdown",
   "metadata": {},
   "source": [
    "## SFARI"
   ]
  },
  {
   "cell_type": "code",
   "execution_count": null,
   "metadata": {},
   "outputs": [],
   "source": []
  },
  {
   "cell_type": "code",
   "execution_count": null,
   "metadata": {},
   "outputs": [],
   "source": [
    "# data = SFARI_data\n",
    "patients = sfari_subs_dupl+sfari_subs_del"
   ]
  },
  {
   "cell_type": "code",
   "execution_count": null,
   "metadata": {},
   "outputs": [],
   "source": [
    "%time\n",
    "# SFARI\n",
    "plt.figure(figsize=(15,15))\n",
    "# default_keys = ['ADOS_Total','ADOS_Social','DSMIVTR','AgeAtScan','Sex','ScannerID','ScanSiteID','FIQ']\n",
    "# scales_ = ['ratio','ratio','ordinal','ratio','ordinal','ordinal','ordinal','ratio','ratio','ratio']\n",
    "\n",
    "default_keys = ['best_full_scale_iq','rrb_css','sa_css','age_years', 'ord_diagnosis',\n",
    "       'ord_gene', 'ord_sex','ord_scanner']\n",
    "scales_ = ['ratio','ratio','ratio','ratio','ordinal','ordinal','ordinal','ordinal']\n",
    "\n",
    "#model_rdms = dict()\n",
    "#model_idxs = dict()\n",
    "for i in range(8):\n",
    "    #plt.subplot(4,4,i+1);\n",
    "    inVec = dfs[default_keys[i]].values[patients];\n",
    "    idx = ~np.isnan(inVec)\n",
    "    inVec = inVec[idx];\n",
    "    this_rdm = make_RDM(inVec,data_scale=scales_[i])\n",
    "    #sns.heatmap(this_rdm,cbar=[],xticklabels=[],yticklabels=[]);\n",
    "    #plt.title(default_keys[i]);\n",
    "    \n",
    "    model_rdms.update({default_keys[i] : this_rdm})\n",
    "    model_idxs.update({default_keys[i] : idx})"
   ]
  },
  {
   "cell_type": "code",
   "execution_count": null,
   "metadata": {},
   "outputs": [],
   "source": [
    "# SFARI FIT MODELS \n",
    "data = [cmat_vae_vec_sfari,cmat_background_vec_sfari,cmat_salient_vec_sfari]\n",
    "#rsa_results = dict()\n",
    "for key in default_keys:\n",
    "    res = np.array([fit_rsa(datum,key) for datum in data]).transpose()\n",
    "    rsa_results.update({key : res})"
   ]
  },
  {
   "cell_type": "code",
   "execution_count": null,
   "metadata": {},
   "outputs": [],
   "source": [
    "keys = list(rsa_results.keys())\n",
    "for key in keys:\n",
    "    print(f'{key} | {model_rdms[key].shape}')"
   ]
  },
  {
   "cell_type": "code",
   "execution_count": null,
   "metadata": {},
   "outputs": [],
   "source": [
    "ncols = 3\n",
    "nrows = int(np.ceil(len(keys)/3))\n",
    "plt.figure(figsize=np.array((ncols,nrows))*4)\n",
    "\n",
    "for i,key in enumerate(keys):\n",
    "    ax = plt.subplot(nrows,ncols,i+1)\n",
    "    plot_nice_bar(key,rsa_results,\n",
    "                  ax=ax,figsize=None,\n",
    "                  dpi=300,fontsize=12,\n",
    "                  fontsize_star=12,\n",
    "                  fontweight='bold',\n",
    "                  line_width=2.5,\n",
    "                  marker_size=12)\n",
    "    \n",
    "plt.subplots_adjust(\n",
    "    left=None,\n",
    "    bottom=None,\n",
    "    right=None,\n",
    "    top=None,\n",
    "    wspace=.5,\n",
    "    hspace=.5)\n",
    "\n",
    "plt.savefig('../../bars/RSA_barplots_newData2.png')"
   ]
  },
  {
   "cell_type": "code",
   "execution_count": null,
   "metadata": {},
   "outputs": [],
   "source": [
    "keys"
   ]
  },
  {
   "cell_type": "code",
   "execution_count": null,
   "metadata": {},
   "outputs": [],
   "source": [
    "from matplotlib.ticker import FormatStrFormatter\n",
    "\n",
    "ncols = 3\n",
    "nrows = int(np.ceil(len(keys)/3))\n",
    "plt.figure(figsize=np.array((ncols,nrows))*4)\n",
    "\n",
    "keys = ['ord_scanner',\n",
    " 'age_years',\n",
    " 'ord_diagnosis',\n",
    " 'ord_gene',\n",
    " 'ord_sex',\n",
    "'best_full_scale_iq']\n",
    "\n",
    "ttls = ['Scanner Type',\n",
    " 'Age',\n",
    " 'DSM IV',\n",
    " 'Genotype',\n",
    " 'Sex',\n",
    "'Full Scale IQ']\n",
    "\n",
    "for i,key in enumerate(keys):\n",
    "    ax = plt.subplot(nrows,ncols,i+1)\n",
    "    plot_nice_bar(key,rsa_results,\n",
    "                  ax=ax,figsize=None,\n",
    "                  dpi=300,fontsize=12,\n",
    "                  fontsize_star=12,\n",
    "                  fontweight='bold',\n",
    "                  line_width=2.5,\n",
    "                  marker_size=12,title=ttls[i])\n",
    "    ax.yaxis.set_major_formatter(FormatStrFormatter('%.3f'))\n",
    "    \n",
    "plt.subplots_adjust(\n",
    "    left=None,\n",
    "    bottom=None,\n",
    "    right=None,\n",
    "    top=None,\n",
    "    wspace=.5,\n",
    "    hspace=.5)\n",
    "\n",
    "plt.savefig('../../bars/RSA_barplots_newData2-SFARI.pdf')"
   ]
  },
  {
   "cell_type": "code",
   "execution_count": null,
   "metadata": {},
   "outputs": [],
   "source": [
    "from matplotlib.ticker import FormatStrFormatter\n",
    "keys = ['ScannerID',\n",
    " 'ScanSiteID',\n",
    " 'AgeAtScan',\n",
    " 'Sex',\n",
    " 'DSMIVTR',\n",
    " 'FIQ',\n",
    " 'ADOS_PCA',\n",
    "'ADOS_Total',\n",
    " 'ADOS_Social',\n",
    " 'ADI_PCA',\n",
    " 'Vineland_PCA',\n",
    " 'WISC_PCA']\n",
    "\n",
    "ttls = ['Scanner Type',\n",
    " 'Scanning Site',\n",
    " 'Age',\n",
    " 'Sex',\n",
    " 'DSM IV',\n",
    " 'Full Scale IQ',\n",
    " 'ADOS (PCA)',\n",
    "'ADOS Total',\n",
    " 'ADOS Social',\n",
    " 'ADI (PCA)',\n",
    " 'Vineland (PCA)',\n",
    " 'WISC (PCA)']\n",
    "\n",
    "\n",
    "ncols = 3\n",
    "nrows = int(np.ceil(len(keys)/3))\n",
    "plt.figure(figsize=np.array((ncols,nrows))*4)\n",
    "\n",
    "for i,key in enumerate(keys):\n",
    "    ax = plt.subplot(nrows,ncols,i+1)\n",
    "    plot_nice_bar(key,rsa_results,\n",
    "                  ax=ax,figsize=None,\n",
    "                  dpi=300,fontsize=12,\n",
    "                  fontsize_star=12,\n",
    "                  fontweight='bold',\n",
    "                  line_width=2.5,\n",
    "                  marker_size=12,title=ttls[i])\n",
    "    ax.yaxis.set_major_formatter(FormatStrFormatter('%.3f'))\n",
    "    \n",
    "plt.subplots_adjust(\n",
    "    left=None,\n",
    "    bottom=None,\n",
    "    right=None,\n",
    "    top=None,\n",
    "    wspace=.5,\n",
    "    hspace=.5)\n"
   ]
  },
  {
   "cell_type": "code",
   "execution_count": null,
   "metadata": {},
   "outputs": [],
   "source": []
  },
  {
   "cell_type": "code",
   "execution_count": null,
   "metadata": {},
   "outputs": [],
   "source": []
  },
  {
   "cell_type": "code",
   "execution_count": null,
   "metadata": {},
   "outputs": [],
   "source": []
  },
  {
   "cell_type": "code",
   "execution_count": null,
   "metadata": {},
   "outputs": [],
   "source": []
  },
  {
   "cell_type": "code",
   "execution_count": null,
   "metadata": {},
   "outputs": [],
   "source": []
  },
  {
   "cell_type": "code",
   "execution_count": null,
   "metadata": {},
   "outputs": [],
   "source": [
    "def plot_rsa_bar(data,key):\n",
    "    import scipy\n",
    "    import seaborn as sns\n",
    "    ttest_1samp = scipy.stats.ttest_1samp\n",
    "    ttest_rel = scipy.stats.ttest_rel    \n",
    "    \n",
    "    # Calculate Plotting data\n",
    "    c = data.shape[1]\n",
    "    n = data.shape[0]\n",
    "    xs = np.arange(c)\n",
    "    xlbls = ['VAE','BG','SL']\n",
    "\n",
    "    m = data.mean(axis=0)\n",
    "    sd = data.std(axis=0)\n",
    "    \n",
    "    # T statistics\n",
    "    t_1samp = np.array([ttest_1samp(data[:,i],0)[0] for i in range(c)])\n",
    "    p_1samp = np.array([ttest_1samp(data[:,i],0)[1] for i in range(c)])\n",
    "\n",
    "    p_paired_t = np.zeros((c,c))\n",
    "    t_paired_t = np.zeros((c,c))\n",
    "\n",
    "    # Bar, Errorbar, Scatter \n",
    "    for i in range(c):\n",
    "        for j in range(c):\n",
    "            t_paired_t[i,j] = ttest_rel(data[:,i],data[:,j])[0]\n",
    "            p_paired_t[i,j] = ttest_rel(data[:,i],data[:,j])[1]\n",
    "            \n",
    "    if p_paired_t[2,1] < .001:\n",
    "        print(f'{key} {xlbls[2]} > {xlbls[1]}: t({data.shape[0]-1}) = {t_paired_t[2,1].round(2)}, p $<$ .001')\n",
    "    else:\n",
    "        print(f'{key} {xlbls[2]} > {xlbls[1]}: t({data.shape[0]-1}) = {t_paired_t[2,1].round(2)}, p = {p_paired_t[2,1].round(3)}')\n",
    "        \n",
    "    if p_paired_t[1,2] < .001:\n",
    "        print(f'{key} {xlbls[1]} > {xlbls[2]}: t({data.shape[0]-1}) = {t_paired_t[1,2].round(2)}, p $<$ .001')\n",
    "    else:\n",
    "        print(f'{key} {xlbls[1]} > {xlbls[2]}: t({data.shape[0]-1}) = {t_paired_t[1,2].round(2)}, p = {p_paired_t[1,2].round(3)}')\n",
    "\n",
    "    # Plotting\n",
    "    fig, ax = plt.subplots(1,1)\n",
    "    pallete = sns.color_palette()\n",
    "    pallete_new = sns.color_palette()\n",
    "    pallete_new[1]=pallete[0]\n",
    "    pallete_new[0]=pallete[1]\n",
    "    pallete_new[0] = tuple(np.array((.5,.5,.5)))\n",
    "\n",
    "    linewidth = 3\n",
    "    fontsize = 14\n",
    "    fontweight='bold'\n",
    "    for i in range(3):\n",
    "        plt.bar(xs[i],m[i],edgecolor=np.hstack((pallete_new[i],1)),\n",
    "                facecolor=np.hstack((pallete_new[i],.5)),\n",
    "                linewidth=linewidth)\n",
    "\n",
    "        plt.errorbar(xs[i],m[i],sd[i],fmt='r ',linewidth=linewidth)\n",
    "        plt.scatter(x=(np.repeat(i,n)+(np.random.rand(n)-.5)*.25),y=data[:,i],\n",
    "                   s=fontsize*3,\n",
    "                   c='k')\n",
    "\n",
    "\n",
    "\n",
    "    t_thresh = np.array((1,.05,.001,.0001));\n",
    "    t_stars = np.array(('n.s.','*','**','***'));\n",
    "    star_idx = (np.nonzero((p_paired_t[2,1] < t_thresh))[0]).max();\n",
    "    plt.plot([1,2],np.repeat(data.max(),2)*1.25,'k',linewidth=linewidth);\n",
    "    plt.text(1.4,data.max()*1.25+.002,t_stars[star_idx],fontsize=fontsize*1.25,fontweight='bold');\n",
    "\n",
    "    ax.spines['top'].set_visible(False);\n",
    "    ax.spines['right'].set_visible(False);\n",
    "    for axis in ['top','bottom','left','right']:\n",
    "            ax.spines[axis].set_linewidth(linewidth);\n",
    "\n",
    "    xlabels = ['VAE','BG','SL'];\n",
    "    one_sample_star_idx = [(np.nonzero((p_1samp[ii] < t_thresh))[0]).max() for ii in range(c)];\n",
    "    xlabels = [f'{xlabels[ii]}\\n({t_stars[one_sample_star_idx[ii]]})' for ii in range(c)];\n",
    "\n",
    "    #xticks = np.linspace(data.min().round(2),data.max().round(2),5)\n",
    "    #plt.yticks(xticks,labels=[str(ii) for ii in xticks],fontsize=fontsize)\n",
    "    plt.yticks(fontsize=fontsize,fontweight=fontweight);\n",
    "    plt.xticks(xs,xlabels,fontsize=fontsize,fontweight=fontweight);\n",
    "    plt.title(key,fontweight=fontweight,fontsize=fontsize*1.25,pad=fontsize)"
   ]
  },
  {
   "cell_type": "code",
   "execution_count": null,
   "metadata": {},
   "outputs": [],
   "source": []
  },
  {
   "cell_type": "code",
   "execution_count": null,
   "metadata": {},
   "outputs": [],
   "source": []
  },
  {
   "cell_type": "code",
   "execution_count": null,
   "metadata": {},
   "outputs": [],
   "source": []
  },
  {
   "cell_type": "code",
   "execution_count": null,
   "metadata": {},
   "outputs": [],
   "source": [
    "keys = list(rsa_results.keys())\n",
    "for key in keys:\n",
    "    data = rsa_results[key]\n",
    "    plot_rsa_bar(data,key)\n",
    "    #plt.savefig('/Users/aidasaglinskas/Desktop/bars/'+ 'bar_' + key + '.pdf')"
   ]
  },
  {
   "cell_type": "code",
   "execution_count": null,
   "metadata": {},
   "outputs": [],
   "source": []
  },
  {
   "cell_type": "code",
   "execution_count": null,
   "metadata": {},
   "outputs": [],
   "source": []
  },
  {
   "cell_type": "code",
   "execution_count": null,
   "metadata": {},
   "outputs": [],
   "source": []
  },
  {
   "cell_type": "code",
   "execution_count": null,
   "metadata": {},
   "outputs": [],
   "source": []
  },
  {
   "cell_type": "code",
   "execution_count": null,
   "metadata": {},
   "outputs": [],
   "source": []
  },
  {
   "cell_type": "code",
   "execution_count": null,
   "metadata": {},
   "outputs": [],
   "source": []
  },
  {
   "cell_type": "code",
   "execution_count": null,
   "metadata": {},
   "outputs": [],
   "source": []
  },
  {
   "cell_type": "code",
   "execution_count": null,
   "metadata": {},
   "outputs": [],
   "source": []
  },
  {
   "cell_type": "code",
   "execution_count": null,
   "metadata": {},
   "outputs": [],
   "source": []
  },
  {
   "cell_type": "code",
   "execution_count": null,
   "metadata": {},
   "outputs": [],
   "source": []
  }
 ],
 "metadata": {
  "kernelspec": {
   "display_name": "Python 3",
   "language": "python",
   "name": "python3"
  },
  "language_info": {
   "codemirror_mode": {
    "name": "ipython",
    "version": 3
   },
   "file_extension": ".py",
   "mimetype": "text/x-python",
   "name": "python",
   "nbconvert_exporter": "python",
   "pygments_lexer": "ipython3",
   "version": "3.8.5"
  }
 },
 "nbformat": 4,
 "nbformat_minor": 4
}

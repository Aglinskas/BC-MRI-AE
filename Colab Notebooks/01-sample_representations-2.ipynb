{
 "cells": [
  {
   "cell_type": "code",
   "execution_count": 16,
   "metadata": {},
   "outputs": [
    {
     "name": "stdout",
     "output_type": "stream",
     "text": [
      "/mmfs1/data/aglinska/BC-MRI-AE/Colab Notebooks\n"
     ]
    }
   ],
   "source": [
    "cd '/mmfs1/data/aglinska/BC-MRI-AE/Colab Notebooks'"
   ]
  },
  {
   "cell_type": "code",
   "execution_count": 17,
   "metadata": {},
   "outputs": [],
   "source": [
    "import pickle\n",
    "\n",
    "import numpy as np\n",
    "import pandas as pd \n",
    "\n",
    "from importlib import reload\n",
    "\n",
    "import helper_funcs;reload(helper_funcs);from helper_funcs import *\n",
    "#import make_models;reload(make_models);from make_models import *\n",
    "import make_models2;reload(make_models2);from make_models2 import *\n",
    "\n",
    "from functools import partial\n",
    "from sklearn.decomposition import PCA\n",
    "\n",
    "from matplotlib import pyplot as plt\n",
    "\n",
    "from datetime import datetime\n",
    "\n",
    "import shutil\n",
    "from functools import partial\n",
    "from tqdm import tqdm\n",
    "tqdm = partial(tqdm, position=0, leave=True)"
   ]
  },
  {
   "cell_type": "code",
   "execution_count": 18,
   "metadata": {},
   "outputs": [],
   "source": [
    "dataFnOut = '/mmfs1/data/aglinska/BC-MRI-AE/Data/ABIDE-Anat-64iso-S982.npz'\n",
    "dfFnOut = '/mmfs1/data/aglinska/BC-MRI-AE/Data/ABIDE_legend_S982.csv'\n",
    "\n",
    "ABIDE_data = np.load(dataFnOut)['data']\n",
    "df = pd.read_csv(dfFnOut)\n",
    "\n",
    "patients = df['DxGroup'].values==1\n",
    "controls = df['DxGroup'].values==2\n",
    "abide_asd = ABIDE_data[patients,:,:,:]\n",
    "\n",
    "arr = np.load('../Data/SFARI-Anat-64iso-S121.npz')\n",
    "dfs = pd.read_csv('../Data/sfari_legend_S121.csv')\n",
    "\n",
    "SFARI_data = arr['data']\n",
    "SFARI_subs = arr['subs']\n",
    "\n",
    "sfari_subs_td = dfs['family_type'].values=='non-familial-control'\n",
    "sfari_subs_dupl = dfs['family_type'].values=='16p-duplication'\n",
    "sfari_subs_del = dfs['family_type'].values=='16p-deletion'"
   ]
  },
  {
   "cell_type": "code",
   "execution_count": 19,
   "metadata": {},
   "outputs": [],
   "source": [
    "patients = df['DxGroup'].values==1\n",
    "controls = df['DxGroup'].values==2"
   ]
  },
  {
   "cell_type": "code",
   "execution_count": null,
   "metadata": {},
   "outputs": [],
   "source": []
  },
  {
   "cell_type": "code",
   "execution_count": 20,
   "metadata": {},
   "outputs": [
    {
     "name": "stdout",
     "output_type": "stream",
     "text": [
      "WARNING:tensorflow:Unresolved object in checkpoint: (root).optimizer.iter\n",
      "WARNING:tensorflow:Unresolved object in checkpoint: (root).optimizer.beta_1\n",
      "WARNING:tensorflow:Unresolved object in checkpoint: (root).optimizer.beta_2\n",
      "WARNING:tensorflow:Unresolved object in checkpoint: (root).optimizer.decay\n",
      "WARNING:tensorflow:Unresolved object in checkpoint: (root).optimizer.learning_rate\n",
      "WARNING:tensorflow:A checkpoint was restored (e.g. tf.train.Checkpoint.restore or tf.keras.Model.load_weights) but not all checkpointed values were used. See above for specific issues. Use expect_partial() on the load status object, e.g. tf.train.Checkpoint.restore(...).expect_partial(), to silence these warnings, or use assert_consumed() to make the check explicit. See https://www.tensorflow.org/guide/checkpoint#loading_mechanics for details.\n",
      "ready\n",
      "loading\n"
     ]
    }
   ],
   "source": [
    "# LOAD VAE\n",
    "latent_dim=32;batch_size=64;disentangle=False;gamma=100\n",
    "encoder, decoder, vae = get_MRI_VAE_3D(input_shape=(64,64,64,1), \n",
    "                                            latent_dim=32, \n",
    "                                            batch_size = batch_size, \n",
    "                                            disentangle=True,\n",
    "                                            gamma=100,\n",
    "                                            kernel_size = 3,\n",
    "                                            filters = 48,\n",
    "                                            intermediate_dim = 128,\n",
    "                                            nlayers = 2,\n",
    "                                            bias=True)\n",
    "\n",
    "\n",
    "#fn = '/mmfs1/data/aglinska/tf_outputs/VAE/Jan12th_16d'\n",
    "#fn = '/mmfs1/data/aglinska/tf_outputs/VAE/Feb_26_32DB64G1'\n",
    "#fn = '/mmfs1/data/aglinska/tf_outputs/VAE/Feb_26_32DB64G100_DisTrue'\n",
    "#fn = '/mmfs1/data/aglinska/tf_outputs/VAE/APR_4th_D32DTrue_G100'\n",
    "#fn = '/mmfs1/data/aglinska/tf_outputs/VAE/20210919-1144'\n",
    "fn = '/mmfs1/data/aglinska/tf_outputs/VAE/20210920-2122'\n",
    "\n",
    "loss = list()\n",
    "print('ready')\n",
    "if os.path.exists(fn+'_loss.pickle'):\n",
    "    print('loading')\n",
    "    vae.load_weights(fn)\n",
    "    loss = pickle.load(open(fn+'_loss.pickle','rb'))"
   ]
  },
  {
   "cell_type": "code",
   "execution_count": 21,
   "metadata": {},
   "outputs": [
    {
     "name": "stdout",
     "output_type": "stream",
     "text": [
      "CPU times: user 1.16 s, sys: 538 ms, total: 1.7 s\n",
      "Wall time: 2.45 s\n"
     ]
    },
    {
     "data": {
      "text/plain": [
       "<tensorflow.python.training.tracking.util.CheckpointLoadStatus at 0x1552ac171640>"
      ]
     },
     "execution_count": 21,
     "metadata": {},
     "output_type": "execute_result"
    }
   ],
   "source": [
    "%%time \n",
    "# LOAD CVAE\n",
    "latent_dim = 16;batch_size = 32;beta = 1;gamma = 100;disentangle = True\n",
    "cvae, z_encoder, s_encoder, cvae_decoder = get_MRI_CVAE_3D(latent_dim=latent_dim,beta=beta, disentangle=disentangle, gamma=gamma, bias=True, batch_size = batch_size)\n",
    "loss = list()    \n",
    "\n",
    "fdir = '/mmfs1/data/aglinska/tf_outputs/CVAE/'\n",
    "\n",
    "#fn = f'{now().strftime(\"%b%d_%H%M\")}_D{latent_dim}B{beta}G{gamma}_D{disentangle}'\n",
    "#fn = 'Feb04_0524_D16B1G100_DTrue'\n",
    "#fn = os.path.join(fdir,'Mar18_1312_CVAE_D16B1G1_adam_rData2')\n",
    "#fn = os.path.join(fdir,'Mar20_2125_CVAE_D16B1G1_ADAM_Bspline_r2_new')\n",
    "\n",
    "fn = os.path.join(fdir,fn)\n",
    "fn = '/mmfs1/data/aglinska/tf_outputs/CVAE/Feb23_1551_D16B1G100_DTrue'\n",
    "\n",
    "loss = pickle.load(open(fn+'_loss.pickle','rb'))\n",
    "cvae.load_weights(fn)"
   ]
  },
  {
   "cell_type": "code",
   "execution_count": 22,
   "metadata": {},
   "outputs": [
    {
     "name": "stdout",
     "output_type": "stream",
     "text": [
      "WARNING:tensorflow:Model was constructed with shape (None, 32) for input Tensor(\"z_sampling_4:0\", shape=(None, 32), dtype=float32), but it was called on an input with incompatible shape (None, 1, 32).\n",
      "WARNING:tensorflow:5 out of the last 1968 calls to <function Model.make_predict_function.<locals>.predict_function at 0x155538135c10> triggered tf.function retracing. Tracing is expensive and the excessive number of tracings could be due to (1) creating @tf.function repeatedly in a loop, (2) passing tensors with different shapes, (3) passing Python objects instead of tensors. For (1), please define your @tf.function outside of the loop. For (2), @tf.function has experimental_relax_shapes=True option that relaxes argument shapes that can avoid unnecessary retracing. For (3), please refer to https://www.tensorflow.org/tutorials/customization/performance#python_or_tensor_args and https://www.tensorflow.org/api_docs/python/tf/function for  more details.\n",
      "CPU times: user 57.3 s, sys: 7.97 s, total: 1min 5s\n",
      "Wall time: 1min 3s\n"
     ]
    }
   ],
   "source": [
    "%%time\n",
    "cvae_mse = list()\n",
    "for s in range(ABIDE_data.shape[0]):\n",
    "    data_batch = ABIDE_data[s,:,:,:]\n",
    "    if patients[s]:\n",
    "        vec = np.hstack((z_encoder.predict(data_batch[np.newaxis,:,:,:])[2],s_encoder.predict(data_batch[np.newaxis,:,:,:])[2]))\n",
    "    else:\n",
    "        vec = np.hstack((z_encoder.predict(data_batch[np.newaxis,:,:,:])[2][0,:],np.zeros(16)))\n",
    "\n",
    "    pred = cvae_decoder.predict(vec[np.newaxis,:])[0,:,:,:,0]\n",
    "    cvae_mse.append(((data_batch-pred)**2).mean())"
   ]
  },
  {
   "cell_type": "code",
   "execution_count": 23,
   "metadata": {},
   "outputs": [
    {
     "name": "stdout",
     "output_type": "stream",
     "text": [
      "CPU times: user 51.4 s, sys: 8.12 s, total: 59.5 s\n",
      "Wall time: 58.2 s\n"
     ]
    }
   ],
   "source": [
    "%%time\n",
    "vae_mse = list()\n",
    "for s in range(ABIDE_data.shape[0]):\n",
    "    data_batch = ABIDE_data[s,:,:,:]\n",
    "    pred = decoder.predict(encoder.predict(data_batch[np.newaxis,:,:,:])[2])[0,:,:,:,0]\n",
    "    vae_mse.append(((data_batch-pred)**2).mean())"
   ]
  },
  {
   "cell_type": "code",
   "execution_count": 30,
   "metadata": {},
   "outputs": [],
   "source": [
    "vae_mse = np.array(vae_mse)[patients]\n",
    "cvae_mse = np.array(cvae_mse)[patients]"
   ]
  },
  {
   "cell_type": "code",
   "execution_count": 31,
   "metadata": {},
   "outputs": [],
   "source": [
    "xs = [0,1]\n",
    "ys = [vae_mse.mean(),cvae_mse.mean()]\n",
    "se = [vae_mse.std(),cvae_mse.std()]"
   ]
  },
  {
   "cell_type": "code",
   "execution_count": 32,
   "metadata": {},
   "outputs": [
    {
     "data": {
      "text/plain": [
       "<ErrorbarContainer object of 3 artists>"
      ]
     },
     "execution_count": 32,
     "metadata": {},
     "output_type": "execute_result"
    },
    {
     "data": {
      "image/png": "[encoded data removed]",
      "text/plain": [
       "<Figure size 432x288 with 1 Axes>"
      ]
     },
     "metadata": {
      "needs_background": "light"
     },
     "output_type": "display_data"
    }
   ],
   "source": [
    "plt.bar(xs,ys)\n",
    "plt.errorbar(xs,ys,se,fmt='r ')"
   ]
  },
  {
   "cell_type": "code",
   "execution_count": 34,
   "metadata": {},
   "outputs": [
    {
     "data": {
      "text/plain": [
       "Ttest_relResult(statistic=4.801078778415541, pvalue=2.1257084293141804e-06)"
      ]
     },
     "execution_count": 34,
     "metadata": {},
     "output_type": "execute_result"
    }
   ],
   "source": [
    "from scipy import stats\n",
    "stats.ttest_rel(vae_mse,cvae_mse)"
   ]
  },
  {
   "cell_type": "code",
   "execution_count": 37,
   "metadata": {},
   "outputs": [
    {
     "data": {
      "text/plain": [
       "(array([447.,  11.,   3.,   2.,   4.,   0.,   0.,   1.,   0.,   2.]),\n",
       " array([0.00152819, 0.00486414, 0.00820009, 0.01153604, 0.01487199,\n",
       "        0.01820794, 0.02154389, 0.02487984, 0.02821579, 0.03155174,\n",
       "        0.03488769], dtype=float32),\n",
       " <BarContainer object of 10 artists>)"
      ]
     },
     "execution_count": 37,
     "metadata": {},
     "output_type": "execute_result"
    },
    {
     "data": {
      "image/png": "[encoded data removed]",
      "text/plain": [
       "<Figure size 1080x360 with 2 Axes>"
      ]
     },
     "metadata": {
      "needs_background": "light"
     },
     "output_type": "display_data"
    }
   ],
   "source": [
    "plt.figure(figsize=(15,5))\n",
    "plt.subplot(1,2,1)\n",
    "plt.hist(vae_mse)\n",
    "\n",
    "plt.subplot(1,2,2)\n",
    "plt.hist(cvae_mse)"
   ]
  },
  {
   "cell_type": "code",
   "execution_count": 38,
   "metadata": {},
   "outputs": [],
   "source": [
    "# plt.figure(figsize=(15,5))\n",
    "# plt.subplot(1,2,1)\n",
    "# plt.hist(vae_mse)\n",
    "\n",
    "# plt.subplot(1,2,2)\n",
    "# plt.hist(cvae_mse)"
   ]
  },
  {
   "cell_type": "code",
   "execution_count": 39,
   "metadata": {},
   "outputs": [],
   "source": [
    "# batch_size = 16\n",
    "# b = 0\n",
    "# data_batch = ABIDE_data[b*batch_size:b*batch_size+batch_size,:,:,:]\n",
    "# mse = ((data_batch-vae.predict(data_batch)[:,:,:,:,0])**2).mean(axis=-1).mean(axis=-1).mean(axis=-1)\n",
    "\n",
    "# for b in tqdm(range(1,int(np.floor(patients.sum()/16)))):\n",
    "#     b_idx = np.arange(b*batch_size,b*batch_size+b)\n",
    "#     data_batch = ABIDE_data[b_idx,:,:,:]\n",
    "#     mse = np.hstack((mse,((data_batch-vae.predict(data_batch)[:,:,:,:,0])**2).mean(axis=-1).mean(axis=-1).mean(axis=-1)))"
   ]
  },
  {
   "cell_type": "code",
   "execution_count": 40,
   "metadata": {},
   "outputs": [],
   "source": [
    "# data_batch.shape"
   ]
  },
  {
   "cell_type": "code",
   "execution_count": 41,
   "metadata": {},
   "outputs": [],
   "source": [
    "# plt.hist(mse)"
   ]
  },
  {
   "cell_type": "code",
   "execution_count": null,
   "metadata": {},
   "outputs": [],
   "source": []
  },
  {
   "cell_type": "code",
   "execution_count": null,
   "metadata": {},
   "outputs": [],
   "source": []
  },
  {
   "cell_type": "markdown",
   "metadata": {},
   "source": [
    "NEW 10 SAMPLE"
   ]
  },
  {
   "cell_type": "code",
   "execution_count": 42,
   "metadata": {},
   "outputs": [],
   "source": [
    "n_samples = 10\n",
    "\n",
    "data_latent_vec = np.load('../Data/latent_vecs2.npz')\n",
    "\n",
    "salient_vec_abide = data_latent_vec['salient_vec_abide']\n",
    "background_vec_abide = data_latent_vec['background_vec_abide']\n",
    "#vae_vec_abide = data_latent_vec['vae_vec_abide']\n",
    "salient_vec_sfari = data_latent_vec['salient_vec_sfari']\n",
    "background_vec_sfari = data_latent_vec['background_vec_sfari']\n",
    "#vae_vec_sfari = data_latent_vec['vae_vec_sfari']\n",
    "\n",
    "# salient_vec_abide = np.array([s_encoder.predict(ABIDE_data[:,:,:,:])[2] for _ in range(n_samples)])\n",
    "# background_vec_abide = np.array([z_encoder.predict(ABIDE_data[:,:,:,:])[2] for _ in range(n_samples)])\n",
    "vae_vec_abide = np.array([encoder.predict(ABIDE_data[:,:,:,:])[2] for _ in tqdm(range(n_samples))])\n",
    "\n",
    "# salient_vec_sfari = np.array([s_encoder.predict(SFARI_data[:,:,:,:])[2] for _ in range(n_samples)])\n",
    "# background_vec_sfari = np.array([z_encoder.predict(SFARI_data[:,:,:,:])[2] for _ in range(n_samples)])\n",
    "vae_vec_sfari = np.array([encoder.predict(SFARI_data[:,:,:,:])[2] for _ in tqdm(range(n_samples))])\n",
    "\n",
    "fn = '../Data/latent_vecs2-new.npz'\n",
    "np.savez_compressed(fn, \n",
    "                    salient_vec_abide=salient_vec_abide,\n",
    "                    background_vec_abide=background_vec_abide,\n",
    "                    vae_vec_abide=vae_vec_abide,\n",
    "                   salient_vec_sfari=salient_vec_sfari,\n",
    "                   background_vec_sfari=background_vec_sfari,\n",
    "                   vae_vec_sfari=vae_vec_sfari)"
   ]
  },
  {
   "cell_type": "code",
   "execution_count": null,
   "metadata": {},
   "outputs": [],
   "source": []
  },
  {
   "cell_type": "code",
   "execution_count": 51,
   "metadata": {},
   "outputs": [
    {
     "name": "stderr",
     "output_type": "stream",
     "text": [
      "100%|██████████| 100/100 [02:02<00:00,  1.22s/it]\n",
      "100%|██████████| 100/100 [00:17<00:00,  5.63it/s]\n"
     ]
    }
   ],
   "source": [
    "n_samples = 100\n",
    "\n",
    "data_latent_vec = np.load('../Data/latent_vecs100.npz')\n",
    "\n",
    "salient_vec_abide = data_latent_vec['salient_vec_abide']\n",
    "background_vec_abide = data_latent_vec['background_vec_abide']\n",
    "#vae_vec_abide = data_latent_vec['vae_vec_abide']\n",
    "salient_vec_sfari = data_latent_vec['salient_vec_sfari']\n",
    "background_vec_sfari = data_latent_vec['background_vec_sfari']\n",
    "#vae_vec_sfari = data_latent_vec['vae_vec_sfari']\n",
    "\n",
    "# salient_vec_abide = np.array([s_encoder.predict(ABIDE_data[:,:,:,:])[2] for _ in range(n_samples)])\n",
    "# background_vec_abide = np.array([z_encoder.predict(ABIDE_data[:,:,:,:])[2] for _ in range(n_samples)])\n",
    "vae_vec_abide = np.array([encoder.predict(ABIDE_data[:,:,:,:])[2] for _ in tqdm(range(n_samples))])\n",
    "\n",
    "# salient_vec_sfari = np.array([s_encoder.predict(SFARI_data[:,:,:,:])[2] for _ in range(n_samples)])\n",
    "# background_vec_sfari = np.array([z_encoder.predict(SFARI_data[:,:,:,:])[2] for _ in range(n_samples)])\n",
    "vae_vec_sfari = np.array([encoder.predict(SFARI_data[:,:,:,:])[2] for _ in tqdm(range(n_samples))])\n",
    "\n",
    "fn = '../Data/latent_vecs100-new.npz'\n",
    "np.savez_compressed(fn, \n",
    "                    salient_vec_abide=salient_vec_abide,\n",
    "                    background_vec_abide=background_vec_abide,\n",
    "                    vae_vec_abide=vae_vec_abide,\n",
    "                   salient_vec_sfari=salient_vec_sfari,\n",
    "                   background_vec_sfari=background_vec_sfari,\n",
    "                   vae_vec_sfari=vae_vec_sfari)"
   ]
  },
  {
   "cell_type": "code",
   "execution_count": null,
   "metadata": {},
   "outputs": [],
   "source": []
  },
  {
   "cell_type": "code",
   "execution_count": null,
   "metadata": {},
   "outputs": [],
   "source": []
  },
  {
   "cell_type": "code",
   "execution_count": null,
   "metadata": {},
   "outputs": [],
   "source": []
  },
  {
   "cell_type": "code",
   "execution_count": null,
   "metadata": {},
   "outputs": [],
   "source": []
  }
 ],
 "metadata": {
  "kernelspec": {
   "display_name": "Python 3",
   "language": "python",
   "name": "python3"
  },
  "language_info": {
   "codemirror_mode": {
    "name": "ipython",
    "version": 3
   },
   "file_extension": ".py",
   "mimetype": "text/x-python",
   "name": "python",
   "nbconvert_exporter": "python",
   "pygments_lexer": "ipython3",
   "version": "3.8.5"
  }
 },
 "nbformat": 4,
 "nbformat_minor": 4
}

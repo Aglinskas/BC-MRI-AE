{
 "cells": [
  {
   "cell_type": "code",
   "execution_count": 1,
   "id": "f09ca224",
   "metadata": {},
   "outputs": [
    {
     "data": {
      "text/plain": [
       "'/mmfs1/data/aglinska/BC-MRI-AE/Colab Notebooks'"
      ]
     },
     "execution_count": 1,
     "metadata": {},
     "output_type": "execute_result"
    }
   ],
   "source": [
    "pwd"
   ]
  },
  {
   "cell_type": "code",
   "execution_count": 2,
   "id": "a3f3326f",
   "metadata": {},
   "outputs": [
    {
     "name": "stdout",
     "output_type": "stream",
     "text": [
      "CPU times: user 2.37 s, sys: 3.61 s, total: 5.98 s\n",
      "Wall time: 10.9 s\n"
     ]
    }
   ],
   "source": [
    "%%time\n",
    "from importlib import reload\n",
    "#import helper_funcs;reload(helper_funcs2);from helper_funcs2 import *\n",
    "import make_models2;reload(make_models2);from make_models2 import *\n",
    "import pickle\n",
    "from tqdm import tqdm"
   ]
  },
  {
   "cell_type": "code",
   "execution_count": null,
   "id": "e15a8f5b",
   "metadata": {},
   "outputs": [],
   "source": []
  },
  {
   "cell_type": "code",
   "execution_count": 3,
   "id": "654eb0d8",
   "metadata": {},
   "outputs": [
    {
     "data": {
      "text/html": [
       "<div>\n",
       "<style scoped>\n",
       "    .dataframe tbody tr th:only-of-type {\n",
       "        vertical-align: middle;\n",
       "    }\n",
       "\n",
       "    .dataframe tbody tr th {\n",
       "        vertical-align: top;\n",
       "    }\n",
       "\n",
       "    .dataframe thead th {\n",
       "        text-align: right;\n",
       "    }\n",
       "</style>\n",
       "<table border=\"1\" class=\"dataframe\">\n",
       "  <thead>\n",
       "    <tr style=\"text-align: right;\">\n",
       "      <th></th>\n",
       "      <th>index</th>\n",
       "      <th>BIDS_ID</th>\n",
       "      <th>Anonymized ID</th>\n",
       "      <th>Subject Type</th>\n",
       "      <th>Visit</th>\n",
       "      <th>Days since enrollment</th>\n",
       "      <th>SubID</th>\n",
       "      <th>DxGroup</th>\n",
       "      <th>DSMIVTR</th>\n",
       "      <th>AgeAtScan</th>\n",
       "      <th>...</th>\n",
       "      <th>WISC4 Pic Con Scaled</th>\n",
       "      <th>WISC4 Matrix Scaled</th>\n",
       "      <th>WISC4 Dig Span Scaled</th>\n",
       "      <th>WISC4 Let Num Scaled</th>\n",
       "      <th>WISC4 Coding Scaled</th>\n",
       "      <th>WISC4 Sym Scaled</th>\n",
       "      <th>Age at MPRAGE</th>\n",
       "      <th>Current Med Status</th>\n",
       "      <th>Medication Name</th>\n",
       "      <th>Off stimulants at EPI scan?</th>\n",
       "    </tr>\n",
       "  </thead>\n",
       "  <tbody>\n",
       "    <tr>\n",
       "      <th>0</th>\n",
       "      <td>0</td>\n",
       "      <td>sub-001</td>\n",
       "      <td>A00033348</td>\n",
       "      <td>PATIENT</td>\n",
       "      <td>session_1</td>\n",
       "      <td>8</td>\n",
       "      <td>51320</td>\n",
       "      <td>1</td>\n",
       "      <td>2.0</td>\n",
       "      <td>31.0</td>\n",
       "      <td>...</td>\n",
       "      <td>NaN</td>\n",
       "      <td>NaN</td>\n",
       "      <td>NaN</td>\n",
       "      <td>NaN</td>\n",
       "      <td>NaN</td>\n",
       "      <td>NaN</td>\n",
       "      <td>NaN</td>\n",
       "      <td>0</td>\n",
       "      <td>NaN</td>\n",
       "      <td>NaN</td>\n",
       "    </tr>\n",
       "    <tr>\n",
       "      <th>1</th>\n",
       "      <td>1</td>\n",
       "      <td>sub-002</td>\n",
       "      <td>A00033398</td>\n",
       "      <td>CONTROL</td>\n",
       "      <td>session_1</td>\n",
       "      <td>8</td>\n",
       "      <td>51373</td>\n",
       "      <td>2</td>\n",
       "      <td>0.0</td>\n",
       "      <td>46.0</td>\n",
       "      <td>...</td>\n",
       "      <td>NaN</td>\n",
       "      <td>NaN</td>\n",
       "      <td>NaN</td>\n",
       "      <td>NaN</td>\n",
       "      <td>NaN</td>\n",
       "      <td>NaN</td>\n",
       "      <td>NaN</td>\n",
       "      <td>0</td>\n",
       "      <td>NaN</td>\n",
       "      <td>NaN</td>\n",
       "    </tr>\n",
       "    <tr>\n",
       "      <th>2</th>\n",
       "      <td>2</td>\n",
       "      <td>sub-003</td>\n",
       "      <td>A00033352</td>\n",
       "      <td>PATIENT</td>\n",
       "      <td>session_1</td>\n",
       "      <td>8</td>\n",
       "      <td>51324</td>\n",
       "      <td>1</td>\n",
       "      <td>2.0</td>\n",
       "      <td>52.0</td>\n",
       "      <td>...</td>\n",
       "      <td>NaN</td>\n",
       "      <td>NaN</td>\n",
       "      <td>NaN</td>\n",
       "      <td>NaN</td>\n",
       "      <td>NaN</td>\n",
       "      <td>NaN</td>\n",
       "      <td>NaN</td>\n",
       "      <td>0</td>\n",
       "      <td>NaN</td>\n",
       "      <td>NaN</td>\n",
       "    </tr>\n",
       "    <tr>\n",
       "      <th>3</th>\n",
       "      <td>3</td>\n",
       "      <td>sub-004</td>\n",
       "      <td>A00033389</td>\n",
       "      <td>CONTROL</td>\n",
       "      <td>session_1</td>\n",
       "      <td>8</td>\n",
       "      <td>51364</td>\n",
       "      <td>2</td>\n",
       "      <td>0.0</td>\n",
       "      <td>26.0</td>\n",
       "      <td>...</td>\n",
       "      <td>NaN</td>\n",
       "      <td>NaN</td>\n",
       "      <td>NaN</td>\n",
       "      <td>NaN</td>\n",
       "      <td>NaN</td>\n",
       "      <td>NaN</td>\n",
       "      <td>NaN</td>\n",
       "      <td>0</td>\n",
       "      <td>NaN</td>\n",
       "      <td>NaN</td>\n",
       "    </tr>\n",
       "    <tr>\n",
       "      <th>4</th>\n",
       "      <td>4</td>\n",
       "      <td>sub-005</td>\n",
       "      <td>A00033354</td>\n",
       "      <td>PATIENT</td>\n",
       "      <td>session_1</td>\n",
       "      <td>8</td>\n",
       "      <td>51326</td>\n",
       "      <td>1</td>\n",
       "      <td>2.0</td>\n",
       "      <td>42.0</td>\n",
       "      <td>...</td>\n",
       "      <td>NaN</td>\n",
       "      <td>NaN</td>\n",
       "      <td>NaN</td>\n",
       "      <td>NaN</td>\n",
       "      <td>NaN</td>\n",
       "      <td>NaN</td>\n",
       "      <td>NaN</td>\n",
       "      <td>0</td>\n",
       "      <td>NaN</td>\n",
       "      <td>NaN</td>\n",
       "    </tr>\n",
       "  </tbody>\n",
       "</table>\n",
       "<p>5 rows × 79 columns</p>\n",
       "</div>"
      ],
      "text/plain": [
       "   index  BIDS_ID Anonymized ID Subject Type      Visit  \\\n",
       "0      0  sub-001     A00033348      PATIENT  session_1   \n",
       "1      1  sub-002     A00033398      CONTROL  session_1   \n",
       "2      2  sub-003     A00033352      PATIENT  session_1   \n",
       "3      3  sub-004     A00033389      CONTROL  session_1   \n",
       "4      4  sub-005     A00033354      PATIENT  session_1   \n",
       "\n",
       "   Days since enrollment  SubID  DxGroup  DSMIVTR  AgeAtScan  ...  \\\n",
       "0                      8  51320        1      2.0       31.0  ...   \n",
       "1                      8  51373        2      0.0       46.0  ...   \n",
       "2                      8  51324        1      2.0       52.0  ...   \n",
       "3                      8  51364        2      0.0       26.0  ...   \n",
       "4                      8  51326        1      2.0       42.0  ...   \n",
       "\n",
       "   WISC4 Pic Con Scaled  WISC4 Matrix Scaled  WISC4 Dig Span Scaled  \\\n",
       "0                   NaN                  NaN                    NaN   \n",
       "1                   NaN                  NaN                    NaN   \n",
       "2                   NaN                  NaN                    NaN   \n",
       "3                   NaN                  NaN                    NaN   \n",
       "4                   NaN                  NaN                    NaN   \n",
       "\n",
       "   WISC4 Let Num Scaled WISC4 Coding Scaled WISC4 Sym Scaled Age at MPRAGE  \\\n",
       "0                   NaN                 NaN              NaN           NaN   \n",
       "1                   NaN                 NaN              NaN           NaN   \n",
       "2                   NaN                 NaN              NaN           NaN   \n",
       "3                   NaN                 NaN              NaN           NaN   \n",
       "4                   NaN                 NaN              NaN           NaN   \n",
       "\n",
       "   Current Med Status  Medication Name  Off stimulants at EPI scan?  \n",
       "0                   0              NaN                          NaN  \n",
       "1                   0              NaN                          NaN  \n",
       "2                   0              NaN                          NaN  \n",
       "3                   0              NaN                          NaN  \n",
       "4                   0              NaN                          NaN  \n",
       "\n",
       "[5 rows x 79 columns]"
      ]
     },
     "execution_count": 3,
     "metadata": {},
     "output_type": "execute_result"
    }
   ],
   "source": [
    "arr = np.load('/mmfs1/data/aglinska/BC-MRI-AE/Data/ABIDE-Anat-64iso.npz')\n",
    "ABIDE_data = arr['data']\n",
    "ABIDE_subs = arr['subs']\n",
    "nsubs = ABIDE_data.shape[0]\n",
    "[arr.shape for arr in [ABIDE_subs,ABIDE_data]]\n",
    "\n",
    "aa = np.array([ABIDE_data[s,:,:,:].sum() for s in range(ABIDE_data.shape[0])])<5000\n",
    "ABIDE_data = ABIDE_data[~aa,:,:,:]\n",
    "ABIDE_subs = ABIDE_subs[~aa]\n",
    "[arr.shape for arr in [ABIDE_subs,ABIDE_data]]\n",
    "\n",
    "df = pd.read_csv('/mmfs1/data/aglinska/BC-MRI-AE/CSVs/ABIDE-legend.csv',header=0)\n",
    "df = df.iloc[np.array([df['BIDS_ID'].values[s] in ABIDE_subs for s in range(len(df))])]\n",
    "df.reset_index(inplace=True)\n",
    "\n",
    "assert len(df)==len(ABIDE_subs),'dif lenghts'\n",
    "assert all([df['BIDS_ID'][s]==ABIDE_subs[s] for s in range(len(df))]),'mismatch between df and goodsubs'\n",
    "\n",
    "df.head(5)"
   ]
  },
  {
   "cell_type": "code",
   "execution_count": null,
   "id": "1ec8dcbb",
   "metadata": {},
   "outputs": [],
   "source": []
  },
  {
   "cell_type": "code",
   "execution_count": 4,
   "id": "fe7d94cd",
   "metadata": {},
   "outputs": [
    {
     "name": "stdout",
     "output_type": "stream",
     "text": [
      "CPU times: user 2.41 s, sys: 1.39 s, total: 3.8 s\n",
      "Wall time: 4.28 s\n"
     ]
    },
    {
     "data": {
      "text/plain": [
       "<tensorflow.python.training.tracking.util.CheckpointLoadStatus at 0x15549e3546d0>"
      ]
     },
     "execution_count": 4,
     "metadata": {},
     "output_type": "execute_result"
    }
   ],
   "source": [
    "%%time \n",
    "# LOAD CVAE\n",
    "latent_dim = 16;batch_size = 32;beta = 1;gamma = 100;disentangle = True\n",
    "cvae, z_encoder, s_encoder, cvae_decoder = get_MRI_CVAE_3D(latent_dim=latent_dim,beta=beta, disentangle=disentangle, gamma=gamma, bias=True, batch_size = batch_size)\n",
    "loss = list()    \n",
    "fn = '/mmfs1/data/aglinska/tf_outputs/CVAE/Feb23_1551_D16B1G100_DTrue' # good for paper\n",
    "loss = pickle.load(open(fn+'_loss.pickle','rb'))\n",
    "cvae.load_weights(fn)"
   ]
  },
  {
   "cell_type": "code",
   "execution_count": 21,
   "id": "64418a17",
   "metadata": {},
   "outputs": [
    {
     "name": "stdout",
     "output_type": "stream",
     "text": [
      "0.0039087986\n",
      "0.0037922796\n",
      "0.0034115503\n",
      "0.0034304962\n",
      "0.0036486753\n",
      "0.0032719693\n",
      "0.003532045\n",
      "0.0034819553\n",
      "0.0035871877\n",
      "0.0036035122\n",
      "0.00363411\n",
      "0.0031975042\n",
      "0.0033240605\n",
      "0.003941023\n"
     ]
    }
   ],
   "source": [
    "mses = list()\n",
    "for i in range(14):\n",
    "    data_batch = ABIDE_data[np.random.permutation(np.nonzero(df['DxGroup'].values==1)[0])[i*32:i*32+32],:,:,:]\n",
    "    mse = ((data_batch-cvae.predict([data_batch,data_batch])[0][:,:,:,:,0])**2).mean()\n",
    "    print(mse)\n",
    "    mses.append(mse)"
   ]
  },
  {
   "cell_type": "code",
   "execution_count": 24,
   "id": "3383ab42",
   "metadata": {},
   "outputs": [
    {
     "data": {
      "text/plain": [
       "0.0035546545"
      ]
     },
     "execution_count": 24,
     "metadata": {},
     "output_type": "execute_result"
    }
   ],
   "source": [
    "np.array(mses).mean()"
   ]
  },
  {
   "cell_type": "code",
   "execution_count": 7,
   "id": "391cd1bd",
   "metadata": {},
   "outputs": [],
   "source": [
    "latent_dim = 32\n",
    "batch_size = 32\n",
    "disentangle = False\n",
    "gamma = 1\n",
    "\n",
    "encoder, decoder, vae = get_MRI_VAE_3D(input_shape=(64,64,64,1), \n",
    "                                        latent_dim=32, \n",
    "                                        batch_size = batch_size, \n",
    "                                        disentangle=True,\n",
    "                                        gamma=1,\n",
    "                                        kernel_size = 3,\n",
    "                                        filters = 32,\n",
    "                                        intermediate_dim = 128+64,\n",
    "                                        nlayers = 2,\n",
    "                                        bias=True)\n",
    "    \n",
    "\n",
    "fn = '/mmfs1/data/aglinska/tf_outputs/VAE/20210917-1506-3'\n",
    "vae.load_weights(fn)\n",
    "loss = pickle.load(open(fn+'_loss.pickle','rb'))"
   ]
  },
  {
   "cell_type": "code",
   "execution_count": 15,
   "id": "94adf205",
   "metadata": {},
   "outputs": [
    {
     "data": {
      "text/plain": [
       "14.6875"
      ]
     },
     "execution_count": 15,
     "metadata": {},
     "output_type": "execute_result"
    }
   ],
   "source": [
    "len((np.nonzero(df['DxGroup'].values==1))[0])/3"
   ]
  },
  {
   "cell_type": "code",
   "execution_count": 17,
   "id": "f27beb7a",
   "metadata": {},
   "outputs": [
    {
     "name": "stdout",
     "output_type": "stream",
     "text": [
      "0.004850729\n",
      "0.004538235\n",
      "0.005419832\n",
      "0.005045265\n",
      "0.005077817\n",
      "0.0050479984\n",
      "0.0051961592\n",
      "0.004990591\n",
      "0.005075469\n",
      "0.0049923453\n",
      "0.004979443\n",
      "0.005007255\n",
      "0.005095245\n",
      "0.00511528\n"
     ]
    }
   ],
   "source": [
    "mses = list()\n",
    "for i in range(14):\n",
    "    data_batch = ABIDE_data[np.random.permutation(np.nonzero(df['DxGroup'].values==1)[0])[i*32:i*32+32],:,:,:]\n",
    "    mse = ((data_batch-vae.predict(data_batch)[:,:,:,:,0])**2).mean()\n",
    "    print(mse)\n",
    "    mses.append(mse)"
   ]
  },
  {
   "cell_type": "code",
   "execution_count": 19,
   "id": "b0957e62",
   "metadata": {},
   "outputs": [
    {
     "data": {
      "text/plain": [
       "0.005030833"
      ]
     },
     "execution_count": 19,
     "metadata": {},
     "output_type": "execute_result"
    }
   ],
   "source": [
    "np.array(mses).mean()"
   ]
  },
  {
   "cell_type": "code",
   "execution_count": null,
   "id": "7feaefce",
   "metadata": {},
   "outputs": [],
   "source": []
  },
  {
   "cell_type": "code",
   "execution_count": null,
   "id": "c86413e7",
   "metadata": {},
   "outputs": [],
   "source": []
  },
  {
   "cell_type": "code",
   "execution_count": null,
   "id": "6a01917f",
   "metadata": {},
   "outputs": [],
   "source": []
  },
  {
   "cell_type": "code",
   "execution_count": null,
   "id": "9e6880da",
   "metadata": {},
   "outputs": [],
   "source": []
  }
 ],
 "metadata": {
  "kernelspec": {
   "display_name": "Python 3",
   "language": "python",
   "name": "python3"
  },
  "language_info": {
   "codemirror_mode": {
    "name": "ipython",
    "version": 3
   },
   "file_extension": ".py",
   "mimetype": "text/x-python",
   "name": "python",
   "nbconvert_exporter": "python",
   "pygments_lexer": "ipython3",
   "version": "3.8.5"
  }
 },
 "nbformat": 4,
 "nbformat_minor": 5
}

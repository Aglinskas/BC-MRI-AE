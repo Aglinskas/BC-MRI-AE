{
 "cells": [
  {
   "cell_type": "code",
   "execution_count": 1,
   "id": "cbb96448",
   "metadata": {},
   "outputs": [
    {
     "name": "stdout",
     "output_type": "stream",
     "text": [
      "/mmfs1/data/aglinska/BC-MRI-AE/Colab Notebooks\n"
     ]
    }
   ],
   "source": [
    "cd /mmfs1/data/aglinska/BC-MRI-AE/Colab Notebooks"
   ]
  },
  {
   "cell_type": "code",
   "execution_count": 2,
   "id": "1610960d",
   "metadata": {},
   "outputs": [
    {
     "name": "stdout",
     "output_type": "stream",
     "text": [
      "2022-01-25 06:28:42.866797\n"
     ]
    }
   ],
   "source": [
    "from datetime import datetime\n",
    "now = datetime.now;t0 = now()\n",
    "print(now())"
   ]
  },
  {
   "cell_type": "code",
   "execution_count": 3,
   "id": "1cf847db",
   "metadata": {},
   "outputs": [
    {
     "data": {
      "text/plain": [
       "'/mmfs1/data/aglinska/BC-MRI-AE/Colab Notebooks'"
      ]
     },
     "execution_count": 3,
     "metadata": {},
     "output_type": "execute_result"
    }
   ],
   "source": [
    "pwd"
   ]
  },
  {
   "cell_type": "code",
   "execution_count": 4,
   "id": "4b722d5c",
   "metadata": {},
   "outputs": [
    {
     "name": "stdout",
     "output_type": "stream",
     "text": [
      "CPU times: user 1e+03 ns, sys: 0 ns, total: 1e+03 ns\n",
      "Wall time: 2.86 µs\n"
     ]
    }
   ],
   "source": [
    "%time\n",
    "import numpy as np\n",
    "import pandas as pd\n",
    "import ants\n",
    "import os\n",
    "from matplotlib import pyplot as plt"
   ]
  },
  {
   "cell_type": "code",
   "execution_count": 5,
   "id": "eaed0162",
   "metadata": {},
   "outputs": [
    {
     "data": {
      "text/plain": [
       "['salient_vec_abide',\n",
       " 'background_vec_abide',\n",
       " 'vae_vec_abide',\n",
       " 'salient_vec_sfari',\n",
       " 'background_vec_sfari',\n",
       " 'vae_vec_sfari']"
      ]
     },
     "execution_count": 5,
     "metadata": {},
     "output_type": "execute_result"
    }
   ],
   "source": [
    "data_latent_vec = np.load('../Data/latent_vecs.npz')\n",
    "list(data_latent_vec.keys())"
   ]
  },
  {
   "cell_type": "code",
   "execution_count": 6,
   "id": "6b133411",
   "metadata": {},
   "outputs": [],
   "source": [
    "from importlib import reload\n",
    "import pickle\n",
    "import helper_funcs;reload(helper_funcs);from helper_funcs import *\n",
    "import make_models2;reload(make_models2);from make_models2 import *"
   ]
  },
  {
   "cell_type": "markdown",
   "id": "c210752e",
   "metadata": {},
   "source": [
    "## LOAD MODEL"
   ]
  },
  {
   "cell_type": "code",
   "execution_count": 7,
   "id": "92a78d55",
   "metadata": {},
   "outputs": [
    {
     "name": "stdout",
     "output_type": "stream",
     "text": [
      "CPU times: user 1e+03 ns, sys: 1 µs, total: 2 µs\n",
      "Wall time: 4.77 µs\n",
      "WARNING:tensorflow:Inconsistent references when loading the checkpoint into this object graph. Either the Trackable object references in the Python program have changed in an incompatible way, or the checkpoint was generated in an incompatible program.\n",
      "\n",
      "Two checkpoint references resolved to different objects (<tensorflow.python.keras.layers.core.Dense object at 0x1553280fa880> and <tensorflow.python.keras.layers.core.TFOpLambda object at 0x1553300755b0>).\n"
     ]
    },
    {
     "data": {
      "text/plain": [
       "<tensorflow.python.training.tracking.util.CheckpointLoadStatus at 0x155331873280>"
      ]
     },
     "execution_count": 7,
     "metadata": {},
     "output_type": "execute_result"
    }
   ],
   "source": [
    "%time \n",
    "# LOAD CVAE\n",
    "latent_dim = 16;batch_size = 32;beta = 1;gamma = 100;disentangle = True\n",
    "cvae, z_encoder, s_encoder, cvae_decoder = get_MRI_CVAE_3D(latent_dim=latent_dim,beta=beta, disentangle=disentangle, gamma=gamma, bias=True, batch_size = batch_size)\n",
    "loss = list()    \n",
    "\n",
    "fn = '/mmfs1/data/aglinska/tf_outputs/CVAE/Feb23_1551_D16B1G100_DTrue'\n",
    "\n",
    "loss = pickle.load(open(fn+'_loss.pickle','rb'))\n",
    "cvae.load_weights(fn)"
   ]
  },
  {
   "cell_type": "markdown",
   "id": "d51c5e71",
   "metadata": {},
   "source": [
    "## LOAD DATA"
   ]
  },
  {
   "cell_type": "code",
   "execution_count": 8,
   "id": "7cfa954f",
   "metadata": {},
   "outputs": [
    {
     "name": "stdout",
     "output_type": "stream",
     "text": [
      "(982, 90)\n",
      "(982, 64, 64, 64)\n"
     ]
    }
   ],
   "source": [
    "df = pd.read_csv('../Data/ABIDE_legend_S982.csv')\n",
    "data = np.load('../Data/ABIDE-Anat-64iso-S982.npz')['data']\n",
    "print(df.shape)\n",
    "print(data.shape)"
   ]
  },
  {
   "cell_type": "code",
   "execution_count": 9,
   "id": "9bacc6a0",
   "metadata": {},
   "outputs": [
    {
     "data": {
      "text/html": [
       "<div>\n",
       "<style scoped>\n",
       "    .dataframe tbody tr th:only-of-type {\n",
       "        vertical-align: middle;\n",
       "    }\n",
       "\n",
       "    .dataframe tbody tr th {\n",
       "        vertical-align: top;\n",
       "    }\n",
       "\n",
       "    .dataframe thead th {\n",
       "        text-align: right;\n",
       "    }\n",
       "</style>\n",
       "<table border=\"1\" class=\"dataframe\">\n",
       "  <thead>\n",
       "    <tr style=\"text-align: right;\">\n",
       "      <th></th>\n",
       "      <th>Unnamed: 0</th>\n",
       "      <th>index</th>\n",
       "      <th>BIDS_ID</th>\n",
       "      <th>Anonymized ID</th>\n",
       "      <th>Subject Type</th>\n",
       "      <th>Visit</th>\n",
       "      <th>Days since enrollment</th>\n",
       "      <th>SubID</th>\n",
       "      <th>DxGroup</th>\n",
       "      <th>DSMIVTR</th>\n",
       "      <th>...</th>\n",
       "      <th>WISC4 Sym Scaled</th>\n",
       "      <th>Age at MPRAGE</th>\n",
       "      <th>Current Med Status</th>\n",
       "      <th>Medication Name</th>\n",
       "      <th>Medication Name.1</th>\n",
       "      <th>Off stimulants at EPI scan?</th>\n",
       "      <th>ScanSite</th>\n",
       "      <th>ScannerType</th>\n",
       "      <th>ScannerID</th>\n",
       "      <th>ScanSiteID</th>\n",
       "    </tr>\n",
       "  </thead>\n",
       "  <tbody>\n",
       "    <tr>\n",
       "      <th>0</th>\n",
       "      <td>0</td>\n",
       "      <td>0</td>\n",
       "      <td>sub-001</td>\n",
       "      <td>A00033348</td>\n",
       "      <td>PATIENT</td>\n",
       "      <td>session_1</td>\n",
       "      <td>8</td>\n",
       "      <td>51320</td>\n",
       "      <td>1</td>\n",
       "      <td>2.0</td>\n",
       "      <td>...</td>\n",
       "      <td>NaN</td>\n",
       "      <td>NaN</td>\n",
       "      <td>0.0</td>\n",
       "      <td>NaN</td>\n",
       "      <td>NaN</td>\n",
       "      <td>NaN</td>\n",
       "      <td>mpg</td>\n",
       "      <td>verio</td>\n",
       "      <td>7</td>\n",
       "      <td>3</td>\n",
       "    </tr>\n",
       "    <tr>\n",
       "      <th>1</th>\n",
       "      <td>1</td>\n",
       "      <td>1</td>\n",
       "      <td>sub-002</td>\n",
       "      <td>A00033398</td>\n",
       "      <td>CONTROL</td>\n",
       "      <td>session_1</td>\n",
       "      <td>8</td>\n",
       "      <td>51373</td>\n",
       "      <td>2</td>\n",
       "      <td>0.0</td>\n",
       "      <td>...</td>\n",
       "      <td>NaN</td>\n",
       "      <td>NaN</td>\n",
       "      <td>0.0</td>\n",
       "      <td>NaN</td>\n",
       "      <td>NaN</td>\n",
       "      <td>NaN</td>\n",
       "      <td>mpg</td>\n",
       "      <td>verio</td>\n",
       "      <td>7</td>\n",
       "      <td>3</td>\n",
       "    </tr>\n",
       "    <tr>\n",
       "      <th>2</th>\n",
       "      <td>2</td>\n",
       "      <td>2</td>\n",
       "      <td>sub-003</td>\n",
       "      <td>A00033352</td>\n",
       "      <td>PATIENT</td>\n",
       "      <td>session_1</td>\n",
       "      <td>8</td>\n",
       "      <td>51324</td>\n",
       "      <td>1</td>\n",
       "      <td>2.0</td>\n",
       "      <td>...</td>\n",
       "      <td>NaN</td>\n",
       "      <td>NaN</td>\n",
       "      <td>0.0</td>\n",
       "      <td>NaN</td>\n",
       "      <td>NaN</td>\n",
       "      <td>NaN</td>\n",
       "      <td>mpg</td>\n",
       "      <td>verio</td>\n",
       "      <td>7</td>\n",
       "      <td>3</td>\n",
       "    </tr>\n",
       "    <tr>\n",
       "      <th>3</th>\n",
       "      <td>3</td>\n",
       "      <td>3</td>\n",
       "      <td>sub-004</td>\n",
       "      <td>A00033389</td>\n",
       "      <td>CONTROL</td>\n",
       "      <td>session_1</td>\n",
       "      <td>8</td>\n",
       "      <td>51364</td>\n",
       "      <td>2</td>\n",
       "      <td>0.0</td>\n",
       "      <td>...</td>\n",
       "      <td>NaN</td>\n",
       "      <td>NaN</td>\n",
       "      <td>0.0</td>\n",
       "      <td>NaN</td>\n",
       "      <td>NaN</td>\n",
       "      <td>NaN</td>\n",
       "      <td>mpg</td>\n",
       "      <td>verio</td>\n",
       "      <td>7</td>\n",
       "      <td>3</td>\n",
       "    </tr>\n",
       "    <tr>\n",
       "      <th>4</th>\n",
       "      <td>4</td>\n",
       "      <td>4</td>\n",
       "      <td>sub-005</td>\n",
       "      <td>A00033354</td>\n",
       "      <td>PATIENT</td>\n",
       "      <td>session_1</td>\n",
       "      <td>8</td>\n",
       "      <td>51326</td>\n",
       "      <td>1</td>\n",
       "      <td>2.0</td>\n",
       "      <td>...</td>\n",
       "      <td>NaN</td>\n",
       "      <td>NaN</td>\n",
       "      <td>0.0</td>\n",
       "      <td>NaN</td>\n",
       "      <td>NaN</td>\n",
       "      <td>NaN</td>\n",
       "      <td>mpg</td>\n",
       "      <td>verio</td>\n",
       "      <td>7</td>\n",
       "      <td>3</td>\n",
       "    </tr>\n",
       "  </tbody>\n",
       "</table>\n",
       "<p>5 rows × 90 columns</p>\n",
       "</div>"
      ],
      "text/plain": [
       "   Unnamed: 0  index  BIDS_ID Anonymized ID Subject Type      Visit  \\\n",
       "0           0      0  sub-001     A00033348      PATIENT  session_1   \n",
       "1           1      1  sub-002     A00033398      CONTROL  session_1   \n",
       "2           2      2  sub-003     A00033352      PATIENT  session_1   \n",
       "3           3      3  sub-004     A00033389      CONTROL  session_1   \n",
       "4           4      4  sub-005     A00033354      PATIENT  session_1   \n",
       "\n",
       "   Days since enrollment  SubID  DxGroup  DSMIVTR  ...  WISC4 Sym Scaled  \\\n",
       "0                      8  51320        1      2.0  ...               NaN   \n",
       "1                      8  51373        2      0.0  ...               NaN   \n",
       "2                      8  51324        1      2.0  ...               NaN   \n",
       "3                      8  51364        2      0.0  ...               NaN   \n",
       "4                      8  51326        1      2.0  ...               NaN   \n",
       "\n",
       "   Age at MPRAGE  Current Med Status  Medication Name  Medication Name.1  \\\n",
       "0            NaN                 0.0              NaN                NaN   \n",
       "1            NaN                 0.0              NaN                NaN   \n",
       "2            NaN                 0.0              NaN                NaN   \n",
       "3            NaN                 0.0              NaN                NaN   \n",
       "4            NaN                 0.0              NaN                NaN   \n",
       "\n",
       "  Off stimulants at EPI scan? ScanSite ScannerType  ScannerID  ScanSiteID  \n",
       "0                         NaN      mpg       verio          7           3  \n",
       "1                         NaN      mpg       verio          7           3  \n",
       "2                         NaN      mpg       verio          7           3  \n",
       "3                         NaN      mpg       verio          7           3  \n",
       "4                         NaN      mpg       verio          7           3  \n",
       "\n",
       "[5 rows x 90 columns]"
      ]
     },
     "execution_count": 9,
     "metadata": {},
     "output_type": "execute_result"
    }
   ],
   "source": [
    "df.head()"
   ]
  },
  {
   "cell_type": "code",
   "execution_count": 10,
   "id": "139669ee",
   "metadata": {},
   "outputs": [
    {
     "name": "stdout",
     "output_type": "stream",
     "text": [
      "CPU times: user 6 µs, sys: 2 µs, total: 8 µs\n",
      "Wall time: 14.8 µs\n",
      "(982, 16)\n"
     ]
    }
   ],
   "source": [
    "%time\n",
    "z_embed = z_encoder.predict(data)[2]\n",
    "s_embed = s_encoder.predict(data)[2]\n",
    "print(s_embed.shape)"
   ]
  },
  {
   "cell_type": "code",
   "execution_count": 11,
   "id": "bbc2c58b",
   "metadata": {},
   "outputs": [
    {
     "data": {
      "text/plain": [
       "['embedding_bg',\n",
       " 'embedding_sl',\n",
       " 'embedding_vae',\n",
       " 'sfari_embedding_vae',\n",
       " 'sfari_embedding_bg',\n",
       " 'sfari_embedding_sl',\n",
       " 'bg_space_abide',\n",
       " 'sl_space_abide',\n",
       " 'vae_space_abide',\n",
       " 'bg_space_sfari',\n",
       " 'sl_space_sfari',\n",
       " 'vae_space_sfari',\n",
       " 'bg_Sspace_sfari',\n",
       " 'sl_Sspace_sfari',\n",
       " 'vae_Sspace_sfari',\n",
       " 'reducer_bg_abide',\n",
       " 'reducer_sl_abide',\n",
       " 'reducer_vae_abide',\n",
       " 'reducer_bg_sfari',\n",
       " 'reducer_sl_sfari',\n",
       " 'reducer_vae_sfari']"
      ]
     },
     "execution_count": 11,
     "metadata": {},
     "output_type": "execute_result"
    }
   ],
   "source": [
    "latents = pickle.load(open('../Data/embedded_data.pickle','rb'))\n",
    "list(latents.keys())"
   ]
  },
  {
   "cell_type": "code",
   "execution_count": 12,
   "id": "944928a2",
   "metadata": {},
   "outputs": [
    {
     "data": {
      "text/plain": [
       "(470, 16)"
      ]
     },
     "execution_count": 12,
     "metadata": {},
     "output_type": "execute_result"
    }
   ],
   "source": [
    "latents['embedding_sl'].shape"
   ]
  },
  {
   "cell_type": "code",
   "execution_count": 13,
   "id": "bd6340d2",
   "metadata": {},
   "outputs": [],
   "source": [
    "umap_sl = latents['reducer_sl_abide']"
   ]
  },
  {
   "cell_type": "code",
   "execution_count": 14,
   "id": "047afc98",
   "metadata": {},
   "outputs": [],
   "source": [
    "patients = df['DxGroup'].values==1"
   ]
  },
  {
   "cell_type": "code",
   "execution_count": 15,
   "id": "56ae5107",
   "metadata": {},
   "outputs": [
    {
     "data": {
      "text/plain": [
       "(470, 16)"
      ]
     },
     "execution_count": 15,
     "metadata": {},
     "output_type": "execute_result"
    }
   ],
   "source": [
    "latents['embedding_sl'].shape"
   ]
  },
  {
   "cell_type": "code",
   "execution_count": 16,
   "id": "fc10eca7",
   "metadata": {},
   "outputs": [],
   "source": [
    "%%capture\n",
    "embedding_sl = umap_sl.transform(latents['embedding_sl'])"
   ]
  },
  {
   "cell_type": "code",
   "execution_count": 17,
   "id": "f68254c9",
   "metadata": {},
   "outputs": [
    {
     "data": {
      "text/plain": [
       "(470, 2)"
      ]
     },
     "execution_count": 17,
     "metadata": {},
     "output_type": "execute_result"
    }
   ],
   "source": [
    "embedding_sl.shape"
   ]
  },
  {
   "cell_type": "code",
   "execution_count": 18,
   "id": "8287c357",
   "metadata": {},
   "outputs": [],
   "source": [
    "x_loading = embedding_sl[:,0]\n",
    "y_loading = embedding_sl[:,1]"
   ]
  },
  {
   "cell_type": "code",
   "execution_count": 19,
   "id": "db74695e",
   "metadata": {},
   "outputs": [
    {
     "data": {
      "text/plain": [
       "Text(0.5, 1.0, 'SL SPACE')"
      ]
     },
     "execution_count": 19,
     "metadata": {},
     "output_type": "execute_result"
    },
    {
     "data": {
      "image/png": "[encoded data removed]",
      "text/plain": [
       "<Figure size 360x360 with 1 Axes>"
      ]
     },
     "metadata": {
      "needs_background": "light"
     },
     "output_type": "display_data"
    }
   ],
   "source": [
    "plt.figure(figsize=(5,5))\n",
    "plt.scatter(embedding_sl[:,0],embedding_sl[:,1])\n",
    "#plt.scatter(embedding_sl[x_bot_50,0],embedding_sl[x_bot_50,1])\n",
    "plt.title('SL SPACE')"
   ]
  },
  {
   "cell_type": "code",
   "execution_count": 20,
   "id": "81e66fe1",
   "metadata": {},
   "outputs": [
    {
     "name": "stdout",
     "output_type": "stream",
     "text": [
      "ADOS_Total | X:-0.00,Y:-0.10\n",
      "ADOS_Comm | X:-0.03,Y:-0.03\n",
      "ADOS_Social | X:0.01,Y:-0.11\n",
      "ADOS_StBeh | X:-0.12,Y:-0.04\n"
     ]
    }
   ],
   "source": [
    "keys = ['ADOS_Total','ADOS_Comm', 'ADOS_Social', 'ADOS_StBeh']\n",
    "for key in keys:\n",
    "    vec = df[key].values[patients]\n",
    "    e = np.isnan(vec)\n",
    "    r_x = np.corrcoef(vec[~e],x_loading[~e])[0,1]\n",
    "    r_y = np.corrcoef(vec[~e],y_loading[~e])[0,1]\n",
    "    print(f'{key} | X:{r_x:.2f},Y:{r_y:.2f}')"
   ]
  },
  {
   "cell_type": "markdown",
   "id": "45dfee4d",
   "metadata": {},
   "source": [
    "ADOS_Total | X:-0.03,Y:-0.12\n",
    "\n",
    "\n",
    "ADOS_Comm | X:-0.04,Y:-0.07\n",
    "\n",
    "\n",
    "ADOS_Social | X:-0.02,Y:-0.12\n",
    "\n",
    "\n",
    "ADOS_StBeh | X:-0.12,Y:-0.06"
   ]
  },
  {
   "cell_type": "code",
   "execution_count": 21,
   "id": "4a9238f3",
   "metadata": {},
   "outputs": [],
   "source": [
    "x_bot_50 = np.argsort(x_loading)[0:50]\n",
    "x_top_50 = np.argsort(x_loading)[-50::]\n",
    "\n",
    "y_bot_50 = np.argsort(y_loading)[0:50]\n",
    "y_top_50 = np.argsort(y_loading)[-50::]"
   ]
  },
  {
   "cell_type": "code",
   "execution_count": 22,
   "id": "ee3b897b",
   "metadata": {},
   "outputs": [
    {
     "data": {
      "text/plain": [
       "Text(0.5, 1.0, 'SL SPACE')"
      ]
     },
     "execution_count": 22,
     "metadata": {},
     "output_type": "execute_result"
    },
    {
     "data": {
      "image/png": "[encoded data removed]",
      "text/plain": [
       "<Figure size 360x360 with 1 Axes>"
      ]
     },
     "metadata": {
      "needs_background": "light"
     },
     "output_type": "display_data"
    }
   ],
   "source": [
    "plt.figure(figsize=(5,5))\n",
    "plt.scatter(embedding_sl[:,0],embedding_sl[:,1])\n",
    "#plt.scatter(embedding_sl[x_bot_50,0],embedding_sl[x_bot_50,1])\n",
    "plt.title('SL SPACE')"
   ]
  },
  {
   "cell_type": "code",
   "execution_count": 23,
   "id": "591a0f19",
   "metadata": {},
   "outputs": [],
   "source": [
    "_max = embedding_sl.max(axis=0)\n",
    "_min = embedding_sl.min(axis=0)\n",
    "_mid = embedding_sl.mean(axis=0)"
   ]
  },
  {
   "cell_type": "code",
   "execution_count": 24,
   "id": "b7ac9cb4",
   "metadata": {},
   "outputs": [
    {
     "name": "stdout",
     "output_type": "stream",
     "text": [
      "top | [ 5.367682 11.03598 ]\n",
      "botom | [5.367682 4.513889]\n",
      "left | [2.200299 7.897019]\n",
      "right | [8.840372 7.897019]\n"
     ]
    }
   ],
   "source": [
    "# CALC CORNERS\n",
    "top = (_mid[0],_max[1])\n",
    "bottom = (_mid[0],_min[1])\n",
    "left = (_min[0],_mid[1])\n",
    "right = (_max[0],_mid[1])\n",
    "\n",
    "top = np.array(top)\n",
    "bottom = np.array(bottom)\n",
    "left = np.array(left)\n",
    "right = np.array(right)\n",
    "\n",
    "\n",
    "print(f'top | {top}')\n",
    "print(f'botom | {bottom}')\n",
    "print(f'left | {left}')\n",
    "print(f'right | {right}')"
   ]
  },
  {
   "cell_type": "code",
   "execution_count": 25,
   "id": "c7226885",
   "metadata": {},
   "outputs": [],
   "source": [
    "idx_top50 = np.argsort(np.linalg.norm(embedding_sl-top,axis=1))[0:50]\n",
    "idx_bottom50 = np.argsort(np.linalg.norm(embedding_sl-bottom,axis=1))[0:50]\n",
    "\n",
    "idx_left50 = np.argsort(np.linalg.norm(embedding_sl-left,axis=1))[0:50]\n",
    "idx_right50 = np.argsort(np.linalg.norm(embedding_sl-right,axis=1))[0:50]"
   ]
  },
  {
   "cell_type": "code",
   "execution_count": 26,
   "id": "f42f5bad",
   "metadata": {},
   "outputs": [
    {
     "data": {
      "text/plain": [
       "Text(0.5, 1.0, 'SL SPACE')"
      ]
     },
     "execution_count": 26,
     "metadata": {},
     "output_type": "execute_result"
    },
    {
     "data": {
      "image/png": "[encoded data removed]",
      "text/plain": [
       "<Figure size 360x360 with 1 Axes>"
      ]
     },
     "metadata": {
      "needs_background": "light"
     },
     "output_type": "display_data"
    }
   ],
   "source": [
    "plt.figure(figsize=(5,5))\n",
    "plt.scatter(embedding_sl[:,0],embedding_sl[:,1])\n",
    "plt.scatter(embedding_sl[idx_top50,0],embedding_sl[idx_top50,1])\n",
    "plt.scatter(embedding_sl[idx_bottom50,0],embedding_sl[idx_bottom50,1])\n",
    "plt.scatter(embedding_sl[idx_left50,0],embedding_sl[idx_left50,1])\n",
    "plt.scatter(embedding_sl[idx_right50,0],embedding_sl[idx_right50,1])\n",
    "plt.legend(['none','top','bottom','left','right'])\n",
    "plt.title('SL SPACE')"
   ]
  },
  {
   "cell_type": "code",
   "execution_count": 27,
   "id": "f9cafb86",
   "metadata": {},
   "outputs": [],
   "source": [
    "def get_corner_brains(invec):\n",
    "    z = z_encoder.predict(data[patients,:,:,:][invec,:,:,:])[2]\n",
    "    s = s_encoder.predict(data[patients,:,:,:][invec,:,:,:])[2]\n",
    "    zeros = np.zeros(s.shape)\n",
    "\n",
    "    recon = cvae_decoder.predict(np.hstack((z,s)))[:,:,:,:,0]\n",
    "    twin = cvae_decoder.predict(np.hstack((z,zeros)))[:,:,:,:,0]\n",
    "\n",
    "    return recon,twin"
   ]
  },
  {
   "cell_type": "code",
   "execution_count": 28,
   "id": "00051738",
   "metadata": {},
   "outputs": [],
   "source": [
    "#interp_type = 1 # linear\n",
    "interp_type = 4 # bSpline\n",
    "im = ants.image_read('../Data/anat_temp.nii')\n",
    "im = im.resample_image(resample_params=(64,64,64), use_voxels=True, interp_type=interp_type)"
   ]
  },
  {
   "cell_type": "code",
   "execution_count": 29,
   "id": "1149bd82",
   "metadata": {},
   "outputs": [],
   "source": [
    "template = ants.image_read('../Data/Atlas_brain_2mm.nii')\n",
    "template = template.resample_image(resample_params=(64,64,64), use_voxels=True, interp_type=interp_type)\n",
    "template_o = template.copy()\n",
    "template = ants.iMath_normalize(template)"
   ]
  },
  {
   "cell_type": "code",
   "execution_count": 30,
   "id": "4a3beba5",
   "metadata": {},
   "outputs": [],
   "source": [
    "df_asd = df.iloc[patients]"
   ]
  },
  {
   "cell_type": "code",
   "execution_count": 31,
   "id": "f61fcc41",
   "metadata": {},
   "outputs": [],
   "source": [
    "#n = recon.shape[0]\n",
    "# invec = idx_top50\n",
    "# recon,twin = get_corner_brains(invec)\n",
    "# brains_recon = [im.new_image_like(recon[i,:,:,:]) for i in range(n)]\n",
    "# brains_twin = [im.new_image_like(twin[i,:,:,:]) for i in range(n)]"
   ]
  },
  {
   "cell_type": "code",
   "execution_count": 32,
   "id": "1f6426d8",
   "metadata": {},
   "outputs": [],
   "source": [
    "## NEW"
   ]
  },
  {
   "cell_type": "code",
   "execution_count": null,
   "id": "cf92c29e",
   "metadata": {},
   "outputs": [],
   "source": []
  },
  {
   "cell_type": "code",
   "execution_count": null,
   "id": "1d8add81",
   "metadata": {},
   "outputs": [],
   "source": []
  },
  {
   "cell_type": "code",
   "execution_count": 33,
   "id": "e6b5c1a1",
   "metadata": {},
   "outputs": [],
   "source": [
    "def get_Js(invec):\n",
    "    from tqdm import tqdm\n",
    "    tmp_dir = '/scratch/aglinska/ants_files/'\n",
    "    \n",
    "    interpolator = 'bSpline'\n",
    "    interp_type=4\n",
    "    \n",
    "    Js,normed_t1s,normed_recons,normed_twins,nativeJs = [],[],[],[],[]\n",
    "    recon,twin = get_corner_brains(invec)\n",
    "    \n",
    "    for i in tqdm(range(len(invec))):\n",
    "        sub = df['BIDS_ID'].values[patients][invec[i]]\n",
    "        \n",
    "        t1 = ants.image_read(f'../../data/fMRI_InData/abide_bids/{sub}/anat/{sub}_brain.nii')\n",
    "        t1 = t1.resample_image(resample_params=(64,64,64), use_voxels=True, interp_type=interp_type)\n",
    "        t1 = ants.iMath_normalize(t1)\n",
    "        \n",
    "        \n",
    "        recon_mat = recon[i,:,:,:]\n",
    "        twin_mat = twin[i,:,:,:]\n",
    "        \n",
    "        recon_brain = t1.new_image_like(recon_mat)\n",
    "        twin_brain = t1.new_image_like(twin_mat)\n",
    "        \n",
    "        twin_brain = ants.iMath_normalize(twin_brain)\n",
    "        recon_brain = ants.iMath_normalize(recon_brain)\n",
    "        \n",
    "        #twin_brain = ants.registration(fixed=t1,moving=twin_brain,type_of_transform='Rigid')['warpedmovout']\n",
    "        #recon_brain = ants.registration(fixed=t1,moving=recon_brain,type_of_transform='Rigid')['warpedmovout']\n",
    "        \n",
    "        #rtx2t = ants.registration(fixed=template,moving=twin_brain,type_of_transform='Rigid')['warpedmovout']\n",
    "        \n",
    "        \n",
    "        tx = ants.registration(fixed=twin_brain,moving=recon_brain,type_of_transform='SyN',outprefix=tmp_dir)\n",
    "        J = ants.create_jacobian_determinant_image(domain_image=twin_brain,tx=tx['fwdtransforms'][0])\n",
    "        J = J-1\n",
    "\n",
    "        norm = ants.registration(fixed=template,moving=t1,type_of_transform='SyN',outprefix=tmp_dir)\n",
    "        normed_t1 = ants.apply_transforms(fixed=template,moving=t1,transformlist=norm['fwdtransforms'],interpolator=interpolator)\n",
    "        \n",
    "        normed_recon = ants.apply_transforms(fixed=template,moving=recon_brain,transformlist=norm['fwdtransforms'],interpolator=interpolator)\n",
    "        normed_twin = ants.apply_transforms(fixed=template,moving=twin_brain,transformlist=norm['fwdtransforms'],interpolator=interpolator)\n",
    "        normed_J = ants.apply_transforms(fixed=template,moving=J,transformlist=norm['fwdtransforms'],interpolator=interpolator)\n",
    "        \n",
    "        normed_J[template_o<100]=0\n",
    "\n",
    "        Js.append(normed_J)\n",
    "        normed_t1s.append(normed_t1)\n",
    "        normed_recons.append(normed_recon)\n",
    "        normed_twins.append(normed_twin)\n",
    "        nativeJs.append(J)\n",
    "\n",
    "    res = dict()\n",
    "    res['Js'] = Js\n",
    "    res['native_Js'] = nativeJs\n",
    "    res['normed_t1s'] = normed_t1s\n",
    "    res['normed_recons'] = normed_recons\n",
    "    res['normed_twins'] = normed_twins\n",
    "    res['twin_brain'] = twin_brain \n",
    "    res['recon_brain'] = recon_brain\n",
    "    res['t1'] = t1\n",
    "#     res[''] = \n",
    "#     res[''] = \n",
    "#     res[''] = \n",
    "    \n",
    "    return res"
   ]
  },
  {
   "cell_type": "code",
   "execution_count": 34,
   "id": "89f530d9",
   "metadata": {},
   "outputs": [
    {
     "name": "stderr",
     "output_type": "stream",
     "text": [
      "100%|██████████| 50/50 [04:28<00:00,  5.37s/it]\n",
      "100%|██████████| 50/50 [04:25<00:00,  5.31s/it]\n",
      "100%|██████████| 50/50 [05:20<00:00,  6.41s/it]\n",
      "100%|██████████| 50/50 [04:22<00:00,  5.26s/it]"
     ]
    },
    {
     "name": "stdout",
     "output_type": "stream",
     "text": [
      "CPU times: user 1h 32min 1s, sys: 6min 9s, total: 1h 38min 10s\n",
      "Wall time: 19min 9s\n"
     ]
    },
    {
     "name": "stderr",
     "output_type": "stream",
     "text": [
      "\n"
     ]
    }
   ],
   "source": [
    "%%time\n",
    "res_top = get_Js(idx_top50)\n",
    "res_bottom = get_Js(idx_bottom50)\n",
    "res_left = get_Js(idx_left50)\n",
    "res_right = get_Js(idx_right50)"
   ]
  },
  {
   "cell_type": "code",
   "execution_count": 81,
   "id": "66757563",
   "metadata": {},
   "outputs": [
    {
     "data": {
      "text/plain": [
       "['Js',\n",
       " 'native_Js',\n",
       " 'normed_t1s',\n",
       " 'normed_recons',\n",
       " 'normed_twins',\n",
       " 'twin_brain',\n",
       " 'recon_brain',\n",
       " 't1']"
      ]
     },
     "execution_count": 81,
     "metadata": {},
     "output_type": "execute_result"
    }
   ],
   "source": [
    "corner = res_top\n",
    "corner_lbl = 'T'\n",
    "keys = list(corner.keys())\n",
    "keys"
   ]
  },
  {
   "cell_type": "code",
   "execution_count": 59,
   "id": "f83e48b0",
   "metadata": {},
   "outputs": [],
   "source": [
    "home = os.getenv(\"HOME\")"
   ]
  },
  {
   "cell_type": "code",
   "execution_count": 61,
   "id": "6db42598",
   "metadata": {},
   "outputs": [
    {
     "data": {
      "text/plain": [
       "'/data/aglinska/jacobians'"
      ]
     },
     "execution_count": 61,
     "metadata": {},
     "output_type": "execute_result"
    }
   ],
   "source": [
    "ofdir = os.path.join(home,'jacobians')\n",
    "ofdir"
   ]
  },
  {
   "cell_type": "code",
   "execution_count": 63,
   "id": "77bec44a",
   "metadata": {},
   "outputs": [
    {
     "data": {
      "text/plain": [
       "'Js'"
      ]
     },
     "execution_count": 63,
     "metadata": {},
     "output_type": "execute_result"
    }
   ],
   "source": [
    "if not os.path.exists(ofdir):\n",
    "    os.mkdir(ofdir)\n",
    "    \n",
    "key = keys[0]\n",
    "_ = os.mkdir(os.path.join(ofdir,key)) if os.path.exists(os.path.join(ofdir,key))==False else 0 # One liner if statement\n"
   ]
  },
  {
   "cell_type": "code",
   "execution_count": 98,
   "id": "5926516a",
   "metadata": {},
   "outputs": [],
   "source": [
    "for i in range(len(corner[key])):\n",
    "    corner[key][i].to_filename(os.path.join(ofdir,key,f'{corner_lbl}{i:04d}.nii'))"
   ]
  },
  {
   "cell_type": "code",
   "execution_count": 96,
   "id": "5f1d60c5",
   "metadata": {},
   "outputs": [],
   "source": []
  },
  {
   "cell_type": "code",
   "execution_count": null,
   "id": "32ffb10c",
   "metadata": {},
   "outputs": [],
   "source": [
    "# Save and Load data"
   ]
  },
  {
   "cell_type": "code",
   "execution_count": null,
   "id": "29b65fc3",
   "metadata": {},
   "outputs": [],
   "source": []
  },
  {
   "cell_type": "code",
   "execution_count": null,
   "id": "715ed83b",
   "metadata": {},
   "outputs": [],
   "source": []
  },
  {
   "cell_type": "code",
   "execution_count": null,
   "id": "c7d73417",
   "metadata": {},
   "outputs": [],
   "source": []
  },
  {
   "cell_type": "code",
   "execution_count": 35,
   "id": "c607c399",
   "metadata": {},
   "outputs": [
    {
     "data": {
      "text/plain": [
       "['Js',\n",
       " 'native_Js',\n",
       " 'normed_t1s',\n",
       " 'normed_recons',\n",
       " 'normed_twins',\n",
       " 'twin_brain',\n",
       " 'recon_brain',\n",
       " 't1']"
      ]
     },
     "execution_count": 35,
     "metadata": {},
     "output_type": "execute_result"
    }
   ],
   "source": [
    "list(res_top.keys())"
   ]
  },
  {
   "cell_type": "code",
   "execution_count": 36,
   "id": "81b75e04",
   "metadata": {},
   "outputs": [],
   "source": [
    "# for i in range(50):\n",
    "#     res_top['Js'][i][template<100]=0\n",
    "#     res_bottom['Js'][i][template<100]=0\n",
    "#     res_left['Js'][i][template<100]=0\n",
    "#     res_right['Js'][i][template<100]=0"
   ]
  },
  {
   "cell_type": "code",
   "execution_count": 37,
   "id": "89b7abdd",
   "metadata": {},
   "outputs": [
    {
     "data": {
      "image/png": "[encoded data removed]",
      "text/plain": [
       "<Figure size 720x720 with 4 Axes>"
      ]
     },
     "metadata": {
      "needs_background": "light"
     },
     "output_type": "display_data"
    }
   ],
   "source": [
    "fig, axs = plt.subplots(2,2,figsize=(10,10))\n",
    "\n",
    "plt.subplot(2,2,1);\n",
    "[plt.hist(res_top['Js'][i].numpy()[template.numpy()>0],alpha=.5) for i in range(50)];\n",
    "\n",
    "plt.subplot(2,2,2);\n",
    "[plt.hist(res_bottom['Js'][i].numpy()[template.numpy()>0],alpha=.5) for i in range(50)];\n",
    "\n",
    "plt.subplot(2,2,3);\n",
    "[plt.hist(res_left['Js'][i].numpy()[template.numpy()>0],alpha=.5) for i in range(50)];\n",
    "\n",
    "plt.subplot(2,2,4);\n",
    "[plt.hist(res_right['Js'][i].numpy()[template.numpy()>0],alpha=.5) for i in range(50)];"
   ]
  },
  {
   "cell_type": "code",
   "execution_count": 38,
   "id": "2ba47838",
   "metadata": {},
   "outputs": [],
   "source": [
    "# dump results\n",
    "[res_top['Js'][i].to_filename(f'~/corner_Js/top_{i:02d}.nii') for i in range(50)];\n",
    "[res_bottom['Js'][i].to_filename(f'~/corner_Js/bottom_{i:02d}.nii') for i in range(50)];\n",
    "[res_left['Js'][i].to_filename(f'~/corner_Js/left_{i:02d}.nii') for i in range(50)];\n",
    "[res_right['Js'][i].to_filename(f'~/corner_Js/right_{i:02d}.nii') for i in range(50)];"
   ]
  },
  {
   "cell_type": "code",
   "execution_count": 39,
   "id": "653adc27",
   "metadata": {},
   "outputs": [
    {
     "name": "stdout",
     "output_type": "stream",
     "text": [
      "\n",
      "zip error: Nothing to do! (try: zip -r -q /data/aglinska/corner_Js.zip . -i /data/aglinska/corner_Js)\n"
     ]
    }
   ],
   "source": [
    "!zip -r -q ~/corner_Js.zip ~/corner_Js"
   ]
  },
  {
   "cell_type": "code",
   "execution_count": 40,
   "id": "34ba76e3",
   "metadata": {},
   "outputs": [],
   "source": [
    "# [res_top['Js'][i].to_filename(f'~/corner_ims/normed_t1s{i:02d}.nii') for i in range(50)];\n",
    "# [res_bottom['Js'][i].to_filename(f'~/corner_ims/normed_t1s{i:02d}.nii') for i in range(50)];\n",
    "# [res_left['Js'][i].to_filename(f'~/corner_ims/normed_t1s{i:02d}.nii') for i in range(50)];\n",
    "# [res_right['Js'][i].to_filename(f'~/corner_ims/normed_t1s{i:02d}.nii') for i in range(50)];\n",
    "\n",
    "# [res_top['Js'][i].to_filename(f'~/corner_ims/normed_recons{i:02d}.nii') for i in range(50)];\n",
    "# [res_bottom['Js'][i].to_filename(f'~/corner_ims/normed_recons{i:02d}.nii') for i in range(50)];\n",
    "# [res_left['Js'][i].to_filename(f'~/corner_ims/normed_recons{i:02d}.nii') for i in range(50)];\n",
    "# [res_right['Js'][i].to_filename(f'~/corner_ims/normed_recons{i:02d}.nii') for i in range(50)];\n",
    "\n",
    "# [res_top['Js'][i].to_filename(f'~/corner_ims/normed_twins{i:02d}.nii') for i in range(50)];\n",
    "# [res_bottom['Js'][i].to_filename(f'~/corner_ims/normed_twins{i:02d}.nii') for i in range(50)];\n",
    "# [res_left['Js'][i].to_filename(f'~/corner_ims/normed_twins{i:02d}.nii') for i in range(50)];\n",
    "# [res_right['Js'][i].to_filename(f'~/corner_ims/normed_twins{i:02d}.nii') for i in range(50)];"
   ]
  },
  {
   "cell_type": "code",
   "execution_count": 41,
   "id": "0e50890a",
   "metadata": {},
   "outputs": [],
   "source": [
    "# !zip -r -q ~/corner_ims.zip ~/corner_ims"
   ]
  },
  {
   "cell_type": "code",
   "execution_count": 42,
   "id": "545a6a68",
   "metadata": {},
   "outputs": [
    {
     "name": "stdout",
     "output_type": "stream",
     "text": [
      "[Errno 2] No such file or directory: '/data/aglinska/corner_Js/'\n",
      "/mmfs1/data/aglinska/BC-MRI-AE/Colab Notebooks\n"
     ]
    }
   ],
   "source": [
    "cd ~/corner_Js/"
   ]
  },
  {
   "cell_type": "code",
   "execution_count": 43,
   "id": "26c18e43",
   "metadata": {},
   "outputs": [],
   "source": [
    "def glm_2nd_lvl_t(second_level_input,con_name='tCon',threshold=2.5):\n",
    "    \n",
    "    nsubs = int(len(second_level_input)/2)\n",
    "    condition_effect = np.hstack((np.repeat(1,nsubs),np.repeat(-1,nsubs)))\n",
    "\n",
    "    # subject_effect = np.eye(n_subjects)\n",
    "    # subjects = [f'S{i:02d}' for i in range(1, n_subjects + 1)]\n",
    "\n",
    "    unpaired_design_matrix = pd.DataFrame(\n",
    "        condition_effect[:, np.newaxis],\n",
    "        columns=[con_name])\n",
    "\n",
    "    from nilearn.glm.second_level import SecondLevelModel\n",
    "    from nilearn import plotting\n",
    "\n",
    "    second_level_model_unpaired = SecondLevelModel().fit(\n",
    "        second_level_input, design_matrix=unpaired_design_matrix)\n",
    "\n",
    "    # second_level_model_paired = SecondLevelModel().fit(\n",
    "    #     second_level_input, design_matrix=paired_design_matrix)\n",
    "\n",
    "    stat_maps_unpaired = second_level_model_unpaired.compute_contrast(con_name,output_type='all')\n",
    "    \n",
    "    return stat_maps_unpaired\n",
    "\n",
    "\n",
    "def plot_2nd_level(stat_maps_unpaired,threshold=3.1,con_name='tCon'):\n",
    "    #threshold = 2.5  # corresponds to  p < .001, uncorrected\n",
    "    display = plotting.plot_glass_brain(\n",
    "    stat_maps_unpaired['z_score'], threshold=threshold, colorbar=True, plot_abs=False,\n",
    "    title=f'{con_name} t>{threshold}', vmin=0, vmax=6)"
   ]
  },
  {
   "cell_type": "code",
   "execution_count": 44,
   "id": "98972331",
   "metadata": {},
   "outputs": [
    {
     "name": "stderr",
     "output_type": "stream",
     "text": [
      "/data/aglinska/.local/lib/python3.8/site-packages/nilearn/glm/__init__.py:55: FutureWarning:\n",
      "\n",
      "The nilearn.glm module is experimental. It may change in any future release of Nilearn.\n",
      "\n"
     ]
    },
    {
     "ename": "ValueError",
     "evalue": "A second level model requires a list with at least two first level models or niimgs",
     "output_type": "error",
     "traceback": [
      "\u001b[0;31m---------------------------------------------------------------------------\u001b[0m",
      "\u001b[0;31mValueError\u001b[0m                                Traceback (most recent call last)",
      "\u001b[0;32m<timed exec>\u001b[0m in \u001b[0;36m<module>\u001b[0;34m\u001b[0m\n",
      "\u001b[0;32m<ipython-input-43-c73d4d3a86f2>\u001b[0m in \u001b[0;36mglm_2nd_lvl_t\u001b[0;34m(second_level_input, con_name, threshold)\u001b[0m\n\u001b[1;32m     14\u001b[0m     \u001b[0;32mfrom\u001b[0m \u001b[0mnilearn\u001b[0m \u001b[0;32mimport\u001b[0m \u001b[0mplotting\u001b[0m\u001b[0;34m\u001b[0m\u001b[0;34m\u001b[0m\u001b[0m\n\u001b[1;32m     15\u001b[0m \u001b[0;34m\u001b[0m\u001b[0m\n\u001b[0;32m---> 16\u001b[0;31m     second_level_model_unpaired = SecondLevelModel().fit(\n\u001b[0m\u001b[1;32m     17\u001b[0m         second_level_input, design_matrix=unpaired_design_matrix)\n\u001b[1;32m     18\u001b[0m \u001b[0;34m\u001b[0m\u001b[0m\n",
      "\u001b[0;32m~/.local/lib/python3.8/site-packages/nilearn/glm/second_level/second_level.py\u001b[0m in \u001b[0;36mfit\u001b[0;34m(self, second_level_input, confounds, design_matrix)\u001b[0m\n\u001b[1;32m    352\u001b[0m \u001b[0;34m\u001b[0m\u001b[0m\n\u001b[1;32m    353\u001b[0m         \u001b[0;31m# check second_level_input\u001b[0m\u001b[0;34m\u001b[0m\u001b[0;34m\u001b[0m\u001b[0;34m\u001b[0m\u001b[0m\n\u001b[0;32m--> 354\u001b[0;31m         _check_second_level_input(second_level_input, design_matrix,\n\u001b[0m\u001b[1;32m    355\u001b[0m                                   confounds=confounds)\n\u001b[1;32m    356\u001b[0m \u001b[0;34m\u001b[0m\u001b[0m\n",
      "\u001b[0;32m~/.local/lib/python3.8/site-packages/nilearn/glm/second_level/second_level.py\u001b[0m in \u001b[0;36m_check_second_level_input\u001b[0;34m(second_level_input, design_matrix, confounds, flm_object, df_object)\u001b[0m\n\u001b[1;32m     39\u001b[0m     \u001b[0;32mif\u001b[0m \u001b[0misinstance\u001b[0m\u001b[0;34m(\u001b[0m\u001b[0msecond_level_input\u001b[0m\u001b[0;34m,\u001b[0m \u001b[0mlist\u001b[0m\u001b[0;34m)\u001b[0m\u001b[0;34m:\u001b[0m\u001b[0;34m\u001b[0m\u001b[0;34m\u001b[0m\u001b[0m\n\u001b[1;32m     40\u001b[0m         \u001b[0;32mif\u001b[0m \u001b[0mlen\u001b[0m\u001b[0;34m(\u001b[0m\u001b[0msecond_level_input\u001b[0m\u001b[0;34m)\u001b[0m \u001b[0;34m<\u001b[0m \u001b[0;36m2\u001b[0m\u001b[0;34m:\u001b[0m\u001b[0;34m\u001b[0m\u001b[0;34m\u001b[0m\u001b[0m\n\u001b[0;32m---> 41\u001b[0;31m             raise ValueError('A second level model requires a list with at'\n\u001b[0m\u001b[1;32m     42\u001b[0m                              ' least two first level models or niimgs')\n\u001b[1;32m     43\u001b[0m         \u001b[0;31m# Check FirstLevelModel objects case\u001b[0m\u001b[0;34m\u001b[0m\u001b[0;34m\u001b[0m\u001b[0;34m\u001b[0m\u001b[0m\n",
      "\u001b[0;31mValueError\u001b[0m: A second level model requires a list with at least two first level models or niimgs"
     ]
    }
   ],
   "source": [
    "%%time\n",
    "group1 = [file for file in os.listdir() if 'left' in file];group1.sort()\n",
    "group2 = [file for file in os.listdir() if 'right' in file];group2.sort()\n",
    "second_level_input = group1+group2\n",
    "res_LR = glm_2nd_lvl_t(second_level_input)\n",
    "\n",
    "group1 = [file for file in os.listdir() if 'top' in file];group1.sort()\n",
    "group2 = [file for file in os.listdir() if 'bottom' in file];group2.sort()\n",
    "second_level_input = group1+group2\n",
    "res_TB = glm_2nd_lvl_t(second_level_input)\n",
    "\n",
    "n_subjects = len(second_level_input)\n",
    "print(n_subjects)"
   ]
  },
  {
   "cell_type": "code",
   "execution_count": 45,
   "id": "7155537b",
   "metadata": {},
   "outputs": [
    {
     "ename": "NameError",
     "evalue": "name 'res_TB' is not defined",
     "output_type": "error",
     "traceback": [
      "\u001b[0;31m---------------------------------------------------------------------------\u001b[0m",
      "\u001b[0;31mNameError\u001b[0m                                 Traceback (most recent call last)",
      "\u001b[0;32m<ipython-input-45-eae89eed3499>\u001b[0m in \u001b[0;36m<module>\u001b[0;34m\u001b[0m\n\u001b[1;32m      1\u001b[0m \u001b[0;32mfrom\u001b[0m \u001b[0mnilearn\u001b[0m \u001b[0;32mimport\u001b[0m \u001b[0mplotting\u001b[0m\u001b[0;34m\u001b[0m\u001b[0;34m\u001b[0m\u001b[0m\n\u001b[1;32m      2\u001b[0m \u001b[0mbg_img\u001b[0m\u001b[0;34m=\u001b[0m\u001b[0mtemplate\u001b[0m\u001b[0;34m.\u001b[0m\u001b[0mto_nibabel\u001b[0m\u001b[0;34m(\u001b[0m\u001b[0;34m)\u001b[0m\u001b[0;34m\u001b[0m\u001b[0;34m\u001b[0m\u001b[0m\n\u001b[0;32m----> 3\u001b[0;31m \u001b[0mstat_map_img\u001b[0m \u001b[0;34m=\u001b[0m \u001b[0mres_TB\u001b[0m\u001b[0;34m[\u001b[0m\u001b[0;34m'z_score'\u001b[0m\u001b[0;34m]\u001b[0m\u001b[0;34m\u001b[0m\u001b[0;34m\u001b[0m\u001b[0m\n\u001b[0m\u001b[1;32m      4\u001b[0m \u001b[0mthreshold\u001b[0m \u001b[0;34m=\u001b[0m \u001b[0;36m3.1\u001b[0m\u001b[0;34m\u001b[0m\u001b[0;34m\u001b[0m\u001b[0m\n\u001b[1;32m      5\u001b[0m \u001b[0mtitle\u001b[0m \u001b[0;34m=\u001b[0m \u001b[0;34m'Top vs Bottom'\u001b[0m\u001b[0;34m\u001b[0m\u001b[0;34m\u001b[0m\u001b[0m\n",
      "\u001b[0;31mNameError\u001b[0m: name 'res_TB' is not defined"
     ]
    }
   ],
   "source": [
    "from nilearn import plotting\n",
    "bg_img=template.to_nibabel()\n",
    "stat_map_img = res_TB['z_score']\n",
    "threshold = 3.1\n",
    "title = 'Top vs Bottom'\n",
    "plotting.plot_stat_map(stat_map_img=stat_map_img,bg_img=bg_img,threshold=threshold,title=title,cut_coords=(0,0,0))"
   ]
  },
  {
   "cell_type": "code",
   "execution_count": null,
   "id": "1feb8429",
   "metadata": {},
   "outputs": [],
   "source": [
    "bg_img=template.to_nibabel()\n",
    "stat_map_img = res_LR['z_score']\n",
    "threshold = 3.1\n",
    "title = 'Left vs Right'\n",
    "plotting.plot_stat_map(stat_map_img=stat_map_img,\n",
    "                       bg_img=bg_img,\n",
    "                       threshold=threshold,\n",
    "                       title=title,cut_coords=(0,0,0))"
   ]
  },
  {
   "cell_type": "code",
   "execution_count": null,
   "id": "a824d167",
   "metadata": {},
   "outputs": [],
   "source": [
    "bg_img.to_filename('../bg_img.nii')"
   ]
  },
  {
   "cell_type": "code",
   "execution_count": null,
   "id": "3a4bf6bb",
   "metadata": {},
   "outputs": [],
   "source": [
    "res_LR['z_score'].to_filename('../LR_zmap.nii')\n",
    "res_TB['z_score'].to_filename('../TB_zmap.nii')"
   ]
  },
  {
   "cell_type": "code",
   "execution_count": null,
   "id": "0873d2c8",
   "metadata": {},
   "outputs": [],
   "source": [
    "# res_LR['z_score'].to_filename('res_LR.nii')\n",
    "# res_TB['z_score'].to_filename('res_TB.nii')\n",
    "# template.to_filename('template.nii')"
   ]
  },
  {
   "cell_type": "code",
   "execution_count": null,
   "id": "cdea288c",
   "metadata": {},
   "outputs": [],
   "source": []
  },
  {
   "cell_type": "code",
   "execution_count": null,
   "id": "4a87eb37",
   "metadata": {},
   "outputs": [],
   "source": []
  },
  {
   "cell_type": "code",
   "execution_count": null,
   "id": "dd528e84",
   "metadata": {},
   "outputs": [],
   "source": []
  },
  {
   "cell_type": "code",
   "execution_count": null,
   "id": "0d17a759",
   "metadata": {},
   "outputs": [],
   "source": []
  },
  {
   "cell_type": "code",
   "execution_count": null,
   "id": "f9fdbb34",
   "metadata": {},
   "outputs": [],
   "source": []
  },
  {
   "cell_type": "code",
   "execution_count": null,
   "id": "8d4fc496",
   "metadata": {},
   "outputs": [],
   "source": []
  },
  {
   "cell_type": "code",
   "execution_count": null,
   "id": "7cf6bccb",
   "metadata": {},
   "outputs": [],
   "source": []
  },
  {
   "cell_type": "code",
   "execution_count": null,
   "id": "5c6646fd",
   "metadata": {},
   "outputs": [],
   "source": []
  },
  {
   "cell_type": "code",
   "execution_count": null,
   "id": "baa4019f",
   "metadata": {},
   "outputs": [],
   "source": []
  },
  {
   "cell_type": "code",
   "execution_count": null,
   "id": "11dba6c2",
   "metadata": {},
   "outputs": [],
   "source": []
  },
  {
   "cell_type": "code",
   "execution_count": null,
   "id": "a675e7a0",
   "metadata": {},
   "outputs": [],
   "source": []
  },
  {
   "cell_type": "code",
   "execution_count": null,
   "id": "48512cf0",
   "metadata": {},
   "outputs": [],
   "source": []
  },
  {
   "cell_type": "code",
   "execution_count": null,
   "id": "d8483227",
   "metadata": {},
   "outputs": [],
   "source": []
  },
  {
   "cell_type": "code",
   "execution_count": null,
   "id": "ebcb0295",
   "metadata": {},
   "outputs": [],
   "source": [
    "print(now())\n",
    "print(now()-t0)"
   ]
  },
  {
   "cell_type": "code",
   "execution_count": null,
   "id": "25b57c47",
   "metadata": {},
   "outputs": [],
   "source": []
  },
  {
   "cell_type": "code",
   "execution_count": null,
   "id": "06cdb774",
   "metadata": {},
   "outputs": [],
   "source": []
  }
 ],
 "metadata": {
  "kernelspec": {
   "display_name": "Python 3",
   "language": "python",
   "name": "python3"
  },
  "language_info": {
   "codemirror_mode": {
    "name": "ipython",
    "version": 3
   },
   "file_extension": ".py",
   "mimetype": "text/x-python",
   "name": "python",
   "nbconvert_exporter": "python",
   "pygments_lexer": "ipython3",
   "version": "3.8.5"
  }
 },
 "nbformat": 4,
 "nbformat_minor": 5
}

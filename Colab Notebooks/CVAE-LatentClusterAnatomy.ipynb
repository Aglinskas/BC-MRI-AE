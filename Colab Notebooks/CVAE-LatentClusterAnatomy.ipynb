{
 "cells": [
  {
   "cell_type": "code",
   "execution_count": 1,
   "metadata": {},
   "outputs": [
    {
     "name": "stdout",
     "output_type": "stream",
     "text": [
      "/mmfs1/data/aglinska/BC-MRI-AE/Colab Notebooks\n"
     ]
    }
   ],
   "source": [
    "cd '/mmfs1/data/aglinska/BC-MRI-AE/Colab Notebooks/'"
   ]
  },
  {
   "cell_type": "code",
   "execution_count": 2,
   "metadata": {},
   "outputs": [],
   "source": [
    "import pickle\n",
    "\n",
    "import numpy as np\n",
    "import pandas as pd \n",
    "\n",
    "from importlib import reload\n",
    "\n",
    "import helper_funcs;reload(helper_funcs);from helper_funcs import *\n",
    "import make_models;reload(make_models);from make_models import *\n",
    "\n",
    "from functools import partial\n",
    "from sklearn.decomposition import PCA\n",
    "\n",
    "from matplotlib import pyplot as plt\n",
    "\n",
    "from datetime import datetime"
   ]
  },
  {
   "cell_type": "code",
   "execution_count": 3,
   "metadata": {},
   "outputs": [],
   "source": [
    "import shutil\n",
    "from functools import partial\n",
    "from tqdm import tqdm\n",
    "tqdm = partial(tqdm, position=0, leave=True)"
   ]
  },
  {
   "cell_type": "markdown",
   "metadata": {},
   "source": [
    "### LOAD DATA"
   ]
  },
  {
   "cell_type": "code",
   "execution_count": 4,
   "metadata": {},
   "outputs": [],
   "source": [
    "def norm_array(mat):\n",
    "    mat[mat<0] = 0\n",
    "    return (mat-mat.flatten().min()) / (mat.flatten().max()-mat.flatten().min())"
   ]
  },
  {
   "cell_type": "code",
   "execution_count": null,
   "metadata": {},
   "outputs": [],
   "source": []
  },
  {
   "cell_type": "code",
   "execution_count": 5,
   "metadata": {},
   "outputs": [],
   "source": [
    "# ABIDE_data = np.load('/mmfs1/data/aglinska/ABIDE_data_rb.npz')['data']#.astype(np.float32)\n",
    "# print(ABIDE_data.shape)\n",
    "# ABIDE_data = np.array([norm_array(ABIDE_data[s,:,:,:]) for s in tqdm(range(ABIDE_data.shape[0]))])\n",
    "\n",
    "# cc = np.corrcoef(ABIDE_data.reshape(ABIDE_data.shape[0],-1)).mean(axis=0)\n",
    "# bad_idx = cc<.8\n",
    "\n",
    "# df = pd.read_csv('/mmfs1/data/aglinska/BC-MRI-AE/Data/ABIDE_legend_S982.csv',header=0)\n",
    "# df.reset_index(inplace=True)\n",
    "# df = df.drop(df[bad_idx].index)\n",
    "\n",
    "# ABIDE_data = ABIDE_data[~bad_idx,:,:,:]\n",
    "# ABIDE_subs = df['BIDS_ID'].values\n",
    "\n",
    "# df.head(5)\n",
    "# print(ABIDE_data.shape)\n",
    "# print(df.shape)"
   ]
  },
  {
   "cell_type": "code",
   "execution_count": 6,
   "metadata": {},
   "outputs": [],
   "source": [
    "dataFnOut = '/mmfs1/data/aglinska/BC-MRI-AE/Data/ABIDE-Anat-64iso-S982.npz'\n",
    "dfFnOut = '/mmfs1/data/aglinska/BC-MRI-AE/Data/ABIDE_legend_S982.csv'\n",
    "\n",
    "ABIDE_data = np.load(dataFnOut)['data']\n",
    "df = pd.read_csv(dfFnOut)\n",
    "\n",
    "patients = df['DxGroup'].values==1\n",
    "controls = df['DxGroup'].values==2\n",
    "abide_asd = ABIDE_data[patients,:,:,:]\n",
    "\n",
    "arr = np.load('../Data/SFARI-Anat-64iso-S121.npz')\n",
    "dfs = pd.read_csv('../Data/sfari_legend_S121.csv')\n",
    "\n",
    "SFARI_data = arr['data']\n",
    "SFARI_subs = arr['subs']\n",
    "\n",
    "sfari_subs_td = dfs['family_type'].values=='non-familial-control'\n",
    "sfari_subs_dupl = dfs['family_type'].values=='16p-duplication'\n",
    "sfari_subs_del = dfs['family_type'].values=='16p-deletion'"
   ]
  },
  {
   "cell_type": "code",
   "execution_count": 7,
   "metadata": {},
   "outputs": [],
   "source": [
    "# dataFnOut = '/mmfs1/data/aglinska/BC-MRI-AE/Data/ABIDE-Anat-64iso-S982.npz'\n",
    "# dfFnOut = '/mmfs1/data/aglinska/BC-MRI-AE/Data/ABIDE_legend_S982.csv'\n",
    "\n",
    "\n",
    "# ABIDE_data = np.load(dataFnOut)['data']\n",
    "# ABIDE_data = np.load('/mmfs1/data/aglinska/ABIDErData.npy')\n",
    "# df = pd.read_csv(dfFnOut)"
   ]
  },
  {
   "cell_type": "code",
   "execution_count": 8,
   "metadata": {},
   "outputs": [],
   "source": [
    "patients = df['DxGroup'].values==1\n",
    "controls = df['DxGroup'].values==2"
   ]
  },
  {
   "cell_type": "code",
   "execution_count": null,
   "metadata": {},
   "outputs": [],
   "source": []
  },
  {
   "cell_type": "code",
   "execution_count": 9,
   "metadata": {},
   "outputs": [],
   "source": [
    "# arr = np.load('../Data/SFARI-Anat-64iso-S121.npz')\n",
    "# dfs = pd.read_csv('../Data/sfari_legend_S121.csv')\n",
    "\n",
    "# SFARI_data = arr['data']\n",
    "# SFARI_data = np.load('../Data/SFARIDatar.npz')['data']\n",
    "# SFARI_subs = arr['subs']\n",
    "\n",
    "# sfari_subs_td = dfs['family_type'].values=='non-familial-control'\n",
    "# sfari_subs_dupl = dfs['family_type'].values=='16p-duplication'\n",
    "# sfari_subs_del = dfs['family_type'].values=='16p-deletion'"
   ]
  },
  {
   "cell_type": "markdown",
   "metadata": {},
   "source": [
    "### LOAD NETWORK WEIGHTS"
   ]
  },
  {
   "cell_type": "code",
   "execution_count": 10,
   "metadata": {},
   "outputs": [
    {
     "ename": "ResourceExhaustedError",
     "evalue": "OOM when allocating tensor with shape[262144,128] and type float on /job:localhost/replica:0/task:0/device:GPU:0 by allocator GPU_0_bfc [Op:RandomUniform]",
     "output_type": "error",
     "traceback": [
      "\u001b[0;31m---------------------------------------------------------------------------\u001b[0m",
      "\u001b[0;31mResourceExhaustedError\u001b[0m                    Traceback (most recent call last)",
      "\u001b[0;32m<ipython-input-10-5d6bdd078a3c>\u001b[0m in \u001b[0;36m<module>\u001b[0;34m\u001b[0m\n\u001b[1;32m      1\u001b[0m \u001b[0;31m# LOAD VAE\u001b[0m\u001b[0;34m\u001b[0m\u001b[0;34m\u001b[0m\u001b[0;34m\u001b[0m\u001b[0m\n\u001b[1;32m      2\u001b[0m \u001b[0mlatent_dim\u001b[0m\u001b[0;34m=\u001b[0m\u001b[0;36m32\u001b[0m\u001b[0;34m;\u001b[0m\u001b[0mbatch_size\u001b[0m\u001b[0;34m=\u001b[0m\u001b[0;36m64\u001b[0m\u001b[0;34m;\u001b[0m\u001b[0mdisentangle\u001b[0m\u001b[0;34m=\u001b[0m\u001b[0;32mFalse\u001b[0m\u001b[0;34m;\u001b[0m\u001b[0mgamma\u001b[0m\u001b[0;34m=\u001b[0m\u001b[0;36m1\u001b[0m\u001b[0;34m\u001b[0m\u001b[0;34m\u001b[0m\u001b[0m\n\u001b[0;32m----> 3\u001b[0;31m \u001b[0mencoder\u001b[0m\u001b[0;34m,\u001b[0m \u001b[0mdecoder\u001b[0m\u001b[0;34m,\u001b[0m \u001b[0mvae\u001b[0m \u001b[0;34m=\u001b[0m \u001b[0mget_MRI_VAE_3D\u001b[0m\u001b[0;34m(\u001b[0m\u001b[0minput_shape\u001b[0m\u001b[0;34m=\u001b[0m\u001b[0;34m(\u001b[0m\u001b[0;36m64\u001b[0m\u001b[0;34m,\u001b[0m \u001b[0;36m64\u001b[0m\u001b[0;34m,\u001b[0m \u001b[0;36m64\u001b[0m\u001b[0;34m,\u001b[0m \u001b[0;36m1\u001b[0m\u001b[0;34m)\u001b[0m\u001b[0;34m,\u001b[0m \u001b[0mlatent_dim\u001b[0m\u001b[0;34m=\u001b[0m\u001b[0mlatent_dim\u001b[0m\u001b[0;34m,\u001b[0m \u001b[0mbatch_size\u001b[0m\u001b[0;34m=\u001b[0m\u001b[0mbatch_size\u001b[0m\u001b[0;34m,\u001b[0m \u001b[0mdisentangle\u001b[0m\u001b[0;34m=\u001b[0m\u001b[0mdisentangle\u001b[0m\u001b[0;34m,\u001b[0m \u001b[0mgamma\u001b[0m\u001b[0;34m=\u001b[0m\u001b[0mgamma\u001b[0m\u001b[0;34m)\u001b[0m\u001b[0;34m\u001b[0m\u001b[0;34m\u001b[0m\u001b[0m\n\u001b[0m\u001b[1;32m      4\u001b[0m \u001b[0;31m#fn = '/mmfs1/data/aglinska/tf_outputs/VAE/Jan12th_16d'\u001b[0m\u001b[0;34m\u001b[0m\u001b[0;34m\u001b[0m\u001b[0;34m\u001b[0m\u001b[0m\n\u001b[1;32m      5\u001b[0m \u001b[0;31m#fn = '/mmfs1/data/aglinska/tf_outputs/VAE/Feb_26_32DB64G1'\u001b[0m\u001b[0;34m\u001b[0m\u001b[0;34m\u001b[0m\u001b[0;34m\u001b[0m\u001b[0m\n",
      "\u001b[0;32m/mmfs1/data/aglinska/BC-MRI-AE/Colab Notebooks/make_models.py\u001b[0m in \u001b[0;36mget_MRI_VAE_3D\u001b[0;34m(input_shape, latent_dim, batch_size, disentangle, gamma)\u001b[0m\n\u001b[1;32m     57\u001b[0m     \u001b[0;31m# generate latent vector Q(z|X)\u001b[0m\u001b[0;34m\u001b[0m\u001b[0;34m\u001b[0m\u001b[0;34m\u001b[0m\u001b[0m\n\u001b[1;32m     58\u001b[0m     \u001b[0mx\u001b[0m \u001b[0;34m=\u001b[0m \u001b[0mFlatten\u001b[0m\u001b[0;34m(\u001b[0m\u001b[0;34m)\u001b[0m\u001b[0;34m(\u001b[0m\u001b[0mx\u001b[0m\u001b[0;34m)\u001b[0m\u001b[0;34m\u001b[0m\u001b[0;34m\u001b[0m\u001b[0m\n\u001b[0;32m---> 59\u001b[0;31m     \u001b[0mx\u001b[0m \u001b[0;34m=\u001b[0m \u001b[0mDense\u001b[0m\u001b[0;34m(\u001b[0m\u001b[0mintermediate_dim\u001b[0m\u001b[0;34m,\u001b[0m \u001b[0mactivation\u001b[0m\u001b[0;34m=\u001b[0m\u001b[0;34m'relu'\u001b[0m\u001b[0;34m)\u001b[0m\u001b[0;34m(\u001b[0m\u001b[0mx\u001b[0m\u001b[0;34m)\u001b[0m\u001b[0;34m\u001b[0m\u001b[0;34m\u001b[0m\u001b[0m\n\u001b[0m\u001b[1;32m     60\u001b[0m     \u001b[0mz_mean\u001b[0m \u001b[0;34m=\u001b[0m \u001b[0mDense\u001b[0m\u001b[0;34m(\u001b[0m\u001b[0mlatent_dim\u001b[0m\u001b[0;34m,\u001b[0m \u001b[0mname\u001b[0m\u001b[0;34m=\u001b[0m\u001b[0;34m'z_mean'\u001b[0m\u001b[0;34m)\u001b[0m\u001b[0;34m(\u001b[0m\u001b[0mx\u001b[0m\u001b[0;34m)\u001b[0m\u001b[0;34m\u001b[0m\u001b[0;34m\u001b[0m\u001b[0m\n\u001b[1;32m     61\u001b[0m     \u001b[0mz_log_var\u001b[0m \u001b[0;34m=\u001b[0m \u001b[0mDense\u001b[0m\u001b[0;34m(\u001b[0m\u001b[0mlatent_dim\u001b[0m\u001b[0;34m,\u001b[0m \u001b[0mname\u001b[0m\u001b[0;34m=\u001b[0m\u001b[0;34m'z_log_var'\u001b[0m\u001b[0;34m)\u001b[0m\u001b[0;34m(\u001b[0m\u001b[0mx\u001b[0m\u001b[0;34m)\u001b[0m\u001b[0;34m\u001b[0m\u001b[0;34m\u001b[0m\u001b[0m\n",
      "\u001b[0;32m~/anaconda3/lib/python3.8/site-packages/tensorflow/python/keras/engine/base_layer.py\u001b[0m in \u001b[0;36m__call__\u001b[0;34m(self, *args, **kwargs)\u001b[0m\n\u001b[1;32m    923\u001b[0m     \u001b[0;31m# >> model = tf.keras.Model(inputs, outputs)\u001b[0m\u001b[0;34m\u001b[0m\u001b[0;34m\u001b[0m\u001b[0;34m\u001b[0m\u001b[0m\n\u001b[1;32m    924\u001b[0m     \u001b[0;32mif\u001b[0m \u001b[0m_in_functional_construction_mode\u001b[0m\u001b[0;34m(\u001b[0m\u001b[0mself\u001b[0m\u001b[0;34m,\u001b[0m \u001b[0minputs\u001b[0m\u001b[0;34m,\u001b[0m \u001b[0margs\u001b[0m\u001b[0;34m,\u001b[0m \u001b[0mkwargs\u001b[0m\u001b[0;34m,\u001b[0m \u001b[0minput_list\u001b[0m\u001b[0;34m)\u001b[0m\u001b[0;34m:\u001b[0m\u001b[0;34m\u001b[0m\u001b[0;34m\u001b[0m\u001b[0m\n\u001b[0;32m--> 925\u001b[0;31m       return self._functional_construction_call(inputs, args, kwargs,\n\u001b[0m\u001b[1;32m    926\u001b[0m                                                 input_list)\n\u001b[1;32m    927\u001b[0m \u001b[0;34m\u001b[0m\u001b[0m\n",
      "\u001b[0;32m~/anaconda3/lib/python3.8/site-packages/tensorflow/python/keras/engine/base_layer.py\u001b[0m in \u001b[0;36m_functional_construction_call\u001b[0;34m(self, inputs, args, kwargs, input_list)\u001b[0m\n\u001b[1;32m   1096\u001b[0m         \u001b[0;31m# Build layer if applicable (if the `build` method has been\u001b[0m\u001b[0;34m\u001b[0m\u001b[0;34m\u001b[0m\u001b[0;34m\u001b[0m\u001b[0m\n\u001b[1;32m   1097\u001b[0m         \u001b[0;31m# overridden).\u001b[0m\u001b[0;34m\u001b[0m\u001b[0;34m\u001b[0m\u001b[0;34m\u001b[0m\u001b[0m\n\u001b[0;32m-> 1098\u001b[0;31m         \u001b[0mself\u001b[0m\u001b[0;34m.\u001b[0m\u001b[0m_maybe_build\u001b[0m\u001b[0;34m(\u001b[0m\u001b[0minputs\u001b[0m\u001b[0;34m)\u001b[0m\u001b[0;34m\u001b[0m\u001b[0;34m\u001b[0m\u001b[0m\n\u001b[0m\u001b[1;32m   1099\u001b[0m         \u001b[0mcast_inputs\u001b[0m \u001b[0;34m=\u001b[0m \u001b[0mself\u001b[0m\u001b[0;34m.\u001b[0m\u001b[0m_maybe_cast_inputs\u001b[0m\u001b[0;34m(\u001b[0m\u001b[0minputs\u001b[0m\u001b[0;34m,\u001b[0m \u001b[0minput_list\u001b[0m\u001b[0;34m)\u001b[0m\u001b[0;34m\u001b[0m\u001b[0;34m\u001b[0m\u001b[0m\n\u001b[1;32m   1100\u001b[0m \u001b[0;34m\u001b[0m\u001b[0m\n",
      "\u001b[0;32m~/anaconda3/lib/python3.8/site-packages/tensorflow/python/keras/engine/base_layer.py\u001b[0m in \u001b[0;36m_maybe_build\u001b[0;34m(self, inputs)\u001b[0m\n\u001b[1;32m   2641\u001b[0m         \u001b[0;31m# operations.\u001b[0m\u001b[0;34m\u001b[0m\u001b[0;34m\u001b[0m\u001b[0;34m\u001b[0m\u001b[0m\n\u001b[1;32m   2642\u001b[0m         \u001b[0;32mwith\u001b[0m \u001b[0mtf_utils\u001b[0m\u001b[0;34m.\u001b[0m\u001b[0mmaybe_init_scope\u001b[0m\u001b[0;34m(\u001b[0m\u001b[0mself\u001b[0m\u001b[0;34m)\u001b[0m\u001b[0;34m:\u001b[0m\u001b[0;34m\u001b[0m\u001b[0;34m\u001b[0m\u001b[0m\n\u001b[0;32m-> 2643\u001b[0;31m           \u001b[0mself\u001b[0m\u001b[0;34m.\u001b[0m\u001b[0mbuild\u001b[0m\u001b[0;34m(\u001b[0m\u001b[0minput_shapes\u001b[0m\u001b[0;34m)\u001b[0m  \u001b[0;31m# pylint:disable=not-callable\u001b[0m\u001b[0;34m\u001b[0m\u001b[0;34m\u001b[0m\u001b[0m\n\u001b[0m\u001b[1;32m   2644\u001b[0m       \u001b[0;31m# We must set also ensure that the layer is marked as built, and the build\u001b[0m\u001b[0;34m\u001b[0m\u001b[0;34m\u001b[0m\u001b[0;34m\u001b[0m\u001b[0m\n\u001b[1;32m   2645\u001b[0m       \u001b[0;31m# shape is stored since user defined build functions may not be calling\u001b[0m\u001b[0;34m\u001b[0m\u001b[0;34m\u001b[0m\u001b[0;34m\u001b[0m\u001b[0m\n",
      "\u001b[0;32m~/anaconda3/lib/python3.8/site-packages/tensorflow/python/keras/layers/core.py\u001b[0m in \u001b[0;36mbuild\u001b[0;34m(self, input_shape)\u001b[0m\n\u001b[1;32m   1169\u001b[0m                        'should be defined. Found `None`.')\n\u001b[1;32m   1170\u001b[0m     \u001b[0mself\u001b[0m\u001b[0;34m.\u001b[0m\u001b[0minput_spec\u001b[0m \u001b[0;34m=\u001b[0m \u001b[0mInputSpec\u001b[0m\u001b[0;34m(\u001b[0m\u001b[0mmin_ndim\u001b[0m\u001b[0;34m=\u001b[0m\u001b[0;36m2\u001b[0m\u001b[0;34m,\u001b[0m \u001b[0maxes\u001b[0m\u001b[0;34m=\u001b[0m\u001b[0;34m{\u001b[0m\u001b[0;34m-\u001b[0m\u001b[0;36m1\u001b[0m\u001b[0;34m:\u001b[0m \u001b[0mlast_dim\u001b[0m\u001b[0;34m}\u001b[0m\u001b[0;34m)\u001b[0m\u001b[0;34m\u001b[0m\u001b[0;34m\u001b[0m\u001b[0m\n\u001b[0;32m-> 1171\u001b[0;31m     self.kernel = self.add_weight(\n\u001b[0m\u001b[1;32m   1172\u001b[0m         \u001b[0;34m'kernel'\u001b[0m\u001b[0;34m,\u001b[0m\u001b[0;34m\u001b[0m\u001b[0;34m\u001b[0m\u001b[0m\n\u001b[1;32m   1173\u001b[0m         \u001b[0mshape\u001b[0m\u001b[0;34m=\u001b[0m\u001b[0;34m[\u001b[0m\u001b[0mlast_dim\u001b[0m\u001b[0;34m,\u001b[0m \u001b[0mself\u001b[0m\u001b[0;34m.\u001b[0m\u001b[0munits\u001b[0m\u001b[0;34m]\u001b[0m\u001b[0;34m,\u001b[0m\u001b[0;34m\u001b[0m\u001b[0;34m\u001b[0m\u001b[0m\n",
      "\u001b[0;32m~/anaconda3/lib/python3.8/site-packages/tensorflow/python/keras/engine/base_layer.py\u001b[0m in \u001b[0;36madd_weight\u001b[0;34m(self, name, shape, dtype, initializer, regularizer, trainable, constraint, partitioner, use_resource, synchronization, aggregation, **kwargs)\u001b[0m\n\u001b[1;32m    595\u001b[0m         \u001b[0mcaching_device\u001b[0m \u001b[0;34m=\u001b[0m \u001b[0;32mNone\u001b[0m\u001b[0;34m\u001b[0m\u001b[0;34m\u001b[0m\u001b[0m\n\u001b[1;32m    596\u001b[0m \u001b[0;34m\u001b[0m\u001b[0m\n\u001b[0;32m--> 597\u001b[0;31m     variable = self._add_variable_with_custom_getter(\n\u001b[0m\u001b[1;32m    598\u001b[0m         \u001b[0mname\u001b[0m\u001b[0;34m=\u001b[0m\u001b[0mname\u001b[0m\u001b[0;34m,\u001b[0m\u001b[0;34m\u001b[0m\u001b[0;34m\u001b[0m\u001b[0m\n\u001b[1;32m    599\u001b[0m         \u001b[0mshape\u001b[0m\u001b[0;34m=\u001b[0m\u001b[0mshape\u001b[0m\u001b[0;34m,\u001b[0m\u001b[0;34m\u001b[0m\u001b[0;34m\u001b[0m\u001b[0m\n",
      "\u001b[0;32m~/anaconda3/lib/python3.8/site-packages/tensorflow/python/training/tracking/base.py\u001b[0m in \u001b[0;36m_add_variable_with_custom_getter\u001b[0;34m(self, name, shape, dtype, initializer, getter, overwrite, **kwargs_for_getter)\u001b[0m\n\u001b[1;32m    743\u001b[0m         \u001b[0minitializer\u001b[0m \u001b[0;34m=\u001b[0m \u001b[0mcheckpoint_initializer\u001b[0m\u001b[0;34m\u001b[0m\u001b[0;34m\u001b[0m\u001b[0m\n\u001b[1;32m    744\u001b[0m         \u001b[0mshape\u001b[0m \u001b[0;34m=\u001b[0m \u001b[0;32mNone\u001b[0m\u001b[0;34m\u001b[0m\u001b[0;34m\u001b[0m\u001b[0m\n\u001b[0;32m--> 745\u001b[0;31m     new_variable = getter(\n\u001b[0m\u001b[1;32m    746\u001b[0m         \u001b[0mname\u001b[0m\u001b[0;34m=\u001b[0m\u001b[0mname\u001b[0m\u001b[0;34m,\u001b[0m\u001b[0;34m\u001b[0m\u001b[0;34m\u001b[0m\u001b[0m\n\u001b[1;32m    747\u001b[0m         \u001b[0mshape\u001b[0m\u001b[0;34m=\u001b[0m\u001b[0mshape\u001b[0m\u001b[0;34m,\u001b[0m\u001b[0;34m\u001b[0m\u001b[0;34m\u001b[0m\u001b[0m\n",
      "\u001b[0;32m~/anaconda3/lib/python3.8/site-packages/tensorflow/python/keras/engine/base_layer_utils.py\u001b[0m in \u001b[0;36mmake_variable\u001b[0;34m(name, shape, dtype, initializer, trainable, caching_device, validate_shape, constraint, use_resource, collections, synchronization, aggregation, partitioner)\u001b[0m\n\u001b[1;32m    131\u001b[0m   \u001b[0;31m# can remove the V1.\u001b[0m\u001b[0;34m\u001b[0m\u001b[0;34m\u001b[0m\u001b[0;34m\u001b[0m\u001b[0m\n\u001b[1;32m    132\u001b[0m   \u001b[0mvariable_shape\u001b[0m \u001b[0;34m=\u001b[0m \u001b[0mtensor_shape\u001b[0m\u001b[0;34m.\u001b[0m\u001b[0mTensorShape\u001b[0m\u001b[0;34m(\u001b[0m\u001b[0mshape\u001b[0m\u001b[0;34m)\u001b[0m\u001b[0;34m\u001b[0m\u001b[0;34m\u001b[0m\u001b[0m\n\u001b[0;32m--> 133\u001b[0;31m   return tf_variables.VariableV1(\n\u001b[0m\u001b[1;32m    134\u001b[0m       \u001b[0minitial_value\u001b[0m\u001b[0;34m=\u001b[0m\u001b[0minit_val\u001b[0m\u001b[0;34m,\u001b[0m\u001b[0;34m\u001b[0m\u001b[0;34m\u001b[0m\u001b[0m\n\u001b[1;32m    135\u001b[0m       \u001b[0mname\u001b[0m\u001b[0;34m=\u001b[0m\u001b[0mname\u001b[0m\u001b[0;34m,\u001b[0m\u001b[0;34m\u001b[0m\u001b[0;34m\u001b[0m\u001b[0m\n",
      "\u001b[0;32m~/anaconda3/lib/python3.8/site-packages/tensorflow/python/ops/variables.py\u001b[0m in \u001b[0;36m__call__\u001b[0;34m(cls, *args, **kwargs)\u001b[0m\n\u001b[1;32m    258\u001b[0m   \u001b[0;32mdef\u001b[0m \u001b[0m__call__\u001b[0m\u001b[0;34m(\u001b[0m\u001b[0mcls\u001b[0m\u001b[0;34m,\u001b[0m \u001b[0;34m*\u001b[0m\u001b[0margs\u001b[0m\u001b[0;34m,\u001b[0m \u001b[0;34m**\u001b[0m\u001b[0mkwargs\u001b[0m\u001b[0;34m)\u001b[0m\u001b[0;34m:\u001b[0m\u001b[0;34m\u001b[0m\u001b[0;34m\u001b[0m\u001b[0m\n\u001b[1;32m    259\u001b[0m     \u001b[0;32mif\u001b[0m \u001b[0mcls\u001b[0m \u001b[0;32mis\u001b[0m \u001b[0mVariableV1\u001b[0m\u001b[0;34m:\u001b[0m\u001b[0;34m\u001b[0m\u001b[0;34m\u001b[0m\u001b[0m\n\u001b[0;32m--> 260\u001b[0;31m       \u001b[0;32mreturn\u001b[0m \u001b[0mcls\u001b[0m\u001b[0;34m.\u001b[0m\u001b[0m_variable_v1_call\u001b[0m\u001b[0;34m(\u001b[0m\u001b[0;34m*\u001b[0m\u001b[0margs\u001b[0m\u001b[0;34m,\u001b[0m \u001b[0;34m**\u001b[0m\u001b[0mkwargs\u001b[0m\u001b[0;34m)\u001b[0m\u001b[0;34m\u001b[0m\u001b[0;34m\u001b[0m\u001b[0m\n\u001b[0m\u001b[1;32m    261\u001b[0m     \u001b[0;32melif\u001b[0m \u001b[0mcls\u001b[0m \u001b[0;32mis\u001b[0m \u001b[0mVariable\u001b[0m\u001b[0;34m:\u001b[0m\u001b[0;34m\u001b[0m\u001b[0;34m\u001b[0m\u001b[0m\n\u001b[1;32m    262\u001b[0m       \u001b[0;32mreturn\u001b[0m \u001b[0mcls\u001b[0m\u001b[0;34m.\u001b[0m\u001b[0m_variable_v2_call\u001b[0m\u001b[0;34m(\u001b[0m\u001b[0;34m*\u001b[0m\u001b[0margs\u001b[0m\u001b[0;34m,\u001b[0m \u001b[0;34m**\u001b[0m\u001b[0mkwargs\u001b[0m\u001b[0;34m)\u001b[0m\u001b[0;34m\u001b[0m\u001b[0;34m\u001b[0m\u001b[0m\n",
      "\u001b[0;32m~/anaconda3/lib/python3.8/site-packages/tensorflow/python/ops/variables.py\u001b[0m in \u001b[0;36m_variable_v1_call\u001b[0;34m(cls, initial_value, trainable, collections, validate_shape, caching_device, name, variable_def, dtype, expected_shape, import_scope, constraint, use_resource, synchronization, aggregation, shape)\u001b[0m\n\u001b[1;32m    204\u001b[0m     \u001b[0;32mif\u001b[0m \u001b[0maggregation\u001b[0m \u001b[0;32mis\u001b[0m \u001b[0;32mNone\u001b[0m\u001b[0;34m:\u001b[0m\u001b[0;34m\u001b[0m\u001b[0;34m\u001b[0m\u001b[0m\n\u001b[1;32m    205\u001b[0m       \u001b[0maggregation\u001b[0m \u001b[0;34m=\u001b[0m \u001b[0mVariableAggregation\u001b[0m\u001b[0;34m.\u001b[0m\u001b[0mNONE\u001b[0m\u001b[0;34m\u001b[0m\u001b[0;34m\u001b[0m\u001b[0m\n\u001b[0;32m--> 206\u001b[0;31m     return previous_getter(\n\u001b[0m\u001b[1;32m    207\u001b[0m         \u001b[0minitial_value\u001b[0m\u001b[0;34m=\u001b[0m\u001b[0minitial_value\u001b[0m\u001b[0;34m,\u001b[0m\u001b[0;34m\u001b[0m\u001b[0;34m\u001b[0m\u001b[0m\n\u001b[1;32m    208\u001b[0m         \u001b[0mtrainable\u001b[0m\u001b[0;34m=\u001b[0m\u001b[0mtrainable\u001b[0m\u001b[0;34m,\u001b[0m\u001b[0;34m\u001b[0m\u001b[0;34m\u001b[0m\u001b[0m\n",
      "\u001b[0;32m~/anaconda3/lib/python3.8/site-packages/tensorflow/python/ops/variables.py\u001b[0m in \u001b[0;36m<lambda>\u001b[0;34m(**kwargs)\u001b[0m\n\u001b[1;32m    197\u001b[0m                         shape=None):\n\u001b[1;32m    198\u001b[0m     \u001b[0;34m\"\"\"Call on Variable class. Useful to force the signature.\"\"\"\u001b[0m\u001b[0;34m\u001b[0m\u001b[0;34m\u001b[0m\u001b[0m\n\u001b[0;32m--> 199\u001b[0;31m     \u001b[0mprevious_getter\u001b[0m \u001b[0;34m=\u001b[0m \u001b[0;32mlambda\u001b[0m \u001b[0;34m**\u001b[0m\u001b[0mkwargs\u001b[0m\u001b[0;34m:\u001b[0m \u001b[0mdefault_variable_creator\u001b[0m\u001b[0;34m(\u001b[0m\u001b[0;32mNone\u001b[0m\u001b[0;34m,\u001b[0m \u001b[0;34m**\u001b[0m\u001b[0mkwargs\u001b[0m\u001b[0;34m)\u001b[0m\u001b[0;34m\u001b[0m\u001b[0;34m\u001b[0m\u001b[0m\n\u001b[0m\u001b[1;32m    200\u001b[0m     \u001b[0;32mfor\u001b[0m \u001b[0m_\u001b[0m\u001b[0;34m,\u001b[0m \u001b[0mgetter\u001b[0m \u001b[0;32min\u001b[0m \u001b[0mops\u001b[0m\u001b[0;34m.\u001b[0m\u001b[0mget_default_graph\u001b[0m\u001b[0;34m(\u001b[0m\u001b[0;34m)\u001b[0m\u001b[0;34m.\u001b[0m\u001b[0m_variable_creator_stack\u001b[0m\u001b[0;34m:\u001b[0m  \u001b[0;31m# pylint: disable=protected-access\u001b[0m\u001b[0;34m\u001b[0m\u001b[0;34m\u001b[0m\u001b[0m\n\u001b[1;32m    201\u001b[0m       \u001b[0mprevious_getter\u001b[0m \u001b[0;34m=\u001b[0m \u001b[0m_make_getter\u001b[0m\u001b[0;34m(\u001b[0m\u001b[0mgetter\u001b[0m\u001b[0;34m,\u001b[0m \u001b[0mprevious_getter\u001b[0m\u001b[0;34m)\u001b[0m\u001b[0;34m\u001b[0m\u001b[0;34m\u001b[0m\u001b[0m\n",
      "\u001b[0;32m~/anaconda3/lib/python3.8/site-packages/tensorflow/python/ops/variable_scope.py\u001b[0m in \u001b[0;36mdefault_variable_creator\u001b[0;34m(next_creator, **kwargs)\u001b[0m\n\u001b[1;32m   2581\u001b[0m   \u001b[0;32mif\u001b[0m \u001b[0muse_resource\u001b[0m\u001b[0;34m:\u001b[0m\u001b[0;34m\u001b[0m\u001b[0;34m\u001b[0m\u001b[0m\n\u001b[1;32m   2582\u001b[0m     \u001b[0mdistribute_strategy\u001b[0m \u001b[0;34m=\u001b[0m \u001b[0mkwargs\u001b[0m\u001b[0;34m.\u001b[0m\u001b[0mget\u001b[0m\u001b[0;34m(\u001b[0m\u001b[0;34m\"distribute_strategy\"\u001b[0m\u001b[0;34m,\u001b[0m \u001b[0;32mNone\u001b[0m\u001b[0;34m)\u001b[0m\u001b[0;34m\u001b[0m\u001b[0;34m\u001b[0m\u001b[0m\n\u001b[0;32m-> 2583\u001b[0;31m     return resource_variable_ops.ResourceVariable(\n\u001b[0m\u001b[1;32m   2584\u001b[0m         \u001b[0minitial_value\u001b[0m\u001b[0;34m=\u001b[0m\u001b[0minitial_value\u001b[0m\u001b[0;34m,\u001b[0m\u001b[0;34m\u001b[0m\u001b[0;34m\u001b[0m\u001b[0m\n\u001b[1;32m   2585\u001b[0m         \u001b[0mtrainable\u001b[0m\u001b[0;34m=\u001b[0m\u001b[0mtrainable\u001b[0m\u001b[0;34m,\u001b[0m\u001b[0;34m\u001b[0m\u001b[0;34m\u001b[0m\u001b[0m\n",
      "\u001b[0;32m~/anaconda3/lib/python3.8/site-packages/tensorflow/python/ops/variables.py\u001b[0m in \u001b[0;36m__call__\u001b[0;34m(cls, *args, **kwargs)\u001b[0m\n\u001b[1;32m    262\u001b[0m       \u001b[0;32mreturn\u001b[0m \u001b[0mcls\u001b[0m\u001b[0;34m.\u001b[0m\u001b[0m_variable_v2_call\u001b[0m\u001b[0;34m(\u001b[0m\u001b[0;34m*\u001b[0m\u001b[0margs\u001b[0m\u001b[0;34m,\u001b[0m \u001b[0;34m**\u001b[0m\u001b[0mkwargs\u001b[0m\u001b[0;34m)\u001b[0m\u001b[0;34m\u001b[0m\u001b[0;34m\u001b[0m\u001b[0m\n\u001b[1;32m    263\u001b[0m     \u001b[0;32melse\u001b[0m\u001b[0;34m:\u001b[0m\u001b[0;34m\u001b[0m\u001b[0;34m\u001b[0m\u001b[0m\n\u001b[0;32m--> 264\u001b[0;31m       \u001b[0;32mreturn\u001b[0m \u001b[0msuper\u001b[0m\u001b[0;34m(\u001b[0m\u001b[0mVariableMetaclass\u001b[0m\u001b[0;34m,\u001b[0m \u001b[0mcls\u001b[0m\u001b[0;34m)\u001b[0m\u001b[0;34m.\u001b[0m\u001b[0m__call__\u001b[0m\u001b[0;34m(\u001b[0m\u001b[0;34m*\u001b[0m\u001b[0margs\u001b[0m\u001b[0;34m,\u001b[0m \u001b[0;34m**\u001b[0m\u001b[0mkwargs\u001b[0m\u001b[0;34m)\u001b[0m\u001b[0;34m\u001b[0m\u001b[0;34m\u001b[0m\u001b[0m\n\u001b[0m\u001b[1;32m    265\u001b[0m \u001b[0;34m\u001b[0m\u001b[0m\n\u001b[1;32m    266\u001b[0m \u001b[0;34m\u001b[0m\u001b[0m\n",
      "\u001b[0;32m~/anaconda3/lib/python3.8/site-packages/tensorflow/python/ops/resource_variable_ops.py\u001b[0m in \u001b[0;36m__init__\u001b[0;34m(self, initial_value, trainable, collections, validate_shape, caching_device, name, dtype, variable_def, import_scope, constraint, distribute_strategy, synchronization, aggregation, shape)\u001b[0m\n\u001b[1;32m   1505\u001b[0m       \u001b[0mself\u001b[0m\u001b[0;34m.\u001b[0m\u001b[0m_init_from_proto\u001b[0m\u001b[0;34m(\u001b[0m\u001b[0mvariable_def\u001b[0m\u001b[0;34m,\u001b[0m \u001b[0mimport_scope\u001b[0m\u001b[0;34m=\u001b[0m\u001b[0mimport_scope\u001b[0m\u001b[0;34m)\u001b[0m\u001b[0;34m\u001b[0m\u001b[0;34m\u001b[0m\u001b[0m\n\u001b[1;32m   1506\u001b[0m     \u001b[0;32melse\u001b[0m\u001b[0;34m:\u001b[0m\u001b[0;34m\u001b[0m\u001b[0;34m\u001b[0m\u001b[0m\n\u001b[0;32m-> 1507\u001b[0;31m       self._init_from_args(\n\u001b[0m\u001b[1;32m   1508\u001b[0m           \u001b[0minitial_value\u001b[0m\u001b[0;34m=\u001b[0m\u001b[0minitial_value\u001b[0m\u001b[0;34m,\u001b[0m\u001b[0;34m\u001b[0m\u001b[0;34m\u001b[0m\u001b[0m\n\u001b[1;32m   1509\u001b[0m           \u001b[0mtrainable\u001b[0m\u001b[0;34m=\u001b[0m\u001b[0mtrainable\u001b[0m\u001b[0;34m,\u001b[0m\u001b[0;34m\u001b[0m\u001b[0;34m\u001b[0m\u001b[0m\n",
      "\u001b[0;32m~/anaconda3/lib/python3.8/site-packages/tensorflow/python/ops/resource_variable_ops.py\u001b[0m in \u001b[0;36m_init_from_args\u001b[0;34m(self, initial_value, trainable, collections, caching_device, name, dtype, constraint, synchronization, aggregation, distribute_strategy, shape)\u001b[0m\n\u001b[1;32m   1649\u001b[0m           \u001b[0;32mwith\u001b[0m \u001b[0mops\u001b[0m\u001b[0;34m.\u001b[0m\u001b[0mname_scope\u001b[0m\u001b[0;34m(\u001b[0m\u001b[0;34m\"Initializer\"\u001b[0m\u001b[0;34m)\u001b[0m\u001b[0;34m,\u001b[0m \u001b[0mdevice_context_manager\u001b[0m\u001b[0;34m(\u001b[0m\u001b[0;32mNone\u001b[0m\u001b[0;34m)\u001b[0m\u001b[0;34m:\u001b[0m\u001b[0;34m\u001b[0m\u001b[0;34m\u001b[0m\u001b[0m\n\u001b[1;32m   1650\u001b[0m             initial_value = ops.convert_to_tensor(\n\u001b[0;32m-> 1651\u001b[0;31m                 \u001b[0minitial_value\u001b[0m\u001b[0;34m(\u001b[0m\u001b[0;34m)\u001b[0m \u001b[0;32mif\u001b[0m \u001b[0minit_from_fn\u001b[0m \u001b[0;32melse\u001b[0m \u001b[0minitial_value\u001b[0m\u001b[0;34m,\u001b[0m\u001b[0;34m\u001b[0m\u001b[0;34m\u001b[0m\u001b[0m\n\u001b[0m\u001b[1;32m   1652\u001b[0m                 name=\"initial_value\", dtype=dtype)\n\u001b[1;32m   1653\u001b[0m           \u001b[0;32mif\u001b[0m \u001b[0mshape\u001b[0m \u001b[0;32mis\u001b[0m \u001b[0;32mnot\u001b[0m \u001b[0;32mNone\u001b[0m\u001b[0;34m:\u001b[0m\u001b[0;34m\u001b[0m\u001b[0;34m\u001b[0m\u001b[0m\n",
      "\u001b[0;32m~/anaconda3/lib/python3.8/site-packages/tensorflow/python/keras/initializers/initializers_v2.py\u001b[0m in \u001b[0;36m__call__\u001b[0;34m(self, shape, dtype)\u001b[0m\n\u001b[1;32m    395\u001b[0m        \u001b[0;34m(\u001b[0m\u001b[0mvia\u001b[0m\u001b[0;31m \u001b[0m\u001b[0;31m`\u001b[0m\u001b[0mtf\u001b[0m\u001b[0;34m.\u001b[0m\u001b[0mkeras\u001b[0m\u001b[0;34m.\u001b[0m\u001b[0mbackend\u001b[0m\u001b[0;34m.\u001b[0m\u001b[0mset_floatx\u001b[0m\u001b[0;34m(\u001b[0m\u001b[0mfloat_dtype\u001b[0m\u001b[0;34m)\u001b[0m\u001b[0;31m`\u001b[0m\u001b[0;34m)\u001b[0m\u001b[0;34m\u001b[0m\u001b[0;34m\u001b[0m\u001b[0m\n\u001b[1;32m    396\u001b[0m     \"\"\"\n\u001b[0;32m--> 397\u001b[0;31m     \u001b[0;32mreturn\u001b[0m \u001b[0msuper\u001b[0m\u001b[0;34m(\u001b[0m\u001b[0mVarianceScaling\u001b[0m\u001b[0;34m,\u001b[0m \u001b[0mself\u001b[0m\u001b[0;34m)\u001b[0m\u001b[0;34m.\u001b[0m\u001b[0m__call__\u001b[0m\u001b[0;34m(\u001b[0m\u001b[0mshape\u001b[0m\u001b[0;34m,\u001b[0m \u001b[0mdtype\u001b[0m\u001b[0;34m=\u001b[0m\u001b[0m_get_dtype\u001b[0m\u001b[0;34m(\u001b[0m\u001b[0mdtype\u001b[0m\u001b[0;34m)\u001b[0m\u001b[0;34m)\u001b[0m\u001b[0;34m\u001b[0m\u001b[0;34m\u001b[0m\u001b[0m\n\u001b[0m\u001b[1;32m    398\u001b[0m \u001b[0;34m\u001b[0m\u001b[0m\n\u001b[1;32m    399\u001b[0m \u001b[0;34m\u001b[0m\u001b[0m\n",
      "\u001b[0;32m~/anaconda3/lib/python3.8/site-packages/tensorflow/python/ops/init_ops_v2.py\u001b[0m in \u001b[0;36m__call__\u001b[0;34m(self, shape, dtype)\u001b[0m\n\u001b[1;32m    559\u001b[0m     \u001b[0;32melse\u001b[0m\u001b[0;34m:\u001b[0m\u001b[0;34m\u001b[0m\u001b[0;34m\u001b[0m\u001b[0m\n\u001b[1;32m    560\u001b[0m       \u001b[0mlimit\u001b[0m \u001b[0;34m=\u001b[0m \u001b[0mmath\u001b[0m\u001b[0;34m.\u001b[0m\u001b[0msqrt\u001b[0m\u001b[0;34m(\u001b[0m\u001b[0;36m3.0\u001b[0m \u001b[0;34m*\u001b[0m \u001b[0mscale\u001b[0m\u001b[0;34m)\u001b[0m\u001b[0;34m\u001b[0m\u001b[0;34m\u001b[0m\u001b[0m\n\u001b[0;32m--> 561\u001b[0;31m       \u001b[0;32mreturn\u001b[0m \u001b[0mself\u001b[0m\u001b[0;34m.\u001b[0m\u001b[0m_random_generator\u001b[0m\u001b[0;34m.\u001b[0m\u001b[0mrandom_uniform\u001b[0m\u001b[0;34m(\u001b[0m\u001b[0mshape\u001b[0m\u001b[0;34m,\u001b[0m \u001b[0;34m-\u001b[0m\u001b[0mlimit\u001b[0m\u001b[0;34m,\u001b[0m \u001b[0mlimit\u001b[0m\u001b[0;34m,\u001b[0m \u001b[0mdtype\u001b[0m\u001b[0;34m)\u001b[0m\u001b[0;34m\u001b[0m\u001b[0;34m\u001b[0m\u001b[0m\n\u001b[0m\u001b[1;32m    562\u001b[0m \u001b[0;34m\u001b[0m\u001b[0m\n\u001b[1;32m    563\u001b[0m   \u001b[0;32mdef\u001b[0m \u001b[0mget_config\u001b[0m\u001b[0;34m(\u001b[0m\u001b[0mself\u001b[0m\u001b[0;34m)\u001b[0m\u001b[0;34m:\u001b[0m\u001b[0;34m\u001b[0m\u001b[0;34m\u001b[0m\u001b[0m\n",
      "\u001b[0;32m~/anaconda3/lib/python3.8/site-packages/tensorflow/python/ops/init_ops_v2.py\u001b[0m in \u001b[0;36mrandom_uniform\u001b[0;34m(self, shape, minval, maxval, dtype)\u001b[0m\n\u001b[1;32m   1041\u001b[0m     \u001b[0;32melse\u001b[0m\u001b[0;34m:\u001b[0m\u001b[0;34m\u001b[0m\u001b[0;34m\u001b[0m\u001b[0m\n\u001b[1;32m   1042\u001b[0m       \u001b[0mop\u001b[0m \u001b[0;34m=\u001b[0m \u001b[0mrandom_ops\u001b[0m\u001b[0;34m.\u001b[0m\u001b[0mrandom_uniform\u001b[0m\u001b[0;34m\u001b[0m\u001b[0;34m\u001b[0m\u001b[0m\n\u001b[0;32m-> 1043\u001b[0;31m     return op(\n\u001b[0m\u001b[1;32m   1044\u001b[0m         shape=shape, minval=minval, maxval=maxval, dtype=dtype, seed=self.seed)\n\u001b[1;32m   1045\u001b[0m \u001b[0;34m\u001b[0m\u001b[0m\n",
      "\u001b[0;32m~/anaconda3/lib/python3.8/site-packages/tensorflow/python/util/dispatch.py\u001b[0m in \u001b[0;36mwrapper\u001b[0;34m(*args, **kwargs)\u001b[0m\n\u001b[1;32m    199\u001b[0m     \u001b[0;34m\"\"\"Call target, and fall back on dispatchers if there is a TypeError.\"\"\"\u001b[0m\u001b[0;34m\u001b[0m\u001b[0;34m\u001b[0m\u001b[0m\n\u001b[1;32m    200\u001b[0m     \u001b[0;32mtry\u001b[0m\u001b[0;34m:\u001b[0m\u001b[0;34m\u001b[0m\u001b[0;34m\u001b[0m\u001b[0m\n\u001b[0;32m--> 201\u001b[0;31m       \u001b[0;32mreturn\u001b[0m \u001b[0mtarget\u001b[0m\u001b[0;34m(\u001b[0m\u001b[0;34m*\u001b[0m\u001b[0margs\u001b[0m\u001b[0;34m,\u001b[0m \u001b[0;34m**\u001b[0m\u001b[0mkwargs\u001b[0m\u001b[0;34m)\u001b[0m\u001b[0;34m\u001b[0m\u001b[0;34m\u001b[0m\u001b[0m\n\u001b[0m\u001b[1;32m    202\u001b[0m     \u001b[0;32mexcept\u001b[0m \u001b[0;34m(\u001b[0m\u001b[0mTypeError\u001b[0m\u001b[0;34m,\u001b[0m \u001b[0mValueError\u001b[0m\u001b[0;34m)\u001b[0m\u001b[0;34m:\u001b[0m\u001b[0;34m\u001b[0m\u001b[0;34m\u001b[0m\u001b[0m\n\u001b[1;32m    203\u001b[0m       \u001b[0;31m# Note: convert_to_eager_tensor currently raises a ValueError, not a\u001b[0m\u001b[0;34m\u001b[0m\u001b[0;34m\u001b[0m\u001b[0;34m\u001b[0m\u001b[0m\n",
      "\u001b[0;32m~/anaconda3/lib/python3.8/site-packages/tensorflow/python/ops/random_ops.py\u001b[0m in \u001b[0;36mrandom_uniform\u001b[0;34m(shape, minval, maxval, dtype, seed, name)\u001b[0m\n\u001b[1;32m    299\u001b[0m           shape, minval, maxval, seed=seed1, seed2=seed2, name=name)\n\u001b[1;32m    300\u001b[0m     \u001b[0;32melse\u001b[0m\u001b[0;34m:\u001b[0m\u001b[0;34m\u001b[0m\u001b[0;34m\u001b[0m\u001b[0m\n\u001b[0;32m--> 301\u001b[0;31m       result = gen_random_ops.random_uniform(\n\u001b[0m\u001b[1;32m    302\u001b[0m           shape, dtype, seed=seed1, seed2=seed2)\n\u001b[1;32m    303\u001b[0m       \u001b[0;32mif\u001b[0m \u001b[0mminval_is_zero\u001b[0m\u001b[0;34m:\u001b[0m\u001b[0;34m\u001b[0m\u001b[0;34m\u001b[0m\u001b[0m\n",
      "\u001b[0;32m~/anaconda3/lib/python3.8/site-packages/tensorflow/python/ops/gen_random_ops.py\u001b[0m in \u001b[0;36mrandom_uniform\u001b[0;34m(shape, dtype, seed, seed2, name)\u001b[0m\n\u001b[1;32m    724\u001b[0m       \u001b[0;32mreturn\u001b[0m \u001b[0m_result\u001b[0m\u001b[0;34m\u001b[0m\u001b[0;34m\u001b[0m\u001b[0m\n\u001b[1;32m    725\u001b[0m     \u001b[0;32mexcept\u001b[0m \u001b[0m_core\u001b[0m\u001b[0;34m.\u001b[0m\u001b[0m_NotOkStatusException\u001b[0m \u001b[0;32mas\u001b[0m \u001b[0me\u001b[0m\u001b[0;34m:\u001b[0m\u001b[0;34m\u001b[0m\u001b[0;34m\u001b[0m\u001b[0m\n\u001b[0;32m--> 726\u001b[0;31m       \u001b[0m_ops\u001b[0m\u001b[0;34m.\u001b[0m\u001b[0mraise_from_not_ok_status\u001b[0m\u001b[0;34m(\u001b[0m\u001b[0me\u001b[0m\u001b[0;34m,\u001b[0m \u001b[0mname\u001b[0m\u001b[0;34m)\u001b[0m\u001b[0;34m\u001b[0m\u001b[0;34m\u001b[0m\u001b[0m\n\u001b[0m\u001b[1;32m    727\u001b[0m     \u001b[0;32mexcept\u001b[0m \u001b[0m_core\u001b[0m\u001b[0;34m.\u001b[0m\u001b[0m_FallbackException\u001b[0m\u001b[0;34m:\u001b[0m\u001b[0;34m\u001b[0m\u001b[0;34m\u001b[0m\u001b[0m\n\u001b[1;32m    728\u001b[0m       \u001b[0;32mpass\u001b[0m\u001b[0;34m\u001b[0m\u001b[0;34m\u001b[0m\u001b[0m\n",
      "\u001b[0;32m~/anaconda3/lib/python3.8/site-packages/tensorflow/python/framework/ops.py\u001b[0m in \u001b[0;36mraise_from_not_ok_status\u001b[0;34m(e, name)\u001b[0m\n\u001b[1;32m   6841\u001b[0m   \u001b[0mmessage\u001b[0m \u001b[0;34m=\u001b[0m \u001b[0me\u001b[0m\u001b[0;34m.\u001b[0m\u001b[0mmessage\u001b[0m \u001b[0;34m+\u001b[0m \u001b[0;34m(\u001b[0m\u001b[0;34m\" name: \"\u001b[0m \u001b[0;34m+\u001b[0m \u001b[0mname\u001b[0m \u001b[0;32mif\u001b[0m \u001b[0mname\u001b[0m \u001b[0;32mis\u001b[0m \u001b[0;32mnot\u001b[0m \u001b[0;32mNone\u001b[0m \u001b[0;32melse\u001b[0m \u001b[0;34m\"\"\u001b[0m\u001b[0;34m)\u001b[0m\u001b[0;34m\u001b[0m\u001b[0;34m\u001b[0m\u001b[0m\n\u001b[1;32m   6842\u001b[0m   \u001b[0;31m# pylint: disable=protected-access\u001b[0m\u001b[0;34m\u001b[0m\u001b[0;34m\u001b[0m\u001b[0;34m\u001b[0m\u001b[0m\n\u001b[0;32m-> 6843\u001b[0;31m   \u001b[0msix\u001b[0m\u001b[0;34m.\u001b[0m\u001b[0mraise_from\u001b[0m\u001b[0;34m(\u001b[0m\u001b[0mcore\u001b[0m\u001b[0;34m.\u001b[0m\u001b[0m_status_to_exception\u001b[0m\u001b[0;34m(\u001b[0m\u001b[0me\u001b[0m\u001b[0;34m.\u001b[0m\u001b[0mcode\u001b[0m\u001b[0;34m,\u001b[0m \u001b[0mmessage\u001b[0m\u001b[0;34m)\u001b[0m\u001b[0;34m,\u001b[0m \u001b[0;32mNone\u001b[0m\u001b[0;34m)\u001b[0m\u001b[0;34m\u001b[0m\u001b[0;34m\u001b[0m\u001b[0m\n\u001b[0m\u001b[1;32m   6844\u001b[0m   \u001b[0;31m# pylint: enable=protected-access\u001b[0m\u001b[0;34m\u001b[0m\u001b[0;34m\u001b[0m\u001b[0;34m\u001b[0m\u001b[0m\n\u001b[1;32m   6845\u001b[0m \u001b[0;34m\u001b[0m\u001b[0m\n",
      "\u001b[0;32m~/anaconda3/lib/python3.8/site-packages/six.py\u001b[0m in \u001b[0;36mraise_from\u001b[0;34m(value, from_value)\u001b[0m\n",
      "\u001b[0;31mResourceExhaustedError\u001b[0m: OOM when allocating tensor with shape[262144,128] and type float on /job:localhost/replica:0/task:0/device:GPU:0 by allocator GPU_0_bfc [Op:RandomUniform]"
     ]
    }
   ],
   "source": [
    "# LOAD VAE\n",
    "latent_dim=32;batch_size=64;disentangle=False;gamma=1\n",
    "encoder, decoder, vae = get_MRI_VAE_3D(input_shape=(64, 64, 64, 1), latent_dim=latent_dim, batch_size=batch_size, disentangle=disentangle, gamma=gamma)\n",
    "#fn = '/mmfs1/data/aglinska/tf_outputs/VAE/Jan12th_16d'\n",
    "#fn = '/mmfs1/data/aglinska/tf_outputs/VAE/Feb_26_32DB64G1'\n",
    "fn = '/mmfs1/data/aglinska/tf_outputs/VAE/Feb_26_32DB64G100_DisTrue'\n",
    "\n",
    "\n",
    "loss = list()\n",
    "print('ready')\n",
    "if os.path.exists(fn+'_loss.pickle'):\n",
    "    print('loading')\n",
    "    vae.load_weights(fn)\n",
    "    loss = pickle.load(open(fn+'_loss.pickle','rb'))"
   ]
  },
  {
   "cell_type": "code",
   "execution_count": null,
   "metadata": {},
   "outputs": [],
   "source": [
    "items = get_weights(fdir=None)"
   ]
  },
  {
   "cell_type": "code",
   "execution_count": null,
   "metadata": {},
   "outputs": [],
   "source": [
    "# LOAD CVAE\n",
    "latent_dim = 16;batch_size = 32;beta = 1;gamma = 100;disentangle = True\n",
    "cvae, z_encoder, s_encoder, cvae_decoder = get_MRI_CCVAE_3D(latent_dim=latent_dim,beta=beta, disentangle=disentangle, gamma=gamma, bias=True, batch_size = batch_size)\n",
    "loss = list()    \n",
    "\n",
    "fdir = '/mmfs1/data/aglinska/tf_outputs/CVAE/'\n",
    "\n",
    "#fn = f'{now().strftime(\"%b%d_%H%M\")}_D{latent_dim}B{beta}G{gamma}_D{disentangle}'\n",
    "#fn = 'Feb04_0524_D16B1G100_DTrue'\n",
    "#fn = os.path.join(fdir,'Mar18_1312_CVAE_D16B1G1_adam_rData2')\n",
    "fn = os.path.join(fdir,'Mar20_2125_CVAE_D16B1G1_ADAM_Bspline_r2_new')\n",
    "\n",
    "#fn = os.path.join(fdir,fn)\n",
    "#fn = '/mmfs1/data/aglinska/tf_outputs/CVAE/Feb23_1551_D16B1G100_DTrue'\n",
    "\n",
    "loss = pickle.load(open(fn+'_loss.pickle','rb'))\n",
    "cvae.load_weights(fn)"
   ]
  },
  {
   "cell_type": "markdown",
   "metadata": {},
   "source": [
    "### CHECK NETWORKS"
   ]
  },
  {
   "cell_type": "code",
   "execution_count": null,
   "metadata": {},
   "outputs": [],
   "source": [
    "sfari_td_batch = SFARI_data[sfari_subs_td,:,:,:][0:15,:,:,:]\n",
    "sfari_dupl_batch = SFARI_data[sfari_subs_dupl,:,:,:][0:15,:,:,:]\n",
    "sfari_del_batch = SFARI_data[sfari_subs_del,:,:,:][0:15,:,:,:]\n",
    "\n",
    "asd_idx,td_idx = get_batch_idx(df,batch_size = batch_size)\n",
    "DX_batch = np.take(ABIDE_data, indices=asd_idx, axis=0)\n",
    "TD_batch = np.take(ABIDE_data, indices=td_idx, axis=0)"
   ]
  },
  {
   "cell_type": "code",
   "execution_count": null,
   "metadata": {},
   "outputs": [],
   "source": [
    "def cvae_predict(im_in,idx=1):\n",
    "    # 0 for ASD, 1 for TD\n",
    "    #im_in = [DX_batch,TD_batch][idx]\n",
    "    _zeros = np.zeros(s_encoder(im_in)[2].shape)\n",
    "\n",
    "    v = 2\n",
    "    cvae_sal_vec = np.hstack((_zeros,s_encoder(im_in)[v]))\n",
    "    cvae_bg_vec = np.hstack((z_encoder(im_in)[v],_zeros))\n",
    "\n",
    "    if idx==1:\n",
    "        cvae_full_vec = np.hstack((z_encoder(im_in)[v],s_encoder(im_in)[v]))\n",
    "    elif idx==0:\n",
    "        cvae_full_vec = cvae_bg_vec\n",
    "        \n",
    "    out = cvae_decoder.predict(cvae_full_vec)\n",
    "    \n",
    "    return out[:,:,:,:,0]"
   ]
  },
  {
   "cell_type": "code",
   "execution_count": null,
   "metadata": {},
   "outputs": [],
   "source": [
    "asd_idx,td_idx = get_batch_idx(df,batch_size = batch_size)\n",
    "DX_batch = np.take(ABIDE_data, indices=asd_idx, axis=0)\n",
    "\n",
    "matIn = DX_batch\n",
    "n = matIn.shape[0]\n",
    "\n",
    "vae_out = decoder.predict(encoder.predict(matIn)[2])[:,:,:,:,0]\n",
    "cvae_out = cvae_predict(matIn,idx=1)\n",
    "\n",
    "vae_resid = (matIn-vae_out)**2\n",
    "cvae_resid = (matIn-cvae_out)**2\n",
    "\n",
    "vae_acc = np.array([vae_resid[i,:,:,:].sum() for i in range(n)])\n",
    "cvae_acc = np.array([cvae_resid[i,:,:,:].sum() for i in range(n)])\n",
    "\n",
    "xs = [0,1];\n",
    "m = [cvae_acc.mean(),vae_acc.mean()];\n",
    "se = [cvae_acc.std(),vae_acc.std()];\n",
    "plt.bar(xs,m);\n",
    "plt.errorbar(xs,m,se,fmt='r.');\n",
    "plt.xticks(xs,labels=['CVAE','VAE']);\n",
    "plt.title('Reconstruction accuracy')\n",
    "plt.ylabel('MSE')"
   ]
  },
  {
   "cell_type": "markdown",
   "metadata": {},
   "source": [
    "### ^VAE is a bit worse at reconstruction overall. This needs to be fixed. For these analyses here it doesnt matter much because the reconstructions are still fairly ok. And also - we're mostly interested in the difference between BG and SL space"
   ]
  },
  {
   "cell_type": "code",
   "execution_count": null,
   "metadata": {},
   "outputs": [],
   "source": [
    "plot_four(DX_batch, TD_batch, z_encoder, s_encoder,cvae_decoder,cvae,idx=0) # PLOT ASD SUBJECT\n",
    "plot_four(DX_batch, TD_batch, z_encoder, s_encoder,cvae_decoder,cvae,idx=1) # PLOT TD SUBJECT"
   ]
  },
  {
   "cell_type": "markdown",
   "metadata": {},
   "source": [
    "### CVAE Reconstructions look good"
   ]
  },
  {
   "cell_type": "code",
   "execution_count": null,
   "metadata": {},
   "outputs": [],
   "source": [
    "s = 1\n",
    "plt.figure(figsize=(9,3))\n",
    "plt.subplot(1,3,1);plt.imshow(matIn[s,:,:,40]);plt.title('input');plt.xticks([]);plt.yticks([]);\n",
    "plt.subplot(1,3,2);plt.imshow(cvae_out[s,:,:,40]);plt.title('CVAE recon.');plt.xticks([]);plt.yticks([]);\n",
    "plt.subplot(1,3,3);plt.imshow(vae_out[s,:,:,40]);plt.title('VAE recon.');plt.xticks([]);plt.yticks([]);"
   ]
  },
  {
   "cell_type": "markdown",
   "metadata": {},
   "source": [
    "### For CVAE and VAE reconstruct the brain images well"
   ]
  },
  {
   "cell_type": "code",
   "execution_count": null,
   "metadata": {},
   "outputs": [],
   "source": [
    "w = 0\n",
    "vae_space = dim_reduce(encoder.predict(ABIDE_data)[w])\n",
    "bg_space,sl_space = get_spaces(ABIDE_data, z_encoder, s_encoder, w=w, method='UMAP')"
   ]
  },
  {
   "cell_type": "markdown",
   "metadata": {},
   "source": [
    "### Distributions of ASD subjects in the three spaces. Evidence of clustering in BG, SL and VAE seem random (RSA results will show how they are organized)"
   ]
  },
  {
   "cell_type": "code",
   "execution_count": null,
   "metadata": {},
   "outputs": [],
   "source": [
    "vae_space = dim_reduce(encoder.predict(ABIDE_data)[0])\n",
    "bg_space,sl_space = get_spaces(ABIDE_data, z_encoder, s_encoder, w=0, method='UMAP')\n",
    "\n",
    "fig = cscatter([bg_space,sl_space,vae_space],v=patients,return_axes=True)\n",
    "#fig.savefig('/mmfs1/data/aglinska/figures/CVAE_clusters_nocolour.png')"
   ]
  },
  {
   "cell_type": "code",
   "execution_count": null,
   "metadata": {},
   "outputs": [],
   "source": [
    "v = (sfari_subs_del+sfari_subs_dupl)\n",
    "sfari_vae_space = dim_reduce(encoder.predict(SFARI_data[v,:,:,:])[0])\n",
    "sfari_bg_space,sfari_sl_space = get_spaces(SFARI_data[v,:,:,:], z_encoder, s_encoder, w=0, method='UMAP')\n",
    "\n",
    "from sklearn.cluster import KMeans\n",
    "from sklearn.metrics import adjusted_rand_score\n",
    "KM = KMeans(n_clusters=2)\n",
    "cid = KM.fit_predict(sfari_bg_space)\n",
    "fig = cscatter([sfari_bg_space,sfari_sl_space,sfari_vae_space],return_axes=True,c=cid)\n",
    "#fig.savefig('/mmfs1/data/aglinska/figures/SFARI_16pDEL_+DUPL_scatter.png')"
   ]
  },
  {
   "cell_type": "code",
   "execution_count": null,
   "metadata": {},
   "outputs": [],
   "source": [
    "# from sklearn.linear_model import LogisticRegression\n",
    "# from sklearn.model_selection import cross_val_score\n",
    "# from sklearn import svm\n",
    "\n",
    "# m1 = np.array(pd.get_dummies(dfc['ord_scanner']))\n",
    "# m2 = dfc['age_years'].values[:,np.newaxis]\n",
    "# m3 = np.array(pd.get_dummies(dfc['ord_sex']))\n",
    "# m4 = np.array(dfc['svip_neuro_exam.background.head_circum_z_score'].values[:,np.newaxis])\n",
    "# m5 = np.array([(SFARI_data[i,:,:,:]>0).sum()/(64**3) for i in range(SFARI_data.shape[0])])[v][:,np.newaxis]\n",
    "\n",
    "# x = sfari_bg_space\n",
    "# y = m1\n",
    "# clf = LogisticRegression(penalty='l2',dual=False,tol=0.0001,C=1.0,fit_intercept=True,intercept_scaling=1,class_weight='balanced',random_state=None,solver='lbfgs',max_iter=100,multi_class='auto',verbose=0,warm_start=False,n_jobs=None,l1_ratio=None)\n",
    "# scores = cross_val_score(clf, y, x_cid, cv=5)\n",
    "# scores.mean()\n",
    "\n",
    "# #fig = cscatter([sfari_bg_space,sfari_sl_space,sfari_vae_space],return_axes=True,c=dfc['ord_scanner'])"
   ]
  },
  {
   "cell_type": "code",
   "execution_count": null,
   "metadata": {},
   "outputs": [],
   "source": [
    "%%time\n",
    "v = patients\n",
    "rdm_bg = 1-make_RDM(bg_space[v,:],data_scale='ratio')\n",
    "rdm_sl = 1-make_RDM(sl_space[v,:],data_scale='ratio')\n",
    "rdm_vae = 1-make_RDM(encoder.predict(ABIDE_data)[2][v,:],data_scale='ratio')"
   ]
  },
  {
   "cell_type": "code",
   "execution_count": null,
   "metadata": {},
   "outputs": [],
   "source": [
    "f, ax = plt.subplots(1,3,figsize=(15,5))\n",
    "sns.heatmap(rdm_bg,cbar=[],ax=ax[0],xticklabels=[],yticklabels=[]);\n",
    "sns.heatmap(rdm_sl,cbar=[],ax=ax[1],xticklabels=[],yticklabels=[]);\n",
    "sns.heatmap(rdm_vae,cbar=[],ax=ax[2],xticklabels=[],yticklabels=[]);\n",
    "\n",
    "[ax[i].set_title(['BG','SL','VAE'][i]) for i in range(3)];\n",
    "\n",
    "plt.savefig('/mmfs1/data/aglinska/figures/' + 'RSASpaces' + '.png',dpi=300)"
   ]
  },
  {
   "cell_type": "code",
   "execution_count": null,
   "metadata": {},
   "outputs": [],
   "source": [
    "space_cmat = np.corrcoef(np.array([get_triu(x) for x in [rdm_bg,rdm_sl,rdm_vae]]));\n",
    "lbls= ['rdm_bg','rdm_sl','rdm_vae'];\n",
    "sns.heatmap(space_cmat,annot=True,cbar=[],xticklabels=lbls,yticklabels=lbls);"
   ]
  },
  {
   "cell_type": "markdown",
   "metadata": {},
   "source": [
    "### RSA spaces for BG, SL and VAE look ok -  and they are not correlated"
   ]
  },
  {
   "cell_type": "markdown",
   "metadata": {},
   "source": [
    "# RSA Analyses"
   ]
  },
  {
   "cell_type": "markdown",
   "metadata": {},
   "source": [
    "RSA analyses of common variables in ASD subjects. \n",
    "\n",
    "\n",
    "ADOS, diagnosis (autism, aspergers, PDD-NOS) and FIQ are explained by salient space\n",
    "\n",
    "\n",
    "Gender, scanner, scansite & age are pulled into background space\n",
    "\n",
    "nice!"
   ]
  },
  {
   "cell_type": "code",
   "execution_count": null,
   "metadata": {},
   "outputs": [],
   "source": []
  },
  {
   "cell_type": "code",
   "execution_count": null,
   "metadata": {},
   "outputs": [],
   "source": [
    "%time\n",
    "plt.figure(figsize=(15,15))\n",
    "default_keys = ['ADOS_Total','ADOS_Social','DSMIVTR','AgeAtScan','Sex','ScannerID','ScanSiteID','FIQ']\n",
    "scales_ = ['ratio','ratio','ordinal','ratio','ordinal','ordinal','ordinal','ratio','ratio','ratio']\n",
    "\n",
    "for i in range(8):\n",
    "    plt.subplot(4,4,i+1);\n",
    "    inVec = df[default_keys[i]].values[patients];\n",
    "    inVec = inVec[~np.isnan(inVec)];\n",
    "    this_rdm = make_RDM(inVec,data_scale=scales_[i])\n",
    "    sns.heatmap(this_rdm,cbar=[],xticklabels=[],yticklabels=[]);\n",
    "    plt.title(default_keys[i]);\n",
    "    \n",
    "#plt.savefig('/mmfs1/data/aglinska/figures/' + 'AbideModels' + '.png',dpi=300)"
   ]
  },
  {
   "cell_type": "code",
   "execution_count": null,
   "metadata": {},
   "outputs": [],
   "source": [
    "all_rsa_rsa_results = dict()"
   ]
  },
  {
   "cell_type": "code",
   "execution_count": null,
   "metadata": {},
   "outputs": [],
   "source": [
    "default_keys = ['ADOS_Total','ADOS_Social','DSMIVTR','AgeAtScan','Sex','ScannerID','ScanSiteID','FIQ']\n",
    "scales_ = ['ratio','ratio','ordinal','ratio','ordinal','ordinal','ordinal','ratio','ratio','ratio']\n",
    "for i in tqdm(range(len(default_keys))):\n",
    "    #ax = plt.subplot(4,4,i+1)\n",
    "    rsa_results = [fit_rsa(df[default_keys[i]].values,ABIDE_data,patients,[encoder,z_encoder,s_encoder],data_scale=scales_[i]) for _ in range(10)]\n",
    "    all_rsa_rsa_results[default_keys[i]] = rsa_results = np.array(rsa_results)"
   ]
  },
  {
   "cell_type": "markdown",
   "metadata": {},
   "source": [
    "Sanity check: common variables for TD subjects. Mostly represented in the background space."
   ]
  },
  {
   "cell_type": "code",
   "execution_count": null,
   "metadata": {},
   "outputs": [],
   "source": []
  },
  {
   "cell_type": "code",
   "execution_count": null,
   "metadata": {},
   "outputs": [],
   "source": [
    "import helper_funcs;reload(helper_funcs);from helper_funcs import *\n",
    "default_keys = ['ADOS_Total','ADOS_Social','DSMIVTR','AgeAtScan','Sex','ScannerID','ScanSiteID','FIQ']\n",
    "plt.figure(figsize=(15,15))\n",
    "for i in range(len(default_keys)):\n",
    "    ax = plt.subplot(4,4,i+1)\n",
    "    rsa_results = all_rsa_rsa_results[default_keys[i]].copy()\n",
    "    range_ = (all_rsa_rsa_results[default_keys[i]].min(),all_rsa_rsa_results[default_keys[i]].max())\n",
    "    #rsa_results[:,2] = 0;rsa_results[:,1] = 0\n",
    "    plot_rsa_results(rsa_results,ax=ax,title=default_keys[i],xlbls=['VAE','BG','SL'])\n",
    "    plt.ylim(range_[0]-.01,range_[1]+.01)\n",
    "    \n",
    "plt.savefig('/mmfs1/data/aglinska/figures/' + 'abidebarplots_asd' + '.png',dpi=300)"
   ]
  },
  {
   "cell_type": "code",
   "execution_count": null,
   "metadata": {},
   "outputs": [],
   "source": [
    "%%time\n",
    "default_keys = ['AgeAtScan','Sex','ScannerID','ScanSiteID','FIQ']\n",
    "scales_ = ['ratio','ratio','ordinal','ratio','ordinal','ordinal','ordinal','ratio','ratio','ratio']\n",
    "plt.figure(figsize=(15,15))\n",
    "\n",
    "for i in range(len(default_keys)):\n",
    "    ax = plt.subplot(4,4,i+1)\n",
    "    rsa_results = [fit_rsa(df[default_keys[i]].values,ABIDE_data,controls,[z_encoder,s_encoder,encoder],data_scale=scales_[i]) for _ in range(10)]\n",
    "    rsa_results = np.array(rsa_results)\n",
    "    plot_rsa_results(rsa_results,ax=ax,title=default_keys[i])\n",
    "    \n",
    "#plt.savefig('/mmfs1/data/aglinska/figures/' + 'abidebarplots_td' + '.png',dpi=300)"
   ]
  },
  {
   "cell_type": "code",
   "execution_count": null,
   "metadata": {},
   "outputs": [],
   "source": []
  },
  {
   "cell_type": "code",
   "execution_count": null,
   "metadata": {},
   "outputs": [],
   "source": []
  },
  {
   "cell_type": "code",
   "execution_count": null,
   "metadata": {},
   "outputs": [],
   "source": []
  },
  {
   "cell_type": "markdown",
   "metadata": {},
   "source": [
    "There are different ADOS and ADI measurements (see keys below). They index social impairements, communication aspects etc.\n",
    "\n",
    "ADOS is a questionaire administer to the child and indexes current behaviors. \n",
    "\n",
    "ADI is a questionaire (interview) administered to the parents and indexes both current and longer scale patterns of behavior. \n",
    "\n",
    "First - let's take the PCA of the ADOS and ADI scores and compute RDM based on PCs (similarity in component loading) and compare that RSA to background, salient and VAE spaces.\n",
    "\n",
    "I compute three PCs and plot one the ones that explain 25% or more variance. In the scores below, first PC explains 48% of variance, 2nd explains 32% and 3rd explains 7% so only the first two PCs are anlyzed. "
   ]
  },
  {
   "cell_type": "code",
   "execution_count": null,
   "metadata": {},
   "outputs": [],
   "source": [
    "#all_rsa_rsa_results"
   ]
  },
  {
   "cell_type": "code",
   "execution_count": null,
   "metadata": {},
   "outputs": [],
   "source": []
  },
  {
   "cell_type": "code",
   "execution_count": null,
   "metadata": {},
   "outputs": [],
   "source": [
    "# %%time\n",
    "# default_keys = ['SRS_awareness', 'SRS_cognition', 'SRS_communication',\n",
    "#        'SRS_motivation', 'SRS_manierisms']\n",
    "\n",
    "# scales_ = ['ratio','ratio','ratio','ratio','ratio','ratio','ratio','ratio',None,None,None,None,None,None,None,None,None,None,None,None,None,None]\n",
    "# plt.figure(figsize=(15,15))\n",
    "# for i in range(len(default_keys)):\n",
    "#     ax = plt.subplot(4,4,i+1)\n",
    "#     rsa_results = [fit_rsa(df[default_keys[i]].values,ABIDE_data,patients,[z_encoder,s_encoder,encoder],data_scale=scales_[i]) for _ in range(10)]\n",
    "#     rsa_results = np.array(rsa_results)\n",
    "#     plot_rsa_results(rsa_results,ax=ax,title=default_keys[i])\n",
    "# #plt.savefig('/mmfs1/data/aglinska/figures/' + 'abide_asd_barplots_other' + '.png',dpi=300)"
   ]
  },
  {
   "cell_type": "code",
   "execution_count": null,
   "metadata": {},
   "outputs": [],
   "source": []
  },
  {
   "cell_type": "code",
   "execution_count": null,
   "metadata": {},
   "outputs": [],
   "source": [
    "%%time\n",
    "keys = ['ADOS_Total','ADOS_Comm', 'ADOS_Social', 'ADOS_StBeh']\n",
    "pca_res = plot_pca_rsa(keys,df,ABIDE_data,patients,[encoder,z_encoder,s_encoder],xlbls=['VAE','BG','SL'],thresh=.1)\n",
    "all_rsa_rsa_results['ADOS_PC1'] = pca_res[0]\n",
    "# all_rsa_rsa_results['ADI_PC2'] = pca_srs[1]"
   ]
  },
  {
   "cell_type": "code",
   "execution_count": null,
   "metadata": {},
   "outputs": [],
   "source": [
    "%%time\n",
    "keys = ['ADI_R_SocialTotal', 'ADI_R_VerbalTotal', 'ADI_R_RRB','ADI_R_Onset Total']\n",
    "pca_srs = plot_pca_rsa(keys,df,ABIDE_data,patients,[encoder,z_encoder,s_encoder],xlbls=['VAE','BG','SL'],thresh=.25)\n",
    "all_rsa_rsa_results['ADI_PC1'] = pca_srs[0]\n",
    "#all_rsa_rsa_results['ADI_PC2'] = pca_srs[1]"
   ]
  },
  {
   "cell_type": "code",
   "execution_count": null,
   "metadata": {},
   "outputs": [],
   "source": [
    "# %%time\n",
    "# keys = ['SRS_awareness', 'SRS_cognition', 'SRS_communication','SRS_motivation', 'SRS_manierisms']\n",
    "# pca_result = plot_pca_rsa(keys,df,ABIDE_data,patients,[encoder,z_encoder,s_encoder],xlbls=['VAE','BG','SL'],thresh=.25)\n",
    "# all_rsa_rsa_results['SRS_PCA'] = pca_result[0]"
   ]
  },
  {
   "cell_type": "code",
   "execution_count": null,
   "metadata": {},
   "outputs": [],
   "source": [
    "# %%time\n",
    "# keys =['FIQ', 'VIQ', 'PIQ']\n",
    "# pca_result = plot_pca_rsa(keys,df,ABIDE_data,patients,[encoder,z_encoder,s_encoder],xlbls=['VAE','BG','SL'],thresh=.25)\n",
    "# all_rsa_rsa_results['IQ_PCA'] = pca_result"
   ]
  },
  {
   "cell_type": "code",
   "execution_count": null,
   "metadata": {},
   "outputs": [],
   "source": [
    "%%time\n",
    "keys = ['ADOSGotham_SocAffect', 'ADOSGotham_Rest-RepBeh','ADOSGotham_Total', 'ADOSGotham_Severity']\n",
    "pca_result = plot_pca_rsa(keys,df,ABIDE_data,patients,[encoder,z_encoder,s_encoder],xlbls=['VAE','BG','SL'])\n",
    "all_rsa_rsa_results['ADOS_gotham_PC1'] = pca_result[0]"
   ]
  },
  {
   "cell_type": "code",
   "execution_count": null,
   "metadata": {},
   "outputs": [],
   "source": []
  },
  {
   "cell_type": "markdown",
   "metadata": {},
   "source": [
    "### Seems like the salient space is sensitive to differences in ADOS scores (across both PCs). The negative values for BG in 1st PC analyses are hard to interpret (ASD subjects that are different in ADOS RDM are similar in BG rdm)"
   ]
  },
  {
   "cell_type": "markdown",
   "metadata": {},
   "source": [
    "And here are the model fits for individual ADOS and ADI measurements. These would probably go in the appendix"
   ]
  },
  {
   "cell_type": "code",
   "execution_count": null,
   "metadata": {},
   "outputs": [],
   "source": [
    "%%time\n",
    "default_keys = ['ADOS_Total','ADOS_Social','DSMIVTR','ADI_R_SocialTotal','ADI_R_VerbalTotal','ADI_R_RRB','ADI_R_Onset Total','ADOS_Comm','ADOS_Social','ADOS_StBeh','ADOSGotham_SocAffect', 'ADOSGotham_Rest-RepBeh',\n",
    "       'ADOSGotham_Total', 'ADOSGotham_Severity']\n",
    "\n",
    "scales_ = ['ratio','ratio','ordinal','ratio','ratio','ratio','ratio','ratio',None,None,None,None,None,None,None,None,None,None,None,None,None,None]\n",
    "plt.figure(figsize=(15,15))\n",
    "for i in range(len(default_keys)):\n",
    "    ax = plt.subplot(4,4,i+1)\n",
    "    rsa_results = [fit_rsa(df[default_keys[i]].values,ABIDE_data,patients,[z_encoder,s_encoder,encoder],data_scale=scales_[i]) for _ in range(10)]\n",
    "    rsa_results = np.array(rsa_results)\n",
    "    plot_rsa_results(rsa_results,ax=ax,title=default_keys[i])\n",
    "    \n",
    "plt.savefig('/mmfs1/data/aglinska/figures/' + 'abide_asd_barplots_other' + '.png',dpi=300)"
   ]
  },
  {
   "cell_type": "markdown",
   "metadata": {},
   "source": [
    "# VINELAND scores\n",
    "\n",
    "\"The Vineland Adaptive Behavior Scales (VABS) (Vineland-3) is a standardized assessment tool that utilizes semi-structured interview to measure adaptive behavior and support the diagnosis of intellectual and developmental disabilities, autism, and developmental delays. It may be used to determine eligibility or qualification for special services, plan rehabilitation or intervention programs, and track and report progress\"\n",
    "\n",
    "\n",
    "[link about Vineland](https://www.pearsonassessments.com/store/usassessments/en/Store/Professional-Assessments/Behavior/Adaptive/Vineland-Adaptive-Behavior-Scales-%7C-Third-Edition/p/100001622.html)"
   ]
  },
  {
   "cell_type": "code",
   "execution_count": null,
   "metadata": {},
   "outputs": [],
   "source": [
    "# There are multiple measures (aspects) of VINELAND scores (see keys below). \n",
    "keys = ['VINELAND_Receptive_Vscore',\n",
    " 'VINELAND_Expressive_Vscore',\n",
    " 'VINELAND_Written_Vscore',\n",
    " 'VINELAND_CommunicationStandard',\n",
    " 'VINELAND_Personal_Vscore',\n",
    " 'VINELAND_Domestic_Vscore',\n",
    " 'VINELAND_Community_Vscore',\n",
    " 'VINELAND_DaylyLiving_Standard',\n",
    " 'VINELAND_Interpersonal_Vscore',\n",
    " 'VINELAND_Play_Vscore',\n",
    " 'VINELAND_Coping_Vscore',\n",
    " 'VINELAND_Socical_Standard',\n",
    " 'VINELAND_Domestic_Standard',\n",
    " 'VINELAND_ABC_Standard',\n",
    " 'VINELAND_Informant']"
   ]
  },
  {
   "cell_type": "markdown",
   "metadata": {},
   "source": [
    "First - let's take the PCA of the vineland scores and compute RDM (similarity in component loading) and compare that RSA to background, salient and VAE spaces.\n",
    "\n",
    "I compute three PCs and plot one the ones that explain 25% or more variance. In the scores below, first PC explains 93% of variance, 2nd explains 2% and 3rd explains 1.7% so only the first PC is anlyzed. "
   ]
  },
  {
   "cell_type": "code",
   "execution_count": null,
   "metadata": {},
   "outputs": [],
   "source": [
    "pca_vineland_asd = plot_pca_rsa(keys,df,ABIDE_data,patients,[encoder,z_encoder,s_encoder],xlbls=['VAE','BG','SL'])\n",
    "all_rsa_rsa_results['Vineland_PC1'] = pca_result[0]\n",
    "# ASD subjects\n",
    "# Matrix shows similarity in Vineland scores between participants with ASD\n",
    "# Bar graphs shows model fit to background, salient and VAE space RDMs\n",
    "# ASD participants that differ in Vineland scores also differ in the salient space embedding"
   ]
  },
  {
   "cell_type": "markdown",
   "metadata": {},
   "source": [
    "Vineland scores for TD subjects: no effect in salient space"
   ]
  },
  {
   "cell_type": "code",
   "execution_count": null,
   "metadata": {},
   "outputs": [],
   "source": [
    "pca_vineland_td = plot_pca_rsa(keys,df,ABIDE_data,controls,[z_encoder,s_encoder,encoder])\n",
    "# Vineland scores for controls. No effects"
   ]
  },
  {
   "cell_type": "markdown",
   "metadata": {},
   "source": [
    "### Individual vineland measures fit to data\n",
    "\n",
    "For visualization - instead of doing PCA let's run model fit for individual scores. This is something for the appendix"
   ]
  },
  {
   "cell_type": "code",
   "execution_count": null,
   "metadata": {},
   "outputs": [],
   "source": []
  },
  {
   "cell_type": "code",
   "execution_count": null,
   "metadata": {},
   "outputs": [],
   "source": [
    "%%time\n",
    "default_keys = ['VINELAND_Receptive_Vscore',\n",
    " 'VINELAND_Expressive_Vscore',\n",
    " 'VINELAND_Written_Vscore',\n",
    " 'VINELAND_CommunicationStandard',\n",
    " 'VINELAND_Personal_Vscore',\n",
    " 'VINELAND_Domestic_Vscore',\n",
    " 'VINELAND_Community_Vscore',\n",
    " 'VINELAND_DaylyLiving_Standard',\n",
    " 'VINELAND_Interpersonal_Vscore',\n",
    " 'VINELAND_Play_Vscore',\n",
    " 'VINELAND_Coping_Vscore',\n",
    " 'VINELAND_Socical_Standard',\n",
    " 'VINELAND_Domestic_Standard',\n",
    " 'VINELAND_ABC_Standard',\n",
    " 'VINELAND_Informant']\n",
    "\n",
    "scales_ = [None,None,None,None,None,None,None,None,None,None,None,None,None,None,None,None,None,None,None,None,None]\n",
    "plt.figure(figsize=(15,15))\n",
    "#[plt.subplot(4,4,i+1) for i in range(8)];\n",
    "\n",
    "for i in range(len(default_keys)):\n",
    "    ax = plt.subplot(4,4,i+1)\n",
    "    rsa_results = [fit_rsa(df[default_keys[i]].values,ABIDE_data,patients,[z_encoder,s_encoder,encoder],data_scale=scales_[i]) for _ in range(10)]\n",
    "    rsa_results = np.array(rsa_results)\n",
    "    all_rsa_rsa_results[default_keys[i]]=rsa_results\n",
    "    plot_rsa_results(rsa_results,ax=ax,title=default_keys[i])"
   ]
  },
  {
   "cell_type": "markdown",
   "metadata": {},
   "source": [
    "### WISC4 is the Wechsler Intelligence Scale for Children: only PCA results (for computational convenience)"
   ]
  },
  {
   "cell_type": "code",
   "execution_count": null,
   "metadata": {},
   "outputs": [],
   "source": []
  },
  {
   "cell_type": "code",
   "execution_count": null,
   "metadata": {},
   "outputs": [],
   "source": [
    "%%time\n",
    "keys = ['WISC4 VCI Verbal Comprehension Index',\n",
    "       'WISC4 PRI Perceptual Reasoning Index',\n",
    "       'WISC4 WMI Working Memory Index', 'WISC4 PSI Processing Speed Index',\n",
    "       'WISC4 Sim Scaled', 'WISC4 Vocab Scaled', 'WISC4 Info Scaled',\n",
    "       'WISC4 Blk Dsn Scaled', 'WISC4 Pic Con Scaled', 'WISC4 Matrix Scaled',\n",
    "       'WISC4 Dig Span Scaled', 'WISC4 Let Num Scaled', 'WISC4 Coding Scaled',\n",
    "       'WISC4 Sym Scaled']\n",
    "\n",
    "wisc_res_ASD = plot_pca_rsa(keys,df,ABIDE_data,patients,[encoder,z_encoder,s_encoder],xlbls=['VAE','BG','SL'])\n",
    "all_rsa_rsa_results['WISC_PC1'] = wisc_res_ASD[0]"
   ]
  },
  {
   "cell_type": "markdown",
   "metadata": {},
   "source": [
    "Overall - background space is sensitive to differences in common confounds and salient space is sensitive to ADOS and IQ scores of patients"
   ]
  },
  {
   "cell_type": "code",
   "execution_count": null,
   "metadata": {},
   "outputs": [],
   "source": [
    "# %%time \n",
    "# keys = ['WISC4 VCI Verbal Comprehension Index',\n",
    "#        'WISC4 PRI Perceptual Reasoning Index',\n",
    "#        'WISC4 WMI Working Memory Index', 'WISC4 PSI Processing Speed Index',\n",
    "#        'WISC4 Sim Scaled', 'WISC4 Vocab Scaled', 'WISC4 Info Scaled',\n",
    "#        'WISC4 Blk Dsn Scaled', 'WISC4 Pic Con Scaled', 'WISC4 Matrix Scaled',\n",
    "#        'WISC4 Dig Span Scaled', 'WISC4 Let Num Scaled', 'WISC4 Coding Scaled',\n",
    "#        'WISC4 Sym Scaled']\n",
    "\n",
    "# wisc_res_TD = plot_pca_rsa(keys,df,ABIDE_data,controls,[z_encoder,s_encoder,encoder])"
   ]
  },
  {
   "cell_type": "code",
   "execution_count": null,
   "metadata": {},
   "outputs": [],
   "source": [
    "PCA(n_components=1).fit_transform"
   ]
  },
  {
   "cell_type": "code",
   "execution_count": null,
   "metadata": {},
   "outputs": [],
   "source": [
    "from plotnine import *\n",
    "from plotnine import geoms"
   ]
  },
  {
   "cell_type": "code",
   "execution_count": null,
   "metadata": {},
   "outputs": [],
   "source": [
    "#mat = np.array([wisc_res_TD[0],wisc_res_ASD[0]])\n",
    "mat = np.array([pca_vineland_td[0],pca_vineland_asd[0]])\n",
    "mat = np.swapaxes(mat,0,1)\n",
    "mat.shape"
   ]
  },
  {
   "cell_type": "code",
   "execution_count": null,
   "metadata": {},
   "outputs": [],
   "source": [
    "columns = ['fit','group','enc']\n",
    "lbls = [['TD','ASD'],['vae','bg','sl']]"
   ]
  },
  {
   "cell_type": "code",
   "execution_count": null,
   "metadata": {},
   "outputs": [],
   "source": [
    "l = np.zeros(mat.shape)\n",
    "l = np.array(l, dtype='object')\n",
    "l[:,0,:] = 'TD'\n",
    "l[:,1,:] = 'ASD'\n",
    "g = l.flatten()"
   ]
  },
  {
   "cell_type": "code",
   "execution_count": null,
   "metadata": {},
   "outputs": [],
   "source": [
    "l = np.zeros(mat.shape)\n",
    "l = np.array(l, dtype='object')\n",
    "l[:,:,0] = 'VAE'\n",
    "l[:,:,1] = 'BG'\n",
    "l[:,:,2] = 'SL'\n",
    "e = l.flatten()"
   ]
  },
  {
   "cell_type": "code",
   "execution_count": null,
   "metadata": {},
   "outputs": [],
   "source": [
    "myDF = pd.DataFrame(columns=columns)\n",
    "myDF['fit'] = mat.flatten()\n",
    "myDF['group'] = g.flatten()\n",
    "myDF['enc'] = e.flatten()"
   ]
  },
  {
   "cell_type": "code",
   "execution_count": null,
   "metadata": {},
   "outputs": [],
   "source": [
    "# Draw a nested barplot by species and sex\n",
    "#plot_df = fit_df[fit_df[\"enc\"].isin(['sl','bg'])]\n",
    "plot_df = myDF\n",
    "\n",
    "g = sns.catplot(\n",
    "    data=plot_df, kind=\"bar\",\n",
    "    x=\"enc\", y=\"fit\", hue=\"group\",\n",
    "    ci=\"sd\", palette=\"dark\", alpha=.6, height=6\n",
    ")\n",
    "\n",
    "#g.despine(left=True)\n",
    "g.set_axis_labels(\"\", \"model fit\")\n",
    "g.legend.set_title(\"\")\n",
    "plt.title('VINELAND PCA')"
   ]
  },
  {
   "cell_type": "code",
   "execution_count": null,
   "metadata": {},
   "outputs": [],
   "source": []
  },
  {
   "cell_type": "code",
   "execution_count": null,
   "metadata": {},
   "outputs": [],
   "source": []
  },
  {
   "cell_type": "code",
   "execution_count": null,
   "metadata": {},
   "outputs": [],
   "source": []
  },
  {
   "cell_type": "code",
   "execution_count": null,
   "metadata": {},
   "outputs": [],
   "source": []
  },
  {
   "cell_type": "code",
   "execution_count": null,
   "metadata": {},
   "outputs": [],
   "source": [
    "plt.figure(figsize=(15,15))\n",
    "\n",
    "default_keys = ['best_full_scale_iq','rrb_css','sa_css','age_years', 'ord_diagnosis',\n",
    "       'ord_gene', 'ord_sex','ord_scanner']\n",
    "scales_ = [None,None,None,None,'ordinal','ordinal','ordinal','ordinal']\n",
    "\n",
    "for i in range(8):\n",
    "    plt.subplot(4,4,i+1);\n",
    "    inVec = dfs[default_keys[i]].values[(sfari_subs_del+sfari_subs_dupl)];\n",
    "    inVec = inVec[~np.isnan(inVec)];\n",
    "    sns.heatmap(make_RDM(inVec,data_scale=scales_[i]),cbar=[],xticklabels=[],yticklabels=[]);\n",
    "    plt.title(default_keys[i]);\n",
    "    \n",
    "plt.savefig('/mmfs1/data/aglinska/figures/' + 'sfari_models' + '.png',dpi=300)"
   ]
  },
  {
   "cell_type": "code",
   "execution_count": null,
   "metadata": {},
   "outputs": [],
   "source": []
  },
  {
   "cell_type": "code",
   "execution_count": null,
   "metadata": {},
   "outputs": [],
   "source": []
  },
  {
   "cell_type": "code",
   "execution_count": null,
   "metadata": {},
   "outputs": [],
   "source": [
    "default_keys = ['age_months','best_full_scale_iq','rrb_css','sa_css','age_years', 'ord_diagnosis',\n",
    "       'ord_gene', 'ord_sex','ord_scanner']\n",
    "scales_ = [None,None,None,None,None,'ordinal','ordinal','ordinal','ordinal']\n",
    "\n",
    "for i in tqdm(range(len(default_keys))):\n",
    "    rsa_results = [fit_rsa(dfs[default_keys[i]].values,SFARI_data,(sfari_subs_del+sfari_subs_dupl),[encoder,z_encoder,s_encoder],data_scale=scales_[i]) for _ in range(10)]\n",
    "    rsa_results = np.array(rsa_results)\n",
    "    all_rsa_rsa_results['sfari_' + default_keys[i]] = rsa_results"
   ]
  },
  {
   "cell_type": "code",
   "execution_count": null,
   "metadata": {},
   "outputs": [],
   "source": [
    "\n",
    "default_keys = ['age_months','best_full_scale_iq','rrb_css','sa_css','age_years', 'ord_diagnosis',\n",
    "       'ord_gene', 'ord_sex','ord_scanner']\n",
    "\n",
    "plt.figure(figsize=(15,15))\n",
    "for i in range(len(default_keys)):\n",
    "    ax = plt.subplot(4,4,i+1)\n",
    "    rsa_results = all_rsa_rsa_results['sfari_' + default_keys[i]].copy();range_ = (rsa_results.min(),rsa_results.max())\n",
    "    #rsa_results[:,1] = 0;rsa_results[:,2] = 0\n",
    "    \n",
    "    plot_rsa_results(rsa_results,ax=ax,title=default_keys[i],xlbls=['VAE','BG','SL'])   \n",
    "    plt.ylim(range_[0]-.01,range_[1]+.01)\n",
    "    plt.subplots_adjust(hspace=None,wspace=.3)\n",
    "    \n",
    "#plt.savefig('/mmfs1/data/aglinska/figures/' + 'sfari_barplots_vae' + '.png',dpi=300)"
   ]
  },
  {
   "cell_type": "code",
   "execution_count": null,
   "metadata": {},
   "outputs": [],
   "source": [
    "#all_rsa_rsa_results[keys[i]] = all_rsa_rsa_results[keys[i]][0]"
   ]
  },
  {
   "cell_type": "code",
   "execution_count": null,
   "metadata": {},
   "outputs": [],
   "source": [
    "keys = ['ADOS_Total',\n",
    " 'ADOS_Social',\n",
    " 'DSMIVTR',\n",
    " 'AgeAtScan',\n",
    " 'Sex',\n",
    " 'ScannerID',\n",
    " 'ScanSiteID',\n",
    " 'FIQ',\n",
    " 'WISC_PC1',\n",
    " 'ADI_PC1',\n",
    " 'ADOS_PC1',\n",
    " 'Vineland_PC1',\n",
    "'ADOS_gotham_PC1']"
   ]
  },
  {
   "cell_type": "code",
   "execution_count": null,
   "metadata": {},
   "outputs": [],
   "source": [
    "#keys = ['ADOS_Total', 'ADOS_Social', 'DSMIVTR', 'AgeAtScan', 'Sex', 'ScannerID', 'ScanSiteID', 'FIQ','WISC_PC1']\n",
    "#keys = ['sfari_age_months', 'sfari_best_full_scale_iq', 'sfari_rrb_css', 'sfari_sa_css', 'sfari_age_years', 'sfari_ord_diagnosis', 'sfari_ord_gene', 'sfari_ord_sex', 'sfari_ord_scanner']\n",
    "#keys = list(all_rsa_rsa_results.keys())"
   ]
  },
  {
   "cell_type": "code",
   "execution_count": null,
   "metadata": {},
   "outputs": [],
   "source": [
    "n = len(keys)\n",
    "m = np.array([(all_rsa_rsa_results[keys[i]][:,2]-all_rsa_rsa_results[keys[i]][:,1]).mean() for i in range(n)])\n",
    "se = np.array([(all_rsa_rsa_results[keys[i]][:,2]-all_rsa_rsa_results[keys[i]][:,1]).std() for i in range(n)])"
   ]
  },
  {
   "cell_type": "code",
   "execution_count": null,
   "metadata": {},
   "outputs": [],
   "source": [
    "# n = len(keys)\n",
    "# m = np.array([(all_rsa_rsa_results[keys[i]][:,2]).mean() for i in range(n)])\n",
    "# se = np.array([(all_rsa_rsa_results[keys[i]][:,2]).std() for i in range(n)])"
   ]
  },
  {
   "cell_type": "code",
   "execution_count": null,
   "metadata": {},
   "outputs": [],
   "source": [
    "plt.figure(figsize=(5,7))\n",
    "ys = np.arange(len(m));\n",
    "width = np.array(m);\n",
    "lbls = np.array(keys);\n",
    "ord_ = np.argsort(m)\n",
    "\n",
    "width = width[ord_]\n",
    "lbls = lbls[ord_]\n",
    "plt.barh(y=ys, width=width,xerr=se[ord_],height=0.8, left=None, align='center');\n",
    "plt.xlim(-.25,.25);\n",
    "plt.yticks(ys,labels=lbls);\n",
    "zp = np.nonzero(width>0)[0][0]-.55\n",
    "#plt.plot((-.5,.5),(zp,zp),'k.-',alpha=.5)"
   ]
  },
  {
   "cell_type": "code",
   "execution_count": null,
   "metadata": {},
   "outputs": [],
   "source": []
  },
  {
   "cell_type": "code",
   "execution_count": null,
   "metadata": {},
   "outputs": [],
   "source": [
    "#cd '/mmfs1/data/aglinska/'"
   ]
  },
  {
   "cell_type": "code",
   "execution_count": null,
   "metadata": {},
   "outputs": [],
   "source": []
  },
  {
   "cell_type": "code",
   "execution_count": null,
   "metadata": {},
   "outputs": [],
   "source": []
  },
  {
   "cell_type": "code",
   "execution_count": null,
   "metadata": {},
   "outputs": [],
   "source": []
  },
  {
   "cell_type": "code",
   "execution_count": null,
   "metadata": {},
   "outputs": [],
   "source": []
  }
 ],
 "metadata": {
  "kernelspec": {
   "display_name": "Python 3",
   "language": "python",
   "name": "python3"
  },
  "language_info": {
   "codemirror_mode": {
    "name": "ipython",
    "version": 3
   },
   "file_extension": ".py",
   "mimetype": "text/x-python",
   "name": "python",
   "nbconvert_exporter": "python",
   "pygments_lexer": "ipython3",
   "version": "3.8.5"
  }
 },
 "nbformat": 4,
 "nbformat_minor": 4
}

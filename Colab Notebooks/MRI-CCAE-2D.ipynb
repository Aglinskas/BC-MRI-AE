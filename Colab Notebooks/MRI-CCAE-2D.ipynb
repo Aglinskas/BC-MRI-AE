{
 "cells": [
  {
   "cell_type": "code",
   "execution_count": 36,
   "metadata": {
    "colab": {
     "base_uri": "https://localhost:8080/"
    },
    "executionInfo": {
     "elapsed": 823,
     "status": "ok",
     "timestamp": 1604915533238,
     "user": {
      "displayName": "Aidas Aglinskas",
      "photoUrl": "",
      "userId": "17395860064084454693"
     },
     "user_tz": -60
    },
    "id": "bjXikoR3dceV",
    "outputId": "8fdd8503-f6f5-4760-f8d7-12e2e1d3c049"
   },
   "outputs": [
    {
     "name": "stdout",
     "output_type": "stream",
     "text": [
      "0:00:00.003905\n"
     ]
    }
   ],
   "source": [
    "%matplotlib inline\n",
    "from datetime import datetime;now = datetime.now;t00 = now()\n",
    "import os\n",
    "from matplotlib import pyplot as plt\n",
    "import seaborn as sns\n",
    "\n",
    "import numpy as np\n",
    "import pandas as pd\n",
    "from tqdm import tqdm\n",
    "\n",
    "from contrastive_vae.celeb_utils import get_celeb_vae\n",
    "from contrastive_vae.celeb_utils import get_celeb_cvae\n",
    "\n",
    "import pandas as pd\n",
    "from sklearn.metrics import silhouette_score\n",
    "\n",
    "print(now()-t00)"
   ]
  },
  {
   "cell_type": "code",
   "execution_count": 2,
   "metadata": {
    "colab": {
     "base_uri": "https://localhost:8080/"
    },
    "executionInfo": {
     "elapsed": 20417,
     "status": "ok",
     "timestamp": 1604915552839,
     "user": {
      "displayName": "Aidas Aglinskas",
      "photoUrl": "",
      "userId": "17395860064084454693"
     },
     "user_tz": -60
    },
    "id": "a2DTKRkJE-Ws",
    "outputId": "67582e79-1a6f-44d4-a070-1dcbcacd9fd0"
   },
   "outputs": [
    {
     "name": "stdout",
     "output_type": "stream",
     "text": [
      "Mounted at /content/drive\n",
      "done, mounted\n",
      "2020-11-09 09:52:32.104387\n"
     ]
    }
   ],
   "source": [
    "from google.colab import drive\n",
    "drive.mount(\"/content/drive\")\n",
    "print('done, mounted')\n",
    "print(now())"
   ]
  },
  {
   "cell_type": "code",
   "execution_count": null,
   "metadata": {},
   "outputs": [],
   "source": [
    "cd /content/drive/My Drive/BC-MRI-AE/"
   ]
  },
  {
   "cell_type": "code",
   "execution_count": 3,
   "metadata": {
    "executionInfo": {
     "elapsed": 20412,
     "status": "ok",
     "timestamp": 1604915552841,
     "user": {
      "displayName": "Aidas Aglinskas",
      "photoUrl": "",
      "userId": "17395860064084454693"
     },
     "user_tz": -60
    },
    "id": "q3XDSirFE-am"
   },
   "outputs": [],
   "source": [
    "# def load_MR_data(indir):\n",
    "    \n",
    "#     files = [file for file in os.listdir(indir) if '.npy' in file]; files.sort()\n",
    "#     data = np.array([np.load(os.path.join(indir,file)) for file in files])\n",
    "#     print(data.shape)\n",
    "#     return data"
   ]
  },
  {
   "cell_type": "code",
   "execution_count": 7,
   "metadata": {
    "colab": {
     "base_uri": "https://localhost:8080/"
    },
    "executionInfo": {
     "elapsed": 285666,
     "status": "ok",
     "timestamp": 1604915818100,
     "user": {
      "displayName": "Aidas Aglinskas",
      "photoUrl": "",
      "userId": "17395860064084454693"
     },
     "user_tz": -60
    },
    "id": "3Cg_5_W_E-c5",
    "outputId": "dda59514-50dc-4611-a4fa-34a191592d87"
   },
   "outputs": [
    {
     "name": "stdout",
     "output_type": "stream",
     "text": [
      "started 2020-11-09 23:12:09.641945\n",
      "(1060, 64, 64, 64)\n",
      "(1060, 64, 64, 64)\n",
      "finished in 0:00:06.299125\n"
     ]
    }
   ],
   "source": [
    "# t0 = now();print(f\"started {t0}\")\n",
    "\n",
    "# #SFARI_data = load_MR_data('./Data/SFARI-64iso-normed/')\n",
    "# ABIDE_data = load_MR_data('./Data/ABIDE-64iso-normed/')\n",
    "\n",
    "# print(ABIDE_data.shape)\n",
    "# print(f\"finished in {now()-t0}\")"
   ]
  },
  {
   "cell_type": "code",
   "execution_count": 132,
   "metadata": {},
   "outputs": [],
   "source": [
    "arr = np.load('./Data/ABIDE-Anat-64iso.npz')\n",
    "ABIDE_data = arr['data']\n",
    "ABIDE_subs = arr['subs']\n",
    "nsubs = ABIDE_data.shape[0]\n",
    "[arr.shape for arr in [ABIDE_subs,ABIDE_data]]"
   ]
  },
  {
   "cell_type": "code",
   "execution_count": 138,
   "metadata": {},
   "outputs": [],
   "source": [
    "aa = np.array([ABIDE_data[s,:,:,:].sum() for s in range(ABIDE_data.shape[0])])<5000\n",
    "ABIDE_data = ABIDE_data[~aa,:,:,:]\n",
    "ABIDE_subs = ABIDE_subs[~aa]\n",
    "[arr.shape for arr in [ABIDE_subs,ABIDE_data]]"
   ]
  },
  {
   "cell_type": "code",
   "execution_count": null,
   "metadata": {},
   "outputs": [],
   "source": []
  },
  {
   "cell_type": "code",
   "execution_count": 143,
   "metadata": {
    "colab": {
     "base_uri": "https://localhost:8080/",
     "height": 184
    },
    "executionInfo": {
     "elapsed": 286983,
     "status": "ok",
     "timestamp": 1604915819424,
     "user": {
      "displayName": "Aidas Aglinskas",
      "photoUrl": "",
      "userId": "17395860064084454693"
     },
     "user_tz": -60
    },
    "id": "ScuYMrjLpo-p",
    "outputId": "db1400cc-99e6-4e34-f8fb-e329612da5b8"
   },
   "outputs": [
    {
     "name": "stdout",
     "output_type": "stream",
     "text": [
      "(982, 28, 28, 3)\n"
     ]
    },
    {
     "data": {
      "text/plain": [
       "<matplotlib.image.AxesImage at 0x7fc7a6dd0b50>"
      ]
     },
     "execution_count": 143,
     "metadata": {},
     "output_type": "execute_result"
    },
    {
     "data": {
      "image/png": "[encoded data removed]",
      "text/plain": [
       "<Figure size 432x288 with 3 Axes>"
      ]
     },
     "metadata": {
      "needs_background": "light"
     },
     "output_type": "display_data"
    }
   ],
   "source": [
    "# BUILD DATA\n",
    "import cv2 \n",
    "\n",
    "nsubs = ABIDE_data.shape[0]\n",
    "mid_idx = np.array([ABIDE_data[s,:,:,:].sum(axis=0).sum(axis=0).argmax() for s in range(nsubs)])\n",
    "ABIDE_data_temp = np.array([ABIDE_data[s,:,:,mid_idx[s]-1:mid_idx[s]+2] for s in range(nsubs)])\n",
    "\n",
    "targSize = (28,28)\n",
    "\n",
    "ABIDE_data_3d = np.zeros((ABIDE_data_temp.shape[0],targSize[0],targSize[1],ABIDE_data_temp.shape[-1]))\n",
    "\n",
    "for s in range(ABIDE_data_3d.shape[0]):\n",
    "    for c in range(ABIDE_data_3d.shape[-1]):\n",
    "        ABIDE_data_3d[s,:,:,c] = cv2.resize(ABIDE_data_temp[s,:,:,c],targSize)\n",
    "\n",
    "\n",
    "print(ABIDE_data_3d.shape)\n",
    "\n",
    "plt.subplot(1,3,1)\n",
    "plt.imshow(ABIDE_data_3d[0,:,:,0])\n",
    "\n",
    "plt.subplot(1,3,2)\n",
    "plt.imshow(ABIDE_data_3d[60,:,:,0])\n",
    "\n",
    "plt.subplot(1,3,3)\n",
    "plt.imshow(ABIDE_data_3d[150,:,:,0])"
   ]
  },
  {
   "cell_type": "code",
   "execution_count": 144,
   "metadata": {
    "executionInfo": {
     "elapsed": 289233,
     "status": "ok",
     "timestamp": 1604915821676,
     "user": {
      "displayName": "Aidas Aglinskas",
      "photoUrl": "",
      "userId": "17395860064084454693"
     },
     "user_tz": -60
    },
    "id": "YK6plvnXppA3"
   },
   "outputs": [
    {
     "data": {
      "text/plain": [
       "982"
      ]
     },
     "execution_count": 144,
     "metadata": {},
     "output_type": "execute_result"
    }
   ],
   "source": []
  },
  {
   "cell_type": "code",
   "execution_count": 145,
   "metadata": {
    "colab": {
     "base_uri": "https://localhost:8080/",
     "height": 632
    },
    "executionInfo": {
     "elapsed": 313045,
     "status": "ok",
     "timestamp": 1604915845498,
     "user": {
      "displayName": "Aidas Aglinskas",
      "photoUrl": "",
      "userId": "17395860064084454693"
     },
     "user_tz": -60
    },
    "id": "m2xAC0nh_qAa",
    "outputId": "9d768558-3d30-47b5-f023-7e6eb4e358ef"
   },
   "outputs": [
    {
     "name": "stderr",
     "output_type": "stream",
     "text": [
      "100%|██████████| 100/100 [00:06<00:00, 16.01it/s]\n"
     ]
    },
    {
     "data": {
      "image/png": "[encoded data removed]",
      "text/plain": [
       "<Figure size 864x576 with 4 Axes>"
      ]
     },
     "metadata": {},
     "output_type": "display_data"
    },
    {
     "data": {
      "image/png": "[encoded data removed]",
      "text/plain": [
       "<Figure size 864x576 with 16 Axes>"
      ]
     },
     "metadata": {},
     "output_type": "display_data"
    }
   ],
   "source": [
    "height = 28;width = 28;nchannels = 3;latent_dim = 2;batch_size = 64 \n",
    "i,j,k=20,20,30\n",
    "\n",
    "encoder, decoder, vae = get_celeb_vae(input_shape=(height, width, nchannels), latent_dim=latent_dim, batch_size=batch_size, disentangle=False, gamma=1)\n",
    "\n",
    "for i in tqdm(range(100)):\n",
    "  #vae.train_on_batch(data_batch)\n",
    "  vae.train_on_batch(ABIDE_data_3d[np.random.randint(0,nsubs,batch_size),:,:,:])\n",
    "\n",
    "plt.figure(figsize=(12,8))\n",
    "for i in range(4):\n",
    "    plt.subplot(1,4,i+1)\n",
    "    plt.imshow(ABIDE_data_3d[np.random.randint(1,high=nsubs),:,:,0])\n",
    "    plt.xticks([]);plt.yticks([])\n",
    "\n",
    "plt.figure(figsize=(12,8))\n",
    "for i in range(16):\n",
    "    plt.subplot(4,4,i+1)\n",
    "    plt.imshow(decoder.predict(np.random.randn(1,latent_dim))[0,:,:,0])\n",
    "    plt.xticks([]);plt.yticks([])\n"
   ]
  },
  {
   "cell_type": "code",
   "execution_count": null,
   "metadata": {},
   "outputs": [],
   "source": []
  },
  {
   "cell_type": "code",
   "execution_count": 200,
   "metadata": {
    "executionInfo": {
     "elapsed": 313668,
     "status": "ok",
     "timestamp": 1604915846123,
     "user": {
      "displayName": "Aidas Aglinskas",
      "photoUrl": "",
      "userId": "17395860064084454693"
     },
     "user_tz": -60
    },
    "id": "JANBc_Nm-M2N"
   },
   "outputs": [
    {
     "data": {
      "text/html": [
       "<div>\n",
       "<style scoped>\n",
       "    .dataframe tbody tr th:only-of-type {\n",
       "        vertical-align: middle;\n",
       "    }\n",
       "\n",
       "    .dataframe tbody tr th {\n",
       "        vertical-align: top;\n",
       "    }\n",
       "\n",
       "    .dataframe thead th {\n",
       "        text-align: right;\n",
       "    }\n",
       "</style>\n",
       "<table border=\"1\" class=\"dataframe\">\n",
       "  <thead>\n",
       "    <tr style=\"text-align: right;\">\n",
       "      <th></th>\n",
       "      <th>index</th>\n",
       "      <th>BIDS_ID</th>\n",
       "      <th>ID</th>\n",
       "      <th>SUB_TYPE</th>\n",
       "      <th>VISIT</th>\n",
       "      <th>DAY_LAG</th>\n",
       "      <th>ABIDE_01</th>\n",
       "      <th>ABIDE_02</th>\n",
       "      <th>ABIDE_03</th>\n",
       "      <th>ABIDE_04</th>\n",
       "      <th>...</th>\n",
       "      <th>ABIDE_64</th>\n",
       "      <th>ABIDE_65</th>\n",
       "      <th>ABIDE_66</th>\n",
       "      <th>ABIDE_67</th>\n",
       "      <th>ABIDE_68</th>\n",
       "      <th>ABIDE_69</th>\n",
       "      <th>ABIDE_70</th>\n",
       "      <th>ABIDE_71</th>\n",
       "      <th>ABIDE_72</th>\n",
       "      <th>ABIDE_73</th>\n",
       "    </tr>\n",
       "  </thead>\n",
       "  <tbody>\n",
       "    <tr>\n",
       "      <th>0</th>\n",
       "      <td>0</td>\n",
       "      <td>sub-001</td>\n",
       "      <td>A00033348</td>\n",
       "      <td>PATIENT</td>\n",
       "      <td>session_1</td>\n",
       "      <td>8</td>\n",
       "      <td>51320</td>\n",
       "      <td>1</td>\n",
       "      <td>2</td>\n",
       "      <td>31.0</td>\n",
       "      <td>...</td>\n",
       "      <td>NaN</td>\n",
       "      <td>NaN</td>\n",
       "      <td>NaN</td>\n",
       "      <td>NaN</td>\n",
       "      <td>NaN</td>\n",
       "      <td>NaN</td>\n",
       "      <td>NaN</td>\n",
       "      <td>0</td>\n",
       "      <td>NaN</td>\n",
       "      <td>NaN</td>\n",
       "    </tr>\n",
       "    <tr>\n",
       "      <th>1</th>\n",
       "      <td>1</td>\n",
       "      <td>sub-002</td>\n",
       "      <td>A00033398</td>\n",
       "      <td>CONTROL</td>\n",
       "      <td>session_1</td>\n",
       "      <td>8</td>\n",
       "      <td>51373</td>\n",
       "      <td>2</td>\n",
       "      <td>0</td>\n",
       "      <td>46.0</td>\n",
       "      <td>...</td>\n",
       "      <td>NaN</td>\n",
       "      <td>NaN</td>\n",
       "      <td>NaN</td>\n",
       "      <td>NaN</td>\n",
       "      <td>NaN</td>\n",
       "      <td>NaN</td>\n",
       "      <td>NaN</td>\n",
       "      <td>0</td>\n",
       "      <td>NaN</td>\n",
       "      <td>NaN</td>\n",
       "    </tr>\n",
       "    <tr>\n",
       "      <th>2</th>\n",
       "      <td>2</td>\n",
       "      <td>sub-003</td>\n",
       "      <td>A00033352</td>\n",
       "      <td>PATIENT</td>\n",
       "      <td>session_1</td>\n",
       "      <td>8</td>\n",
       "      <td>51324</td>\n",
       "      <td>1</td>\n",
       "      <td>2</td>\n",
       "      <td>52.0</td>\n",
       "      <td>...</td>\n",
       "      <td>NaN</td>\n",
       "      <td>NaN</td>\n",
       "      <td>NaN</td>\n",
       "      <td>NaN</td>\n",
       "      <td>NaN</td>\n",
       "      <td>NaN</td>\n",
       "      <td>NaN</td>\n",
       "      <td>0</td>\n",
       "      <td>NaN</td>\n",
       "      <td>NaN</td>\n",
       "    </tr>\n",
       "    <tr>\n",
       "      <th>3</th>\n",
       "      <td>3</td>\n",
       "      <td>sub-004</td>\n",
       "      <td>A00033389</td>\n",
       "      <td>CONTROL</td>\n",
       "      <td>session_1</td>\n",
       "      <td>8</td>\n",
       "      <td>51364</td>\n",
       "      <td>2</td>\n",
       "      <td>0</td>\n",
       "      <td>26.0</td>\n",
       "      <td>...</td>\n",
       "      <td>NaN</td>\n",
       "      <td>NaN</td>\n",
       "      <td>NaN</td>\n",
       "      <td>NaN</td>\n",
       "      <td>NaN</td>\n",
       "      <td>NaN</td>\n",
       "      <td>NaN</td>\n",
       "      <td>0</td>\n",
       "      <td>NaN</td>\n",
       "      <td>NaN</td>\n",
       "    </tr>\n",
       "    <tr>\n",
       "      <th>4</th>\n",
       "      <td>4</td>\n",
       "      <td>sub-005</td>\n",
       "      <td>A00033354</td>\n",
       "      <td>PATIENT</td>\n",
       "      <td>session_1</td>\n",
       "      <td>8</td>\n",
       "      <td>51326</td>\n",
       "      <td>1</td>\n",
       "      <td>2</td>\n",
       "      <td>42.0</td>\n",
       "      <td>...</td>\n",
       "      <td>NaN</td>\n",
       "      <td>NaN</td>\n",
       "      <td>NaN</td>\n",
       "      <td>NaN</td>\n",
       "      <td>NaN</td>\n",
       "      <td>NaN</td>\n",
       "      <td>NaN</td>\n",
       "      <td>0</td>\n",
       "      <td>NaN</td>\n",
       "      <td>NaN</td>\n",
       "    </tr>\n",
       "  </tbody>\n",
       "</table>\n",
       "<p>5 rows × 79 columns</p>\n",
       "</div>"
      ],
      "text/plain": [
       "   index  BIDS_ID         ID SUB_TYPE      VISIT  DAY_LAG  ABIDE_01  ABIDE_02  \\\n",
       "0      0  sub-001  A00033348  PATIENT  session_1        8     51320         1   \n",
       "1      1  sub-002  A00033398  CONTROL  session_1        8     51373         2   \n",
       "2      2  sub-003  A00033352  PATIENT  session_1        8     51324         1   \n",
       "3      3  sub-004  A00033389  CONTROL  session_1        8     51364         2   \n",
       "4      4  sub-005  A00033354  PATIENT  session_1        8     51326         1   \n",
       "\n",
       "  ABIDE_03  ABIDE_04  ...  ABIDE_64  ABIDE_65  ABIDE_66  ABIDE_67 ABIDE_68  \\\n",
       "0        2      31.0  ...       NaN       NaN       NaN       NaN      NaN   \n",
       "1        0      46.0  ...       NaN       NaN       NaN       NaN      NaN   \n",
       "2        2      52.0  ...       NaN       NaN       NaN       NaN      NaN   \n",
       "3        0      26.0  ...       NaN       NaN       NaN       NaN      NaN   \n",
       "4        2      42.0  ...       NaN       NaN       NaN       NaN      NaN   \n",
       "\n",
       "  ABIDE_69 ABIDE_70  ABIDE_71  ABIDE_72  ABIDE_73  \n",
       "0      NaN      NaN         0       NaN       NaN  \n",
       "1      NaN      NaN         0       NaN       NaN  \n",
       "2      NaN      NaN         0       NaN       NaN  \n",
       "3      NaN      NaN         0       NaN       NaN  \n",
       "4      NaN      NaN         0       NaN       NaN  \n",
       "\n",
       "[5 rows x 79 columns]"
      ]
     },
     "execution_count": 200,
     "metadata": {},
     "output_type": "execute_result"
    }
   ],
   "source": [
    "df = pd.read_csv('./CSVs/ABIDE-legend.csv',header=1)\n",
    "df = df.iloc[np.array([df['BIDS_ID'].values[s] in ABIDE_subs for s in range(len(df))])]\n",
    "df.reset_index(inplace=True)\n",
    "\n",
    "assert len(df)==len(ABIDE_subs),'dif lenghts'\n",
    "assert all([df['BIDS_ID'][s]==ABIDE_subs[s] for s in range(len(df))]),'mismatch between df and goodsubs'\n",
    "\n",
    "df.head(5)"
   ]
  },
  {
   "cell_type": "code",
   "execution_count": 196,
   "metadata": {},
   "outputs": [],
   "source": []
  },
  {
   "cell_type": "code",
   "execution_count": 202,
   "metadata": {
    "colab": {
     "base_uri": "https://localhost:8080/"
    },
    "executionInfo": {
     "elapsed": 313667,
     "status": "ok",
     "timestamp": 1604915846126,
     "user": {
      "displayName": "Aidas Aglinskas",
      "photoUrl": "",
      "userId": "17395860064084454693"
     },
     "user_tz": -60
    },
    "id": "ZoqlzdzD-U6g",
    "outputId": "7d1299eb-cbcd-4a86-d462-4b7874ff58a7"
   },
   "outputs": [
    {
     "name": "stdout",
     "output_type": "stream",
     "text": [
      "(500, 28, 28, 3)\n",
      "(456, 28, 28, 3)\n"
     ]
    }
   ],
   "source": [
    "TD_subs = ABIDE_data_3d[np.array(df['SUB_TYPE']=='CONTROL'),:,:,:]\n",
    "DX_subs = ABIDE_data_3d[np.array(df['SUB_TYPE']=='PATIENT'),:,:,:]\n",
    "\n",
    "print(TD_subs.shape)\n",
    "print(DX_subs.shape)"
   ]
  },
  {
   "cell_type": "code",
   "execution_count": 203,
   "metadata": {
    "colab": {
     "base_uri": "https://localhost:8080/"
    },
    "executionInfo": {
     "elapsed": 313663,
     "status": "ok",
     "timestamp": 1604915846127,
     "user": {
      "displayName": "Aidas Aglinskas",
      "photoUrl": "",
      "userId": "17395860064084454693"
     },
     "user_tz": -60
    },
    "id": "xOdwBNsmF6Ee",
    "outputId": "ff5dcb8e-9139-42c7-ca57-9ef521850380"
   },
   "outputs": [],
   "source": [
    "dxArr = np.ones(len(df))\n",
    "dxArr[np.array(df['SUB_TYPE']=='PATIENT')]=2"
   ]
  },
  {
   "cell_type": "code",
   "execution_count": 28,
   "metadata": {
    "executionInfo": {
     "elapsed": 313662,
     "status": "ok",
     "timestamp": 1604915846128,
     "user": {
      "displayName": "Aidas Aglinskas",
      "photoUrl": "",
      "userId": "17395860064084454693"
     },
     "user_tz": -60
    },
    "id": "h_1TRjdnB-T5"
   },
   "outputs": [],
   "source": []
  },
  {
   "cell_type": "code",
   "execution_count": null,
   "metadata": {
    "executionInfo": {
     "elapsed": 456299,
     "status": "ok",
     "timestamp": 1604915988767,
     "user": {
      "displayName": "Aidas Aglinskas",
      "photoUrl": "",
      "userId": "17395860064084454693"
     },
     "user_tz": -60
    },
    "id": "8lCerDpLB-V_"
   },
   "outputs": [
    {
     "name": "stderr",
     "output_type": "stream",
     "text": [
      " 96%|█████████▌| 962/1000 [00:54<00:02, 17.97it/s]"
     ]
    }
   ],
   "source": [
    "height = 28;width = 28;nchannels = 3;latent_dim = 2;batch_size = 64 ;latent_dim_s = 4\n",
    "i,j,k=20,20,30\n",
    "\n",
    "cvae, cvae_fg, z_encoder, s_encoder, cvae_decoder = get_celeb_cvae(input_shape=(width, height, 3), latent_dim=latent_dim, bias=True, disentangle=True, gamma=1)\n",
    "\n",
    "for i in tqdm(range(1000)):\n",
    "#cvae.train_on_batch([tg_images, bg_images])\n",
    "  cvae.train_on_batch([DX_subs[np.random.randint(0,DX_subs.shape[0],batch_size),:,:,:],TD_subs[np.random.randint(0,TD_subs.shape[0],batch_size),:,:,:]])"
   ]
  },
  {
   "cell_type": "code",
   "execution_count": null,
   "metadata": {
    "colab": {
     "base_uri": "https://localhost:8080/",
     "height": 632
    },
    "executionInfo": {
     "elapsed": 457658,
     "status": "ok",
     "timestamp": 1604915990131,
     "user": {
      "displayName": "Aidas Aglinskas",
      "photoUrl": "",
      "userId": "17395860064084454693"
     },
     "user_tz": -60
    },
    "id": "K8qMijA49S5h",
    "outputId": "8d5681dc-145e-40a3-8c49-8e3086afb688"
   },
   "outputs": [],
   "source": [
    "plt.figure(figsize=(12,8))\n",
    "for i in range(4):\n",
    "  plt.subplot(1,4,i+1)\n",
    "  plt.imshow(ABIDE_data_3d[np.random.randint(1,high=1060),:,:,0])\n",
    "  plt.xticks([]);plt.yticks([])\n",
    "\n",
    "plt.figure(figsize=(12,8))\n",
    "for i in range(16):\n",
    "  plt.subplot(4,4,i+1)\n",
    "  plt.imshow(cvae_decoder.predict(np.random.randn(1,4))[0,:,:,0])\n",
    "  plt.xticks([]);plt.yticks([])"
   ]
  },
  {
   "cell_type": "code",
   "execution_count": null,
   "metadata": {
    "colab": {
     "base_uri": "https://localhost:8080/",
     "height": 600
    },
    "executionInfo": {
     "elapsed": 1936,
     "status": "ok",
     "timestamp": 1604916023312,
     "user": {
      "displayName": "Aidas Aglinskas",
      "photoUrl": "",
      "userId": "17395860064084454693"
     },
     "user_tz": -60
    },
    "id": "xLQ5tGLdES0y",
    "outputId": "1f4a47f1-94ce-4b29-b5bf-844812e65a25"
   },
   "outputs": [],
   "source": [
    "plt.figure(figsize=(12,4))\n",
    "plt.subplot(1,3,1)\n",
    "z_mean, z_log_var, z = z_encoder(ABIDE_data_3d[:,:,:,:])\n",
    "x = z\n",
    "plt.scatter(x[:,0],x[:,1],c=dxArr)\n",
    "plt.title('background')\n",
    "\n",
    "plt.subplot(1,3,2)\n",
    "s_mean, s_log_var, s = s_encoder(ABIDE_data_3d[:,:,:,:])\n",
    "x = s\n",
    "plt.scatter(x[:,0],x[:,1],c=dxArr)\n",
    "plt.title('salient')\n",
    "\n",
    "plt.subplot(1,3,3)\n",
    "v_mean, v_log_var, v = encoder(ABIDE_data_3d[:,:,:,:])\n",
    "x = v\n",
    "plt.scatter(x[:,0],x[:,1],c=dxArr)\n",
    "plt.title('v')\n",
    "\n",
    "plt.figure(figsize=(6,4))\n",
    "plt.bar([0,1,2],[silhouette_score(z,dxArr),silhouette_score(s,dxArr),silhouette_score(v,dxArr)])\n",
    "plt.xticks([0,1,2],labels=['background','salient','vae'])"
   ]
  },
  {
   "cell_type": "code",
   "execution_count": null,
   "metadata": {
    "executionInfo": {
     "elapsed": 458720,
     "status": "ok",
     "timestamp": 1604915991199,
     "user": {
      "displayName": "Aidas Aglinskas",
      "photoUrl": "",
      "userId": "17395860064084454693"
     },
     "user_tz": -60
    },
    "id": "UY09D1uvDNwu"
   },
   "outputs": [],
   "source": [
    "plt.figure(figsize=(6,4))\n",
    "arr = (z_log_var,s_log_var,v_log_var)\n",
    "#arr = (z_mean,s_mean,v_mean)\n",
    "arr = (z,s,v)\n",
    "plt.bar([0,1,2],[silhouette_score(arr[0],dxArr),silhouette_score(arr[1],dxArr),silhouette_score(arr[2],dxArr)])\n",
    "plt.xticks([0,1,2],labels=['background','salient','vae'])"
   ]
  },
  {
   "cell_type": "code",
   "execution_count": null,
   "metadata": {},
   "outputs": [],
   "source": []
  },
  {
   "cell_type": "code",
   "execution_count": null,
   "metadata": {},
   "outputs": [],
   "source": []
  },
  {
   "cell_type": "code",
   "execution_count": null,
   "metadata": {},
   "outputs": [],
   "source": []
  },
  {
   "cell_type": "code",
   "execution_count": null,
   "metadata": {},
   "outputs": [],
   "source": []
  },
  {
   "cell_type": "code",
   "execution_count": null,
   "metadata": {},
   "outputs": [],
   "source": []
  },
  {
   "cell_type": "code",
   "execution_count": null,
   "metadata": {},
   "outputs": [],
   "source": []
  },
  {
   "cell_type": "code",
   "execution_count": null,
   "metadata": {},
   "outputs": [],
   "source": []
  }
 ],
 "metadata": {
  "accelerator": "GPU",
  "colab": {
   "authorship_tag": "ABX9TyP+CGud7/mpYReiwMLqGmUy",
   "collapsed_sections": [],
   "name": "MRI-CCAE-2D.ipynb",
   "provenance": []
  },
  "kernelspec": {
   "display_name": "Python 3",
   "language": "python",
   "name": "python3"
  },
  "language_info": {
   "codemirror_mode": {
    "name": "ipython",
    "version": 3
   },
   "file_extension": ".py",
   "mimetype": "text/x-python",
   "name": "python",
   "nbconvert_exporter": "python",
   "pygments_lexer": "ipython3",
   "version": "3.7.7"
  }
 },
 "nbformat": 4,
 "nbformat_minor": 4
}

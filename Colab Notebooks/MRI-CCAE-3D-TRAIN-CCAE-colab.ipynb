{
 "cells": [
  {
   "cell_type": "markdown",
   "metadata": {
    "id": "tXd5CerxmxGr"
   },
   "source": [
    "Make sure the tf version is 2.5.0-dev20201111 or later (for model saving)"
   ]
  },
  {
   "cell_type": "code",
   "execution_count": 1,
   "metadata": {
    "colab": {
     "base_uri": "https://localhost:8080/"
    },
    "executionInfo": {
     "elapsed": 2651,
     "status": "ok",
     "timestamp": 1607369517890,
     "user": {
      "displayName": "Aidas Aglinskas",
      "photoUrl": "",
      "userId": "17395860064084454693"
     },
     "user_tz": -60
    },
    "id": "DOW1Mf_NlZYn",
    "outputId": "8a0633f2-9731-478c-9111-bdba666705c8"
   },
   "outputs": [
    {
     "name": "stdout",
     "output_type": "stream",
     "text": [
      "2.5.0-dev20201111\n"
     ]
    }
   ],
   "source": [
    "#!pip install tf-nightly -qqq --progress-bar off\n",
    "import tensorflow as tf\n",
    "print(tf.__version__)\n",
    "#assert tf.__version__== '2.5.0-dev20201111','bad version'"
   ]
  },
  {
   "cell_type": "code",
   "execution_count": 2,
   "metadata": {
    "colab": {
     "base_uri": "https://localhost:8080/",
     "height": 35
    },
    "executionInfo": {
     "elapsed": 7919,
     "status": "ok",
     "timestamp": 1607369523219,
     "user": {
      "displayName": "Aidas Aglinskas",
      "photoUrl": "",
      "userId": "17395860064084454693"
     },
     "user_tz": -60
    },
    "id": "yj5mv_ZvNl7m",
    "outputId": "248d0abf-f73e-406b-a05a-5cbae3062220"
   },
   "outputs": [
    {
     "data": {
      "text/plain": [
       "''"
      ]
     },
     "execution_count": 2,
     "metadata": {},
     "output_type": "execute_result"
    }
   ],
   "source": [
    "tf.test.gpu_device_name()"
   ]
  },
  {
   "cell_type": "code",
   "execution_count": 3,
   "metadata": {
    "colab": {
     "base_uri": "https://localhost:8080/"
    },
    "executionInfo": {
     "elapsed": 7913,
     "status": "ok",
     "timestamp": 1607369523221,
     "user": {
      "displayName": "Aidas Aglinskas",
      "photoUrl": "",
      "userId": "17395860064084454693"
     },
     "user_tz": -60
    },
    "id": "Qq8i5RmyNZq-",
    "outputId": "f4019a42-751b-4f42-fc27-141cb24da2c8"
   },
   "outputs": [],
   "source": [
    "# %tensorflow_version 2.x\n",
    "# import tensorflow as tf\n",
    "# device_name = tf.test.gpu_device_name()\n",
    "# if device_name != '/device:GPU:0':\n",
    "#   raise SystemError('GPU device not found')\n",
    "# print('Found GPU at: {}'.format(device_name))"
   ]
  },
  {
   "cell_type": "code",
   "execution_count": 4,
   "metadata": {
    "colab": {
     "base_uri": "https://localhost:8080/"
    },
    "executionInfo": {
     "elapsed": 7906,
     "status": "ok",
     "timestamp": 1607369523221,
     "user": {
      "displayName": "Aidas Aglinskas",
      "photoUrl": "",
      "userId": "17395860064084454693"
     },
     "user_tz": -60
    },
    "id": "toHPNRS6Nbnc",
    "outputId": "4219e363-6425-43af-b28b-6168b984671f"
   },
   "outputs": [
    {
     "name": "stdout",
     "output_type": "stream",
     "text": [
      "/bin/sh: nvidia-smi: command not found\n"
     ]
    }
   ],
   "source": [
    "!nvidia-smi -L"
   ]
  },
  {
   "cell_type": "code",
   "execution_count": 5,
   "metadata": {
    "colab": {
     "base_uri": "https://localhost:8080/"
    },
    "executionInfo": {
     "elapsed": 7901,
     "status": "ok",
     "timestamp": 1607369523222,
     "user": {
      "displayName": "Aidas Aglinskas",
      "photoUrl": "",
      "userId": "17395860064084454693"
     },
     "user_tz": -60
    },
    "id": "06G6Ndv_JTPF",
    "outputId": "c5b5668b-e88f-40be-abb6-9c0f111970f8"
   },
   "outputs": [
    {
     "name": "stdout",
     "output_type": "stream",
     "text": [
      "2020-12-07 21:13:32.054255\n"
     ]
    }
   ],
   "source": [
    "from datetime import datetime;now = datetime.now;t00 = now()\n",
    "print(t00)"
   ]
  },
  {
   "cell_type": "code",
   "execution_count": 6,
   "metadata": {
    "colab": {
     "base_uri": "https://localhost:8080/"
    },
    "executionInfo": {
     "elapsed": 18783,
     "status": "ok",
     "timestamp": 1607369534110,
     "user": {
      "displayName": "Aidas Aglinskas",
      "photoUrl": "",
      "userId": "17395860064084454693"
     },
     "user_tz": -60
    },
    "id": "pVT3ZT60JTPF",
    "outputId": "0d0eec34-0053-4697-f4fb-cd1a35441f0e"
   },
   "outputs": [],
   "source": [
    "# %tensorflow_version 2.x\n",
    "# import tensorflow as tf\n",
    "# import timeit\n",
    "\n",
    "# device_name = tf.test.gpu_device_name()\n",
    "# if device_name != '/device:GPU:0':\n",
    "#   print(\n",
    "#       '\\n\\nThis error most likely means that this notebook is not '\n",
    "#       'configured to use a GPU.  Change this in Notebook Settings via the '\n",
    "#       'command palette (cmd/ctrl-shift-P) or the Edit menu.\\n\\n')\n",
    "#   raise SystemError('GPU device not found')\n",
    "\n",
    "# def cpu():\n",
    "#   with tf.device('/cpu:0'):\n",
    "#     random_image_cpu = tf.random.normal((100, 100, 100, 3))\n",
    "#     net_cpu = tf.keras.layers.Conv2D(32, 7)(random_image_cpu)\n",
    "#     return tf.math.reduce_sum(net_cpu)\n",
    "\n",
    "# def gpu():\n",
    "#   with tf.device('/device:GPU:0'):\n",
    "#     random_image_gpu = tf.random.normal((100, 100, 100, 3))\n",
    "#     net_gpu = tf.keras.layers.Conv2D(32, 7)(random_image_gpu)\n",
    "#     return tf.math.reduce_sum(net_gpu)\n",
    "  \n",
    "# # We run each op once to warm up; see: https://stackoverflow.com/a/45067900\n",
    "# cpu()\n",
    "# gpu()\n",
    "\n",
    "# # Run the op several times.\n",
    "# print('Time (s) to convolve 32x7x7x3 filter over random 100x100x100x3 images '\n",
    "#       '(batch x height x width x channel). Sum of ten runs.')\n",
    "# print('CPU (s):')\n",
    "# cpu_time = timeit.timeit('cpu()', number=10, setup=\"from __main__ import cpu\")\n",
    "# print(cpu_time)\n",
    "# print('GPU (s):')\n",
    "# gpu_time = timeit.timeit('gpu()', number=10, setup=\"from __main__ import gpu\")\n",
    "# print(gpu_time)\n",
    "# print('GPU speedup over CPU: {}x'.format(int(cpu_time/gpu_time)))"
   ]
  },
  {
   "cell_type": "code",
   "execution_count": 7,
   "metadata": {
    "colab": {
     "base_uri": "https://localhost:8080/"
    },
    "executionInfo": {
     "elapsed": 39845,
     "status": "ok",
     "timestamp": 1607369555179,
     "user": {
      "displayName": "Aidas Aglinskas",
      "photoUrl": "",
      "userId": "17395860064084454693"
     },
     "user_tz": -60
    },
    "id": "wrvyODvPJaOD",
    "outputId": "6f2d30ed-6987-4eee-9535-fd6d4bc0005f"
   },
   "outputs": [],
   "source": [
    "# from google.colab import drive\n",
    "# drive.mount(\"/content/drive\")\n",
    "# print('done, mounted')"
   ]
  },
  {
   "cell_type": "code",
   "execution_count": 8,
   "metadata": {
    "colab": {
     "base_uri": "https://localhost:8080/"
    },
    "executionInfo": {
     "elapsed": 40227,
     "status": "ok",
     "timestamp": 1607369555567,
     "user": {
      "displayName": "Aidas Aglinskas",
      "photoUrl": "",
      "userId": "17395860064084454693"
     },
     "user_tz": -60
    },
    "id": "RAduH185JatO",
    "outputId": "335ec84e-62ef-4bde-9e67-bf1cd33729ab"
   },
   "outputs": [],
   "source": [
    "# cd '/content/drive/My Drive/BC-MRI-AE/Colab Notebooks'"
   ]
  },
  {
   "cell_type": "code",
   "execution_count": null,
   "metadata": {
    "executionInfo": {
     "elapsed": 40226,
     "status": "ok",
     "timestamp": 1607369555568,
     "user": {
      "displayName": "Aidas Aglinskas",
      "photoUrl": "",
      "userId": "17395860064084454693"
     },
     "user_tz": -60
    },
    "id": "CtuDWvMKKSLv"
   },
   "outputs": [],
   "source": []
  },
  {
   "cell_type": "code",
   "execution_count": 9,
   "metadata": {
    "colab": {
     "base_uri": "https://localhost:8080/"
    },
    "executionInfo": {
     "elapsed": 43880,
     "status": "ok",
     "timestamp": 1607369559229,
     "user": {
      "displayName": "Aidas Aglinskas",
      "photoUrl": "",
      "userId": "17395860064084454693"
     },
     "user_tz": -60
    },
    "id": "bjXikoR3dceV",
    "outputId": "5fa77dcc-4ede-4d53-e6da-ea380852e805"
   },
   "outputs": [
    {
     "name": "stdout",
     "output_type": "stream",
     "text": [
      "0:00:00.513037\n"
     ]
    }
   ],
   "source": [
    "%matplotlib inline\n",
    "\n",
    "import os\n",
    "from matplotlib import pyplot as plt\n",
    "import seaborn as sns\n",
    "\n",
    "import numpy as np\n",
    "import pandas as pd\n",
    "from tqdm import tqdm\n",
    "\n",
    "#from contrastive_vae.celeb_utils import get_celeb_vae\n",
    "#from contrastive_vae.celeb_utils import get_celeb_cvae\n",
    "\n",
    "import pandas as pd\n",
    "from sklearn.metrics import silhouette_score\n",
    "\n",
    "from mri_utils2 import get_MRI_CVAE_3D,get_MRI_CCVAE_3D\n",
    "\n",
    "print(now()-t00)"
   ]
  },
  {
   "cell_type": "code",
   "execution_count": 10,
   "metadata": {
    "colab": {
     "base_uri": "https://localhost:8080/"
    },
    "executionInfo": {
     "elapsed": 43875,
     "status": "ok",
     "timestamp": 1607369559230,
     "user": {
      "displayName": "Aidas Aglinskas",
      "photoUrl": "",
      "userId": "17395860064084454693"
     },
     "user_tz": -60
    },
    "id": "UmLCoBjXmF8M",
    "outputId": "3a859b4e-0e1d-49fe-dd77-cb9bca669439"
   },
   "outputs": [
    {
     "name": "stdout",
     "output_type": "stream",
     "text": [
      "/Users/aidasaglinskas/Desktop/BC-MRI-AE\n"
     ]
    }
   ],
   "source": [
    "cd ../"
   ]
  },
  {
   "cell_type": "markdown",
   "metadata": {
    "id": "t5xW313gmrFJ"
   },
   "source": [
    "SHAPE THE DATA"
   ]
  },
  {
   "cell_type": "code",
   "execution_count": 11,
   "metadata": {
    "colab": {
     "base_uri": "https://localhost:8080/"
    },
    "executionInfo": {
     "elapsed": 48773,
     "status": "ok",
     "timestamp": 1607369564134,
     "user": {
      "displayName": "Aidas Aglinskas",
      "photoUrl": "",
      "userId": "17395860064084454693"
     },
     "user_tz": -60
    },
    "id": "STcZnREmuLkX",
    "outputId": "12eb27ff-777f-4df7-a34d-89eb622a6b59"
   },
   "outputs": [
    {
     "data": {
      "text/plain": [
       "[(1022,), (1022, 64, 64, 64)]"
      ]
     },
     "execution_count": 11,
     "metadata": {},
     "output_type": "execute_result"
    }
   ],
   "source": [
    "arr = np.load('./Data/ABIDE-Anat-64iso.npz')\n",
    "ABIDE_data = arr['data']\n",
    "ABIDE_subs = arr['subs']\n",
    "nsubs = ABIDE_data.shape[0]\n",
    "[arr.shape for arr in [ABIDE_subs,ABIDE_data]]"
   ]
  },
  {
   "cell_type": "code",
   "execution_count": 12,
   "metadata": {
    "colab": {
     "base_uri": "https://localhost:8080/"
    },
    "executionInfo": {
     "elapsed": 49108,
     "status": "ok",
     "timestamp": 1607369564475,
     "user": {
      "displayName": "Aidas Aglinskas",
      "photoUrl": "",
      "userId": "17395860064084454693"
     },
     "user_tz": -60
    },
    "id": "71-GquGIuLka",
    "outputId": "4223e6f9-6fd6-4602-fd3d-f0f86b3d00d5"
   },
   "outputs": [
    {
     "data": {
      "text/plain": [
       "[(982,), (982, 64, 64, 64)]"
      ]
     },
     "execution_count": 12,
     "metadata": {},
     "output_type": "execute_result"
    }
   ],
   "source": [
    "aa = np.array([ABIDE_data[s,:,:,:].sum() for s in range(ABIDE_data.shape[0])])<5000\n",
    "ABIDE_data = ABIDE_data[~aa,:,:,:]\n",
    "ABIDE_subs = ABIDE_subs[~aa]\n",
    "[arr.shape for arr in [ABIDE_subs,ABIDE_data]]"
   ]
  },
  {
   "cell_type": "code",
   "execution_count": 13,
   "metadata": {
    "colab": {
     "base_uri": "https://localhost:8080/",
     "height": 284
    },
    "executionInfo": {
     "elapsed": 50173,
     "status": "ok",
     "timestamp": 1607369565549,
     "user": {
      "displayName": "Aidas Aglinskas",
      "photoUrl": "",
      "userId": "17395860064084454693"
     },
     "user_tz": -60
    },
    "id": "JANBc_Nm-M2N",
    "outputId": "b7872c3e-70de-49d7-dd88-a391604a0d14"
   },
   "outputs": [
    {
     "data": {
      "text/html": [
       "<div>\n",
       "<style scoped>\n",
       "    .dataframe tbody tr th:only-of-type {\n",
       "        vertical-align: middle;\n",
       "    }\n",
       "\n",
       "    .dataframe tbody tr th {\n",
       "        vertical-align: top;\n",
       "    }\n",
       "\n",
       "    .dataframe thead th {\n",
       "        text-align: right;\n",
       "    }\n",
       "</style>\n",
       "<table border=\"1\" class=\"dataframe\">\n",
       "  <thead>\n",
       "    <tr style=\"text-align: right;\">\n",
       "      <th></th>\n",
       "      <th>index</th>\n",
       "      <th>BIDS_ID</th>\n",
       "      <th>Anonymized ID</th>\n",
       "      <th>Subject Type</th>\n",
       "      <th>Visit</th>\n",
       "      <th>Days since enrollment</th>\n",
       "      <th>SubID</th>\n",
       "      <th>DxGroup</th>\n",
       "      <th>DSMIVTR</th>\n",
       "      <th>AgeAtScan</th>\n",
       "      <th>...</th>\n",
       "      <th>WISC4 Pic Con Scaled</th>\n",
       "      <th>WISC4 Matrix Scaled</th>\n",
       "      <th>WISC4 Dig Span Scaled</th>\n",
       "      <th>WISC4 Let Num Scaled</th>\n",
       "      <th>WISC4 Coding Scaled</th>\n",
       "      <th>WISC4 Sym Scaled</th>\n",
       "      <th>Age at MPRAGE</th>\n",
       "      <th>Current Med Status</th>\n",
       "      <th>Medication Name</th>\n",
       "      <th>Off stimulants at EPI scan?</th>\n",
       "    </tr>\n",
       "  </thead>\n",
       "  <tbody>\n",
       "    <tr>\n",
       "      <th>0</th>\n",
       "      <td>0</td>\n",
       "      <td>sub-001</td>\n",
       "      <td>A00033348</td>\n",
       "      <td>PATIENT</td>\n",
       "      <td>session_1</td>\n",
       "      <td>8</td>\n",
       "      <td>51320</td>\n",
       "      <td>1</td>\n",
       "      <td>2</td>\n",
       "      <td>31.0</td>\n",
       "      <td>...</td>\n",
       "      <td>NaN</td>\n",
       "      <td>NaN</td>\n",
       "      <td>NaN</td>\n",
       "      <td>NaN</td>\n",
       "      <td>NaN</td>\n",
       "      <td>NaN</td>\n",
       "      <td>NaN</td>\n",
       "      <td>0</td>\n",
       "      <td>NaN</td>\n",
       "      <td>NaN</td>\n",
       "    </tr>\n",
       "    <tr>\n",
       "      <th>1</th>\n",
       "      <td>1</td>\n",
       "      <td>sub-002</td>\n",
       "      <td>A00033398</td>\n",
       "      <td>CONTROL</td>\n",
       "      <td>session_1</td>\n",
       "      <td>8</td>\n",
       "      <td>51373</td>\n",
       "      <td>2</td>\n",
       "      <td>0</td>\n",
       "      <td>46.0</td>\n",
       "      <td>...</td>\n",
       "      <td>NaN</td>\n",
       "      <td>NaN</td>\n",
       "      <td>NaN</td>\n",
       "      <td>NaN</td>\n",
       "      <td>NaN</td>\n",
       "      <td>NaN</td>\n",
       "      <td>NaN</td>\n",
       "      <td>0</td>\n",
       "      <td>NaN</td>\n",
       "      <td>NaN</td>\n",
       "    </tr>\n",
       "    <tr>\n",
       "      <th>2</th>\n",
       "      <td>2</td>\n",
       "      <td>sub-003</td>\n",
       "      <td>A00033352</td>\n",
       "      <td>PATIENT</td>\n",
       "      <td>session_1</td>\n",
       "      <td>8</td>\n",
       "      <td>51324</td>\n",
       "      <td>1</td>\n",
       "      <td>2</td>\n",
       "      <td>52.0</td>\n",
       "      <td>...</td>\n",
       "      <td>NaN</td>\n",
       "      <td>NaN</td>\n",
       "      <td>NaN</td>\n",
       "      <td>NaN</td>\n",
       "      <td>NaN</td>\n",
       "      <td>NaN</td>\n",
       "      <td>NaN</td>\n",
       "      <td>0</td>\n",
       "      <td>NaN</td>\n",
       "      <td>NaN</td>\n",
       "    </tr>\n",
       "    <tr>\n",
       "      <th>3</th>\n",
       "      <td>3</td>\n",
       "      <td>sub-004</td>\n",
       "      <td>A00033389</td>\n",
       "      <td>CONTROL</td>\n",
       "      <td>session_1</td>\n",
       "      <td>8</td>\n",
       "      <td>51364</td>\n",
       "      <td>2</td>\n",
       "      <td>0</td>\n",
       "      <td>26.0</td>\n",
       "      <td>...</td>\n",
       "      <td>NaN</td>\n",
       "      <td>NaN</td>\n",
       "      <td>NaN</td>\n",
       "      <td>NaN</td>\n",
       "      <td>NaN</td>\n",
       "      <td>NaN</td>\n",
       "      <td>NaN</td>\n",
       "      <td>0</td>\n",
       "      <td>NaN</td>\n",
       "      <td>NaN</td>\n",
       "    </tr>\n",
       "    <tr>\n",
       "      <th>4</th>\n",
       "      <td>4</td>\n",
       "      <td>sub-005</td>\n",
       "      <td>A00033354</td>\n",
       "      <td>PATIENT</td>\n",
       "      <td>session_1</td>\n",
       "      <td>8</td>\n",
       "      <td>51326</td>\n",
       "      <td>1</td>\n",
       "      <td>2</td>\n",
       "      <td>42.0</td>\n",
       "      <td>...</td>\n",
       "      <td>NaN</td>\n",
       "      <td>NaN</td>\n",
       "      <td>NaN</td>\n",
       "      <td>NaN</td>\n",
       "      <td>NaN</td>\n",
       "      <td>NaN</td>\n",
       "      <td>NaN</td>\n",
       "      <td>0</td>\n",
       "      <td>NaN</td>\n",
       "      <td>NaN</td>\n",
       "    </tr>\n",
       "  </tbody>\n",
       "</table>\n",
       "<p>5 rows × 79 columns</p>\n",
       "</div>"
      ],
      "text/plain": [
       "   index  BIDS_ID Anonymized ID Subject Type      Visit  \\\n",
       "0      0  sub-001     A00033348      PATIENT  session_1   \n",
       "1      1  sub-002     A00033398      CONTROL  session_1   \n",
       "2      2  sub-003     A00033352      PATIENT  session_1   \n",
       "3      3  sub-004     A00033389      CONTROL  session_1   \n",
       "4      4  sub-005     A00033354      PATIENT  session_1   \n",
       "\n",
       "   Days since enrollment  SubID  DxGroup DSMIVTR  AgeAtScan  ...  \\\n",
       "0                      8  51320        1       2       31.0  ...   \n",
       "1                      8  51373        2       0       46.0  ...   \n",
       "2                      8  51324        1       2       52.0  ...   \n",
       "3                      8  51364        2       0       26.0  ...   \n",
       "4                      8  51326        1       2       42.0  ...   \n",
       "\n",
       "   WISC4 Pic Con Scaled  WISC4 Matrix Scaled  WISC4 Dig Span Scaled  \\\n",
       "0                   NaN                  NaN                    NaN   \n",
       "1                   NaN                  NaN                    NaN   \n",
       "2                   NaN                  NaN                    NaN   \n",
       "3                   NaN                  NaN                    NaN   \n",
       "4                   NaN                  NaN                    NaN   \n",
       "\n",
       "   WISC4 Let Num Scaled WISC4 Coding Scaled WISC4 Sym Scaled Age at MPRAGE  \\\n",
       "0                   NaN                 NaN              NaN           NaN   \n",
       "1                   NaN                 NaN              NaN           NaN   \n",
       "2                   NaN                 NaN              NaN           NaN   \n",
       "3                   NaN                 NaN              NaN           NaN   \n",
       "4                   NaN                 NaN              NaN           NaN   \n",
       "\n",
       "   Current Med Status  Medication Name  Off stimulants at EPI scan?  \n",
       "0                   0              NaN                          NaN  \n",
       "1                   0              NaN                          NaN  \n",
       "2                   0              NaN                          NaN  \n",
       "3                   0              NaN                          NaN  \n",
       "4                   0              NaN                          NaN  \n",
       "\n",
       "[5 rows x 79 columns]"
      ]
     },
     "execution_count": 13,
     "metadata": {},
     "output_type": "execute_result"
    }
   ],
   "source": [
    "df = pd.read_csv('./CSVs/ABIDE-legend.csv',header=0)\n",
    "df = df.iloc[np.array([df['BIDS_ID'].values[s] in ABIDE_subs for s in range(len(df))])]\n",
    "df.reset_index(inplace=True)\n",
    "\n",
    "assert len(df)==len(ABIDE_subs),'dif lenghts'\n",
    "assert all([df['BIDS_ID'][s]==ABIDE_subs[s] for s in range(len(df))]),'mismatch between df and goodsubs'\n",
    "\n",
    "df.head(5)"
   ]
  },
  {
   "cell_type": "code",
   "execution_count": 14,
   "metadata": {
    "colab": {
     "base_uri": "https://localhost:8080/"
    },
    "executionInfo": {
     "elapsed": 50167,
     "status": "ok",
     "timestamp": 1607369565549,
     "user": {
      "displayName": "Aidas Aglinskas",
      "photoUrl": "",
      "userId": "17395860064084454693"
     },
     "user_tz": -60
    },
    "id": "ZoqlzdzD-U6g",
    "outputId": "56c4f67b-5918-46a3-d892-733276a20098"
   },
   "outputs": [
    {
     "name": "stdout",
     "output_type": "stream",
     "text": [
      "(500, 64, 64, 64)\n",
      "(456, 64, 64, 64)\n"
     ]
    }
   ],
   "source": [
    "TD_subs = ABIDE_data[np.array(df['Subject Type']=='CONTROL'),:,:,:]\n",
    "DX_subs = ABIDE_data[np.array(df['Subject Type']=='PATIENT'),:,:,:]\n",
    "\n",
    "print(TD_subs.shape)\n",
    "print(DX_subs.shape)"
   ]
  },
  {
   "cell_type": "code",
   "execution_count": 15,
   "metadata": {
    "executionInfo": {
     "elapsed": 50420,
     "status": "ok",
     "timestamp": 1607369565804,
     "user": {
      "displayName": "Aidas Aglinskas",
      "photoUrl": "",
      "userId": "17395860064084454693"
     },
     "user_tz": -60
    },
    "id": "xOdwBNsmF6Ee"
   },
   "outputs": [],
   "source": [
    "dxArr = np.ones(len(df))\n",
    "dxArr[np.array(df['Subject Type']=='PATIENT')]=2"
   ]
  },
  {
   "cell_type": "markdown",
   "metadata": {
    "id": "BTN1pbr7mnxq"
   },
   "source": [
    "# TRAIN THE VAE"
   ]
  },
  {
   "cell_type": "code",
   "execution_count": 16,
   "metadata": {
    "executionInfo": {
     "elapsed": 985,
     "status": "ok",
     "timestamp": 1607369573259,
     "user": {
      "displayName": "Aidas Aglinskas",
      "photoUrl": "",
      "userId": "17395860064084454693"
     },
     "user_tz": -60
    },
    "id": "ny0tO8kropHG"
   },
   "outputs": [],
   "source": [
    "from scipy.spatial.distance import pdist\n",
    "from scipy.spatial.distance import squareform\n",
    "\n",
    "def plot_recon_vae():\n",
    "    plt.figure(figsize=(5,5));\n",
    "    plt.subplot(2,2,1)\n",
    "    plt.imshow(DX_batch[0,:,:,40]);plt.xticks([]);plt.yticks([]);plt.title('input');\n",
    "    plt.subplot(2,2,2)\n",
    "    plt.imshow(cvae.predict([DX_batch,TD_batch])[0][0,:,:,40,0]);plt.xticks([]);plt.yticks([]);plt.title('reconstruction');\n",
    "\n",
    "    plt.subplot(2,2,3)\n",
    "    plt.imshow(TD_batch[0,32,:,:]);plt.xticks([]);plt.yticks([]);\n",
    "    plt.subplot(2,2,4)\n",
    "    plt.imshow(cvae.predict([DX_batch,TD_batch])[1][0,32,:,:,0]);plt.xticks([]);plt.yticks([]);"
   ]
  },
  {
   "cell_type": "code",
   "execution_count": 17,
   "metadata": {},
   "outputs": [],
   "source": [
    "# import tensorflow as tf\n",
    "# import numpy as np\n",
    "# import matplotlib.pyplot as plt\n",
    "# from scipy.special import expit\n",
    "# from sklearn.metrics import silhouette_score\n",
    "# from tensorflow.keras.layers import *\n",
    "# from tensorflow.keras import backend as K\n",
    "# from tensorflow.keras.models import Model\n",
    "# from tensorflow.keras.losses import mse\n",
    "# import os\n",
    "# import pandas as pd\n",
    "# from glob import glob\n",
    "# #import helper"
   ]
  },
  {
   "cell_type": "code",
   "execution_count": 18,
   "metadata": {},
   "outputs": [],
   "source": [
    "# def sampling(args):\n",
    "#     \"\"\"Reparameterization trick by sampling fr an isotropic unit Gaussian.\n",
    "#     # Arguments:\n",
    "#         args (tensor): mean and log of variance of Q(z|X)\n",
    "#     # Returns:\n",
    "#         z (tensor): sampled latent vector\n",
    "#     \"\"\"\n",
    "\n",
    "#     z_mean, z_log_var = args\n",
    "#     batch = K.shape(z_mean)[0]\n",
    "#     dim = K.int_shape(z_mean)[1]\n",
    "#     # by default, random_normal has mean=0 and std=1.0\n",
    "#     epsilon = K.random_normal(shape=(batch, dim))\n",
    "#     return z_mean + K.exp(0.5 * z_log_var) * epsilon\n",
    "\n"
   ]
  },
  {
   "cell_type": "code",
   "execution_count": 19,
   "metadata": {},
   "outputs": [],
   "source": []
  },
  {
   "cell_type": "code",
   "execution_count": 20,
   "metadata": {
    "executionInfo": {
     "elapsed": 1101,
     "status": "ok",
     "timestamp": 1607369582291,
     "user": {
      "displayName": "Aidas Aglinskas",
      "photoUrl": "",
      "userId": "17395860064084454693"
     },
     "user_tz": -60
    },
    "id": "qllddMarnEr2"
   },
   "outputs": [],
   "source": [
    "encoder, decoder, vae = get_MRI_CVAE_3D(input_shape=(64, 64, 64, 1), latent_dim=32, batch_size=5, disentangle=False, gamma=1)\n",
    "#vae.load_weights('../tf_outputs/3D_VAE_Weights/Nov23_VAE'"
   ]
  },
  {
   "cell_type": "code",
   "execution_count": 21,
   "metadata": {},
   "outputs": [
    {
     "data": {
      "text/plain": [
       "<matplotlib.image.AxesImage at 0x7fe4ab9d7a10>"
      ]
     },
     "execution_count": 21,
     "metadata": {},
     "output_type": "execute_result"
    },
    {
     "data": {
      "image/png": "[encoded data removed]",
      "text/plain": [
       "<Figure size 432x288 with 1 Axes>"
      ]
     },
     "metadata": {
      "needs_background": "light"
     },
     "output_type": "display_data"
    }
   ],
   "source": [
    "plt.imshow(decoder.predict(np.random.rand(4,32))[0,:,:,40,0])"
   ]
  },
  {
   "cell_type": "code",
   "execution_count": 22,
   "metadata": {},
   "outputs": [
    {
     "data": {
      "text/plain": [
       "910.4029541015625"
      ]
     },
     "execution_count": 22,
     "metadata": {},
     "output_type": "execute_result"
    }
   ],
   "source": [
    "vae.train_on_batch(TD_subs[0:5,:,:,:])"
   ]
  },
  {
   "cell_type": "code",
   "execution_count": 23,
   "metadata": {},
   "outputs": [
    {
     "data": {
      "text/plain": [
       "'/Users/aidasaglinskas/Desktop/BC-MRI-AE'"
      ]
     },
     "execution_count": 23,
     "metadata": {},
     "output_type": "execute_result"
    }
   ],
   "source": [
    "pwd"
   ]
  },
  {
   "cell_type": "code",
   "execution_count": null,
   "metadata": {
    "id": "PlYL-vmmYwtl"
   },
   "outputs": [],
   "source": []
  },
  {
   "cell_type": "code",
   "execution_count": null,
   "metadata": {},
   "outputs": [],
   "source": []
  },
  {
   "cell_type": "code",
   "execution_count": null,
   "metadata": {},
   "outputs": [],
   "source": []
  },
  {
   "cell_type": "code",
   "execution_count": null,
   "metadata": {},
   "outputs": [],
   "source": []
  },
  {
   "cell_type": "code",
   "execution_count": null,
   "metadata": {},
   "outputs": [],
   "source": []
  },
  {
   "cell_type": "code",
   "execution_count": null,
   "metadata": {},
   "outputs": [],
   "source": []
  },
  {
   "cell_type": "code",
   "execution_count": null,
   "metadata": {},
   "outputs": [],
   "source": []
  },
  {
   "cell_type": "code",
   "execution_count": null,
   "metadata": {},
   "outputs": [],
   "source": []
  },
  {
   "cell_type": "code",
   "execution_count": null,
   "metadata": {},
   "outputs": [],
   "source": []
  },
  {
   "cell_type": "code",
   "execution_count": null,
   "metadata": {},
   "outputs": [],
   "source": []
  },
  {
   "cell_type": "code",
   "execution_count": null,
   "metadata": {
    "id": "vakzMRwqYwwP"
   },
   "outputs": [],
   "source": []
  },
  {
   "cell_type": "code",
   "execution_count": null,
   "metadata": {
    "id": "zXfaJRPLYwzC"
   },
   "outputs": [],
   "source": []
  },
  {
   "cell_type": "code",
   "execution_count": null,
   "metadata": {
    "id": "_KFAUd6gXCZ7"
   },
   "outputs": [],
   "source": [
    "t0 = now()\n",
    "print(f'started: {now()}')\n",
    "loss = list()\n",
    "for i in range(1):\n",
    "    e0 = now()\n",
    "    #hist = vae.fit([DX_subs,TD_subs[0:456,:,:,:]],epochs=1)\n",
    "\n",
    "    loss.append(hist.history['loss']);loss = loss[0:min((50,len(loss)))]\n",
    "\n",
    "    cvae.save_weights('../tf_outputs/3D_CCVAE_Weights/Nov23')\n",
    "    print(f\"epoch time: {now()-e0}, elapsed time: {now()-t0}\")\n",
    "    if np.mod(i,25)==0:\n",
    "        #plot_state_ccvae(latent_dim)\n",
    "        plot_recon_vae()\n",
    "        plt.show()\n",
    "        plt.plot(loss);plt.title('loss')\n",
    "        plt.show()\n",
    "print(f'done in: {now()-t0}')"
   ]
  },
  {
   "cell_type": "code",
   "execution_count": null,
   "metadata": {
    "id": "75Xo-sRXnEuw"
   },
   "outputs": [],
   "source": [
    "#plot_state_cvae()"
   ]
  },
  {
   "cell_type": "markdown",
   "metadata": {
    "id": "LAbH8lm-nXUt"
   },
   "source": [
    "# TRAIN THE CONTRASTIVE VAE"
   ]
  },
  {
   "cell_type": "code",
   "execution_count": null,
   "metadata": {
    "id": "koVuSnmjnExm"
   },
   "outputs": [],
   "source": [
    "latent_dim = 16\n",
    "cvae, cvae_fg, z_encoder, z_encoder, cvae_decoder = get_MRI_CCVAE_3D(latent_dim=latent_dim)\n",
    "#cvae.load_weights('../tf_outputs/3D_CCVAE_Weights/Nov23')"
   ]
  },
  {
   "cell_type": "code",
   "execution_count": null,
   "metadata": {
    "id": "-gE81mo6JTPG"
   },
   "outputs": [],
   "source": [
    "def plot_recon():\n",
    "    plt.figure(figsize=(5,5));\n",
    "    plt.subplot(2,2,1)\n",
    "    plt.imshow(DX_batch[0,:,:,40]);plt.xticks([]);plt.yticks([]);plt.title('input');\n",
    "    plt.subplot(2,2,2)\n",
    "    plt.imshow(cvae.predict([DX_batch,TD_batch])[0][0,:,:,40,0]);plt.xticks([]);plt.yticks([]);plt.title('reconstruction');\n",
    "\n",
    "    plt.subplot(2,2,3)\n",
    "    plt.imshow(TD_batch[0,32,:,:]);plt.xticks([]);plt.yticks([]);\n",
    "    plt.subplot(2,2,4)\n",
    "    plt.imshow(cvae.predict([DX_batch,TD_batch])[1][0,32,:,:,0]);plt.xticks([]);plt.yticks([]);"
   ]
  },
  {
   "cell_type": "code",
   "execution_count": null,
   "metadata": {
    "colab": {
     "base_uri": "https://localhost:8080/",
     "height": 1000
    },
    "executionInfo": {
     "elapsed": 11093057,
     "status": "ok",
     "timestamp": 1606943337928,
     "user": {
      "displayName": "Aidas Aglinskas",
      "photoUrl": "",
      "userId": "17395860064084454693"
     },
     "user_tz": -60
    },
    "id": "dVA0MU3Nnc6C",
    "outputId": "ca0ead70-9890-480c-a5ee-2f9727996727"
   },
   "outputs": [],
   "source": [
    "t0 = now()\n",
    "print(f'started: {now()}')\n",
    "loss = list()\n",
    "for i in range(500):\n",
    "    e0 = now()\n",
    "    hist = cvae.fit([DX_subs,TD_subs[0:456,:,:,:]],epochs=1)\n",
    "\n",
    "    loss.append(hist.history['loss']);loss = loss[0:min((50,len(loss)))]\n",
    "\n",
    "    cvae.save_weights('../tf_outputs/3D_CCVAE_Weights/Nov23')\n",
    "    print(f\"epoch time: {now()-e0}, elapsed time: {now()-t0}\")\n",
    "    if np.mod(i,25)==0:\n",
    "        #plot_state_ccvae(latent_dim)\n",
    "        plot_recon()\n",
    "        plt.show()\n",
    "        plt.plot(loss);plt.title('loss')\n",
    "        plt.show()\n",
    "print(f'done in: {now()-t0}')"
   ]
  },
  {
   "cell_type": "code",
   "execution_count": null,
   "metadata": {
    "id": "q0xgLFklJTPH"
   },
   "outputs": [],
   "source": []
  },
  {
   "cell_type": "code",
   "execution_count": null,
   "metadata": {
    "colab": {
     "base_uri": "https://localhost:8080/"
    },
    "executionInfo": {
     "elapsed": 1509,
     "status": "ok",
     "timestamp": 1606931999314,
     "user": {
      "displayName": "Aidas Aglinskas",
      "photoUrl": "",
      "userId": "17395860064084454693"
     },
     "user_tz": -60
    },
    "id": "FUdFfArKJTPH",
    "outputId": "952390bf-6526-4230-f4a0-f49cb7da21cc"
   },
   "outputs": [],
   "source": [
    "len(loss)"
   ]
  },
  {
   "cell_type": "code",
   "execution_count": null,
   "metadata": {
    "colab": {
     "base_uri": "https://localhost:8080/"
    },
    "executionInfo": {
     "elapsed": 860,
     "status": "ok",
     "timestamp": 1606932062210,
     "user": {
      "displayName": "Aidas Aglinskas",
      "photoUrl": "",
      "userId": "17395860064084454693"
     },
     "user_tz": -60
    },
    "id": "CIIR_WS6JTPH",
    "outputId": "21ff8457-df39-4bbf-eb4b-640745a940f7"
   },
   "outputs": [],
   "source": []
  },
  {
   "cell_type": "code",
   "execution_count": null,
   "metadata": {
    "id": "tVMwNitOJTPH"
   },
   "outputs": [],
   "source": []
  },
  {
   "cell_type": "code",
   "execution_count": null,
   "metadata": {
    "id": "BlEgccMmJTPH"
   },
   "outputs": [],
   "source": []
  },
  {
   "cell_type": "code",
   "execution_count": null,
   "metadata": {
    "id": "INWwrMWuJTPH"
   },
   "outputs": [],
   "source": []
  },
  {
   "cell_type": "code",
   "execution_count": null,
   "metadata": {
    "id": "k63nPoYmJTPH"
   },
   "outputs": [],
   "source": []
  },
  {
   "cell_type": "code",
   "execution_count": null,
   "metadata": {
    "id": "wo7oeQfrJTPH"
   },
   "outputs": [],
   "source": []
  },
  {
   "cell_type": "code",
   "execution_count": null,
   "metadata": {
    "id": "5C9xeJa3JTPH"
   },
   "outputs": [],
   "source": []
  },
  {
   "cell_type": "code",
   "execution_count": null,
   "metadata": {
    "id": "tl68vz_iJTPH"
   },
   "outputs": [],
   "source": []
  },
  {
   "cell_type": "code",
   "execution_count": null,
   "metadata": {
    "id": "1rK_EyZDJTPH"
   },
   "outputs": [],
   "source": []
  },
  {
   "cell_type": "code",
   "execution_count": null,
   "metadata": {
    "id": "wO-Ft1iDJTPH"
   },
   "outputs": [],
   "source": []
  },
  {
   "cell_type": "code",
   "execution_count": null,
   "metadata": {
    "id": "Y-9J21rEJTPH"
   },
   "outputs": [],
   "source": []
  },
  {
   "cell_type": "code",
   "execution_count": null,
   "metadata": {
    "id": "MA9WJjzGJTPH"
   },
   "outputs": [],
   "source": []
  }
 ],
 "metadata": {
  "accelerator": "GPU",
  "colab": {
   "collapsed_sections": [],
   "name": "MRI-CCAE-3D-TRAIN-CCAE-colab.ipynb",
   "provenance": []
  },
  "kernelspec": {
   "display_name": "Python 3",
   "language": "python",
   "name": "python3"
  },
  "language_info": {
   "codemirror_mode": {
    "name": "ipython",
    "version": 3
   },
   "file_extension": ".py",
   "mimetype": "text/x-python",
   "name": "python",
   "nbconvert_exporter": "python",
   "pygments_lexer": "ipython3",
   "version": "3.7.7"
  }
 },
 "nbformat": 4,
 "nbformat_minor": 4
}

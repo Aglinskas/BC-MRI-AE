{
 "cells": [
  {
   "cell_type": "markdown",
   "metadata": {
    "id": "tXd5CerxmxGr"
   },
   "source": [
    "Make sure the tf version is 2.5.0-dev20201111 or later (for model saving)"
   ]
  },
  {
   "cell_type": "code",
   "execution_count": 1,
   "metadata": {},
   "outputs": [
    {
     "name": "stdout",
     "output_type": "stream",
     "text": [
      "2021-01-25 10:23:43.547309\n"
     ]
    }
   ],
   "source": [
    "from datetime import datetime;now = datetime.now;t00 = now()\n",
    "print(t00)"
   ]
  },
  {
   "cell_type": "code",
   "execution_count": 2,
   "metadata": {
    "colab": {
     "base_uri": "https://localhost:8080/",
     "height": 35
    },
    "id": "yj5mv_ZvNl7m",
    "outputId": "3281fa15-4cc7-4cde-cd42-1785581a4f8c"
   },
   "outputs": [
    {
     "data": {
      "text/plain": [
       "'/device:GPU:0'"
      ]
     },
     "execution_count": 2,
     "metadata": {},
     "output_type": "execute_result"
    }
   ],
   "source": [
    "import tensorflow as tf\n",
    "tf.test.gpu_device_name()"
   ]
  },
  {
   "cell_type": "code",
   "execution_count": 3,
   "metadata": {
    "colab": {
     "base_uri": "https://localhost:8080/"
    },
    "id": "Qq8i5RmyNZq-",
    "outputId": "f917cae9-d5c4-468a-bf96-d9770c9aa942"
   },
   "outputs": [
    {
     "name": "stdout",
     "output_type": "stream",
     "text": [
      "Found GPU at: /device:GPU:0\n"
     ]
    }
   ],
   "source": [
    "#%tensorflow_version 2.x\n",
    "device_name = tf.test.gpu_device_name()\n",
    "if device_name != '/device:GPU:0':\n",
    "    raise SystemError('GPU device not found')\n",
    "print('Found GPU at: {}'.format(device_name))"
   ]
  },
  {
   "cell_type": "code",
   "execution_count": 4,
   "metadata": {
    "colab": {
     "base_uri": "https://localhost:8080/"
    },
    "id": "toHPNRS6Nbnc",
    "outputId": "09489db9-7851-4f35-da41-694915309b17"
   },
   "outputs": [
    {
     "name": "stdout",
     "output_type": "stream",
     "text": [
      "GPU 0: Tesla V100-SXM2-16GB (UUID: GPU-d4562c18-3d01-4110-d707-48b82ba5de9d)\n",
      "GPU 1: Tesla V100-SXM2-16GB (UUID: GPU-9c44e4aa-2342-c342-437b-2f435f4aa581)\n",
      "GPU 2: Tesla V100-SXM2-16GB (UUID: GPU-5da48514-1b80-9761-08a6-1818f6a51f67)\n",
      "GPU 3: Tesla V100-SXM2-16GB (UUID: GPU-81adc8d7-7c25-3e6b-e732-d72679baf578)\n"
     ]
    }
   ],
   "source": [
    "!nvidia-smi -L"
   ]
  },
  {
   "cell_type": "code",
   "execution_count": 5,
   "metadata": {
    "colab": {
     "base_uri": "https://localhost:8080/"
    },
    "id": "pVT3ZT60JTPF",
    "outputId": "cecd1920-04b9-4516-a13a-891d78fd8b68"
   },
   "outputs": [
    {
     "name": "stdout",
     "output_type": "stream",
     "text": [
      "Time (s) to convolve 32x7x7x3 filter over random 100x100x100x3 images (batch x height x width x channel). Sum of ten runs.\n",
      "CPU (s):\n",
      "0.1974683670559898\n",
      "GPU (s):\n",
      "0.03214198804926127\n",
      "GPU speedup over CPU: 6x\n"
     ]
    }
   ],
   "source": [
    "#%tensorflow_version 2.x\n",
    "import tensorflow as tf\n",
    "import timeit\n",
    "\n",
    "device_name = tf.test.gpu_device_name()\n",
    "if device_name != '/device:GPU:0':\n",
    "  print(\n",
    "      '\\n\\nThis error most likely means that this notebook is not '\n",
    "      'configured to use a GPU.  Change this in Notebook Settings via the '\n",
    "      'command palette (cmd/ctrl-shift-P) or the Edit menu.\\n\\n')\n",
    "  raise SystemError('GPU device not found')\n",
    "\n",
    "def cpu():\n",
    "  with tf.device('/cpu:0'):\n",
    "    random_image_cpu = tf.random.normal((100, 100, 100, 3))\n",
    "    net_cpu = tf.keras.layers.Conv2D(32, 7)(random_image_cpu)\n",
    "    return tf.math.reduce_sum(net_cpu)\n",
    "\n",
    "def gpu():\n",
    "  with tf.device('/device:GPU:0'):\n",
    "    random_image_gpu = tf.random.normal((100, 100, 100, 3))\n",
    "    net_gpu = tf.keras.layers.Conv2D(32, 7)(random_image_gpu)\n",
    "    return tf.math.reduce_sum(net_gpu)\n",
    "  \n",
    "# We run each op once to warm up; see: https://stackoverflow.com/a/45067900\n",
    "cpu()\n",
    "gpu()\n",
    "\n",
    "# Run the op several times.\n",
    "print('Time (s) to convolve 32x7x7x3 filter over random 100x100x100x3 images '\n",
    "      '(batch x height x width x channel). Sum of ten runs.')\n",
    "print('CPU (s):')\n",
    "cpu_time = timeit.timeit('cpu()', number=10, setup=\"from __main__ import cpu\")\n",
    "print(cpu_time)\n",
    "print('GPU (s):')\n",
    "gpu_time = timeit.timeit('gpu()', number=10, setup=\"from __main__ import gpu\")\n",
    "print(gpu_time)\n",
    "print('GPU speedup over CPU: {}x'.format(int(cpu_time/gpu_time)))"
   ]
  },
  {
   "cell_type": "code",
   "execution_count": 6,
   "metadata": {
    "colab": {
     "base_uri": "https://localhost:8080/"
    },
    "id": "wrvyODvPJaOD",
    "outputId": "99239232-5868-4d63-d169-2946fc953b2b"
   },
   "outputs": [],
   "source": [
    "# from google.colab import drive\n",
    "# drive.mount(\"/content/drive\")\n",
    "# print('done, mounted')"
   ]
  },
  {
   "cell_type": "code",
   "execution_count": 7,
   "metadata": {
    "colab": {
     "base_uri": "https://localhost:8080/"
    },
    "id": "RAduH185JatO",
    "outputId": "0ae69a86-c9a6-4999-b4e1-e817abe837cf"
   },
   "outputs": [
    {
     "name": "stdout",
     "output_type": "stream",
     "text": [
      "/mmfs1/data/aglinska/BC-MRI-AE/Colab Notebooks\n"
     ]
    }
   ],
   "source": [
    "cd '/mmfs1/data/aglinska/BC-MRI-AE/Colab Notebooks'"
   ]
  },
  {
   "cell_type": "code",
   "execution_count": 8,
   "metadata": {
    "colab": {
     "base_uri": "https://localhost:8080/"
    },
    "id": "bjXikoR3dceV",
    "outputId": "850f352e-59c8-4b36-d080-034a4bc6ac8d"
   },
   "outputs": [
    {
     "name": "stdout",
     "output_type": "stream",
     "text": [
      "0:00:14.420640\n"
     ]
    }
   ],
   "source": [
    "%matplotlib inline\n",
    "\n",
    "import os\n",
    "from matplotlib import pyplot as plt\n",
    "import seaborn as sns\n",
    "\n",
    "import numpy as np\n",
    "import pandas as pd\n",
    "from tqdm import tqdm\n",
    "\n",
    "#from contrastive_vae.celeb_utils import get_celeb_vae\n",
    "#from contrastive_vae.celeb_utils import get_celeb_cvae\n",
    "\n",
    "import pandas as pd\n",
    "from sklearn.metrics import silhouette_score\n",
    "\n",
    "from mri_utils import get_MRI_CVAE_3D,get_MRI_CCVAE_3D\n",
    "\n",
    "print(now()-t00)"
   ]
  },
  {
   "cell_type": "code",
   "execution_count": 9,
   "metadata": {
    "colab": {
     "base_uri": "https://localhost:8080/"
    },
    "id": "UmLCoBjXmF8M",
    "outputId": "cf65bd65-a145-4cb8-929a-683e17c757b1"
   },
   "outputs": [
    {
     "name": "stdout",
     "output_type": "stream",
     "text": [
      "/mmfs1/data/aglinska/BC-MRI-AE\n"
     ]
    }
   ],
   "source": [
    "cd ../"
   ]
  },
  {
   "cell_type": "markdown",
   "metadata": {
    "id": "t5xW313gmrFJ"
   },
   "source": [
    "SHAPE THE DATA"
   ]
  },
  {
   "cell_type": "code",
   "execution_count": 10,
   "metadata": {
    "colab": {
     "base_uri": "https://localhost:8080/"
    },
    "id": "STcZnREmuLkX",
    "outputId": "0ad489fa-c5ef-4fe2-ead8-d6cd94f3eb00"
   },
   "outputs": [
    {
     "data": {
      "text/plain": [
       "[(1022,), (1022, 64, 64, 64)]"
      ]
     },
     "execution_count": 10,
     "metadata": {},
     "output_type": "execute_result"
    }
   ],
   "source": [
    "arr = np.load('./Data/ABIDE-Anat-64iso.npz')\n",
    "ABIDE_data = arr['data']\n",
    "ABIDE_subs = arr['subs']\n",
    "nsubs = ABIDE_data.shape[0]\n",
    "[arr.shape for arr in [ABIDE_subs,ABIDE_data]]"
   ]
  },
  {
   "cell_type": "code",
   "execution_count": 11,
   "metadata": {
    "colab": {
     "base_uri": "https://localhost:8080/"
    },
    "id": "71-GquGIuLka",
    "outputId": "a3d3dfa4-01b0-412e-89ea-e506fd31b41f"
   },
   "outputs": [
    {
     "data": {
      "text/plain": [
       "[(982,), (982, 64, 64, 64)]"
      ]
     },
     "execution_count": 11,
     "metadata": {},
     "output_type": "execute_result"
    }
   ],
   "source": [
    "aa = np.array([ABIDE_data[s,:,:,:].sum() for s in range(ABIDE_data.shape[0])])<5000\n",
    "ABIDE_data = ABIDE_data[~aa,:,:,:]\n",
    "ABIDE_subs = ABIDE_subs[~aa]\n",
    "ABIDE_data = np.load('/mmfs1/data/aglinska/3d_grassy_mnist/fake_abide.npy')\n",
    "[arr.shape for arr in [ABIDE_subs,ABIDE_data]]"
   ]
  },
  {
   "cell_type": "code",
   "execution_count": 12,
   "metadata": {
    "colab": {
     "base_uri": "https://localhost:8080/",
     "height": 284
    },
    "id": "JANBc_Nm-M2N",
    "outputId": "544e4bed-69dd-4064-b910-8e2d87b1dd1b"
   },
   "outputs": [
    {
     "data": {
      "text/html": [
       "<div>\n",
       "<style scoped>\n",
       "    .dataframe tbody tr th:only-of-type {\n",
       "        vertical-align: middle;\n",
       "    }\n",
       "\n",
       "    .dataframe tbody tr th {\n",
       "        vertical-align: top;\n",
       "    }\n",
       "\n",
       "    .dataframe thead th {\n",
       "        text-align: right;\n",
       "    }\n",
       "</style>\n",
       "<table border=\"1\" class=\"dataframe\">\n",
       "  <thead>\n",
       "    <tr style=\"text-align: right;\">\n",
       "      <th></th>\n",
       "      <th>index</th>\n",
       "      <th>BIDS_ID</th>\n",
       "      <th>Anonymized ID</th>\n",
       "      <th>Subject Type</th>\n",
       "      <th>Visit</th>\n",
       "      <th>Days since enrollment</th>\n",
       "      <th>SubID</th>\n",
       "      <th>DxGroup</th>\n",
       "      <th>DSMIVTR</th>\n",
       "      <th>AgeAtScan</th>\n",
       "      <th>...</th>\n",
       "      <th>WISC4 Pic Con Scaled</th>\n",
       "      <th>WISC4 Matrix Scaled</th>\n",
       "      <th>WISC4 Dig Span Scaled</th>\n",
       "      <th>WISC4 Let Num Scaled</th>\n",
       "      <th>WISC4 Coding Scaled</th>\n",
       "      <th>WISC4 Sym Scaled</th>\n",
       "      <th>Age at MPRAGE</th>\n",
       "      <th>Current Med Status</th>\n",
       "      <th>Medication Name</th>\n",
       "      <th>Off stimulants at EPI scan?</th>\n",
       "    </tr>\n",
       "  </thead>\n",
       "  <tbody>\n",
       "    <tr>\n",
       "      <th>0</th>\n",
       "      <td>0</td>\n",
       "      <td>sub-001</td>\n",
       "      <td>A00033348</td>\n",
       "      <td>PATIENT</td>\n",
       "      <td>session_1</td>\n",
       "      <td>8</td>\n",
       "      <td>51320</td>\n",
       "      <td>1</td>\n",
       "      <td>2.0</td>\n",
       "      <td>31.0</td>\n",
       "      <td>...</td>\n",
       "      <td>NaN</td>\n",
       "      <td>NaN</td>\n",
       "      <td>NaN</td>\n",
       "      <td>NaN</td>\n",
       "      <td>NaN</td>\n",
       "      <td>NaN</td>\n",
       "      <td>NaN</td>\n",
       "      <td>0</td>\n",
       "      <td>NaN</td>\n",
       "      <td>NaN</td>\n",
       "    </tr>\n",
       "    <tr>\n",
       "      <th>1</th>\n",
       "      <td>1</td>\n",
       "      <td>sub-002</td>\n",
       "      <td>A00033398</td>\n",
       "      <td>CONTROL</td>\n",
       "      <td>session_1</td>\n",
       "      <td>8</td>\n",
       "      <td>51373</td>\n",
       "      <td>2</td>\n",
       "      <td>0.0</td>\n",
       "      <td>46.0</td>\n",
       "      <td>...</td>\n",
       "      <td>NaN</td>\n",
       "      <td>NaN</td>\n",
       "      <td>NaN</td>\n",
       "      <td>NaN</td>\n",
       "      <td>NaN</td>\n",
       "      <td>NaN</td>\n",
       "      <td>NaN</td>\n",
       "      <td>0</td>\n",
       "      <td>NaN</td>\n",
       "      <td>NaN</td>\n",
       "    </tr>\n",
       "    <tr>\n",
       "      <th>2</th>\n",
       "      <td>2</td>\n",
       "      <td>sub-003</td>\n",
       "      <td>A00033352</td>\n",
       "      <td>PATIENT</td>\n",
       "      <td>session_1</td>\n",
       "      <td>8</td>\n",
       "      <td>51324</td>\n",
       "      <td>1</td>\n",
       "      <td>2.0</td>\n",
       "      <td>52.0</td>\n",
       "      <td>...</td>\n",
       "      <td>NaN</td>\n",
       "      <td>NaN</td>\n",
       "      <td>NaN</td>\n",
       "      <td>NaN</td>\n",
       "      <td>NaN</td>\n",
       "      <td>NaN</td>\n",
       "      <td>NaN</td>\n",
       "      <td>0</td>\n",
       "      <td>NaN</td>\n",
       "      <td>NaN</td>\n",
       "    </tr>\n",
       "    <tr>\n",
       "      <th>3</th>\n",
       "      <td>3</td>\n",
       "      <td>sub-004</td>\n",
       "      <td>A00033389</td>\n",
       "      <td>CONTROL</td>\n",
       "      <td>session_1</td>\n",
       "      <td>8</td>\n",
       "      <td>51364</td>\n",
       "      <td>2</td>\n",
       "      <td>0.0</td>\n",
       "      <td>26.0</td>\n",
       "      <td>...</td>\n",
       "      <td>NaN</td>\n",
       "      <td>NaN</td>\n",
       "      <td>NaN</td>\n",
       "      <td>NaN</td>\n",
       "      <td>NaN</td>\n",
       "      <td>NaN</td>\n",
       "      <td>NaN</td>\n",
       "      <td>0</td>\n",
       "      <td>NaN</td>\n",
       "      <td>NaN</td>\n",
       "    </tr>\n",
       "    <tr>\n",
       "      <th>4</th>\n",
       "      <td>4</td>\n",
       "      <td>sub-005</td>\n",
       "      <td>A00033354</td>\n",
       "      <td>PATIENT</td>\n",
       "      <td>session_1</td>\n",
       "      <td>8</td>\n",
       "      <td>51326</td>\n",
       "      <td>1</td>\n",
       "      <td>2.0</td>\n",
       "      <td>42.0</td>\n",
       "      <td>...</td>\n",
       "      <td>NaN</td>\n",
       "      <td>NaN</td>\n",
       "      <td>NaN</td>\n",
       "      <td>NaN</td>\n",
       "      <td>NaN</td>\n",
       "      <td>NaN</td>\n",
       "      <td>NaN</td>\n",
       "      <td>0</td>\n",
       "      <td>NaN</td>\n",
       "      <td>NaN</td>\n",
       "    </tr>\n",
       "  </tbody>\n",
       "</table>\n",
       "<p>5 rows × 79 columns</p>\n",
       "</div>"
      ],
      "text/plain": [
       "   index  BIDS_ID Anonymized ID Subject Type      Visit  \\\n",
       "0      0  sub-001     A00033348      PATIENT  session_1   \n",
       "1      1  sub-002     A00033398      CONTROL  session_1   \n",
       "2      2  sub-003     A00033352      PATIENT  session_1   \n",
       "3      3  sub-004     A00033389      CONTROL  session_1   \n",
       "4      4  sub-005     A00033354      PATIENT  session_1   \n",
       "\n",
       "   Days since enrollment  SubID  DxGroup  DSMIVTR  AgeAtScan  ...  \\\n",
       "0                      8  51320        1      2.0       31.0  ...   \n",
       "1                      8  51373        2      0.0       46.0  ...   \n",
       "2                      8  51324        1      2.0       52.0  ...   \n",
       "3                      8  51364        2      0.0       26.0  ...   \n",
       "4                      8  51326        1      2.0       42.0  ...   \n",
       "\n",
       "   WISC4 Pic Con Scaled  WISC4 Matrix Scaled  WISC4 Dig Span Scaled  \\\n",
       "0                   NaN                  NaN                    NaN   \n",
       "1                   NaN                  NaN                    NaN   \n",
       "2                   NaN                  NaN                    NaN   \n",
       "3                   NaN                  NaN                    NaN   \n",
       "4                   NaN                  NaN                    NaN   \n",
       "\n",
       "   WISC4 Let Num Scaled WISC4 Coding Scaled WISC4 Sym Scaled Age at MPRAGE  \\\n",
       "0                   NaN                 NaN              NaN           NaN   \n",
       "1                   NaN                 NaN              NaN           NaN   \n",
       "2                   NaN                 NaN              NaN           NaN   \n",
       "3                   NaN                 NaN              NaN           NaN   \n",
       "4                   NaN                 NaN              NaN           NaN   \n",
       "\n",
       "   Current Med Status  Medication Name  Off stimulants at EPI scan?  \n",
       "0                   0              NaN                          NaN  \n",
       "1                   0              NaN                          NaN  \n",
       "2                   0              NaN                          NaN  \n",
       "3                   0              NaN                          NaN  \n",
       "4                   0              NaN                          NaN  \n",
       "\n",
       "[5 rows x 79 columns]"
      ]
     },
     "execution_count": 12,
     "metadata": {},
     "output_type": "execute_result"
    }
   ],
   "source": [
    "df = pd.read_csv('./CSVs/ABIDE-legend.csv',header=0)\n",
    "df = df.iloc[np.array([df['BIDS_ID'].values[s] in ABIDE_subs for s in range(len(df))])]\n",
    "df.reset_index(inplace=True)\n",
    "\n",
    "assert len(df)==len(ABIDE_subs),'dif lenghts'\n",
    "assert all([df['BIDS_ID'][s]==ABIDE_subs[s] for s in range(len(df))]),'mismatch between df and goodsubs'\n",
    "\n",
    "df.head(5)"
   ]
  },
  {
   "cell_type": "code",
   "execution_count": 13,
   "metadata": {
    "colab": {
     "base_uri": "https://localhost:8080/"
    },
    "id": "ZoqlzdzD-U6g",
    "outputId": "7f45f299-e6f7-43e2-93fc-a2a8b89af6d8"
   },
   "outputs": [
    {
     "name": "stdout",
     "output_type": "stream",
     "text": [
      "(500, 64, 64, 64)\n",
      "(456, 64, 64, 64)\n"
     ]
    }
   ],
   "source": [
    "TD_subs = ABIDE_data[np.array(df['Subject Type']=='CONTROL'),:,:,:]\n",
    "DX_subs = ABIDE_data[np.array(df['Subject Type']=='PATIENT'),:,:,:]\n",
    "\n",
    "print(TD_subs.shape)\n",
    "print(DX_subs.shape)"
   ]
  },
  {
   "cell_type": "code",
   "execution_count": 14,
   "metadata": {
    "id": "xOdwBNsmF6Ee"
   },
   "outputs": [],
   "source": [
    "dxArr = np.ones(len(df))\n",
    "dxArr[np.array(df['Subject Type']=='PATIENT')]=2"
   ]
  },
  {
   "cell_type": "code",
   "execution_count": 15,
   "metadata": {},
   "outputs": [
    {
     "name": "stdout",
     "output_type": "stream",
     "text": [
      "982/982\n"
     ]
    }
   ],
   "source": [
    "# Get Scanner Types and Scanning Site\n",
    "#df2 = pd.read_csv('/Users/aidasaglinskas/Desktop/BC-MRI-AE/CSVs/ABIDE_BIDS_PATHS.csv',index_col=0)\n",
    "df2 = pd.read_csv('/mmfs1/data/aglinska/BC-MRI-AE/CSVs/ABIDE_BIDS_PATHS.csv',index_col=0)\n",
    "df2.index=np.arange(len(df2))\n",
    "df2 = df2.iloc[np.array([df2['subID'].values[s] in df['BIDS_ID'].values for s in np.arange(len(df2))])]\n",
    "df2.index=np.arange(len(df2))\n",
    "df2 = df2.sort_values('subID')\n",
    "df2.index=np.arange(len(df2))\n",
    "print(f'{len(df2)}/{len(df)}')\n",
    "n = len(df2)\n",
    "df2.head()\n",
    "\n",
    "assert len(df2)==len(df), 'different lenghts of CSVs'\n",
    "assert all(np.array([df2['subID'].values[s]==df['BIDS_ID'].values[s] for s in np.arange(len(df))])),'mismatch between CSV orders'"
   ]
  },
  {
   "cell_type": "code",
   "execution_count": 16,
   "metadata": {},
   "outputs": [],
   "source": [
    "df['ScanSite'] = [val.split('/')[6] for val in df2['sub_path'].values]\n",
    "df['ScannerType'] = [val.split('/')[8] for val in df2['sub_path'].values]"
   ]
  },
  {
   "cell_type": "code",
   "execution_count": 17,
   "metadata": {},
   "outputs": [],
   "source": [
    "#Validate the array\n",
    "v1 = np.array([ABIDE_data[i,:,:,:].sum() for i in range(ABIDE_data.shape[0])])\n",
    "c = np.corrcoef(np.array([ABIDE_data[i,:,:,:].flatten() for i in range(ABIDE_data.shape[0])]))"
   ]
  },
  {
   "cell_type": "code",
   "execution_count": null,
   "metadata": {},
   "outputs": [],
   "source": []
  },
  {
   "cell_type": "code",
   "execution_count": 18,
   "metadata": {},
   "outputs": [],
   "source": [
    "# Progress Plotting Functions\n",
    "def net_query():\n",
    "    i = 0\n",
    "    n = 50\n",
    "    v_sl = s_encoder.predict(ABIDE_data[0:n,:,:,:])[i]#[0,:]\n",
    "    v_bg = z_encoder.predict(ABIDE_data[0:n,:,:,:])[i]#[0,:]\n",
    "    v = np.hstack((v_sl,v_bg))\n",
    "    latent_vec = v;\n",
    "    out = cvae_decoder.predict(latent_vec)\n",
    "\n",
    "    im = out[:,:,:,:,0]\n",
    "    im1 = ABIDE_data[0:n,:,:,:]\n",
    "    ss = ((im-im1)**2).sum()\n",
    "\n",
    "    return im[0,:,:,40],im1[0,:,:,40],ss\n",
    "\n",
    "def net_plot(im,im1):\n",
    "    plt.subplot(1,2,1);\n",
    "    plt.imshow(im1);\n",
    "    plt.subplot(1,2,2);\n",
    "    plt.imshow(im);\n",
    "\n",
    "\n",
    "%matplotlib inline\n",
    "from IPython import display\n",
    "import time\n",
    "def plot_trainProgress(loss,im,im1):\n",
    "\n",
    "    display.clear_output(wait=True);\n",
    "    display.display(plt.gcf());\n",
    "    #time.sleep(1.0)\n",
    "\n",
    "    plt.figure(figsize=np.array((7,5)) );\n",
    "\n",
    "    plt.subplot(2,2,1);\n",
    "    plt.imshow(im1);plt.xticks([]);plt.yticks([]);\n",
    "    plt.title('image')\n",
    "\n",
    "    plt.subplot(2,2,3);\n",
    "    plt.imshow(im);plt.xticks([]);plt.yticks([]);\n",
    "    plt.title('reconstruction')\n",
    "\n",
    "    # Last 1000\n",
    "    plt.subplot(2,2,2);\n",
    "    \n",
    "    def moving_average(x, w):\n",
    "        return np.convolve(x, np.ones(w), 'valid') / w\n",
    "\n",
    "    ss = int(len(loss)*1/3)\n",
    "    plt.plot(loss[ss::],alpha=.3)\n",
    "    plt.plot(moving_average(loss[ss::], 100))\n",
    "    \n",
    "    # Last 100\n",
    "    plt.subplot(2,2,4);\n",
    "    n = 1000\n",
    "    if len(loss)>n:\n",
    "        plt.plot(loss[-n::]);plt.title(f'loss: last {n} iteration');\n",
    "        plt.plot(moving_average(loss[-n::], 10))\n",
    "    else:\n",
    "        plt.plot(loss);plt.title('overall loss');\n",
    "\n",
    "    plt.subplots_adjust(left=None, bottom=None, right=None, top=None, wspace=.15, hspace=.45);\n",
    "\n",
    "    plt.show();"
   ]
  },
  {
   "cell_type": "code",
   "execution_count": null,
   "metadata": {},
   "outputs": [],
   "source": []
  },
  {
   "cell_type": "markdown",
   "metadata": {
    "id": "BTN1pbr7mnxq"
   },
   "source": [
    "# TRAIN THE VAE"
   ]
  },
  {
   "cell_type": "code",
   "execution_count": 19,
   "metadata": {
    "id": "RotozUR54jNt"
   },
   "outputs": [],
   "source": [
    "train_vae = False"
   ]
  },
  {
   "cell_type": "code",
   "execution_count": 20,
   "metadata": {
    "id": "ny0tO8kropHG"
   },
   "outputs": [],
   "source": [
    "if train_vae:\n",
    "  from scipy.spatial.distance import pdist\n",
    "  from scipy.spatial.distance import squareform\n",
    "\n",
    "  def plot_recon_vae():\n",
    "      plt.figure(figsize=(5,5));\n",
    "      plt.subplot(2,2,1)\n",
    "      plt.imshow(DX_batch[0,:,:,40]);plt.xticks([]);plt.yticks([]);plt.title('input');\n",
    "      plt.subplot(2,2,2)\n",
    "      plt.imshow(cvae.predict([DX_batch,TD_batch])[0][0,:,:,40,0]);plt.xticks([]);plt.yticks([]);plt.title('reconstruction');\n",
    "\n",
    "      plt.subplot(2,2,3)\n",
    "      plt.imshow(TD_batch[0,32,:,:]);plt.xticks([]);plt.yticks([]);\n",
    "      plt.subplot(2,2,4)\n",
    "      plt.imshow(cvae.predict([DX_batch,TD_batch])[1][0,32,:,:,0]);plt.xticks([]);plt.yticks([]);"
   ]
  },
  {
   "cell_type": "code",
   "execution_count": 21,
   "metadata": {
    "id": "qllddMarnEr2"
   },
   "outputs": [],
   "source": [
    "import pickle\n",
    "if train_vae:\n",
    "    latent_dim=32\n",
    "    batch_size=64\n",
    "    disentangle=False\n",
    "    gamma=1\n",
    "    \n",
    "    encoder, decoder, vae = get_MRI_CVAE_3D(input_shape=(64, 64, 64, 1), latent_dim=latent_dim, batch_size=batch_size, disentangle=disentangle, gamma=gamma)\n",
    "    loss = list()\n",
    "    print('ready')\n",
    "    #fn = '/mmfs1/data/aglinska/tf_outputs/VAE/Jan4th'\n",
    "    fn = '/mmfs1/data/aglinska/tf_outputs/VAE/Jan12th_16d'\n",
    "    #fn = '/mmfs1/data/aglinska/tf_outputs/VAE/VAE_2D_b64_NoDis_g1'\n",
    "    if os.path.exists(fn+'_loss.pickle'):\n",
    "        print('loading weights')\n",
    "        vae.load_weights(fn)\n",
    "        loss = pickle.load(open(fn+'_loss.pickle','rb'))\n",
    "    else:\n",
    "        print('no weights found - initializing new')\n",
    "        \n",
    "    print(fn)"
   ]
  },
  {
   "cell_type": "code",
   "execution_count": 22,
   "metadata": {},
   "outputs": [],
   "source": [
    "if train_vae:\n",
    "    im1 = ABIDE_data[0:5,:,:,:][0,32,:,:];\n",
    "    im = vae.predict(ABIDE_data[0:5,:,:,:])[0,32,:,:,0];\n",
    "    plot_trainProgress(loss,im,im1);"
   ]
  },
  {
   "cell_type": "code",
   "execution_count": 23,
   "metadata": {},
   "outputs": [],
   "source": [
    "if train_vae:\n",
    "    batch_size = 64\n",
    "    for i in tqdm(range(1,10000)):    \n",
    "        history = vae.train_on_batch(ABIDE_data[np.random.randint(low=0,high=ABIDE_data.shape[0],size=batch_size),:,:,:]);\n",
    "        loss.append(history);\n",
    "        if np.mod(i,25)==0:\n",
    "            im1 = ABIDE_data[0:5,:,:,:][0,32,:,:];\n",
    "            im = vae.predict(ABIDE_data[0:5,:,:,:])[0,32,:,:,0];\n",
    "            plot_trainProgress(loss,im,im1);\n",
    "\n",
    "        if np.mod(i,100)==0:\n",
    "            pickle.dump(loss,open(fn+'_loss.pickle','wb'))\n",
    "            vae.save_weights(fn)"
   ]
  },
  {
   "cell_type": "code",
   "execution_count": null,
   "metadata": {},
   "outputs": [],
   "source": []
  },
  {
   "cell_type": "code",
   "execution_count": null,
   "metadata": {},
   "outputs": [],
   "source": []
  },
  {
   "cell_type": "code",
   "execution_count": null,
   "metadata": {},
   "outputs": [],
   "source": []
  },
  {
   "cell_type": "code",
   "execution_count": null,
   "metadata": {},
   "outputs": [],
   "source": []
  },
  {
   "cell_type": "markdown",
   "metadata": {
    "id": "LAbH8lm-nXUt"
   },
   "source": [
    "# TRAIN THE CONTRASTIVE VAE"
   ]
  },
  {
   "cell_type": "code",
   "execution_count": 24,
   "metadata": {
    "id": "BF1kR0RA4m3V"
   },
   "outputs": [],
   "source": [
    "train_cvae = True"
   ]
  },
  {
   "cell_type": "code",
   "execution_count": 25,
   "metadata": {
    "id": "PAmPFylHdYuj"
   },
   "outputs": [],
   "source": [
    "if train_cvae:\n",
    "  import tensorflow as tf\n",
    "  import numpy as np\n",
    "  import matplotlib.pyplot as plt\n",
    "  from scipy.special import expit\n",
    "  from sklearn.metrics import silhouette_score\n",
    "  from tensorflow.keras.layers import *\n",
    "  from tensorflow.keras import backend as K\n",
    "  from tensorflow.keras.models import Model\n",
    "  from tensorflow.keras.losses import mse\n",
    "  import os\n",
    "  import pandas as pd\n",
    "  from glob import glob\n",
    "  #import helper\n",
    "\n",
    "\n",
    "  def sampling(args):\n",
    "      \"\"\"Reparameterization trick by sampling fr an isotropic unit Gaussian.\n",
    "      # Arguments:\n",
    "          args (tensor): mean and log of variance of Q(z|X)\n",
    "      # Returns:\n",
    "          z (tensor): sampled latent vector\n",
    "      \"\"\"\n",
    "\n",
    "      z_mean, z_log_var = args\n",
    "      batch = K.shape(z_mean)[0]\n",
    "      dim = K.int_shape(z_mean)[1]\n",
    "      # by default, random_normal has mean=0 and std=1.0\n",
    "      epsilon = K.random_normal(shape=(batch, dim))\n",
    "      return z_mean + K.exp(0.5 * z_log_var) * epsilon\n",
    "\n",
    "\n",
    "  def get_MRI_CVAE_3D(input_shape=(64,64,64,1), latent_dim=2, batch_size = 32, disentangle=False, gamma=1):\n",
    "      #TODO: add discriminator loss, see if there is improvement. Perhaps try on shapes dataset if it's easier...\n",
    "\n",
    "      image_size, _, _, channels = input_shape\n",
    "      kernel_size = 3\n",
    "      filters = 16\n",
    "      intermediate_dim = 128\n",
    "      epochs = 10\n",
    "      nlayers = 2\n",
    "      \n",
    "      # VAE model = encoder + decoder\n",
    "      # build encoder model\n",
    "      inputs = Input(shape=input_shape, name='encoder_input')\n",
    "      x = inputs\n",
    "      for i in range(nlayers):\n",
    "          filters *= 2\n",
    "          x = Conv3D(filters=filters,\n",
    "                    kernel_size=kernel_size,\n",
    "                    activation='relu',\n",
    "                    strides=2,\n",
    "                    padding='same')(x)\n",
    "\n",
    "      # shape info needed to build decoder model\n",
    "      shape = K.int_shape(x)\n",
    "\n",
    "      # generate latent vector Q(z|X)\n",
    "      x = Flatten()(x)\n",
    "      x = Dense(intermediate_dim, activation='relu')(x)\n",
    "      z_mean = Dense(latent_dim, name='z_mean')(x)\n",
    "      z_log_var = Dense(latent_dim, name='z_log_var')(x)\n",
    "\n",
    "      # use reparameterization trick to push the sampling out as input\n",
    "      # note that \"output_shape\" isn't necessary with the TensorFlow backend\n",
    "      z = Lambda(sampling, output_shape=(latent_dim,), name='z')([z_mean, z_log_var])\n",
    "\n",
    "      # instantiate encoder model\n",
    "      encoder = Model(inputs, [z_mean, z_log_var, z], name='encoder')\n",
    "\n",
    "      # build decoder model\n",
    "      latent_inputs = Input(shape=(latent_dim,), name='z_sampling')\n",
    "      x = Dense(intermediate_dim, activation='relu')(latent_inputs)\n",
    "      x = Dense(shape[1] * shape[2] * shape[3] * shape[4], activation='relu')(x)\n",
    "      x = Reshape((shape[1], shape[2], shape[3],shape[4]))(x)\n",
    "\n",
    "      for i in range(nlayers):\n",
    "          x = Conv3DTranspose(filters=filters,\n",
    "                              kernel_size=kernel_size,\n",
    "                              activation='relu',\n",
    "                              strides=2,\n",
    "                              padding='same')(x)\n",
    "          filters //= 2\n",
    "\n",
    "      outputs = Conv3DTranspose(filters=1,\n",
    "                                kernel_size=kernel_size,\n",
    "                                activation='sigmoid',\n",
    "                                padding='same',\n",
    "                                name='decoder_output')(x)\n",
    "\n",
    "      # instantiate decoder model\n",
    "      decoder = Model(latent_inputs, outputs, name='decoder')\n",
    "\n",
    "      #     decoder.summary()\n",
    "\n",
    "      # instantiate VAE model\n",
    "      outputs = decoder(encoder(inputs)[2])\n",
    "      vae = Model(inputs, outputs, name='vae')\n",
    "\n",
    "      if disentangle:\n",
    "          discriminator = Dense(1, activation='sigmoid')\n",
    "\n",
    "          z1 = Lambda(lambda x: x[:int(batch_size/2),:int(latent_dim/2)])(z)\n",
    "          z2 = Lambda(lambda x: x[int(batch_size/2):,:int(latent_dim/2)])(z)\n",
    "          s1 = Lambda(lambda x: x[:int(batch_size/2),int(latent_dim/2):])(z)\n",
    "          s2 = Lambda(lambda x: x[int(batch_size/2):,int(latent_dim/2):])(z)\n",
    "          q_bar = tf.keras.layers.concatenate(\n",
    "              [tf.keras.layers.concatenate([s1, z2], axis=1),\n",
    "              tf.keras.layers.concatenate([s2, z1], axis=1)],\n",
    "              axis=0)\n",
    "          q = tf.keras.layers.concatenate(\n",
    "              [tf.keras.layers.concatenate([s1, z1], axis=1),\n",
    "              tf.keras.layers.concatenate([s2, z2], axis=1)],\n",
    "              axis=0)\n",
    "          q_bar_score = discriminator(q_bar)\n",
    "          q_score = discriminator(q)        \n",
    "          tc_loss = K.log(q_score / (1 - q_score)) \n",
    "\n",
    "          discriminator_loss = - K.log(q_score) - K.log(1 - q_bar_score)\n",
    "\n",
    "      reconstruction_loss = mse(K.flatten(inputs), K.flatten(outputs))\n",
    "      reconstruction_loss *= image_size * image_size\n",
    "\n",
    "\n",
    "      kl_loss = 1 + z_log_var - K.square(z_mean) - K.exp(z_log_var)\n",
    "      kl_loss = K.sum(kl_loss, axis=-1)\n",
    "      kl_loss *= -0.5\n",
    "      if disentangle:\n",
    "          vae_loss = K.mean(reconstruction_loss) + K.mean(kl_loss) + gamma * K.mean(tc_loss) + K.mean(discriminator_loss)\n",
    "      else:\n",
    "          vae_loss = K.mean(reconstruction_loss) + K.mean(kl_loss)\n",
    "\n",
    "      vae.add_loss(vae_loss)\n",
    "      vae.compile(optimizer='rmsprop')\n",
    "      if disentangle:\n",
    "          vae.metrics_tensors = [reconstruction_loss, kl_loss, tc_loss, discriminator_loss]\n",
    "      #     vae.summary()\n",
    "      return encoder, decoder, vae\n",
    "\n",
    "\n",
    "\n",
    "  ####################################################################################################\n",
    "  ####################################################################################################\n",
    "  ####################################################################################################\n",
    "  ####################################################################################################\n",
    "  ####################################################################################################\n",
    "\n",
    "\n",
    "  def get_MRI_CCVAE_3D(input_shape=(64,64,64,1), latent_dim=2, beta=1, disentangle=False, gamma=1, bias=True,batch_size = 64):\n",
    "      \n",
    "      image_size, _, _, channels = input_shape\n",
    "      kernel_size = 3\n",
    "      filters = 16\n",
    "      intermediate_dim = 128\n",
    "      epochs = 10\n",
    "      nlayers = 2\n",
    "\n",
    "      # build encoder model\n",
    "      tg_inputs = Input(shape=input_shape, name='tg_inputs')\n",
    "      bg_inputs = Input(shape=input_shape, name='bg_inputs')\n",
    "\n",
    "      z_conv1 = Conv3D(filters=filters*2,\n",
    "                kernel_size=kernel_size,\n",
    "                activation='relu',\n",
    "                strides=2,\n",
    "                use_bias=bias,\n",
    "                padding='same')\n",
    "      \n",
    "      z_conv2 = Conv3D(filters=filters*4,\n",
    "                kernel_size=kernel_size,\n",
    "                activation='relu',\n",
    "                strides=2,\n",
    "                use_bias=bias,\n",
    "                padding='same')\n",
    "\n",
    "\n",
    "      # generate latent vector Q(z|X)\n",
    "      z_h_layer = Dense(intermediate_dim, activation='relu', use_bias=bias)\n",
    "      z_mean_layer = Dense(latent_dim, name='z_mean', use_bias=bias)\n",
    "      z_log_var_layer = Dense(latent_dim, name='z_log_var', use_bias=bias)\n",
    "      z_layer = Lambda(sampling, output_shape=(latent_dim,), name='z')\n",
    "      \n",
    "      def z_encoder_func(inputs):\n",
    "          z_h = inputs\n",
    "          z_h = z_conv1(z_h)\n",
    "          z_h = z_conv2(z_h)\n",
    "          # shape info needed to build decoder model\n",
    "          shape = K.int_shape(z_h)\n",
    "          z_h = Flatten()(z_h)\n",
    "          z_h = z_h_layer(z_h)\n",
    "          z_mean =  z_mean_layer(z_h)\n",
    "          z_log_var =  z_log_var_layer(z_h)\n",
    "          z = z_layer([z_mean, z_log_var])\n",
    "          return z_mean, z_log_var, z, shape\n",
    "\n",
    "      tg_z_mean, tg_z_log_var, tg_z, shape_z = z_encoder_func(tg_inputs)\n",
    "      \n",
    "      \n",
    "      s_conv1 = Conv3D(filters=filters*2,\n",
    "                kernel_size=kernel_size,\n",
    "                activation='relu',\n",
    "                strides=2,\n",
    "                use_bias=bias,\n",
    "                padding='same')\n",
    "      \n",
    "      s_conv2 = Conv3D(filters=filters*4,\n",
    "                kernel_size=kernel_size,\n",
    "                activation='relu',\n",
    "                strides=2,\n",
    "                use_bias=bias,\n",
    "                padding='same')\n",
    "\n",
    "\n",
    "      # generate latent vector Q(z|X)\n",
    "      s_h_layer = Dense(intermediate_dim, activation='relu', use_bias=bias)\n",
    "      s_mean_layer = Dense(latent_dim, name='s_mean', use_bias=bias)\n",
    "      s_log_var_layer = Dense(latent_dim, name='s_log_var', use_bias=bias)\n",
    "      s_layer = Lambda(sampling, output_shape=(latent_dim,), name='s')\n",
    "      \n",
    "      def s_encoder_func(inputs):\n",
    "          s_h = inputs\n",
    "          s_h = s_conv1(s_h)\n",
    "          s_h = s_conv2(s_h)\n",
    "          # shape info needed to build decoder model\n",
    "          shape = K.int_shape(s_h)\n",
    "          s_h = Flatten()(s_h)\n",
    "          s_h = s_h_layer(s_h)\n",
    "          s_mean =  s_mean_layer(s_h)\n",
    "          s_log_var =  s_log_var_layer(s_h)\n",
    "          s = s_layer([s_mean, s_log_var])\n",
    "          return s_mean, s_log_var, s, shape\n",
    "\n",
    "      tg_s_mean, tg_s_log_var, tg_s, shape_s = s_encoder_func(tg_inputs)\n",
    "      bg_s_mean, bg_s_log_var, bg_s, _ = s_encoder_func(bg_inputs) \n",
    "      \n",
    "\n",
    "      # instantiate encoder models\n",
    "      z_encoder = tf.keras.models.Model(tg_inputs, [tg_z_mean, tg_z_log_var, tg_z], name='z_encoder')\n",
    "      s_encoder = tf.keras.models.Model(tg_inputs, [tg_s_mean, tg_s_log_var, tg_s], name='s_encoder')\n",
    "\n",
    "  #    print(\"shape z\")\n",
    "  #    print(shape_z)\n",
    "      \n",
    "      # build decoder model\n",
    "      latent_inputs = Input(shape=(2*latent_dim,), name='z_sampling')\n",
    "      x = Dense(intermediate_dim, activation='relu', use_bias=bias)(latent_inputs)\n",
    "      x = Dense(shape_z[1] * shape_z[2] * shape_z[3] * shape_z[4], activation='relu', use_bias=bias)(x)\n",
    "      x = Reshape((shape_z[1], shape_z[2], shape_z[3],shape_z[4]))(x)\n",
    "      \n",
    "  #     x = Dense(shape_z[1] * shape_z[2] * shape_z[3], activation='relu', use_bias=bias)(x)\n",
    "  #     x = Reshape((shape_z[1], shape_z[2], shape_z[3]))(x)\n",
    "\n",
    "      for i in range(nlayers):\n",
    "          x = Conv3DTranspose(filters=filters,\n",
    "                              kernel_size=kernel_size,\n",
    "                              activation='relu',\n",
    "                              strides=2,\n",
    "                              use_bias=bias,\n",
    "                              padding='same')(x)\n",
    "          filters //= 2\n",
    "\n",
    "      outputs = Conv3DTranspose(filters=1,\n",
    "                                kernel_size=kernel_size,\n",
    "                                activation='sigmoid',\n",
    "                                padding='same',\n",
    "                                use_bias=bias,\n",
    "                                name='decoder_output')(x)\n",
    "\n",
    "      # instantiate decoder model\n",
    "      cvae_decoder = Model(latent_inputs, outputs, name='decoder')\n",
    "      # decoder.summary()\n",
    "\n",
    "      def zeros_like(x):\n",
    "          return tf.zeros_like(x)\n",
    "\n",
    "      tg_outputs = cvae_decoder(tf.keras.layers.concatenate([tg_z, tg_s], -1))\n",
    "      zeros = tf.keras.layers.Lambda(zeros_like)(tg_z)\n",
    "      bg_outputs = cvae_decoder(tf.keras.layers.concatenate([zeros, bg_s], -1))\n",
    "      fg_outputs = cvae_decoder(tf.keras.layers.concatenate([tg_z, zeros], -1))\n",
    "\n",
    "      # instantiate VAE model\n",
    "      cvae = tf.keras.models.Model(inputs=[tg_inputs, bg_inputs], \n",
    "                                  outputs=[tg_outputs, bg_outputs], \n",
    "                                  name='contrastive_vae')\n",
    "\n",
    "      cvae_fg = tf.keras.models.Model(inputs=tg_inputs, \n",
    "                                      outputs=fg_outputs, \n",
    "                                      name='contrastive_vae_fg')\n",
    "      \n",
    "      if disentangle:\n",
    "          discriminator = Dense(1, activation='sigmoid')\n",
    "          \n",
    "          z1 = Lambda(lambda x: x[:int(batch_size/2),:])(tg_z);print(tg_z)\n",
    "          z2 = Lambda(lambda x: x[int(batch_size/2):,:])(tg_z)\n",
    "          s1 = Lambda(lambda x: x[:int(batch_size/2),:])(tg_s)\n",
    "          s2 = Lambda(lambda x: x[int(batch_size/2):,:])(tg_s)\n",
    "          \n",
    "          q_bar = tf.keras.layers.concatenate(\n",
    "              [tf.keras.layers.concatenate([s1, z2], axis=1),\n",
    "              tf.keras.layers.concatenate([s2, z1], axis=1)],\n",
    "              axis=0)\n",
    "        \n",
    "          q = tf.keras.layers.concatenate(\n",
    "              [tf.keras.layers.concatenate([s1, z1], axis=1),\n",
    "              tf.keras.layers.concatenate([s2, z2], axis=1)],\n",
    "              axis=0)\n",
    "          \n",
    "          q_bar_score = (discriminator(q_bar)+.1) *.85 # ULTIMATE MEGA HAXXX\n",
    "          q_score = (discriminator(q)+.1) *.85 # ULTIMATE MEGA HAXXX\n",
    "        \n",
    "          tc_loss = K.log(q_score / (1 - q_score)) \n",
    "          \n",
    "          discriminator_loss = - K.log(q_score) - K.log(1 - q_bar_score)\n",
    "      else:\n",
    "          tc_loss = 0\n",
    "          discriminator_loss = 0\n",
    "      \n",
    "      \n",
    "      reconstruction_loss = tf.keras.losses.mse(K.flatten(tg_inputs), K.flatten(tg_outputs))\n",
    "      reconstruction_loss += tf.keras.losses.mse(K.flatten(bg_inputs), K.flatten(bg_outputs))\n",
    "      reconstruction_loss *= input_shape[0] * input_shape[1] * input_shape[2] * input_shape[3]\n",
    "\n",
    "\n",
    "      kl_loss = 1 + tg_z_log_var - tf.keras.backend.square(tg_z_mean) - tf.keras.backend.exp(tg_z_log_var)\n",
    "      kl_loss += 1 + tg_s_log_var - tf.keras.backend.square(tg_s_mean) - tf.keras.backend.exp(tg_s_log_var)\n",
    "      kl_loss += 1 + bg_s_log_var - tf.keras.backend.square(bg_s_mean) - tf.keras.backend.exp(bg_s_log_var)\n",
    "      kl_loss = tf.keras.backend.sum(kl_loss, axis=-1)\n",
    "      kl_loss *= -0.5\n",
    "\n",
    "      cvae_loss = tf.keras.backend.mean(reconstruction_loss + beta*kl_loss + gamma * tc_loss + discriminator_loss)\n",
    "      cvae.add_loss(cvae_loss)\n",
    "      cvae.compile(optimizer='rmsprop',run_eagerly=True)\n",
    "      \n",
    "      return cvae, cvae_fg, z_encoder, s_encoder, cvae_decoder"
   ]
  },
  {
   "cell_type": "code",
   "execution_count": null,
   "metadata": {
    "id": "C8sYqMI78aGS"
   },
   "outputs": [],
   "source": []
  },
  {
   "cell_type": "code",
   "execution_count": null,
   "metadata": {},
   "outputs": [],
   "source": []
  },
  {
   "cell_type": "code",
   "execution_count": 26,
   "metadata": {},
   "outputs": [],
   "source": [
    "def get_batch_idx(df,batch_size = 64):\n",
    "\n",
    "    sub_scan_site = df['ScanSite'].values\n",
    "    scanning_sites = np.unique(sub_scan_site)\n",
    "\n",
    "    nsites = len(scanning_sites)\n",
    "\n",
    "    this_site = np.random.randint(low=0,high=nsites)\n",
    "\n",
    "\n",
    "    site_asd = (sub_scan_site==scanning_sites[this_site]) * (df['DxGroup'].values==1)\n",
    "    site_td = (sub_scan_site==scanning_sites[this_site]) * (df['DxGroup'].values==2)\n",
    "\n",
    "    asd_idx = np.nonzero(site_asd)[0]\n",
    "    td_idx = np.nonzero(site_td)[0]\n",
    "\n",
    "    while len(asd_idx) < batch_size: #if not enough copy over\n",
    "        asd_idx = np.hstack((asd_idx,asd_idx))\n",
    "\n",
    "    while len(td_idx) < batch_size: #if not enough copy over\n",
    "        td_idx = np.hstack((td_idx,td_idx))\n",
    "\n",
    "    assert len(np.unique(df.iloc[asd_idx]['Subject Type'].values)),'subject batch selection messed up'\n",
    "    assert len(np.unique(df.iloc[asd_idx]['ScanSite'].values)),'subject batch selection messed up'\n",
    "    assert len(np.unique(df.iloc[asd_idx]['ScannerType'].values)),'subject batch selection messed up'\n",
    "\n",
    "    assert len(np.unique(df.iloc[td_idx]['Subject Type'].values)),'subject batch selection messed up'\n",
    "    assert len(np.unique(df.iloc[td_idx]['ScanSite'].values)),'subject batch selection messed up'\n",
    "    assert len(np.unique(df.iloc[td_idx]['ScannerType'].values)),'subject batch selection messed up'\n",
    "    \n",
    "    assert ~any([a in td_idx for a in asd_idx]),'you f***ed up'\n",
    "    assert ~any([t in asd_idx for t in td_idx]),'you f***ed up'\n",
    "    \n",
    "    np.random.shuffle(asd_idx)\n",
    "    np.random.shuffle(td_idx)\n",
    "\n",
    "    asd_idx = asd_idx[0:batch_size]\n",
    "    td_idx = td_idx[0:batch_size]\n",
    "\n",
    "    return asd_idx,td_idx"
   ]
  },
  {
   "cell_type": "code",
   "execution_count": null,
   "metadata": {},
   "outputs": [],
   "source": []
  },
  {
   "cell_type": "code",
   "execution_count": null,
   "metadata": {},
   "outputs": [],
   "source": []
  },
  {
   "cell_type": "code",
   "execution_count": null,
   "metadata": {},
   "outputs": [],
   "source": []
  },
  {
   "cell_type": "code",
   "execution_count": null,
   "metadata": {},
   "outputs": [],
   "source": []
  },
  {
   "cell_type": "code",
   "execution_count": null,
   "metadata": {},
   "outputs": [],
   "source": []
  },
  {
   "cell_type": "code",
   "execution_count": null,
   "metadata": {},
   "outputs": [],
   "source": []
  },
  {
   "cell_type": "code",
   "execution_count": 27,
   "metadata": {
    "id": "AZQPIjP9YhKp"
   },
   "outputs": [],
   "source": [
    "# Make tqdm work for colab\n",
    "from functools import partial\n",
    "from tqdm import tqdm\n",
    "tqdm = partial(tqdm, position=0, leave=True)"
   ]
  },
  {
   "cell_type": "code",
   "execution_count": 28,
   "metadata": {},
   "outputs": [],
   "source": [
    "import pickle"
   ]
  },
  {
   "cell_type": "code",
   "execution_count": 55,
   "metadata": {},
   "outputs": [
    {
     "name": "stdout",
     "output_type": "stream",
     "text": [
      "Tensor(\"z/add_6:0\", shape=(None, 16), dtype=float32)\n"
     ]
    }
   ],
   "source": [
    "if train_cvae:\n",
    "    latent_dim = 16\n",
    "    #batch_size = 12\n",
    "    batch_size = 64\n",
    "    beta = 1;gamma = 1\n",
    "    disentangle=True\n",
    "    cvae, cvae_fg, z_encoder, s_encoder, cvae_decoder = get_MRI_CCVAE_3D(latent_dim=latent_dim,beta=beta, disentangle=disentangle, gamma=gamma, bias=True, batch_size = batch_size)\n",
    "    loss = list()    \n",
    "    #fn = '/mmfs1/data/aglinska/tf_outputs/CVAE/Jan12_disentagled_l16'\n",
    "    #fn = '/mmfs1/data/aglinska/tf_outputs/CVAE/16dim_noDis_evBatch'\n",
    "    fn = '/mmfs1/data/aglinska/tf_outputs/CVAE/fake_abide_flipped_disentangled'\n",
    "    \n",
    "    #loss = pickle.load(open(fn+'_loss.pickle','rb'))\n",
    "    #cvae.load_weights(fn)"
   ]
  },
  {
   "cell_type": "code",
   "execution_count": 56,
   "metadata": {},
   "outputs": [
    {
     "data": {
      "text/plain": [
       "'/mmfs1/data/aglinska/tf_outputs/CVAE/fake_abide_flipped_disentangled'"
      ]
     },
     "execution_count": 56,
     "metadata": {},
     "output_type": "execute_result"
    }
   ],
   "source": [
    "fn"
   ]
  },
  {
   "cell_type": "code",
   "execution_count": 57,
   "metadata": {},
   "outputs": [
    {
     "data": {
      "text/plain": [
       "<Figure size 432x288 with 0 Axes>"
      ]
     },
     "metadata": {},
     "output_type": "display_data"
    },
    {
     "data": {
      "text/plain": [
       "<Figure size 432x288 with 0 Axes>"
      ]
     },
     "metadata": {},
     "output_type": "display_data"
    },
    {
     "data": {
      "image/png": "[encoded data removed]",
      "text/plain": [
       "<Figure size 504x360 with 4 Axes>"
      ]
     },
     "metadata": {
      "needs_background": "light"
     },
     "output_type": "display_data"
    }
   ],
   "source": [
    "# Initial Check\n",
    "DX_batch = DX_subs[np.random.randint(low=0,high=DX_subs.shape[0],size=batch_size),:,:,:];\n",
    "TD_batch = TD_subs[np.random.randint(low=0,high=TD_subs.shape[0],size=batch_size),:,:,:];\n",
    "\n",
    "if len(loss)==0:\n",
    "    loss.append(np.nan)\n",
    "    im,im1,ss = net_query();\n",
    "    plot_trainProgress(loss,im,im1);\n",
    "    loss = list()\n",
    "else:\n",
    "    im,im1,ss = net_query();\n",
    "    plot_trainProgress(loss,im,im1);"
   ]
  },
  {
   "cell_type": "code",
   "execution_count": 58,
   "metadata": {},
   "outputs": [],
   "source": [
    "def plot_four():\n",
    "    \n",
    "    im_in = [DX_batch,TD_batch][np.random.choice([0,1])]\n",
    "    _zeros = np.zeros(s_encoder(im_in)[2].shape)\n",
    "\n",
    "    v = 2\n",
    "    cvae_full_vec = np.hstack((z_encoder(im_in)[v],s_encoder(im_in)[v]))\n",
    "    cvae_sal_vec = np.hstack((_zeros,s_encoder(im_in)[v]))\n",
    "    cvae_bg_vec = np.hstack((z_encoder(im_in)[v],_zeros))\n",
    "    im_out = cvae_decoder(cvae_full_vec)\n",
    "\n",
    "    plt.figure(figsize=(5,5))\n",
    "    s = 11\n",
    "    plt.subplot(2,2,1)\n",
    "    plt.imshow(im_in[s,:,:,0]);plt.xticks([]);plt.yticks([]);plt.title('input')\n",
    "\n",
    "    plt.subplot(2,2,2)\n",
    "    plt.imshow(cvae_decoder(cvae_full_vec)[s,:,:,0,0]);plt.xticks([]);plt.yticks([]);plt.title('reconstruction')\n",
    "\n",
    "    plt.subplot(2,2,3)\n",
    "    plt.imshow(cvae_decoder(cvae_sal_vec)[s,:,:,0,0]);plt.xticks([]);plt.yticks([]);plt.title('salient')\n",
    "\n",
    "    plt.subplot(2,2,4)\n",
    "    plt.imshow(cvae_decoder(cvae_bg_vec)[s,:,:,0,0]);plt.xticks([]);plt.yticks([]);plt.title('background')\n",
    "    \n",
    "    plt.show()"
   ]
  },
  {
   "cell_type": "code",
   "execution_count": null,
   "metadata": {
    "colab": {
     "base_uri": "https://localhost:8080/",
     "height": 903
    },
    "id": "f3G3VigW9erL",
    "outputId": "5da10070-dde3-4d30-cabc-b795a2827082"
   },
   "outputs": [
    {
     "data": {
      "text/plain": [
       "<Figure size 432x288 with 0 Axes>"
      ]
     },
     "metadata": {},
     "output_type": "display_data"
    },
    {
     "data": {
      "text/plain": [
       "<Figure size 432x288 with 0 Axes>"
      ]
     },
     "metadata": {},
     "output_type": "display_data"
    },
    {
     "data": {
      "image/png": "[encoded data removed]",
      "text/plain": [
       "<Figure size 504x360 with 4 Axes>"
      ]
     },
     "metadata": {
      "needs_background": "light"
     },
     "output_type": "display_data"
    },
    {
     "data": {
      "image/png": "[encoded data removed]",
      "text/plain": [
       "<Figure size 360x360 with 4 Axes>"
      ]
     },
     "metadata": {},
     "output_type": "display_data"
    },
    {
     "name": "stderr",
     "output_type": "stream",
     "text": [
      "  0%|          | 90/999999 [01:29<324:13:50,  1.17s/it]"
     ]
    }
   ],
   "source": [
    "for i in tqdm(range(1,int(1e6))):\n",
    "    \n",
    "    #asd_idx,td_idx = get_batch_idx(df,batch_size = batch_size)\n",
    "    #DX_batch = np.take(ABIDE_data, indices=asd_idx, axis=0)\n",
    "    #TD_batch = np.take(ABIDE_data, indices=td_idx, axis=0)\n",
    "    DX_batch = DX_subs[np.random.randint(low=0,high=DX_subs.shape[0],size=batch_size),:,:,:];\n",
    "    TD_batch = TD_subs[np.random.randint(low=0,high=TD_subs.shape[0],size=batch_size),:,:,:];\n",
    "    #hist = cvae.train_on_batch([DX_batch,TD_batch]); # Proper \n",
    "    hist = cvae.train_on_batch([TD_batch,DX_batch]); # Flipped\n",
    "    \n",
    "    assert not np.isnan(hist),'loss is NaN - you f**cked up'\n",
    "    \n",
    "    im,im1,ss = net_query();\n",
    "    \n",
    "    loss.append(hist);\n",
    "    \n",
    "    if np.mod(i,10)==0:\n",
    "        plot_trainProgress(loss,im,im1);\n",
    "        pickle.dump(loss,open(fn+'_loss.pickle','wb'))\n",
    "        plot_four()\n",
    "        \n",
    "  \n",
    "        \n",
    "    if np.mod(i,101)==0:\n",
    "        cvae.save_weights(fn)"
   ]
  },
  {
   "cell_type": "code",
   "execution_count": null,
   "metadata": {},
   "outputs": [],
   "source": []
  },
  {
   "cell_type": "code",
   "execution_count": null,
   "metadata": {},
   "outputs": [],
   "source": []
  },
  {
   "cell_type": "code",
   "execution_count": null,
   "metadata": {},
   "outputs": [],
   "source": [
    "# s = 2\n",
    "# plt.subplot(1,3,1)\n",
    "# plt.imshow(TD_batch[s,:,:,0]);plt.xticks([]);plt.yticks([])\n",
    "# plt.subplot(1,3,2)\n",
    "# plt.imshow(cvae.predict([DX_batch,TD_batch])[0][s,:,:,0,0]);plt.xticks([]);plt.yticks([])\n",
    "# plt.subplot(1,3,3)\n",
    "# plt.imshow(cvae.predict([DX_batch,TD_batch])[1][s,:,:,0,0]);plt.xticks([]);plt.yticks([])"
   ]
  },
  {
   "cell_type": "code",
   "execution_count": 179,
   "metadata": {},
   "outputs": [],
   "source": []
  },
  {
   "cell_type": "code",
   "execution_count": null,
   "metadata": {},
   "outputs": [],
   "source": []
  },
  {
   "cell_type": "code",
   "execution_count": null,
   "metadata": {},
   "outputs": [],
   "source": []
  },
  {
   "cell_type": "code",
   "execution_count": null,
   "metadata": {},
   "outputs": [],
   "source": []
  },
  {
   "cell_type": "code",
   "execution_count": null,
   "metadata": {},
   "outputs": [],
   "source": []
  },
  {
   "cell_type": "code",
   "execution_count": null,
   "metadata": {},
   "outputs": [],
   "source": []
  }
 ],
 "metadata": {
  "accelerator": "GPU",
  "colab": {
   "collapsed_sections": [],
   "name": "MRI-CCAE-3D-TRAIN-CCAE-colab.ipynb",
   "provenance": []
  },
  "kernelspec": {
   "display_name": "Python 3",
   "language": "python",
   "name": "python3"
  },
  "language_info": {
   "codemirror_mode": {
    "name": "ipython",
    "version": 3
   },
   "file_extension": ".py",
   "mimetype": "text/x-python",
   "name": "python",
   "nbconvert_exporter": "python",
   "pygments_lexer": "ipython3",
   "version": "3.8.5"
  }
 },
 "nbformat": 4,
 "nbformat_minor": 4
}

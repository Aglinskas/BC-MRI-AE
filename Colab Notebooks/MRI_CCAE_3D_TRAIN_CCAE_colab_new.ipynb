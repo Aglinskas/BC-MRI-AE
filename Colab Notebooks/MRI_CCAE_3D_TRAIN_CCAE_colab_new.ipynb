{
  "nbformat": 4,
  "nbformat_minor": 0,
  "metadata": {
    "accelerator": "GPU",
    "colab": {
      "name": "MRI-CCAE-3D-TRAIN-CCAE-colab.ipynb",
      "provenance": [],
      "collapsed_sections": []
    },
    "kernelspec": {
      "display_name": "Python 3",
      "language": "python",
      "name": "python3"
    },
    "language_info": {
      "codemirror_mode": {
        "name": "ipython",
        "version": 3
      },
      "file_extension": ".py",
      "mimetype": "text/x-python",
      "name": "python",
      "nbconvert_exporter": "python",
      "pygments_lexer": "ipython3",
      "version": "3.7.7"
    }
  },
  "cells": [
    {
      "cell_type": "markdown",
      "metadata": {
        "id": "tXd5CerxmxGr"
      },
      "source": [
        "Make sure the tf version is 2.5.0-dev20201111 or later (for model saving)"
      ]
    },
    {
      "cell_type": "code",
      "metadata": {
        "colab": {
          "base_uri": "https://localhost:8080/"
        },
        "id": "DOW1Mf_NlZYn",
        "outputId": "8af3c713-ac11-48bf-dd91-2765e8c0f0b4"
      },
      "source": [
        "#!pip install tf-nightly -qqq --progress-bar off\n",
        "import tensorflow as tf\n",
        "print(tf.__version__)\n",
        "#assert tf.__version__== '2.5.0-dev20201111','bad version'"
      ],
      "execution_count": 1,
      "outputs": [
        {
          "output_type": "stream",
          "text": [
            "2.4.0\n"
          ],
          "name": "stdout"
        }
      ]
    },
    {
      "cell_type": "code",
      "metadata": {
        "colab": {
          "base_uri": "https://localhost:8080/",
          "height": 35
        },
        "id": "yj5mv_ZvNl7m",
        "outputId": "3281fa15-4cc7-4cde-cd42-1785581a4f8c"
      },
      "source": [
        "tf.test.gpu_device_name()"
      ],
      "execution_count": 2,
      "outputs": [
        {
          "output_type": "execute_result",
          "data": {
            "application/vnd.google.colaboratory.intrinsic+json": {
              "type": "string"
            },
            "text/plain": [
              "'/device:GPU:0'"
            ]
          },
          "metadata": {
            "tags": []
          },
          "execution_count": 2
        }
      ]
    },
    {
      "cell_type": "code",
      "metadata": {
        "colab": {
          "base_uri": "https://localhost:8080/"
        },
        "id": "Qq8i5RmyNZq-",
        "outputId": "f917cae9-d5c4-468a-bf96-d9770c9aa942"
      },
      "source": [
        "%tensorflow_version 2.x\n",
        "import tensorflow as tf\n",
        "device_name = tf.test.gpu_device_name()\n",
        "if device_name != '/device:GPU:0':\n",
        "  raise SystemError('GPU device not found')\n",
        "print('Found GPU at: {}'.format(device_name))"
      ],
      "execution_count": 3,
      "outputs": [
        {
          "output_type": "stream",
          "text": [
            "Found GPU at: /device:GPU:0\n"
          ],
          "name": "stdout"
        }
      ]
    },
    {
      "cell_type": "code",
      "metadata": {
        "colab": {
          "base_uri": "https://localhost:8080/"
        },
        "id": "toHPNRS6Nbnc",
        "outputId": "09489db9-7851-4f35-da41-694915309b17"
      },
      "source": [
        "!nvidia-smi -L"
      ],
      "execution_count": 4,
      "outputs": [
        {
          "output_type": "stream",
          "text": [
            "GPU 0: Tesla P4 (UUID: GPU-c4d94fb3-889e-3bb3-ef24-51ce0bb2ae93)\n"
          ],
          "name": "stdout"
        }
      ]
    },
    {
      "cell_type": "code",
      "metadata": {
        "colab": {
          "base_uri": "https://localhost:8080/"
        },
        "id": "06G6Ndv_JTPF",
        "outputId": "550b9fb7-f375-4609-8814-f792a2aa0bd3"
      },
      "source": [
        "from datetime import datetime;now = datetime.now;t00 = now()\n",
        "print(t00)"
      ],
      "execution_count": 5,
      "outputs": [
        {
          "output_type": "stream",
          "text": [
            "2021-01-04 15:25:15.824970\n"
          ],
          "name": "stdout"
        }
      ]
    },
    {
      "cell_type": "code",
      "metadata": {
        "colab": {
          "base_uri": "https://localhost:8080/"
        },
        "id": "pVT3ZT60JTPF",
        "outputId": "cecd1920-04b9-4516-a13a-891d78fd8b68"
      },
      "source": [
        "%tensorflow_version 2.x\n",
        "import tensorflow as tf\n",
        "import timeit\n",
        "\n",
        "device_name = tf.test.gpu_device_name()\n",
        "if device_name != '/device:GPU:0':\n",
        "  print(\n",
        "      '\\n\\nThis error most likely means that this notebook is not '\n",
        "      'configured to use a GPU.  Change this in Notebook Settings via the '\n",
        "      'command palette (cmd/ctrl-shift-P) or the Edit menu.\\n\\n')\n",
        "  raise SystemError('GPU device not found')\n",
        "\n",
        "def cpu():\n",
        "  with tf.device('/cpu:0'):\n",
        "    random_image_cpu = tf.random.normal((100, 100, 100, 3))\n",
        "    net_cpu = tf.keras.layers.Conv2D(32, 7)(random_image_cpu)\n",
        "    return tf.math.reduce_sum(net_cpu)\n",
        "\n",
        "def gpu():\n",
        "  with tf.device('/device:GPU:0'):\n",
        "    random_image_gpu = tf.random.normal((100, 100, 100, 3))\n",
        "    net_gpu = tf.keras.layers.Conv2D(32, 7)(random_image_gpu)\n",
        "    return tf.math.reduce_sum(net_gpu)\n",
        "  \n",
        "# We run each op once to warm up; see: https://stackoverflow.com/a/45067900\n",
        "cpu()\n",
        "gpu()\n",
        "\n",
        "# Run the op several times.\n",
        "print('Time (s) to convolve 32x7x7x3 filter over random 100x100x100x3 images '\n",
        "      '(batch x height x width x channel). Sum of ten runs.')\n",
        "print('CPU (s):')\n",
        "cpu_time = timeit.timeit('cpu()', number=10, setup=\"from __main__ import cpu\")\n",
        "print(cpu_time)\n",
        "print('GPU (s):')\n",
        "gpu_time = timeit.timeit('gpu()', number=10, setup=\"from __main__ import gpu\")\n",
        "print(gpu_time)\n",
        "print('GPU speedup over CPU: {}x'.format(int(cpu_time/gpu_time)))"
      ],
      "execution_count": 6,
      "outputs": [
        {
          "output_type": "stream",
          "text": [
            "Time (s) to convolve 32x7x7x3 filter over random 100x100x100x3 images (batch x height x width x channel). Sum of ten runs.\n",
            "CPU (s):\n",
            "2.8546183560001737\n",
            "GPU (s):\n",
            "0.03527044800011936\n",
            "GPU speedup over CPU: 80x\n"
          ],
          "name": "stdout"
        }
      ]
    },
    {
      "cell_type": "code",
      "metadata": {
        "colab": {
          "base_uri": "https://localhost:8080/"
        },
        "id": "wrvyODvPJaOD",
        "outputId": "99239232-5868-4d63-d169-2946fc953b2b"
      },
      "source": [
        "from google.colab import drive\n",
        "drive.mount(\"/content/drive\")\n",
        "print('done, mounted')"
      ],
      "execution_count": 7,
      "outputs": [
        {
          "output_type": "stream",
          "text": [
            "Drive already mounted at /content/drive; to attempt to forcibly remount, call drive.mount(\"/content/drive\", force_remount=True).\n",
            "done, mounted\n"
          ],
          "name": "stdout"
        }
      ]
    },
    {
      "cell_type": "code",
      "metadata": {
        "colab": {
          "base_uri": "https://localhost:8080/"
        },
        "id": "RAduH185JatO",
        "outputId": "0ae69a86-c9a6-4999-b4e1-e817abe837cf"
      },
      "source": [
        "cd '/content/drive/My Drive/BC-MRI-AE/Colab Notebooks'"
      ],
      "execution_count": 8,
      "outputs": [
        {
          "output_type": "stream",
          "text": [
            "/content/drive/My Drive/BC-MRI-AE/Colab Notebooks\n"
          ],
          "name": "stdout"
        }
      ]
    },
    {
      "cell_type": "code",
      "metadata": {
        "id": "CtuDWvMKKSLv"
      },
      "source": [
        ""
      ],
      "execution_count": 8,
      "outputs": []
    },
    {
      "cell_type": "code",
      "metadata": {
        "colab": {
          "base_uri": "https://localhost:8080/"
        },
        "id": "bjXikoR3dceV",
        "outputId": "850f352e-59c8-4b36-d080-034a4bc6ac8d"
      },
      "source": [
        "%matplotlib inline\n",
        "\n",
        "import os\n",
        "from matplotlib import pyplot as plt\n",
        "import seaborn as sns\n",
        "\n",
        "import numpy as np\n",
        "import pandas as pd\n",
        "from tqdm import tqdm\n",
        "\n",
        "#from contrastive_vae.celeb_utils import get_celeb_vae\n",
        "#from contrastive_vae.celeb_utils import get_celeb_cvae\n",
        "\n",
        "import pandas as pd\n",
        "from sklearn.metrics import silhouette_score\n",
        "\n",
        "from mri_utils import get_MRI_CVAE_3D,get_MRI_CCVAE_3D\n",
        "\n",
        "print(now()-t00)"
      ],
      "execution_count": 9,
      "outputs": [
        {
          "output_type": "stream",
          "text": [
            "0:00:04.930998\n"
          ],
          "name": "stdout"
        }
      ]
    },
    {
      "cell_type": "code",
      "metadata": {
        "colab": {
          "base_uri": "https://localhost:8080/"
        },
        "id": "UmLCoBjXmF8M",
        "outputId": "cf65bd65-a145-4cb8-929a-683e17c757b1"
      },
      "source": [
        "cd ../"
      ],
      "execution_count": 10,
      "outputs": [
        {
          "output_type": "stream",
          "text": [
            "/content/drive/My Drive/BC-MRI-AE\n"
          ],
          "name": "stdout"
        }
      ]
    },
    {
      "cell_type": "markdown",
      "metadata": {
        "id": "t5xW313gmrFJ"
      },
      "source": [
        "SHAPE THE DATA"
      ]
    },
    {
      "cell_type": "code",
      "metadata": {
        "colab": {
          "base_uri": "https://localhost:8080/"
        },
        "id": "STcZnREmuLkX",
        "outputId": "0ad489fa-c5ef-4fe2-ead8-d6cd94f3eb00"
      },
      "source": [
        "arr = np.load('./Data/ABIDE-Anat-64iso.npz')\n",
        "ABIDE_data = arr['data']\n",
        "ABIDE_subs = arr['subs']\n",
        "nsubs = ABIDE_data.shape[0]\n",
        "[arr.shape for arr in [ABIDE_subs,ABIDE_data]]"
      ],
      "execution_count": 11,
      "outputs": [
        {
          "output_type": "execute_result",
          "data": {
            "text/plain": [
              "[(1022,), (1022, 64, 64, 64)]"
            ]
          },
          "metadata": {
            "tags": []
          },
          "execution_count": 11
        }
      ]
    },
    {
      "cell_type": "code",
      "metadata": {
        "colab": {
          "base_uri": "https://localhost:8080/"
        },
        "id": "71-GquGIuLka",
        "outputId": "a3d3dfa4-01b0-412e-89ea-e506fd31b41f"
      },
      "source": [
        "aa = np.array([ABIDE_data[s,:,:,:].sum() for s in range(ABIDE_data.shape[0])])<5000\n",
        "ABIDE_data = ABIDE_data[~aa,:,:,:]\n",
        "ABIDE_subs = ABIDE_subs[~aa]\n",
        "[arr.shape for arr in [ABIDE_subs,ABIDE_data]]"
      ],
      "execution_count": 12,
      "outputs": [
        {
          "output_type": "execute_result",
          "data": {
            "text/plain": [
              "[(982,), (982, 64, 64, 64)]"
            ]
          },
          "metadata": {
            "tags": []
          },
          "execution_count": 12
        }
      ]
    },
    {
      "cell_type": "code",
      "metadata": {
        "colab": {
          "base_uri": "https://localhost:8080/",
          "height": 284
        },
        "id": "JANBc_Nm-M2N",
        "outputId": "544e4bed-69dd-4064-b910-8e2d87b1dd1b"
      },
      "source": [
        "df = pd.read_csv('./CSVs/ABIDE-legend.csv',header=0)\n",
        "df = df.iloc[np.array([df['BIDS_ID'].values[s] in ABIDE_subs for s in range(len(df))])]\n",
        "df.reset_index(inplace=True)\n",
        "\n",
        "assert len(df)==len(ABIDE_subs),'dif lenghts'\n",
        "assert all([df['BIDS_ID'][s]==ABIDE_subs[s] for s in range(len(df))]),'mismatch between df and goodsubs'\n",
        "\n",
        "df.head(5)"
      ],
      "execution_count": 13,
      "outputs": [
        {
          "output_type": "execute_result",
          "data": {
            "text/html": [
              "<div>\n",
              "<style scoped>\n",
              "    .dataframe tbody tr th:only-of-type {\n",
              "        vertical-align: middle;\n",
              "    }\n",
              "\n",
              "    .dataframe tbody tr th {\n",
              "        vertical-align: top;\n",
              "    }\n",
              "\n",
              "    .dataframe thead th {\n",
              "        text-align: right;\n",
              "    }\n",
              "</style>\n",
              "<table border=\"1\" class=\"dataframe\">\n",
              "  <thead>\n",
              "    <tr style=\"text-align: right;\">\n",
              "      <th></th>\n",
              "      <th>index</th>\n",
              "      <th>BIDS_ID</th>\n",
              "      <th>Anonymized ID</th>\n",
              "      <th>Subject Type</th>\n",
              "      <th>Visit</th>\n",
              "      <th>Days since enrollment</th>\n",
              "      <th>SubID</th>\n",
              "      <th>DxGroup</th>\n",
              "      <th>DSMIVTR</th>\n",
              "      <th>AgeAtScan</th>\n",
              "      <th>Sex</th>\n",
              "      <th>FIQ</th>\n",
              "      <th>VIQ</th>\n",
              "      <th>PIQ</th>\n",
              "      <th>IQTest</th>\n",
              "      <th>VIQTest</th>\n",
              "      <th>PIQTest</th>\n",
              "      <th>ADOS_Module</th>\n",
              "      <th>ADOS_Total</th>\n",
              "      <th>ADOS_ResearchReliability</th>\n",
              "      <th>ADI_R_SocialTotal</th>\n",
              "      <th>ADI_R_VerbalTotal</th>\n",
              "      <th>ADI_R_RRB</th>\n",
              "      <th>ADI_R_Onset Total</th>\n",
              "      <th>ADI_R_ResearchReliability</th>\n",
              "      <th>Handedness_Category</th>\n",
              "      <th>Handedness_Scores</th>\n",
              "      <th>ADOS_Comm</th>\n",
              "      <th>ADOS_Social</th>\n",
              "      <th>ADOS_StBeh</th>\n",
              "      <th>Comorbidity</th>\n",
              "      <th>SRS_RawTotal</th>\n",
              "      <th>SRS_Version</th>\n",
              "      <th>SCQ_Total</th>\n",
              "      <th>VINELAND_Receptive_Vscore</th>\n",
              "      <th>VINELAND_Expressive_Vscore</th>\n",
              "      <th>VINELAND_Written_Vscore</th>\n",
              "      <th>VINELAND_CommunicationStandard</th>\n",
              "      <th>VINELAND_Personal_Vscore</th>\n",
              "      <th>VINELAND_Domestic_Vscore</th>\n",
              "      <th>VINELAND_Community_Vscore</th>\n",
              "      <th>VINELAND_DaylyLiving_Standard</th>\n",
              "      <th>VINELAND_Interpersonal_Vscore</th>\n",
              "      <th>VINELAND_Play_Vscore</th>\n",
              "      <th>VINELAND_Coping_Vscore</th>\n",
              "      <th>VINELAND_Socical_Standard</th>\n",
              "      <th>VINELAND_Domestic_Standard</th>\n",
              "      <th>VINELAND_ABC_Standard</th>\n",
              "      <th>VINELAND_Informant</th>\n",
              "      <th>ADOSGotham_SocAffect</th>\n",
              "      <th>ADOSGotham_Rest-RepBeh</th>\n",
              "      <th>ADOSGotham_Total</th>\n",
              "      <th>ADOSGotham_Severity</th>\n",
              "      <th>EyesStatus@restfMRI</th>\n",
              "      <th>BMI</th>\n",
              "      <th>AQ Total</th>\n",
              "      <th>SRS_awareness</th>\n",
              "      <th>SRS_cognition</th>\n",
              "      <th>SRS_communication</th>\n",
              "      <th>SRS_motivation</th>\n",
              "      <th>SRS_manierisms</th>\n",
              "      <th>WISC4 VCI Verbal Comprehension Index</th>\n",
              "      <th>WISC4 PRI Perceptual Reasoning Index</th>\n",
              "      <th>WISC4 WMI Working Memory Index</th>\n",
              "      <th>WISC4 PSI Processing Speed Index</th>\n",
              "      <th>WISC4 Sim Scaled</th>\n",
              "      <th>WISC4 Vocab Scaled</th>\n",
              "      <th>WISC4 Info Scaled</th>\n",
              "      <th>WISC4 Blk Dsn Scaled</th>\n",
              "      <th>WISC4 Pic Con Scaled</th>\n",
              "      <th>WISC4 Matrix Scaled</th>\n",
              "      <th>WISC4 Dig Span Scaled</th>\n",
              "      <th>WISC4 Let Num Scaled</th>\n",
              "      <th>WISC4 Coding Scaled</th>\n",
              "      <th>WISC4 Sym Scaled</th>\n",
              "      <th>Age at MPRAGE</th>\n",
              "      <th>Current Med Status</th>\n",
              "      <th>Medication Name</th>\n",
              "      <th>Off stimulants at EPI scan?</th>\n",
              "    </tr>\n",
              "  </thead>\n",
              "  <tbody>\n",
              "    <tr>\n",
              "      <th>0</th>\n",
              "      <td>0</td>\n",
              "      <td>sub-001</td>\n",
              "      <td>A00033348</td>\n",
              "      <td>PATIENT</td>\n",
              "      <td>session_1</td>\n",
              "      <td>8</td>\n",
              "      <td>51320</td>\n",
              "      <td>1</td>\n",
              "      <td>2</td>\n",
              "      <td>31.0</td>\n",
              "      <td>1</td>\n",
              "      <td>110.0</td>\n",
              "      <td>NaN</td>\n",
              "      <td>NaN</td>\n",
              "      <td>WST</td>\n",
              "      <td>NaN</td>\n",
              "      <td>NaN</td>\n",
              "      <td>NaN</td>\n",
              "      <td>NaN</td>\n",
              "      <td>NaN</td>\n",
              "      <td>NaN</td>\n",
              "      <td>NaN</td>\n",
              "      <td>NaN</td>\n",
              "      <td>NaN</td>\n",
              "      <td>NaN</td>\n",
              "      <td>R</td>\n",
              "      <td>NaN</td>\n",
              "      <td>NaN</td>\n",
              "      <td>NaN</td>\n",
              "      <td>NaN</td>\n",
              "      <td>NaN</td>\n",
              "      <td>NaN</td>\n",
              "      <td>NaN</td>\n",
              "      <td>NaN</td>\n",
              "      <td>NaN</td>\n",
              "      <td>NaN</td>\n",
              "      <td>NaN</td>\n",
              "      <td>NaN</td>\n",
              "      <td>NaN</td>\n",
              "      <td>NaN</td>\n",
              "      <td>NaN</td>\n",
              "      <td>NaN</td>\n",
              "      <td>NaN</td>\n",
              "      <td>NaN</td>\n",
              "      <td>NaN</td>\n",
              "      <td>NaN</td>\n",
              "      <td>NaN</td>\n",
              "      <td>NaN</td>\n",
              "      <td>NaN</td>\n",
              "      <td>NaN</td>\n",
              "      <td>NaN</td>\n",
              "      <td>NaN</td>\n",
              "      <td>NaN</td>\n",
              "      <td>closed</td>\n",
              "      <td>NaN</td>\n",
              "      <td>NaN</td>\n",
              "      <td>NaN</td>\n",
              "      <td>NaN</td>\n",
              "      <td>NaN</td>\n",
              "      <td>NaN</td>\n",
              "      <td>NaN</td>\n",
              "      <td>NaN</td>\n",
              "      <td>NaN</td>\n",
              "      <td>NaN</td>\n",
              "      <td>NaN</td>\n",
              "      <td>NaN</td>\n",
              "      <td>NaN</td>\n",
              "      <td>NaN</td>\n",
              "      <td>NaN</td>\n",
              "      <td>NaN</td>\n",
              "      <td>NaN</td>\n",
              "      <td>NaN</td>\n",
              "      <td>NaN</td>\n",
              "      <td>NaN</td>\n",
              "      <td>NaN</td>\n",
              "      <td>NaN</td>\n",
              "      <td>0</td>\n",
              "      <td>NaN</td>\n",
              "      <td>NaN</td>\n",
              "    </tr>\n",
              "    <tr>\n",
              "      <th>1</th>\n",
              "      <td>1</td>\n",
              "      <td>sub-002</td>\n",
              "      <td>A00033398</td>\n",
              "      <td>CONTROL</td>\n",
              "      <td>session_1</td>\n",
              "      <td>8</td>\n",
              "      <td>51373</td>\n",
              "      <td>2</td>\n",
              "      <td>0</td>\n",
              "      <td>46.0</td>\n",
              "      <td>1</td>\n",
              "      <td>119.0</td>\n",
              "      <td>NaN</td>\n",
              "      <td>NaN</td>\n",
              "      <td>WST</td>\n",
              "      <td>NaN</td>\n",
              "      <td>NaN</td>\n",
              "      <td>NaN</td>\n",
              "      <td>NaN</td>\n",
              "      <td>NaN</td>\n",
              "      <td>NaN</td>\n",
              "      <td>NaN</td>\n",
              "      <td>NaN</td>\n",
              "      <td>NaN</td>\n",
              "      <td>NaN</td>\n",
              "      <td>R</td>\n",
              "      <td>NaN</td>\n",
              "      <td>NaN</td>\n",
              "      <td>NaN</td>\n",
              "      <td>NaN</td>\n",
              "      <td>NaN</td>\n",
              "      <td>NaN</td>\n",
              "      <td>NaN</td>\n",
              "      <td>NaN</td>\n",
              "      <td>NaN</td>\n",
              "      <td>NaN</td>\n",
              "      <td>NaN</td>\n",
              "      <td>NaN</td>\n",
              "      <td>NaN</td>\n",
              "      <td>NaN</td>\n",
              "      <td>NaN</td>\n",
              "      <td>NaN</td>\n",
              "      <td>NaN</td>\n",
              "      <td>NaN</td>\n",
              "      <td>NaN</td>\n",
              "      <td>NaN</td>\n",
              "      <td>NaN</td>\n",
              "      <td>NaN</td>\n",
              "      <td>NaN</td>\n",
              "      <td>NaN</td>\n",
              "      <td>NaN</td>\n",
              "      <td>NaN</td>\n",
              "      <td>NaN</td>\n",
              "      <td>closed</td>\n",
              "      <td>NaN</td>\n",
              "      <td>NaN</td>\n",
              "      <td>NaN</td>\n",
              "      <td>NaN</td>\n",
              "      <td>NaN</td>\n",
              "      <td>NaN</td>\n",
              "      <td>NaN</td>\n",
              "      <td>NaN</td>\n",
              "      <td>NaN</td>\n",
              "      <td>NaN</td>\n",
              "      <td>NaN</td>\n",
              "      <td>NaN</td>\n",
              "      <td>NaN</td>\n",
              "      <td>NaN</td>\n",
              "      <td>NaN</td>\n",
              "      <td>NaN</td>\n",
              "      <td>NaN</td>\n",
              "      <td>NaN</td>\n",
              "      <td>NaN</td>\n",
              "      <td>NaN</td>\n",
              "      <td>NaN</td>\n",
              "      <td>NaN</td>\n",
              "      <td>0</td>\n",
              "      <td>NaN</td>\n",
              "      <td>NaN</td>\n",
              "    </tr>\n",
              "    <tr>\n",
              "      <th>2</th>\n",
              "      <td>2</td>\n",
              "      <td>sub-003</td>\n",
              "      <td>A00033352</td>\n",
              "      <td>PATIENT</td>\n",
              "      <td>session_1</td>\n",
              "      <td>8</td>\n",
              "      <td>51324</td>\n",
              "      <td>1</td>\n",
              "      <td>2</td>\n",
              "      <td>52.0</td>\n",
              "      <td>1</td>\n",
              "      <td>133.0</td>\n",
              "      <td>NaN</td>\n",
              "      <td>NaN</td>\n",
              "      <td>WST</td>\n",
              "      <td>NaN</td>\n",
              "      <td>NaN</td>\n",
              "      <td>NaN</td>\n",
              "      <td>NaN</td>\n",
              "      <td>NaN</td>\n",
              "      <td>NaN</td>\n",
              "      <td>NaN</td>\n",
              "      <td>NaN</td>\n",
              "      <td>NaN</td>\n",
              "      <td>NaN</td>\n",
              "      <td>R</td>\n",
              "      <td>NaN</td>\n",
              "      <td>NaN</td>\n",
              "      <td>NaN</td>\n",
              "      <td>NaN</td>\n",
              "      <td>NaN</td>\n",
              "      <td>NaN</td>\n",
              "      <td>NaN</td>\n",
              "      <td>NaN</td>\n",
              "      <td>NaN</td>\n",
              "      <td>NaN</td>\n",
              "      <td>NaN</td>\n",
              "      <td>NaN</td>\n",
              "      <td>NaN</td>\n",
              "      <td>NaN</td>\n",
              "      <td>NaN</td>\n",
              "      <td>NaN</td>\n",
              "      <td>NaN</td>\n",
              "      <td>NaN</td>\n",
              "      <td>NaN</td>\n",
              "      <td>NaN</td>\n",
              "      <td>NaN</td>\n",
              "      <td>NaN</td>\n",
              "      <td>NaN</td>\n",
              "      <td>NaN</td>\n",
              "      <td>NaN</td>\n",
              "      <td>NaN</td>\n",
              "      <td>NaN</td>\n",
              "      <td>closed</td>\n",
              "      <td>NaN</td>\n",
              "      <td>NaN</td>\n",
              "      <td>NaN</td>\n",
              "      <td>NaN</td>\n",
              "      <td>NaN</td>\n",
              "      <td>NaN</td>\n",
              "      <td>NaN</td>\n",
              "      <td>NaN</td>\n",
              "      <td>NaN</td>\n",
              "      <td>NaN</td>\n",
              "      <td>NaN</td>\n",
              "      <td>NaN</td>\n",
              "      <td>NaN</td>\n",
              "      <td>NaN</td>\n",
              "      <td>NaN</td>\n",
              "      <td>NaN</td>\n",
              "      <td>NaN</td>\n",
              "      <td>NaN</td>\n",
              "      <td>NaN</td>\n",
              "      <td>NaN</td>\n",
              "      <td>NaN</td>\n",
              "      <td>NaN</td>\n",
              "      <td>0</td>\n",
              "      <td>NaN</td>\n",
              "      <td>NaN</td>\n",
              "    </tr>\n",
              "    <tr>\n",
              "      <th>3</th>\n",
              "      <td>3</td>\n",
              "      <td>sub-004</td>\n",
              "      <td>A00033389</td>\n",
              "      <td>CONTROL</td>\n",
              "      <td>session_1</td>\n",
              "      <td>8</td>\n",
              "      <td>51364</td>\n",
              "      <td>2</td>\n",
              "      <td>0</td>\n",
              "      <td>26.0</td>\n",
              "      <td>1</td>\n",
              "      <td>122.0</td>\n",
              "      <td>NaN</td>\n",
              "      <td>NaN</td>\n",
              "      <td>WST</td>\n",
              "      <td>NaN</td>\n",
              "      <td>NaN</td>\n",
              "      <td>NaN</td>\n",
              "      <td>NaN</td>\n",
              "      <td>NaN</td>\n",
              "      <td>NaN</td>\n",
              "      <td>NaN</td>\n",
              "      <td>NaN</td>\n",
              "      <td>NaN</td>\n",
              "      <td>NaN</td>\n",
              "      <td>R</td>\n",
              "      <td>NaN</td>\n",
              "      <td>NaN</td>\n",
              "      <td>NaN</td>\n",
              "      <td>NaN</td>\n",
              "      <td>NaN</td>\n",
              "      <td>NaN</td>\n",
              "      <td>NaN</td>\n",
              "      <td>NaN</td>\n",
              "      <td>NaN</td>\n",
              "      <td>NaN</td>\n",
              "      <td>NaN</td>\n",
              "      <td>NaN</td>\n",
              "      <td>NaN</td>\n",
              "      <td>NaN</td>\n",
              "      <td>NaN</td>\n",
              "      <td>NaN</td>\n",
              "      <td>NaN</td>\n",
              "      <td>NaN</td>\n",
              "      <td>NaN</td>\n",
              "      <td>NaN</td>\n",
              "      <td>NaN</td>\n",
              "      <td>NaN</td>\n",
              "      <td>NaN</td>\n",
              "      <td>NaN</td>\n",
              "      <td>NaN</td>\n",
              "      <td>NaN</td>\n",
              "      <td>NaN</td>\n",
              "      <td>closed</td>\n",
              "      <td>NaN</td>\n",
              "      <td>NaN</td>\n",
              "      <td>NaN</td>\n",
              "      <td>NaN</td>\n",
              "      <td>NaN</td>\n",
              "      <td>NaN</td>\n",
              "      <td>NaN</td>\n",
              "      <td>NaN</td>\n",
              "      <td>NaN</td>\n",
              "      <td>NaN</td>\n",
              "      <td>NaN</td>\n",
              "      <td>NaN</td>\n",
              "      <td>NaN</td>\n",
              "      <td>NaN</td>\n",
              "      <td>NaN</td>\n",
              "      <td>NaN</td>\n",
              "      <td>NaN</td>\n",
              "      <td>NaN</td>\n",
              "      <td>NaN</td>\n",
              "      <td>NaN</td>\n",
              "      <td>NaN</td>\n",
              "      <td>NaN</td>\n",
              "      <td>0</td>\n",
              "      <td>NaN</td>\n",
              "      <td>NaN</td>\n",
              "    </tr>\n",
              "    <tr>\n",
              "      <th>4</th>\n",
              "      <td>4</td>\n",
              "      <td>sub-005</td>\n",
              "      <td>A00033354</td>\n",
              "      <td>PATIENT</td>\n",
              "      <td>session_1</td>\n",
              "      <td>8</td>\n",
              "      <td>51326</td>\n",
              "      <td>1</td>\n",
              "      <td>2</td>\n",
              "      <td>42.0</td>\n",
              "      <td>1</td>\n",
              "      <td>114.0</td>\n",
              "      <td>NaN</td>\n",
              "      <td>NaN</td>\n",
              "      <td>WST</td>\n",
              "      <td>NaN</td>\n",
              "      <td>NaN</td>\n",
              "      <td>NaN</td>\n",
              "      <td>NaN</td>\n",
              "      <td>NaN</td>\n",
              "      <td>NaN</td>\n",
              "      <td>NaN</td>\n",
              "      <td>NaN</td>\n",
              "      <td>NaN</td>\n",
              "      <td>NaN</td>\n",
              "      <td>R</td>\n",
              "      <td>NaN</td>\n",
              "      <td>NaN</td>\n",
              "      <td>NaN</td>\n",
              "      <td>NaN</td>\n",
              "      <td>NaN</td>\n",
              "      <td>NaN</td>\n",
              "      <td>NaN</td>\n",
              "      <td>NaN</td>\n",
              "      <td>NaN</td>\n",
              "      <td>NaN</td>\n",
              "      <td>NaN</td>\n",
              "      <td>NaN</td>\n",
              "      <td>NaN</td>\n",
              "      <td>NaN</td>\n",
              "      <td>NaN</td>\n",
              "      <td>NaN</td>\n",
              "      <td>NaN</td>\n",
              "      <td>NaN</td>\n",
              "      <td>NaN</td>\n",
              "      <td>NaN</td>\n",
              "      <td>NaN</td>\n",
              "      <td>NaN</td>\n",
              "      <td>NaN</td>\n",
              "      <td>NaN</td>\n",
              "      <td>NaN</td>\n",
              "      <td>NaN</td>\n",
              "      <td>NaN</td>\n",
              "      <td>closed</td>\n",
              "      <td>NaN</td>\n",
              "      <td>NaN</td>\n",
              "      <td>NaN</td>\n",
              "      <td>NaN</td>\n",
              "      <td>NaN</td>\n",
              "      <td>NaN</td>\n",
              "      <td>NaN</td>\n",
              "      <td>NaN</td>\n",
              "      <td>NaN</td>\n",
              "      <td>NaN</td>\n",
              "      <td>NaN</td>\n",
              "      <td>NaN</td>\n",
              "      <td>NaN</td>\n",
              "      <td>NaN</td>\n",
              "      <td>NaN</td>\n",
              "      <td>NaN</td>\n",
              "      <td>NaN</td>\n",
              "      <td>NaN</td>\n",
              "      <td>NaN</td>\n",
              "      <td>NaN</td>\n",
              "      <td>NaN</td>\n",
              "      <td>NaN</td>\n",
              "      <td>0</td>\n",
              "      <td>NaN</td>\n",
              "      <td>NaN</td>\n",
              "    </tr>\n",
              "  </tbody>\n",
              "</table>\n",
              "</div>"
            ],
            "text/plain": [
              "   index  BIDS_ID  ... Medication Name Off stimulants at EPI scan?\n",
              "0      0  sub-001  ...             NaN                         NaN\n",
              "1      1  sub-002  ...             NaN                         NaN\n",
              "2      2  sub-003  ...             NaN                         NaN\n",
              "3      3  sub-004  ...             NaN                         NaN\n",
              "4      4  sub-005  ...             NaN                         NaN\n",
              "\n",
              "[5 rows x 79 columns]"
            ]
          },
          "metadata": {
            "tags": []
          },
          "execution_count": 13
        }
      ]
    },
    {
      "cell_type": "code",
      "metadata": {
        "colab": {
          "base_uri": "https://localhost:8080/"
        },
        "id": "ZoqlzdzD-U6g",
        "outputId": "7f45f299-e6f7-43e2-93fc-a2a8b89af6d8"
      },
      "source": [
        "TD_subs = ABIDE_data[np.array(df['Subject Type']=='CONTROL'),:,:,:]\n",
        "DX_subs = ABIDE_data[np.array(df['Subject Type']=='PATIENT'),:,:,:]\n",
        "\n",
        "print(TD_subs.shape)\n",
        "print(DX_subs.shape)"
      ],
      "execution_count": 14,
      "outputs": [
        {
          "output_type": "stream",
          "text": [
            "(500, 64, 64, 64)\n",
            "(456, 64, 64, 64)\n"
          ],
          "name": "stdout"
        }
      ]
    },
    {
      "cell_type": "code",
      "metadata": {
        "id": "xOdwBNsmF6Ee"
      },
      "source": [
        "dxArr = np.ones(len(df))\n",
        "dxArr[np.array(df['Subject Type']=='PATIENT')]=2"
      ],
      "execution_count": 15,
      "outputs": []
    },
    {
      "cell_type": "markdown",
      "metadata": {
        "id": "BTN1pbr7mnxq"
      },
      "source": [
        "# TRAIN THE VAE"
      ]
    },
    {
      "cell_type": "code",
      "metadata": {
        "id": "RotozUR54jNt"
      },
      "source": [
        "train_vae = False"
      ],
      "execution_count": 16,
      "outputs": []
    },
    {
      "cell_type": "code",
      "metadata": {
        "id": "ny0tO8kropHG"
      },
      "source": [
        "if train_vae:\n",
        "  from scipy.spatial.distance import pdist\n",
        "  from scipy.spatial.distance import squareform\n",
        "\n",
        "  def plot_recon_vae():\n",
        "      plt.figure(figsize=(5,5));\n",
        "      plt.subplot(2,2,1)\n",
        "      plt.imshow(DX_batch[0,:,:,40]);plt.xticks([]);plt.yticks([]);plt.title('input');\n",
        "      plt.subplot(2,2,2)\n",
        "      plt.imshow(cvae.predict([DX_batch,TD_batch])[0][0,:,:,40,0]);plt.xticks([]);plt.yticks([]);plt.title('reconstruction');\n",
        "\n",
        "      plt.subplot(2,2,3)\n",
        "      plt.imshow(TD_batch[0,32,:,:]);plt.xticks([]);plt.yticks([]);\n",
        "      plt.subplot(2,2,4)\n",
        "      plt.imshow(cvae.predict([DX_batch,TD_batch])[1][0,32,:,:,0]);plt.xticks([]);plt.yticks([]);"
      ],
      "execution_count": 17,
      "outputs": []
    },
    {
      "cell_type": "code",
      "metadata": {
        "id": "qllddMarnEr2"
      },
      "source": [
        "if train_vae:\n",
        "  encoder, decoder, vae = get_MRI_CVAE_3D(input_shape=(64, 64, 64, 1), latent_dim=32, batch_size=5, disentangle=False, gamma=1)\n",
        "  #vae.load_weights('../tf_outputs/3D_VAE_Weights/Nov23_VAE'"
      ],
      "execution_count": 18,
      "outputs": []
    },
    {
      "cell_type": "code",
      "metadata": {
        "id": "0S9Kf92r7UkF"
      },
      "source": [
        "if train_vae:\n",
        "  plt.imshow(decoder.predict(np.random.rand(4,32))[0,:,:,40,0])"
      ],
      "execution_count": 19,
      "outputs": []
    },
    {
      "cell_type": "code",
      "metadata": {
        "id": "ucc02kDv7UkF"
      },
      "source": [
        "#vae.train_on_batch(TD_subs[0:5,:,:,:])"
      ],
      "execution_count": 20,
      "outputs": []
    },
    {
      "cell_type": "code",
      "metadata": {
        "id": "vakzMRwqYwwP"
      },
      "source": [
        ""
      ],
      "execution_count": 20,
      "outputs": []
    },
    {
      "cell_type": "code",
      "metadata": {
        "id": "zXfaJRPLYwzC"
      },
      "source": [
        ""
      ],
      "execution_count": 20,
      "outputs": []
    },
    {
      "cell_type": "code",
      "metadata": {
        "id": "_KFAUd6gXCZ7"
      },
      "source": [
        "# t0 = now()\n",
        "# print(f'started: {now()}')\n",
        "# loss = list()\n",
        "# for i in range(1):\n",
        "#     e0 = now()\n",
        "#     #hist = vae.fit([DX_subs,TD_subs[0:456,:,:,:]],epochs=1)\n",
        "\n",
        "#     loss.append(hist.history['loss']);loss = loss[0:min((50,len(loss)))]\n",
        "\n",
        "#     cvae.save_weights('../tf_outputs/3D_CCVAE_Weights/Nov23')\n",
        "#     print(f\"epoch time: {now()-e0}, elapsed time: {now()-t0}\")\n",
        "#     if np.mod(i,25)==0:\n",
        "#         #plot_state_ccvae(latent_dim)\n",
        "#         plot_recon_vae()\n",
        "#         plt.show()\n",
        "#         plt.plot(loss);plt.title('loss')\n",
        "#         plt.show()\n",
        "# print(f'done in: {now()-t0}')"
      ],
      "execution_count": 21,
      "outputs": []
    },
    {
      "cell_type": "code",
      "metadata": {
        "id": "75Xo-sRXnEuw"
      },
      "source": [
        "#plot_state_cvae()"
      ],
      "execution_count": 22,
      "outputs": []
    },
    {
      "cell_type": "markdown",
      "metadata": {
        "id": "LAbH8lm-nXUt"
      },
      "source": [
        "# TRAIN THE CONTRASTIVE VAE"
      ]
    },
    {
      "cell_type": "code",
      "metadata": {
        "id": "BF1kR0RA4m3V"
      },
      "source": [
        "train_cvae = True"
      ],
      "execution_count": 23,
      "outputs": []
    },
    {
      "cell_type": "code",
      "metadata": {
        "id": "PAmPFylHdYuj"
      },
      "source": [
        "if train_cvae:\n",
        "  import tensorflow as tf\n",
        "  import numpy as np\n",
        "  import matplotlib.pyplot as plt\n",
        "  from scipy.special import expit\n",
        "  from sklearn.metrics import silhouette_score\n",
        "  from tensorflow.keras.layers import *\n",
        "  from tensorflow.keras import backend as K\n",
        "  from tensorflow.keras.models import Model\n",
        "  from tensorflow.keras.losses import mse\n",
        "  import os\n",
        "  import pandas as pd\n",
        "  from glob import glob\n",
        "  #import helper\n",
        "\n",
        "\n",
        "  def sampling(args):\n",
        "      \"\"\"Reparameterization trick by sampling fr an isotropic unit Gaussian.\n",
        "      # Arguments:\n",
        "          args (tensor): mean and log of variance of Q(z|X)\n",
        "      # Returns:\n",
        "          z (tensor): sampled latent vector\n",
        "      \"\"\"\n",
        "\n",
        "      z_mean, z_log_var = args\n",
        "      batch = K.shape(z_mean)[0]\n",
        "      dim = K.int_shape(z_mean)[1]\n",
        "      # by default, random_normal has mean=0 and std=1.0\n",
        "      epsilon = K.random_normal(shape=(batch, dim))\n",
        "      return z_mean + K.exp(0.5 * z_log_var) * epsilon\n",
        "\n",
        "\n",
        "  def get_MRI_CVAE_3D(input_shape=(64,64,64,1), latent_dim=2, batch_size = 32, disentangle=False, gamma=1):\n",
        "      #TODO: add discriminator loss, see if there is improvement. Perhaps try on shapes dataset if it's easier...\n",
        "\n",
        "      image_size, _, _, channels = input_shape\n",
        "      kernel_size = 3\n",
        "      filters = 16\n",
        "      intermediate_dim = 128\n",
        "      epochs = 10\n",
        "      nlayers = 2\n",
        "      \n",
        "      # VAE model = encoder + decoder\n",
        "      # build encoder model\n",
        "      inputs = Input(shape=input_shape, name='encoder_input')\n",
        "      x = inputs\n",
        "      for i in range(nlayers):\n",
        "          filters *= 2\n",
        "          x = Conv3D(filters=filters,\n",
        "                    kernel_size=kernel_size,\n",
        "                    activation='relu',\n",
        "                    strides=2,\n",
        "                    padding='same')(x)\n",
        "\n",
        "      # shape info needed to build decoder model\n",
        "      shape = K.int_shape(x)\n",
        "\n",
        "      # generate latent vector Q(z|X)\n",
        "      x = Flatten()(x)\n",
        "      x = Dense(intermediate_dim, activation='relu')(x)\n",
        "      z_mean = Dense(latent_dim, name='z_mean')(x)\n",
        "      z_log_var = Dense(latent_dim, name='z_log_var')(x)\n",
        "\n",
        "      # use reparameterization trick to push the sampling out as input\n",
        "      # note that \"output_shape\" isn't necessary with the TensorFlow backend\n",
        "      z = Lambda(sampling, output_shape=(latent_dim,), name='z')([z_mean, z_log_var])\n",
        "\n",
        "      # instantiate encoder model\n",
        "      encoder = Model(inputs, [z_mean, z_log_var, z], name='encoder')\n",
        "\n",
        "      # build decoder model\n",
        "      latent_inputs = Input(shape=(latent_dim,), name='z_sampling')\n",
        "      x = Dense(intermediate_dim, activation='relu')(latent_inputs)\n",
        "      x = Dense(shape[1] * shape[2] * shape[3] * shape[4], activation='relu')(x)\n",
        "      x = Reshape((shape[1], shape[2], shape[3],shape[4]))(x)\n",
        "\n",
        "      for i in range(nlayers):\n",
        "          x = Conv3DTranspose(filters=filters,\n",
        "                              kernel_size=kernel_size,\n",
        "                              activation='relu',\n",
        "                              strides=2,\n",
        "                              padding='same')(x)\n",
        "          filters //= 2\n",
        "\n",
        "      outputs = Conv3DTranspose(filters=1,\n",
        "                                kernel_size=kernel_size,\n",
        "                                activation='sigmoid',\n",
        "                                padding='same',\n",
        "                                name='decoder_output')(x)\n",
        "\n",
        "      # instantiate decoder model\n",
        "      decoder = Model(latent_inputs, outputs, name='decoder')\n",
        "\n",
        "      #     decoder.summary()\n",
        "\n",
        "      # instantiate VAE model\n",
        "      outputs = decoder(encoder(inputs)[2])\n",
        "      vae = Model(inputs, outputs, name='vae')\n",
        "\n",
        "      if disentangle:\n",
        "          discriminator = Dense(1, activation='sigmoid')\n",
        "\n",
        "          z1 = Lambda(lambda x: x[:int(batch_size/2),:int(latent_dim/2)])(z)\n",
        "          z2 = Lambda(lambda x: x[int(batch_size/2):,:int(latent_dim/2)])(z)\n",
        "          s1 = Lambda(lambda x: x[:int(batch_size/2),int(latent_dim/2):])(z)\n",
        "          s2 = Lambda(lambda x: x[int(batch_size/2):,int(latent_dim/2):])(z)\n",
        "          q_bar = tf.keras.layers.concatenate(\n",
        "              [tf.keras.layers.concatenate([s1, z2], axis=1),\n",
        "              tf.keras.layers.concatenate([s2, z1], axis=1)],\n",
        "              axis=0)\n",
        "          q = tf.keras.layers.concatenate(\n",
        "              [tf.keras.layers.concatenate([s1, z1], axis=1),\n",
        "              tf.keras.layers.concatenate([s2, z2], axis=1)],\n",
        "              axis=0)\n",
        "          q_bar_score = discriminator(q_bar)\n",
        "          q_score = discriminator(q)        \n",
        "          tc_loss = K.log(q_score / (1 - q_score)) \n",
        "\n",
        "          discriminator_loss = - K.log(q_score) - K.log(1 - q_bar_score)\n",
        "\n",
        "      reconstruction_loss = mse(K.flatten(inputs), K.flatten(outputs))\n",
        "      reconstruction_loss *= image_size * image_size\n",
        "\n",
        "\n",
        "      kl_loss = 1 + z_log_var - K.square(z_mean) - K.exp(z_log_var)\n",
        "      kl_loss = K.sum(kl_loss, axis=-1)\n",
        "      kl_loss *= -0.5\n",
        "      if disentangle:\n",
        "          vae_loss = K.mean(reconstruction_loss) + K.mean(kl_loss) + gamma * K.mean(tc_loss) + K.mean(discriminator_loss)\n",
        "      else:\n",
        "          vae_loss = K.mean(reconstruction_loss) + K.mean(kl_loss)\n",
        "\n",
        "      vae.add_loss(vae_loss)\n",
        "      vae.compile(optimizer='rmsprop')\n",
        "      if disentangle:\n",
        "          vae.metrics_tensors = [reconstruction_loss, kl_loss, tc_loss, discriminator_loss]\n",
        "      #     vae.summary()\n",
        "      return encoder, decoder, vae\n",
        "\n",
        "\n",
        "\n",
        "  ####################################################################################################\n",
        "  ####################################################################################################\n",
        "  ####################################################################################################\n",
        "  ####################################################################################################\n",
        "  ####################################################################################################\n",
        "\n",
        "\n",
        "  def get_MRI_CCVAE_3D(input_shape=(64,64,64,1), latent_dim=2, beta=1, disentangle=False, gamma=1, bias=True,batch_size = 64):\n",
        "      \n",
        "      image_size, _, _, channels = input_shape\n",
        "      kernel_size = 3\n",
        "      filters = 16\n",
        "      intermediate_dim = 128\n",
        "      epochs = 10\n",
        "      nlayers = 2\n",
        "\n",
        "      # build encoder model\n",
        "      tg_inputs = Input(shape=input_shape, name='tg_inputs')\n",
        "      bg_inputs = Input(shape=input_shape, name='bg_inputs')\n",
        "\n",
        "      z_conv1 = Conv3D(filters=filters*2,\n",
        "                kernel_size=kernel_size,\n",
        "                activation='relu',\n",
        "                strides=2,\n",
        "                use_bias=bias,\n",
        "                padding='same')\n",
        "      \n",
        "      z_conv2 = Conv3D(filters=filters*4,\n",
        "                kernel_size=kernel_size,\n",
        "                activation='relu',\n",
        "                strides=2,\n",
        "                use_bias=bias,\n",
        "                padding='same')\n",
        "\n",
        "\n",
        "      # generate latent vector Q(z|X)\n",
        "      z_h_layer = Dense(intermediate_dim, activation='relu', use_bias=bias)\n",
        "      z_mean_layer = Dense(latent_dim, name='z_mean', use_bias=bias)\n",
        "      z_log_var_layer = Dense(latent_dim, name='z_log_var', use_bias=bias)\n",
        "      z_layer = Lambda(sampling, output_shape=(latent_dim,), name='z')\n",
        "      \n",
        "      def z_encoder_func(inputs):\n",
        "          z_h = inputs\n",
        "          z_h = z_conv1(z_h)\n",
        "          z_h = z_conv2(z_h)\n",
        "          # shape info needed to build decoder model\n",
        "          shape = K.int_shape(z_h)\n",
        "          z_h = Flatten()(z_h)\n",
        "          z_h = z_h_layer(z_h)\n",
        "          z_mean =  z_mean_layer(z_h)\n",
        "          z_log_var =  z_log_var_layer(z_h)\n",
        "          z = z_layer([z_mean, z_log_var])\n",
        "          return z_mean, z_log_var, z, shape\n",
        "\n",
        "      tg_z_mean, tg_z_log_var, tg_z, shape_z = z_encoder_func(tg_inputs)\n",
        "      \n",
        "      \n",
        "      s_conv1 = Conv3D(filters=filters*2,\n",
        "                kernel_size=kernel_size,\n",
        "                activation='relu',\n",
        "                strides=2,\n",
        "                use_bias=bias,\n",
        "                padding='same')\n",
        "      \n",
        "      s_conv2 = Conv3D(filters=filters*4,\n",
        "                kernel_size=kernel_size,\n",
        "                activation='relu',\n",
        "                strides=2,\n",
        "                use_bias=bias,\n",
        "                padding='same')\n",
        "\n",
        "\n",
        "      # generate latent vector Q(z|X)\n",
        "      s_h_layer = Dense(intermediate_dim, activation='relu', use_bias=bias)\n",
        "      s_mean_layer = Dense(latent_dim, name='s_mean', use_bias=bias)\n",
        "      s_log_var_layer = Dense(latent_dim, name='s_log_var', use_bias=bias)\n",
        "      s_layer = Lambda(sampling, output_shape=(latent_dim,), name='s')\n",
        "      \n",
        "      def s_encoder_func(inputs):\n",
        "          s_h = inputs\n",
        "          s_h = s_conv1(s_h)\n",
        "          s_h = s_conv2(s_h)\n",
        "          # shape info needed to build decoder model\n",
        "          shape = K.int_shape(s_h)\n",
        "          s_h = Flatten()(s_h)\n",
        "          s_h = s_h_layer(s_h)\n",
        "          s_mean =  s_mean_layer(s_h)\n",
        "          s_log_var =  s_log_var_layer(s_h)\n",
        "          s = s_layer([s_mean, s_log_var])\n",
        "          return s_mean, s_log_var, s, shape\n",
        "\n",
        "      tg_s_mean, tg_s_log_var, tg_s, shape_s = s_encoder_func(tg_inputs)\n",
        "      bg_s_mean, bg_s_log_var, bg_s, _ = s_encoder_func(bg_inputs) \n",
        "      \n",
        "\n",
        "      # instantiate encoder models\n",
        "      z_encoder = tf.keras.models.Model(tg_inputs, [tg_z_mean, tg_z_log_var, tg_z], name='z_encoder')\n",
        "      s_encoder = tf.keras.models.Model(tg_inputs, [tg_s_mean, tg_s_log_var, tg_s], name='s_encoder')\n",
        "\n",
        "  #    print(\"shape z\")\n",
        "  #    print(shape_z)\n",
        "      \n",
        "      # build decoder model\n",
        "      latent_inputs = Input(shape=(2*latent_dim,), name='z_sampling')\n",
        "      x = Dense(intermediate_dim, activation='relu', use_bias=bias)(latent_inputs)\n",
        "      x = Dense(shape_z[1] * shape_z[2] * shape_z[3] * shape_z[4], activation='relu', use_bias=bias)(x)\n",
        "      x = Reshape((shape_z[1], shape_z[2], shape_z[3],shape_z[4]))(x)\n",
        "      \n",
        "  #     x = Dense(shape_z[1] * shape_z[2] * shape_z[3], activation='relu', use_bias=bias)(x)\n",
        "  #     x = Reshape((shape_z[1], shape_z[2], shape_z[3]))(x)\n",
        "\n",
        "      for i in range(nlayers):\n",
        "          x = Conv3DTranspose(filters=filters,\n",
        "                              kernel_size=kernel_size,\n",
        "                              activation='relu',\n",
        "                              strides=2,\n",
        "                              use_bias=bias,\n",
        "                              padding='same')(x)\n",
        "          filters //= 2\n",
        "\n",
        "      outputs = Conv3DTranspose(filters=1,\n",
        "                                kernel_size=kernel_size,\n",
        "                                activation='sigmoid',\n",
        "                                padding='same',\n",
        "                                use_bias=bias,\n",
        "                                name='decoder_output')(x)\n",
        "\n",
        "      # instantiate decoder model\n",
        "      cvae_decoder = Model(latent_inputs, outputs, name='decoder')\n",
        "      # decoder.summary()\n",
        "\n",
        "      def zeros_like(x):\n",
        "          return tf.zeros_like(x)\n",
        "\n",
        "      tg_outputs = cvae_decoder(tf.keras.layers.concatenate([tg_z, tg_s], -1))\n",
        "      zeros = tf.keras.layers.Lambda(zeros_like)(tg_z)\n",
        "      bg_outputs = cvae_decoder(tf.keras.layers.concatenate([zeros, bg_s], -1))\n",
        "      fg_outputs = cvae_decoder(tf.keras.layers.concatenate([tg_z, zeros], -1))\n",
        "\n",
        "      # instantiate VAE model\n",
        "      cvae = tf.keras.models.Model(inputs=[tg_inputs, bg_inputs], \n",
        "                                  outputs=[tg_outputs, bg_outputs], \n",
        "                                  name='contrastive_vae')\n",
        "\n",
        "      cvae_fg = tf.keras.models.Model(inputs=tg_inputs, \n",
        "                                      outputs=fg_outputs, \n",
        "                                      name='contrastive_vae_fg')\n",
        "      \n",
        "      if disentangle:\n",
        "          discriminator = Dense(1, activation='sigmoid')\n",
        "          \n",
        "          z1 = Lambda(lambda x: x[:int(batch_size/2),:])(tg_z)\n",
        "          z2 = Lambda(lambda x: x[int(batch_size/2):,:])(tg_z)\n",
        "          s1 = Lambda(lambda x: x[:int(batch_size/2),:])(tg_s)\n",
        "          s2 = Lambda(lambda x: x[int(batch_size/2):,:])(tg_s)\n",
        "          \n",
        "          q_bar = tf.keras.layers.concatenate(\n",
        "              [tf.keras.layers.concatenate([s1, z2], axis=1),\n",
        "              tf.keras.layers.concatenate([s2, z1], axis=1)],\n",
        "              axis=0)\n",
        "          q = tf.keras.layers.concatenate(\n",
        "              [tf.keras.layers.concatenate([s1, z1], axis=1),\n",
        "              tf.keras.layers.concatenate([s2, z2], axis=1)],\n",
        "              axis=0)\n",
        "          \n",
        "          q_bar_score = discriminator(q_bar)\n",
        "          q_score = discriminator(q)        \n",
        "          tc_loss = K.log(q_score / (1 - q_score)) \n",
        "          \n",
        "          discriminator_loss = - K.log(q_score) - K.log(1 - q_bar_score)\n",
        "      else:\n",
        "          tc_loss = 0\n",
        "          discriminator_loss = 0\n",
        "      \n",
        "      \n",
        "      reconstruction_loss = tf.keras.losses.mse(K.flatten(tg_inputs), K.flatten(tg_outputs))\n",
        "      reconstruction_loss += tf.keras.losses.mse(K.flatten(bg_inputs), K.flatten(bg_outputs))\n",
        "      reconstruction_loss *= input_shape[0] * input_shape[1] * input_shape[2] * input_shape[3]\n",
        "\n",
        "\n",
        "      kl_loss = 1 + tg_z_log_var - tf.keras.backend.square(tg_z_mean) - tf.keras.backend.exp(tg_z_log_var)\n",
        "      kl_loss += 1 + tg_s_log_var - tf.keras.backend.square(tg_s_mean) - tf.keras.backend.exp(tg_s_log_var)\n",
        "      kl_loss += 1 + bg_s_log_var - tf.keras.backend.square(bg_s_mean) - tf.keras.backend.exp(bg_s_log_var)\n",
        "      kl_loss = tf.keras.backend.sum(kl_loss, axis=-1)\n",
        "      kl_loss *= -0.5\n",
        "\n",
        "      cvae_loss = tf.keras.backend.mean(reconstruction_loss + beta*kl_loss + gamma * tc_loss + discriminator_loss)\n",
        "      cvae.add_loss(cvae_loss)\n",
        "      cvae.compile(optimizer='rmsprop')\n",
        "      \n",
        "      return cvae, cvae_fg, z_encoder, s_encoder, cvae_decoder"
      ],
      "execution_count": 24,
      "outputs": []
    },
    {
      "cell_type": "code",
      "metadata": {
        "id": "koVuSnmjnExm"
      },
      "source": [
        "if train_cvae:\n",
        "  latent_dim = 2\n",
        "  cvae, cvae_fg, z_encoder, s_encoder, cvae_decoder = get_MRI_CCVAE_3D(latent_dim=latent_dim,beta=1, disentangle=True, gamma=1, bias=True)\n",
        "  #cvae.load_weights('../tf_outputs/3D_CCVAE_Weights/Nov23')"
      ],
      "execution_count": 34,
      "outputs": []
    },
    {
      "cell_type": "code",
      "metadata": {
        "id": "u5dc9DIO9eeE"
      },
      "source": [
        "batch_size = 64\n",
        "DX_batch = DX_subs[np.random.randint(low=0,high=DX_subs.shape[0],size=batch_size),:,:,:]\n",
        "TD_batch = TD_subs[np.random.randint(low=0,high=TD_subs.shape[0],size=batch_size),:,:,:]"
      ],
      "execution_count": 35,
      "outputs": []
    },
    {
      "cell_type": "code",
      "metadata": {
        "id": "C8sYqMI78aGS"
      },
      "source": [
        "def net_query():\n",
        "  i = 0\n",
        "  n = 50\n",
        "  v_sl = s_encoder.predict(ABIDE_data[0:n,:,:,:])[i]#[0,:]\n",
        "  v_bg = z_encoder.predict(ABIDE_data[0:n,:,:,:])[i]#[0,:]\n",
        "  v = np.hstack((v_sl,v_bg))\n",
        "  latent_vec = v;\n",
        "  out = cvae_decoder.predict(latent_vec)\n",
        "\n",
        "  im = out[:,:,:,:,0]\n",
        "  im1 = ABIDE_data[0:n,:,:,:]\n",
        "  ss = ((im-im1)**2).sum()\n",
        "\n",
        "  return im[0,32,:,:],im1[0,32,:,:],ss\n",
        "\n",
        "def net_plot(im,im1):\n",
        "  plt.subplot(1,2,1);\n",
        "  plt.imshow(im1);\n",
        "  plt.subplot(1,2,2);\n",
        "  plt.imshow(im);\n",
        "\n",
        "\n",
        "%matplotlib inline\n",
        "from IPython import display\n",
        "import time\n",
        "def plot_trainProgress(loss,im,im1):\n",
        "\n",
        "  display.clear_output(wait=True)\n",
        "  display.display(plt.gcf())\n",
        "  #time.sleep(1.0)\n",
        "\n",
        "  plt.figure(figsize=np.array((7,5)) )\n",
        "\n",
        "  plt.subplot(2,2,1)\n",
        "  plt.imshow(im1);plt.xticks([]);plt.yticks([])\n",
        "  plt.title('image')\n",
        "\n",
        "  plt.subplot(2,2,3)\n",
        "  plt.imshow(im);plt.xticks([]);plt.yticks([])\n",
        "  plt.title('reconstruction')\n",
        "\n",
        "  plt.subplot(2,2,2)\n",
        "  plt.plot(loss);plt.title('overall loss')\n",
        "\n",
        "  plt.subplot(2,2,4)\n",
        "  plt.plot(loss);plt.title('loss: last 100 iteration')\n",
        "\n",
        "  plt.subplots_adjust(left=None, bottom=None, right=None, top=None, wspace=.15, hspace=.45)\n",
        "\n",
        "  plt.show()"
      ],
      "execution_count": 36,
      "outputs": []
    },
    {
      "cell_type": "code",
      "metadata": {
        "id": "AZQPIjP9YhKp"
      },
      "source": [
        "# Make tqdm work for colab\n",
        "from functools import partial\n",
        "from tqdm import tqdm\n",
        "tqdm = partial(tqdm, position=0, leave=True)"
      ],
      "execution_count": 37,
      "outputs": []
    },
    {
      "cell_type": "code",
      "metadata": {
        "colab": {
          "base_uri": "https://localhost:8080/",
          "height": 903
        },
        "id": "f3G3VigW9erL",
        "outputId": "5da10070-dde3-4d30-cabc-b795a2827082"
      },
      "source": [
        "loss = list()\n",
        "for i in tqdm(range(500)):\n",
        "  DX_batch = DX_subs[np.random.randint(low=0,high=DX_subs.shape[0],size=batch_size),:,:,:]\n",
        "  TD_batch = TD_subs[np.random.randint(low=0,high=TD_subs.shape[0],size=batch_size),:,:,:]\n",
        "  cvae.train_on_batch([DX_batch,TD_batch])\n",
        "  im,im1,ss = net_query();\n",
        "  loss.append(ss)\n",
        "  if np.mod(i,2)==0:\n",
        "    plot_trainProgress(loss,im,im1)"
      ],
      "execution_count": 40,
      "outputs": [
        {
          "output_type": "display_data",
          "data": {
            "text/plain": [
              "<Figure size 432x288 with 0 Axes>"
            ]
          },
          "metadata": {
            "tags": []
          }
        },
        {
          "output_type": "display_data",
          "data": {
            "text/plain": [
              "<Figure size 432x288 with 0 Axes>"
            ]
          },
          "metadata": {
            "tags": []
          }
        },
        {
          "output_type": "display_data",
          "data": {
            "image/png": "[encoded data removed]",
            "text/plain": [
              "<Figure size 504x360 with 4 Axes>"
            ]
          },
          "metadata": {
            "tags": [],
            "needs_background": "light"
          }
        },
        {
          "output_type": "stream",
          "text": [
            "  2%|▏         | 10/500 [00:21<17:45,  2.17s/it]"
          ],
          "name": "stderr"
        },
        {
          "output_type": "error",
          "ename": "UnknownError",
          "evalue": "ignored",
          "traceback": [
            "\u001b[0;31m---------------------------------------------------------------------------\u001b[0m",
            "\u001b[0;31mUnknownError\u001b[0m                              Traceback (most recent call last)",
            "\u001b[0;32m<ipython-input-40-3312043cbc25>\u001b[0m in \u001b[0;36m<module>\u001b[0;34m()\u001b[0m\n\u001b[1;32m      3\u001b[0m   \u001b[0mDX_batch\u001b[0m \u001b[0;34m=\u001b[0m \u001b[0mDX_subs\u001b[0m\u001b[0;34m[\u001b[0m\u001b[0mnp\u001b[0m\u001b[0;34m.\u001b[0m\u001b[0mrandom\u001b[0m\u001b[0;34m.\u001b[0m\u001b[0mrandint\u001b[0m\u001b[0;34m(\u001b[0m\u001b[0mlow\u001b[0m\u001b[0;34m=\u001b[0m\u001b[0;36m0\u001b[0m\u001b[0;34m,\u001b[0m\u001b[0mhigh\u001b[0m\u001b[0;34m=\u001b[0m\u001b[0mDX_subs\u001b[0m\u001b[0;34m.\u001b[0m\u001b[0mshape\u001b[0m\u001b[0;34m[\u001b[0m\u001b[0;36m0\u001b[0m\u001b[0;34m]\u001b[0m\u001b[0;34m,\u001b[0m\u001b[0msize\u001b[0m\u001b[0;34m=\u001b[0m\u001b[0mbatch_size\u001b[0m\u001b[0;34m)\u001b[0m\u001b[0;34m,\u001b[0m\u001b[0;34m:\u001b[0m\u001b[0;34m,\u001b[0m\u001b[0;34m:\u001b[0m\u001b[0;34m,\u001b[0m\u001b[0;34m:\u001b[0m\u001b[0;34m]\u001b[0m\u001b[0;34m\u001b[0m\u001b[0;34m\u001b[0m\u001b[0m\n\u001b[1;32m      4\u001b[0m   \u001b[0mTD_batch\u001b[0m \u001b[0;34m=\u001b[0m \u001b[0mTD_subs\u001b[0m\u001b[0;34m[\u001b[0m\u001b[0mnp\u001b[0m\u001b[0;34m.\u001b[0m\u001b[0mrandom\u001b[0m\u001b[0;34m.\u001b[0m\u001b[0mrandint\u001b[0m\u001b[0;34m(\u001b[0m\u001b[0mlow\u001b[0m\u001b[0;34m=\u001b[0m\u001b[0;36m0\u001b[0m\u001b[0;34m,\u001b[0m\u001b[0mhigh\u001b[0m\u001b[0;34m=\u001b[0m\u001b[0mTD_subs\u001b[0m\u001b[0;34m.\u001b[0m\u001b[0mshape\u001b[0m\u001b[0;34m[\u001b[0m\u001b[0;36m0\u001b[0m\u001b[0;34m]\u001b[0m\u001b[0;34m,\u001b[0m\u001b[0msize\u001b[0m\u001b[0;34m=\u001b[0m\u001b[0mbatch_size\u001b[0m\u001b[0;34m)\u001b[0m\u001b[0;34m,\u001b[0m\u001b[0;34m:\u001b[0m\u001b[0;34m,\u001b[0m\u001b[0;34m:\u001b[0m\u001b[0;34m,\u001b[0m\u001b[0;34m:\u001b[0m\u001b[0;34m]\u001b[0m\u001b[0;34m\u001b[0m\u001b[0;34m\u001b[0m\u001b[0m\n\u001b[0;32m----> 5\u001b[0;31m   \u001b[0mcvae\u001b[0m\u001b[0;34m.\u001b[0m\u001b[0mtrain_on_batch\u001b[0m\u001b[0;34m(\u001b[0m\u001b[0;34m[\u001b[0m\u001b[0mDX_batch\u001b[0m\u001b[0;34m,\u001b[0m\u001b[0mTD_batch\u001b[0m\u001b[0;34m]\u001b[0m\u001b[0;34m)\u001b[0m\u001b[0;34m\u001b[0m\u001b[0;34m\u001b[0m\u001b[0m\n\u001b[0m\u001b[1;32m      6\u001b[0m   \u001b[0mim\u001b[0m\u001b[0;34m,\u001b[0m\u001b[0mim1\u001b[0m\u001b[0;34m,\u001b[0m\u001b[0mss\u001b[0m \u001b[0;34m=\u001b[0m \u001b[0mnet_query\u001b[0m\u001b[0;34m(\u001b[0m\u001b[0;34m)\u001b[0m\u001b[0;34m;\u001b[0m\u001b[0;34m\u001b[0m\u001b[0;34m\u001b[0m\u001b[0m\n\u001b[1;32m      7\u001b[0m   \u001b[0mloss\u001b[0m\u001b[0;34m.\u001b[0m\u001b[0mappend\u001b[0m\u001b[0;34m(\u001b[0m\u001b[0mss\u001b[0m\u001b[0;34m)\u001b[0m\u001b[0;34m\u001b[0m\u001b[0;34m\u001b[0m\u001b[0m\n",
            "\u001b[0;32m/usr/local/lib/python3.6/dist-packages/tensorflow/python/keras/engine/training.py\u001b[0m in \u001b[0;36mtrain_on_batch\u001b[0;34m(self, x, y, sample_weight, class_weight, reset_metrics, return_dict)\u001b[0m\n\u001b[1;32m   1725\u001b[0m                                                     class_weight)\n\u001b[1;32m   1726\u001b[0m       \u001b[0mself\u001b[0m\u001b[0;34m.\u001b[0m\u001b[0mtrain_function\u001b[0m \u001b[0;34m=\u001b[0m \u001b[0mself\u001b[0m\u001b[0;34m.\u001b[0m\u001b[0mmake_train_function\u001b[0m\u001b[0;34m(\u001b[0m\u001b[0;34m)\u001b[0m\u001b[0;34m\u001b[0m\u001b[0;34m\u001b[0m\u001b[0m\n\u001b[0;32m-> 1727\u001b[0;31m       \u001b[0mlogs\u001b[0m \u001b[0;34m=\u001b[0m \u001b[0mself\u001b[0m\u001b[0;34m.\u001b[0m\u001b[0mtrain_function\u001b[0m\u001b[0;34m(\u001b[0m\u001b[0miterator\u001b[0m\u001b[0;34m)\u001b[0m\u001b[0;34m\u001b[0m\u001b[0;34m\u001b[0m\u001b[0m\n\u001b[0m\u001b[1;32m   1728\u001b[0m \u001b[0;34m\u001b[0m\u001b[0m\n\u001b[1;32m   1729\u001b[0m     \u001b[0;32mif\u001b[0m \u001b[0mreset_metrics\u001b[0m\u001b[0;34m:\u001b[0m\u001b[0;34m\u001b[0m\u001b[0;34m\u001b[0m\u001b[0m\n",
            "\u001b[0;32m/usr/local/lib/python3.6/dist-packages/tensorflow/python/eager/def_function.py\u001b[0m in \u001b[0;36m__call__\u001b[0;34m(self, *args, **kwds)\u001b[0m\n\u001b[1;32m    826\u001b[0m     \u001b[0mtracing_count\u001b[0m \u001b[0;34m=\u001b[0m \u001b[0mself\u001b[0m\u001b[0;34m.\u001b[0m\u001b[0mexperimental_get_tracing_count\u001b[0m\u001b[0;34m(\u001b[0m\u001b[0;34m)\u001b[0m\u001b[0;34m\u001b[0m\u001b[0;34m\u001b[0m\u001b[0m\n\u001b[1;32m    827\u001b[0m     \u001b[0;32mwith\u001b[0m \u001b[0mtrace\u001b[0m\u001b[0;34m.\u001b[0m\u001b[0mTrace\u001b[0m\u001b[0;34m(\u001b[0m\u001b[0mself\u001b[0m\u001b[0;34m.\u001b[0m\u001b[0m_name\u001b[0m\u001b[0;34m)\u001b[0m \u001b[0;32mas\u001b[0m \u001b[0mtm\u001b[0m\u001b[0;34m:\u001b[0m\u001b[0;34m\u001b[0m\u001b[0;34m\u001b[0m\u001b[0m\n\u001b[0;32m--> 828\u001b[0;31m       \u001b[0mresult\u001b[0m \u001b[0;34m=\u001b[0m \u001b[0mself\u001b[0m\u001b[0;34m.\u001b[0m\u001b[0m_call\u001b[0m\u001b[0;34m(\u001b[0m\u001b[0;34m*\u001b[0m\u001b[0margs\u001b[0m\u001b[0;34m,\u001b[0m \u001b[0;34m**\u001b[0m\u001b[0mkwds\u001b[0m\u001b[0;34m)\u001b[0m\u001b[0;34m\u001b[0m\u001b[0;34m\u001b[0m\u001b[0m\n\u001b[0m\u001b[1;32m    829\u001b[0m       \u001b[0mcompiler\u001b[0m \u001b[0;34m=\u001b[0m \u001b[0;34m\"xla\"\u001b[0m \u001b[0;32mif\u001b[0m \u001b[0mself\u001b[0m\u001b[0;34m.\u001b[0m\u001b[0m_experimental_compile\u001b[0m \u001b[0;32melse\u001b[0m \u001b[0;34m\"nonXla\"\u001b[0m\u001b[0;34m\u001b[0m\u001b[0;34m\u001b[0m\u001b[0m\n\u001b[1;32m    830\u001b[0m       \u001b[0mnew_tracing_count\u001b[0m \u001b[0;34m=\u001b[0m \u001b[0mself\u001b[0m\u001b[0;34m.\u001b[0m\u001b[0mexperimental_get_tracing_count\u001b[0m\u001b[0;34m(\u001b[0m\u001b[0;34m)\u001b[0m\u001b[0;34m\u001b[0m\u001b[0;34m\u001b[0m\u001b[0m\n",
            "\u001b[0;32m/usr/local/lib/python3.6/dist-packages/tensorflow/python/eager/def_function.py\u001b[0m in \u001b[0;36m_call\u001b[0;34m(self, *args, **kwds)\u001b[0m\n\u001b[1;32m    853\u001b[0m       \u001b[0;31m# In this case we have created variables on the first call, so we run the\u001b[0m\u001b[0;34m\u001b[0m\u001b[0;34m\u001b[0m\u001b[0;34m\u001b[0m\u001b[0m\n\u001b[1;32m    854\u001b[0m       \u001b[0;31m# defunned version which is guaranteed to never create variables.\u001b[0m\u001b[0;34m\u001b[0m\u001b[0;34m\u001b[0m\u001b[0;34m\u001b[0m\u001b[0m\n\u001b[0;32m--> 855\u001b[0;31m       \u001b[0;32mreturn\u001b[0m \u001b[0mself\u001b[0m\u001b[0;34m.\u001b[0m\u001b[0m_stateless_fn\u001b[0m\u001b[0;34m(\u001b[0m\u001b[0;34m*\u001b[0m\u001b[0margs\u001b[0m\u001b[0;34m,\u001b[0m \u001b[0;34m**\u001b[0m\u001b[0mkwds\u001b[0m\u001b[0;34m)\u001b[0m  \u001b[0;31m# pylint: disable=not-callable\u001b[0m\u001b[0;34m\u001b[0m\u001b[0;34m\u001b[0m\u001b[0m\n\u001b[0m\u001b[1;32m    856\u001b[0m     \u001b[0;32melif\u001b[0m \u001b[0mself\u001b[0m\u001b[0;34m.\u001b[0m\u001b[0m_stateful_fn\u001b[0m \u001b[0;32mis\u001b[0m \u001b[0;32mnot\u001b[0m \u001b[0;32mNone\u001b[0m\u001b[0;34m:\u001b[0m\u001b[0;34m\u001b[0m\u001b[0;34m\u001b[0m\u001b[0m\n\u001b[1;32m    857\u001b[0m       \u001b[0;31m# Release the lock early so that multiple threads can perform the call\u001b[0m\u001b[0;34m\u001b[0m\u001b[0;34m\u001b[0m\u001b[0;34m\u001b[0m\u001b[0m\n",
            "\u001b[0;32m/usr/local/lib/python3.6/dist-packages/tensorflow/python/eager/function.py\u001b[0m in \u001b[0;36m__call__\u001b[0;34m(self, *args, **kwargs)\u001b[0m\n\u001b[1;32m   2941\u001b[0m        filtered_flat_args) = self._maybe_define_function(args, kwargs)\n\u001b[1;32m   2942\u001b[0m     return graph_function._call_flat(\n\u001b[0;32m-> 2943\u001b[0;31m         filtered_flat_args, captured_inputs=graph_function.captured_inputs)  # pylint: disable=protected-access\n\u001b[0m\u001b[1;32m   2944\u001b[0m \u001b[0;34m\u001b[0m\u001b[0m\n\u001b[1;32m   2945\u001b[0m   \u001b[0;34m@\u001b[0m\u001b[0mproperty\u001b[0m\u001b[0;34m\u001b[0m\u001b[0;34m\u001b[0m\u001b[0m\n",
            "\u001b[0;32m/usr/local/lib/python3.6/dist-packages/tensorflow/python/eager/function.py\u001b[0m in \u001b[0;36m_call_flat\u001b[0;34m(self, args, captured_inputs, cancellation_manager)\u001b[0m\n\u001b[1;32m   1917\u001b[0m       \u001b[0;31m# No tape is watching; skip to running the function.\u001b[0m\u001b[0;34m\u001b[0m\u001b[0;34m\u001b[0m\u001b[0;34m\u001b[0m\u001b[0m\n\u001b[1;32m   1918\u001b[0m       return self._build_call_outputs(self._inference_function.call(\n\u001b[0;32m-> 1919\u001b[0;31m           ctx, args, cancellation_manager=cancellation_manager))\n\u001b[0m\u001b[1;32m   1920\u001b[0m     forward_backward = self._select_forward_and_backward_functions(\n\u001b[1;32m   1921\u001b[0m         \u001b[0margs\u001b[0m\u001b[0;34m,\u001b[0m\u001b[0;34m\u001b[0m\u001b[0;34m\u001b[0m\u001b[0m\n",
            "\u001b[0;32m/usr/local/lib/python3.6/dist-packages/tensorflow/python/eager/function.py\u001b[0m in \u001b[0;36mcall\u001b[0;34m(self, ctx, args, cancellation_manager)\u001b[0m\n\u001b[1;32m    558\u001b[0m               \u001b[0minputs\u001b[0m\u001b[0;34m=\u001b[0m\u001b[0margs\u001b[0m\u001b[0;34m,\u001b[0m\u001b[0;34m\u001b[0m\u001b[0;34m\u001b[0m\u001b[0m\n\u001b[1;32m    559\u001b[0m               \u001b[0mattrs\u001b[0m\u001b[0;34m=\u001b[0m\u001b[0mattrs\u001b[0m\u001b[0;34m,\u001b[0m\u001b[0;34m\u001b[0m\u001b[0;34m\u001b[0m\u001b[0m\n\u001b[0;32m--> 560\u001b[0;31m               ctx=ctx)\n\u001b[0m\u001b[1;32m    561\u001b[0m         \u001b[0;32melse\u001b[0m\u001b[0;34m:\u001b[0m\u001b[0;34m\u001b[0m\u001b[0;34m\u001b[0m\u001b[0m\n\u001b[1;32m    562\u001b[0m           outputs = execute.execute_with_cancellation(\n",
            "\u001b[0;32m/usr/local/lib/python3.6/dist-packages/tensorflow/python/eager/execute.py\u001b[0m in \u001b[0;36mquick_execute\u001b[0;34m(op_name, num_outputs, inputs, attrs, ctx, name)\u001b[0m\n\u001b[1;32m     58\u001b[0m     \u001b[0mctx\u001b[0m\u001b[0;34m.\u001b[0m\u001b[0mensure_initialized\u001b[0m\u001b[0;34m(\u001b[0m\u001b[0;34m)\u001b[0m\u001b[0;34m\u001b[0m\u001b[0;34m\u001b[0m\u001b[0m\n\u001b[1;32m     59\u001b[0m     tensors = pywrap_tfe.TFE_Py_Execute(ctx._handle, device_name, op_name,\n\u001b[0;32m---> 60\u001b[0;31m                                         inputs, attrs, num_outputs)\n\u001b[0m\u001b[1;32m     61\u001b[0m   \u001b[0;32mexcept\u001b[0m \u001b[0mcore\u001b[0m\u001b[0;34m.\u001b[0m\u001b[0m_NotOkStatusException\u001b[0m \u001b[0;32mas\u001b[0m \u001b[0me\u001b[0m\u001b[0;34m:\u001b[0m\u001b[0;34m\u001b[0m\u001b[0;34m\u001b[0m\u001b[0m\n\u001b[1;32m     62\u001b[0m     \u001b[0;32mif\u001b[0m \u001b[0mname\u001b[0m \u001b[0;32mis\u001b[0m \u001b[0;32mnot\u001b[0m \u001b[0;32mNone\u001b[0m\u001b[0;34m:\u001b[0m\u001b[0;34m\u001b[0m\u001b[0;34m\u001b[0m\u001b[0m\n",
            "\u001b[0;31mUnknownError\u001b[0m:  CUDNN_STATUS_MAPPING_ERROR\nin tensorflow/stream_executor/cuda/cuda_dnn.cc(3127): 'cudnnConvolutionBackwardData( cudnn.handle(), alpha, filter_nd.handle(), filter_data.opaque(), output_nd.handle(), output_data.opaque(), conv.handle(), ToConvBackwardDataAlgo(algorithm_desc), scratch_memory.opaque(), scratch_memory.size(), beta, input_nd.handle(), input_data.opaque())'\n\t [[node contrastive_vae/decoder/decoder_output/conv3d_transpose_1 (defined at <ipython-input-38-91562baf2dda>:5) ]] [Op:__inference_train_function_11327]\n\nFunction call stack:\ntrain_function\n"
          ]
        }
      ]
    },
    {
      "cell_type": "code",
      "metadata": {
        "id": "FxVvuAwe9MMJ"
      },
      "source": [
        ""
      ],
      "execution_count": 38,
      "outputs": []
    },
    {
      "cell_type": "code",
      "metadata": {
        "id": "0oMsQc-mb_Te"
      },
      "source": [
        ""
      ],
      "execution_count": 38,
      "outputs": []
    },
    {
      "cell_type": "code",
      "metadata": {
        "id": "WwO10OOO-U4X"
      },
      "source": [
        ""
      ],
      "execution_count": 38,
      "outputs": []
    },
    {
      "cell_type": "code",
      "metadata": {
        "id": "k8feeR2f6FYC"
      },
      "source": [
        "\n",
        "# # import time\n",
        "# # import pylab as pl\n",
        "\n",
        "# # for i in range(10):\n",
        "# #     pl.plot(pl.randn(100))\n",
        "# #     display.clear_output(wait=True)\n",
        "# #     display.display(pl.gcf())\n",
        "# #     time.sleep(1.0)\n",
        "\n",
        "# xs = np.arange(10)\n",
        "# ys = np.zeros(10)\n",
        "# for i in range(10):\n",
        "#   ys[i] = i\n",
        "#   plt.plot(xs,ys,'k.',markersize=25)\n",
        "#   plt.ylim(1,10);\n",
        "#   #display.clear_output(wait=True)\n",
        "#   #display.display(plt.gcf())\n",
        "#   #plt.clf()\n",
        "#   #time.sleep(1.0)"
      ],
      "execution_count": null,
      "outputs": []
    },
    {
      "cell_type": "code",
      "metadata": {
        "id": "CIIR_WS6JTPH"
      },
      "source": [
        ""
      ],
      "execution_count": null,
      "outputs": []
    },
    {
      "cell_type": "code",
      "metadata": {
        "id": "tVMwNitOJTPH"
      },
      "source": [
        ""
      ],
      "execution_count": null,
      "outputs": []
    },
    {
      "cell_type": "code",
      "metadata": {
        "id": "BlEgccMmJTPH"
      },
      "source": [
        ""
      ],
      "execution_count": null,
      "outputs": []
    },
    {
      "cell_type": "code",
      "metadata": {
        "id": "INWwrMWuJTPH"
      },
      "source": [
        ""
      ],
      "execution_count": null,
      "outputs": []
    },
    {
      "cell_type": "code",
      "metadata": {
        "id": "k63nPoYmJTPH"
      },
      "source": [
        ""
      ],
      "execution_count": null,
      "outputs": []
    },
    {
      "cell_type": "code",
      "metadata": {
        "id": "wo7oeQfrJTPH"
      },
      "source": [
        ""
      ],
      "execution_count": null,
      "outputs": []
    },
    {
      "cell_type": "code",
      "metadata": {
        "id": "5C9xeJa3JTPH"
      },
      "source": [
        ""
      ],
      "execution_count": null,
      "outputs": []
    },
    {
      "cell_type": "code",
      "metadata": {
        "id": "tl68vz_iJTPH"
      },
      "source": [
        ""
      ],
      "execution_count": null,
      "outputs": []
    },
    {
      "cell_type": "code",
      "metadata": {
        "id": "1rK_EyZDJTPH"
      },
      "source": [
        ""
      ],
      "execution_count": null,
      "outputs": []
    },
    {
      "cell_type": "code",
      "metadata": {
        "id": "wO-Ft1iDJTPH"
      },
      "source": [
        ""
      ],
      "execution_count": null,
      "outputs": []
    },
    {
      "cell_type": "code",
      "metadata": {
        "id": "Y-9J21rEJTPH"
      },
      "source": [
        ""
      ],
      "execution_count": null,
      "outputs": []
    },
    {
      "cell_type": "code",
      "metadata": {
        "id": "MA9WJjzGJTPH"
      },
      "source": [
        ""
      ],
      "execution_count": null,
      "outputs": []
    }
  ]
}
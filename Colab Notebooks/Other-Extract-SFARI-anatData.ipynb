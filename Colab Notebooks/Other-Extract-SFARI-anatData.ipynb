{
 "cells": [
  {
   "cell_type": "code",
   "execution_count": 9,
   "metadata": {},
   "outputs": [],
   "source": [
    "import numpy as np\n",
    "import os\n",
    "import ants"
   ]
  },
  {
   "cell_type": "code",
   "execution_count": 7,
   "metadata": {},
   "outputs": [
    {
     "name": "stdout",
     "output_type": "stream",
     "text": [
      "['data', 'subs']\n"
     ]
    }
   ],
   "source": [
    "# arr = np.load('../Data/ABIDE-Anat-64iso.npz')\n",
    "# ABIDE_data = arr['data']\n",
    "# ABIDE_subs = arr['subs']\n",
    "# nsubs = ABIDE_data.shape[0]\n",
    "# print(arr.files)"
   ]
  },
  {
   "cell_type": "code",
   "execution_count": 31,
   "metadata": {},
   "outputs": [
    {
     "data": {
      "text/plain": [
       "(1022, 64, 64, 64)"
      ]
     },
     "execution_count": 31,
     "metadata": {},
     "output_type": "execute_result"
    }
   ],
   "source": [
    "ABIDE_data.shape"
   ]
  },
  {
   "cell_type": "code",
   "execution_count": 32,
   "metadata": {},
   "outputs": [
    {
     "data": {
      "text/plain": [
       "array(['sub-001', 'sub-002', 'sub-003', ..., 'sub-987', 'sub-989',\n",
       "       'sub-990'], dtype='<U8')"
      ]
     },
     "execution_count": 32,
     "metadata": {},
     "output_type": "execute_result"
    }
   ],
   "source": [
    "ABIDE_subs"
   ]
  },
  {
   "cell_type": "code",
   "execution_count": 13,
   "metadata": {},
   "outputs": [
    {
     "data": {
      "text/plain": [
       "array(['sub-004', 'sub-008', 'sub-012', 'sub-014', 'sub-018'], dtype='<U7')"
      ]
     },
     "execution_count": 13,
     "metadata": {},
     "output_type": "execute_result"
    }
   ],
   "source": [
    "indir = '/Volumes/Samsung_T5/DS-use-new-atlas/'\n",
    "subs = [sub for sub in os.listdir(indir) if 'sub-' in sub];subs.sort()\n",
    "subs = np.array(subs)\n",
    "subs[0:5]"
   ]
  },
  {
   "cell_type": "code",
   "execution_count": 53,
   "metadata": {},
   "outputs": [],
   "source": [
    "def getTinyBrain(sub):\n",
    "    C1 = ants.image_read(os.path.join(indir,sub,'anat',f'c1{sub}_T1w.nii'))\n",
    "    C2 = ants.image_read(os.path.join(indir,sub,'anat',f'c2{sub}_T1w.nii'))\n",
    "    T1 = ants.image_read(os.path.join(indir,sub,'anat',f'{sub}_T1w.nii'))\n",
    "\n",
    "    C = C1+C2\n",
    "    T1[C<.8] = 0\n",
    "\n",
    "    tinyBrain = ants.resample_image(image=T1,resample_params=(64,64,64),use_voxels=True,interp_type=1)\n",
    "    \n",
    "    arr = tinyBrain.numpy()\n",
    "    arr = (arr-arr.min()) / (arr.max()-arr.min())\n",
    "    return arr"
   ]
  },
  {
   "cell_type": "code",
   "execution_count": 54,
   "metadata": {},
   "outputs": [],
   "source": [
    "raw = [getTinyBrain(sub) for sub in subs]"
   ]
  },
  {
   "cell_type": "code",
   "execution_count": 55,
   "metadata": {},
   "outputs": [
    {
     "data": {
      "text/plain": [
       "(131, 64, 64, 64)"
      ]
     },
     "execution_count": 55,
     "metadata": {},
     "output_type": "execute_result"
    }
   ],
   "source": [
    "np.array(raw).shape"
   ]
  },
  {
   "cell_type": "code",
   "execution_count": 56,
   "metadata": {},
   "outputs": [],
   "source": [
    "np.savez_compressed('../Data/SFARI-Anat-64iso.npz',data=np.array(raw),subs=subs)"
   ]
  },
  {
   "cell_type": "code",
   "execution_count": 48,
   "metadata": {},
   "outputs": [],
   "source": [
    "# arr = np.load('../Data/SFARI-Anat-64iso.npz')\n",
    "# SFARI_data = arr['data']\n",
    "# SFARI_subs = arr['subs']\n",
    "# nsubs = SFARI_data.shape[0]\n",
    "# print(arr.files)"
   ]
  },
  {
   "cell_type": "code",
   "execution_count": null,
   "metadata": {},
   "outputs": [],
   "source": []
  },
  {
   "cell_type": "code",
   "execution_count": null,
   "metadata": {},
   "outputs": [],
   "source": []
  }
 ],
 "metadata": {
  "kernelspec": {
   "display_name": "Python 3",
   "language": "python",
   "name": "python3"
  },
  "language_info": {
   "codemirror_mode": {
    "name": "ipython",
    "version": 3
   },
   "file_extension": ".py",
   "mimetype": "text/x-python",
   "name": "python",
   "nbconvert_exporter": "python",
   "pygments_lexer": "ipython3",
   "version": "3.7.7"
  }
 },
 "nbformat": 4,
 "nbformat_minor": 4
}

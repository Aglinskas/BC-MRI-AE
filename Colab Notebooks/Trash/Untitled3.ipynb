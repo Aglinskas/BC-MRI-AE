{
 "cells": [
  {
   "cell_type": "code",
   "execution_count": 3,
   "metadata": {},
   "outputs": [],
   "source": [
    "import json"
   ]
  },
  {
   "cell_type": "code",
   "execution_count": 9,
   "metadata": {},
   "outputs": [],
   "source": [
    "fn = '/Users/aidasaglinskas/Downloads/fooof_FP1.json'\n",
    "with open(fn) as f:\n",
    "    data = json.load(f)"
   ]
  },
  {
   "cell_type": "code",
   "execution_count": 5,
   "metadata": {},
   "outputs": [
    {
     "data": {
      "text/plain": [
       "{'freq_range': [1.0, 50.0],\n",
       " 'freq_res': 0.5,\n",
       " 'aperiodic_params_': [-0.17355126549981564, 0.7200071174960804],\n",
       " 'gaussian_params_': [[9.725985681627735,\n",
       "   0.6197833401909484,\n",
       "   0.7286569606119039],\n",
       "  [11.944422308505468, 0.31199183586068296, 0.5000000000000001],\n",
       "  [18.43752068553229, 0.3340681693743396, 0.8969315254502627],\n",
       "  [25.98518480920801, 0.2464965373194571, 0.5000000000000001],\n",
       "  [29.326517361202605, 0.21022278653988882, 1.0399995537833167],\n",
       "  [35.800179635689425, 0.15522348135383238, 5.999994305151921],\n",
       "  [41.81078970475627, 0.025028919072222145, 0.5000000000000001]],\n",
       " 'peak_params_': [[9.725985681627735, 0.5906937158707068, 1.4573139212238078],\n",
       "  [11.944422308505468, 0.3148866511243873, 1.0000000000000002],\n",
       "  [18.43752068553229, 0.33568882250466736, 1.7938630509005253],\n",
       "  [25.98518480920801, 0.28854202485581193, 1.0000000000000002],\n",
       "  [29.326517361202605, 0.29675962046942617, 2.0799991075666333],\n",
       "  [35.800179635689425, 0.15513742486746573, 11.999988610303841],\n",
       "  [41.81078970475627, 0.11431289181445314, 1.0000000000000002]],\n",
       " 'r_squared_': 0.8400408250314749,\n",
       " 'error_': 0.09274771366548544}"
      ]
     },
     "execution_count": 5,
     "metadata": {},
     "output_type": "execute_result"
    }
   ],
   "source": [
    "data"
   ]
  },
  {
   "cell_type": "code",
   "execution_count": 6,
   "metadata": {},
   "outputs": [
    {
     "data": {
      "text/plain": [
       "dict_keys(['freq_range', 'freq_res', 'aperiodic_params_', 'gaussian_params_', 'peak_params_', 'r_squared_', 'error_'])"
      ]
     },
     "execution_count": 6,
     "metadata": {},
     "output_type": "execute_result"
    }
   ],
   "source": [
    "data.keys()"
   ]
  },
  {
   "cell_type": "code",
   "execution_count": 7,
   "metadata": {},
   "outputs": [
    {
     "data": {
      "text/plain": [
       "[1.0, 50.0]"
      ]
     },
     "execution_count": 7,
     "metadata": {},
     "output_type": "execute_result"
    }
   ],
   "source": [
    "data['freq_range']"
   ]
  },
  {
   "cell_type": "code",
   "execution_count": 8,
   "metadata": {},
   "outputs": [
    {
     "data": {
      "text/plain": [
       "[[9.725985681627735, 0.5906937158707068, 1.4573139212238078],\n",
       " [11.944422308505468, 0.3148866511243873, 1.0000000000000002],\n",
       " [18.43752068553229, 0.33568882250466736, 1.7938630509005253],\n",
       " [25.98518480920801, 0.28854202485581193, 1.0000000000000002],\n",
       " [29.326517361202605, 0.29675962046942617, 2.0799991075666333],\n",
       " [35.800179635689425, 0.15513742486746573, 11.999988610303841],\n",
       " [41.81078970475627, 0.11431289181445314, 1.0000000000000002]]"
      ]
     },
     "execution_count": 8,
     "metadata": {},
     "output_type": "execute_result"
    }
   ],
   "source": [
    "data['peak_params_']"
   ]
  },
  {
   "cell_type": "code",
   "execution_count": null,
   "metadata": {},
   "outputs": [],
   "source": []
  },
  {
   "cell_type": "code",
   "execution_count": null,
   "metadata": {},
   "outputs": [],
   "source": []
  },
  {
   "cell_type": "code",
   "execution_count": null,
   "metadata": {},
   "outputs": [],
   "source": []
  }
 ],
 "metadata": {
  "kernelspec": {
   "display_name": "Python 3",
   "language": "python",
   "name": "python3"
  },
  "language_info": {
   "codemirror_mode": {
    "name": "ipython",
    "version": 3
   },
   "file_extension": ".py",
   "mimetype": "text/x-python",
   "name": "python",
   "nbconvert_exporter": "python",
   "pygments_lexer": "ipython3",
   "version": "3.7.7"
  }
 },
 "nbformat": 4,
 "nbformat_minor": 4
}

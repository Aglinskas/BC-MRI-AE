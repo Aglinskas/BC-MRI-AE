{
 "cells": [
  {
   "cell_type": "code",
   "execution_count": 1,
   "metadata": {},
   "outputs": [
    {
     "data": {
      "text/plain": [
       "'/Users/aidasaglinskas/Desktop/BC-MRI-AE/Colab Notebooks'"
      ]
     },
     "execution_count": 1,
     "metadata": {},
     "output_type": "execute_result"
    }
   ],
   "source": [
    "pwd"
   ]
  },
  {
   "cell_type": "code",
   "execution_count": 2,
   "metadata": {},
   "outputs": [],
   "source": [
    "import numpy as np\n",
    "import pickle\n",
    "import pandas as pd\n",
    "from matplotlib import  pyplot as plt\n",
    "import  seaborn as sns\n",
    "from helper_funcs import *\n",
    "\n",
    "from tqdm import tqdm_notebook as tqdm\n",
    "from datetime import datetime"
   ]
  },
  {
   "cell_type": "code",
   "execution_count": 3,
   "metadata": {},
   "outputs": [
    {
     "data": {
      "text/html": [
       "<div>\n",
       "<style scoped>\n",
       "    .dataframe tbody tr th:only-of-type {\n",
       "        vertical-align: middle;\n",
       "    }\n",
       "\n",
       "    .dataframe tbody tr th {\n",
       "        vertical-align: top;\n",
       "    }\n",
       "\n",
       "    .dataframe thead th {\n",
       "        text-align: right;\n",
       "    }\n",
       "</style>\n",
       "<table border=\"1\" class=\"dataframe\">\n",
       "  <thead>\n",
       "    <tr style=\"text-align: right;\">\n",
       "      <th></th>\n",
       "      <th>Unnamed: 0</th>\n",
       "      <th>Unnamed: 0.1</th>\n",
       "      <th>index</th>\n",
       "      <th>BIDS_ID</th>\n",
       "      <th>Anonymized ID</th>\n",
       "      <th>Subject Type</th>\n",
       "      <th>Visit</th>\n",
       "      <th>Days since enrollment</th>\n",
       "      <th>SubID</th>\n",
       "      <th>DxGroup</th>\n",
       "      <th>...</th>\n",
       "      <th>Medication Name.1</th>\n",
       "      <th>Off stimulants at EPI scan?</th>\n",
       "      <th>ScanSite</th>\n",
       "      <th>ScannerType</th>\n",
       "      <th>ScannerID</th>\n",
       "      <th>ScanSiteID</th>\n",
       "      <th>ADOS_PCA</th>\n",
       "      <th>ADI_PCA</th>\n",
       "      <th>Vineland_PCA</th>\n",
       "      <th>WISC_PCA</th>\n",
       "    </tr>\n",
       "  </thead>\n",
       "  <tbody>\n",
       "    <tr>\n",
       "      <th>0</th>\n",
       "      <td>0</td>\n",
       "      <td>0</td>\n",
       "      <td>0</td>\n",
       "      <td>sub-001</td>\n",
       "      <td>A00033348</td>\n",
       "      <td>PATIENT</td>\n",
       "      <td>session_1</td>\n",
       "      <td>8</td>\n",
       "      <td>51320</td>\n",
       "      <td>1</td>\n",
       "      <td>...</td>\n",
       "      <td>NaN</td>\n",
       "      <td>NaN</td>\n",
       "      <td>mpg</td>\n",
       "      <td>verio</td>\n",
       "      <td>7</td>\n",
       "      <td>3</td>\n",
       "      <td>0</td>\n",
       "      <td>0</td>\n",
       "      <td>0</td>\n",
       "      <td>0</td>\n",
       "    </tr>\n",
       "    <tr>\n",
       "      <th>1</th>\n",
       "      <td>1</td>\n",
       "      <td>1</td>\n",
       "      <td>1</td>\n",
       "      <td>sub-002</td>\n",
       "      <td>A00033398</td>\n",
       "      <td>CONTROL</td>\n",
       "      <td>session_1</td>\n",
       "      <td>8</td>\n",
       "      <td>51373</td>\n",
       "      <td>2</td>\n",
       "      <td>...</td>\n",
       "      <td>NaN</td>\n",
       "      <td>NaN</td>\n",
       "      <td>mpg</td>\n",
       "      <td>verio</td>\n",
       "      <td>7</td>\n",
       "      <td>3</td>\n",
       "      <td>0</td>\n",
       "      <td>0</td>\n",
       "      <td>0</td>\n",
       "      <td>0</td>\n",
       "    </tr>\n",
       "    <tr>\n",
       "      <th>2</th>\n",
       "      <td>2</td>\n",
       "      <td>2</td>\n",
       "      <td>2</td>\n",
       "      <td>sub-003</td>\n",
       "      <td>A00033352</td>\n",
       "      <td>PATIENT</td>\n",
       "      <td>session_1</td>\n",
       "      <td>8</td>\n",
       "      <td>51324</td>\n",
       "      <td>1</td>\n",
       "      <td>...</td>\n",
       "      <td>NaN</td>\n",
       "      <td>NaN</td>\n",
       "      <td>mpg</td>\n",
       "      <td>verio</td>\n",
       "      <td>7</td>\n",
       "      <td>3</td>\n",
       "      <td>0</td>\n",
       "      <td>0</td>\n",
       "      <td>0</td>\n",
       "      <td>0</td>\n",
       "    </tr>\n",
       "    <tr>\n",
       "      <th>3</th>\n",
       "      <td>3</td>\n",
       "      <td>3</td>\n",
       "      <td>3</td>\n",
       "      <td>sub-004</td>\n",
       "      <td>A00033389</td>\n",
       "      <td>CONTROL</td>\n",
       "      <td>session_1</td>\n",
       "      <td>8</td>\n",
       "      <td>51364</td>\n",
       "      <td>2</td>\n",
       "      <td>...</td>\n",
       "      <td>NaN</td>\n",
       "      <td>NaN</td>\n",
       "      <td>mpg</td>\n",
       "      <td>verio</td>\n",
       "      <td>7</td>\n",
       "      <td>3</td>\n",
       "      <td>0</td>\n",
       "      <td>0</td>\n",
       "      <td>0</td>\n",
       "      <td>0</td>\n",
       "    </tr>\n",
       "    <tr>\n",
       "      <th>4</th>\n",
       "      <td>4</td>\n",
       "      <td>4</td>\n",
       "      <td>4</td>\n",
       "      <td>sub-005</td>\n",
       "      <td>A00033354</td>\n",
       "      <td>PATIENT</td>\n",
       "      <td>session_1</td>\n",
       "      <td>8</td>\n",
       "      <td>51326</td>\n",
       "      <td>1</td>\n",
       "      <td>...</td>\n",
       "      <td>NaN</td>\n",
       "      <td>NaN</td>\n",
       "      <td>mpg</td>\n",
       "      <td>verio</td>\n",
       "      <td>7</td>\n",
       "      <td>3</td>\n",
       "      <td>0</td>\n",
       "      <td>0</td>\n",
       "      <td>0</td>\n",
       "      <td>0</td>\n",
       "    </tr>\n",
       "  </tbody>\n",
       "</table>\n",
       "<p>5 rows × 95 columns</p>\n",
       "</div>"
      ],
      "text/plain": [
       "   Unnamed: 0  Unnamed: 0.1  index  BIDS_ID Anonymized ID Subject Type  \\\n",
       "0           0             0      0  sub-001     A00033348      PATIENT   \n",
       "1           1             1      1  sub-002     A00033398      CONTROL   \n",
       "2           2             2      2  sub-003     A00033352      PATIENT   \n",
       "3           3             3      3  sub-004     A00033389      CONTROL   \n",
       "4           4             4      4  sub-005     A00033354      PATIENT   \n",
       "\n",
       "       Visit  Days since enrollment  SubID  DxGroup  ...  Medication Name.1  \\\n",
       "0  session_1                      8  51320        1  ...                NaN   \n",
       "1  session_1                      8  51373        2  ...                NaN   \n",
       "2  session_1                      8  51324        1  ...                NaN   \n",
       "3  session_1                      8  51364        2  ...                NaN   \n",
       "4  session_1                      8  51326        1  ...                NaN   \n",
       "\n",
       "   Off stimulants at EPI scan?  ScanSite  ScannerType  ScannerID  ScanSiteID  \\\n",
       "0                          NaN       mpg        verio          7           3   \n",
       "1                          NaN       mpg        verio          7           3   \n",
       "2                          NaN       mpg        verio          7           3   \n",
       "3                          NaN       mpg        verio          7           3   \n",
       "4                          NaN       mpg        verio          7           3   \n",
       "\n",
       "  ADOS_PCA ADI_PCA Vineland_PCA  WISC_PCA  \n",
       "0        0       0            0         0  \n",
       "1        0       0            0         0  \n",
       "2        0       0            0         0  \n",
       "3        0       0            0         0  \n",
       "4        0       0            0         0  \n",
       "\n",
       "[5 rows x 95 columns]"
      ]
     },
     "execution_count": 3,
     "metadata": {},
     "output_type": "execute_result"
    }
   ],
   "source": [
    "df = pd.read_csv('../Data/ABIDE_legend_S982_pca.csv')\n",
    "df.head()"
   ]
  },
  {
   "cell_type": "code",
   "execution_count": 4,
   "metadata": {},
   "outputs": [],
   "source": [
    "subs = np.load('../Data/ABIDE-subs-982.npz')['subs']"
   ]
  },
  {
   "cell_type": "code",
   "execution_count": 5,
   "metadata": {},
   "outputs": [],
   "source": [
    "assert len(subs)==len(df), 'diff lenghts'\n",
    "assert all([subs[s]==df['BIDS_ID'].values[s] for s in range(len(df))]), 'bad order'"
   ]
  },
  {
   "cell_type": "code",
   "execution_count": 6,
   "metadata": {},
   "outputs": [],
   "source": [
    "patients = df['DxGroup'].values==1"
   ]
  },
  {
   "cell_type": "code",
   "execution_count": 10,
   "metadata": {},
   "outputs": [],
   "source": [
    "# fn = '../Data/embedded_data.pickle'\n",
    "# data = pickle.load(open(fn,'rb'))\n",
    "#np.array(list(data.keys()))"
   ]
  },
  {
   "cell_type": "code",
   "execution_count": 12,
   "metadata": {},
   "outputs": [],
   "source": [
    "# for key in data.keys():\n",
    "#     try:\n",
    "#         print(f'{key} | {data[key].shape}')\n",
    "#     except:\n",
    "#         pass"
   ]
  },
  {
   "cell_type": "code",
   "execution_count": 13,
   "metadata": {},
   "outputs": [
    {
     "name": "stdout",
     "output_type": "stream",
     "text": [
      "(10, 982, 16)\n"
     ]
    }
   ],
   "source": [
    "#data_latent = np.load('../Data/latent_vecs100.npz')\n",
    "data_latent = np.load('../Data/latent_vecs2.npz')\n",
    "list(data_latent.keys())\n",
    "print(data_latent['salient_vec_abide'].shape)"
   ]
  },
  {
   "cell_type": "code",
   "execution_count": 14,
   "metadata": {},
   "outputs": [
    {
     "data": {
      "text/plain": [
       "array([[-0.4272499 ,  0.2735272 , -2.7508783 , ..., -0.91731685,\n",
       "         0.1433426 , -1.1449697 ],\n",
       "       [-1.4786693 , -0.7763392 , -1.2325766 , ...,  0.0499858 ,\n",
       "         0.5017805 ,  0.6354925 ],\n",
       "       [-2.1715796 ,  1.5461673 ,  0.53020257, ..., -0.15939587,\n",
       "        -0.6093791 , -0.77931774],\n",
       "       ...,\n",
       "       [-0.16703203,  0.08689937, -0.4655738 , ...,  1.1736007 ,\n",
       "        -0.59409565, -1.0329659 ],\n",
       "       [-1.2406087 , -0.45388728, -0.7552429 , ..., -1.2301507 ,\n",
       "         0.5705857 , -2.9799838 ],\n",
       "       [-1.0072553 , -0.18212083, -0.8699565 , ...,  1.8765252 ,\n",
       "        -0.291705  , -0.71864563]], dtype=float32)"
      ]
     },
     "execution_count": 14,
     "metadata": {},
     "output_type": "execute_result"
    }
   ],
   "source": [
    "data_latent['salient_vec_abide'][0,:,:]"
   ]
  },
  {
   "cell_type": "code",
   "execution_count": 15,
   "metadata": {},
   "outputs": [
    {
     "name": "stdout",
     "output_type": "stream",
     "text": [
      "2021-08-26 15:00:22.391390\n"
     ]
    }
   ],
   "source": [
    "now = datetime.now\n",
    "t0 = now()\n",
    "print(t0)"
   ]
  },
  {
   "cell_type": "code",
   "execution_count": 16,
   "metadata": {},
   "outputs": [
    {
     "ename": "NameError",
     "evalue": "name 'data' is not defined",
     "output_type": "error",
     "traceback": [
      "\u001b[0;31m---------------------------------------------------------------------------\u001b[0m",
      "\u001b[0;31mNameError\u001b[0m                                 Traceback (most recent call last)",
      "\u001b[0;32m<ipython-input-16-fcd37332ea78>\u001b[0m in \u001b[0;36m<module>\u001b[0;34m\u001b[0m\n\u001b[1;32m      2\u001b[0m \u001b[0mumap_mat\u001b[0m \u001b[0;34m=\u001b[0m \u001b[0mnp\u001b[0m\u001b[0;34m.\u001b[0m\u001b[0mzeros\u001b[0m\u001b[0;34m(\u001b[0m\u001b[0;34m(\u001b[0m\u001b[0mn\u001b[0m\u001b[0;34m,\u001b[0m\u001b[0;36m470\u001b[0m\u001b[0;34m,\u001b[0m\u001b[0;36m2\u001b[0m\u001b[0;34m)\u001b[0m\u001b[0;34m)\u001b[0m\u001b[0;34m\u001b[0m\u001b[0;34m\u001b[0m\u001b[0m\n\u001b[1;32m      3\u001b[0m \u001b[0;32mfor\u001b[0m \u001b[0mi\u001b[0m \u001b[0;32min\u001b[0m \u001b[0mtqdm\u001b[0m\u001b[0;34m(\u001b[0m\u001b[0mrange\u001b[0m\u001b[0;34m(\u001b[0m\u001b[0mn\u001b[0m\u001b[0;34m)\u001b[0m\u001b[0;34m)\u001b[0m\u001b[0;34m:\u001b[0m\u001b[0;34m\u001b[0m\u001b[0;34m\u001b[0m\u001b[0m\n\u001b[0;32m----> 4\u001b[0;31m     \u001b[0mumap_mat\u001b[0m\u001b[0;34m[\u001b[0m\u001b[0mi\u001b[0m\u001b[0;34m,\u001b[0m\u001b[0;34m:\u001b[0m\u001b[0;34m,\u001b[0m\u001b[0;34m:\u001b[0m\u001b[0;34m]\u001b[0m \u001b[0;34m=\u001b[0m \u001b[0mdata\u001b[0m\u001b[0;34m[\u001b[0m\u001b[0;34m'reducer_sl_abide'\u001b[0m\u001b[0;34m]\u001b[0m\u001b[0;34m.\u001b[0m\u001b[0mtransform\u001b[0m\u001b[0;34m(\u001b[0m\u001b[0mdata_latent\u001b[0m\u001b[0;34m[\u001b[0m\u001b[0;34m'salient_vec_abide'\u001b[0m\u001b[0;34m]\u001b[0m\u001b[0;34m[\u001b[0m\u001b[0mi\u001b[0m\u001b[0;34m,\u001b[0m\u001b[0mpatients\u001b[0m\u001b[0;34m,\u001b[0m\u001b[0;34m:\u001b[0m\u001b[0;34m]\u001b[0m\u001b[0;34m)\u001b[0m\u001b[0;34m\u001b[0m\u001b[0;34m\u001b[0m\u001b[0m\n\u001b[0m",
      "\u001b[0;31mNameError\u001b[0m: name 'data' is not defined"
     ]
    }
   ],
   "source": [
    "%%capture\n",
    "n = 10 \n",
    "umap_mat = np.zeros((n,470,2))\n",
    "for i in tqdm(range(n)):\n",
    "    umap_mat[i,:,:] = data['reducer_sl_abide'].transform(data_latent['salient_vec_abide'][i,patients,:])"
   ]
  },
  {
   "cell_type": "code",
   "execution_count": 17,
   "metadata": {},
   "outputs": [
    {
     "name": "stdout",
     "output_type": "stream",
     "text": [
      "2021-08-26 15:00:24.702670\n",
      "0:00:02.311366\n"
     ]
    }
   ],
   "source": [
    "print(now())\n",
    "print(now()-t0)"
   ]
  },
  {
   "cell_type": "code",
   "execution_count": null,
   "metadata": {},
   "outputs": [],
   "source": [
    "umap_mat.shape"
   ]
  },
  {
   "cell_type": "code",
   "execution_count": null,
   "metadata": {},
   "outputs": [],
   "source": []
  },
  {
   "cell_type": "code",
   "execution_count": null,
   "metadata": {},
   "outputs": [],
   "source": [
    "y = [get_triu(np.corrcoef(umap_mat[:,:,0])).mean(),get_triu(np.corrcoef(umap_mat[:,:,1])).mean()]\n",
    "se = [get_triu(np.corrcoef(umap_mat[:,:,0])).std(),get_triu(np.corrcoef(umap_mat[:,:,1])).std()]\n",
    "plt.bar([0,1],y)\n",
    "plt.errorbar([0,1],y,se,fmt='r.')"
   ]
  },
  {
   "cell_type": "code",
   "execution_count": null,
   "metadata": {},
   "outputs": [],
   "source": []
  },
  {
   "cell_type": "code",
   "execution_count": null,
   "metadata": {},
   "outputs": [],
   "source": [
    "def plot_error_bar(y,xlbls=None,title=None):\n",
    "    #y = [r_x,r_y]\n",
    "    xs = np.arange(len(y))\n",
    "    m = [val.mean() for val in y]\n",
    "    se = [val.std() for val in y]\n",
    "\n",
    "    plt.bar(xs,m)\n",
    "    plt.errorbar(xs,m,se,fmt='r.')\n",
    "    if xlbls:\n",
    "        plt.xticks(xs,labels=xlbls)\n",
    "    if title:\n",
    "        plt.title(title,fontsize=12)"
   ]
  },
  {
   "cell_type": "code",
   "execution_count": null,
   "metadata": {},
   "outputs": [],
   "source": []
  },
  {
   "cell_type": "code",
   "execution_count": null,
   "metadata": {},
   "outputs": [],
   "source": []
  },
  {
   "cell_type": "code",
   "execution_count": null,
   "metadata": {},
   "outputs": [],
   "source": [
    "def plot_scatters(x,ys):\n",
    "    plt.figure(figsize=np.array((10,5))*.85)\n",
    "    plt.subplot(1,2,1)\n",
    "    #x = vec[v]\n",
    "    #y = umap_mat[i,v,0]\n",
    "    #print(x.shape)\n",
    "    #print(ys[0].shape)\n",
    "    plt.scatter(x,ys[0])\n",
    "\n",
    "    m,b = np.polyfit(x, ys[0], 1)\n",
    "    plt.plot(x,m*x+b,'r-',linewidth=3)\n",
    "\n",
    "    plt.subplot(1,2,2)\n",
    "    #x,y = vec[v],umap_mat[i,v,1]\n",
    "    plt.scatter(x,ys[1])\n",
    "\n",
    "    m,b = np.polyfit(x, ys[1], 1)\n",
    "    plt.plot(x,m*x+b,'r-',linewidth=3)"
   ]
  },
  {
   "cell_type": "code",
   "execution_count": null,
   "metadata": {},
   "outputs": [],
   "source": [
    "stats.ttest_rel(abs(r_x),abs(r_y))"
   ]
  },
  {
   "cell_type": "code",
   "execution_count": null,
   "metadata": {},
   "outputs": [],
   "source": [
    "key = 'FIQ'\n",
    "vec = df[key].values[patients]\n",
    "v = ~np.isnan(vec)\n",
    "r_x = np.array([np.corrcoef(vec[v],umap_mat[i,v,0])[0,1] for i in range(n)])\n",
    "r_y = np.array([np.corrcoef(vec[v],umap_mat[i,v,1])[0,1] for i in range(n)])\n",
    "plot_error_bar([r_x,r_y],xlbls=['X','Y'],title=key)\n",
    "plot_scatters(vec[v],[umap_mat[i,v,0],umap_mat[i,v,1]])"
   ]
  },
  {
   "cell_type": "code",
   "execution_count": null,
   "metadata": {},
   "outputs": [],
   "source": [
    "import scipy.stats as stats"
   ]
  },
  {
   "cell_type": "code",
   "execution_count": null,
   "metadata": {},
   "outputs": [],
   "source": [
    "key = 'Sex'\n",
    "vec = df[key].values[patients]\n",
    "v = ~np.isnan(vec)\n",
    "r_x = np.array([np.corrcoef(vec[v],umap_mat[i,v,0])[0,1] for i in range(n)])\n",
    "r_y = np.array([np.corrcoef(vec[v],umap_mat[i,v,1])[0,1] for i in range(n)])\n",
    "plot_error_bar([r_x,r_y],xlbls=['X','Y'],title=key)\n",
    "plot_scatters(vec[v],[umap_mat[i,v,0],umap_mat[i,v,1]])"
   ]
  },
  {
   "cell_type": "code",
   "execution_count": null,
   "metadata": {},
   "outputs": [],
   "source": []
  },
  {
   "cell_type": "code",
   "execution_count": null,
   "metadata": {},
   "outputs": [],
   "source": [
    "key = 'AgeAtScan'\n",
    "vec = df[key].values[patients]\n",
    "v = ~np.isnan(vec)\n",
    "r_x = np.array([np.corrcoef(vec[v],umap_mat[i,v,0])[0,1] for i in range(n)])\n",
    "r_y = np.array([np.corrcoef(vec[v],umap_mat[i,v,1])[0,1] for i in range(n)])\n",
    "plot_error_bar([r_x,r_y],xlbls=['X','Y'],title=key)\n",
    "plot_scatters(vec[v],[umap_mat[i,v,0],umap_mat[i,v,1]])"
   ]
  },
  {
   "cell_type": "code",
   "execution_count": null,
   "metadata": {},
   "outputs": [],
   "source": [
    "key = 'VINELAND_Receptive_Vscore'\n",
    "vec = df[key].values[patients]\n",
    "v = ~np.isnan(vec)\n",
    "r_x = np.array([np.corrcoef(vec[v],umap_mat[i,v,0])[0,1] for i in range(n)])\n",
    "r_y = np.array([np.corrcoef(vec[v],umap_mat[i,v,1])[0,1] for i in range(n)])\n",
    "plot_error_bar([r_x,r_y],xlbls=['X','Y'],title=key)\n",
    "plot_scatters(vec[v],[umap_mat[i,v,0],umap_mat[i,v,1]])"
   ]
  },
  {
   "cell_type": "code",
   "execution_count": null,
   "metadata": {},
   "outputs": [],
   "source": [
    "key = 'SRS_awareness'\n",
    "vec = df[key].values[patients]\n",
    "v = ~np.isnan(vec)\n",
    "r_x = np.array([np.corrcoef(vec[v],umap_mat[i,v,0])[0,1] for i in range(n)])\n",
    "r_y = np.array([np.corrcoef(vec[v],umap_mat[i,v,1])[0,1] for i in range(n)])\n",
    "plot_error_bar([r_x,r_y],xlbls=['X','Y'],title=key)\n",
    "plot_scatters(vec[v],[umap_mat[i,v,0],umap_mat[i,v,1]])"
   ]
  },
  {
   "cell_type": "code",
   "execution_count": null,
   "metadata": {},
   "outputs": [],
   "source": [
    "key = 'SRS_RawTotal'\n",
    "vec = df[key].values[patients]\n",
    "v = ~np.isnan(vec)\n",
    "r_x = np.array([np.corrcoef(vec[v],umap_mat[i,v,0])[0,1] for i in range(n)])\n",
    "r_y = np.array([np.corrcoef(vec[v],umap_mat[i,v,1])[0,1] for i in range(n)])\n",
    "plot_error_bar([r_x,r_y],xlbls=['X','Y'],title=key)\n",
    "plot_scatters(vec[v],[umap_mat[i,v,0],umap_mat[i,v,1]])"
   ]
  },
  {
   "cell_type": "code",
   "execution_count": null,
   "metadata": {},
   "outputs": [],
   "source": [
    "key = 'ADOS_Social'\n",
    "vec = df[key].values[patients]\n",
    "v = ~np.isnan(vec)\n",
    "r_x = np.array([np.corrcoef(vec[v],umap_mat[i,v,0])[0,1] for i in range(n)])\n",
    "r_y = np.array([np.corrcoef(vec[v],umap_mat[i,v,1])[0,1] for i in range(n)])\n",
    "plot_error_bar([r_x,r_y],xlbls=['X','Y'],title=key)\n",
    "plot_scatters(vec[v],[umap_mat[i,v,0],umap_mat[i,v,1]])"
   ]
  },
  {
   "cell_type": "code",
   "execution_count": null,
   "metadata": {},
   "outputs": [],
   "source": [
    "# plt.scatter(vec[v],umap_mat[i,v,1])\n",
    "# m, b = np.polyfit(vec[v],umap_mat[i,v,1],1)\n",
    "# plt.plot(vec[v], m*vec[v] + b,'r-')"
   ]
  },
  {
   "cell_type": "code",
   "execution_count": null,
   "metadata": {},
   "outputs": [],
   "source": []
  },
  {
   "cell_type": "code",
   "execution_count": null,
   "metadata": {},
   "outputs": [],
   "source": []
  },
  {
   "cell_type": "code",
   "execution_count": null,
   "metadata": {},
   "outputs": [],
   "source": []
  },
  {
   "cell_type": "code",
   "execution_count": null,
   "metadata": {},
   "outputs": [],
   "source": [
    "key = 'ADOS_Total'\n",
    "vec = df[key].values[patients]\n",
    "v = ~np.isnan(vec)\n",
    "r_x = np.array([np.corrcoef(vec[v],umap_mat[i,v,0])[0,1] for i in range(n)])\n",
    "r_y = np.array([np.corrcoef(vec[v],umap_mat[i,v,1])[0,1] for i in range(n)])\n",
    "plot_error_bar([r_x,r_y],xlbls=['X','Y'],title=key)\n",
    "plot_scatters(vec[v],[umap_mat[i,v,0],umap_mat[i,v,1]])"
   ]
  },
  {
   "cell_type": "code",
   "execution_count": null,
   "metadata": {},
   "outputs": [],
   "source": []
  },
  {
   "cell_type": "code",
   "execution_count": null,
   "metadata": {},
   "outputs": [],
   "source": []
  },
  {
   "cell_type": "code",
   "execution_count": null,
   "metadata": {},
   "outputs": [],
   "source": []
  },
  {
   "cell_type": "code",
   "execution_count": null,
   "metadata": {},
   "outputs": [],
   "source": []
  }
 ],
 "metadata": {
  "kernelspec": {
   "display_name": "Python 3",
   "language": "python",
   "name": "python3"
  },
  "language_info": {
   "codemirror_mode": {
    "name": "ipython",
    "version": 3
   },
   "file_extension": ".py",
   "mimetype": "text/x-python",
   "name": "python",
   "nbconvert_exporter": "python",
   "pygments_lexer": "ipython3",
   "version": "3.7.7"
  }
 },
 "nbformat": 4,
 "nbformat_minor": 4
}

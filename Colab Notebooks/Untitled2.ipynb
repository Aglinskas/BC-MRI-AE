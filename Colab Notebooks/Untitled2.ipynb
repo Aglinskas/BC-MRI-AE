{
 "cells": [
  {
   "cell_type": "code",
   "execution_count": 1,
   "id": "f043f1d7",
   "metadata": {},
   "outputs": [
    {
     "data": {
      "text/plain": [
       "'/mmfs1/data/aglinska/BC-MRI-AE/Colab Notebooks'"
      ]
     },
     "execution_count": 1,
     "metadata": {},
     "output_type": "execute_result"
    }
   ],
   "source": [
    "pwd"
   ]
  },
  {
   "cell_type": "code",
   "execution_count": 2,
   "id": "a28ce53b",
   "metadata": {},
   "outputs": [
    {
     "name": "stdout",
     "output_type": "stream",
     "text": [
      "CPU times: user 2.64 s, sys: 2.52 s, total: 5.16 s\n",
      "Wall time: 8.88 s\n"
     ]
    }
   ],
   "source": [
    "%time\n",
    "import numpy as np\n",
    "import pandas as pd\n",
    "import ants\n",
    "import os\n",
    "from matplotlib import pyplot as plt"
   ]
  },
  {
   "cell_type": "code",
   "execution_count": 7,
   "id": "d8fdd87e",
   "metadata": {},
   "outputs": [
    {
     "data": {
      "text/plain": [
       "['salient_vec_abide',\n",
       " 'background_vec_abide',\n",
       " 'vae_vec_abide',\n",
       " 'salient_vec_sfari',\n",
       " 'background_vec_sfari',\n",
       " 'vae_vec_sfari']"
      ]
     },
     "execution_count": 7,
     "metadata": {},
     "output_type": "execute_result"
    }
   ],
   "source": [
    "data_latent_vec = np.load('../Data/latent_vecs.npz')\n",
    "list(data_latent_vec.keys())"
   ]
  },
  {
   "cell_type": "code",
   "execution_count": 11,
   "id": "264258ea",
   "metadata": {},
   "outputs": [],
   "source": [
    "from importlib import reload\n",
    "import pickle\n",
    "import helper_funcs;reload(helper_funcs);from helper_funcs import *\n",
    "import make_models2;reload(make_models2);from make_models2 import *"
   ]
  },
  {
   "cell_type": "markdown",
   "id": "a56bf559",
   "metadata": {},
   "source": [
    "## LOAD MODEL"
   ]
  },
  {
   "cell_type": "code",
   "execution_count": 13,
   "id": "187df4e9",
   "metadata": {},
   "outputs": [
    {
     "name": "stdout",
     "output_type": "stream",
     "text": [
      "CPU times: user 11 µs, sys: 3 µs, total: 14 µs\n",
      "Wall time: 27.9 µs\n"
     ]
    },
    {
     "data": {
      "text/plain": [
       "<tensorflow.python.training.tracking.util.CheckpointLoadStatus at 0x155410064dc0>"
      ]
     },
     "execution_count": 13,
     "metadata": {},
     "output_type": "execute_result"
    }
   ],
   "source": [
    "%time \n",
    "# LOAD CVAE\n",
    "latent_dim = 16;batch_size = 32;beta = 1;gamma = 100;disentangle = True\n",
    "cvae, z_encoder, s_encoder, cvae_decoder = get_MRI_CVAE_3D(latent_dim=latent_dim,beta=beta, disentangle=disentangle, gamma=gamma, bias=True, batch_size = batch_size)\n",
    "loss = list()    \n",
    "\n",
    "fn = '/mmfs1/data/aglinska/tf_outputs/CVAE/Feb23_1551_D16B1G100_DTrue'\n",
    "\n",
    "loss = pickle.load(open(fn+'_loss.pickle','rb'))\n",
    "cvae.load_weights(fn)"
   ]
  },
  {
   "cell_type": "markdown",
   "id": "3e49734f",
   "metadata": {},
   "source": [
    "## LOAD DATA"
   ]
  },
  {
   "cell_type": "code",
   "execution_count": 18,
   "id": "c5c08431",
   "metadata": {},
   "outputs": [
    {
     "name": "stdout",
     "output_type": "stream",
     "text": [
      "(982, 90)\n",
      "(982, 64, 64, 64)\n"
     ]
    }
   ],
   "source": [
    "df = pd.read_csv('../Data/ABIDE_legend_S982.csv')\n",
    "data = np.load('../Data/ABIDE-Anat-64iso-S982.npz')['data']\n",
    "print(df.shape)\n",
    "print(data.shape)"
   ]
  },
  {
   "cell_type": "code",
   "execution_count": 20,
   "id": "6d00d9ea",
   "metadata": {},
   "outputs": [
    {
     "data": {
      "text/html": [
       "<div>\n",
       "<style scoped>\n",
       "    .dataframe tbody tr th:only-of-type {\n",
       "        vertical-align: middle;\n",
       "    }\n",
       "\n",
       "    .dataframe tbody tr th {\n",
       "        vertical-align: top;\n",
       "    }\n",
       "\n",
       "    .dataframe thead th {\n",
       "        text-align: right;\n",
       "    }\n",
       "</style>\n",
       "<table border=\"1\" class=\"dataframe\">\n",
       "  <thead>\n",
       "    <tr style=\"text-align: right;\">\n",
       "      <th></th>\n",
       "      <th>Unnamed: 0</th>\n",
       "      <th>index</th>\n",
       "      <th>BIDS_ID</th>\n",
       "      <th>Anonymized ID</th>\n",
       "      <th>Subject Type</th>\n",
       "      <th>Visit</th>\n",
       "      <th>Days since enrollment</th>\n",
       "      <th>SubID</th>\n",
       "      <th>DxGroup</th>\n",
       "      <th>DSMIVTR</th>\n",
       "      <th>...</th>\n",
       "      <th>WISC4 Sym Scaled</th>\n",
       "      <th>Age at MPRAGE</th>\n",
       "      <th>Current Med Status</th>\n",
       "      <th>Medication Name</th>\n",
       "      <th>Medication Name.1</th>\n",
       "      <th>Off stimulants at EPI scan?</th>\n",
       "      <th>ScanSite</th>\n",
       "      <th>ScannerType</th>\n",
       "      <th>ScannerID</th>\n",
       "      <th>ScanSiteID</th>\n",
       "    </tr>\n",
       "  </thead>\n",
       "  <tbody>\n",
       "    <tr>\n",
       "      <th>0</th>\n",
       "      <td>0</td>\n",
       "      <td>0</td>\n",
       "      <td>sub-001</td>\n",
       "      <td>A00033348</td>\n",
       "      <td>PATIENT</td>\n",
       "      <td>session_1</td>\n",
       "      <td>8</td>\n",
       "      <td>51320</td>\n",
       "      <td>1</td>\n",
       "      <td>2.0</td>\n",
       "      <td>...</td>\n",
       "      <td>NaN</td>\n",
       "      <td>NaN</td>\n",
       "      <td>0.0</td>\n",
       "      <td>NaN</td>\n",
       "      <td>NaN</td>\n",
       "      <td>NaN</td>\n",
       "      <td>mpg</td>\n",
       "      <td>verio</td>\n",
       "      <td>7</td>\n",
       "      <td>3</td>\n",
       "    </tr>\n",
       "    <tr>\n",
       "      <th>1</th>\n",
       "      <td>1</td>\n",
       "      <td>1</td>\n",
       "      <td>sub-002</td>\n",
       "      <td>A00033398</td>\n",
       "      <td>CONTROL</td>\n",
       "      <td>session_1</td>\n",
       "      <td>8</td>\n",
       "      <td>51373</td>\n",
       "      <td>2</td>\n",
       "      <td>0.0</td>\n",
       "      <td>...</td>\n",
       "      <td>NaN</td>\n",
       "      <td>NaN</td>\n",
       "      <td>0.0</td>\n",
       "      <td>NaN</td>\n",
       "      <td>NaN</td>\n",
       "      <td>NaN</td>\n",
       "      <td>mpg</td>\n",
       "      <td>verio</td>\n",
       "      <td>7</td>\n",
       "      <td>3</td>\n",
       "    </tr>\n",
       "    <tr>\n",
       "      <th>2</th>\n",
       "      <td>2</td>\n",
       "      <td>2</td>\n",
       "      <td>sub-003</td>\n",
       "      <td>A00033352</td>\n",
       "      <td>PATIENT</td>\n",
       "      <td>session_1</td>\n",
       "      <td>8</td>\n",
       "      <td>51324</td>\n",
       "      <td>1</td>\n",
       "      <td>2.0</td>\n",
       "      <td>...</td>\n",
       "      <td>NaN</td>\n",
       "      <td>NaN</td>\n",
       "      <td>0.0</td>\n",
       "      <td>NaN</td>\n",
       "      <td>NaN</td>\n",
       "      <td>NaN</td>\n",
       "      <td>mpg</td>\n",
       "      <td>verio</td>\n",
       "      <td>7</td>\n",
       "      <td>3</td>\n",
       "    </tr>\n",
       "    <tr>\n",
       "      <th>3</th>\n",
       "      <td>3</td>\n",
       "      <td>3</td>\n",
       "      <td>sub-004</td>\n",
       "      <td>A00033389</td>\n",
       "      <td>CONTROL</td>\n",
       "      <td>session_1</td>\n",
       "      <td>8</td>\n",
       "      <td>51364</td>\n",
       "      <td>2</td>\n",
       "      <td>0.0</td>\n",
       "      <td>...</td>\n",
       "      <td>NaN</td>\n",
       "      <td>NaN</td>\n",
       "      <td>0.0</td>\n",
       "      <td>NaN</td>\n",
       "      <td>NaN</td>\n",
       "      <td>NaN</td>\n",
       "      <td>mpg</td>\n",
       "      <td>verio</td>\n",
       "      <td>7</td>\n",
       "      <td>3</td>\n",
       "    </tr>\n",
       "    <tr>\n",
       "      <th>4</th>\n",
       "      <td>4</td>\n",
       "      <td>4</td>\n",
       "      <td>sub-005</td>\n",
       "      <td>A00033354</td>\n",
       "      <td>PATIENT</td>\n",
       "      <td>session_1</td>\n",
       "      <td>8</td>\n",
       "      <td>51326</td>\n",
       "      <td>1</td>\n",
       "      <td>2.0</td>\n",
       "      <td>...</td>\n",
       "      <td>NaN</td>\n",
       "      <td>NaN</td>\n",
       "      <td>0.0</td>\n",
       "      <td>NaN</td>\n",
       "      <td>NaN</td>\n",
       "      <td>NaN</td>\n",
       "      <td>mpg</td>\n",
       "      <td>verio</td>\n",
       "      <td>7</td>\n",
       "      <td>3</td>\n",
       "    </tr>\n",
       "  </tbody>\n",
       "</table>\n",
       "<p>5 rows × 90 columns</p>\n",
       "</div>"
      ],
      "text/plain": [
       "   Unnamed: 0  index  BIDS_ID Anonymized ID Subject Type      Visit  \\\n",
       "0           0      0  sub-001     A00033348      PATIENT  session_1   \n",
       "1           1      1  sub-002     A00033398      CONTROL  session_1   \n",
       "2           2      2  sub-003     A00033352      PATIENT  session_1   \n",
       "3           3      3  sub-004     A00033389      CONTROL  session_1   \n",
       "4           4      4  sub-005     A00033354      PATIENT  session_1   \n",
       "\n",
       "   Days since enrollment  SubID  DxGroup  DSMIVTR  ...  WISC4 Sym Scaled  \\\n",
       "0                      8  51320        1      2.0  ...               NaN   \n",
       "1                      8  51373        2      0.0  ...               NaN   \n",
       "2                      8  51324        1      2.0  ...               NaN   \n",
       "3                      8  51364        2      0.0  ...               NaN   \n",
       "4                      8  51326        1      2.0  ...               NaN   \n",
       "\n",
       "   Age at MPRAGE  Current Med Status  Medication Name  Medication Name.1  \\\n",
       "0            NaN                 0.0              NaN                NaN   \n",
       "1            NaN                 0.0              NaN                NaN   \n",
       "2            NaN                 0.0              NaN                NaN   \n",
       "3            NaN                 0.0              NaN                NaN   \n",
       "4            NaN                 0.0              NaN                NaN   \n",
       "\n",
       "  Off stimulants at EPI scan? ScanSite ScannerType  ScannerID  ScanSiteID  \n",
       "0                         NaN      mpg       verio          7           3  \n",
       "1                         NaN      mpg       verio          7           3  \n",
       "2                         NaN      mpg       verio          7           3  \n",
       "3                         NaN      mpg       verio          7           3  \n",
       "4                         NaN      mpg       verio          7           3  \n",
       "\n",
       "[5 rows x 90 columns]"
      ]
     },
     "execution_count": 20,
     "metadata": {},
     "output_type": "execute_result"
    }
   ],
   "source": [
    "df.head()"
   ]
  },
  {
   "cell_type": "code",
   "execution_count": 27,
   "id": "b03ae0fd",
   "metadata": {},
   "outputs": [
    {
     "name": "stdout",
     "output_type": "stream",
     "text": [
      "CPU times: user 0 ns, sys: 15 µs, total: 15 µs\n",
      "Wall time: 30.3 µs\n",
      "(16,)\n"
     ]
    }
   ],
   "source": [
    "%time\n",
    "z_embed = z_encoder.predict(data)[2]\n",
    "s_embed = s_encoder.predict(data)[2]\n",
    "print(s_embed.shape)"
   ]
  },
  {
   "cell_type": "code",
   "execution_count": 33,
   "id": "dcc4369e",
   "metadata": {},
   "outputs": [
    {
     "data": {
      "text/plain": [
       "['embedding_bg',\n",
       " 'embedding_sl',\n",
       " 'embedding_vae',\n",
       " 'sfari_embedding_vae',\n",
       " 'sfari_embedding_bg',\n",
       " 'sfari_embedding_sl',\n",
       " 'bg_space_abide',\n",
       " 'sl_space_abide',\n",
       " 'vae_space_abide',\n",
       " 'bg_space_sfari',\n",
       " 'sl_space_sfari',\n",
       " 'vae_space_sfari',\n",
       " 'bg_Sspace_sfari',\n",
       " 'sl_Sspace_sfari',\n",
       " 'vae_Sspace_sfari',\n",
       " 'reducer_bg_abide',\n",
       " 'reducer_sl_abide',\n",
       " 'reducer_vae_abide',\n",
       " 'reducer_bg_sfari',\n",
       " 'reducer_sl_sfari',\n",
       " 'reducer_vae_sfari']"
      ]
     },
     "execution_count": 33,
     "metadata": {},
     "output_type": "execute_result"
    }
   ],
   "source": [
    "latents = pickle.load(open('../Data/embedded_data.pickle','rb'))\n",
    "list(latents.keys())"
   ]
  },
  {
   "cell_type": "code",
   "execution_count": 36,
   "id": "1416a66c",
   "metadata": {},
   "outputs": [
    {
     "data": {
      "text/plain": [
       "(470, 16)"
      ]
     },
     "execution_count": 36,
     "metadata": {},
     "output_type": "execute_result"
    }
   ],
   "source": [
    "latents['embedding_sl'].shape"
   ]
  },
  {
   "cell_type": "code",
   "execution_count": 44,
   "id": "15d92ca5",
   "metadata": {},
   "outputs": [],
   "source": [
    "umap_sl = latents['reducer_sl_abide']"
   ]
  },
  {
   "cell_type": "code",
   "execution_count": 42,
   "id": "32002302",
   "metadata": {},
   "outputs": [],
   "source": [
    "patients = df['DxGroup'].values==1"
   ]
  },
  {
   "cell_type": "code",
   "execution_count": 68,
   "id": "fd496588",
   "metadata": {},
   "outputs": [
    {
     "data": {
      "text/plain": [
       "(470, 16)"
      ]
     },
     "execution_count": 68,
     "metadata": {},
     "output_type": "execute_result"
    }
   ],
   "source": [
    "latents['embedding_sl'].shape"
   ]
  },
  {
   "cell_type": "code",
   "execution_count": 69,
   "id": "37a61887",
   "metadata": {},
   "outputs": [],
   "source": [
    "%%capture\n",
    "embedding_sl = umap_sl.transform(latents['embedding_sl'])"
   ]
  },
  {
   "cell_type": "code",
   "execution_count": 70,
   "id": "8934351d",
   "metadata": {},
   "outputs": [
    {
     "data": {
      "text/plain": [
       "(470, 2)"
      ]
     },
     "execution_count": 70,
     "metadata": {},
     "output_type": "execute_result"
    }
   ],
   "source": [
    "embedding_sl.shape"
   ]
  },
  {
   "cell_type": "code",
   "execution_count": 74,
   "id": "38aaed38",
   "metadata": {},
   "outputs": [],
   "source": [
    "x_loading = embedding_sl[:,0]\n",
    "y_loading = embedding_sl[:,1]"
   ]
  },
  {
   "cell_type": "code",
   "execution_count": 121,
   "id": "cc6f15c6",
   "metadata": {},
   "outputs": [
    {
     "data": {
      "text/plain": [
       "Text(0.5, 1.0, 'SL SPACE')"
      ]
     },
     "execution_count": 121,
     "metadata": {},
     "output_type": "execute_result"
    },
    {
     "data": {
      "image/png": "[encoded data removed]",
      "text/plain": [
       "<Figure size 360x360 with 1 Axes>"
      ]
     },
     "metadata": {
      "needs_background": "light"
     },
     "output_type": "display_data"
    }
   ],
   "source": [
    "plt.figure(figsize=(5,5))\n",
    "plt.scatter(embedding_sl[:,0],embedding_sl[:,1])\n",
    "#plt.scatter(embedding_sl[x_bot_50,0],embedding_sl[x_bot_50,1])\n",
    "plt.title('SL SPACE')"
   ]
  },
  {
   "cell_type": "code",
   "execution_count": 102,
   "id": "881bc2d4",
   "metadata": {},
   "outputs": [
    {
     "name": "stdout",
     "output_type": "stream",
     "text": [
      "ADOS_Total | X:-0.03,Y:-0.12\n",
      "ADOS_Comm | X:-0.04,Y:-0.07\n",
      "ADOS_Social | X:-0.02,Y:-0.12\n",
      "ADOS_StBeh | X:-0.12,Y:-0.06\n"
     ]
    }
   ],
   "source": [
    "keys = ['ADOS_Total','ADOS_Comm', 'ADOS_Social', 'ADOS_StBeh']\n",
    "for key in keys:\n",
    "    vec = df[key].values[patients]\n",
    "    e = np.isnan(vec)\n",
    "    r_x = np.corrcoef(vec[~e],x_loading[~e])[0,1]\n",
    "    r_y = np.corrcoef(vec[~e],y_loading[~e])[0,1]\n",
    "    print(f'{key} | X:{r_x:.2f},Y:{r_y:.2f}')"
   ]
  },
  {
   "cell_type": "code",
   "execution_count": 114,
   "id": "64cf9611",
   "metadata": {},
   "outputs": [],
   "source": [
    "x_bot_50 = np.argsort(x_loading)[0:50]\n",
    "x_top_50 = np.argsort(x_loading)[-50::]\n",
    "\n",
    "y_bot_50 = np.argsort(y_loading)[0:50]\n",
    "y_top_50 = np.argsort(y_loading)[-50::]"
   ]
  },
  {
   "cell_type": "code",
   "execution_count": null,
   "id": "b0a9e491",
   "metadata": {},
   "outputs": [],
   "source": [
    "plt.figure(figsize=(5,5))\n",
    "plt.scatter(embedding_sl[:,0],embedding_sl[:,1])\n",
    "#plt.scatter(embedding_sl[x_bot_50,0],embedding_sl[x_bot_50,1])\n",
    "plt.title('SL SPACE')"
   ]
  },
  {
   "cell_type": "code",
   "execution_count": 127,
   "id": "3f4fb47a",
   "metadata": {},
   "outputs": [],
   "source": [
    "_max = embedding_sl.max(axis=0)\n",
    "_min = embedding_sl.min(axis=0)\n",
    "_mid = embedding_sl.mean(axis=0)"
   ]
  },
  {
   "cell_type": "code",
   "execution_count": 141,
   "id": "af9dea9d",
   "metadata": {},
   "outputs": [
    {
     "name": "stdout",
     "output_type": "stream",
     "text": [
      "top | [ 5.6382465 11.291993 ]\n",
      "botom | [5.6382465 4.3504047]\n",
      "left | [2.1853554 7.838972 ]\n",
      "right | [8.892335 7.838972]\n"
     ]
    }
   ],
   "source": [
    "# CALC CORNERS\n",
    "top = (_mid[0],_max[1])\n",
    "bottom = (_mid[0],_min[1])\n",
    "left = (_min[0],_mid[1])\n",
    "right = (_max[0],_mid[1])\n",
    "\n",
    "top = np.array(top)\n",
    "bottom = np.array(bottom)\n",
    "left = np.array(left)\n",
    "right = np.array(right)\n",
    "\n",
    "\n",
    "print(f'top | {top}')\n",
    "print(f'botom | {bottom}')\n",
    "print(f'left | {left}')\n",
    "print(f'right | {right}')"
   ]
  },
  {
   "cell_type": "code",
   "execution_count": 158,
   "id": "2266e2e0",
   "metadata": {},
   "outputs": [],
   "source": [
    "idx_top50 = np.argsort(np.linalg.norm(embedding_sl-top,axis=1))[0:50]\n",
    "idx_bottom50 = np.argsort(np.linalg.norm(embedding_sl-bottom,axis=1))[0:50]\n",
    "\n",
    "idx_left50 = np.argsort(np.linalg.norm(embedding_sl-left,axis=1))[0:50]\n",
    "idx_right50 = np.argsort(np.linalg.norm(embedding_sl-right,axis=1))[0:50]"
   ]
  },
  {
   "cell_type": "code",
   "execution_count": 162,
   "id": "0044562a",
   "metadata": {},
   "outputs": [
    {
     "data": {
      "text/plain": [
       "Text(0.5, 1.0, 'SL SPACE')"
      ]
     },
     "execution_count": 162,
     "metadata": {},
     "output_type": "execute_result"
    },
    {
     "data": {
      "image/png": "[encoded data removed]",
      "text/plain": [
       "<Figure size 360x360 with 1 Axes>"
      ]
     },
     "metadata": {
      "needs_background": "light"
     },
     "output_type": "display_data"
    }
   ],
   "source": [
    "plt.figure(figsize=(5,5))\n",
    "plt.scatter(embedding_sl[:,0],embedding_sl[:,1])\n",
    "plt.scatter(embedding_sl[idx_top50,0],embedding_sl[idx_top50,1])\n",
    "plt.scatter(embedding_sl[idx_bottom50,0],embedding_sl[idx_bottom50,1])\n",
    "plt.scatter(embedding_sl[idx_left50,0],embedding_sl[idx_left50,1])\n",
    "plt.scatter(embedding_sl[idx_right50,0],embedding_sl[idx_right50,1])\n",
    "plt.legend(['none','top','bottom','left','right'])\n",
    "plt.title('SL SPACE')"
   ]
  },
  {
   "cell_type": "code",
   "execution_count": 219,
   "id": "f2257dd6",
   "metadata": {},
   "outputs": [],
   "source": [
    "invec = idx_top50\n",
    "def get_corner_brains(invec):\n",
    "    z = z_encoder.predict(data[invec,:,:,:])[2]\n",
    "    s = s_encoder.predict(data[invec,:,:,:])[2]\n",
    "    zeros = np.zeros(s.shape)\n",
    "\n",
    "    recon = cvae_decoder.predict(np.hstack((z,s)))[:,:,:,:,0]\n",
    "    twin = cvae_decoder.predict(np.hstack((z,zeros)))[:,:,:,:,0]\n",
    "\n",
    "    return recon,twin"
   ]
  },
  {
   "cell_type": "code",
   "execution_count": 197,
   "id": "11ba111e",
   "metadata": {},
   "outputs": [],
   "source": [
    "im = ants.image_read('../Data/anat_temp.nii')\n",
    "im = im.resample_image(resample_params=(64,64,64), use_voxels=True, interp_type=1)"
   ]
  },
  {
   "cell_type": "code",
   "execution_count": 220,
   "id": "865daf6b",
   "metadata": {},
   "outputs": [],
   "source": [
    "recon,twin = get_corner_brains(idx_top50)"
   ]
  },
  {
   "cell_type": "code",
   "execution_count": 224,
   "id": "edeb3dce",
   "metadata": {},
   "outputs": [],
   "source": [
    "n = recon.shape[0]\n",
    "brains_recon = [im.new_image_like(recon[i,:,:,:]) for i in range(n)]\n",
    "brains_twin = [im.new_image_like(twin[i,:,:,:]) for i in range(n)]"
   ]
  },
  {
   "cell_type": "code",
   "execution_count": 225,
   "id": "3ff4bf17",
   "metadata": {},
   "outputs": [],
   "source": [
    "i = 0"
   ]
  },
  {
   "cell_type": "code",
   "execution_count": null,
   "id": "456d2e84",
   "metadata": {},
   "outputs": [],
   "source": [
    "brains_recon[i]"
   ]
  },
  {
   "cell_type": "code",
   "execution_count": 228,
   "id": "f3020610",
   "metadata": {},
   "outputs": [],
   "source": [
    "tx = ants.registration(fixed=brains_twin[i],moving=brains_recon[i],type_of_transform='SyN')"
   ]
  },
  {
   "cell_type": "code",
   "execution_count": null,
   "id": "219473b3",
   "metadata": {},
   "outputs": [],
   "source": [
    "ants.create_jacobian_determinant_image"
   ]
  },
  {
   "cell_type": "code",
   "execution_count": null,
   "id": "58a72b1c",
   "metadata": {},
   "outputs": [],
   "source": []
  },
  {
   "cell_type": "code",
   "execution_count": null,
   "id": "ed2bae45",
   "metadata": {},
   "outputs": [],
   "source": []
  },
  {
   "cell_type": "code",
   "execution_count": null,
   "id": "f0e9acaf",
   "metadata": {},
   "outputs": [],
   "source": []
  },
  {
   "cell_type": "code",
   "execution_count": null,
   "id": "ea5faf48",
   "metadata": {},
   "outputs": [],
   "source": []
  },
  {
   "cell_type": "code",
   "execution_count": null,
   "id": "d0e4b58b",
   "metadata": {},
   "outputs": [],
   "source": []
  },
  {
   "cell_type": "code",
   "execution_count": null,
   "id": "9bf08575",
   "metadata": {},
   "outputs": [],
   "source": []
  },
  {
   "cell_type": "code",
   "execution_count": null,
   "id": "db4796ce",
   "metadata": {},
   "outputs": [],
   "source": []
  }
 ],
 "metadata": {
  "kernelspec": {
   "display_name": "Python 3",
   "language": "python",
   "name": "python3"
  },
  "language_info": {
   "codemirror_mode": {
    "name": "ipython",
    "version": 3
   },
   "file_extension": ".py",
   "mimetype": "text/x-python",
   "name": "python",
   "nbconvert_exporter": "python",
   "pygments_lexer": "ipython3",
   "version": "3.8.5"
  }
 },
 "nbformat": 4,
 "nbformat_minor": 5
}

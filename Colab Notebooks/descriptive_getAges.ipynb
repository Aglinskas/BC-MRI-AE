{
 "cells": [
  {
   "cell_type": "code",
   "execution_count": 88,
   "id": "blond-philosophy",
   "metadata": {},
   "outputs": [],
   "source": [
    "import pandas as pd\n",
    "import numpy as np\n",
    "from matplotlib import pyplot as plt"
   ]
  },
  {
   "cell_type": "code",
   "execution_count": 64,
   "id": "powerful-craft",
   "metadata": {},
   "outputs": [
    {
     "name": "stderr",
     "output_type": "stream",
     "text": [
      "/Users/aidasaglinskas/opt/anaconda3/envs/py4/lib/python3.7/site-packages/IPython/core/interactiveshell.py:3166: DtypeWarning: Columns (0,1,2,6,10,12,16,17,23,25,34,35,36,37,38,39,41,42,47,48,49,50,51,52,53,57,58,59,60,61,62,63,64,65,66,68,70,71,76,77,78,79,80,81,82,83,84,85,86,87,88,89,90,91,92,93,94,95,96,97,98,99,100,101,102,103,104,105,106,107,108,109,110) have mixed types.Specify dtype option on import or set low_memory=False.\n",
      "  interactivity=interactivity, compiler=compiler, result=result)\n"
     ]
    }
   ],
   "source": [
    "df = pd.read_csv('/Users/aidasaglinskas/Desktop/fuckingthis.csv')\n",
    "df = df.iloc[1::]\n",
    "df.reset_index(inplace=True)"
   ]
  },
  {
   "cell_type": "code",
   "execution_count": 19,
   "id": "forced-investing",
   "metadata": {},
   "outputs": [],
   "source": [
    "df2 = pd.read_csv('/Users/aidasaglinskas/Downloads/Package_1190576/thistoo.csv')\n",
    "df2 = df2.iloc[1::]"
   ]
  },
  {
   "cell_type": "code",
   "execution_count": 31,
   "id": "close-virus",
   "metadata": {},
   "outputs": [
    {
     "data": {
      "text/plain": [
       "311"
      ]
     },
     "execution_count": 31,
     "metadata": {},
     "output_type": "execute_result"
    }
   ],
   "source": [
    "len(pd.unique(df2['subjectkey']))"
   ]
  },
  {
   "cell_type": "code",
   "execution_count": 32,
   "id": "fifth-prophet",
   "metadata": {},
   "outputs": [
    {
     "data": {
      "text/plain": [
       "4861"
      ]
     },
     "execution_count": 32,
     "metadata": {},
     "output_type": "execute_result"
    }
   ],
   "source": [
    "len(pd.unique(df['subjectkey']))"
   ]
  },
  {
   "cell_type": "code",
   "execution_count": 76,
   "id": "veterinary-empire",
   "metadata": {},
   "outputs": [],
   "source": [
    "subs = pd.unique(df['subjectkey'])"
   ]
  },
  {
   "cell_type": "code",
   "execution_count": 82,
   "id": "homeless-traffic",
   "metadata": {},
   "outputs": [],
   "source": [
    "df['interview_age'] = pd.to_numeric(df['interview_age'])"
   ]
  },
  {
   "cell_type": "code",
   "execution_count": 92,
   "id": "communist-soviet",
   "metadata": {},
   "outputs": [],
   "source": [
    "sub = subs[0]\n",
    "ages = np.array([df[df['subjectkey']==sub].iloc[0]['interview_age'] for sub in subs])\n",
    "sexes = np.array([df[df['subjectkey']==sub].iloc[0]['sex'] for sub in subs])\n",
    "ages = ages/12"
   ]
  },
  {
   "cell_type": "code",
   "execution_count": 105,
   "id": "cathedral-plate",
   "metadata": {},
   "outputs": [],
   "source": [
    "sexes = np.array([df[df['subjectkey']==sub].iloc[0]['sex'].lower() for sub in subs])"
   ]
  },
  {
   "cell_type": "code",
   "execution_count": 109,
   "id": "activated-prediction",
   "metadata": {},
   "outputs": [
    {
     "data": {
      "text/plain": [
       "1909"
      ]
     },
     "execution_count": 109,
     "metadata": {},
     "output_type": "execute_result"
    }
   ],
   "source": [
    "sum(sexes=='f')"
   ]
  },
  {
   "cell_type": "code",
   "execution_count": 91,
   "id": "allied-oxford",
   "metadata": {},
   "outputs": [
    {
     "data": {
      "text/plain": [
       "(array([ 864., 1929., 1443.,  448.,  122.,   22.,   12.,    9.,    8.,\n",
       "           4.]),\n",
       " array([ 0.        ,  6.73333333, 13.46666667, 20.2       , 26.93333333,\n",
       "        33.66666667, 40.4       , 47.13333333, 53.86666667, 60.6       ,\n",
       "        67.33333333]),\n",
       " <BarContainer object of 10 artists>)"
      ]
     },
     "execution_count": 91,
     "metadata": {},
     "output_type": "execute_result"
    },
    {
     "data": {
      "image/png": "[encoded data removed]",
      "text/plain": [
       "<Figure size 432x288 with 1 Axes>"
      ]
     },
     "metadata": {
      "needs_background": "light"
     },
     "output_type": "display_data"
    }
   ],
   "source": [
    "plt.hist(ages/12)"
   ]
  },
  {
   "cell_type": "code",
   "execution_count": 96,
   "id": "young-plymouth",
   "metadata": {},
   "outputs": [
    {
     "data": {
      "text/plain": [
       "4861"
      ]
     },
     "execution_count": 96,
     "metadata": {},
     "output_type": "execute_result"
    }
   ],
   "source": [
    "len(subs)"
   ]
  },
  {
   "cell_type": "code",
   "execution_count": 100,
   "id": "friendly-heavy",
   "metadata": {},
   "outputs": [
    {
     "data": {
      "text/plain": [
       "10252"
      ]
     },
     "execution_count": 100,
     "metadata": {},
     "output_type": "execute_result"
    }
   ],
   "source": [
    "(df['sex']=='F').sum()"
   ]
  },
  {
   "cell_type": "code",
   "execution_count": 93,
   "id": "typical-ready",
   "metadata": {},
   "outputs": [
    {
     "data": {
      "text/plain": [
       "'0.0 - 67.33333333333333, 12.62303709799081'"
      ]
     },
     "execution_count": 93,
     "metadata": {},
     "output_type": "execute_result"
    }
   ],
   "source": [
    "f'{ages.min()} - {ages.max()}, {ages.mean()}'"
   ]
  },
  {
   "cell_type": "code",
   "execution_count": 94,
   "id": "accepting-jonathan",
   "metadata": {},
   "outputs": [
    {
     "data": {
      "text/plain": [
       "12.62303709799081"
      ]
     },
     "execution_count": 94,
     "metadata": {},
     "output_type": "execute_result"
    }
   ],
   "source": [
    "ages.mean()"
   ]
  },
  {
   "cell_type": "code",
   "execution_count": 33,
   "id": "handmade-revision",
   "metadata": {},
   "outputs": [
    {
     "data": {
      "text/plain": [
       "97"
      ]
     },
     "execution_count": 33,
     "metadata": {},
     "output_type": "execute_result"
    }
   ],
   "source": [
    "(df['image_description']=='resting_state_run1').sum()"
   ]
  },
  {
   "cell_type": "code",
   "execution_count": 39,
   "id": "entire-conservative",
   "metadata": {},
   "outputs": [],
   "source": [
    "n = len(df)"
   ]
  },
  {
   "cell_type": "code",
   "execution_count": 63,
   "id": "female-necklace",
   "metadata": {},
   "outputs": [
    {
     "data": {
      "text/plain": [
       "1        <MPR Collection>\n",
       "2        <MPR Collection>\n",
       "3        <MPR Collection>\n",
       "4        <MPR Collection>\n",
       "5        <MPR Collection>\n",
       "               ...       \n",
       "23090    WIP MPRAGE SENSE\n",
       "23091    WIP MPRAGE SENSE\n",
       "23092    WIP MPRAGE SENSE\n",
       "23093    WIP MPRAGE SENSE\n",
       "23094    WIP MPRAGE SENSE\n",
       "Name: image_description, Length: 23094, dtype: object"
      ]
     },
     "execution_count": 63,
     "metadata": {},
     "output_type": "execute_result"
    }
   ],
   "source": []
  },
  {
   "cell_type": "code",
   "execution_count": 72,
   "id": "painted-links",
   "metadata": {},
   "outputs": [
    {
     "name": "stderr",
     "output_type": "stream",
     "text": [
      "/Users/aidasaglinskas/opt/anaconda3/envs/py4/lib/python3.7/site-packages/ipykernel_launcher.py:4: SettingWithCopyWarning: \n",
      "A value is trying to be set on a copy of a slice from a DataFrame\n",
      "\n",
      "See the caveats in the documentation: https://pandas.pydata.org/pandas-docs/stable/user_guide/indexing.html#returning-a-view-versus-a-copy\n",
      "  after removing the cwd from sys.path.\n",
      "/Users/aidasaglinskas/opt/anaconda3/envs/py4/lib/python3.7/site-packages/ipykernel_launcher.py:7: SettingWithCopyWarning: \n",
      "A value is trying to be set on a copy of a slice from a DataFrame\n",
      "\n",
      "See the caveats in the documentation: https://pandas.pydata.org/pandas-docs/stable/user_guide/indexing.html#returning-a-view-versus-a-copy\n",
      "  import sys\n"
     ]
    }
   ],
   "source": [
    "df['mri_type'] = 0\n",
    "for i in range(n):\n",
    "    if any([w in df['image_description'][i].lower() for w in ['epi','run','rest','fmri']]):\n",
    "        df['mri_type'][i] = 'func'\n",
    "        \n",
    "    if any([w in df['image_description'][i].lower() for w in ['t1','mprage','anat']]):\n",
    "        df['mri_type'][i] = 'anat'"
   ]
  },
  {
   "cell_type": "code",
   "execution_count": 73,
   "id": "widespread-person",
   "metadata": {},
   "outputs": [
    {
     "data": {
      "text/plain": [
       "403"
      ]
     },
     "execution_count": 73,
     "metadata": {},
     "output_type": "execute_result"
    }
   ],
   "source": [
    "len(pd.unique(df['subjectkey'][(df['mri_type']=='func')]))"
   ]
  },
  {
   "cell_type": "code",
   "execution_count": 71,
   "id": "certified-screen",
   "metadata": {},
   "outputs": [
    {
     "data": {
      "text/plain": [
       "3880"
      ]
     },
     "execution_count": 71,
     "metadata": {},
     "output_type": "execute_result"
    }
   ],
   "source": [
    "len(pd.unique(df['subjectkey'][(df['mri_type']=='anat')]))"
   ]
  },
  {
   "cell_type": "code",
   "execution_count": 49,
   "id": "processed-document",
   "metadata": {},
   "outputs": [
    {
     "data": {
      "text/plain": [
       "'hi'"
      ]
     },
     "execution_count": 49,
     "metadata": {},
     "output_type": "execute_result"
    }
   ],
   "source": [
    "'HI'.lower()"
   ]
  },
  {
   "cell_type": "code",
   "execution_count": 36,
   "id": "right-encoding",
   "metadata": {},
   "outputs": [
    {
     "data": {
      "text/plain": [
       "array(['<MPR Collection>', '<MPR Range>', '<MPR Range[1]>',\n",
       "       'Baseline mprage', 'Bsnip Sag MPRAGE-like ADNI', 'DWI', 'DW_EPI',\n",
       "       'Endpoint mprage', 'Fast SPGR', 'MP-RAGE T1w 3D structural',\n",
       "       'MP-RAGE T1w 3D structural 1', 'MP-RAGE T1w 3D structural 2',\n",
       "       'MPRAGE', 'MPRAGE - anatomical', 'MPRAGE 3T', 'MPRAGE ADNI',\n",
       "       'MPRAGE SENSE', 'MPRAGE_1', 'MPRAGE_2', 'MPRAGE_3', 'MPRAGE_3min',\n",
       "       'MPRAGE_3min BAD', 'MPRAGE_4', 'MPRAGE_5', 'MPRAGE_PROMO',\n",
       "       'MPRAGE_S2', 'MPRAGE_TI_900', 'MR Quantitative T1-weighted',\n",
       "       'MR structural (MPRAGE)', 'MR structural (T1 SPGR)',\n",
       "       'MR structural (T1 overlay)', 'MR structural (T1)', 'MRI',\n",
       "       'MRI- localizer', 'MRI-localizer', 'MRI-locallizer', 'MoCoSeries',\n",
       "       'Motion Correction', 'MotionCorrection',\n",
       "       'Sagittal MPRAGE-like ADNI', 'Skull-Stripped T1-w Anatomical',\n",
       "       'T1', 'T1 Anatomical', 'T1 Structure Scan',\n",
       "       'T1-weighted vNav-corrected', 'T1W', 'T1W MPRAGE', 'T1_MPRAGE_Iso',\n",
       "       'T1axial', 'T1coronal', 'T1w', 'T1w_MPR', 'T1w_MPR_BIC_v1',\n",
       "       'T1w_MPR_pt6', 'T1w_MPR_pt6_nofat', 'T1w_MPR_vNav_4e',\n",
       "       'T1w_MPR_vNav_4e_RMS', 'T1w_MPR_vNav_Norm_4e',\n",
       "       'T1w_MPR_vNav_Norm_4e_RMS', 'T2', 'Trace_DW_EPIa',\n",
       "       'WIP MPRAGE SENSE', 'acq-MPRAGE_T1w', 'acq-anm_dir-AP_run-01_epi',\n",
       "       'acq-anm_dir-AP_run-03_epi', 'acq-anm_dir-AP_run-05_epi',\n",
       "       'acq-anm_dir-AP_run_02_epi', 'acq-anm_dir-AP_run_04_epi',\n",
       "       'acq-anm_dir-PA_run-01_epi', 'acq-anm_dir-PA_run-02_epi',\n",
       "       'acq-anm_dir-PA_run-03_epi', 'acq-anm_dir-PA_run-04_epi',\n",
       "       'acq-anm_dir-PA_run-05_epi', 'arrow_game_run_1',\n",
       "       'arrow_game_run_10', 'arrow_game_run_2', 'arrow_game_run_3',\n",
       "       'arrow_game_run_4', 'arrow_game_run_5', 'arrow_game_run_6',\n",
       "       'arrow_game_run_7', 'arrow_game_run_8', 'arrow_game_run_9',\n",
       "       'asleep_MPRAGE', 'awake_MPRAGE', 'decouple_arrow_run1',\n",
       "       'decouple_arrow_run2', 'decouple_arrow_run3',\n",
       "       'decouple_arrow_run4', 'decouple_match_run1',\n",
       "       'decouple_match_run2', 'decouple_match_run3',\n",
       "       'decouple_match_run4', 'decouple_repeat_run1',\n",
       "       'decouple_repeat_run2', 'decouple_repeat_run3',\n",
       "       'decouple_repeat_run4', 'fMRI', 'fieldamp_1_echo_2_phase',\n",
       "       'ieldmap_2_echo_2_phase', 'ieldmap_6_echo_2', 'ieldmap_7_echo_2',\n",
       "       'learning_run_1', 'learning_run_2', 'learning_run_3', 'localizer',\n",
       "       'moshiGO_localizer_run_1', 'moshiGO_localizer_run_2',\n",
       "       'moshiGO_localizer_run_3', 'moshiGO_task_freeroam',\n",
       "       'moshiGO_task_freeroam_run_2', 'moshiGO_task_run_1',\n",
       "       'moshiGO_task_run_2', 'moshiGO_task_run_3', 'moshiGO_task_run_4',\n",
       "       'moshiGO_task_run_5', 'moshiGO_task_run_6', 'mri',\n",
       "       'paintings_localizer_1', 'paintings_localizer_2',\n",
       "       'paintings_localizer_3', 'paintings_mprage_1',\n",
       "       'paintings_mprage_2', 'paintings_mprage_3', 'paintings_prepost_1',\n",
       "       'paintings_prepost_2', 'paintings_prepost_3',\n",
       "       'paintings_prepost_4', 'paintings_prepost_5',\n",
       "       'paintings_prepost_6', 'paintings_prepost_7',\n",
       "       'remind_localizer_run1', 'remind_localizer_run2',\n",
       "       'remind_localizer_run3', 'remind_test_run1', 'remind_test_run2',\n",
       "       'remind_test_run3', 'remind_test_run4', 'remind_test_run5',\n",
       "       'remind_test_run6', 'repeat_run_1', 'repeat_run_2', 'repeat_run_3',\n",
       "       'resting_state_run1', 'resting_state_run2', 'resting_state_run3',\n",
       "       'resting_state_run4', 'resting_state_run5', 'resting_state_run6',\n",
       "       'sMRI', 't1', 't1_deface', 't1_mprage_T1_900'], dtype=object)"
      ]
     },
     "execution_count": 36,
     "metadata": {},
     "output_type": "execute_result"
    }
   ],
   "source": [
    "np.sort(np.array(pd.unique(df['image_description'])))"
   ]
  },
  {
   "cell_type": "code",
   "execution_count": null,
   "id": "complicated-final",
   "metadata": {},
   "outputs": [],
   "source": []
  },
  {
   "cell_type": "code",
   "execution_count": null,
   "id": "thick-speed",
   "metadata": {},
   "outputs": [],
   "source": []
  },
  {
   "cell_type": "code",
   "execution_count": null,
   "id": "hidden-orange",
   "metadata": {},
   "outputs": [],
   "source": []
  },
  {
   "cell_type": "code",
   "execution_count": null,
   "id": "surprised-window",
   "metadata": {},
   "outputs": [],
   "source": []
  },
  {
   "cell_type": "code",
   "execution_count": null,
   "id": "weekly-athletics",
   "metadata": {},
   "outputs": [],
   "source": []
  },
  {
   "cell_type": "code",
   "execution_count": null,
   "id": "prostate-contract",
   "metadata": {},
   "outputs": [],
   "source": []
  },
  {
   "cell_type": "code",
   "execution_count": 3,
   "id": "mounted-identity",
   "metadata": {},
   "outputs": [],
   "source": [
    "dfm = pd.read_csv('/Users/aidasaglinskas/Desktop/MRI.csv')"
   ]
  },
  {
   "cell_type": "code",
   "execution_count": 16,
   "id": "mysterious-emerald",
   "metadata": {},
   "outputs": [],
   "source": [
    "dfa = pd.read_csv('/Users/aidasaglinskas/Desktop/ASD.csv')"
   ]
  },
  {
   "cell_type": "code",
   "execution_count": 24,
   "id": "excited-annex",
   "metadata": {},
   "outputs": [
    {
     "data": {
      "text/plain": [
       "array(['fMRI', 'Field Map', 'MR structural (T2)', 'multi-shell DTI',\n",
       "       'MR structural (T1)'], dtype=object)"
      ]
     },
     "execution_count": 24,
     "metadata": {},
     "output_type": "execute_result"
    }
   ],
   "source": [
    "pd.unique(dfm['modality'])"
   ]
  },
  {
   "cell_type": "code",
   "execution_count": 13,
   "id": "seven-career",
   "metadata": {},
   "outputs": [
    {
     "data": {
      "text/plain": [
       "1529"
      ]
     },
     "execution_count": 13,
     "metadata": {},
     "output_type": "execute_result"
    }
   ],
   "source": [
    "len(pd.unique(dfm[dfm['modality']=='MR structural (T1)']['SubID']))"
   ]
  },
  {
   "cell_type": "code",
   "execution_count": 14,
   "id": "enclosed-brazilian",
   "metadata": {},
   "outputs": [
    {
     "data": {
      "text/plain": [
       "1482"
      ]
     },
     "execution_count": 14,
     "metadata": {},
     "output_type": "execute_result"
    }
   ],
   "source": [
    "len(pd.unique(dfm[dfm['modality']=='fMRI']['SubID']))"
   ]
  },
  {
   "cell_type": "code",
   "execution_count": 21,
   "id": "oriented-alcohol",
   "metadata": {},
   "outputs": [
    {
     "data": {
      "text/plain": [
       "79"
      ]
     },
     "execution_count": 21,
     "metadata": {},
     "output_type": "execute_result"
    }
   ],
   "source": [
    "len(pd.unique(dfa['subJey']))"
   ]
  },
  {
   "cell_type": "code",
   "execution_count": 115,
   "id": "front-walker",
   "metadata": {},
   "outputs": [],
   "source": [
    "ab1 = pd.read_csv('/Users/aidasaglinskas/Desktop/BC-MRI-AE/CSVs/ABIDE-legend.csv')\n",
    "(~pd.isna(ab1['ADOS_Total'])).sum()"
   ]
  },
  {
   "cell_type": "code",
   "execution_count": 122,
   "id": "light-requirement",
   "metadata": {},
   "outputs": [
    {
     "data": {
      "text/plain": [
       "347"
      ]
     },
     "execution_count": 122,
     "metadata": {},
     "output_type": "execute_result"
    }
   ],
   "source": [
    "(~pd.isna(ab2['ADOS_G_TOTAL'])).sum()"
   ]
  },
  {
   "cell_type": "code",
   "execution_count": 110,
   "id": "outer-state",
   "metadata": {},
   "outputs": [],
   "source": [
    "ab2 = pd.read_csv('/Users/aidasaglinskas/Downloads/ABIDEII_Composite_Phenotypic (1).csv')"
   ]
  },
  {
   "cell_type": "code",
   "execution_count": 114,
   "id": "lightweight-mandate",
   "metadata": {},
   "outputs": [
    {
     "data": {
      "text/plain": [
       "77"
      ]
     },
     "execution_count": 114,
     "metadata": {},
     "output_type": "execute_result"
    }
   ],
   "source": [
    "((ab2['DX_GROUP']==1).values *(ab2['SEX']==2).values).sum()"
   ]
  },
  {
   "cell_type": "code",
   "execution_count": 133,
   "id": "selected-grave",
   "metadata": {},
   "outputs": [
    {
     "data": {
      "text/plain": [
       "104"
      ]
     },
     "execution_count": 133,
     "metadata": {},
     "output_type": "execute_result"
    }
   ],
   "source": [
    "d = pd.read_csv('/Users/aidasaglinskas/Downloads/Package_1190576/ados1_201201.txt','delimiter','\\t')\n",
    "d = d.iloc[1::]\n",
    "len(pd.unique(d['subjectkey']))"
   ]
  },
  {
   "cell_type": "code",
   "execution_count": 145,
   "id": "editorial-stocks",
   "metadata": {},
   "outputs": [
    {
     "data": {
      "text/plain": [
       "524"
      ]
     },
     "execution_count": 145,
     "metadata": {},
     "output_type": "execute_result"
    }
   ],
   "source": [
    "(~pd.isna(ab1['DSMIVTR']).values * (ab1['DxGroup']==1).values).sum()"
   ]
  },
  {
   "cell_type": "code",
   "execution_count": 137,
   "id": "hazardous-proof",
   "metadata": {},
   "outputs": [
    {
     "data": {
      "text/plain": [
       "595"
      ]
     },
     "execution_count": 137,
     "metadata": {},
     "output_type": "execute_result"
    }
   ],
   "source": [
    "sum(~pd.isna(ab2['PDD_DSM_IV_TR']))"
   ]
  },
  {
   "cell_type": "code",
   "execution_count": 147,
   "id": "light-quick",
   "metadata": {},
   "outputs": [
    {
     "data": {
      "text/plain": [
       "272"
      ]
     },
     "execution_count": 147,
     "metadata": {},
     "output_type": "execute_result"
    }
   ],
   "source": [
    "(~pd.isna(ab2['PDD_DSM_IV_TR']).values * (ab2['DX_GROUP']==1).values).sum()"
   ]
  },
  {
   "cell_type": "code",
   "execution_count": null,
   "id": "banner-newspaper",
   "metadata": {},
   "outputs": [],
   "source": [
    "(~pd.isna(ab2['PDD_DSM_IV_TR']).values * (ab2['DX_GROUP']==1).values).sum()"
   ]
  },
  {
   "cell_type": "code",
   "execution_count": 146,
   "id": "durable-wales",
   "metadata": {},
   "outputs": [
    {
     "data": {
      "text/html": [
       "<div>\n",
       "<style scoped>\n",
       "    .dataframe tbody tr th:only-of-type {\n",
       "        vertical-align: middle;\n",
       "    }\n",
       "\n",
       "    .dataframe tbody tr th {\n",
       "        vertical-align: top;\n",
       "    }\n",
       "\n",
       "    .dataframe thead th {\n",
       "        text-align: right;\n",
       "    }\n",
       "</style>\n",
       "<table border=\"1\" class=\"dataframe\">\n",
       "  <thead>\n",
       "    <tr style=\"text-align: right;\">\n",
       "      <th></th>\n",
       "      <th>SITE_ID</th>\n",
       "      <th>SUB_ID</th>\n",
       "      <th>NDAR_GUID</th>\n",
       "      <th>DX_GROUP</th>\n",
       "      <th>PDD_DSM_IV_TR</th>\n",
       "      <th>ASD_DSM_5</th>\n",
       "      <th>AGE_AT_SCAN</th>\n",
       "      <th>SEX</th>\n",
       "      <th>HANDEDNESS_CATEGORY</th>\n",
       "      <th>HANDEDNESS_SCORES</th>\n",
       "      <th>...</th>\n",
       "      <th>ADI_R_C3_TOTAL</th>\n",
       "      <th>ADI_R_C4_REPETITIVE_USE_OBJECTS</th>\n",
       "      <th>ADI_R_C4_HIGHER</th>\n",
       "      <th>ADI_R_C4_UNUSUAL_SENSORY_INTERESTS</th>\n",
       "      <th>ADI_R_C4_TOTAL</th>\n",
       "      <th>ADI_R_D_AGE_PARENT_NOTICED</th>\n",
       "      <th>ADI_R_D_AGE_FIRST_SINGLE_WORDS</th>\n",
       "      <th>ADI_R_D_AGE_FIRST_PHRASES</th>\n",
       "      <th>ADI_R_D_AGE_WHEN_ABNORMALITY</th>\n",
       "      <th>ADI_R_D_INTERVIEWER_JUDGMENT</th>\n",
       "    </tr>\n",
       "  </thead>\n",
       "  <tbody>\n",
       "    <tr>\n",
       "      <th>0</th>\n",
       "      <td>ABIDEII-BNI_1</td>\n",
       "      <td>29006</td>\n",
       "      <td>NaN</td>\n",
       "      <td>1</td>\n",
       "      <td>NaN</td>\n",
       "      <td>NaN</td>\n",
       "      <td>48.0000</td>\n",
       "      <td>1</td>\n",
       "      <td>1.0</td>\n",
       "      <td>NaN</td>\n",
       "      <td>...</td>\n",
       "      <td>NaN</td>\n",
       "      <td>NaN</td>\n",
       "      <td>NaN</td>\n",
       "      <td>NaN</td>\n",
       "      <td>NaN</td>\n",
       "      <td>NaN</td>\n",
       "      <td>NaN</td>\n",
       "      <td>NaN</td>\n",
       "      <td>NaN</td>\n",
       "      <td>NaN</td>\n",
       "    </tr>\n",
       "    <tr>\n",
       "      <th>1</th>\n",
       "      <td>ABIDEII-BNI_1</td>\n",
       "      <td>29007</td>\n",
       "      <td>NaN</td>\n",
       "      <td>1</td>\n",
       "      <td>NaN</td>\n",
       "      <td>NaN</td>\n",
       "      <td>41.0000</td>\n",
       "      <td>1</td>\n",
       "      <td>1.0</td>\n",
       "      <td>NaN</td>\n",
       "      <td>...</td>\n",
       "      <td>NaN</td>\n",
       "      <td>NaN</td>\n",
       "      <td>NaN</td>\n",
       "      <td>NaN</td>\n",
       "      <td>NaN</td>\n",
       "      <td>NaN</td>\n",
       "      <td>NaN</td>\n",
       "      <td>NaN</td>\n",
       "      <td>NaN</td>\n",
       "      <td>NaN</td>\n",
       "    </tr>\n",
       "    <tr>\n",
       "      <th>2</th>\n",
       "      <td>ABIDEII-BNI_1</td>\n",
       "      <td>29008</td>\n",
       "      <td>NaN</td>\n",
       "      <td>1</td>\n",
       "      <td>NaN</td>\n",
       "      <td>NaN</td>\n",
       "      <td>59.0000</td>\n",
       "      <td>1</td>\n",
       "      <td>1.0</td>\n",
       "      <td>NaN</td>\n",
       "      <td>...</td>\n",
       "      <td>NaN</td>\n",
       "      <td>NaN</td>\n",
       "      <td>NaN</td>\n",
       "      <td>NaN</td>\n",
       "      <td>NaN</td>\n",
       "      <td>NaN</td>\n",
       "      <td>NaN</td>\n",
       "      <td>NaN</td>\n",
       "      <td>NaN</td>\n",
       "      <td>NaN</td>\n",
       "    </tr>\n",
       "    <tr>\n",
       "      <th>3</th>\n",
       "      <td>ABIDEII-BNI_1</td>\n",
       "      <td>29009</td>\n",
       "      <td>NaN</td>\n",
       "      <td>1</td>\n",
       "      <td>NaN</td>\n",
       "      <td>NaN</td>\n",
       "      <td>57.0000</td>\n",
       "      <td>1</td>\n",
       "      <td>1.0</td>\n",
       "      <td>NaN</td>\n",
       "      <td>...</td>\n",
       "      <td>NaN</td>\n",
       "      <td>NaN</td>\n",
       "      <td>NaN</td>\n",
       "      <td>NaN</td>\n",
       "      <td>NaN</td>\n",
       "      <td>NaN</td>\n",
       "      <td>NaN</td>\n",
       "      <td>NaN</td>\n",
       "      <td>NaN</td>\n",
       "      <td>NaN</td>\n",
       "    </tr>\n",
       "    <tr>\n",
       "      <th>4</th>\n",
       "      <td>ABIDEII-BNI_1</td>\n",
       "      <td>29010</td>\n",
       "      <td>NaN</td>\n",
       "      <td>1</td>\n",
       "      <td>NaN</td>\n",
       "      <td>NaN</td>\n",
       "      <td>45.0000</td>\n",
       "      <td>1</td>\n",
       "      <td>1.0</td>\n",
       "      <td>NaN</td>\n",
       "      <td>...</td>\n",
       "      <td>NaN</td>\n",
       "      <td>NaN</td>\n",
       "      <td>NaN</td>\n",
       "      <td>NaN</td>\n",
       "      <td>NaN</td>\n",
       "      <td>NaN</td>\n",
       "      <td>NaN</td>\n",
       "      <td>NaN</td>\n",
       "      <td>NaN</td>\n",
       "      <td>NaN</td>\n",
       "    </tr>\n",
       "    <tr>\n",
       "      <th>...</th>\n",
       "      <td>...</td>\n",
       "      <td>...</td>\n",
       "      <td>...</td>\n",
       "      <td>...</td>\n",
       "      <td>...</td>\n",
       "      <td>...</td>\n",
       "      <td>...</td>\n",
       "      <td>...</td>\n",
       "      <td>...</td>\n",
       "      <td>...</td>\n",
       "      <td>...</td>\n",
       "      <td>...</td>\n",
       "      <td>...</td>\n",
       "      <td>...</td>\n",
       "      <td>...</td>\n",
       "      <td>...</td>\n",
       "      <td>...</td>\n",
       "      <td>...</td>\n",
       "      <td>...</td>\n",
       "      <td>...</td>\n",
       "      <td>...</td>\n",
       "    </tr>\n",
       "    <tr>\n",
       "      <th>1109</th>\n",
       "      <td>ABIDEII-USM_1</td>\n",
       "      <td>29523</td>\n",
       "      <td>NDARCL516DV3</td>\n",
       "      <td>2</td>\n",
       "      <td>0.0</td>\n",
       "      <td>NaN</td>\n",
       "      <td>36.1451</td>\n",
       "      <td>1</td>\n",
       "      <td>NaN</td>\n",
       "      <td>NaN</td>\n",
       "      <td>...</td>\n",
       "      <td>NaN</td>\n",
       "      <td>NaN</td>\n",
       "      <td>NaN</td>\n",
       "      <td>NaN</td>\n",
       "      <td>NaN</td>\n",
       "      <td>NaN</td>\n",
       "      <td>NaN</td>\n",
       "      <td>NaN</td>\n",
       "      <td>NaN</td>\n",
       "      <td>NaN</td>\n",
       "    </tr>\n",
       "    <tr>\n",
       "      <th>1110</th>\n",
       "      <td>ABIDEII-USM_1</td>\n",
       "      <td>29524</td>\n",
       "      <td>NDARKC441AZJ</td>\n",
       "      <td>2</td>\n",
       "      <td>0.0</td>\n",
       "      <td>NaN</td>\n",
       "      <td>11.7892</td>\n",
       "      <td>1</td>\n",
       "      <td>NaN</td>\n",
       "      <td>NaN</td>\n",
       "      <td>...</td>\n",
       "      <td>NaN</td>\n",
       "      <td>NaN</td>\n",
       "      <td>NaN</td>\n",
       "      <td>NaN</td>\n",
       "      <td>NaN</td>\n",
       "      <td>NaN</td>\n",
       "      <td>NaN</td>\n",
       "      <td>NaN</td>\n",
       "      <td>NaN</td>\n",
       "      <td>NaN</td>\n",
       "    </tr>\n",
       "    <tr>\n",
       "      <th>1111</th>\n",
       "      <td>ABIDEII-USM_1</td>\n",
       "      <td>29525</td>\n",
       "      <td>NDARCF644GKW</td>\n",
       "      <td>2</td>\n",
       "      <td>0.0</td>\n",
       "      <td>NaN</td>\n",
       "      <td>23.2909</td>\n",
       "      <td>1</td>\n",
       "      <td>1.0</td>\n",
       "      <td>80.0</td>\n",
       "      <td>...</td>\n",
       "      <td>NaN</td>\n",
       "      <td>NaN</td>\n",
       "      <td>NaN</td>\n",
       "      <td>NaN</td>\n",
       "      <td>NaN</td>\n",
       "      <td>NaN</td>\n",
       "      <td>NaN</td>\n",
       "      <td>NaN</td>\n",
       "      <td>NaN</td>\n",
       "      <td>NaN</td>\n",
       "    </tr>\n",
       "    <tr>\n",
       "      <th>1112</th>\n",
       "      <td>ABIDEII-USM_1</td>\n",
       "      <td>29526</td>\n",
       "      <td>NDARLE058ZZK</td>\n",
       "      <td>2</td>\n",
       "      <td>0.0</td>\n",
       "      <td>NaN</td>\n",
       "      <td>32.6242</td>\n",
       "      <td>1</td>\n",
       "      <td>NaN</td>\n",
       "      <td>NaN</td>\n",
       "      <td>...</td>\n",
       "      <td>NaN</td>\n",
       "      <td>NaN</td>\n",
       "      <td>NaN</td>\n",
       "      <td>NaN</td>\n",
       "      <td>NaN</td>\n",
       "      <td>NaN</td>\n",
       "      <td>NaN</td>\n",
       "      <td>NaN</td>\n",
       "      <td>NaN</td>\n",
       "      <td>NaN</td>\n",
       "    </tr>\n",
       "    <tr>\n",
       "      <th>1113</th>\n",
       "      <td>ABIDEII-USM_1</td>\n",
       "      <td>29527</td>\n",
       "      <td>NaN</td>\n",
       "      <td>2</td>\n",
       "      <td>0.0</td>\n",
       "      <td>NaN</td>\n",
       "      <td>11.4962</td>\n",
       "      <td>1</td>\n",
       "      <td>NaN</td>\n",
       "      <td>NaN</td>\n",
       "      <td>...</td>\n",
       "      <td>NaN</td>\n",
       "      <td>NaN</td>\n",
       "      <td>NaN</td>\n",
       "      <td>NaN</td>\n",
       "      <td>NaN</td>\n",
       "      <td>NaN</td>\n",
       "      <td>NaN</td>\n",
       "      <td>NaN</td>\n",
       "      <td>NaN</td>\n",
       "      <td>NaN</td>\n",
       "    </tr>\n",
       "  </tbody>\n",
       "</table>\n",
       "<p>1114 rows × 348 columns</p>\n",
       "</div>"
      ],
      "text/plain": [
       "            SITE_ID  SUB_ID     NDAR_GUID  DX_GROUP  PDD_DSM_IV_TR  ASD_DSM_5  \\\n",
       "0     ABIDEII-BNI_1   29006           NaN         1            NaN        NaN   \n",
       "1     ABIDEII-BNI_1   29007           NaN         1            NaN        NaN   \n",
       "2     ABIDEII-BNI_1   29008           NaN         1            NaN        NaN   \n",
       "3     ABIDEII-BNI_1   29009           NaN         1            NaN        NaN   \n",
       "4     ABIDEII-BNI_1   29010           NaN         1            NaN        NaN   \n",
       "...             ...     ...           ...       ...            ...        ...   \n",
       "1109  ABIDEII-USM_1   29523  NDARCL516DV3         2            0.0        NaN   \n",
       "1110  ABIDEII-USM_1   29524  NDARKC441AZJ         2            0.0        NaN   \n",
       "1111  ABIDEII-USM_1   29525  NDARCF644GKW         2            0.0        NaN   \n",
       "1112  ABIDEII-USM_1   29526  NDARLE058ZZK         2            0.0        NaN   \n",
       "1113  ABIDEII-USM_1   29527           NaN         2            0.0        NaN   \n",
       "\n",
       "      AGE_AT_SCAN   SEX  HANDEDNESS_CATEGORY  HANDEDNESS_SCORES  ...  \\\n",
       "0          48.0000    1                  1.0                NaN  ...   \n",
       "1          41.0000    1                  1.0                NaN  ...   \n",
       "2          59.0000    1                  1.0                NaN  ...   \n",
       "3          57.0000    1                  1.0                NaN  ...   \n",
       "4          45.0000    1                  1.0                NaN  ...   \n",
       "...            ...  ...                  ...                ...  ...   \n",
       "1109       36.1451    1                  NaN                NaN  ...   \n",
       "1110       11.7892    1                  NaN                NaN  ...   \n",
       "1111       23.2909    1                  1.0               80.0  ...   \n",
       "1112       32.6242    1                  NaN                NaN  ...   \n",
       "1113       11.4962    1                  NaN                NaN  ...   \n",
       "\n",
       "      ADI_R_C3_TOTAL  ADI_R_C4_REPETITIVE_USE_OBJECTS  ADI_R_C4_HIGHER  \\\n",
       "0                NaN                              NaN              NaN   \n",
       "1                NaN                              NaN              NaN   \n",
       "2                NaN                              NaN              NaN   \n",
       "3                NaN                              NaN              NaN   \n",
       "4                NaN                              NaN              NaN   \n",
       "...              ...                              ...              ...   \n",
       "1109             NaN                              NaN              NaN   \n",
       "1110             NaN                              NaN              NaN   \n",
       "1111             NaN                              NaN              NaN   \n",
       "1112             NaN                              NaN              NaN   \n",
       "1113             NaN                              NaN              NaN   \n",
       "\n",
       "     ADI_R_C4_UNUSUAL_SENSORY_INTERESTS ADI_R_C4_TOTAL  \\\n",
       "0                                   NaN            NaN   \n",
       "1                                   NaN            NaN   \n",
       "2                                   NaN            NaN   \n",
       "3                                   NaN            NaN   \n",
       "4                                   NaN            NaN   \n",
       "...                                 ...            ...   \n",
       "1109                                NaN            NaN   \n",
       "1110                                NaN            NaN   \n",
       "1111                                NaN            NaN   \n",
       "1112                                NaN            NaN   \n",
       "1113                                NaN            NaN   \n",
       "\n",
       "     ADI_R_D_AGE_PARENT_NOTICED  ADI_R_D_AGE_FIRST_SINGLE_WORDS  \\\n",
       "0                           NaN                             NaN   \n",
       "1                           NaN                             NaN   \n",
       "2                           NaN                             NaN   \n",
       "3                           NaN                             NaN   \n",
       "4                           NaN                             NaN   \n",
       "...                         ...                             ...   \n",
       "1109                        NaN                             NaN   \n",
       "1110                        NaN                             NaN   \n",
       "1111                        NaN                             NaN   \n",
       "1112                        NaN                             NaN   \n",
       "1113                        NaN                             NaN   \n",
       "\n",
       "      ADI_R_D_AGE_FIRST_PHRASES  ADI_R_D_AGE_WHEN_ABNORMALITY  \\\n",
       "0                           NaN                           NaN   \n",
       "1                           NaN                           NaN   \n",
       "2                           NaN                           NaN   \n",
       "3                           NaN                           NaN   \n",
       "4                           NaN                           NaN   \n",
       "...                         ...                           ...   \n",
       "1109                        NaN                           NaN   \n",
       "1110                        NaN                           NaN   \n",
       "1111                        NaN                           NaN   \n",
       "1112                        NaN                           NaN   \n",
       "1113                        NaN                           NaN   \n",
       "\n",
       "      ADI_R_D_INTERVIEWER_JUDGMENT  \n",
       "0                              NaN  \n",
       "1                              NaN  \n",
       "2                              NaN  \n",
       "3                              NaN  \n",
       "4                              NaN  \n",
       "...                            ...  \n",
       "1109                           NaN  \n",
       "1110                           NaN  \n",
       "1111                           NaN  \n",
       "1112                           NaN  \n",
       "1113                           NaN  \n",
       "\n",
       "[1114 rows x 348 columns]"
      ]
     },
     "execution_count": 146,
     "metadata": {},
     "output_type": "execute_result"
    }
   ],
   "source": [
    "ab2"
   ]
  },
  {
   "cell_type": "code",
   "execution_count": null,
   "id": "waiting-breeding",
   "metadata": {},
   "outputs": [],
   "source": []
  }
 ],
 "metadata": {
  "kernelspec": {
   "display_name": "Python 3",
   "language": "python",
   "name": "python3"
  },
  "language_info": {
   "codemirror_mode": {
    "name": "ipython",
    "version": 3
   },
   "file_extension": ".py",
   "mimetype": "text/x-python",
   "name": "python",
   "nbconvert_exporter": "python",
   "pygments_lexer": "ipython3",
   "version": "3.7.7"
  }
 },
 "nbformat": 4,
 "nbformat_minor": 5
}

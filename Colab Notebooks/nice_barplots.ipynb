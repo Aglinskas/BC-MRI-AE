{
 "cells": [
  {
   "cell_type": "code",
   "execution_count": 1,
   "metadata": {},
   "outputs": [
    {
     "name": "stdout",
     "output_type": "stream",
     "text": [
      "/mmfs1/data/aglinska/BC-MRI-AE\n"
     ]
    }
   ],
   "source": [
    "cd '/mmfs1/data/aglinska/BC-MRI-AE/'"
   ]
  },
  {
   "cell_type": "code",
   "execution_count": 2,
   "metadata": {},
   "outputs": [],
   "source": [
    "import pickle \n",
    "import numpy as np\n",
    "from matplotlib import pyplot as plt\n",
    "import seaborn as sns"
   ]
  },
  {
   "cell_type": "code",
   "execution_count": 3,
   "metadata": {},
   "outputs": [],
   "source": [
    "rsa = pickle.load(open('all_rsa_rsa_results.pickle','rb'))"
   ]
  },
  {
   "cell_type": "code",
   "execution_count": 242,
   "metadata": {},
   "outputs": [],
   "source": [
    "keys = list(rsa.keys())"
   ]
  },
  {
   "cell_type": "code",
   "execution_count": null,
   "metadata": {},
   "outputs": [],
   "source": []
  },
  {
   "cell_type": "code",
   "execution_count": null,
   "metadata": {},
   "outputs": [],
   "source": []
  },
  {
   "cell_type": "code",
   "execution_count": null,
   "metadata": {},
   "outputs": [],
   "source": []
  },
  {
   "cell_type": "code",
   "execution_count": 7,
   "metadata": {},
   "outputs": [],
   "source": [
    "pallete = sns.color_palette()\n",
    "pallete_new = sns.color_palette()"
   ]
  },
  {
   "cell_type": "code",
   "execution_count": 17,
   "metadata": {},
   "outputs": [
    {
     "data": {
      "text/plain": [
       "(10, 3)"
      ]
     },
     "execution_count": 17,
     "metadata": {},
     "output_type": "execute_result"
    }
   ],
   "source": [
    "data.shape"
   ]
  },
  {
   "cell_type": "code",
   "execution_count": null,
   "metadata": {},
   "outputs": [],
   "source": []
  },
  {
   "cell_type": "code",
   "execution_count": 240,
   "metadata": {},
   "outputs": [],
   "source": [
    "def plot_nice_bar(key,rsa):\n",
    "    #key = 'ADOS_gotham_PC1'\n",
    "\n",
    "    fig, ax = plt.subplots(1,1,figsize=(5,7))\n",
    "\n",
    "    pallete_new[1]=pallete[0]\n",
    "    pallete_new[0]=pallete[1]\n",
    "    pallete_new[0] = tuple(np.array((.5,.5,.5)))\n",
    "\n",
    "    data=rsa[key]\n",
    "    n = data.shape[0]\n",
    "    c = data.shape[1]\n",
    "    x = np.arange(c)\n",
    "    \n",
    "\n",
    "\n",
    "    for i in range(c):\n",
    "        plot_data = np.zeros(data.shape)\n",
    "        plot_data[:,i] = data[:,i]\n",
    "\n",
    "        xs = np.repeat(i,n)+(np.random.rand(n)-.5)*.1\n",
    "        sc = plt.scatter(xs,data[:,i],c='k')\n",
    "        b = sns.barplot(data=plot_data,errcolor='r',linewidth=2.5,facecolor=np.hstack((np.array(pallete_new[i]),.3)),edgecolor=np.hstack((np.array(pallete_new[i]),1)))\n",
    "        #sns.barplot(x=i,y=data.mean(axis=0)[i],errcolor='r',linewidth=2.5,facecolor=np.hstack((np.array(pallete_new[i]),.7)),edgecolor=np.hstack((np.array(pallete_new[i]),.7)))\n",
    "\n",
    "    plt.xlabel(key,fontsize=14,labelpad=25.1)\n",
    "    #xlbls = ['VAE','BG','SL']\n",
    "    locs, labels = plt.yticks()  \n",
    "    new_y = locs\n",
    "    new_y = np.linspace(locs[0],locs[-1],6)\n",
    "    plt.yticks(new_y,labels=[f'{yy:.2f}' for yy in new_y],fontsize=14)\n",
    "    plt.ylabel('model fit (r)',fontsize=14)\n",
    "\n",
    "    ax.spines['top'].set_visible(False)\n",
    "    ax.spines['right'].set_visible(False)\n",
    "\n",
    "    for axis in ['top','bottom','left','right']:\n",
    "            ax.spines[axis].set_linewidth(2.5)\n",
    "\n",
    "    xlbls = ['VAE','BG','SL']\n",
    "    plt.xticks(np.arange(3),labels=xlbls,fontsize=14)\n",
    "\n",
    "\n",
    "    do_one_sample_stars = True\n",
    "    if do_one_sample_stars:\n",
    "        one_sample = np.array([ttest_1samp(data[:,i],0) for i in range(3)])\n",
    "        one_sample_thresh = np.array((1,.05,.001,.0001))\n",
    "        one_sample_stars = np.array(('n.s.','*','**','***'))\n",
    "        xlbls = ['VAE','BG','SL']\n",
    "        for i in range(c):\n",
    "            these_stars = one_sample_stars[max(np.nonzero(one_sample[i,1]<one_sample_thresh)[0])]\n",
    "            xlbls[i] = f'{xlbls[i]}({these_stars})'\n",
    "        plt.xticks(np.arange(3),labels=xlbls,fontsize=14)\n",
    "\n",
    "    pairwise_t = np.zeros((3,3))\n",
    "    pairwise_p = np.zeros((3,3))\n",
    "\n",
    "    pairwise_sample_thresh = np.array((1,.05,.001,.0001))\n",
    "    pairwise_sample_stars = np.array(('n.s.','*','**','***'))\n",
    "\n",
    "    for i in range(c):\n",
    "        for j in range(c):\n",
    "            t,p = ttest(data[:,i],data[:,j])\n",
    "            pairwise_t[i,j] = t\n",
    "            pairwise_p[i,j] = p\n",
    "\n",
    "    #comps = [[0,1],[0,2],[1,2]]\n",
    "    comps = [[1,2]]\n",
    "    for comp_idx in range(len(comps)):\n",
    "        this_comp = comps[comp_idx]\n",
    "        sig_idx = max(np.nonzero(pairwise_p[this_comp[0],this_comp[1]]<pairwise_sample_thresh)[0])\n",
    "        max_y = new_y[-1] + comp_idx*.05\n",
    "        xs = np.array(this_comp)\n",
    "        stars = pairwise_sample_stars[sig_idx]\n",
    "        plt.plot(xs,[max_y,max_y],'k',linewidth=2.5)\n",
    "        plt.text(xs.mean(),max_y,stars,fontsize=25,horizontalalignment='center')"
   ]
  },
  {
   "cell_type": "code",
   "execution_count": 244,
   "metadata": {},
   "outputs": [
    {
     "data": {
      "text/plain": [
       "<enumerate at 0x1554c6b19f00>"
      ]
     },
     "execution_count": 244,
     "metadata": {},
     "output_type": "execute_result"
    }
   ],
   "source": []
  },
  {
   "cell_type": "code",
   "execution_count": 264,
   "metadata": {},
   "outputs": [
    {
     "data": {
      "text/plain": [
       "'ADOS_Total'"
      ]
     },
     "execution_count": 264,
     "metadata": {},
     "output_type": "execute_result"
    }
   ],
   "source": [
    "keys[0]"
   ]
  },
  {
   "cell_type": "code",
   "execution_count": 265,
   "metadata": {},
   "outputs": [
    {
     "data": {
      "image/png": "[encoded data removed]",
      "text/plain": [
       "<Figure size 360x504 with 1 Axes>"
      ]
     },
     "metadata": {
      "needs_background": "light"
     },
     "output_type": "display_data"
    },
    {
     "data": {
      "image/png": "[encoded data removed]",
      "text/plain": [
       "<Figure size 360x504 with 1 Axes>"
      ]
     },
     "metadata": {
      "needs_background": "light"
     },
     "output_type": "display_data"
    }
   ],
   "source": [
    "for idx,key in enumerate(keys[0:2]):\n",
    "    plot_nice_bar(key,rsa)\n",
    "    #plt.savefig(f'/mmfs1/data/aglinska/BC-MRI-AE/Results/figures/barplots/bar_{key}.png')"
   ]
  },
  {
   "cell_type": "code",
   "execution_count": 425,
   "metadata": {},
   "outputs": [],
   "source": [
    "these_keys = keys[0:16]\n"
   ]
  },
  {
   "cell_type": "code",
   "execution_count": 429,
   "metadata": {},
   "outputs": [],
   "source": [
    "these_keys = ['ADOS_Total',\n",
    " 'ADOS_Social',\n",
    " 'DSMIVTR',\n",
    " 'AgeAtScan',\n",
    " 'Sex',\n",
    " 'ScannerID',\n",
    " 'ScanSiteID',\n",
    " 'FIQ',\n",
    " 'ADOS_PC1',\n",
    " 'ADI_PC1',\n",
    " 'ADOS_gotham_PC1',\n",
    " 'Vineland_PC1',\n",
    " 'WISC_PC1',\n",
    " 'pca_vineland_asd']\n",
    "\n",
    "n = len(these_keys)"
   ]
  },
  {
   "cell_type": "code",
   "execution_count": 430,
   "metadata": {},
   "outputs": [
    {
     "name": "stdout",
     "output_type": "stream",
     "text": [
      "(14, 10, 3)\n"
     ]
    }
   ],
   "source": [
    "arr = np.array([rsa[key] for key in these_keys])\n",
    "print(arr.shape)\n",
    "\n",
    "diff = arr[:,:,2]-arr[:,:,1]\n",
    "\n",
    "\n",
    "idx = np.argsort(diff.mean(axis=1))\n",
    "lbls = np.array(these_keys)[idx]\n",
    "diff = diff[idx,:]\n",
    "\n",
    "\n",
    "vals = diff.mean(axis=1);"
   ]
  },
  {
   "cell_type": "code",
   "execution_count": 435,
   "metadata": {},
   "outputs": [
    {
     "data": {
      "image/png": "[encoded data removed]",
      "text/plain": [
       "<Figure size 360x504 with 1 Axes>"
      ]
     },
     "metadata": {
      "needs_background": "light"
     },
     "output_type": "display_data"
    }
   ],
   "source": [
    "fig,axs = plt.subplots(1,1,figsize=(5,7))\n",
    "\n",
    "xs = np.arange(len(vals));\n",
    "\n",
    "for i in range(n):\n",
    "    plt.barh(xs[i],vals[i],edgecolor=[.3,.3,.3,1],facecolor=[.3,.3,.3,.5]);\n",
    "\n",
    "plt.yticks(xs,labels=lbls);\n",
    "\n",
    "for i in range(n):\n",
    "    xs = np.repeat(i,10)+(np.random.rand(10)-.5)*.01\n",
    "    plt.scatter(diff[i,:],xs,c='k')"
   ]
  },
  {
   "cell_type": "code",
   "execution_count": null,
   "metadata": {},
   "outputs": [],
   "source": []
  },
  {
   "cell_type": "code",
   "execution_count": null,
   "metadata": {},
   "outputs": [],
   "source": []
  },
  {
   "cell_type": "code",
   "execution_count": null,
   "metadata": {},
   "outputs": [],
   "source": []
  }
 ],
 "metadata": {
  "kernelspec": {
   "display_name": "Python 3",
   "language": "python",
   "name": "python3"
  },
  "language_info": {
   "codemirror_mode": {
    "name": "ipython",
    "version": 3
   },
   "file_extension": ".py",
   "mimetype": "text/x-python",
   "name": "python",
   "nbconvert_exporter": "python",
   "pygments_lexer": "ipython3",
   "version": "3.8.5"
  }
 },
 "nbformat": 4,
 "nbformat_minor": 4
}

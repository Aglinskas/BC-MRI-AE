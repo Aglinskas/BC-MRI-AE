{
 "cells": [
  {
   "cell_type": "code",
   "execution_count": 5,
   "metadata": {},
   "outputs": [],
   "source": [
    "# #!pip install tf-nightly==2.5.0.dev20201111 -qqq --progress-bar off\n",
    "# import tensorflow as tf\n",
    "# print(tf.__version__)\n",
    "# assert tf.__version__== '2.5.0-dev20201111','bad version'"
   ]
  },
  {
   "cell_type": "code",
   "execution_count": 6,
   "metadata": {},
   "outputs": [],
   "source": [
    "#cd /Users/aidasaglinskas/Desktop/BC-MRI-AE/Colab Notebooks"
   ]
  },
  {
   "cell_type": "code",
   "execution_count": 7,
   "metadata": {},
   "outputs": [
    {
     "name": "stdout",
     "output_type": "stream",
     "text": [
      "/mmfs1/data/aglinska/BC-MRI-AE/Colab Notebooks\n"
     ]
    }
   ],
   "source": [
    "cd /mmfs1/data/aglinska/BC-MRI-AE/Colab Notebooks"
   ]
  },
  {
   "cell_type": "code",
   "execution_count": 9,
   "metadata": {},
   "outputs": [
    {
     "name": "stdout",
     "output_type": "stream",
     "text": [
      "0:00:00.000202\n"
     ]
    }
   ],
   "source": [
    "%matplotlib inline\n",
    "from datetime import datetime;now = datetime.now;t00 = now()\n",
    "import os\n",
    "from matplotlib import pyplot as plt\n",
    "import seaborn as sns\n",
    "\n",
    "import numpy as np\n",
    "import pandas as pd\n",
    "from tqdm import tqdm\n",
    "\n",
    "from sklearn.mixture import BayesianGaussianMixture\n",
    "\n",
    "#from contrastive_vae.celeb_utils import get_celeb_vae\n",
    "#from contrastive_vae.celeb_utils import get_celeb_cvae\n",
    "\n",
    "from scipy.spatial.distance import pdist\n",
    "from scipy.spatial.distance import squareform\n",
    "\n",
    "import pandas as pd\n",
    "from sklearn.metrics import silhouette_score\n",
    "\n",
    "from mri_utils import get_MRI_CVAE_3D,get_MRI_CCVAE_3D\n",
    "\n",
    "from sklearn.decomposition import PCA\n",
    "#import umap\n",
    "\n",
    "print(now()-t00)"
   ]
  },
  {
   "cell_type": "code",
   "execution_count": 10,
   "metadata": {},
   "outputs": [
    {
     "name": "stdout",
     "output_type": "stream",
     "text": [
      "/mmfs1/data/aglinska/BC-MRI-AE\n"
     ]
    }
   ],
   "source": [
    "cd ../"
   ]
  },
  {
   "cell_type": "code",
   "execution_count": 11,
   "metadata": {
    "jupyter": {
     "source_hidden": true
    }
   },
   "outputs": [],
   "source": [
    "def getCaseMatch(dx_idx,do_plot=False,control='non-familial-control'):\n",
    "    ''' takes in IDs of ASD subjects, gives back IDs of TDs matched on age and gender'''\n",
    "    ii = list()\n",
    "    dfsc = dfs.copy();\n",
    "    for dx_ind in range(sum(dx_idx)):\n",
    "        dfsc = dfsc.set_index(np.arange(len(dfsc)))\n",
    "        dx_age = dfsc['age_years'].values[dx_idx]\n",
    "        dx_sex = dfsc['sex'].values[dx_idx]\n",
    "        idxs = np.arange(len(dfs))\n",
    "        v1 = dfsc['family_type'].values==control\n",
    "        v2 = dfsc['sex'].values == dx_sex[dx_ind]\n",
    "        v_dx = dfsc['clinical_asd_dx'].values !='1'\n",
    "        \n",
    "        v3 = abs(dfsc['age_years'].values[v1*v2*v_dx]-dx_age[dx_ind])\n",
    "\n",
    "        match_arr = idxs[v1*v2][np.argsort(v3)]\n",
    "        match_arr = np.array(match_arr)\n",
    "        match_arr = match_arr[np.array([m not in ii for m in match_arr])]\n",
    "        i = match_arr[0]\n",
    "        ii.append(i)\n",
    "\n",
    "    caseMatch_idx = ii\n",
    "    caseMatch_idx.sort()\n",
    "    caseMatch_idx\n",
    "    assert len(caseMatch_idx)==len(np.unique(caseMatch_idx)),'non unique elements'\n",
    "    if do_plot==True:\n",
    "        plt.figure(figsize=(15,5))\n",
    "        plt.subplot(1,3,1)\n",
    "        plt.hist(dfs['sex'].values[caseMatch_idx],alpha=.3)\n",
    "        plt.hist(dfs['sex'].values[dx_idx],alpha=.3)\n",
    "\n",
    "        plt.subplot(1,3,2)\n",
    "        plt.hist(dfs['age_years'].values[caseMatch_idx],alpha=.3)\n",
    "        plt.hist(dfs['age_years'].values[dx_idx],alpha=.3)\n",
    "\n",
    "        plt.subplot(1,3,3)\n",
    "        plt.hist(dfs['family_type'].values[caseMatch_idx],alpha=.3)\n",
    "        plt.hist(dfs['family_type'].values[dx_idx],alpha=.3)\n",
    "        \n",
    "    return caseMatch_idx"
   ]
  },
  {
   "cell_type": "code",
   "execution_count": 12,
   "metadata": {},
   "outputs": [
    {
     "data": {
      "text/html": [
       "<div>\n",
       "<style scoped>\n",
       "    .dataframe tbody tr th:only-of-type {\n",
       "        vertical-align: middle;\n",
       "    }\n",
       "\n",
       "    .dataframe tbody tr th {\n",
       "        vertical-align: top;\n",
       "    }\n",
       "\n",
       "    .dataframe thead th {\n",
       "        text-align: right;\n",
       "    }\n",
       "</style>\n",
       "<table border=\"1\" class=\"dataframe\">\n",
       "  <thead>\n",
       "    <tr style=\"text-align: right;\">\n",
       "      <th></th>\n",
       "      <th>index</th>\n",
       "      <th>BIDS_ID</th>\n",
       "      <th>Anonymized ID</th>\n",
       "      <th>Subject Type</th>\n",
       "      <th>Visit</th>\n",
       "      <th>Days since enrollment</th>\n",
       "      <th>SubID</th>\n",
       "      <th>DxGroup</th>\n",
       "      <th>DSMIVTR</th>\n",
       "      <th>AgeAtScan</th>\n",
       "      <th>...</th>\n",
       "      <th>WISC4 Pic Con Scaled</th>\n",
       "      <th>WISC4 Matrix Scaled</th>\n",
       "      <th>WISC4 Dig Span Scaled</th>\n",
       "      <th>WISC4 Let Num Scaled</th>\n",
       "      <th>WISC4 Coding Scaled</th>\n",
       "      <th>WISC4 Sym Scaled</th>\n",
       "      <th>Age at MPRAGE</th>\n",
       "      <th>Current Med Status</th>\n",
       "      <th>Medication Name</th>\n",
       "      <th>Off stimulants at EPI scan?</th>\n",
       "    </tr>\n",
       "  </thead>\n",
       "  <tbody>\n",
       "    <tr>\n",
       "      <th>0</th>\n",
       "      <td>0</td>\n",
       "      <td>sub-001</td>\n",
       "      <td>A00033348</td>\n",
       "      <td>PATIENT</td>\n",
       "      <td>session_1</td>\n",
       "      <td>8</td>\n",
       "      <td>51320</td>\n",
       "      <td>1</td>\n",
       "      <td>2</td>\n",
       "      <td>31.0</td>\n",
       "      <td>...</td>\n",
       "      <td>NaN</td>\n",
       "      <td>NaN</td>\n",
       "      <td>NaN</td>\n",
       "      <td>NaN</td>\n",
       "      <td>NaN</td>\n",
       "      <td>NaN</td>\n",
       "      <td>NaN</td>\n",
       "      <td>0</td>\n",
       "      <td>NaN</td>\n",
       "      <td>NaN</td>\n",
       "    </tr>\n",
       "    <tr>\n",
       "      <th>1</th>\n",
       "      <td>1</td>\n",
       "      <td>sub-002</td>\n",
       "      <td>A00033398</td>\n",
       "      <td>CONTROL</td>\n",
       "      <td>session_1</td>\n",
       "      <td>8</td>\n",
       "      <td>51373</td>\n",
       "      <td>2</td>\n",
       "      <td>0</td>\n",
       "      <td>46.0</td>\n",
       "      <td>...</td>\n",
       "      <td>NaN</td>\n",
       "      <td>NaN</td>\n",
       "      <td>NaN</td>\n",
       "      <td>NaN</td>\n",
       "      <td>NaN</td>\n",
       "      <td>NaN</td>\n",
       "      <td>NaN</td>\n",
       "      <td>0</td>\n",
       "      <td>NaN</td>\n",
       "      <td>NaN</td>\n",
       "    </tr>\n",
       "    <tr>\n",
       "      <th>2</th>\n",
       "      <td>2</td>\n",
       "      <td>sub-003</td>\n",
       "      <td>A00033352</td>\n",
       "      <td>PATIENT</td>\n",
       "      <td>session_1</td>\n",
       "      <td>8</td>\n",
       "      <td>51324</td>\n",
       "      <td>1</td>\n",
       "      <td>2</td>\n",
       "      <td>52.0</td>\n",
       "      <td>...</td>\n",
       "      <td>NaN</td>\n",
       "      <td>NaN</td>\n",
       "      <td>NaN</td>\n",
       "      <td>NaN</td>\n",
       "      <td>NaN</td>\n",
       "      <td>NaN</td>\n",
       "      <td>NaN</td>\n",
       "      <td>0</td>\n",
       "      <td>NaN</td>\n",
       "      <td>NaN</td>\n",
       "    </tr>\n",
       "    <tr>\n",
       "      <th>3</th>\n",
       "      <td>3</td>\n",
       "      <td>sub-004</td>\n",
       "      <td>A00033389</td>\n",
       "      <td>CONTROL</td>\n",
       "      <td>session_1</td>\n",
       "      <td>8</td>\n",
       "      <td>51364</td>\n",
       "      <td>2</td>\n",
       "      <td>0</td>\n",
       "      <td>26.0</td>\n",
       "      <td>...</td>\n",
       "      <td>NaN</td>\n",
       "      <td>NaN</td>\n",
       "      <td>NaN</td>\n",
       "      <td>NaN</td>\n",
       "      <td>NaN</td>\n",
       "      <td>NaN</td>\n",
       "      <td>NaN</td>\n",
       "      <td>0</td>\n",
       "      <td>NaN</td>\n",
       "      <td>NaN</td>\n",
       "    </tr>\n",
       "    <tr>\n",
       "      <th>4</th>\n",
       "      <td>4</td>\n",
       "      <td>sub-005</td>\n",
       "      <td>A00033354</td>\n",
       "      <td>PATIENT</td>\n",
       "      <td>session_1</td>\n",
       "      <td>8</td>\n",
       "      <td>51326</td>\n",
       "      <td>1</td>\n",
       "      <td>2</td>\n",
       "      <td>42.0</td>\n",
       "      <td>...</td>\n",
       "      <td>NaN</td>\n",
       "      <td>NaN</td>\n",
       "      <td>NaN</td>\n",
       "      <td>NaN</td>\n",
       "      <td>NaN</td>\n",
       "      <td>NaN</td>\n",
       "      <td>NaN</td>\n",
       "      <td>0</td>\n",
       "      <td>NaN</td>\n",
       "      <td>NaN</td>\n",
       "    </tr>\n",
       "  </tbody>\n",
       "</table>\n",
       "<p>5 rows × 79 columns</p>\n",
       "</div>"
      ],
      "text/plain": [
       "   index  BIDS_ID Anonymized ID Subject Type      Visit  \\\n",
       "0      0  sub-001     A00033348      PATIENT  session_1   \n",
       "1      1  sub-002     A00033398      CONTROL  session_1   \n",
       "2      2  sub-003     A00033352      PATIENT  session_1   \n",
       "3      3  sub-004     A00033389      CONTROL  session_1   \n",
       "4      4  sub-005     A00033354      PATIENT  session_1   \n",
       "\n",
       "   Days since enrollment  SubID  DxGroup DSMIVTR  AgeAtScan  ...  \\\n",
       "0                      8  51320        1       2       31.0  ...   \n",
       "1                      8  51373        2       0       46.0  ...   \n",
       "2                      8  51324        1       2       52.0  ...   \n",
       "3                      8  51364        2       0       26.0  ...   \n",
       "4                      8  51326        1       2       42.0  ...   \n",
       "\n",
       "   WISC4 Pic Con Scaled  WISC4 Matrix Scaled  WISC4 Dig Span Scaled  \\\n",
       "0                   NaN                  NaN                    NaN   \n",
       "1                   NaN                  NaN                    NaN   \n",
       "2                   NaN                  NaN                    NaN   \n",
       "3                   NaN                  NaN                    NaN   \n",
       "4                   NaN                  NaN                    NaN   \n",
       "\n",
       "   WISC4 Let Num Scaled WISC4 Coding Scaled WISC4 Sym Scaled Age at MPRAGE  \\\n",
       "0                   NaN                 NaN              NaN           NaN   \n",
       "1                   NaN                 NaN              NaN           NaN   \n",
       "2                   NaN                 NaN              NaN           NaN   \n",
       "3                   NaN                 NaN              NaN           NaN   \n",
       "4                   NaN                 NaN              NaN           NaN   \n",
       "\n",
       "   Current Med Status  Medication Name  Off stimulants at EPI scan?  \n",
       "0                   0              NaN                          NaN  \n",
       "1                   0              NaN                          NaN  \n",
       "2                   0              NaN                          NaN  \n",
       "3                   0              NaN                          NaN  \n",
       "4                   0              NaN                          NaN  \n",
       "\n",
       "[5 rows x 79 columns]"
      ]
     },
     "execution_count": 12,
     "metadata": {},
     "output_type": "execute_result"
    }
   ],
   "source": [
    "# get abide dataframe\n",
    "arr = np.load('./Data/ABIDE-Anat-64iso.npz')\n",
    "ABIDE_data = arr['data']\n",
    "ABIDE_subs = arr['subs']\n",
    "nsubs = ABIDE_data.shape[0]\n",
    "[arr.shape for arr in [ABIDE_subs,ABIDE_data]]\n",
    "\n",
    "aa = np.array([ABIDE_data[s,:,:,:].sum() for s in range(ABIDE_data.shape[0])])<5000\n",
    "ABIDE_data = ABIDE_data[~aa,:,:,:]\n",
    "ABIDE_subs = ABIDE_subs[~aa]\n",
    "[arr.shape for arr in [ABIDE_subs,ABIDE_data]]\n",
    "\n",
    "df = pd.read_csv('./CSVs/ABIDE-legend.csv',header=0)\n",
    "df = df.iloc[np.array([df['BIDS_ID'].values[s] in ABIDE_subs for s in range(len(df))])]\n",
    "df.reset_index(inplace=True)\n",
    "\n",
    "assert len(df)==len(ABIDE_subs),'dif lenghts'\n",
    "assert all([df['BIDS_ID'][s]==ABIDE_subs[s] for s in range(len(df))]),'mismatch between df and goodsubs'\n",
    "\n",
    "df.head(5)"
   ]
  },
  {
   "cell_type": "code",
   "execution_count": 13,
   "metadata": {},
   "outputs": [
    {
     "name": "stdout",
     "output_type": "stream",
     "text": [
      "(500, 64, 64, 64)\n",
      "(456, 64, 64, 64)\n"
     ]
    }
   ],
   "source": [
    "TD_subs = ABIDE_data[np.array(df['Subject Type']=='CONTROL'),:,:,:]\n",
    "DX_subs = ABIDE_data[np.array(df['Subject Type']=='PATIENT'),:,:,:]\n",
    "\n",
    "print(TD_subs.shape)\n",
    "print(DX_subs.shape)"
   ]
  },
  {
   "cell_type": "code",
   "execution_count": 14,
   "metadata": {},
   "outputs": [],
   "source": [
    "dxArr = np.ones(len(df))\n",
    "dxArr[np.array(df['Subject Type']=='PATIENT')]=2"
   ]
  },
  {
   "cell_type": "code",
   "execution_count": null,
   "metadata": {},
   "outputs": [],
   "source": []
  },
  {
   "cell_type": "code",
   "execution_count": 15,
   "metadata": {},
   "outputs": [],
   "source": [
    "import tensorflow as tf\n",
    "import numpy as np\n",
    "import matplotlib.pyplot as plt\n",
    "from scipy.special import expit\n",
    "from sklearn.metrics import silhouette_score\n",
    "from tensorflow.keras.layers import *\n",
    "from tensorflow.keras import backend as K\n",
    "from tensorflow.keras.models import Model\n",
    "from tensorflow.keras.losses import mse\n",
    "import os\n",
    "import pandas as pd\n",
    "from glob import glob\n",
    "#import helper\n",
    "\n",
    "\n",
    "def sampling(args):\n",
    "  \"\"\"Reparameterization trick by sampling fr an isotropic unit Gaussian.\n",
    "  # Arguments:\n",
    "      args (tensor): mean and log of variance of Q(z|X)\n",
    "  # Returns:\n",
    "      z (tensor): sampled latent vector\n",
    "  \"\"\"\n",
    "\n",
    "  z_mean, z_log_var = args\n",
    "  batch = K.shape(z_mean)[0]\n",
    "  dim = K.int_shape(z_mean)[1]\n",
    "  # by default, random_normal has mean=0 and std=1.0\n",
    "  epsilon = K.random_normal(shape=(batch, dim))\n",
    "  return z_mean + K.exp(0.5 * z_log_var) * epsilon\n",
    "\n",
    "\n",
    "def get_MRI_CVAE_3D(input_shape=(64,64,64,1), latent_dim=2, batch_size = 32, disentangle=False, gamma=1):\n",
    "  #TODO: add discriminator loss, see if there is improvement. Perhaps try on shapes dataset if it's easier...\n",
    "\n",
    "  image_size, _, _, channels = input_shape\n",
    "  kernel_size = 3\n",
    "  filters = 16\n",
    "  intermediate_dim = 128\n",
    "  epochs = 10\n",
    "  nlayers = 2\n",
    "\n",
    "  # VAE model = encoder + decoder\n",
    "  # build encoder model\n",
    "  inputs = Input(shape=input_shape, name='encoder_input')\n",
    "  x = inputs\n",
    "  for i in range(nlayers):\n",
    "      filters *= 2\n",
    "      x = Conv3D(filters=filters,\n",
    "                kernel_size=kernel_size,\n",
    "                activation='relu',\n",
    "                strides=2,\n",
    "                padding='same')(x)\n",
    "\n",
    "  # shape info needed to build decoder model\n",
    "  shape = K.int_shape(x)\n",
    "\n",
    "  # generate latent vector Q(z|X)\n",
    "  x = Flatten()(x)\n",
    "  x = Dense(intermediate_dim, activation='relu')(x)\n",
    "  z_mean = Dense(latent_dim, name='z_mean')(x)\n",
    "  z_log_var = Dense(latent_dim, name='z_log_var')(x)\n",
    "\n",
    "  # use reparameterization trick to push the sampling out as input\n",
    "  # note that \"output_shape\" isn't necessary with the TensorFlow backend\n",
    "  z = Lambda(sampling, output_shape=(latent_dim,), name='z')([z_mean, z_log_var])\n",
    "\n",
    "  # instantiate encoder model\n",
    "  encoder = Model(inputs, [z_mean, z_log_var, z], name='encoder')\n",
    "\n",
    "  # build decoder model\n",
    "  latent_inputs = Input(shape=(latent_dim,), name='z_sampling')\n",
    "  x = Dense(intermediate_dim, activation='relu')(latent_inputs)\n",
    "  x = Dense(shape[1] * shape[2] * shape[3] * shape[4], activation='relu')(x)\n",
    "  x = Reshape((shape[1], shape[2], shape[3],shape[4]))(x)\n",
    "\n",
    "  for i in range(nlayers):\n",
    "      x = Conv3DTranspose(filters=filters,\n",
    "                          kernel_size=kernel_size,\n",
    "                          activation='relu',\n",
    "                          strides=2,\n",
    "                          padding='same')(x)\n",
    "      filters //= 2\n",
    "\n",
    "  outputs = Conv3DTranspose(filters=1,\n",
    "                            kernel_size=kernel_size,\n",
    "                            activation='sigmoid',\n",
    "                            padding='same',\n",
    "                            name='decoder_output')(x)\n",
    "\n",
    "  # instantiate decoder model\n",
    "  decoder = Model(latent_inputs, outputs, name='decoder')\n",
    "\n",
    "  #     decoder.summary()\n",
    "\n",
    "  # instantiate VAE model\n",
    "  outputs = decoder(encoder(inputs)[2])\n",
    "  vae = Model(inputs, outputs, name='vae')\n",
    "\n",
    "  if disentangle:\n",
    "      discriminator = Dense(1, activation='sigmoid')\n",
    "\n",
    "      z1 = Lambda(lambda x: x[:int(batch_size/2),:int(latent_dim/2)])(z)\n",
    "      z2 = Lambda(lambda x: x[int(batch_size/2):,:int(latent_dim/2)])(z)\n",
    "      s1 = Lambda(lambda x: x[:int(batch_size/2),int(latent_dim/2):])(z)\n",
    "      s2 = Lambda(lambda x: x[int(batch_size/2):,int(latent_dim/2):])(z)\n",
    "      q_bar = tf.keras.layers.concatenate(\n",
    "          [tf.keras.layers.concatenate([s1, z2], axis=1),\n",
    "          tf.keras.layers.concatenate([s2, z1], axis=1)],\n",
    "          axis=0)\n",
    "      q = tf.keras.layers.concatenate(\n",
    "          [tf.keras.layers.concatenate([s1, z1], axis=1),\n",
    "          tf.keras.layers.concatenate([s2, z2], axis=1)],\n",
    "          axis=0)\n",
    "      q_bar_score = discriminator(q_bar)\n",
    "      q_score = discriminator(q)        \n",
    "      tc_loss = K.log(q_score / (1 - q_score)) \n",
    "\n",
    "      discriminator_loss = - K.log(q_score) - K.log(1 - q_bar_score)\n",
    "\n",
    "  reconstruction_loss = mse(K.flatten(inputs), K.flatten(outputs))\n",
    "  reconstruction_loss *= image_size * image_size\n",
    "\n",
    "\n",
    "  kl_loss = 1 + z_log_var - K.square(z_mean) - K.exp(z_log_var)\n",
    "  kl_loss = K.sum(kl_loss, axis=-1)\n",
    "  kl_loss *= -0.5\n",
    "  if disentangle:\n",
    "      vae_loss = K.mean(reconstruction_loss) + K.mean(kl_loss) + gamma * K.mean(tc_loss) + K.mean(discriminator_loss)\n",
    "  else:\n",
    "      vae_loss = K.mean(reconstruction_loss) + K.mean(kl_loss)\n",
    "\n",
    "  vae.add_loss(vae_loss)\n",
    "  vae.compile(optimizer='rmsprop')\n",
    "  if disentangle:\n",
    "      vae.metrics_tensors = [reconstruction_loss, kl_loss, tc_loss, discriminator_loss]\n",
    "  #     vae.summary()\n",
    "  return encoder, decoder, vae\n",
    "\n",
    "\n",
    "\n",
    "####################################################################################################\n",
    "####################################################################################################\n",
    "####################################################################################################\n",
    "####################################################################################################\n",
    "####################################################################################################\n",
    "\n",
    "\n",
    "def get_MRI_CCVAE_3D(input_shape=(64,64,64,1), latent_dim=2, beta=1, disentangle=False, gamma=1, bias=True,batch_size = 64):\n",
    "\n",
    "  image_size, _, _, channels = input_shape\n",
    "  kernel_size = 3\n",
    "  filters = 16\n",
    "  intermediate_dim = 128\n",
    "  epochs = 10\n",
    "  nlayers = 2\n",
    "\n",
    "  # build encoder model\n",
    "  tg_inputs = Input(shape=input_shape, name='tg_inputs')\n",
    "  bg_inputs = Input(shape=input_shape, name='bg_inputs')\n",
    "\n",
    "  z_conv1 = Conv3D(filters=filters*2,\n",
    "            kernel_size=kernel_size,\n",
    "            activation='relu',\n",
    "            strides=2,\n",
    "            use_bias=bias,\n",
    "            padding='same')\n",
    "\n",
    "  z_conv2 = Conv3D(filters=filters*4,\n",
    "            kernel_size=kernel_size,\n",
    "            activation='relu',\n",
    "            strides=2,\n",
    "            use_bias=bias,\n",
    "            padding='same')\n",
    "\n",
    "\n",
    "  # generate latent vector Q(z|X)\n",
    "  z_h_layer = Dense(intermediate_dim, activation='relu', use_bias=bias)\n",
    "  z_mean_layer = Dense(latent_dim, name='z_mean', use_bias=bias)\n",
    "  z_log_var_layer = Dense(latent_dim, name='z_log_var', use_bias=bias)\n",
    "  z_layer = Lambda(sampling, output_shape=(latent_dim,), name='z')\n",
    "\n",
    "  def z_encoder_func(inputs):\n",
    "      z_h = inputs\n",
    "      z_h = z_conv1(z_h)\n",
    "      z_h = z_conv2(z_h)\n",
    "      # shape info needed to build decoder model\n",
    "      shape = K.int_shape(z_h)\n",
    "      z_h = Flatten()(z_h)\n",
    "      z_h = z_h_layer(z_h)\n",
    "      z_mean =  z_mean_layer(z_h)\n",
    "      z_log_var =  z_log_var_layer(z_h)\n",
    "      z = z_layer([z_mean, z_log_var])\n",
    "      return z_mean, z_log_var, z, shape\n",
    "\n",
    "  tg_z_mean, tg_z_log_var, tg_z, shape_z = z_encoder_func(tg_inputs)\n",
    "\n",
    "\n",
    "  s_conv1 = Conv3D(filters=filters*2,\n",
    "            kernel_size=kernel_size,\n",
    "            activation='relu',\n",
    "            strides=2,\n",
    "            use_bias=bias,\n",
    "            padding='same')\n",
    "\n",
    "  s_conv2 = Conv3D(filters=filters*4,\n",
    "            kernel_size=kernel_size,\n",
    "            activation='relu',\n",
    "            strides=2,\n",
    "            use_bias=bias,\n",
    "            padding='same')\n",
    "\n",
    "\n",
    "  # generate latent vector Q(z|X)\n",
    "  s_h_layer = Dense(intermediate_dim, activation='relu', use_bias=bias)\n",
    "  s_mean_layer = Dense(latent_dim, name='s_mean', use_bias=bias)\n",
    "  s_log_var_layer = Dense(latent_dim, name='s_log_var', use_bias=bias)\n",
    "  s_layer = Lambda(sampling, output_shape=(latent_dim,), name='s')\n",
    "\n",
    "  def s_encoder_func(inputs):\n",
    "      s_h = inputs\n",
    "      s_h = s_conv1(s_h)\n",
    "      s_h = s_conv2(s_h)\n",
    "      # shape info needed to build decoder model\n",
    "      shape = K.int_shape(s_h)\n",
    "      s_h = Flatten()(s_h)\n",
    "      s_h = s_h_layer(s_h)\n",
    "      s_mean =  s_mean_layer(s_h)\n",
    "      s_log_var =  s_log_var_layer(s_h)\n",
    "      s = s_layer([s_mean, s_log_var])\n",
    "      return s_mean, s_log_var, s, shape\n",
    "\n",
    "  tg_s_mean, tg_s_log_var, tg_s, shape_s = s_encoder_func(tg_inputs)\n",
    "  bg_s_mean, bg_s_log_var, bg_s, _ = s_encoder_func(bg_inputs) \n",
    "\n",
    "\n",
    "  # instantiate encoder models\n",
    "  z_encoder = tf.keras.models.Model(tg_inputs, [tg_z_mean, tg_z_log_var, tg_z], name='z_encoder')\n",
    "  s_encoder = tf.keras.models.Model(tg_inputs, [tg_s_mean, tg_s_log_var, tg_s], name='s_encoder')\n",
    "\n",
    "#    print(\"shape z\")\n",
    "#    print(shape_z)\n",
    "\n",
    "  # build decoder model\n",
    "  latent_inputs = Input(shape=(2*latent_dim,), name='z_sampling')\n",
    "  x = Dense(intermediate_dim, activation='relu', use_bias=bias)(latent_inputs)\n",
    "  x = Dense(shape_z[1] * shape_z[2] * shape_z[3] * shape_z[4], activation='relu', use_bias=bias)(x)\n",
    "  x = Reshape((shape_z[1], shape_z[2], shape_z[3],shape_z[4]))(x)\n",
    "\n",
    "#     x = Dense(shape_z[1] * shape_z[2] * shape_z[3], activation='relu', use_bias=bias)(x)\n",
    "#     x = Reshape((shape_z[1], shape_z[2], shape_z[3]))(x)\n",
    "\n",
    "  for i in range(nlayers):\n",
    "      x = Conv3DTranspose(filters=filters,\n",
    "                          kernel_size=kernel_size,\n",
    "                          activation='relu',\n",
    "                          strides=2,\n",
    "                          use_bias=bias,\n",
    "                          padding='same')(x)\n",
    "      filters //= 2\n",
    "\n",
    "  outputs = Conv3DTranspose(filters=1,\n",
    "                            kernel_size=kernel_size,\n",
    "                            activation='sigmoid',\n",
    "                            padding='same',\n",
    "                            use_bias=bias,\n",
    "                            name='decoder_output')(x)\n",
    "\n",
    "  # instantiate decoder model\n",
    "  cvae_decoder = Model(latent_inputs, outputs, name='decoder')\n",
    "  # decoder.summary()\n",
    "\n",
    "  def zeros_like(x):\n",
    "      return tf.zeros_like(x)\n",
    "\n",
    "  tg_outputs = cvae_decoder(tf.keras.layers.concatenate([tg_z, tg_s], -1))\n",
    "  zeros = tf.keras.layers.Lambda(zeros_like)(tg_z)\n",
    "  bg_outputs = cvae_decoder(tf.keras.layers.concatenate([zeros, bg_s], -1))\n",
    "  fg_outputs = cvae_decoder(tf.keras.layers.concatenate([tg_z, zeros], -1))\n",
    "\n",
    "  # instantiate VAE model\n",
    "  cvae = tf.keras.models.Model(inputs=[tg_inputs, bg_inputs], \n",
    "                              outputs=[tg_outputs, bg_outputs], \n",
    "                              name='contrastive_vae')\n",
    "\n",
    "  cvae_fg = tf.keras.models.Model(inputs=tg_inputs, \n",
    "                                  outputs=fg_outputs, \n",
    "                                  name='contrastive_vae_fg')\n",
    "\n",
    "  if disentangle:\n",
    "      discriminator = Dense(1, activation='sigmoid')\n",
    "\n",
    "      z1 = Lambda(lambda x: x[:int(batch_size/2),:])(tg_z);print(tg_z)\n",
    "      z2 = Lambda(lambda x: x[int(batch_size/2):,:])(tg_z)\n",
    "      s1 = Lambda(lambda x: x[:int(batch_size/2),:])(tg_s)\n",
    "      s2 = Lambda(lambda x: x[int(batch_size/2):,:])(tg_s)\n",
    "\n",
    "      q_bar = tf.keras.layers.concatenate(\n",
    "          [tf.keras.layers.concatenate([s1, z2], axis=1),\n",
    "          tf.keras.layers.concatenate([s2, z1], axis=1)],\n",
    "          axis=0)\n",
    "\n",
    "      q = tf.keras.layers.concatenate(\n",
    "          [tf.keras.layers.concatenate([s1, z1], axis=1),\n",
    "          tf.keras.layers.concatenate([s2, z2], axis=1)],\n",
    "          axis=0)\n",
    "\n",
    "      q_bar_score = (discriminator(q_bar)+.1) *.85 # ULTIMATE MEGA HAXXX\n",
    "      q_score = (discriminator(q)+.1) *.85 # ULTIMATE MEGA HAXXX\n",
    "\n",
    "      tc_loss = K.log(q_score / (1 - q_score)) \n",
    "\n",
    "      discriminator_loss = - K.log(q_score) - K.log(1 - q_bar_score)\n",
    "  else:\n",
    "      tc_loss = 0\n",
    "      discriminator_loss = 0\n",
    "\n",
    "\n",
    "  reconstruction_loss = tf.keras.losses.mse(K.flatten(tg_inputs), K.flatten(tg_outputs))\n",
    "  reconstruction_loss += tf.keras.losses.mse(K.flatten(bg_inputs), K.flatten(bg_outputs))\n",
    "  reconstruction_loss *= input_shape[0] * input_shape[1] * input_shape[2] * input_shape[3]\n",
    "\n",
    "\n",
    "  kl_loss = 1 + tg_z_log_var - tf.keras.backend.square(tg_z_mean) - tf.keras.backend.exp(tg_z_log_var)\n",
    "  kl_loss += 1 + tg_s_log_var - tf.keras.backend.square(tg_s_mean) - tf.keras.backend.exp(tg_s_log_var)\n",
    "  kl_loss += 1 + bg_s_log_var - tf.keras.backend.square(bg_s_mean) - tf.keras.backend.exp(bg_s_log_var)\n",
    "  kl_loss = tf.keras.backend.sum(kl_loss, axis=-1)\n",
    "  kl_loss *= -0.5\n",
    "\n",
    "  cvae_loss = tf.keras.backend.mean(reconstruction_loss + beta*kl_loss + gamma * tc_loss + discriminator_loss)\n",
    "  cvae.add_loss(cvae_loss)\n",
    "  cvae.compile(optimizer='rmsprop',run_eagerly=True)\n",
    "\n",
    "  return cvae, cvae_fg, z_encoder, s_encoder, cvae_decoder,discriminator"
   ]
  },
  {
   "cell_type": "code",
   "execution_count": 17,
   "metadata": {},
   "outputs": [
    {
     "data": {
      "text/plain": [
       "<tensorflow.python.training.tracking.util.CheckpointLoadStatus at 0x1554180f7c40>"
      ]
     },
     "execution_count": 17,
     "metadata": {},
     "output_type": "execute_result"
    }
   ],
   "source": [
    "# get convolutional vae (CVAE)\n",
    "encoder, decoder, vae = get_MRI_CVAE_3D(input_shape=(64, 64, 64, 1), latent_dim=2, batch_size=64, disentangle=False, gamma=1)#\n",
    "fn = '/mmfs1/data/aglinska/tf_outputs/VAE/Jan4th'\n",
    "vae.load_weights(fn)\n",
    "\n",
    "#vae.load_weights('../tf_outputs/weights/lol');\n",
    "#vae.load_weights('/Users/aidasaglinskas/Downloads/drive-download-20201208T110626Z-001/Nov23_VAE_32DIM');"
   ]
  },
  {
   "cell_type": "code",
   "execution_count": 36,
   "metadata": {},
   "outputs": [
    {
     "name": "stdout",
     "output_type": "stream",
     "text": [
      "Tensor(\"z/add_5:0\", shape=(None, 2), dtype=float32)\n"
     ]
    },
    {
     "data": {
      "text/plain": [
       "<tensorflow.python.training.tracking.util.CheckpointLoadStatus at 0x15551a85a460>"
      ]
     },
     "execution_count": 36,
     "metadata": {},
     "output_type": "execute_result"
    }
   ],
   "source": [
    "import pickle\n",
    "latent_dim = 2\n",
    "batch_size = 64\n",
    "beta = 1;gamma=1\n",
    "\n",
    "cvae, cvae_fg, z_encoder, s_encoder, cvae_decoder, discriminator = get_MRI_CCVAE_3D(latent_dim=latent_dim,beta=beta, disentangle=True, gamma=gamma, bias=True, batch_size = batch_size)\n",
    "loss = list()    \n",
    "fn = '/mmfs1/data/aglinska/tf_outputs/CVAE/Jan4th'\n",
    "loss = pickle.load(open(fn+'_loss.pickle','rb'))\n",
    "cvae.load_weights(fn)"
   ]
  },
  {
   "cell_type": "markdown",
   "metadata": {},
   "source": [
    "## Reconstruction (in sample prediction)"
   ]
  },
  {
   "cell_type": "code",
   "execution_count": 81,
   "metadata": {},
   "outputs": [
    {
     "data": {
      "image/png": "[encoded data removed]",
      "text/plain": [
       "<Figure size 360x360 with 4 Axes>"
      ]
     },
     "metadata": {},
     "output_type": "display_data"
    }
   ],
   "source": [
    "plt.figure(figsize=(5,5));\n",
    "inMat = ABIDE_data[0:5,:,:,:];\n",
    "\n",
    "s = 2\n",
    "arr = np.hstack((np.array(z_encoder(inMat)[s]),np.array(s_encoder(inMat)[s])))\n",
    "cvae_prediction = cvae_decoder.predict(arr)[:,:,:,:,0]\n",
    "vae_prediction = vae.predict(inMat)[:,:,:,:,0]\n",
    "\n",
    "i = 0\n",
    "plt.subplot(2,2,1)\n",
    "plt.imshow(inMat[i,:,:,40]);plt.xticks([]);plt.yticks([]);plt.title('input');\n",
    "\n",
    "plt.subplot(2,2,2)\n",
    "plt.imshow(cvae_prediction[i,:,:,40]);plt.xticks([]);plt.yticks([]);plt.title('CVAE prediction');\n",
    "\n",
    "plt.subplot(2,2,3)\n",
    "plt.imshow(inMat[i,:,:,40]);plt.xticks([]);plt.yticks([]);plt.title('input');\n",
    "\n",
    "plt.subplot(2,2,4)\n",
    "plt.imshow(vae_prediction[i,:,:,40]);plt.xticks([]);plt.yticks([]);plt.title('VAE prediction');"
   ]
  },
  {
   "cell_type": "code",
   "execution_count": 99,
   "metadata": {},
   "outputs": [],
   "source": [
    "def cvae_predict(inMat,s=2):\n",
    "    arr = np.hstack((np.array(z_encoder(inMat)[s]),np.array(s_encoder(inMat)[s])))\n",
    "    cvae_prediction = cvae_decoder.predict(arr)[:,:,:,:,:]\n",
    "    return cvae_prediction"
   ]
  },
  {
   "cell_type": "code",
   "execution_count": null,
   "metadata": {},
   "outputs": [],
   "source": []
  },
  {
   "cell_type": "code",
   "execution_count": 100,
   "metadata": {},
   "outputs": [
    {
     "name": "stdout",
     "output_type": "stream",
     "text": [
      "['data', 'subs']\n"
     ]
    },
    {
     "data": {
      "text/plain": [
       "(131, 64, 64, 64)"
      ]
     },
     "execution_count": 100,
     "metadata": {},
     "output_type": "execute_result"
    }
   ],
   "source": [
    "arr = np.load('./Data/SFARI-Anat-64iso.npz')\n",
    "SFARI_data = arr['data']\n",
    "SFARI_subs = arr['subs']\n",
    "snsubs = SFARI_data.shape[0]\n",
    "print(arr.files)\n",
    "SFARI_data.shape"
   ]
  },
  {
   "cell_type": "code",
   "execution_count": 101,
   "metadata": {},
   "outputs": [],
   "source": [
    "ps_CCVAE = cvae_predict(SFARI_data[:,:,:,:])\n",
    "ps_CVAE = vae.predict(SFARI_data[:,:,:,:])"
   ]
  },
  {
   "cell_type": "code",
   "execution_count": 102,
   "metadata": {},
   "outputs": [
    {
     "name": "stdout",
     "output_type": "stream",
     "text": [
      "(131, 64, 64, 64, 1)\n"
     ]
    }
   ],
   "source": [
    "print(ps_CVAE.shape)"
   ]
  },
  {
   "cell_type": "markdown",
   "metadata": {},
   "source": [
    "### Out of sample prediction (train on ABIDE, test on SFARI)"
   ]
  },
  {
   "cell_type": "code",
   "execution_count": 103,
   "metadata": {},
   "outputs": [
    {
     "data": {
      "text/plain": [
       "Text(0.5, 1.0, 'VAE reconstruction')"
      ]
     },
     "execution_count": 103,
     "metadata": {},
     "output_type": "execute_result"
    },
    {
     "data": {
      "image/png": "[encoded data removed]",
      "text/plain": [
       "<Figure size 360x360 with 4 Axes>"
      ]
     },
     "metadata": {},
     "output_type": "display_data"
    }
   ],
   "source": [
    "plt.figure(figsize=(5,5))\n",
    "s = 25;k = 35\n",
    "plt.subplot(2,2,1)\n",
    "plt.imshow(SFARI_data[s,:,:,k]);plt.xticks([]);plt.yticks([]);plt.title('Input')\n",
    "plt.subplot(2,2,2)\n",
    "plt.imshow(ps_CCVAE[s,:,:,k,0]);plt.xticks([]);plt.yticks([]);plt.title('cCVAE reconstruction')\n",
    "\n",
    "plt.subplot(2,2,3)\n",
    "plt.imshow(SFARI_data[s,:,:,k]);plt.xticks([]);plt.yticks([]);plt.title('Input')\n",
    "plt.subplot(2,2,4)\n",
    "plt.imshow(ps_CVAE[s,:,:,k,0]);plt.xticks([]);plt.yticks([]);plt.title('VAE reconstruction')"
   ]
  },
  {
   "cell_type": "code",
   "execution_count": 107,
   "metadata": {},
   "outputs": [
    {
     "data": {
      "image/png": "[encoded data removed]",
      "text/plain": [
       "<Figure size 432x288 with 1 Axes>"
      ]
     },
     "metadata": {
      "needs_background": "light"
     },
     "output_type": "display_data"
    }
   ],
   "source": [
    "#v1 = np.array([((SFARI_data[s,:,:,:]-ps_CCVAE[s,:,:,:,0])**2).sum() for s in range(100)])\n",
    "v2 = np.array([((SFARI_data[s,:,:,:]-ps_CCVAE[s,:,:,:,0])**2).sum() for s in range(100)])\n",
    "v3 = np.array([((SFARI_data[s,:,:,:]-ps_CVAE[s,:,:,:,0])**2).sum() for s in range(100)])\n",
    "\n",
    "xs = np.arange(2)\n",
    "y = [v2.mean(),v3.mean()]\n",
    "se = [v2.std(),v3.std()]\n",
    "plt.bar(xs,y)\n",
    "plt.errorbar(xs,y,se,fmt='r.')\n",
    "\n",
    "plt.xticks(xs,labels=['CVAE','VAE']);\n",
    "plt.title('Reconstruction error (SS)');"
   ]
  },
  {
   "cell_type": "code",
   "execution_count": 108,
   "metadata": {},
   "outputs": [],
   "source": [
    "def dim_reduce(z,method='PCA'):\n",
    "    \n",
    "    if method=='UMAP':\n",
    "        reducer = umap.UMAP()\n",
    "    else:\n",
    "        reducer = PCA(n_components=2)\n",
    "        \n",
    "    tiny = reducer.fit_transform(z)\n",
    "    #plt.plot(tiny[:,0],tiny[:,1],'r.')\n",
    "    \n",
    "    return tiny"
   ]
  },
  {
   "cell_type": "code",
   "execution_count": null,
   "metadata": {},
   "outputs": [],
   "source": []
  },
  {
   "cell_type": "code",
   "execution_count": null,
   "metadata": {},
   "outputs": [],
   "source": [
    "def project_data(data,dxArr,lbls,legend=True):\n",
    "    plt.figure(figsize=(12,4));\n",
    "    plt.subplot(1,3,1);\n",
    "    \n",
    "    z_mean, z_log_var, z = z_encoder(data[:,:,:,:]);\n",
    "    s_mean, s_log_var, s = s_encoder(data[:,:,:,:]);\n",
    "    v_mean, v_log_var, v = encoder(data[:,:,:,:]);\n",
    "    \n",
    "    if z.shape[1]>2:\n",
    "        print('reducing dimensionality')\n",
    "        z = dim_reduce(z)\n",
    "        s = dim_reduce(s)\n",
    "        v = dim_reduce(v)\n",
    "    \n",
    "    x = z;x = np.array(x);\n",
    "    mark = ['b.', 'g.', 'r.', 'c.', 'm.', 'y.', 'k.','b*', 'g*', 'r*', 'c*', 'm*', 'y*', 'k*','bx', 'gx', 'rx', 'cx', 'mx', 'yx', 'kx']\n",
    "    for i in range(len(np.unique(dxArr))):\n",
    "        ii = np.unique(dxArr)[i];\n",
    "        plt.plot(x[dxArr==ii,0],x[dxArr==ii,1],mark[int(i)],markersize=15,alpha=.3);\n",
    "        \n",
    "    if legend:\n",
    "        plt.legend(lbls);\n",
    "    plt.title('CAE background');\n",
    "\n",
    "    plt.subplot(1,3,2)\n",
    "    x = s;\n",
    "    x = np.array(x);\n",
    "\n",
    "    for i in range(len(np.unique(dxArr))):\n",
    "        ii = np.unique(dxArr)[i];\n",
    "        plt.plot(x[dxArr==ii,0],x[dxArr==ii,1],mark[int(i)],markersize=15,alpha=.3);\n",
    "    if legend:\n",
    "        plt.legend(lbls);\n",
    "    plt.title('CAE salient');\n",
    "\n",
    "    plt.subplot(1,3,3);\n",
    "    \n",
    "    x = v;\n",
    "    x = np.array(x);\n",
    "\n",
    "    for i in range(len(np.unique(dxArr))):\n",
    "        ii = np.unique(dxArr)[i];\n",
    "        plt.plot(x[dxArr==ii,0],x[dxArr==ii,1],mark[int(i)],markersize=15,alpha=.3);\n",
    "    if legend:\n",
    "        plt.legend(lbls);\n",
    "    plt.title('VAE');\n",
    "    \n",
    "    if len(np.unique(dxArr))>1:\n",
    "        plt.figure(figsize=(6,4));\n",
    "        plt.bar([0,1,2],[silhouette_score(z,dxArr),silhouette_score(s,dxArr),silhouette_score(v,dxArr)]);\n",
    "        plt.xticks([0,1,2],labels=['CAE background','CAE salient','Vae']);\n",
    "        plt.title('Silhouette score')\n",
    "        plt.ylim(0,1)"
   ]
  },
  {
   "cell_type": "markdown",
   "metadata": {},
   "source": [
    "# Laten Space Clusters"
   ]
  },
  {
   "cell_type": "code",
   "execution_count": null,
   "metadata": {},
   "outputs": [],
   "source": [
    "v = df['Subject Type'].values=='PATIENT'\n",
    "data = ABIDE_data[v,:,:,:]; dxArr = np.ones(data.shape[0]); lbls = ['ASD']\n",
    "project_data(data,dxArr,lbls)"
   ]
  },
  {
   "cell_type": "code",
   "execution_count": null,
   "metadata": {},
   "outputs": [],
   "source": [
    "# TD and ASD subjects in different colours \n",
    "dxArr = np.ones(len(df))\n",
    "dxArr[np.array(df['Subject Type']=='PATIENT')]=2\n",
    "\n",
    "data = ABIDE_data;dxArr = dxArr;lbls = ['TD','ASD']\n",
    "project_data(data,dxArr,lbls)"
   ]
  },
  {
   "cell_type": "code",
   "execution_count": null,
   "metadata": {},
   "outputs": [],
   "source": [
    "# encoders \n",
    "encs = [z_encoder, s_encoder ,encoder] # background, salient, vae"
   ]
  },
  {
   "cell_type": "code",
   "execution_count": null,
   "metadata": {},
   "outputs": [],
   "source": [
    "data = ABIDE_data\n",
    "bg_space = np.array(encs[0](data)[2])\n",
    "sl_space = np.array(encs[1](data)[2])\n",
    "vae_space = np.array(encs[2](data)[2])\n",
    "\n",
    "do_dimRed=False\n",
    "if do_dimRed:\n",
    "    method = 'UMAP'\n",
    "    bg_space = dim_reduce(bg_space,method=method)\n",
    "    sl_space = dim_reduce(sl_space,method=method)\n",
    "    vae_space = dim_reduce(vae_space,method=method)"
   ]
  },
  {
   "cell_type": "code",
   "execution_count": null,
   "metadata": {},
   "outputs": [],
   "source": [
    "# Clustering defined on using 'background' features\n",
    "v = df['Subject Type'].values=='PATIENT'\n",
    "data = ABIDE_data[v,:,:,:]; dxArr = np.ones(data.shape[0]); lbls = ['ASD']\n",
    "\n",
    "bnpc = BayesianGaussianMixture(covariance_prior=None,covariance_type='full',degrees_of_freedom_prior=None,init_params='kmeans',max_iter=10000, mean_precision_prior=None,mean_prior=None,n_components=100,n_init=100,random_state=None,reg_covar=1e-06,tol=0.001,verbose=0,verbose_interval=10,warm_start=False,weight_concentration_prior=1,weight_concentration_prior_type='dirichlet_process')\n",
    "cid_s = bnpc.fit_predict(bg_space[v,:])\n",
    "\n",
    "print(f\"{len(np.unique(cid_s))} clusters\")\n",
    "\n",
    "# lbls = [str(u) for u in np.unique(cid_s)];\n",
    "# dxArr = cid_s\n",
    "# project_data(data,dxArr=cid_s,lbls=lbls)"
   ]
  },
  {
   "cell_type": "code",
   "execution_count": null,
   "metadata": {},
   "outputs": [],
   "source": [
    "# Clustering defined on using 'salient' features\n",
    "v = df['Subject Type'].values=='PATIENT'\n",
    "data = ABIDE_data[v,:,:,:]; dxArr = np.ones(data.shape[0]); lbls = ['ASD']\n",
    "\n",
    "bnpc = BayesianGaussianMixture(covariance_prior=None,covariance_type='full',degrees_of_freedom_prior=None,init_params='kmeans',max_iter=10000, mean_precision_prior=None,mean_prior=None,n_components=10,n_init=100,random_state=None,reg_covar=1e-06,tol=0.001,verbose=0,verbose_interval=10,warm_start=False,weight_concentration_prior=None,weight_concentration_prior_type='dirichlet_process')\n",
    "cid_s = bnpc.fit_predict(sl_space)\n",
    "\n",
    "lbls = [str(u) for u in np.unique(cid_s)];\n",
    "dxArr = cid_s\n",
    "project_data(data,dxArr=cid_s,lbls=lbls)"
   ]
  },
  {
   "cell_type": "code",
   "execution_count": null,
   "metadata": {},
   "outputs": [],
   "source": [
    "# Clustering defined on using vanilla VAE features\n",
    "\n",
    "v = df['Subject Type'].values=='PATIENT'\n",
    "data = ABIDE_data[v,:,:,:]; dxArr = np.ones(data.shape[0]); lbls = ['ASD']\n",
    "\n",
    "bnpc = BayesianGaussianMixture(covariance_prior=None,covariance_type='full',degrees_of_freedom_prior=None,init_params='kmeans',max_iter=10000, mean_precision_prior=None,mean_prior=None,n_components=10,n_init=100,random_state=None,reg_covar=1e-06,tol=0.001,verbose=0,verbose_interval=10,warm_start=False,weight_concentration_prior=None,weight_concentration_prior_type='dirichlet_process')\n",
    "cid_s = bnpc.fit_predict(vae_space)\n",
    "\n",
    "lbls = [str(u) for u in np.unique(cid_s)];\n",
    "dxArr = cid_s\n",
    "project_data(data,dxArr=cid_s,lbls=lbls)"
   ]
  },
  {
   "cell_type": "markdown",
   "metadata": {},
   "source": [
    "## SFARI data "
   ]
  },
  {
   "cell_type": "code",
   "execution_count": null,
   "metadata": {},
   "outputs": [],
   "source": []
  },
  {
   "cell_type": "code",
   "execution_count": null,
   "metadata": {},
   "outputs": [],
   "source": [
    "#dfs = pd.read_csv('./CSVs/SFARI-legend.csv')\n",
    "dfs = pd.read_csv('./CSVs/DS-use.csv')\n",
    "dfs = dfs.iloc[np.array([l in SFARI_subs for l in dfs['BIDS ID'].values])]"
   ]
  },
  {
   "cell_type": "code",
   "execution_count": null,
   "metadata": {},
   "outputs": [],
   "source": [
    "assert all([dfs['BIDS ID'].values[i]==SFARI_subs[i] for i in range(snsubs)]),'badness'\n",
    "assert len(dfs)==len(SFARI_subs),'bad coder, bad!'"
   ]
  },
  {
   "cell_type": "code",
   "execution_count": null,
   "metadata": {},
   "outputs": [],
   "source": [
    "# SLICE: Only Keep 16p and TD\n",
    "ugene = ['non-familial-control','16p-duplication','16p-deletion']\n",
    "slice_arr = np.array([val in ugene for val in dfs['family_type'].values])\n",
    "\n",
    "dfs = dfs.iloc[slice_arr]\n",
    "snsubs = len(dfs)\n",
    "SFARI_data = SFARI_data[slice_arr,:,:,:]\n",
    "SFARI_subs = SFARI_subs[slice_arr]\n",
    "print(snsubs)"
   ]
  },
  {
   "cell_type": "code",
   "execution_count": null,
   "metadata": {},
   "outputs": [],
   "source": [
    "dfs.head()"
   ]
  },
  {
   "cell_type": "code",
   "execution_count": null,
   "metadata": {},
   "outputs": [],
   "source": [
    "geneVec = np.repeat(0,snsubs)\n",
    "geneVec[dfs['family_type'].values==ugene[0]]=1\n",
    "geneVec[dfs['family_type'].values==ugene[1]]=2\n",
    "geneVec[dfs['family_type'].values==ugene[2]]=3"
   ]
  },
  {
   "cell_type": "code",
   "execution_count": null,
   "metadata": {},
   "outputs": [],
   "source": [
    "# SFARI data coloured by genotype,\n",
    "data = SFARI_data\n",
    "dxArr = geneVec\n",
    "lbls = ugene\n",
    "project_data(data,dxArr,lbls)"
   ]
  },
  {
   "cell_type": "code",
   "execution_count": null,
   "metadata": {},
   "outputs": [],
   "source": [
    "# only CNV carriers\n",
    "d = np.array([val in [2,3] for val in geneVec])\n",
    "data = SFARI_data[d,:,:,:]\n",
    "dxArr = geneVec[d]\n",
    "lbls = ugene[1::]\n",
    "project_data(data,dxArr,lbls)"
   ]
  },
  {
   "cell_type": "code",
   "execution_count": null,
   "metadata": {},
   "outputs": [],
   "source": [
    "# Clustering based on background features\n",
    "d = np.array([val in [2,3] for val in geneVec])\n",
    "data = SFARI_data[d,:,:,:]\n",
    "dxArr = geneVec[d]\n",
    "lbls = ugene[1::]\n",
    "\n",
    "bnpc = BayesianGaussianMixture(covariance_prior=None,covariance_type='full',degrees_of_freedom_prior=None,init_params='kmeans',max_iter=10000, mean_precision_prior=None,mean_prior=None,n_components=10,n_init=100,random_state=None,reg_covar=1e-06,tol=0.001,verbose=0,verbose_interval=10,warm_start=False,weight_concentration_prior=None,weight_concentration_prior_type='dirichlet_process')\n",
    "cid = bnpc.fit_predict(np.array(encs[0](data)[2]))\n",
    "\n",
    "lbls = [str(u) for u in np.unique(cid)];\n",
    "dxArr = cid\n",
    "project_data(data,dxArr=cid,lbls=lbls)"
   ]
  },
  {
   "cell_type": "code",
   "execution_count": null,
   "metadata": {},
   "outputs": [],
   "source": [
    "# Clustering based on salient features \n",
    "\n",
    "d = np.array([val in [2,3] for val in geneVec])\n",
    "data = SFARI_data[d,:,:,:]\n",
    "dxArr = geneVec[d]\n",
    "lbls = ugene[1::]\n",
    "\n",
    "bnpc = BayesianGaussianMixture(covariance_prior=None,covariance_type='full',degrees_of_freedom_prior=None,init_params='kmeans',max_iter=10000, mean_precision_prior=None,mean_prior=None,n_components=10,n_init=100,random_state=None,reg_covar=1e-06,tol=0.001,verbose=0,verbose_interval=10,warm_start=False,weight_concentration_prior=None,weight_concentration_prior_type='dirichlet_process')\n",
    "cid = bnpc.fit_predict(np.array(encs[1](data)[2]))\n",
    "\n",
    "lbls = [str(u) for u in np.unique(cid)];\n",
    "dxArr = cid\n",
    "project_data(data,dxArr=cid,lbls=lbls)"
   ]
  },
  {
   "cell_type": "code",
   "execution_count": null,
   "metadata": {},
   "outputs": [],
   "source": [
    "# Clustering based on VAE features \n",
    "d = np.array([val in [2,3] for val in geneVec])\n",
    "data = SFARI_data[d,:,:,:]\n",
    "dxArr = geneVec[d]\n",
    "lbls = ugene[1::]\n",
    "\n",
    "bnpc = BayesianGaussianMixture(covariance_prior=None,covariance_type='full',degrees_of_freedom_prior=None,init_params='kmeans',max_iter=10000, mean_precision_prior=None,mean_prior=None,n_components=10,n_init=100,random_state=None,reg_covar=1e-06,tol=0.001,verbose=0,verbose_interval=10,warm_start=False,weight_concentration_prior=None,weight_concentration_prior_type='dirichlet_process')\n",
    "cid = bnpc.fit_predict(np.array(encs[2](data)[2]))\n",
    "\n",
    "lbls = [str(u) for u in np.unique(cid)];\n",
    "dxArr = cid\n",
    "project_data(data,dxArr=cid,lbls=lbls)"
   ]
  },
  {
   "cell_type": "markdown",
   "metadata": {},
   "source": [
    "## SFARI (CASE-CONTROL MATCHED)"
   ]
  },
  {
   "cell_type": "code",
   "execution_count": null,
   "metadata": {},
   "outputs": [],
   "source": [
    "# Age and Gender matched del and dupl subjects\n",
    "# Salient space seems to better differentiate them (only 4 subjects though)\n",
    "#\n",
    "#\n",
    "\n",
    "dd = np.zeros(snsubs)\n",
    "v1 = dfs['family_type'].values=='16p-duplication'\n",
    "v2 = dfs['age_years'].values < 10\n",
    "targ = v1*v2\n",
    "ccidx = np.array(getCaseMatch(targ,do_plot=False,control='16p-deletion'))\n",
    "dd[targ]=1;dd[np.array(ccidx)]=2;d = dd!=0\n",
    "project_data(SFARI_data[d,:,:,:],dd[d],['DUPL','DEL'])"
   ]
  },
  {
   "cell_type": "code",
   "execution_count": null,
   "metadata": {},
   "outputs": [],
   "source": []
  },
  {
   "cell_type": "code",
   "execution_count": null,
   "metadata": {},
   "outputs": [],
   "source": [
    "# Case matched ASD and TD subjects (all have 16p-deletion) \n",
    "# No clear differentiation\n",
    "\n",
    "dd = np.zeros(snsubs)\n",
    "v1 = dfs['clinical_asd_dx'].values=='1'\n",
    "v2 = dfs['age_years'].values < 10\n",
    "targ = v1\n",
    "ccidx = np.array(getCaseMatch(targ,do_plot=False,control=ugene[2]))\n",
    "dd[targ]=1;dd[np.array(ccidx)]=2;d = dd!=0\n",
    "project_data(SFARI_data[d,:,:,:],dd[d],['ASD','TD']);plt.ylim(.0,1)\n",
    "#print(dfs['family_type'].values[dfs['clinical_asd_dx'].values=='1'])"
   ]
  },
  {
   "cell_type": "markdown",
   "metadata": {},
   "source": [
    "# ALTERNATIVE EXPLANATIONS of CLUSTERING"
   ]
  },
  {
   "cell_type": "code",
   "execution_count": null,
   "metadata": {},
   "outputs": [],
   "source": [
    "space_bg_abide = np.array(encs[0].predict(ABIDE_data)[2]) # background space\n",
    "space_sl_abide = np.array(encs[1].predict(ABIDE_data)[2]) # salient space\n",
    "space_vae_abide = np.array(encs[2].predict(ABIDE_data)[2])# vae space"
   ]
  },
  {
   "cell_type": "code",
   "execution_count": null,
   "metadata": {},
   "outputs": [],
   "source": [
    "if space_bg_abide.shape[1] > 2:\n",
    "    space_bg_abide = dim_reduce(space_bg_abide,method='UMAP')\n",
    "    space_sl_abide = dim_reduce(space_sl_abide,method='UMAP')\n",
    "    space_sl_abide = dim_reduce(space_vae_abide,method='UMAP')"
   ]
  },
  {
   "cell_type": "code",
   "execution_count": null,
   "metadata": {},
   "outputs": [],
   "source": [
    "patients = df['Subject Type'].values=='PATIENT'\n",
    "controls = df['Subject Type'].values=='CONTROL'\n",
    "all_subs = patients+controls"
   ]
  },
  {
   "cell_type": "code",
   "execution_count": null,
   "metadata": {},
   "outputs": [],
   "source": [
    "def plot_cscatter(dxArr,v=np.arange(len(df)),clbl=None,clim=None):\n",
    "    space_lbls = ['background','salient','VAE']\n",
    "    spaces = [space_bg_abide, space_sl_abide, space_vae_abide]\n",
    "    sub_slices = [controls,patients,patients]\n",
    "    \n",
    "    plt.figure(figsize=(15,5))\n",
    "    for i in range(3):\n",
    "        plt.subplot(1,3,i+1)\n",
    "        space = spaces[i]\n",
    "        v = sub_slices[i]\n",
    "        plt.scatter(space[v,0],space[v,1],c=dxArr[v])\n",
    "        if clim:\n",
    "            plt.clim(clim[0],clim[1])\n",
    "        cbar = plt.colorbar()\n",
    "        #cbar.ax.set_ylabel(clbl, rotation=270)\n",
    "        cbar.ax.set_ylabel(clbl, rotation=270,labelpad=20,fontsize=16,fontweight='bold')\n",
    "        plt.title(space_lbls[i],fontsize=16,fontweight='bold')\n",
    "\n",
    "    plt.subplots_adjust(\n",
    "        left=None,\n",
    "        bottom=None,\n",
    "        right=None,\n",
    "        top=None,\n",
    "        wspace=.3,\n",
    "        hspace=None,)"
   ]
  },
  {
   "cell_type": "code",
   "execution_count": null,
   "metadata": {},
   "outputs": [],
   "source": []
  },
  {
   "cell_type": "code",
   "execution_count": null,
   "metadata": {},
   "outputs": [],
   "source": [
    "# Dots coloured by age (z scored)\n",
    "ages = df['AgeAtScan'].values\n",
    "agesz = (ages-ages.mean())/ages.std()\n",
    "plot_cscatter(agesz,clbl='Age z',clim=(-1,1))"
   ]
  },
  {
   "cell_type": "code",
   "execution_count": null,
   "metadata": {},
   "outputs": [],
   "source": [
    "# Dots coloured by gender. 1=Male, 2=Female\n",
    "gender = df['Sex'].values\n",
    "plot_cscatter(gender,clbl='gender',clim=(1,2))"
   ]
  },
  {
   "cell_type": "code",
   "execution_count": null,
   "metadata": {},
   "outputs": [],
   "source": [
    "# Dots coliured by FIQ (Fluid IQ?)\n",
    "\n",
    "fiq = df['FIQ'].values\n",
    "fiq[abs(df['FIQ'].values)>200]=np.nan\n",
    "plot_cscatter(fiq,clbl='FIQ',clim=(100,130),v=patients)"
   ]
  },
  {
   "cell_type": "code",
   "execution_count": null,
   "metadata": {},
   "outputs": [],
   "source": [
    "sns.distplot(df['FIQ'].values)\n",
    "plt.title('FIQ scores (all subjects)')"
   ]
  },
  {
   "cell_type": "code",
   "execution_count": null,
   "metadata": {},
   "outputs": [],
   "source": [
    "# DSM IV ASD categories\n",
    "\n",
    "def numerize(val):\n",
    "    try:\n",
    "        return int(val)\n",
    "    except:\n",
    "        return 0\n",
    "    \n",
    "DSMIVTR = [numerize(val) for val in df['DSMIVTR'].values]\n",
    "DSMIVTR = np.array(DSMIVTR)\n",
    "plot_cscatter(DSMIVTR,clbl='DSMIVTR',clim=None,v=patients)\n",
    "\n",
    "plt.figure()\n",
    "sns.distplot(DSMIVTR)\n",
    "plt.title('DSM diagnosis categories')"
   ]
  },
  {
   "cell_type": "markdown",
   "metadata": {},
   "source": [
    " "
   ]
  },
  {
   "cell_type": "code",
   "execution_count": null,
   "metadata": {},
   "outputs": [],
   "source": [
    "# Brain volume\n",
    "#\n",
    "\n",
    "head_size = np.array(np.reshape(ABIDE_data,(ABIDE_data.shape[0],-1))>.02).sum(axis=1)\n",
    "head_sizez = (head_size-head_size.mean())/head_size.std()\n",
    "plot_cscatter(head_sizez,clbl='brain size (z)',clim=(-1,1),v=controls)"
   ]
  },
  {
   "cell_type": "code",
   "execution_count": null,
   "metadata": {},
   "outputs": [],
   "source": [
    "df2 = pd.read_csv('/Users/aidasaglinskas/Desktop/BC-MRI-AE/CSVs/ABIDE_BIDS_PATHS.csv',index_col=0)\n",
    "df2.index=np.arange(len(df2))\n",
    "df2 = df2.iloc[np.array([df2['subID'].values[s] in df['BIDS_ID'].values for s in np.arange(len(df2))])]\n",
    "df2.index=np.arange(len(df2))\n",
    "df2 = df2.sort_values('subID')\n",
    "df2.index=np.arange(len(df2))\n",
    "print(f'{len(df2)}/{len(df)}')\n",
    "n = len(df2)\n",
    "df2.head()\n",
    "\n",
    "assert len(df2)==len(df), 'different lenghts of CSVs'\n",
    "assert all(np.array([df2['subID'].values[s]==df['BIDS_ID'].values[s] for s in np.arange(len(df))])),'mismatch between CSV orders'"
   ]
  },
  {
   "cell_type": "code",
   "execution_count": null,
   "metadata": {},
   "outputs": [],
   "source": [
    "def numerize(vec):\n",
    "    #vec = center\n",
    "    vec = np.array(vec)\n",
    "    numVec = np.zeros(vec.shape[0])\n",
    "    u = np.unique(vec)\n",
    "    n_u = len(u)\n",
    "    for i in range(n_u):\n",
    "        numVec[vec==u[i]]=i\n",
    "\n",
    "    return numVec"
   ]
  },
  {
   "cell_type": "code",
   "execution_count": null,
   "metadata": {},
   "outputs": [],
   "source": [
    "center = [line.split('/')[6] for line in df2['sub_path'].values]\n",
    "scanner = [line.split('/')[8] for line in df2['sub_path'].values]"
   ]
  },
  {
   "cell_type": "code",
   "execution_count": null,
   "metadata": {},
   "outputs": [],
   "source": [
    "# Scanner type\n",
    "plot_cscatter(numerize(scanner),clbl='scannner')\n",
    "print(np.unique(scanner))"
   ]
  },
  {
   "cell_type": "code",
   "execution_count": null,
   "metadata": {},
   "outputs": [],
   "source": [
    "# Scanning center\n",
    "plot_cscatter(numerize(center),clbl='center')\n",
    "print(np.unique(center))"
   ]
  },
  {
   "cell_type": "code",
   "execution_count": null,
   "metadata": {},
   "outputs": [],
   "source": [
    "project_data(ABIDE_data,dxArr=numerize(scanner),lbls=np.unique(scanner),legend=False)"
   ]
  },
  {
   "cell_type": "code",
   "execution_count": null,
   "metadata": {},
   "outputs": [],
   "source": [
    "project_data(ABIDE_data,dxArr=numerize(center),lbls=np.unique(center),legend=False)"
   ]
  },
  {
   "cell_type": "code",
   "execution_count": null,
   "metadata": {},
   "outputs": [],
   "source": []
  },
  {
   "cell_type": "code",
   "execution_count": null,
   "metadata": {},
   "outputs": [],
   "source": []
  },
  {
   "cell_type": "markdown",
   "metadata": {},
   "source": [
    "# RSA analyses"
   ]
  },
  {
   "cell_type": "code",
   "execution_count": null,
   "metadata": {},
   "outputs": [],
   "source": [
    "patients = df['Subject Type'].values=='PATIENT'\n",
    "controls = df['Subject Type'].values=='CONTROL'\n",
    "all_subs = patients+controls\n",
    "\n",
    "#space_bg_abide = np.array(encs[0].predict(ABIDE_data)[2])\n",
    "#space_sl_abide = np.array(encs[1].predict(ABIDE_data)[2])\n",
    "#space_vae_abide = np.array(encs[2].predict(ABIDE_data)[2])\n",
    "\n",
    "# if space_bg_abide.shape[1] > 2:\n",
    "#     space_bg_abide = dim_reduce(space_bg_abide)\n",
    "#     space_sl_abide = dim_reduce(space_sl_abide)\n",
    "#     space_vae_abide = dim_reduce(space_vae_abide)"
   ]
  },
  {
   "cell_type": "code",
   "execution_count": null,
   "metadata": {},
   "outputs": [],
   "source": []
  },
  {
   "cell_type": "code",
   "execution_count": null,
   "metadata": {},
   "outputs": [],
   "source": [
    "#available_metrics = ['braycurtis', 'canberra', 'chebyshev', 'cityblock', 'correlation', 'cosine', 'dice', 'euclidean', 'hamming', 'jaccard', 'jensenshannon', 'kulsinski', 'mahalanobis', 'matching', 'minkowski', 'rogerstanimoto', 'russellrao', 'seuclidean', 'sokalmichener', 'sokalsneath', 'sqeuclidean', 'yule']\n",
    "dist_met = 'euclidean'\n",
    "print(dist_met)"
   ]
  },
  {
   "cell_type": "code",
   "execution_count": null,
   "metadata": {},
   "outputs": [],
   "source": [
    "def norm(mat):\n",
    "    return (mat-mat.min())/(mat.max()-mat.min())"
   ]
  },
  {
   "cell_type": "code",
   "execution_count": null,
   "metadata": {},
   "outputs": [],
   "source": [
    "v = patients\n",
    "RDM_age = norm(1-squareform(pdist(agesz[v][:,np.newaxis],metric=dist_met)))\n",
    "RDM_gender  = norm(1-squareform(pdist(gender[v][:,np.newaxis],metric=dist_met)))\n",
    "RDM_fiq  = norm(1-squareform(pdist(fiq[v][:,np.newaxis],metric=dist_met)))\n",
    "RDM_dsm  = norm(1-squareform(pdist(DSMIVTR[v][:,np.newaxis],metric=dist_met)))\n",
    "RDM_headsize  = norm(1-squareform(pdist(head_sizez[v][:,np.newaxis],metric=dist_met)))"
   ]
  },
  {
   "cell_type": "code",
   "execution_count": null,
   "metadata": {},
   "outputs": [],
   "source": [
    "modelRDMs = [RDM_age, RDM_gender, RDM_dsm, RDM_headsize]\n",
    "modelRDM_titles = ['Age RDM','Gender RDM', 'DSM RDM', 'Brain vol RDM']"
   ]
  },
  {
   "cell_type": "markdown",
   "metadata": {},
   "source": [
    "## RDM plots of Age, Gender, DSM and brain volume"
   ]
  },
  {
   "cell_type": "code",
   "execution_count": null,
   "metadata": {},
   "outputs": [],
   "source": [
    "plt.figure(figsize=(10,8))\n",
    "for i in range(4):\n",
    "    plt.subplot(2,2,i+1)\n",
    "    sns.heatmap(modelRDMs[i])\n",
    "    plt.xticks([]);plt.yticks([])\n",
    "    plt.title(modelRDM_titles[i])"
   ]
  },
  {
   "cell_type": "markdown",
   "metadata": {},
   "source": [
    "## Background, Salient and VAE RDM plots for ASD subjects (euclidean distance)"
   ]
  },
  {
   "cell_type": "code",
   "execution_count": null,
   "metadata": {},
   "outputs": [],
   "source": [
    "RDM_vae = norm(1-squareform(pdist(space_vae_abide[v], metric=dist_met)))\n",
    "RDM_bg = norm(1-squareform(pdist(space_bg_abide[v], metric=dist_met)))\n",
    "RDM_sl = norm(1-squareform(pdist(space_sl_abide[v], metric=dist_met)))\n",
    "\n",
    "targ_RDMs = [RDM_vae,RDM_bg,RDM_sl]\n",
    "targ_RDM_labels = ['VAE RDM','Background RDM','Salient RDM']\n",
    "\n",
    "\n",
    "space_lbls = ['background','salient','VAE']\n",
    "mats = [RDM_vae,RDM_bg,RDM_sl]\n",
    "plt.figure(figsize=(15,5))\n",
    "for i in range(3):\n",
    "    plt.subplot(1,3,i+1)\n",
    "    mat = mats[i]\n",
    "    plt.imshow(mat)\n",
    "    cbar = plt.colorbar(fraction=0.046, pad=0.04)\n",
    "    plt.title(space_lbls[i])"
   ]
  },
  {
   "cell_type": "code",
   "execution_count": null,
   "metadata": {},
   "outputs": [],
   "source": [
    "def triu(inMat):\n",
    "    '''return upper triangle values'''\n",
    "    assert inMat.shape[0]==inMat.shape[1], 'mat not symetrical'\n",
    "    n = inMat.shape[0]\n",
    "    vec = inMat[np.triu_indices(n,1)]\n",
    "    return vec"
   ]
  },
  {
   "cell_type": "code",
   "execution_count": null,
   "metadata": {},
   "outputs": [],
   "source": [
    "sim = np.corrcoef(np.array([triu(mat) for mat in mats]))\n",
    "sim = np.triu(sim,k=1)\n",
    "sns.heatmap(sim,annot=True);\n",
    "plt.xticks(np.arange(sim.shape[0])+.5,labels=space_lbls);\n",
    "plt.yticks(np.arange(sim.shape[0])+.5,labels=space_lbls,rotation=0);\n",
    "plt.title('Similarity between spaces');"
   ]
  },
  {
   "cell_type": "markdown",
   "metadata": {},
   "source": [
    "## RSA results (ASD patients)"
   ]
  },
  {
   "cell_type": "code",
   "execution_count": null,
   "metadata": {},
   "outputs": [],
   "source": [
    "def plot_groupBar(arr):\n",
    "    colors = [(0.12156862745098039, 0.4666666666666667, 0.7058823529411765),\n",
    "     (1.0, 0.4980392156862745, 0.054901960784313725),\n",
    "     (0.17254901960784313, 0.6274509803921569, 0.17254901960784313),\n",
    "     (0.8392156862745098, 0.15294117647058825, 0.1568627450980392),\n",
    "     (0.5803921568627451, 0.403921568627451, 0.7411764705882353)]\n",
    "    for i in range(arr.shape[1]):\n",
    "        x = i+1;\n",
    "        plt.bar(i-.25,arr[0,i],color=colors[0],width=.45);\n",
    "        plt.bar(i+.25,arr[1,i],color=colors[1],width=.45);\n",
    "\n",
    "    plt.xticks(np.arange(arr.shape[1]),labels=targ_RDM_labels);\n",
    "    plt.legend(['TD','ASD'])"
   ]
  },
  {
   "cell_type": "code",
   "execution_count": null,
   "metadata": {},
   "outputs": [],
   "source": [
    "targ_RDMs = [RDM_vae,RDM_bg,RDM_sl]\n",
    "targ_RDM_labels = ['VAE RDM','Background RDM','Salient RDM']\n",
    "\n",
    "modelRDMs = [RDM_age, RDM_gender, RDM_dsm, RDM_headsize]\n",
    "modelRDM_titles = ['Age RDM','Gender RDM', 'DSM RDM', 'Brain vol RDM']\n",
    "\n",
    "print([m.shape for m in modelRDMs])\n",
    "print([t.shape for t in targ_RDMs])\n",
    "\n",
    "nTarg = len(targ_RDMs)\n",
    "nModel = len(modelRDMs)\n",
    "rsa_res = np.zeros((nTarg,nModel))\n",
    "\n",
    "for t in range(nTarg):\n",
    "    for m in range(nModel):\n",
    "        rsa_res[t,m] = np.corrcoef(triu(targ_RDMs[t]),triu(modelRDMs[m]))[0,1]\n",
    "        \n",
    "plt.figure(figsize=(10,8))\n",
    "for i in range(4):\n",
    "    plt.subplot(2,2,i+1)\n",
    "    plt.bar(np.arange(nTarg),rsa_res[:,i])\n",
    "    plt.xticks(np.arange(nTarg),targ_RDM_labels)\n",
    "    plt.title(modelRDM_titles[i])\n",
    "\n",
    "    \n"
   ]
  },
  {
   "cell_type": "code",
   "execution_count": null,
   "metadata": {},
   "outputs": [],
   "source": [
    "plt.figure(figsize=(15,5))\n",
    "plt.subplot(1,2,2)\n",
    "vv = np.array(df['Subject Type'].values=='CONTROL') #* ~np.isnan(df['FIQ'].values)\n",
    "m = triu(norm(1-squareform(pdist(df['Sex'].values[vv][:,np.newaxis],metric=dist_met))))\n",
    "T = np.array([1-triu(norm(squareform(pdist(space[vv], metric=dist_met)))) for space in [space_vae_abide,space_bg_abide,space_sl_abide]])\n",
    "arr1 = np.array([np.corrcoef(m,T[i,:])[0,1] for i in range(3)])\n",
    "plt.bar([0,1,2],arr1)\n",
    "plt.xticks(np.arange(nTarg),targ_RDM_labels)\n",
    "plt.title('Gender CONTROL')\n",
    "#plt.ylim(0,1)\n",
    "\n",
    "plt.subplot(1,2,1)\n",
    "vv = np.array(df['Subject Type'].values=='PATIENT') #* ~np.isnan(df['FIQ'].values)\n",
    "m = triu(norm(1-squareform(pdist(df['Sex'].values[vv][:,np.newaxis],metric=dist_met))))\n",
    "T = np.array([1-triu(norm(squareform(pdist(space[vv], metric=dist_met)))) for space in [space_vae_abide,space_bg_abide,space_sl_abide]])\n",
    "arr2 = np.array([np.corrcoef(m,T[i,:])[0,1] for i in range(3)])\n",
    "plt.bar([0,1,2],arr2)\n",
    "plt.xticks(np.arange(nTarg),targ_RDM_labels)\n",
    "plt.title('Gender PATIENT')\n",
    "#plt.ylim(0,1)\n",
    "\n",
    "plt.figure()\n",
    "plot_groupBar(np.vstack((arr1,arr2)))"
   ]
  },
  {
   "cell_type": "code",
   "execution_count": null,
   "metadata": {},
   "outputs": [],
   "source": [
    "plt.figure(figsize=(15,5))\n",
    "plt.subplot(1,2,2)\n",
    "vv = np.array(df['Subject Type'].values=='CONTROL') * ~np.isnan(df['FIQ'].values)\n",
    "m = triu(norm(1-squareform(pdist(df['FIQ'].values[vv][:,np.newaxis],metric=dist_met))))\n",
    "T = np.array([1-triu(norm(squareform(pdist(space[vv], metric=dist_met)))) for space in [space_vae_abide,space_bg_abide,space_sl_abide]])\n",
    "arr1 = np.array([np.corrcoef(m,T[i,:])[0,1] for i in range(3)])\n",
    "plt.bar([0,1,2],arr1)\n",
    "plt.xticks(np.arange(nTarg),targ_RDM_labels)\n",
    "plt.title('Gender CONTROL')\n",
    "#plt.ylim(0,1)\n",
    "\n",
    "plt.subplot(1,2,1)\n",
    "vv = np.array(df['Subject Type'].values=='PATIENT') * ~np.isnan(df['FIQ'].values)\n",
    "m = triu(norm(1-squareform(pdist(df['FIQ'].values[vv][:,np.newaxis],metric=dist_met))))\n",
    "T = np.array([1-triu(norm(squareform(pdist(space[vv], metric=dist_met)))) for space in [space_vae_abide,space_bg_abide,space_sl_abide]])\n",
    "arr2 = np.array([np.corrcoef(m,T[i,:])[0,1] for i in range(3)])\n",
    "plt.bar([0,1,2],arr2)\n",
    "plt.xticks(np.arange(nTarg),targ_RDM_labels)\n",
    "plt.title('Gender PATIENT')\n",
    "#plt.ylim(0,1)\n",
    "\n",
    "plt.figure()\n",
    "plot_groupBar(np.vstack((arr1,arr2)))"
   ]
  },
  {
   "cell_type": "code",
   "execution_count": null,
   "metadata": {},
   "outputs": [],
   "source": [
    "plt.figure(figsize=(15,5))\n",
    "plt.subplot(1,2,2)\n",
    "vv = np.array(df['Subject Type'].values=='CONTROL') * ~np.isnan(df['FIQ'].values)\n",
    "m = triu(norm(1-squareform(pdist(df['AgeAtScan'].values[vv][:,np.newaxis],metric=dist_met))))\n",
    "T = np.array([1-triu(norm(squareform(pdist(space[vv], metric=dist_met)))) for space in [space_vae_abide,space_bg_abide,space_sl_abide]])\n",
    "arr1 = np.array([np.corrcoef(m,T[i,:])[0,1] for i in range(3)])\n",
    "plt.bar([0,1,2],arr1)\n",
    "plt.xticks(np.arange(nTarg),targ_RDM_labels)\n",
    "plt.title('AgeAtScan CONTROL')\n",
    "#plt.ylim(0,1)\n",
    "\n",
    "plt.subplot(1,2,1)\n",
    "vv = np.array(df['Subject Type'].values=='PATIENT') * ~np.isnan(df['FIQ'].values)\n",
    "m = triu(norm(1-squareform(pdist(df['AgeAtScan'].values[vv][:,np.newaxis],metric=dist_met))))\n",
    "T = np.array([1-triu(norm(squareform(pdist(space[vv], metric=dist_met)))) for space in [space_vae_abide,space_bg_abide,space_sl_abide]])\n",
    "arr2 = np.array([np.corrcoef(m,T[i,:])[0,1] for i in range(3)])\n",
    "plt.bar([0,1,2],arr2)\n",
    "plt.xticks(np.arange(nTarg),targ_RDM_labels)\n",
    "plt.title('AgeAtScan PATIENT')\n",
    "#plt.ylim(0,1)\n",
    "\n",
    "plt.figure()\n",
    "plot_groupBar(np.vstack((arr1,arr2)))"
   ]
  },
  {
   "cell_type": "code",
   "execution_count": null,
   "metadata": {},
   "outputs": [],
   "source": [
    "#vv = np.array(df['Subject Type'].values=='PATIENT') * ~np.isnan(df['FIQ'].values)\n",
    "vv = all_subs\n",
    "RDM_dsm  = norm(1-squareform(pdist(DSMIVTR[vv][:,np.newaxis],metric=dist_met)))\n",
    "m = triu(RDM_dsm)\n",
    "T = np.array([1-triu(norm(squareform(pdist(space[vv], metric=dist_met)))) for space in [space_vae_abide,space_bg_abide,space_sl_abide]])\n",
    "plt.bar([0,1,2],arr2)\n",
    "plt.xticks(np.arange(nTarg),targ_RDM_labels)\n",
    "plt.title('DSM category')\n",
    "\n"
   ]
  },
  {
   "cell_type": "code",
   "execution_count": null,
   "metadata": {},
   "outputs": [],
   "source": []
  },
  {
   "cell_type": "code",
   "execution_count": null,
   "metadata": {},
   "outputs": [],
   "source": []
  },
  {
   "cell_type": "code",
   "execution_count": null,
   "metadata": {},
   "outputs": [],
   "source": [
    "patients = df['Subject Type'].values=='PATIENT'\n",
    "controls = df['Subject Type'].values=='CONTROL'\n",
    "all_subs = patients+controls\n",
    "\n",
    "space_bg_abide = np.array(encs[0].predict(ABIDE_data)[2])\n",
    "space_sl_abide = np.array(encs[1].predict(ABIDE_data)[2])\n",
    "space_vae_abide = np.array(encs[2].predict(ABIDE_data)[2])"
   ]
  },
  {
   "cell_type": "code",
   "execution_count": null,
   "metadata": {},
   "outputs": [],
   "source": [
    "bv = dict()"
   ]
  },
  {
   "cell_type": "code",
   "execution_count": null,
   "metadata": {},
   "outputs": [],
   "source": [
    "bv['center'] = np.array(center)\n",
    "bv['scanner'] = np.array(scanner)\n",
    "bv['head_size'] = np.array(head_size )\n",
    "bv['head_sizez'] = np.array(head_sizez)\n",
    "bv['DSMIVTR'] = np.array(DSMIVTR)\n",
    "bv['fiq'] = np.array(fiq)\n",
    "bv['gender'] = np.array(gender)\n",
    "bv['agesz'] = np.array(agesz)\n",
    "bv['diag'] = np.array(controls*1)+np.array(patients*2)"
   ]
  },
  {
   "cell_type": "code",
   "execution_count": null,
   "metadata": {},
   "outputs": [],
   "source": [
    "def tabulate(vec):\n",
    "    u = np.unique(vec)\n",
    "    n = len(u)\n",
    "    tab = np.zeros((n,2))\n",
    "\n",
    "    for i in range(n):\n",
    "        #tab[i,0] = u[i]\n",
    "        tab[i,0] = sum(vec==u[i])\n",
    "        tab[i,1] = sum(vec==u[i])/len(vec)\n",
    "        \n",
    "        tab[i,1] = tab[i,1].round(3)\n",
    "        tab[i,0] = int(tab[i,0])\n",
    "\n",
    "    f = pd.DataFrame(columns=['name','count','perc'])\n",
    "    f['name']=u;f['count']=tab[:,0];f['perc']=tab[:,1]\n",
    "    f = f.sort_values('count',ascending=False)\n",
    "    f.head()\n",
    "    return f"
   ]
  },
  {
   "cell_type": "code",
   "execution_count": null,
   "metadata": {},
   "outputs": [],
   "source": [
    "#from imblearn.under_sampling import TomekLinkstl = TomekLinks(return_indices=True, ratio='majority')X_tl, y_tl, id_tl = tl.fit_sample(X, y)"
   ]
  },
  {
   "cell_type": "code",
   "execution_count": null,
   "metadata": {},
   "outputs": [],
   "source": []
  },
  {
   "cell_type": "code",
   "execution_count": null,
   "metadata": {},
   "outputs": [],
   "source": [
    "from sklearn.model_selection import train_test_split\n",
    "from sklearn.model_selection import cross_validate\n",
    "from sklearn.neighbors import KNeighborsClassifier\n",
    "from sklearn.discriminant_analysis import LinearDiscriminantAnalysis\n",
    "from scipy.stats import ttest_ind\n",
    "\n",
    "\n",
    "from imblearn.ensemble import BalancedBaggingClassifier\n",
    "from imblearn.ensemble import BalancedRandomForestClassifier"
   ]
  },
  {
   "cell_type": "code",
   "execution_count": null,
   "metadata": {},
   "outputs": [],
   "source": [
    "#3BalancedRandomForestClassifier().fit(np.random.rand(10,2),np.repeat(1,11))"
   ]
  },
  {
   "cell_type": "code",
   "execution_count": null,
   "metadata": {},
   "outputs": [],
   "source": [
    "from sklearn.linear_model import LogisticRegression"
   ]
  },
  {
   "cell_type": "code",
   "execution_count": null,
   "metadata": {},
   "outputs": [],
   "source": [
    "((df['Sex'].values==2)*(df['DxGroup'].values==1)).sum()"
   ]
  },
  {
   "cell_type": "code",
   "execution_count": null,
   "metadata": {},
   "outputs": [],
   "source": [
    "def fit_clf(y,vv):\n",
    "    #spaces = [space_vae_abide,space_bg_abide,space_sl_abide]\n",
    "    spaces = [space_vae_abide,space_bg_abide,space_sl_abide,np.hstack((space_bg_abide,space_sl_abide))]\n",
    "    accs,ses,arrs = list(),list(),list()\n",
    "    for x in spaces:\n",
    "        x = x[vv]\n",
    "        #clf = KNeighborsClassifier(n_neighbors=15)\n",
    "        clf = LogisticRegression(penalty='l2', dual=False, tol=0.0001, C=1.0, fit_intercept=True, intercept_scaling=1, class_weight='balanced', random_state=None, solver='lbfgs', max_iter=1000, multi_class='auto', verbose=0, warm_start=False, n_jobs=None, l1_ratio=None)\n",
    "        clf.fit(x,y)\n",
    "        res = cross_validate(clf, x, y, cv=3)['test_score']\n",
    "        \n",
    "        arrs.append(res)\n",
    "        acc = res.mean()    \n",
    "        se = res.std()\n",
    "        accs.append(acc)\n",
    "        ses.append(se)\n",
    "\n",
    "    plt.bar(np.arange(len(spaces)),accs);\n",
    "    plt.errorbar(np.arange(len(spaces)),accs,ses,fmt='r.')\n",
    "    plt.xticks(np.arange(len(spaces)),labels=['vae','bg','sl','bg+sl']);\n",
    "    \n",
    "    balanced=True\n",
    "    if balanced:\n",
    "        plt.plot(np.arange(-.5,len(spaces)+.5),np.repeat(1/len(np.unique(y)),len(spaces)+1),'k-.',alpha=.3)\n",
    "    else:    \n",
    "        plt.plot(np.arange(-.5,len(spaces)+.5),np.repeat(tabulate(y)['perc'].values.max(),len(spaces)+1),'k-.',alpha=.3)"
   ]
  },
  {
   "cell_type": "code",
   "execution_count": null,
   "metadata": {},
   "outputs": [],
   "source": [
    "space_bg_abide = np.array(encs[0].predict(ABIDE_data)[2])\n",
    "space_sl_abide = np.array(encs[1].predict(ABIDE_data)[2])\n",
    "space_vae_abide = np.array(encs[2].predict(ABIDE_data)[2])"
   ]
  },
  {
   "cell_type": "code",
   "execution_count": null,
   "metadata": {},
   "outputs": [],
   "source": [
    "print(bv.keys())"
   ]
  },
  {
   "cell_type": "code",
   "execution_count": null,
   "metadata": {},
   "outputs": [],
   "source": [
    "plt.figure(figsize=(12,15))\n",
    "plt.subplot(3,3,1);vv = patients;y = numerize(bv['center'])[vv];fit_clf(y,vv);plt.title('scanning center')\n",
    "plt.subplot(3,3,2);vv = patients*df['AgeAtScan'].values > 18;y = numerize(bv['DSMIVTR'])[vv];fit_clf(y,vv);plt.title('DSMIVTR: ADULTS')\n",
    "\n",
    "plt.subplot(3,3,3);vv = patients*df['AgeAtScan'].values > 28;y = numerize(bv['gender'])[vv];fit_clf(y,vv);plt.title('GENDER')\n",
    "\n",
    "\n",
    "plt.subplot(3,3,4);vv = (all_subs*df['AgeAtScan'].values > 18)*df['Sex'].values!=3;y = numerize(bv['diag'])[vv];fit_clf(y,vv);plt.title('DX: Adults')\n",
    "plt.subplot(3,3,5);vv = (all_subs*df['AgeAtScan'].values < 12)*df['Sex'].values==1;y = numerize(bv['diag'])[vv];fit_clf(y,vv);plt.title('DX: Children')"
   ]
  },
  {
   "cell_type": "code",
   "execution_count": null,
   "metadata": {},
   "outputs": [],
   "source": []
  },
  {
   "cell_type": "code",
   "execution_count": null,
   "metadata": {},
   "outputs": [],
   "source": [
    "from sklearn.neighbors import KNeighborsClassifier\n",
    "from sklearn.discriminant_analysis import LinearDiscriminantAnalysis\n",
    "from sklearn.linear_model import LinearRegression\n",
    "\n",
    "def fit_reg(y,vv):\n",
    "    spaces = [space_vae_abide,space_bg_abide,space_sl_abide,np.hstack((space_bg_abide,space_sl_abide))]\n",
    "    accs,ses,arrs = list(),list(),list()\n",
    "    for x in spaces:\n",
    "        x = x[vv]\n",
    "        clf = LinearRegression()\n",
    "        mse = ((clf.fit(x,y).predict(x)-y)**2).mean()\n",
    "        accs.append(1-mse/((y-y.mean())**2).mean())\n",
    "    plt.bar(np.arange(len(spaces)),accs);\n",
    "    plt.xticks(np.arange(len(spaces)),labels=['vae','bg','sl','both']);"
   ]
  },
  {
   "cell_type": "code",
   "execution_count": null,
   "metadata": {},
   "outputs": [],
   "source": []
  },
  {
   "cell_type": "code",
   "execution_count": null,
   "metadata": {},
   "outputs": [],
   "source": []
  },
  {
   "cell_type": "code",
   "execution_count": null,
   "metadata": {},
   "outputs": [],
   "source": [
    "plt.figure(figsize=(12,12))\n",
    "print(bv.keys())\n",
    "\n",
    "plt.subplot(2,2,1);vv = (patients*~np.isnan(df['FIQ'].values))*(df['AgeAtScan'].values<20);y = df['FIQ'].values[vv];fit_reg(y,vv);plt.title('FIQ: patients')\n",
    "plt.ylim(.1,1)\n",
    "plt.subplot(2,2,2);vv = controls*~np.isnan(df['FIQ'].values);y = df['FIQ'].values[vv];fit_reg(y,vv);plt.title('FIQ: controls')\n",
    "plt.ylim(.1,1)\n",
    "\n",
    "plt.subplot(2,2,3);vv = (patients*df['AgeAtScan'].values < 12);y = df['AgeAtScan'].values[vv];fit_reg(y,vv);plt.title('AGE: patients')\n",
    "plt.ylim(.1,1)\n",
    "plt.subplot(2,2,4);vv = (controls*df['AgeAtScan'].values > 18)*df['Sex'].values==1;y = df['AgeAtScan'].values[vv];fit_reg(y,vv);plt.title('AGE: controls')\n",
    "plt.ylim(.1,1)"
   ]
  },
  {
   "cell_type": "code",
   "execution_count": null,
   "metadata": {},
   "outputs": [],
   "source": []
  },
  {
   "cell_type": "code",
   "execution_count": null,
   "metadata": {},
   "outputs": [],
   "source": []
  },
  {
   "cell_type": "code",
   "execution_count": null,
   "metadata": {},
   "outputs": [],
   "source": []
  },
  {
   "cell_type": "code",
   "execution_count": null,
   "metadata": {},
   "outputs": [],
   "source": []
  },
  {
   "cell_type": "code",
   "execution_count": null,
   "metadata": {},
   "outputs": [],
   "source": []
  },
  {
   "cell_type": "code",
   "execution_count": null,
   "metadata": {},
   "outputs": [],
   "source": []
  },
  {
   "cell_type": "code",
   "execution_count": null,
   "metadata": {},
   "outputs": [],
   "source": []
  },
  {
   "cell_type": "code",
   "execution_count": null,
   "metadata": {},
   "outputs": [],
   "source": []
  },
  {
   "cell_type": "code",
   "execution_count": null,
   "metadata": {},
   "outputs": [],
   "source": []
  },
  {
   "cell_type": "code",
   "execution_count": null,
   "metadata": {},
   "outputs": [],
   "source": []
  },
  {
   "cell_type": "code",
   "execution_count": null,
   "metadata": {},
   "outputs": [],
   "source": []
  },
  {
   "cell_type": "code",
   "execution_count": null,
   "metadata": {},
   "outputs": [],
   "source": []
  }
 ],
 "metadata": {
  "kernelspec": {
   "display_name": "Python 3",
   "language": "python",
   "name": "python3"
  },
  "language_info": {
   "codemirror_mode": {
    "name": "ipython",
    "version": 3
   },
   "file_extension": ".py",
   "mimetype": "text/x-python",
   "name": "python",
   "nbconvert_exporter": "python",
   "pygments_lexer": "ipython3",
   "version": "3.8.5"
  }
 },
 "nbformat": 4,
 "nbformat_minor": 4
}

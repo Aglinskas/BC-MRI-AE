{
 "cells": [
  {
   "cell_type": "code",
   "execution_count": 1,
   "metadata": {},
   "outputs": [
    {
     "name": "stdout",
     "output_type": "stream",
     "text": [
      "2.3.1\n"
     ]
    }
   ],
   "source": [
    "# #!pip install tf-nightly==2.5.0.dev20201111 -qqq --progress-bar off\n",
    "import tensorflow as tf\n",
    "print(tf.__version__)\n",
    "# assert tf.__version__== '2.5.0-dev20201111','bad version'"
   ]
  },
  {
   "cell_type": "code",
   "execution_count": 2,
   "metadata": {},
   "outputs": [],
   "source": [
    "#cd /Users/aidasaglinskas/Desktop/BC-MRI-AE/Colab Notebooks"
   ]
  },
  {
   "cell_type": "code",
   "execution_count": 3,
   "metadata": {},
   "outputs": [
    {
     "name": "stdout",
     "output_type": "stream",
     "text": [
      "/mmfs1/data/aglinska/BC-MRI-AE/Colab Notebooks\n"
     ]
    }
   ],
   "source": [
    "cd /mmfs1/data/aglinska/BC-MRI-AE/Colab Notebooks"
   ]
  },
  {
   "cell_type": "code",
   "execution_count": 4,
   "metadata": {},
   "outputs": [
    {
     "name": "stdout",
     "output_type": "stream",
     "text": [
      "0:00:14.922160\n"
     ]
    }
   ],
   "source": [
    "%matplotlib inline\n",
    "from datetime import datetime;now = datetime.now;t00 = now()\n",
    "import os\n",
    "from matplotlib import pyplot as plt\n",
    "import seaborn as sns\n",
    "\n",
    "import numpy as np\n",
    "import pandas as pd\n",
    "from tqdm import tqdm\n",
    "\n",
    "from sklearn.mixture import BayesianGaussianMixture\n",
    "\n",
    "from scipy.spatial.distance import pdist,squareform\n",
    "\n",
    "import pandas as pd\n",
    "from sklearn.metrics import silhouette_score\n",
    "\n",
    "from mri_utils import get_MRI_CVAE_3D,get_MRI_CCVAE_3D\n",
    "\n",
    "\n",
    "from sklearn.decomposition import PCA\n",
    "import pickle\n",
    "import umap\n",
    "\n",
    "print(now()-t00)"
   ]
  },
  {
   "cell_type": "code",
   "execution_count": 5,
   "metadata": {},
   "outputs": [],
   "source": [
    "import bc_mri_ae_utils\n",
    "from bc_mri_ae_utils import *"
   ]
  },
  {
   "cell_type": "code",
   "execution_count": 6,
   "metadata": {},
   "outputs": [
    {
     "name": "stdout",
     "output_type": "stream",
     "text": [
      "/mmfs1/data/aglinska/BC-MRI-AE\n"
     ]
    }
   ],
   "source": [
    "cd ../"
   ]
  },
  {
   "cell_type": "code",
   "execution_count": 7,
   "metadata": {},
   "outputs": [
    {
     "data": {
      "text/html": [
       "<div>\n",
       "<style scoped>\n",
       "    .dataframe tbody tr th:only-of-type {\n",
       "        vertical-align: middle;\n",
       "    }\n",
       "\n",
       "    .dataframe tbody tr th {\n",
       "        vertical-align: top;\n",
       "    }\n",
       "\n",
       "    .dataframe thead th {\n",
       "        text-align: right;\n",
       "    }\n",
       "</style>\n",
       "<table border=\"1\" class=\"dataframe\">\n",
       "  <thead>\n",
       "    <tr style=\"text-align: right;\">\n",
       "      <th></th>\n",
       "      <th>index</th>\n",
       "      <th>BIDS_ID</th>\n",
       "      <th>Anonymized ID</th>\n",
       "      <th>Subject Type</th>\n",
       "      <th>Visit</th>\n",
       "      <th>Days since enrollment</th>\n",
       "      <th>SubID</th>\n",
       "      <th>DxGroup</th>\n",
       "      <th>DSMIVTR</th>\n",
       "      <th>AgeAtScan</th>\n",
       "      <th>...</th>\n",
       "      <th>WISC4 Pic Con Scaled</th>\n",
       "      <th>WISC4 Matrix Scaled</th>\n",
       "      <th>WISC4 Dig Span Scaled</th>\n",
       "      <th>WISC4 Let Num Scaled</th>\n",
       "      <th>WISC4 Coding Scaled</th>\n",
       "      <th>WISC4 Sym Scaled</th>\n",
       "      <th>Age at MPRAGE</th>\n",
       "      <th>Current Med Status</th>\n",
       "      <th>Medication Name</th>\n",
       "      <th>Off stimulants at EPI scan?</th>\n",
       "    </tr>\n",
       "  </thead>\n",
       "  <tbody>\n",
       "    <tr>\n",
       "      <th>0</th>\n",
       "      <td>0</td>\n",
       "      <td>sub-001</td>\n",
       "      <td>A00033348</td>\n",
       "      <td>PATIENT</td>\n",
       "      <td>session_1</td>\n",
       "      <td>8</td>\n",
       "      <td>51320</td>\n",
       "      <td>1</td>\n",
       "      <td>2.0</td>\n",
       "      <td>31.0</td>\n",
       "      <td>...</td>\n",
       "      <td>NaN</td>\n",
       "      <td>NaN</td>\n",
       "      <td>NaN</td>\n",
       "      <td>NaN</td>\n",
       "      <td>NaN</td>\n",
       "      <td>NaN</td>\n",
       "      <td>NaN</td>\n",
       "      <td>0</td>\n",
       "      <td>NaN</td>\n",
       "      <td>NaN</td>\n",
       "    </tr>\n",
       "    <tr>\n",
       "      <th>1</th>\n",
       "      <td>1</td>\n",
       "      <td>sub-002</td>\n",
       "      <td>A00033398</td>\n",
       "      <td>CONTROL</td>\n",
       "      <td>session_1</td>\n",
       "      <td>8</td>\n",
       "      <td>51373</td>\n",
       "      <td>2</td>\n",
       "      <td>0.0</td>\n",
       "      <td>46.0</td>\n",
       "      <td>...</td>\n",
       "      <td>NaN</td>\n",
       "      <td>NaN</td>\n",
       "      <td>NaN</td>\n",
       "      <td>NaN</td>\n",
       "      <td>NaN</td>\n",
       "      <td>NaN</td>\n",
       "      <td>NaN</td>\n",
       "      <td>0</td>\n",
       "      <td>NaN</td>\n",
       "      <td>NaN</td>\n",
       "    </tr>\n",
       "    <tr>\n",
       "      <th>2</th>\n",
       "      <td>2</td>\n",
       "      <td>sub-003</td>\n",
       "      <td>A00033352</td>\n",
       "      <td>PATIENT</td>\n",
       "      <td>session_1</td>\n",
       "      <td>8</td>\n",
       "      <td>51324</td>\n",
       "      <td>1</td>\n",
       "      <td>2.0</td>\n",
       "      <td>52.0</td>\n",
       "      <td>...</td>\n",
       "      <td>NaN</td>\n",
       "      <td>NaN</td>\n",
       "      <td>NaN</td>\n",
       "      <td>NaN</td>\n",
       "      <td>NaN</td>\n",
       "      <td>NaN</td>\n",
       "      <td>NaN</td>\n",
       "      <td>0</td>\n",
       "      <td>NaN</td>\n",
       "      <td>NaN</td>\n",
       "    </tr>\n",
       "    <tr>\n",
       "      <th>3</th>\n",
       "      <td>3</td>\n",
       "      <td>sub-004</td>\n",
       "      <td>A00033389</td>\n",
       "      <td>CONTROL</td>\n",
       "      <td>session_1</td>\n",
       "      <td>8</td>\n",
       "      <td>51364</td>\n",
       "      <td>2</td>\n",
       "      <td>0.0</td>\n",
       "      <td>26.0</td>\n",
       "      <td>...</td>\n",
       "      <td>NaN</td>\n",
       "      <td>NaN</td>\n",
       "      <td>NaN</td>\n",
       "      <td>NaN</td>\n",
       "      <td>NaN</td>\n",
       "      <td>NaN</td>\n",
       "      <td>NaN</td>\n",
       "      <td>0</td>\n",
       "      <td>NaN</td>\n",
       "      <td>NaN</td>\n",
       "    </tr>\n",
       "    <tr>\n",
       "      <th>4</th>\n",
       "      <td>4</td>\n",
       "      <td>sub-005</td>\n",
       "      <td>A00033354</td>\n",
       "      <td>PATIENT</td>\n",
       "      <td>session_1</td>\n",
       "      <td>8</td>\n",
       "      <td>51326</td>\n",
       "      <td>1</td>\n",
       "      <td>2.0</td>\n",
       "      <td>42.0</td>\n",
       "      <td>...</td>\n",
       "      <td>NaN</td>\n",
       "      <td>NaN</td>\n",
       "      <td>NaN</td>\n",
       "      <td>NaN</td>\n",
       "      <td>NaN</td>\n",
       "      <td>NaN</td>\n",
       "      <td>NaN</td>\n",
       "      <td>0</td>\n",
       "      <td>NaN</td>\n",
       "      <td>NaN</td>\n",
       "    </tr>\n",
       "  </tbody>\n",
       "</table>\n",
       "<p>5 rows × 79 columns</p>\n",
       "</div>"
      ],
      "text/plain": [
       "   index  BIDS_ID Anonymized ID Subject Type      Visit  \\\n",
       "0      0  sub-001     A00033348      PATIENT  session_1   \n",
       "1      1  sub-002     A00033398      CONTROL  session_1   \n",
       "2      2  sub-003     A00033352      PATIENT  session_1   \n",
       "3      3  sub-004     A00033389      CONTROL  session_1   \n",
       "4      4  sub-005     A00033354      PATIENT  session_1   \n",
       "\n",
       "   Days since enrollment  SubID  DxGroup  DSMIVTR  AgeAtScan  ...  \\\n",
       "0                      8  51320        1      2.0       31.0  ...   \n",
       "1                      8  51373        2      0.0       46.0  ...   \n",
       "2                      8  51324        1      2.0       52.0  ...   \n",
       "3                      8  51364        2      0.0       26.0  ...   \n",
       "4                      8  51326        1      2.0       42.0  ...   \n",
       "\n",
       "   WISC4 Pic Con Scaled  WISC4 Matrix Scaled  WISC4 Dig Span Scaled  \\\n",
       "0                   NaN                  NaN                    NaN   \n",
       "1                   NaN                  NaN                    NaN   \n",
       "2                   NaN                  NaN                    NaN   \n",
       "3                   NaN                  NaN                    NaN   \n",
       "4                   NaN                  NaN                    NaN   \n",
       "\n",
       "   WISC4 Let Num Scaled WISC4 Coding Scaled WISC4 Sym Scaled Age at MPRAGE  \\\n",
       "0                   NaN                 NaN              NaN           NaN   \n",
       "1                   NaN                 NaN              NaN           NaN   \n",
       "2                   NaN                 NaN              NaN           NaN   \n",
       "3                   NaN                 NaN              NaN           NaN   \n",
       "4                   NaN                 NaN              NaN           NaN   \n",
       "\n",
       "   Current Med Status  Medication Name  Off stimulants at EPI scan?  \n",
       "0                   0              NaN                          NaN  \n",
       "1                   0              NaN                          NaN  \n",
       "2                   0              NaN                          NaN  \n",
       "3                   0              NaN                          NaN  \n",
       "4                   0              NaN                          NaN  \n",
       "\n",
       "[5 rows x 79 columns]"
      ]
     },
     "execution_count": 7,
     "metadata": {},
     "output_type": "execute_result"
    }
   ],
   "source": [
    "# get abide dataframe\n",
    "arr = np.load('./Data/ABIDE-Anat-64iso.npz')\n",
    "ABIDE_data = arr['data']\n",
    "ABIDE_subs = arr['subs']\n",
    "nsubs = ABIDE_data.shape[0]\n",
    "[arr.shape for arr in [ABIDE_subs,ABIDE_data]]\n",
    "\n",
    "aa = np.array([ABIDE_data[s,:,:,:].sum() for s in range(ABIDE_data.shape[0])])<5000\n",
    "ABIDE_data = ABIDE_data[~aa,:,:,:]\n",
    "ABIDE_subs = ABIDE_subs[~aa]\n",
    "[arr.shape for arr in [ABIDE_subs,ABIDE_data]]\n",
    "\n",
    "df = pd.read_csv('./CSVs/ABIDE-legend.csv',header=0)\n",
    "df = df.iloc[np.array([df['BIDS_ID'].values[s] in ABIDE_subs for s in range(len(df))])]\n",
    "df.reset_index(inplace=True)\n",
    "\n",
    "assert len(df)==len(ABIDE_subs),'dif lenghts'\n",
    "assert all([df['BIDS_ID'][s]==ABIDE_subs[s] for s in range(len(df))]),'mismatch between df and goodsubs'\n",
    "\n",
    "df.head(5)"
   ]
  },
  {
   "cell_type": "code",
   "execution_count": 8,
   "metadata": {},
   "outputs": [
    {
     "name": "stdout",
     "output_type": "stream",
     "text": [
      "(500, 64, 64, 64)\n",
      "(456, 64, 64, 64)\n"
     ]
    }
   ],
   "source": [
    "TD_subs = ABIDE_data[np.array(df['Subject Type']=='CONTROL'),:,:,:]\n",
    "DX_subs = ABIDE_data[np.array(df['Subject Type']=='PATIENT'),:,:,:]\n",
    "\n",
    "print(TD_subs.shape)\n",
    "print(DX_subs.shape)"
   ]
  },
  {
   "cell_type": "code",
   "execution_count": 9,
   "metadata": {},
   "outputs": [],
   "source": [
    "dxArr = np.ones(len(df))\n",
    "dxArr[np.array(df['Subject Type']=='PATIENT')]=2"
   ]
  },
  {
   "cell_type": "markdown",
   "metadata": {},
   "source": [
    "### Vanilla VAE with 32 dimensions"
   ]
  },
  {
   "cell_type": "code",
   "execution_count": 10,
   "metadata": {},
   "outputs": [
    {
     "name": "stdout",
     "output_type": "stream",
     "text": [
      "ready\n",
      "loading\n"
     ]
    }
   ],
   "source": [
    "#fn = '/mmfs1/data/aglinska/tf_outputs/VAE/Jan4th'\n",
    "#\n",
    "\n",
    "# latent_dim=2;batch_size=64;disentangle=False;gamma=1\n",
    "# encoder, decoder, vae = get_MRI_CVAE_3D(input_shape=(64, 64, 64, 1), latent_dim=latent_dim, batch_size=batch_size, disentangle=disentangle, gamma=gamma)\n",
    "# fn = '/mmfs1/data/aglinska/tf_outputs/VAE/VAE_2D_b64_NoDis_g1'\n",
    "\n",
    "latent_dim=32;batch_size=64;disentangle=False;gamma=1\n",
    "encoder, decoder, vae = get_MRI_CVAE_3D(input_shape=(64, 64, 64, 1), latent_dim=latent_dim, batch_size=batch_size, disentangle=disentangle, gamma=gamma)\n",
    "fn = '/mmfs1/data/aglinska/tf_outputs/VAE/Jan12th_16d'\n",
    "\n",
    "\n",
    "loss = list()\n",
    "print('ready')\n",
    "if os.path.exists(fn+'_loss.pickle'):\n",
    "    print('loading')\n",
    "    vae.load_weights(fn)\n",
    "    loss = pickle.load(open(fn+'_loss.pickle','rb'))"
   ]
  },
  {
   "cell_type": "code",
   "execution_count": 11,
   "metadata": {},
   "outputs": [],
   "source": [
    "# get convolutional vae (CVAE)\n",
    "#encoder, decoder, vae = get_MRI_CVAE_3D(input_shape=(64, 64, 64, 1), latent_dim=2, batch_size=32, disentangle=False, gamma=1)#\n",
    "#vae.load_weights('../tf_outputs/weights/lol');\n",
    "#vae.load_weights('/Users/aidasaglinskas/Downloads/drive-download-20201208T110626Z-001/Nov23_VAE_32DIM');\n",
    "\n",
    "## VAE, 2 dimensions (Jan 21st)\n",
    "# encoder, decoder, vae = get_MRI_CVAE_3D(input_shape=(64, 64, 64, 1), latent_dim=2, batch_size=64, disentangle=False, gamma=1)#\n",
    "# #fn = '/mmfs1/data/aglinska/tf_outputs/VAE/Jan4th'\n",
    "# fn = '/mmfs1/data/aglinska/tf_outputs/VAE/VAE_2D_b64_NoDis_g1'\n",
    "# vae.load_weights(fn)"
   ]
  },
  {
   "cell_type": "markdown",
   "metadata": {},
   "source": [
    "### Contrastive VAE with 16 dimensions in background encoder and 16 dimensions in salient"
   ]
  },
  {
   "cell_type": "code",
   "execution_count": 12,
   "metadata": {},
   "outputs": [
    {
     "name": "stdout",
     "output_type": "stream",
     "text": [
      "loading weights\n",
      "WARNING:tensorflow:Inconsistent references when loading the checkpoint into this object graph. Either the Trackable object references in the Python program have changed in an incompatible way, or the checkpoint was generated in an incompatible program.\n",
      "\n",
      "Two checkpoint references resolved to different objects (<tensorflow.python.keras.layers.core.Dense object at 0x1553b402cd90> and <tensorflow.python.keras.engine.base_layer.TensorFlowOpLayer object at 0x1553ac1b8e80>).\n",
      "/mmfs1/data/aglinska/tf_outputs/CVAE/Jan24_d16_dis_flipped_b5g20\n"
     ]
    }
   ],
   "source": [
    "# # get contrastive convolutional vae (CCVAE)\n",
    "# cvae, cvae_fg, z_encoder, s_encoder, cvae_decoder = get_MRI_CCVAE_3D(input_shape=(64, 64, 64, 1),latent_dim=16)\n",
    "# #weights_fn = '../tf_outputs/3D_CCVAE_Weights/lol'\n",
    "# weights_fn = '../tf_outputs/3D_CCVAE_Weights/Nov23'\n",
    "# cvae.load_weights(weights_fn)\n",
    "\n",
    "\n",
    "# ## CVAE 32 dimensions, not disentangled, Jan 4th\n",
    "# latent_dim = 2;batch_size = 64;beta = 1;gamma=1;disentangle=False\n",
    "# cvae, cvae_fg, z_encoder, s_encoder, cvae_decoder = get_MRI_CCVAE_3D(latent_dim=latent_dim,beta=beta, disentangle=disentangle, gamma=gamma, bias=True)\n",
    "# fn = '/mmfs1/data/aglinska/tf_outputs/CVAE/Jan4th'\n",
    "\n",
    "\n",
    "## CVAE 32 dimensions, disentangled, Jan 12th\n",
    "latent_dim = 16;batch_size = 64;beta = 1;gamma=1;disentangle=True\n",
    "cvae, cvae_fg, z_encoder, s_encoder, cvae_decoder = get_MRI_CCVAE_3D(latent_dim=latent_dim,beta=beta, disentangle=disentangle, gamma=gamma, bias=True)\n",
    "#fn = '/mmfs1/data/aglinska/tf_outputs/CVAE/Jan12_disentagled_l16'\n",
    "#fn = '/mmfs1/data/aglinska/tf_outputs/CVAE/fake_abide'\n",
    "#fn = '/mmfs1/data/aglinska/tf_outputs/CVAE/fake_abide_flipped_disentangled'\n",
    "fn = '/mmfs1/data/aglinska/tf_outputs/CVAE/play'\n",
    "fn = '/mmfs1/data/aglinska/tf_outputs/CVAE/Jan24_d16_dis_flipped_b5g20'\n",
    "\n",
    "#ABIDE_data = np.load('/mmfs1/data/aglinska/3d_grassy_mnist/fake_abide.npy')\n",
    "\n",
    "# CVAE 32 dimensions, disentangled, Jan 12th\n",
    "# latent_dim = 16\n",
    "# batch_size = 12\n",
    "# beta = 1;gamma = 10\n",
    "# disentangle=False\n",
    "# cvae, cvae_fg, z_encoder, s_encoder, cvae_decoder = get_MRI_CCVAE_3D(latent_dim=latent_dim,beta=beta, disentangle=disentangle, gamma=gamma, bias=True)\n",
    "# loss = list()    \n",
    "# fn = '/mmfs1/data/aglinska/tf_outputs/CVAE/16dim_noDis_evBatch'\n",
    "\n",
    "loss = list()\n",
    "if os.path.exists(fn+'_loss.pickle'):\n",
    "    print('loading weights')\n",
    "    loss = pickle.load(open(fn+'_loss.pickle','rb'))\n",
    "    cvae.load_weights(fn)\n",
    "print(fn)"
   ]
  },
  {
   "cell_type": "code",
   "execution_count": 13,
   "metadata": {},
   "outputs": [
    {
     "data": {
      "image/png": "[encoded data removed]",
      "text/plain": [
       "<Figure size 720x1080 with 3 Axes>"
      ]
     },
     "metadata": {},
     "output_type": "display_data"
    }
   ],
   "source": [
    "inMat = ABIDE_data[0:5,:,:,:];\n",
    "\n",
    "plt.figure(figsize=np.array((10,15)));\n",
    "\n",
    "plt.subplot(1,3,1);plt.imshow(ABIDE_data[0,:,:,40]);plt.xticks([]);plt.yticks([]);plt.title('input');\n",
    "plt.subplot(1,3,2);plt.imshow(vae.predict(inMat)[0,:,:,40,0]);plt.xticks([]);plt.yticks([]);plt.title('VAE prediction');\n",
    "\n",
    "#plt.subplot(2,2,3);plt.imshow(ABIDE_data[0,:,:,40]);plt.xticks([]);plt.yticks([]);plt.title('input');\n",
    "plt.subplot(1,3,3);plt.imshow(cvae.predict([inMat,inMat])[0][0,:,:,40,0]);plt.xticks([]);plt.yticks([]);plt.title('CVAE prediction');"
   ]
  },
  {
   "cell_type": "markdown",
   "metadata": {},
   "source": [
    "### Reconstruction (in sample prediction) - both VAEs seem to have been fit well :)"
   ]
  },
  {
   "cell_type": "code",
   "execution_count": 14,
   "metadata": {},
   "outputs": [
    {
     "name": "stdout",
     "output_type": "stream",
     "text": [
      "['data', 'subs']\n"
     ]
    },
    {
     "data": {
      "text/plain": [
       "(131, 64, 64, 64)"
      ]
     },
     "execution_count": 14,
     "metadata": {},
     "output_type": "execute_result"
    }
   ],
   "source": [
    "arr = np.load('./Data/SFARI-Anat-64iso.npz')\n",
    "SFARI_data = arr['data']\n",
    "SFARI_subs = arr['subs']\n",
    "snsubs = SFARI_data.shape[0]\n",
    "print(arr.files)\n",
    "SFARI_data.shape"
   ]
  },
  {
   "cell_type": "code",
   "execution_count": 15,
   "metadata": {},
   "outputs": [],
   "source": [
    "ps_CCVAE = cvae.predict([SFARI_data[:,:,:,:],SFARI_data[:,:,:,:]])\n",
    "ps_CVAE = vae.predict(SFARI_data[:,:,:,:])"
   ]
  },
  {
   "cell_type": "code",
   "execution_count": 16,
   "metadata": {},
   "outputs": [
    {
     "name": "stdout",
     "output_type": "stream",
     "text": [
      "(131, 64, 64, 64, 1)\n"
     ]
    }
   ],
   "source": [
    "print(ps_CVAE.shape)"
   ]
  },
  {
   "cell_type": "code",
   "execution_count": 17,
   "metadata": {},
   "outputs": [
    {
     "data": {
      "text/plain": [
       "Text(0.5, 1.0, 'VAE reconstruction')"
      ]
     },
     "execution_count": 17,
     "metadata": {},
     "output_type": "execute_result"
    },
    {
     "data": {
      "image/png": "[encoded data removed]",
      "text/plain": [
       "<Figure size 720x1080 with 3 Axes>"
      ]
     },
     "metadata": {},
     "output_type": "display_data"
    }
   ],
   "source": [
    "plt.figure(figsize=(10,15))\n",
    "s = 25;k = 35\n",
    "plt.subplot(1,3,1)\n",
    "plt.imshow(SFARI_data[s,:,:,k]);plt.xticks([]);plt.yticks([]);plt.title('Input')\n",
    "plt.subplot(1,3,2)\n",
    "plt.imshow(ps_CCVAE[1][s,:,:,k,0]);plt.xticks([]);plt.yticks([]);plt.title('cCVAE reconstruction')\n",
    "\n",
    "plt.subplot(1,3,3)\n",
    "#plt.imshow(SFARI_data[s,:,:,k]);plt.xticks([]);plt.yticks([]);plt.title('Input')\n",
    "#plt.subplot(2,2,4)\n",
    "plt.imshow(ps_CVAE[s,:,:,k,0]);plt.xticks([]);plt.yticks([]);plt.title('VAE reconstruction')"
   ]
  },
  {
   "cell_type": "markdown",
   "metadata": {},
   "source": [
    "### Out of sample prediction (train on ABIDE, reconstruct SFARI): reasonable reconstruction too"
   ]
  },
  {
   "cell_type": "code",
   "execution_count": 18,
   "metadata": {},
   "outputs": [],
   "source": [
    "def dim_reduce(z,method='UMAP'):\n",
    "    \n",
    "    if method=='UMAP':\n",
    "        reducer = umap.UMAP()\n",
    "    else:\n",
    "        reducer = PCA(n_components=2)\n",
    "        \n",
    "    tiny = reducer.fit_transform(z)\n",
    "    \n",
    "    return tiny"
   ]
  },
  {
   "cell_type": "code",
   "execution_count": null,
   "metadata": {},
   "outputs": [],
   "source": [
    "# encoders \n",
    "t0 = now()\n",
    "#encs = [z_encoder, s_encoder ,encoder] # background, salient, vae\n",
    "encs = [z_encoder.predict, s_encoder.predict ,encoder.predict] # background, salient, vae\n",
    "\n",
    "# Indices\n",
    "patients = df['DxGroup'].values==1 # ASD\n",
    "controls = df['DxGroup'].values==2 # controls\n",
    "all_subs = patients+controls\n",
    "\n",
    "# data in \n",
    "data = ABIDE_data\n",
    "\n",
    "# spaces \n",
    "w = 2 # 0 - mean, 1 - std - 2 - sample\n",
    "bg_space = np.array(encs[0](data)[w])\n",
    "sl_space = np.array(encs[1](data)[w])\n",
    "vae_space = np.array(encs[2](data)[w])\n",
    "\n",
    "##### dim reduce\n",
    "do_dimRed=True\n",
    "if all((do_dimRed,bg_space.shape[1]>2)):\n",
    "    method = 'UMAP'\n",
    "    bg_space = dim_reduce(bg_space,method=method)\n",
    "    sl_space = dim_reduce(sl_space,method=method)\n",
    "    vae_space = dim_reduce(vae_space,method=method)\n",
    "\n",
    "spaces = [bg_space,sl_space,vae_space]\n",
    "spaces_ASD = [bg_space[patients,:],sl_space[patients,:],vae_space[patients,:]]\n",
    "spaces_TD = [bg_space[controls,:],sl_space[controls,:],vae_space[controls,:]]\n",
    "\n",
    "print(str(now()-t0))"
   ]
  },
  {
   "cell_type": "code",
   "execution_count": null,
   "metadata": {},
   "outputs": [],
   "source": [
    "def cscatter(spaces,v=None,c=None,clim=None,clbl=None,legend=None):\n",
    "    space_lbls = ['Background','Salient','VAE']\n",
    "\n",
    "    if type(v)==type(None):\n",
    "        v = np.repeat(True,len(spaces[0]))\n",
    "        \n",
    "    plt.figure(figsize=(12,4))\n",
    "    for i in range(len(spaces)):\n",
    "        plt.subplot(1,3,i+1)\n",
    "        \n",
    "        if type(c)!=type(None) and len(np.unique(c)) > 10: # continus colourbar\n",
    "            #print('continuues colourbar')\n",
    "            \n",
    "            plt.scatter(spaces[i][v,0],spaces[i][v,1],c=c)\n",
    "            if type(clim)==type(None): #if clim not passed, \n",
    "                clim = (min(c),max(c)) # calc min max\n",
    "            plt.clim(clim[0],clim[1]) # do clim regardless\n",
    "                \n",
    "            cbar = plt.colorbar()\n",
    "            cbar.ax.set_ylabel(clbl,rotation=270,labelpad=20,fontsize=16,fontweight='bold')    \n",
    "                \n",
    "        elif type(c)!=type(None) and len(np.unique(c)) < 10: # categorical colourbar\n",
    "            #print('categorical colourbar')\n",
    "            for j in np.unique(c):\n",
    "                plt.scatter(spaces[i][c[v]==j,0],spaces[i][c[v]==j,1],alpha=.5)\n",
    "                    \n",
    "            if type(legend)==type(None):\n",
    "                legend = [str(i) for i in np.unique(c)]    \n",
    "            plt.legend(legend)\n",
    "\n",
    "        else:\n",
    "           #print('else')\n",
    "            plt.scatter(spaces[i][v,0],spaces[i][v,1])\n",
    "            \n",
    "        \n",
    "        #plt.scatter(spaces[i][v,0],spaces[i][v,1],c=c)\n",
    "        plt.xlabel('latent dim. 1');plt.ylabel('latent dim. 2')\n",
    "        plt.title(space_lbls[i])\n",
    "\n",
    "    plt.subplots_adjust(left=None,bottom=None,right=None,top=None,wspace=.3,hspace=None,) \n",
    "    print(sum(v))"
   ]
  },
  {
   "cell_type": "code",
   "execution_count": null,
   "metadata": {},
   "outputs": [],
   "source": []
  },
  {
   "cell_type": "code",
   "execution_count": null,
   "metadata": {},
   "outputs": [],
   "source": []
  },
  {
   "cell_type": "code",
   "execution_count": null,
   "metadata": {},
   "outputs": [],
   "source": [
    "# i = 25\n",
    "# im1 = ABIDE_data[i:i+5,:,:,:][0,32,:,:];\n",
    "# im = vae.predict(ABIDE_data[i:i+5,:,:,:])[0,32,:,:,0];\n",
    "\n",
    "# plt.subplot(1,2,1)\n",
    "# plt.imshow(im1)\n",
    "# plt.subplot(1,2,2)\n",
    "# plt.imshow(im)"
   ]
  },
  {
   "cell_type": "code",
   "execution_count": null,
   "metadata": {},
   "outputs": [],
   "source": [
    "t0 = now()\n",
    "ABIDE_sample = ABIDE_data[0:100,:,:,:]\n",
    "CVAE_abide_reconstruction = cvae.predict([ABIDE_sample,ABIDE_sample])\n",
    "VAE_abide_reconstruction = vae.predict(ABIDE_sample)\n",
    "print(now()-t0)"
   ]
  },
  {
   "cell_type": "code",
   "execution_count": null,
   "metadata": {},
   "outputs": [],
   "source": []
  },
  {
   "cell_type": "code",
   "execution_count": null,
   "metadata": {},
   "outputs": [],
   "source": []
  },
  {
   "cell_type": "code",
   "execution_count": null,
   "metadata": {},
   "outputs": [],
   "source": []
  },
  {
   "cell_type": "code",
   "execution_count": null,
   "metadata": {},
   "outputs": [],
   "source": []
  },
  {
   "cell_type": "code",
   "execution_count": null,
   "metadata": {},
   "outputs": [],
   "source": [
    "# from scipy.stats import ttest_ind as ttest\n",
    "# #from scipy.stats import ttest_rel as ttest\n",
    "# ttest(v1,v2)"
   ]
  },
  {
   "cell_type": "code",
   "execution_count": null,
   "metadata": {},
   "outputs": [],
   "source": [
    "plt.figure(figsize=(10,5))\n",
    "### PLOT ABIDE \n",
    "plt.subplot(1,2,1)\n",
    "v1 = np.array([((ABIDE_sample[s,:,:,:]-CVAE_abide_reconstruction[0][s,:,:,:,0])**2).sum() for s in range(100)])\n",
    "v2 = np.array([((ABIDE_sample[s,:,:,:]-VAE_abide_reconstruction[s,:,:,:,0])**2).sum() for s in range(100)])\n",
    "\n",
    "xs = np.arange(2)\n",
    "y = [v1.mean(),v2.mean()]\n",
    "se = [v1.std(),v2.std()]\n",
    "plt.bar(xs,y)\n",
    "plt.errorbar(xs,y,se,fmt='r.')\n",
    "\n",
    "plt.xticks(xs,labels=['CVAE','VAE']);\n",
    "plt.title('ABIDE Reconstruction error (SS)');\n",
    "print(y)\n",
    "\n",
    "### PLOT SFARI \n",
    "plt.subplot(1,2,2)\n",
    "v1 = np.array([((SFARI_data[s,:,:,:]-ps_CCVAE[0][s,:,:,:,0])**2).sum() for s in range(100)])\n",
    "v2 = np.array([((SFARI_data[s,:,:,:]-ps_CVAE[s,:,:,:,0])**2).sum() for s in range(100)])\n",
    "\n",
    "xs = np.arange(2)\n",
    "y = [v1.mean(),v2.mean()]\n",
    "se = [v1.std(),v2.std()]\n",
    "plt.bar(xs,y)\n",
    "plt.errorbar(xs,y,se,fmt='r.')\n",
    "\n",
    "plt.xticks(xs,labels=['CVAE','VAE']);\n",
    "plt.title('SFARI Reconstruction error (SS)');\n",
    "print(y)"
   ]
  },
  {
   "cell_type": "code",
   "execution_count": null,
   "metadata": {},
   "outputs": [],
   "source": []
  },
  {
   "cell_type": "code",
   "execution_count": null,
   "metadata": {},
   "outputs": [],
   "source": []
  },
  {
   "cell_type": "code",
   "execution_count": null,
   "metadata": {},
   "outputs": [],
   "source": []
  },
  {
   "cell_type": "code",
   "execution_count": null,
   "metadata": {},
   "outputs": [],
   "source": []
  },
  {
   "cell_type": "code",
   "execution_count": null,
   "metadata": {},
   "outputs": [],
   "source": []
  },
  {
   "cell_type": "code",
   "execution_count": null,
   "metadata": {},
   "outputs": [],
   "source": []
  },
  {
   "cell_type": "markdown",
   "metadata": {},
   "source": [
    "### Reconstruction losses (calculated on SFARI) - no significant differnces in between VAE and cVAE - we can proceed to compare them. "
   ]
  },
  {
   "cell_type": "markdown",
   "metadata": {},
   "source": [
    "# Laten Space Clusters"
   ]
  },
  {
   "cell_type": "code",
   "execution_count": null,
   "metadata": {},
   "outputs": [],
   "source": [
    "diag_lbl = df['DxGroup'].values[all_subs]\n",
    "cscatter(spaces,v=all_subs,c=diag_lbl,legend=['Patient','Control'])"
   ]
  },
  {
   "cell_type": "code",
   "execution_count": null,
   "metadata": {},
   "outputs": [],
   "source": []
  },
  {
   "cell_type": "code",
   "execution_count": null,
   "metadata": {},
   "outputs": [],
   "source": []
  },
  {
   "cell_type": "code",
   "execution_count": null,
   "metadata": {},
   "outputs": [],
   "source": []
  },
  {
   "cell_type": "code",
   "execution_count": null,
   "metadata": {},
   "outputs": [],
   "source": []
  },
  {
   "cell_type": "code",
   "execution_count": null,
   "metadata": {},
   "outputs": [],
   "source": []
  },
  {
   "cell_type": "markdown",
   "metadata": {},
   "source": [
    "### Do these networks inherently discover overall differences between ASD and TD? No - none if them do (silhouette scores close to zero)"
   ]
  },
  {
   "cell_type": "code",
   "execution_count": null,
   "metadata": {},
   "outputs": [],
   "source": [
    "cscatter(spaces_ASD)"
   ]
  },
  {
   "cell_type": "code",
   "execution_count": null,
   "metadata": {},
   "outputs": [],
   "source": [
    "print('running BNPC');t0 = now()\n",
    "\n",
    "v = patients\n",
    "print('clustering background')\n",
    "bnpc = BayesianGaussianMixture(covariance_prior=None,covariance_type='full',degrees_of_freedom_prior=None,init_params='kmeans',max_iter=1000, mean_precision_prior=None,mean_prior=None,n_components=25,n_init=100,random_state=None,reg_covar=1e-06,tol=0.001,verbose=0,verbose_interval=10,warm_start=False,weight_concentration_prior=1,weight_concentration_prior_type='dirichlet_process')\n",
    "cid_bg = bnpc.fit_predict(spaces[0][v,:]);print(now()-t0)\n",
    "print('clustering salient')\n",
    "bnpc = BayesianGaussianMixture(covariance_prior=None,covariance_type='full',degrees_of_freedom_prior=None,init_params='kmeans',max_iter=1000, mean_precision_prior=None,mean_prior=None,n_components=25,n_init=100,random_state=None,reg_covar=1e-06,tol=0.001,verbose=0,verbose_interval=10,warm_start=False,weight_concentration_prior=1,weight_concentration_prior_type='dirichlet_process')\n",
    "cid_sl = bnpc.fit_predict(spaces[1][v,:]);print(now()-t0)\n",
    "\n",
    "print('clustering vae')\n",
    "bnpc = BayesianGaussianMixture(covariance_prior=None,covariance_type='full',degrees_of_freedom_prior=None,init_params='kmeans',max_iter=1000, mean_precision_prior=None,mean_prior=None,n_components=25,n_init=100,random_state=None,reg_covar=1e-06,tol=0.001,verbose=0,verbose_interval=10,warm_start=False,weight_concentration_prior=1,weight_concentration_prior_type='dirichlet_process')\n",
    "cid_vae = bnpc.fit_predict(spaces[2][v,:]);print(now()-t0)\n",
    "\n",
    "print('all done')"
   ]
  },
  {
   "cell_type": "code",
   "execution_count": null,
   "metadata": {},
   "outputs": [],
   "source": [
    "cscatter(spaces_ASD,c=cid_bg)"
   ]
  },
  {
   "cell_type": "markdown",
   "metadata": {},
   "source": [
    "### Clustering on background space: BNP finds four clusters but silhoutte scores show that these clusters are not distinct at all."
   ]
  },
  {
   "cell_type": "code",
   "execution_count": null,
   "metadata": {},
   "outputs": [],
   "source": [
    "cscatter(spaces_ASD,c=cid_sl)"
   ]
  },
  {
   "cell_type": "markdown",
   "metadata": {},
   "source": [
    "### Clustering on Salient space shows 5 clusters, silhoutte scores show that they are distinct; this clustering structure is not present in either background or VAE"
   ]
  },
  {
   "cell_type": "code",
   "execution_count": null,
   "metadata": {},
   "outputs": [],
   "source": []
  },
  {
   "cell_type": "code",
   "execution_count": null,
   "metadata": {},
   "outputs": [],
   "source": [
    "#z_encoder\n",
    "#s_encoder\n",
    "#cvae_decoder"
   ]
  },
  {
   "cell_type": "code",
   "execution_count": null,
   "metadata": {},
   "outputs": [],
   "source": [
    "inMat = ABIDE_data[0:15,:,:,:]"
   ]
  },
  {
   "cell_type": "code",
   "execution_count": null,
   "metadata": {},
   "outputs": [],
   "source": [
    "outMat = cvae.predict([inMat,inMat])[1][:,:,:,:,0]"
   ]
  },
  {
   "cell_type": "code",
   "execution_count": null,
   "metadata": {},
   "outputs": [],
   "source": [
    "plt.subplot(1,2,1)\n",
    "plt.imshow(inMat[4,:,:,0])\n",
    "plt.subplot(1,2,2)\n",
    "plt.imshow(outMat[4,:,:,0])"
   ]
  },
  {
   "cell_type": "code",
   "execution_count": null,
   "metadata": {},
   "outputs": [],
   "source": []
  },
  {
   "cell_type": "code",
   "execution_count": null,
   "metadata": {},
   "outputs": [],
   "source": []
  },
  {
   "cell_type": "code",
   "execution_count": null,
   "metadata": {},
   "outputs": [],
   "source": [
    "plt.figure(figsize=(7,7))\n",
    "for i in range(20):\n",
    "    plt.subplot(5,5,i+1)\n",
    "    plt.imshow(ABIDE_data[np.nonzero(patients)[0][np.nonzero(cid_sl==c)[0][i]],:,:,0])"
   ]
  },
  {
   "cell_type": "code",
   "execution_count": null,
   "metadata": {},
   "outputs": [],
   "source": []
  },
  {
   "cell_type": "code",
   "execution_count": null,
   "metadata": {},
   "outputs": [],
   "source": []
  },
  {
   "cell_type": "code",
   "execution_count": null,
   "metadata": {},
   "outputs": [],
   "source": []
  },
  {
   "cell_type": "code",
   "execution_count": null,
   "metadata": {},
   "outputs": [],
   "source": [
    "sum(patients)"
   ]
  },
  {
   "cell_type": "code",
   "execution_count": null,
   "metadata": {},
   "outputs": [],
   "source": [
    "cscatter(spaces_ASD,c=cid_vae)"
   ]
  },
  {
   "cell_type": "code",
   "execution_count": null,
   "metadata": {},
   "outputs": [],
   "source": [
    "def plot_groupBar(arr):\n",
    "    colors = [(0.12156862745098039, 0.4666666666666667, 0.7058823529411765),\n",
    "     (1.0, 0.4980392156862745, 0.054901960784313725),\n",
    "     (0.17254901960784313, 0.6274509803921569, 0.17254901960784313),\n",
    "     (0.8392156862745098, 0.15294117647058825, 0.1568627450980392),\n",
    "     (0.5803921568627451, 0.403921568627451, 0.7411764705882353)]\n",
    "    for i in range(arr.shape[1]):\n",
    "        x = i+1;\n",
    "        plt.bar(i-.33,arr[0,i],color=colors[0],width=.33);\n",
    "        plt.bar(i+.0,arr[1,i],color=colors[1],width=.33);\n",
    "        plt.bar(i+.33,arr[2,i],color=colors[2],width=.33);\n",
    "\n",
    "    plt.xticks(np.arange(arr.shape[1]),labels=targ_RDM_labels);\n",
    "    plt.legend(['cid_bg','cid_sl','cid_vae'])"
   ]
  },
  {
   "cell_type": "code",
   "execution_count": null,
   "metadata": {},
   "outputs": [],
   "source": [
    "# if all([len(np.unique(i))>1 for i in (cid_bg,cid_sl,cid_vae)]):\n",
    "    \n",
    "#     plt.figure(figsize=(10,7))\n",
    "#     a = np.array([[silhouette_score(spaces_ASD[0],lbl) for lbl in (cid_bg,cid_sl,cid_vae)],\n",
    "#     [silhouette_score(spaces_ASD[1],lbl) for lbl in (cid_bg,cid_sl,cid_vae)],\n",
    "#     [silhouette_score(spaces_ASD[2],lbl) for lbl in (cid_bg,cid_sl,cid_vae)]]);\n",
    "\n",
    "#     plot_groupBar(a);\n",
    "#     plt.title('Silhouette Scores',fontsize=20);\n",
    "#     plt.ylabel('Silhouette Scores');"
   ]
  },
  {
   "cell_type": "markdown",
   "metadata": {},
   "source": [
    "## SFARI data "
   ]
  },
  {
   "cell_type": "code",
   "execution_count": null,
   "metadata": {},
   "outputs": [],
   "source": [
    "dfs = pd.read_csv('./CSVs/DS-use.csv')\n",
    "dfs = dfs.iloc[np.array([l in SFARI_subs for l in dfs['BIDS ID'].values])]\n",
    "\n",
    "assert all([dfs['BIDS ID'].values[i]==SFARI_subs[i] for i in range(snsubs)]),'badness'\n",
    "assert len(dfs)==len(SFARI_subs),'bad coder, bad!'\n",
    "\n",
    "# SLICE: Only Keep 16p and TD\n",
    "ugene = ['non-familial-control','16p-duplication','16p-deletion']\n",
    "slice_arr = np.array([val in ugene for val in dfs['family_type'].values])\n",
    "\n",
    "dfs = dfs.iloc[slice_arr]\n",
    "snsubs = len(dfs)\n",
    "SFARI_data = SFARI_data[slice_arr,:,:,:]\n",
    "SFARI_subs = SFARI_subs[slice_arr]\n",
    "print(snsubs)"
   ]
  },
  {
   "cell_type": "code",
   "execution_count": null,
   "metadata": {},
   "outputs": [],
   "source": [
    "def str2num(inArr):\n",
    "    numArr = []\n",
    "    for i in inArr:\n",
    "        try:\n",
    "            numArr.append(np.array(float(i)))\n",
    "        except:\n",
    "            numArr.append(np.nan)\n",
    "            #numArr.append(np.array(0))\n",
    "            \n",
    "    return np.array(numArr)"
   ]
  },
  {
   "cell_type": "code",
   "execution_count": null,
   "metadata": {},
   "outputs": [],
   "source": [
    "fields = ['ados_css','rrb_css', 'sa_css','svip_neuro_exam.background.head_circum','svip_neuro_exam.background.head_circum_z_score','svip_neuro_exam.measure.eval_age_months','age_years']\n",
    "for field in fields: \n",
    "    dfs[field] = str2num(dfs[field])"
   ]
  },
  {
   "cell_type": "code",
   "execution_count": null,
   "metadata": {},
   "outputs": [],
   "source": [
    "dfs.head()"
   ]
  },
  {
   "cell_type": "code",
   "execution_count": null,
   "metadata": {},
   "outputs": [],
   "source": [
    "geneVec = np.repeat(0,snsubs)\n",
    "geneVec[dfs['family_type'].values==ugene[0]]=1\n",
    "geneVec[dfs['family_type'].values==ugene[1]]=2\n",
    "geneVec[dfs['family_type'].values==ugene[2]]=3"
   ]
  },
  {
   "cell_type": "code",
   "execution_count": null,
   "metadata": {},
   "outputs": [],
   "source": [
    "# encoders \n",
    "t0 = now()\n",
    "\n",
    "# data in \n",
    "data = SFARI_data\n",
    "\n",
    "# spaces \n",
    "bg_space_sfari = np.array(encs[0](data)[w])\n",
    "sl_space_sfari = np.array(encs[1](data)[w])\n",
    "vae_space_sfari = np.array(encs[2](data)[w])\n",
    "\n",
    "##### dim reduce\n",
    "do_dimRed=True\n",
    "if all((do_dimRed,bg_space_sfari.shape[1]>2)):\n",
    "    method = 'UMAP'\n",
    "    bg_space_sfari = dim_reduce(bg_space_sfari,method=method)\n",
    "    sl_space_sfari = dim_reduce(sl_space_sfari,method=method)\n",
    "    vae_space_sfari = dim_reduce(vae_space_sfari,method=method)\n",
    "\n",
    "spaces_sfari = [bg_space_sfari,sl_space_sfari,vae_space_sfari]\n",
    "print(str(now()-t0))"
   ]
  },
  {
   "cell_type": "code",
   "execution_count": null,
   "metadata": {},
   "outputs": [],
   "source": []
  },
  {
   "cell_type": "code",
   "execution_count": null,
   "metadata": {},
   "outputs": [],
   "source": [
    "cscatter(spaces_sfari,c=geneVec,legend=ugene)"
   ]
  },
  {
   "cell_type": "code",
   "execution_count": null,
   "metadata": {},
   "outputs": [],
   "source": [
    "v = geneVec!=1\n",
    "cscatter([bg_space_sfari[v,:],sl_space_sfari[v,:],vae_space_sfari[v,:]],c=geneVec[v],legend=ugene[1::])"
   ]
  },
  {
   "cell_type": "code",
   "execution_count": null,
   "metadata": {},
   "outputs": [],
   "source": [
    "def numerize(vec):\n",
    "    vec = np.array(vec)\n",
    "    numVec = np.zeros(vec.shape[0])\n",
    "    u = np.unique(vec)\n",
    "    n_u = len(u)\n",
    "    for i in range(n_u):\n",
    "        numVec[vec==u[i]]=i\n",
    "\n",
    "    return numVec"
   ]
  },
  {
   "cell_type": "code",
   "execution_count": null,
   "metadata": {},
   "outputs": [],
   "source": [
    "dfs\n",
    "\n",
    "sfari_behavioral_measures = dict()\n",
    "sfari_behavioral_measures['genotype'] = dfs['family_type'].values\n",
    "sfari_behavioral_measures['diag'] = dfs['svip_diagnosis_m1'].values\n",
    "sfari_behavioral_measures['ados_css'] = str2num(dfs['ados_css'].values)\n",
    "sfari_behavioral_measures['head_size'] = str2num(dfs['svip_neuro_exam.background.head_circum_z_score'].values)\n",
    "sfari_behavioral_measures['age_years'] = str2num(dfs['age_years'].values)\n",
    "\n",
    "#family_type,svip_diagnosis_m1,ados_css,svip_neuro_exam.background.head_circum_z_score,age_years\n",
    "\n",
    "print(sfari_behavioral_measures.keys())"
   ]
  },
  {
   "cell_type": "markdown",
   "metadata": {},
   "source": [
    "### On an independent dataset (SFARI), VAE shows lack of any clustering, background and salient show two distinct clusters, but it's unclear what's the axis of clustering"
   ]
  },
  {
   "cell_type": "code",
   "execution_count": null,
   "metadata": {},
   "outputs": [],
   "source": [
    "print('running BNPC');t0 = now()\n",
    "\n",
    "v = geneVec!=1\n",
    "\n",
    "print('clustering background')\n",
    "bnpc = BayesianGaussianMixture(covariance_prior=None,covariance_type='full',degrees_of_freedom_prior=None,init_params='kmeans',max_iter=1000, mean_precision_prior=None,mean_prior=None,n_components=25,n_init=100,random_state=None,reg_covar=1e-06,tol=0.001,verbose=0,verbose_interval=10,warm_start=False,weight_concentration_prior=1,weight_concentration_prior_type='dirichlet_process')\n",
    "cid_bg_sfari = bnpc.fit_predict(spaces_sfari[0][v,:]);print(now()-t0)\n",
    "print('clustering salient')\n",
    "bnpc = BayesianGaussianMixture(covariance_prior=None,covariance_type='full',degrees_of_freedom_prior=None,init_params='kmeans',max_iter=1000, mean_precision_prior=None,mean_prior=None,n_components=25,n_init=100,random_state=None,reg_covar=1e-06,tol=0.001,verbose=0,verbose_interval=10,warm_start=False,weight_concentration_prior=1,weight_concentration_prior_type='dirichlet_process')\n",
    "cid_sl_sfari = bnpc.fit_predict(spaces_sfari[1][v,:]);print(now()-t0)\n",
    "print('clustering vae')\n",
    "bnpc = BayesianGaussianMixture(covariance_prior=None,covariance_type='full',degrees_of_freedom_prior=None,init_params='kmeans',max_iter=1000, mean_precision_prior=None,mean_prior=None,n_components=25,n_init=100,random_state=None,reg_covar=1e-06,tol=0.001,verbose=0,verbose_interval=10,warm_start=False,weight_concentration_prior=1,weight_concentration_prior_type='dirichlet_process')\n",
    "cid_vae_sfari = bnpc.fit_predict(spaces_sfari[2][v,:]);print(now()-t0)\n",
    "\n",
    "print('all done')"
   ]
  },
  {
   "cell_type": "code",
   "execution_count": null,
   "metadata": {},
   "outputs": [],
   "source": [
    "cscatter([bg_space_sfari[v,:],sl_space_sfari[v,:],vae_space_sfari[v,:]],c=cid_bg_sfari)"
   ]
  },
  {
   "cell_type": "code",
   "execution_count": null,
   "metadata": {},
   "outputs": [],
   "source": [
    "cscatter([bg_space_sfari[v,:],sl_space_sfari[v,:],vae_space_sfari[v,:]],c=cid_sl_sfari)"
   ]
  },
  {
   "cell_type": "markdown",
   "metadata": {},
   "source": [
    "### SFARI BNP clustering defined on salient features"
   ]
  },
  {
   "cell_type": "code",
   "execution_count": null,
   "metadata": {},
   "outputs": [],
   "source": [
    "cscatter([bg_space_sfari[v,:],sl_space_sfari[v,:],vae_space_sfari[v,:]],c=cid_vae_sfari)"
   ]
  },
  {
   "cell_type": "markdown",
   "metadata": {},
   "source": [
    "### SFARI BNP clustering defined on VAE features"
   ]
  },
  {
   "cell_type": "code",
   "execution_count": null,
   "metadata": {},
   "outputs": [],
   "source": []
  },
  {
   "cell_type": "code",
   "execution_count": null,
   "metadata": {},
   "outputs": [],
   "source": [
    "#df_man = pd.read_csv('/Users/aidasaglinskas/Desktop/BC-ASD-FC/Excel/sfari_manufacturers.csv')\n",
    "df_man = pd.read_csv('/mmfs1/data/aglinska/BC-ASD-FC/Excel/sfari_manufacturers.csv')\n",
    "idx = np.array([df_man['bids id'].values[s] in dfs['BIDS ID'].values for s in range(len(df_man))])\n",
    "df_man = df_man.iloc[idx]\n",
    "\n",
    "assert len(dfs)==len(df_man)\n",
    "assert all([dfs['BIDS ID'].values[s]==df_man['bids id'].values[s] for s in range(len(dfs))])\n",
    "\n",
    "df_man['family_type'] = dfs['family_type']"
   ]
  },
  {
   "cell_type": "code",
   "execution_count": null,
   "metadata": {},
   "outputs": [],
   "source": [
    "df_man.groupby(['man','family_type']).count()"
   ]
  },
  {
   "cell_type": "code",
   "execution_count": null,
   "metadata": {},
   "outputs": [],
   "source": [
    "#v = geneVec!=1\n",
    "v=df_man['man'].values!='unknown'\n",
    "cscatter([bg_space_sfari[v,:],sl_space_sfari[v,:],vae_space_sfari[v,:]],c=numerize(df_man['man'][v]),legend=np.unique(df_man['man'].values[v]))"
   ]
  },
  {
   "cell_type": "code",
   "execution_count": null,
   "metadata": {},
   "outputs": [],
   "source": [
    "v = geneVec!=1\n",
    "cscatter([bg_space_sfari[v,:],sl_space_sfari[v,:],vae_space_sfari[v,:]],c=dfs['age_years'][v])"
   ]
  },
  {
   "cell_type": "markdown",
   "metadata": {},
   "source": [
    "### Using independent SFARI data it seems that cVAE find features that transfer to a new dataset (although what these features are is unclear), VAE does not show any systematicity in the independent dataset (but it also showed no systematicity in the training set, in sample, ABIDE, either)"
   ]
  },
  {
   "cell_type": "code",
   "execution_count": null,
   "metadata": {},
   "outputs": [],
   "source": [
    "from importlib import reload\n",
    "import bc_mri_ae_utils\n",
    "reload(bc_mri_ae_utils)\n",
    "from bc_mri_ae_utils import *"
   ]
  },
  {
   "cell_type": "code",
   "execution_count": null,
   "metadata": {},
   "outputs": [],
   "source": [
    "# # Age and Gender matched del and dupl subjects\n",
    "# # Salient space seems to better differentiate them (only 4 subjects though)\n",
    "# dd = np.zeros(snsubs)\n",
    "# v1 = dfs['family_type'].values=='16p-deletion'\n",
    "# v2 = dfs['age_years'].values < 30\n",
    "# targ = v1*v2\n",
    "# ccidx = np.array(getCaseMatch(targ,dfs,do_plot=True))\n",
    "# dd[targ]=1;dd[np.array(ccidx)]=2;d = dd!=0\n",
    "# #project_data(SFARI_data[d,:,:,:],dd[d],['DUPL','DEL'])"
   ]
  },
  {
   "cell_type": "markdown",
   "metadata": {},
   "source": [
    "### Matching 16p DEL and DUPL subjects, there's no differences (the numbers below .2 can change due to RNG sampling)"
   ]
  },
  {
   "cell_type": "code",
   "execution_count": null,
   "metadata": {},
   "outputs": [],
   "source": [
    "# # Case matched ASD and TD subjects (all have 16p-deletion) \n",
    "# # No clear differentiation\n",
    "\n",
    "# dd = np.zeros(snsubs)\n",
    "# v1 = dfs['clinical_asd_dx'].values=='1'\n",
    "# v2 = dfs['age_years'].values < 35\n",
    "# targ = v1\n",
    "# ccidx = np.array(getCaseMatch(targ,do_plot=False,control=ugene[2]))\n",
    "# dd[targ]=1;dd[np.array(ccidx)]=2;d = dd!=0\n",
    "# project_data(SFARI_data[d,:,:,:],dd[d],['ASD','TD']);plt.ylim(.0,1)"
   ]
  },
  {
   "cell_type": "markdown",
   "metadata": {},
   "source": [
    "### Age and gender matched 16p DEL subjects with and without ASD - no difference between spaces "
   ]
  },
  {
   "cell_type": "code",
   "execution_count": null,
   "metadata": {},
   "outputs": [],
   "source": []
  },
  {
   "cell_type": "markdown",
   "metadata": {},
   "source": [
    "### ALTERNATIVE EXPLANATIONS OF CLUSTERING (ABIDE)"
   ]
  },
  {
   "cell_type": "markdown",
   "metadata": {},
   "source": [
    "### Are the representational spaces organised by meaningful variables such as age, gender, brain size or asd diagnosis? or by known confounds such as scanning site or scanner type? Scanning site and scanner type are known to have very strong effects"
   ]
  },
  {
   "cell_type": "code",
   "execution_count": null,
   "metadata": {},
   "outputs": [],
   "source": [
    "space_bg_abide = bg_space\n",
    "space_sl_abide = sl_space\n",
    "space_vae_abide = vae_space"
   ]
  },
  {
   "cell_type": "code",
   "execution_count": null,
   "metadata": {},
   "outputs": [],
   "source": []
  },
  {
   "cell_type": "markdown",
   "metadata": {},
   "source": [
    "### In the following plots I coloured the dots by different variables, noted on the colourbar axis. (only ASD subjects are plotted)"
   ]
  },
  {
   "cell_type": "code",
   "execution_count": null,
   "metadata": {},
   "outputs": [],
   "source": [
    "# Dots coloured by age (z scored)\n",
    "ages = df['AgeAtScan'].values\n",
    "agesz = (ages-ages.mean())/ages.std()\n",
    "cscatter(spaces_ASD,c=agesz[patients],clim=(-1,1))"
   ]
  },
  {
   "cell_type": "markdown",
   "metadata": {},
   "source": [
    "### Age (z scores), colour treshold set at (-1,1) for ease of interpretability"
   ]
  },
  {
   "cell_type": "code",
   "execution_count": null,
   "metadata": {},
   "outputs": [],
   "source": [
    "# Dots coloured by gender. 1=Male, 2=Female\n",
    "gender = df['Sex'].values\n",
    "cscatter(spaces_ASD,c=gender[patients],legend=['male','female'])"
   ]
  },
  {
   "cell_type": "markdown",
   "metadata": {},
   "source": [
    "### Gender (1=Male, 2=Female)"
   ]
  },
  {
   "cell_type": "code",
   "execution_count": null,
   "metadata": {},
   "outputs": [],
   "source": [
    "# Dots coliured by FIQ (Fluid IQ?)\n",
    "fiq = df['FIQ'].values\n",
    "fiq[abs(df['FIQ'].values)>200]=np.nan\n",
    "cscatter(spaces_ASD,c=fiq[patients],clim=(100,130))"
   ]
  },
  {
   "cell_type": "markdown",
   "metadata": {},
   "source": [
    "### FIQ (Fluid IQ)"
   ]
  },
  {
   "cell_type": "code",
   "execution_count": null,
   "metadata": {},
   "outputs": [],
   "source": [
    "# DSM IV ASD categories\n",
    "def str2num(val):\n",
    "    try:\n",
    "        return int(val)\n",
    "    except:\n",
    "        return 0\n",
    "\n",
    "DSMIVTR = [str2num(val) for val in df['DSMIVTR'].values]\n",
    "DSMIVTR = np.array(DSMIVTR)\n",
    "\n",
    "cscatter(spaces_ASD,c=DSMIVTR[patients])"
   ]
  },
  {
   "cell_type": "markdown",
   "metadata": {},
   "source": [
    " "
   ]
  },
  {
   "cell_type": "markdown",
   "metadata": {},
   "source": [
    "### DSM diagnostic category, some apparent clustering in the salient space, but the subjects in some of the clusters also come from different scanners; so this effect can also be explained by scanner type and scanning site effects"
   ]
  },
  {
   "cell_type": "code",
   "execution_count": null,
   "metadata": {},
   "outputs": [],
   "source": [
    "# Brain volume\n",
    "head_size = np.array(np.reshape(ABIDE_data,(ABIDE_data.shape[0],-1))>.02).sum(axis=1)\n",
    "head_sizez = (head_size-head_size.mean())/head_size.std()\n",
    "#plot_cscatter(head_sizez,clbl='brain size (z)',clim=(-1,1),v=controls)\n",
    "cscatter(spaces_ASD,c=head_sizez[patients],clim=(-1,1))"
   ]
  },
  {
   "cell_type": "markdown",
   "metadata": {},
   "source": [
    "### Brain volume (calculated from the MPRAGE images), some effect on clustering in salient and maybe background spaces?"
   ]
  },
  {
   "cell_type": "code",
   "execution_count": null,
   "metadata": {},
   "outputs": [],
   "source": [
    "pwd"
   ]
  },
  {
   "cell_type": "code",
   "execution_count": null,
   "metadata": {},
   "outputs": [],
   "source": [
    "# Get Scanner Types and Scanning Site\n",
    "#df2 = pd.read_csv('/Users/aidasaglinskas/Desktop/BC-MRI-AE/CSVs/ABIDE_BIDS_PATHS.csv',index_col=0)\n",
    "df2 = pd.read_csv('/mmfs1/data/aglinska/BC-MRI-AE/CSVs/ABIDE_BIDS_PATHS.csv',index_col=0)\n",
    "df2.index=np.arange(len(df2))\n",
    "df2 = df2.iloc[np.array([df2['subID'].values[s] in df['BIDS_ID'].values for s in np.arange(len(df2))])]\n",
    "df2.index=np.arange(len(df2))\n",
    "df2 = df2.sort_values('subID')\n",
    "df2.index=np.arange(len(df2))\n",
    "print(f'{len(df2)}/{len(df)}')\n",
    "n = len(df2)\n",
    "df2.head()\n",
    "\n",
    "assert len(df2)==len(df), 'different lenghts of CSVs'\n",
    "assert all(np.array([df2['subID'].values[s]==df['BIDS_ID'].values[s] for s in np.arange(len(df))])),'mismatch between CSV orders'"
   ]
  },
  {
   "cell_type": "code",
   "execution_count": null,
   "metadata": {},
   "outputs": [],
   "source": []
  },
  {
   "cell_type": "code",
   "execution_count": null,
   "metadata": {},
   "outputs": [],
   "source": [
    "center = [line.split('/')[6] for line in df2['sub_path'].values]\n",
    "scanner = [line.split('/')[8] for line in df2['sub_path'].values]"
   ]
  },
  {
   "cell_type": "code",
   "execution_count": null,
   "metadata": {},
   "outputs": [],
   "source": [
    "# Scanner type\n",
    "cscatter(spaces_ASD,c=numerize(scanner)[patients])\n",
    "print(np.unique(scanner))"
   ]
  },
  {
   "cell_type": "markdown",
   "metadata": {},
   "source": [
    "### Scanner type effects: Strong effects on clustering in background and salient spaces. Some clusters in salient space are from distinct scanners. However, it's not that all subjects from a single scanner are that cluster. Therefore, scanning site alone can't explain the clustering, and the silhouette scores are low (not plotted)"
   ]
  },
  {
   "cell_type": "code",
   "execution_count": null,
   "metadata": {},
   "outputs": [],
   "source": [
    "# Scanning center\n",
    "cscatter(spaces_ASD,c=numerize(center)[patients])\n",
    "print(np.unique(center))"
   ]
  },
  {
   "cell_type": "markdown",
   "metadata": {},
   "source": [
    "# RSA analyses"
   ]
  },
  {
   "cell_type": "markdown",
   "metadata": {},
   "source": [
    "### Instead of using silouette scores, which is a somewhat crude measure, let's use RSA to ask if people that are similar in brain size are represented similarly in the cVAE and VAE spaces"
   ]
  },
  {
   "cell_type": "code",
   "execution_count": null,
   "metadata": {},
   "outputs": [],
   "source": [
    "dist_met = 'euclidean' # Euclidean distance for all measures\n",
    "print(dist_met)"
   ]
  },
  {
   "cell_type": "code",
   "execution_count": null,
   "metadata": {},
   "outputs": [],
   "source": [
    "def norm(mat):\n",
    "    return (mat-mat.min())/(mat.max()-mat.min())"
   ]
  },
  {
   "cell_type": "code",
   "execution_count": null,
   "metadata": {},
   "outputs": [],
   "source": [
    "v = patients\n",
    "RDM_age = norm(1-squareform(pdist(agesz[v][:,np.newaxis],metric=dist_met)))\n",
    "RDM_gender  = norm(1-squareform(pdist(gender[v][:,np.newaxis],metric=dist_met)))\n",
    "RDM_fiq  = norm(1-squareform(pdist(fiq[v][:,np.newaxis],metric=dist_met)))\n",
    "RDM_dsm  = norm(1-squareform(pdist(DSMIVTR[v][:,np.newaxis],metric=dist_met)))\n",
    "RDM_headsize  = norm(1-squareform(pdist(head_sizez[v][:,np.newaxis],metric=dist_met)))"
   ]
  },
  {
   "cell_type": "code",
   "execution_count": null,
   "metadata": {},
   "outputs": [],
   "source": [
    "modelRDMs = [RDM_age, RDM_gender, RDM_dsm, RDM_headsize]\n",
    "modelRDM_titles = ['Age RDM','Gender RDM', 'DSM RDM', 'Brain vol RDM']"
   ]
  },
  {
   "cell_type": "code",
   "execution_count": null,
   "metadata": {},
   "outputs": [],
   "source": [
    "plt.figure(figsize=(10,8))\n",
    "for i in range(4):\n",
    "    plt.subplot(2,2,i+1)\n",
    "    sns.heatmap(modelRDMs[i])\n",
    "    plt.xticks([]);plt.yticks([])\n",
    "    plt.title(modelRDM_titles[i])"
   ]
  },
  {
   "cell_type": "markdown",
   "metadata": {},
   "source": [
    "## RDM plots of Age, Gender, DSM and brain volume"
   ]
  },
  {
   "cell_type": "code",
   "execution_count": null,
   "metadata": {},
   "outputs": [],
   "source": [
    "v = patients\n",
    "#v = controls\n",
    "RDM_bg = norm(1-squareform(pdist(space_bg_abide[v], metric=dist_met)))\n",
    "RDM_sl = norm(1-squareform(pdist(space_sl_abide[v], metric=dist_met)))\n",
    "RDM_vae = norm(1-squareform(pdist(space_vae_abide[v], metric=dist_met)))\n",
    "\n",
    "targ_RDMs = [RDM_bg,RDM_sl,RDM_vae]\n",
    "targ_RDM_labels = ['Background RDM','Salient RDM','VAE RDM']\n",
    "\n",
    "space_lbls = ['background','salient','VAE']\n",
    "#mats = [RDM_vae,RDM_bg,RDM_sl]\n",
    "mats = [RDM_bg,RDM_sl,RDM_vae]\n",
    "plt.figure(figsize=(15,5))\n",
    "for i in range(3):\n",
    "    plt.subplot(1,3,i+1)\n",
    "    mat = mats[i]\n",
    "    plt.imshow(mat)\n",
    "    cbar = plt.colorbar(fraction=0.046, pad=0.04)\n",
    "    plt.title(space_lbls[i])"
   ]
  },
  {
   "cell_type": "markdown",
   "metadata": {},
   "source": [
    "### Background, Salient and VAE RDM plots for ASD subjects (euclidean distance) Weirdly, there is seemingly no systematic structure in the background space; Might be a bug, I'd expect background and VAE to capture similar features"
   ]
  },
  {
   "cell_type": "code",
   "execution_count": null,
   "metadata": {},
   "outputs": [],
   "source": [
    "def triu(inMat):\n",
    "    '''return upper triangle values'''\n",
    "    assert inMat.shape[0]==inMat.shape[1], 'mat not symetrical'\n",
    "    n = inMat.shape[0]\n",
    "    vec = inMat[np.triu_indices(n,1)]\n",
    "    return vec"
   ]
  },
  {
   "cell_type": "code",
   "execution_count": null,
   "metadata": {},
   "outputs": [],
   "source": [
    "sim = np.corrcoef(np.array([triu(mat) for mat in mats]))\n",
    "sim = np.triu(sim,k=1)\n",
    "sns.heatmap(sim,annot=True);\n",
    "plt.xticks(np.arange(sim.shape[0])+.5,labels=space_lbls);\n",
    "plt.yticks(np.arange(sim.shape[0])+.5,labels=space_lbls,rotation=0);\n",
    "plt.title('Similarity between spaces');"
   ]
  },
  {
   "cell_type": "markdown",
   "metadata": {},
   "source": [
    "### Similarity between the spaces: low similarity between them"
   ]
  },
  {
   "cell_type": "code",
   "execution_count": null,
   "metadata": {},
   "outputs": [],
   "source": [
    "def plot_groupBar(arr):\n",
    "    colors = [(0.12156862745098039, 0.4666666666666667, 0.7058823529411765),\n",
    "     (1.0, 0.4980392156862745, 0.054901960784313725),\n",
    "     (0.17254901960784313, 0.6274509803921569, 0.17254901960784313),\n",
    "     (0.8392156862745098, 0.15294117647058825, 0.1568627450980392),\n",
    "     (0.5803921568627451, 0.403921568627451, 0.7411764705882353)]\n",
    "    for i in range(arr.shape[1]):\n",
    "        x = i+1;\n",
    "        plt.bar(i-.25,arr[0,i],color=colors[0],width=.45);\n",
    "        plt.bar(i+.25,arr[1,i],color=colors[1],width=.45);\n",
    "\n",
    "    plt.xticks(np.arange(arr.shape[1]),labels=targ_RDM_labels);\n",
    "    plt.legend(['TD','ASD'])"
   ]
  },
  {
   "cell_type": "code",
   "execution_count": null,
   "metadata": {},
   "outputs": [],
   "source": [
    "targ_RDMs = [RDM_vae,RDM_bg,RDM_sl]\n",
    "targ_RDM_labels = ['VAE RDM','Background RDM','Salient RDM']\n",
    "\n",
    "modelRDMs = [RDM_age, RDM_gender, RDM_dsm, RDM_headsize]\n",
    "modelRDM_titles = ['Age RDM','Gender RDM', 'DSM RDM', 'Brain vol RDM']\n",
    "\n",
    "print([m.shape for m in modelRDMs])\n",
    "print([t.shape for t in targ_RDMs])\n",
    "\n",
    "nTarg = len(targ_RDMs)\n",
    "nModel = len(modelRDMs)\n",
    "rsa_res = np.zeros((nTarg,nModel))\n",
    "\n",
    "for t in range(nTarg):\n",
    "    for m in range(nModel):\n",
    "        rsa_res[t,m] = np.corrcoef(triu(targ_RDMs[t]),triu(modelRDMs[m]))[0,1]\n",
    "        \n",
    "plt.figure(figsize=(10,8))\n",
    "for i in range(4):\n",
    "    plt.subplot(2,2,i+1)\n",
    "    plt.bar(np.arange(nTarg),rsa_res[:,i])\n",
    "    plt.xticks(np.arange(nTarg),targ_RDM_labels)\n",
    "    plt.title(modelRDM_titles[i])\n",
    "    plt.ylim(0,.5)"
   ]
  },
  {
   "cell_type": "markdown",
   "metadata": {},
   "source": [
    "### Salient space uniquely tracks similarity between ASD patients in age & DSM diagnosis. Salient and background are sensitive to ASD patient brain size. Reliability of this results, across sampling (rng) remains to be established though"
   ]
  },
  {
   "cell_type": "code",
   "execution_count": null,
   "metadata": {},
   "outputs": [],
   "source": [
    "plt.figure(figsize=(15,5))\n",
    "plt.subplot(1,2,2)\n",
    "vv = np.array(df['Subject Type'].values=='CONTROL') #* ~np.isnan(df['FIQ'].values)\n",
    "m = triu(norm(1-squareform(pdist(df['Sex'].values[vv][:,np.newaxis],metric=dist_met))))\n",
    "T = np.array([1-triu(norm(squareform(pdist(space[vv], metric=dist_met)))) for space in [space_vae_abide,space_bg_abide,space_sl_abide]])\n",
    "arr1 = np.array([np.corrcoef(m,T[i,:])[0,1] for i in range(3)])\n",
    "plt.bar([0,1,2],arr1)\n",
    "plt.xticks(np.arange(nTarg),targ_RDM_labels)\n",
    "plt.title('Gender CONTROL')\n",
    "plt.ylim(0,.5)\n",
    "\n",
    "plt.subplot(1,2,1)\n",
    "vv = np.array(df['Subject Type'].values=='PATIENT') #* ~np.isnan(df['FIQ'].values)\n",
    "m = triu(norm(1-squareform(pdist(df['Sex'].values[vv][:,np.newaxis],metric=dist_met))))\n",
    "T = np.array([1-triu(norm(squareform(pdist(space[vv], metric=dist_met)))) for space in [space_vae_abide,space_bg_abide,space_sl_abide]])\n",
    "arr2 = np.array([np.corrcoef(m,T[i,:])[0,1] for i in range(3)])\n",
    "plt.bar([0,1,2],arr2)\n",
    "plt.xticks(np.arange(nTarg),targ_RDM_labels)\n",
    "plt.title('Gender PATIENT')\n",
    "plt.ylim(0,.5)\n",
    "\n",
    "plt.figure()\n",
    "plot_groupBar(np.vstack((arr1,arr2)))"
   ]
  },
  {
   "cell_type": "markdown",
   "metadata": {},
   "source": [
    "### Gender RSA results too tiny to be meaningful"
   ]
  },
  {
   "cell_type": "markdown",
   "metadata": {},
   "source": [
    "## Prediction analyses. Using the latent-representations in each of the spaces (background, salient, and VAE) can we predict person's various attributes?"
   ]
  },
  {
   "cell_type": "code",
   "execution_count": null,
   "metadata": {},
   "outputs": [],
   "source": [
    "bv = dict()\n",
    "bv['center'] = np.array(center)\n",
    "bv['scanner'] = np.array(scanner)\n",
    "bv['head_size'] = np.array(head_size )\n",
    "bv['head_sizez'] = np.array(head_sizez)\n",
    "bv['DSMIVTR'] = np.array(DSMIVTR)\n",
    "bv['fiq'] = np.array(fiq)\n",
    "bv['gender'] = np.array(gender)\n",
    "bv['agesz'] = np.array(agesz)\n",
    "bv['diag'] = np.array(controls*1)+np.array(patients*2)"
   ]
  },
  {
   "cell_type": "code",
   "execution_count": null,
   "metadata": {},
   "outputs": [],
   "source": [
    "def tabulate(vec):\n",
    "    u = np.unique(vec)\n",
    "    n = len(u)\n",
    "    tab = np.zeros((n,2))\n",
    "\n",
    "    for i in range(n):\n",
    "        #tab[i,0] = u[i]\n",
    "        tab[i,0] = sum(vec==u[i])\n",
    "        tab[i,1] = sum(vec==u[i])/len(vec)\n",
    "        \n",
    "        tab[i,1] = tab[i,1].round(3)\n",
    "        tab[i,0] = int(tab[i,0])\n",
    "\n",
    "    f = pd.DataFrame(columns=['name','count','perc'])\n",
    "    f['name']=u;f['count']=tab[:,0];f['perc']=tab[:,1]\n",
    "    f = f.sort_values('count',ascending=False)\n",
    "    f.head()\n",
    "    return f"
   ]
  },
  {
   "cell_type": "code",
   "execution_count": null,
   "metadata": {},
   "outputs": [],
   "source": [
    "from sklearn.model_selection import train_test_split\n",
    "from sklearn.model_selection import cross_validate\n",
    "from sklearn.neighbors import KNeighborsClassifier\n",
    "from sklearn.discriminant_analysis import LinearDiscriminantAnalysis\n",
    "from scipy.stats import ttest_ind\n",
    "\n",
    "\n",
    "#from imblearn.ensemble import BalancedBaggingClassifier\n",
    "#from imblearn.ensemble import BalancedRandomForestClassifier"
   ]
  },
  {
   "cell_type": "code",
   "execution_count": null,
   "metadata": {},
   "outputs": [],
   "source": [
    "from sklearn.linear_model import LogisticRegression"
   ]
  },
  {
   "cell_type": "code",
   "execution_count": null,
   "metadata": {},
   "outputs": [],
   "source": [
    "def fit_clf(y,vv):\n",
    "    #spaces = [space_vae_abide,space_bg_abide,space_sl_abide]\n",
    "    spaces = [space_vae_abide,space_bg_abide,space_sl_abide,np.hstack((space_bg_abide,space_sl_abide))]\n",
    "    accs,ses,arrs = list(),list(),list()\n",
    "    for x in spaces:\n",
    "        x = x[vv]\n",
    "        #clf = KNeighborsClassifier(n_neighbors=15)\n",
    "        clf = LogisticRegression(penalty='l2', dual=False, tol=0.0001, C=1.0, fit_intercept=True, intercept_scaling=1, class_weight='balanced', random_state=None, solver='lbfgs', max_iter=10000, multi_class='auto', verbose=0, warm_start=False, n_jobs=None, l1_ratio=None)\n",
    "        clf.fit(x,y)\n",
    "        res = cross_validate(clf, x, y, cv=3)['test_score']\n",
    "        \n",
    "        arrs.append(res)\n",
    "        acc = res.mean()    \n",
    "        se = res.std()\n",
    "        accs.append(acc)\n",
    "        ses.append(se)\n",
    "\n",
    "    plt.bar(np.arange(len(spaces)),accs);\n",
    "    plt.errorbar(np.arange(len(spaces)),accs,ses,fmt='r.')\n",
    "    plt.xticks(np.arange(len(spaces)),labels=['vae','bg','sl','bg+sl']);\n",
    "    \n",
    "    balanced=True\n",
    "    if balanced:\n",
    "        plt.plot(np.arange(-.5,len(spaces)+.5),np.repeat(1/len(np.unique(y)),len(spaces)+1),'k-.',alpha=.3)\n",
    "    else:    \n",
    "        plt.plot(np.arange(-.5,len(spaces)+.5),np.repeat(tabulate(y)['perc'].values.max(),len(spaces)+1),'k-.',alpha=.3)"
   ]
  },
  {
   "cell_type": "code",
   "execution_count": null,
   "metadata": {},
   "outputs": [],
   "source": [
    "plt.figure(figsize=(12,15))\n",
    "plt.subplot(3,3,1);vv = patients;y = numerize(bv['center'])[vv];fit_clf(y,vv);plt.title('scanning center')\n",
    "plt.subplot(3,3,2);vv = patients*df['AgeAtScan'].values > 0;y = numerize(bv['DSMIVTR'])[vv];fit_clf(y,vv);plt.title('DSMIVTR')\n",
    "plt.subplot(3,3,3);vv = patients*df['AgeAtScan'].values > 0;y = numerize(bv['gender'])[vv];fit_clf(y,vv);plt.title('GENDER')\n",
    "\n",
    "plt.subplot(3,3,4);vv = (all_subs*df['AgeAtScan'].values > 25)*df['Sex'].values!=0;y = numerize(bv['diag'])[vv];fit_clf(y,vv);plt.title('DX: Adults')\n",
    "plt.subplot(3,3,5);vv = (all_subs*df['AgeAtScan'].values < 12)*df['Sex'].values!=0;y = numerize(bv['diag'])[vv];fit_clf(y,vv);plt.title('DX: Children')"
   ]
  },
  {
   "cell_type": "markdown",
   "metadata": {},
   "source": [
    "Classification method; using latent-feature representations, l2 penalized logistic regression was trained to predict various attributes. Classifier was crossvalidated using 3 fold crossval. Errorbars show st dev across folds. regression weights were balanced to combat imbalances between classes. Dashed line shows chance level (if classifier were to guess the most common class only)"
   ]
  },
  {
   "cell_type": "markdown",
   "metadata": {},
   "source": [
    "## Only the scanning site can be predicted above chance. and VAE space doesn't even do that. Possible problem? Looking into this"
   ]
  },
  {
   "cell_type": "code",
   "execution_count": null,
   "metadata": {},
   "outputs": [],
   "source": [
    "from sklearn.neighbors import KNeighborsClassifier\n",
    "from sklearn.discriminant_analysis import LinearDiscriminantAnalysis\n",
    "from sklearn.linear_model import LinearRegression\n",
    "\n",
    "def fit_reg(y,vv):\n",
    "    spaces = [space_vae_abide,space_bg_abide,space_sl_abide,np.hstack((space_bg_abide,space_sl_abide))]\n",
    "    accs,ses,arrs = list(),list(),list()\n",
    "    for x in spaces:\n",
    "        x = x[vv]\n",
    "        clf = LinearRegression()\n",
    "        mse = ((clf.fit(x,y).predict(x)-y)**2).mean()\n",
    "        accs.append(1-mse/((y-y.mean())**2).mean())\n",
    "    plt.bar(np.arange(len(spaces)),accs);\n",
    "    plt.xticks(np.arange(len(spaces)),labels=['vae','bg','sl','both']);"
   ]
  },
  {
   "cell_type": "code",
   "execution_count": null,
   "metadata": {},
   "outputs": [],
   "source": [
    "plt.figure(figsize=(12,12))\n",
    "print(bv.keys())\n",
    "\n",
    "plt.subplot(2,2,1);vv = (patients*~np.isnan(df['FIQ'].values))*(df['AgeAtScan'].values<20);y = df['FIQ'].values[vv];fit_reg(y,vv);plt.title('FIQ: patients')\n",
    "plt.ylim(.1,1)\n",
    "plt.subplot(2,2,2);vv = controls*~np.isnan(df['FIQ'].values);y = df['FIQ'].values[vv];fit_reg(y,vv);plt.title('FIQ: controls')\n",
    "plt.ylim(.1,1)\n",
    "\n",
    "plt.subplot(2,2,3);vv = (patients*df['AgeAtScan'].values < 12);y = df['AgeAtScan'].values[vv];fit_reg(y,vv);plt.title('AGE: patients')\n",
    "plt.ylim(.1,1)\n",
    "plt.subplot(2,2,4);vv = (controls*df['AgeAtScan'].values > 18)*df['Sex'].values==1;y = df['AgeAtScan'].values[vv];fit_reg(y,vv);plt.title('AGE: controls')\n",
    "plt.ylim(.1,1)"
   ]
  },
  {
   "cell_type": "markdown",
   "metadata": {},
   "source": [
    "### Using regression to predict continuus variables is unsucessfull so far"
   ]
  },
  {
   "cell_type": "code",
   "execution_count": null,
   "metadata": {},
   "outputs": [],
   "source": []
  },
  {
   "cell_type": "markdown",
   "metadata": {},
   "source": [
    "### Next Steps / To Do's"
   ]
  },
  {
   "cell_type": "markdown",
   "metadata": {},
   "source": [
    "## Figure out what is going on with the spaces, VAE not being sensitive to scanner effects seems like a bug. There's no structure in the background space either (euclidean distance plots)"
   ]
  },
  {
   "cell_type": "markdown",
   "metadata": {},
   "source": [
    "## Tackle RNG, when I re-run the results, the bar plots, numner of clusters in from the BNP changes, maybe investigate mode instead of the samples instead"
   ]
  },
  {
   "cell_type": "markdown",
   "metadata": {},
   "source": [
    "## Train the VAEs some more, these were trained on colab, maybe decent training on andromeda will help"
   ]
  },
  {
   "cell_type": "markdown",
   "metadata": {},
   "source": [
    "import sklearn"
   ]
  },
  {
   "cell_type": "code",
   "execution_count": null,
   "metadata": {},
   "outputs": [],
   "source": [
    "import sklearn\n",
    "import scipy\n",
    "linkage = scipy.cluster.hierarchy.linkage\n",
    "mutual_info = sklearn.metrics.normalized_mutual_info_score\n",
    "#mutual_info = sklearn.metrics.mutual_info_score"
   ]
  },
  {
   "cell_type": "code",
   "execution_count": null,
   "metadata": {},
   "outputs": [],
   "source": [
    "keys = ['center', 'scanner', 'head_sizez', 'DSMIVTR', 'fiq', 'gender', 'agesz', 'diag']"
   ]
  },
  {
   "cell_type": "code",
   "execution_count": null,
   "metadata": {},
   "outputs": [],
   "source": [
    "def make_good_vec(vec):\n",
    "#np.float64\n",
    "#np.int64\n",
    "#np.str_\n",
    "    if type(vec[0])==np.str_: # MAKE NUM\n",
    "        vec = numerize(vec)\n",
    "    elif type(vec[0])==np.float64: # BIN\n",
    "        nbins = 5\n",
    "        #vec = bv['fiq']\n",
    "        vec = np.digitize(vec,np.linspace(vec.min(),vec.max(),nbins))\n",
    "        \n",
    "    return vec #(vec-vec.mean())/vec.std()"
   ]
  },
  {
   "cell_type": "code",
   "execution_count": null,
   "metadata": {},
   "outputs": [],
   "source": [
    "mat = np.array([make_good_vec(bv[key]) for key in keys]);\n",
    "mat = mat[:,all_subs]"
   ]
  },
  {
   "cell_type": "code",
   "execution_count": null,
   "metadata": {},
   "outputs": [],
   "source": []
  },
  {
   "cell_type": "code",
   "execution_count": null,
   "metadata": {},
   "outputs": [],
   "source": [
    "n = len(keys)\n",
    "mimat = np.zeros((n,n))\n",
    "for i in range(n):\n",
    "    for j in range(n):\n",
    "        mimat[i,j] = mutual_info(mat[i,:],mat[j,:])"
   ]
  },
  {
   "cell_type": "code",
   "execution_count": null,
   "metadata": {},
   "outputs": [],
   "source": [
    "plt.figure(figsize=np.array((12,6))*1  )\n",
    "\n",
    "plt.subplot(1,2,1)\n",
    "sns.heatmap(mimat,annot=True,\n",
    "    vmin=.25,\n",
    "    vmax=1,\n",
    "    cmap=None,\n",
    "    center=None,\n",
    "    robust=False,\n",
    "    fmt='.1f',\n",
    "    annot_kws=None,\n",
    "    linewidths=0,\n",
    "    linecolor='white',\n",
    "    cbar=True,\n",
    "    cbar_kws=None,\n",
    "    cbar_ax=None,\n",
    "    square=False,\n",
    "    xticklabels='auto',\n",
    "    yticklabels='auto',\n",
    "    mask=None,\n",
    "    ax=None)\n",
    "\n",
    "plt.xticks(np.arange(n)+.5,keys,rotation=45);\n",
    "plt.yticks(np.arange(n)+.5,keys,rotation=0);\n",
    "plt.title('Normalized Mutual Information\\nbetween measurements (ABIDE)');\n",
    "\n",
    "plt.subplot(2,2,2)\n",
    "\n",
    "sns.heatmap(mat);\n",
    "plt.yticks(np.arange(n)+.5,keys,rotation=0);\n",
    "plt.xticks([]);\n",
    "plt.title('Measurements (ABIDE)');\n",
    "plt.xlabel('subjects')\n",
    "\n",
    "\n",
    "plt.subplot(2,2,4)\n",
    "d = scipy.cluster.hierarchy.dendrogram(linkage(pdist(1-mimat)),labels=keys,leaf_rotation=45)\n",
    "plt.title('Normalized Mutual Information similarity between measurements\\n(ABIDE)');\n",
    "\n",
    "plt.subplots_adjust(\n",
    "    left=None,\n",
    "    bottom=None,\n",
    "    right=None,\n",
    "    top=None,\n",
    "    wspace=.25,\n",
    "    hspace= .45)"
   ]
  },
  {
   "cell_type": "markdown",
   "metadata": {},
   "source": [
    "### Mutual information between measurements: center and scanner does not have a lot of mutual information with other measurements"
   ]
  },
  {
   "cell_type": "code",
   "execution_count": null,
   "metadata": {},
   "outputs": [],
   "source": [
    "cross_val_score = sklearn.model_selection.cross_val_score\n",
    "#clf = sklearn.neighbors.KNeighborsClassifier(n_neighbors=25,weights='uniform',algorithm='auto',leaf_size=30,p=2,metric='euclidean',metric_params=None,n_jobs=None)\n",
    "#clf = sklearn.svm.SVC(decision_function_shape='ovo')\n",
    "\n",
    "c = 1.00; g = 'scale'\n",
    "#c = 10; g = 'scale'\n",
    "clf = sklearn.svm.SVC(C=c,kernel='rbf',degree=1,gamma=g,coef0=0.0,shrinking=True,probability=False,tol=0.001,cache_size=200,class_weight=None,verbose=False,max_iter=-1,decision_function_shape='ovr',break_ties=False,random_state=None)\n",
    "## When training an SVM with the Radial Basis Function (RBF) kernel, two parameters must be considered: C and gamma. The parameter C, common to all SVM kernels, trades off misclassification of training examples against simplicity of the decision surface. A low C makes the decision surface smooth, while a high C aims at classifying all training examples correctly. gamma defines how much influence a single training example has. The larger gamma is, the closer other examples must be to be affected"
   ]
  },
  {
   "cell_type": "code",
   "execution_count": null,
   "metadata": {},
   "outputs": [],
   "source": [
    "X = mat[3::,patients].transpose()\n",
    "#X = mat[3::,all_subs].transpose()\n",
    "ncv = 5\n",
    "Y = cid_bg\n",
    "scores_bg = cross_val_score(clf, X, Y, cv=ncv)\n",
    "Y = cid_sl\n",
    "scores_sl = cross_val_score(clf, X, Y, cv=ncv)\n",
    "Y = cid_vae\n",
    "scores_vae = cross_val_score(clf, X, Y, cv=ncv)\n",
    "\n",
    "xs = np.arange(3)\n",
    "arrs = [scores_bg,scores_sl,scores_vae]"
   ]
  },
  {
   "cell_type": "code",
   "execution_count": null,
   "metadata": {},
   "outputs": [],
   "source": [
    "collect1,collect2,collect3 = list(),list(),list()\n",
    "\n",
    "for i in range(n):\n",
    "    slice_ = np.repeat(True,n)\n",
    "    slice_[i]=False\n",
    "    X = mat[slice_,:][:,patients].transpose()\n",
    "    \n",
    "    scores_bg = cross_val_score(clf, X, cid_bg, cv=ncv)\n",
    "    scores_sl = cross_val_score(clf, X, cid_sl, cv=ncv)\n",
    "    scores_vae = cross_val_score(clf, X, cid_vae, cv=ncv)\n",
    "    \n",
    "    collect1.append(scores_bg)\n",
    "    collect2.append(scores_sl)\n",
    "    collect3.append(scores_vae)"
   ]
  },
  {
   "cell_type": "code",
   "execution_count": null,
   "metadata": {},
   "outputs": [],
   "source": []
  },
  {
   "cell_type": "code",
   "execution_count": null,
   "metadata": {},
   "outputs": [],
   "source": [
    "arr1 = 1-np.array([col.mean() for col in collect1])\n",
    "arr2 = 1-np.array([col.mean() for col in collect2])\n",
    "arr3 = 1-np.array([col.mean() for col in collect3])"
   ]
  },
  {
   "cell_type": "code",
   "execution_count": null,
   "metadata": {},
   "outputs": [],
   "source": []
  },
  {
   "cell_type": "code",
   "execution_count": null,
   "metadata": {},
   "outputs": [],
   "source": [
    "plt.figure(figsize=(12,5))\n",
    "\n",
    "plt.subplot(1,2,1)\n",
    "plt.bar(xs,np.array([arr.mean() for arr in arrs]));\n",
    "plt.errorbar(xs,np.array([arr.mean() for arr in arrs]), np.array([arr.std() for arr in arrs]),fmt='r.');\n",
    "plt.xticks([0,1,2],['BG','SL','VAE']);\n",
    "plt.ylim(0,1);\n",
    "plt.title('Cluster decoding accuracy');\n",
    "plt.ylabel('accuracy');\n",
    "\n",
    "\n",
    "plt.subplot(1,2,2)\n",
    "plt.plot(arr1/arr1.sum(),'g.',markersize=20,alpha=.3); # BG\n",
    "plt.plot(arr2/arr2.sum(),'r.',markersize=25,alpha=.3); # SL\n",
    "plt.plot(arr3/arr3.sum(),'b.',markersize=30,alpha=.3); # VAE\n",
    "\n",
    "plt.legend(['bg','sl','vae']);\n",
    "plt.xticks(range(n),keys,rotation=45);\n",
    "plt.title('Feature importance');\n",
    "plt.ylabel('relative importance');"
   ]
  },
  {
   "cell_type": "code",
   "execution_count": null,
   "metadata": {},
   "outputs": [],
   "source": [
    "df['center'] = bv['center']\n",
    "df['scanner'] = bv['scanner']\n",
    "\n",
    "plt.figure(figsize=(12,4))\n",
    "plt.subplot(1,2,1)\n",
    "str_ = 'scanner'\n",
    "u = np.unique(df[str_].values)\n",
    "l = list()\n",
    "xs = np.arange(len(u))\n",
    "for i in xs:\n",
    "    v1 = df[str_].values==u[i]\n",
    "    v2 = df['Subject Type'].values[v1]=='PATIENT'\n",
    "    l.append(v2.sum()/v1.sum())\n",
    "    \n",
    "plt.plot(l,'.',markersize=25)\n",
    "plt.plot(xs,np.repeat(.5,len(u)))\n",
    "plt.ylim(0,1);\n",
    "plt.title(str_,fontsize=16);\n",
    "plt.ylabel('proportion ASD');\n",
    "u[4] = 'magnetom'\n",
    "plt.xticks(xs,u,rotation=65);\n",
    "\n",
    "\n",
    "plt.subplot(1,2,2)\n",
    "\n",
    "str_ = 'center'\n",
    "u = np.unique(df[str_].values)\n",
    "l = list()\n",
    "xs = np.arange(len(u))\n",
    "for i in xs:\n",
    "    v1 = df[str_].values==u[i]\n",
    "    v2 = df['Subject Type'].values[v1]=='PATIENT'\n",
    "    l.append(v2.sum()/v1.sum())\n",
    "    \n",
    "plt.plot(l,'.',markersize=25)\n",
    "plt.plot(xs,np.repeat(.5,len(u)))\n",
    "plt.ylim(0,1);\n",
    "plt.title(str_,fontsize=16);\n",
    "plt.ylabel('proportion ASD');\n",
    "plt.xticks(xs,u,rotation=65);"
   ]
  },
  {
   "cell_type": "code",
   "execution_count": null,
   "metadata": {},
   "outputs": [],
   "source": []
  },
  {
   "cell_type": "code",
   "execution_count": null,
   "metadata": {},
   "outputs": [],
   "source": [
    "# encoders\n",
    "\n",
    "#encoders\n",
    "encs = [z_encoder.predict, s_encoder.predict ,encoder.predict] # background, salient, vae\n",
    "\n",
    "# Indices\n",
    "patients = df['DxGroup'].values==1 # ASD\n",
    "controls = df['DxGroup'].values==2 # controls\n",
    "all_subs = patients+controls\n",
    "t0 = now()\n",
    "\n",
    "# data in \n",
    "data = ABIDE_data\n",
    "\n",
    "# spaces \n",
    "v = patients\n",
    "w = 2 # 0 - mean, 1 - std - 2 - sample\n",
    "sims = list()\n",
    "for i in tqdm(range(100)):\n",
    "    temp_bg_space = np.array(encs[0](data)[w])\n",
    "    temp_sl_space = np.array(encs[1](data)[w])\n",
    "\n",
    "    v = patients\n",
    "    temp_RDM_bg = norm(1-squareform(pdist(temp_bg_space[v], metric=dist_met)))\n",
    "    temp_RDM_sl = norm(1-squareform(pdist(temp_sl_space[v], metric=dist_met)))\n",
    "    mats = [temp_RDM_bg,temp_RDM_sl]\n",
    "    sim = np.corrcoef(np.array([triu(mat) for mat in mats]))\n",
    "    sim = np.triu(sim,k=1)[0,1]\n",
    "    sims.append(sim)\n",
    "    \n",
    "print(now()-t0)"
   ]
  },
  {
   "cell_type": "code",
   "execution_count": null,
   "metadata": {},
   "outputs": [],
   "source": [
    "plt.hist(sims)"
   ]
  },
  {
   "cell_type": "code",
   "execution_count": null,
   "metadata": {},
   "outputs": [],
   "source": []
  },
  {
   "cell_type": "code",
   "execution_count": null,
   "metadata": {},
   "outputs": [],
   "source": []
  },
  {
   "cell_type": "code",
   "execution_count": null,
   "metadata": {},
   "outputs": [],
   "source": []
  },
  {
   "cell_type": "code",
   "execution_count": null,
   "metadata": {},
   "outputs": [],
   "source": []
  },
  {
   "cell_type": "code",
   "execution_count": null,
   "metadata": {},
   "outputs": [],
   "source": []
  },
  {
   "cell_type": "code",
   "execution_count": null,
   "metadata": {},
   "outputs": [],
   "source": []
  },
  {
   "cell_type": "code",
   "execution_count": null,
   "metadata": {},
   "outputs": [],
   "source": []
  },
  {
   "cell_type": "code",
   "execution_count": null,
   "metadata": {},
   "outputs": [],
   "source": []
  },
  {
   "cell_type": "code",
   "execution_count": null,
   "metadata": {},
   "outputs": [],
   "source": []
  },
  {
   "cell_type": "code",
   "execution_count": null,
   "metadata": {},
   "outputs": [],
   "source": []
  },
  {
   "cell_type": "code",
   "execution_count": null,
   "metadata": {},
   "outputs": [],
   "source": []
  },
  {
   "cell_type": "code",
   "execution_count": null,
   "metadata": {},
   "outputs": [],
   "source": []
  },
  {
   "cell_type": "code",
   "execution_count": null,
   "metadata": {},
   "outputs": [],
   "source": []
  },
  {
   "cell_type": "code",
   "execution_count": null,
   "metadata": {},
   "outputs": [],
   "source": []
  },
  {
   "cell_type": "code",
   "execution_count": null,
   "metadata": {},
   "outputs": [],
   "source": []
  },
  {
   "cell_type": "code",
   "execution_count": null,
   "metadata": {},
   "outputs": [],
   "source": []
  },
  {
   "cell_type": "code",
   "execution_count": null,
   "metadata": {},
   "outputs": [],
   "source": []
  },
  {
   "cell_type": "code",
   "execution_count": null,
   "metadata": {},
   "outputs": [],
   "source": []
  },
  {
   "cell_type": "code",
   "execution_count": null,
   "metadata": {},
   "outputs": [],
   "source": []
  },
  {
   "cell_type": "code",
   "execution_count": null,
   "metadata": {},
   "outputs": [],
   "source": []
  },
  {
   "cell_type": "code",
   "execution_count": null,
   "metadata": {},
   "outputs": [],
   "source": []
  },
  {
   "cell_type": "code",
   "execution_count": null,
   "metadata": {},
   "outputs": [],
   "source": []
  }
 ],
 "metadata": {
  "kernelspec": {
   "display_name": "Python 3",
   "language": "python",
   "name": "python3"
  },
  "language_info": {
   "codemirror_mode": {
    "name": "ipython",
    "version": 3
   },
   "file_extension": ".py",
   "mimetype": "text/x-python",
   "name": "python",
   "nbconvert_exporter": "python",
   "pygments_lexer": "ipython3",
   "version": "3.8.5"
  }
 },
 "nbformat": 4,
 "nbformat_minor": 4
}

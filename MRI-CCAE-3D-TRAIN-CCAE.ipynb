{
 "cells": [
  {
   "cell_type": "markdown",
   "metadata": {
    "tags": [
     "papermill-error-cell-tag"
    ]
   },
   "source": [
    "<span style=\"color:red; font-family:Helvetica Neue, Helvetica, Arial, sans-serif; font-size:2em;\">An Exception was encountered at '<a href=\"#papermill-error-cell\">In [13]</a>'.</span>"
   ]
  },
  {
   "cell_type": "markdown",
   "metadata": {
    "id": "tXd5CerxmxGr",
    "papermill": {
     "duration": 0.041783,
     "end_time": "2020-12-02T23:26:53.202902",
     "exception": false,
     "start_time": "2020-12-02T23:26:53.161119",
     "status": "completed"
    },
    "tags": []
   },
   "source": [
    "Make sure the tf version is 2.5.0-dev20201111 or later (for model saving)"
   ]
  },
  {
   "cell_type": "code",
   "execution_count": 1,
   "metadata": {
    "colab": {
     "base_uri": "https://localhost:8080/"
    },
    "execution": {
     "iopub.execute_input": "2020-12-02T23:26:53.267852Z",
     "iopub.status.busy": "2020-12-02T23:26:53.267160Z",
     "iopub.status.idle": "2020-12-02T23:27:36.153425Z",
     "shell.execute_reply": "2020-12-02T23:27:36.154243Z"
    },
    "executionInfo": {
     "elapsed": 12004,
     "status": "ok",
     "timestamp": 1605180764041,
     "user": {
      "displayName": "Aidas Aglinskas",
      "photoUrl": "",
      "userId": "17395860064084454693"
     },
     "user_tz": -60
    },
    "id": "DOW1Mf_NlZYn",
    "outputId": "0d1b9a88-dc3f-4c58-c301-737206f38543",
    "papermill": {
     "duration": 42.920137,
     "end_time": "2020-12-02T23:27:36.154704",
     "exception": false,
     "start_time": "2020-12-02T23:26:53.234567",
     "status": "completed"
    },
    "tags": []
   },
   "outputs": [
    {
     "name": "stdout",
     "output_type": "stream",
     "text": [
      "2.5.0-dev20201123\n"
     ]
    }
   ],
   "source": [
    "#!pip install tf-nightly -qqq --progress-bar off\n",
    "import tensorflow as tf\n",
    "print(tf.__version__)\n",
    "#assert tf.__version__== '2.5.0-dev20201111','bad version'"
   ]
  },
  {
   "cell_type": "code",
   "execution_count": 2,
   "metadata": {
    "execution": {
     "iopub.execute_input": "2020-12-02T23:27:36.222668Z",
     "iopub.status.busy": "2020-12-02T23:27:36.222030Z",
     "iopub.status.idle": "2020-12-02T23:27:36.226140Z",
     "shell.execute_reply": "2020-12-02T23:27:36.226646Z"
    },
    "papermill": {
     "duration": 0.039214,
     "end_time": "2020-12-02T23:27:36.226814",
     "exception": false,
     "start_time": "2020-12-02T23:27:36.187600",
     "status": "completed"
    },
    "tags": []
   },
   "outputs": [
    {
     "name": "stdout",
     "output_type": "stream",
     "text": [
      "2020-12-02 18:27:36.220446\n"
     ]
    }
   ],
   "source": [
    "from datetime import datetime;now = datetime.now;t00 = now()\n",
    "print(t00)"
   ]
  },
  {
   "cell_type": "code",
   "execution_count": 3,
   "metadata": {
    "colab": {
     "base_uri": "https://localhost:8080/"
    },
    "execution": {
     "iopub.execute_input": "2020-12-02T23:27:36.286400Z",
     "iopub.status.busy": "2020-12-02T23:27:36.285856Z",
     "iopub.status.idle": "2020-12-02T23:27:51.562995Z",
     "shell.execute_reply": "2020-12-02T23:27:51.563954Z"
    },
    "executionInfo": {
     "elapsed": 11979,
     "status": "ok",
     "timestamp": 1605180764044,
     "user": {
      "displayName": "Aidas Aglinskas",
      "photoUrl": "",
      "userId": "17395860064084454693"
     },
     "user_tz": -60
    },
    "id": "bjXikoR3dceV",
    "outputId": "0be2bb13-3913-4339-e467-31106ce17044",
    "papermill": {
     "duration": 15.313135,
     "end_time": "2020-12-02T23:27:51.564278",
     "exception": false,
     "start_time": "2020-12-02T23:27:36.251143",
     "status": "completed"
    },
    "tags": []
   },
   "outputs": [
    {
     "name": "stdout",
     "output_type": "stream",
     "text": [
      "0:00:15.333285\n"
     ]
    }
   ],
   "source": [
    "%matplotlib inline\n",
    "\n",
    "import os\n",
    "from matplotlib import pyplot as plt\n",
    "import seaborn as sns\n",
    "\n",
    "import numpy as np\n",
    "import pandas as pd\n",
    "from tqdm import tqdm\n",
    "\n",
    "#from contrastive_vae.celeb_utils import get_celeb_vae\n",
    "#from contrastive_vae.celeb_utils import get_celeb_cvae\n",
    "\n",
    "import pandas as pd\n",
    "from sklearn.metrics import silhouette_score\n",
    "\n",
    "from mri_utils import get_MRI_CVAE_3D,get_MRI_CCVAE_3D\n",
    "\n",
    "print(now()-t00)"
   ]
  },
  {
   "cell_type": "code",
   "execution_count": 4,
   "metadata": {
    "colab": {
     "base_uri": "https://localhost:8080/"
    },
    "execution": {
     "iopub.execute_input": "2020-12-02T23:27:51.646754Z",
     "iopub.status.busy": "2020-12-02T23:27:51.646044Z",
     "iopub.status.idle": "2020-12-02T23:27:51.655717Z",
     "shell.execute_reply": "2020-12-02T23:27:51.654992Z"
    },
    "executionInfo": {
     "elapsed": 11976,
     "status": "ok",
     "timestamp": 1605180764044,
     "user": {
      "displayName": "Aidas Aglinskas",
      "photoUrl": "",
      "userId": "17395860064084454693"
     },
     "user_tz": -60
    },
    "id": "UmLCoBjXmF8M",
    "outputId": "6b8a960c-e859-4234-d482-bb95740b1b11",
    "papermill": {
     "duration": 0.048819,
     "end_time": "2020-12-02T23:27:51.655869",
     "exception": false,
     "start_time": "2020-12-02T23:27:51.607050",
     "status": "completed"
    },
    "tags": []
   },
   "outputs": [
    {
     "name": "stdout",
     "output_type": "stream",
     "text": [
      "/gsfs0/data/aglinsai/BC-MRI-AE\n"
     ]
    }
   ],
   "source": [
    "cd ../"
   ]
  },
  {
   "cell_type": "markdown",
   "metadata": {
    "id": "t5xW313gmrFJ",
    "papermill": {
     "duration": 0.024729,
     "end_time": "2020-12-02T23:27:51.707494",
     "exception": false,
     "start_time": "2020-12-02T23:27:51.682765",
     "status": "completed"
    },
    "tags": []
   },
   "source": [
    "SHAPE THE DATA"
   ]
  },
  {
   "cell_type": "code",
   "execution_count": 5,
   "metadata": {
    "colab": {
     "base_uri": "https://localhost:8080/"
    },
    "execution": {
     "iopub.execute_input": "2020-12-02T23:27:51.761842Z",
     "iopub.status.busy": "2020-12-02T23:27:51.760591Z",
     "iopub.status.idle": "2020-12-02T23:27:54.744224Z",
     "shell.execute_reply": "2020-12-02T23:27:54.745215Z"
    },
    "executionInfo": {
     "elapsed": 16760,
     "status": "ok",
     "timestamp": 1605180768834,
     "user": {
      "displayName": "Aidas Aglinskas",
      "photoUrl": "",
      "userId": "17395860064084454693"
     },
     "user_tz": -60
    },
    "id": "STcZnREmuLkX",
    "outputId": "24d0dddd-14c3-4b1a-b0a1-d7523a697b85",
    "papermill": {
     "duration": 3.014732,
     "end_time": "2020-12-02T23:27:54.745567",
     "exception": false,
     "start_time": "2020-12-02T23:27:51.730835",
     "status": "completed"
    },
    "tags": []
   },
   "outputs": [
    {
     "data": {
      "text/plain": [
       "[(1022,), (1022, 64, 64, 64)]"
      ]
     },
     "execution_count": 5,
     "metadata": {},
     "output_type": "execute_result"
    }
   ],
   "source": [
    "arr = np.load('./Data/ABIDE-Anat-64iso.npz')\n",
    "ABIDE_data = arr['data']\n",
    "ABIDE_subs = arr['subs']\n",
    "nsubs = ABIDE_data.shape[0]\n",
    "[arr.shape for arr in [ABIDE_subs,ABIDE_data]]"
   ]
  },
  {
   "cell_type": "code",
   "execution_count": 6,
   "metadata": {
    "colab": {
     "base_uri": "https://localhost:8080/"
    },
    "execution": {
     "iopub.execute_input": "2020-12-02T23:27:54.827543Z",
     "iopub.status.busy": "2020-12-02T23:27:54.826816Z",
     "iopub.status.idle": "2020-12-02T23:27:55.462151Z",
     "shell.execute_reply": "2020-12-02T23:27:55.460938Z"
    },
    "executionInfo": {
     "elapsed": 16756,
     "status": "ok",
     "timestamp": 1605180768835,
     "user": {
      "displayName": "Aidas Aglinskas",
      "photoUrl": "",
      "userId": "17395860064084454693"
     },
     "user_tz": -60
    },
    "id": "71-GquGIuLka",
    "outputId": "485b025f-cb2c-4ccd-b37a-1aafff566c48",
    "papermill": {
     "duration": 0.673561,
     "end_time": "2020-12-02T23:27:55.462435",
     "exception": false,
     "start_time": "2020-12-02T23:27:54.788874",
     "status": "completed"
    },
    "tags": []
   },
   "outputs": [
    {
     "data": {
      "text/plain": [
       "[(982,), (982, 64, 64, 64)]"
      ]
     },
     "execution_count": 6,
     "metadata": {},
     "output_type": "execute_result"
    }
   ],
   "source": [
    "aa = np.array([ABIDE_data[s,:,:,:].sum() for s in range(ABIDE_data.shape[0])])<5000\n",
    "ABIDE_data = ABIDE_data[~aa,:,:,:]\n",
    "ABIDE_subs = ABIDE_subs[~aa]\n",
    "[arr.shape for arr in [ABIDE_subs,ABIDE_data]]"
   ]
  },
  {
   "cell_type": "code",
   "execution_count": 7,
   "metadata": {
    "colab": {
     "base_uri": "https://localhost:8080/",
     "height": 217
    },
    "execution": {
     "iopub.execute_input": "2020-12-02T23:27:55.555478Z",
     "iopub.status.busy": "2020-12-02T23:27:55.549814Z",
     "iopub.status.idle": "2020-12-02T23:27:55.741320Z",
     "shell.execute_reply": "2020-12-02T23:27:55.740100Z"
    },
    "executionInfo": {
     "elapsed": 16753,
     "status": "ok",
     "timestamp": 1605180768836,
     "user": {
      "displayName": "Aidas Aglinskas",
      "photoUrl": "",
      "userId": "17395860064084454693"
     },
     "user_tz": -60
    },
    "id": "JANBc_Nm-M2N",
    "outputId": "9598f6c9-1328-449a-b696-3b3668227e94",
    "papermill": {
     "duration": 0.234787,
     "end_time": "2020-12-02T23:27:55.741606",
     "exception": false,
     "start_time": "2020-12-02T23:27:55.506819",
     "status": "completed"
    },
    "tags": []
   },
   "outputs": [
    {
     "data": {
      "text/html": [
       "<div>\n",
       "<style scoped>\n",
       "    .dataframe tbody tr th:only-of-type {\n",
       "        vertical-align: middle;\n",
       "    }\n",
       "\n",
       "    .dataframe tbody tr th {\n",
       "        vertical-align: top;\n",
       "    }\n",
       "\n",
       "    .dataframe thead th {\n",
       "        text-align: right;\n",
       "    }\n",
       "</style>\n",
       "<table border=\"1\" class=\"dataframe\">\n",
       "  <thead>\n",
       "    <tr style=\"text-align: right;\">\n",
       "      <th></th>\n",
       "      <th>index</th>\n",
       "      <th>BIDS_ID</th>\n",
       "      <th>Anonymized ID</th>\n",
       "      <th>Subject Type</th>\n",
       "      <th>Visit</th>\n",
       "      <th>Days since enrollment</th>\n",
       "      <th>SubID</th>\n",
       "      <th>DxGroup</th>\n",
       "      <th>DSMIVTR</th>\n",
       "      <th>AgeAtScan</th>\n",
       "      <th>...</th>\n",
       "      <th>WISC4 Pic Con Scaled</th>\n",
       "      <th>WISC4 Matrix Scaled</th>\n",
       "      <th>WISC4 Dig Span Scaled</th>\n",
       "      <th>WISC4 Let Num Scaled</th>\n",
       "      <th>WISC4 Coding Scaled</th>\n",
       "      <th>WISC4 Sym Scaled</th>\n",
       "      <th>Age at MPRAGE</th>\n",
       "      <th>Current Med Status</th>\n",
       "      <th>Medication Name</th>\n",
       "      <th>Off stimulants at EPI scan?</th>\n",
       "    </tr>\n",
       "  </thead>\n",
       "  <tbody>\n",
       "    <tr>\n",
       "      <th>0</th>\n",
       "      <td>0</td>\n",
       "      <td>sub-001</td>\n",
       "      <td>A00033348</td>\n",
       "      <td>PATIENT</td>\n",
       "      <td>session_1</td>\n",
       "      <td>8</td>\n",
       "      <td>51320</td>\n",
       "      <td>1</td>\n",
       "      <td>2</td>\n",
       "      <td>31.0</td>\n",
       "      <td>...</td>\n",
       "      <td>NaN</td>\n",
       "      <td>NaN</td>\n",
       "      <td>NaN</td>\n",
       "      <td>NaN</td>\n",
       "      <td>NaN</td>\n",
       "      <td>NaN</td>\n",
       "      <td>NaN</td>\n",
       "      <td>0</td>\n",
       "      <td>NaN</td>\n",
       "      <td>NaN</td>\n",
       "    </tr>\n",
       "    <tr>\n",
       "      <th>1</th>\n",
       "      <td>1</td>\n",
       "      <td>sub-002</td>\n",
       "      <td>A00033398</td>\n",
       "      <td>CONTROL</td>\n",
       "      <td>session_1</td>\n",
       "      <td>8</td>\n",
       "      <td>51373</td>\n",
       "      <td>2</td>\n",
       "      <td>0</td>\n",
       "      <td>46.0</td>\n",
       "      <td>...</td>\n",
       "      <td>NaN</td>\n",
       "      <td>NaN</td>\n",
       "      <td>NaN</td>\n",
       "      <td>NaN</td>\n",
       "      <td>NaN</td>\n",
       "      <td>NaN</td>\n",
       "      <td>NaN</td>\n",
       "      <td>0</td>\n",
       "      <td>NaN</td>\n",
       "      <td>NaN</td>\n",
       "    </tr>\n",
       "    <tr>\n",
       "      <th>2</th>\n",
       "      <td>2</td>\n",
       "      <td>sub-003</td>\n",
       "      <td>A00033352</td>\n",
       "      <td>PATIENT</td>\n",
       "      <td>session_1</td>\n",
       "      <td>8</td>\n",
       "      <td>51324</td>\n",
       "      <td>1</td>\n",
       "      <td>2</td>\n",
       "      <td>52.0</td>\n",
       "      <td>...</td>\n",
       "      <td>NaN</td>\n",
       "      <td>NaN</td>\n",
       "      <td>NaN</td>\n",
       "      <td>NaN</td>\n",
       "      <td>NaN</td>\n",
       "      <td>NaN</td>\n",
       "      <td>NaN</td>\n",
       "      <td>0</td>\n",
       "      <td>NaN</td>\n",
       "      <td>NaN</td>\n",
       "    </tr>\n",
       "    <tr>\n",
       "      <th>3</th>\n",
       "      <td>3</td>\n",
       "      <td>sub-004</td>\n",
       "      <td>A00033389</td>\n",
       "      <td>CONTROL</td>\n",
       "      <td>session_1</td>\n",
       "      <td>8</td>\n",
       "      <td>51364</td>\n",
       "      <td>2</td>\n",
       "      <td>0</td>\n",
       "      <td>26.0</td>\n",
       "      <td>...</td>\n",
       "      <td>NaN</td>\n",
       "      <td>NaN</td>\n",
       "      <td>NaN</td>\n",
       "      <td>NaN</td>\n",
       "      <td>NaN</td>\n",
       "      <td>NaN</td>\n",
       "      <td>NaN</td>\n",
       "      <td>0</td>\n",
       "      <td>NaN</td>\n",
       "      <td>NaN</td>\n",
       "    </tr>\n",
       "    <tr>\n",
       "      <th>4</th>\n",
       "      <td>4</td>\n",
       "      <td>sub-005</td>\n",
       "      <td>A00033354</td>\n",
       "      <td>PATIENT</td>\n",
       "      <td>session_1</td>\n",
       "      <td>8</td>\n",
       "      <td>51326</td>\n",
       "      <td>1</td>\n",
       "      <td>2</td>\n",
       "      <td>42.0</td>\n",
       "      <td>...</td>\n",
       "      <td>NaN</td>\n",
       "      <td>NaN</td>\n",
       "      <td>NaN</td>\n",
       "      <td>NaN</td>\n",
       "      <td>NaN</td>\n",
       "      <td>NaN</td>\n",
       "      <td>NaN</td>\n",
       "      <td>0</td>\n",
       "      <td>NaN</td>\n",
       "      <td>NaN</td>\n",
       "    </tr>\n",
       "  </tbody>\n",
       "</table>\n",
       "<p>5 rows × 79 columns</p>\n",
       "</div>"
      ],
      "text/plain": [
       "   index  BIDS_ID Anonymized ID Subject Type      Visit  \\\n",
       "0      0  sub-001     A00033348      PATIENT  session_1   \n",
       "1      1  sub-002     A00033398      CONTROL  session_1   \n",
       "2      2  sub-003     A00033352      PATIENT  session_1   \n",
       "3      3  sub-004     A00033389      CONTROL  session_1   \n",
       "4      4  sub-005     A00033354      PATIENT  session_1   \n",
       "\n",
       "   Days since enrollment  SubID  DxGroup DSMIVTR  AgeAtScan  ...  \\\n",
       "0                      8  51320        1       2       31.0  ...   \n",
       "1                      8  51373        2       0       46.0  ...   \n",
       "2                      8  51324        1       2       52.0  ...   \n",
       "3                      8  51364        2       0       26.0  ...   \n",
       "4                      8  51326        1       2       42.0  ...   \n",
       "\n",
       "   WISC4 Pic Con Scaled  WISC4 Matrix Scaled  WISC4 Dig Span Scaled  \\\n",
       "0                   NaN                  NaN                    NaN   \n",
       "1                   NaN                  NaN                    NaN   \n",
       "2                   NaN                  NaN                    NaN   \n",
       "3                   NaN                  NaN                    NaN   \n",
       "4                   NaN                  NaN                    NaN   \n",
       "\n",
       "   WISC4 Let Num Scaled WISC4 Coding Scaled WISC4 Sym Scaled Age at MPRAGE  \\\n",
       "0                   NaN                 NaN              NaN           NaN   \n",
       "1                   NaN                 NaN              NaN           NaN   \n",
       "2                   NaN                 NaN              NaN           NaN   \n",
       "3                   NaN                 NaN              NaN           NaN   \n",
       "4                   NaN                 NaN              NaN           NaN   \n",
       "\n",
       "   Current Med Status  Medication Name  Off stimulants at EPI scan?  \n",
       "0                   0              NaN                          NaN  \n",
       "1                   0              NaN                          NaN  \n",
       "2                   0              NaN                          NaN  \n",
       "3                   0              NaN                          NaN  \n",
       "4                   0              NaN                          NaN  \n",
       "\n",
       "[5 rows x 79 columns]"
      ]
     },
     "execution_count": 7,
     "metadata": {},
     "output_type": "execute_result"
    }
   ],
   "source": [
    "df = pd.read_csv('./CSVs/ABIDE-legend.csv',header=0)\n",
    "df = df.iloc[np.array([df['BIDS_ID'].values[s] in ABIDE_subs for s in range(len(df))])]\n",
    "df.reset_index(inplace=True)\n",
    "\n",
    "assert len(df)==len(ABIDE_subs),'dif lenghts'\n",
    "assert all([df['BIDS_ID'][s]==ABIDE_subs[s] for s in range(len(df))]),'mismatch between df and goodsubs'\n",
    "\n",
    "df.head(5)"
   ]
  },
  {
   "cell_type": "code",
   "execution_count": 8,
   "metadata": {
    "colab": {
     "base_uri": "https://localhost:8080/"
    },
    "execution": {
     "iopub.execute_input": "2020-12-02T23:27:55.836434Z",
     "iopub.status.busy": "2020-12-02T23:27:55.835725Z",
     "iopub.status.idle": "2020-12-02T23:27:56.274275Z",
     "shell.execute_reply": "2020-12-02T23:27:56.273063Z"
    },
    "executionInfo": {
     "elapsed": 18103,
     "status": "ok",
     "timestamp": 1605180770191,
     "user": {
      "displayName": "Aidas Aglinskas",
      "photoUrl": "",
      "userId": "17395860064084454693"
     },
     "user_tz": -60
    },
    "id": "ZoqlzdzD-U6g",
    "outputId": "ee8fb674-ec15-4efb-d38c-37f117651af6",
    "papermill": {
     "duration": 0.481903,
     "end_time": "2020-12-02T23:27:56.274615",
     "exception": false,
     "start_time": "2020-12-02T23:27:55.792712",
     "status": "completed"
    },
    "tags": []
   },
   "outputs": [
    {
     "name": "stdout",
     "output_type": "stream",
     "text": [
      "(500, 64, 64, 64)\n",
      "(456, 64, 64, 64)\n"
     ]
    }
   ],
   "source": [
    "TD_subs = ABIDE_data[np.array(df['Subject Type']=='CONTROL'),:,:,:]\n",
    "DX_subs = ABIDE_data[np.array(df['Subject Type']=='PATIENT'),:,:,:]\n",
    "\n",
    "print(TD_subs.shape)\n",
    "print(DX_subs.shape)"
   ]
  },
  {
   "cell_type": "code",
   "execution_count": 9,
   "metadata": {
    "execution": {
     "iopub.execute_input": "2020-12-02T23:27:56.361307Z",
     "iopub.status.busy": "2020-12-02T23:27:56.360566Z",
     "iopub.status.idle": "2020-12-02T23:27:56.363703Z",
     "shell.execute_reply": "2020-12-02T23:27:56.362976Z"
    },
    "executionInfo": {
     "elapsed": 18099,
     "status": "ok",
     "timestamp": 1605180770192,
     "user": {
      "displayName": "Aidas Aglinskas",
      "photoUrl": "",
      "userId": "17395860064084454693"
     },
     "user_tz": -60
    },
    "id": "xOdwBNsmF6Ee",
    "papermill": {
     "duration": 0.042262,
     "end_time": "2020-12-02T23:27:56.363855",
     "exception": false,
     "start_time": "2020-12-02T23:27:56.321593",
     "status": "completed"
    },
    "tags": []
   },
   "outputs": [],
   "source": [
    "dxArr = np.ones(len(df))\n",
    "dxArr[np.array(df['Subject Type']=='PATIENT')]=2"
   ]
  },
  {
   "cell_type": "markdown",
   "metadata": {
    "id": "BTN1pbr7mnxq",
    "papermill": {
     "duration": 0.024869,
     "end_time": "2020-12-02T23:27:56.416667",
     "exception": false,
     "start_time": "2020-12-02T23:27:56.391798",
     "status": "completed"
    },
    "tags": []
   },
   "source": [
    "TRAIN THE VAE"
   ]
  },
  {
   "cell_type": "code",
   "execution_count": 10,
   "metadata": {
    "colab": {
     "base_uri": "https://localhost:8080/",
     "height": 337
    },
    "execution": {
     "iopub.execute_input": "2020-12-02T23:27:56.473646Z",
     "iopub.status.busy": "2020-12-02T23:27:56.468364Z",
     "iopub.status.idle": "2020-12-02T23:27:56.476713Z",
     "shell.execute_reply": "2020-12-02T23:27:56.477050Z"
    },
    "executionInfo": {
     "elapsed": 46207,
     "status": "ok",
     "timestamp": 1605181284251,
     "user": {
      "displayName": "Aidas Aglinskas",
      "photoUrl": "",
      "userId": "17395860064084454693"
     },
     "user_tz": -60
    },
    "id": "ny0tO8kropHG",
    "outputId": "0e08cf03-fa41-4a47-f6e8-0a250b6aab06",
    "papermill": {
     "duration": 0.037789,
     "end_time": "2020-12-02T23:27:56.477178",
     "exception": false,
     "start_time": "2020-12-02T23:27:56.439389",
     "status": "completed"
    },
    "tags": []
   },
   "outputs": [],
   "source": [
    "from scipy.spatial.distance import pdist\n",
    "from scipy.spatial.distance import squareform\n",
    "\n",
    "def plot_state_cvae():\n",
    "    plt.figure(figsize=(12,5))\n",
    "    plt.subplot(1,3,1)\n",
    "    plt.imshow(vae.predict(TD_batch)[0,32,:,:,0])\n",
    "    plt.subplot(1,3,2)\n",
    "    plt.imshow(decoder.predict(np.random.randn(3,2))[0,32,:,:,0])\n",
    "    plt.subplot(1,3,3)\n",
    "    arr = encoder.predict(ABIDE_data)[2]\n",
    "    plt.scatter(arr[:,0],arr[:,1],c=dxArr)"
   ]
  },
  {
   "cell_type": "code",
   "execution_count": 11,
   "metadata": {
    "colab": {
     "base_uri": "https://localhost:8080/"
    },
    "execution": {
     "iopub.execute_input": "2020-12-02T23:27:56.518771Z",
     "iopub.status.busy": "2020-12-02T23:27:56.518373Z",
     "iopub.status.idle": "2020-12-02T23:27:56.521523Z",
     "shell.execute_reply": "2020-12-02T23:27:56.521838Z"
    },
    "executionInfo": {
     "elapsed": 30176,
     "status": "ok",
     "timestamp": 1605180782278,
     "user": {
      "displayName": "Aidas Aglinskas",
      "photoUrl": "",
      "userId": "17395860064084454693"
     },
     "user_tz": -60
    },
    "id": "qllddMarnEr2",
    "outputId": "c652080e-71da-48f3-9cdd-16d15aeb9f89",
    "papermill": {
     "duration": 0.026005,
     "end_time": "2020-12-02T23:27:56.521945",
     "exception": false,
     "start_time": "2020-12-02T23:27:56.495940",
     "status": "completed"
    },
    "tags": []
   },
   "outputs": [],
   "source": [
    "#encoder, decoder, vae = get_MRI_CVAE_3D(input_shape=(64, 64, 64, 1), latent_dim=2, batch_size=32, disentangle=False, gamma=1)\n",
    "#vae.load_weights('../tf_outputs/weights/lol')"
   ]
  },
  {
   "cell_type": "code",
   "execution_count": 12,
   "metadata": {
    "execution": {
     "iopub.execute_input": "2020-12-02T23:27:56.559132Z",
     "iopub.status.busy": "2020-12-02T23:27:56.558769Z",
     "iopub.status.idle": "2020-12-02T23:27:56.561882Z",
     "shell.execute_reply": "2020-12-02T23:27:56.561567Z"
    },
    "executionInfo": {
     "elapsed": 67249,
     "status": "ok",
     "timestamp": 1605180819360,
     "user": {
      "displayName": "Aidas Aglinskas",
      "photoUrl": "",
      "userId": "17395860064084454693"
     },
     "user_tz": -60
    },
    "id": "75Xo-sRXnEuw",
    "papermill": {
     "duration": 0.023377,
     "end_time": "2020-12-02T23:27:56.561965",
     "exception": false,
     "start_time": "2020-12-02T23:27:56.538588",
     "status": "completed"
    },
    "tags": []
   },
   "outputs": [],
   "source": [
    "#plot_state_cvae()"
   ]
  },
  {
   "cell_type": "markdown",
   "metadata": {
    "id": "LAbH8lm-nXUt",
    "papermill": {
     "duration": 0.015773,
     "end_time": "2020-12-02T23:27:56.593687",
     "exception": false,
     "start_time": "2020-12-02T23:27:56.577914",
     "status": "completed"
    },
    "tags": []
   },
   "source": [
    "# TRAIN THE CONTRASTIVE VAE"
   ]
  },
  {
   "cell_type": "markdown",
   "metadata": {
    "tags": [
     "papermill-error-cell-tag"
    ]
   },
   "source": [
    "<span id=\"papermill-error-cell\" style=\"color:red; font-family:Helvetica Neue, Helvetica, Arial, sans-serif; font-size:2em;\">Execution using papermill encountered an exception here and stopped:</span>"
   ]
  },
  {
   "cell_type": "code",
   "execution_count": 13,
   "metadata": {
    "colab": {
     "base_uri": "https://localhost:8080/"
    },
    "execution": {
     "iopub.execute_input": "2020-12-02T23:27:56.631992Z",
     "iopub.status.busy": "2020-12-02T23:27:56.631626Z",
     "iopub.status.idle": "2020-12-02T23:27:59.677265Z",
     "shell.execute_reply": "2020-12-02T23:27:59.676075Z"
    },
    "executionInfo": {
     "elapsed": 85196,
     "status": "ok",
     "timestamp": 1605180837311,
     "user": {
      "displayName": "Aidas Aglinskas",
      "photoUrl": "",
      "userId": "17395860064084454693"
     },
     "user_tz": -60
    },
    "id": "koVuSnmjnExm",
    "outputId": "8f8b5dd9-2ee5-42d0-8727-bbb0126fe2cf",
    "papermill": {
     "duration": 3.06805,
     "end_time": "2020-12-02T23:27:59.677680",
     "exception": true,
     "start_time": "2020-12-02T23:27:56.609630",
     "status": "failed"
    },
    "tags": []
   },
   "outputs": [
    {
     "ename": "UnboundLocalError",
     "evalue": "local variable 'x' referenced before assignment",
     "output_type": "error",
     "traceback": [
      "\u001b[0;31m---------------------------------------------------------------------------\u001b[0m",
      "\u001b[0;31mUnboundLocalError\u001b[0m                         Traceback (most recent call last)",
      "\u001b[0;32m<ipython-input-13-218e639e536d>\u001b[0m in \u001b[0;36m<module>\u001b[0;34m\u001b[0m\n\u001b[1;32m      1\u001b[0m \u001b[0mlatent_dim\u001b[0m \u001b[0;34m=\u001b[0m \u001b[0;36m8\u001b[0m\u001b[0;34m\u001b[0m\u001b[0;34m\u001b[0m\u001b[0m\n\u001b[0;32m----> 2\u001b[0;31m \u001b[0mcvae\u001b[0m\u001b[0;34m,\u001b[0m \u001b[0mcvae_fg\u001b[0m\u001b[0;34m,\u001b[0m \u001b[0mz_encoder\u001b[0m\u001b[0;34m,\u001b[0m \u001b[0mz_encoder\u001b[0m\u001b[0;34m,\u001b[0m \u001b[0mcvae_decoder\u001b[0m \u001b[0;34m=\u001b[0m \u001b[0mget_MRI_CCVAE_3D\u001b[0m\u001b[0;34m(\u001b[0m\u001b[0mlatent_dim\u001b[0m\u001b[0;34m=\u001b[0m\u001b[0mlatent_dim\u001b[0m\u001b[0;34m)\u001b[0m\u001b[0;34m\u001b[0m\u001b[0;34m\u001b[0m\u001b[0m\n\u001b[0m\u001b[1;32m      3\u001b[0m \u001b[0;31m#cvae.load_weights('../tf_outputs/3D_CCVAE_Weights/lol')\u001b[0m\u001b[0;34m\u001b[0m\u001b[0;34m\u001b[0m\u001b[0;34m\u001b[0m\u001b[0m\n",
      "\u001b[0;32m/gsfs0/data/aglinsai/BC-MRI-AE/Colab Notebooks/mri_utils.py\u001b[0m in \u001b[0;36mget_MRI_CCVAE_3D\u001b[0;34m(input_shape, latent_dim, beta, disentangle, gamma, bias)\u001b[0m\n\u001b[1;32m    161\u001b[0m                    \u001b[0mactivation\u001b[0m\u001b[0;34m=\u001b[0m\u001b[0;34m'relu'\u001b[0m\u001b[0;34m,\u001b[0m\u001b[0;34m\u001b[0m\u001b[0;34m\u001b[0m\u001b[0m\n\u001b[1;32m    162\u001b[0m                    \u001b[0mstrides\u001b[0m\u001b[0;34m=\u001b[0m\u001b[0;36m2\u001b[0m\u001b[0;34m,\u001b[0m\u001b[0;34m\u001b[0m\u001b[0;34m\u001b[0m\u001b[0m\n\u001b[0;32m--> 163\u001b[0;31m                    padding='same')(x)\n\u001b[0m\u001b[1;32m    164\u001b[0m \u001b[0;34m\u001b[0m\u001b[0m\n\u001b[1;32m    165\u001b[0m     z_conv1 = Conv3D(filters=filters*2,\n",
      "\u001b[0;31mUnboundLocalError\u001b[0m: local variable 'x' referenced before assignment"
     ]
    }
   ],
   "source": [
    "latent_dim = 8\n",
    "cvae, cvae_fg, z_encoder, z_encoder, cvae_decoder = get_MRI_CCVAE_3D(latent_dim=latent_dim)\n",
    "#cvae.load_weights('../tf_outputs/3D_CCVAE_Weights/lol')"
   ]
  },
  {
   "cell_type": "code",
   "execution_count": null,
   "metadata": {
    "papermill": {
     "duration": null,
     "end_time": null,
     "exception": null,
     "start_time": null,
     "status": "pending"
    },
    "tags": []
   },
   "outputs": [],
   "source": [
    "def plot_state_ccvae(latent_dim):\n",
    "    plt.figure(figsize=(12,5))\n",
    "    plt.subplot(1,3,1)\n",
    "    plt.imshow(cvae.predict([TD_batch,TD_batch])[0][0,32,:,:,0])\n",
    "    plt.subplot(1,3,2)\n",
    "    plt.imshow(cvae_decoder.predict(np.random.randn(3,latent_dim*2))[0,32,:,:,0])\n",
    "    plt.subplot(1,3,3)\n",
    "    arr = z_encoder.predict(ABIDE_data)[2]\n",
    "    plt.scatter(arr[:,0],arr[:,1],c=dxArr)"
   ]
  },
  {
   "cell_type": "code",
   "execution_count": null,
   "metadata": {
    "papermill": {
     "duration": null,
     "end_time": null,
     "exception": null,
     "start_time": null,
     "status": "pending"
    },
    "tags": []
   },
   "outputs": [],
   "source": [
    "plot_state_ccvae(latent_dim)"
   ]
  },
  {
   "cell_type": "code",
   "execution_count": null,
   "metadata": {
    "executionInfo": {
     "elapsed": 95401,
     "status": "ok",
     "timestamp": 1605180847524,
     "user": {
      "displayName": "Aidas Aglinskas",
      "photoUrl": "",
      "userId": "17395860064084454693"
     },
     "user_tz": -60
    },
    "id": "dVA0MU3Nnc6C",
    "papermill": {
     "duration": null,
     "end_time": null,
     "exception": null,
     "start_time": null,
     "status": "pending"
    },
    "tags": []
   },
   "outputs": [],
   "source": [
    "t0 = now()\n",
    "print(f'started: {now()}')\n",
    "for i in range(2):\n",
    "    e0 = now()\n",
    "    hist = cvae.fit([DX_batch,TD_batch],epochs=1)\n",
    "    cvae.save_weights('../tf_outputs/3D_CCVAE_Weights/Nov23')\n",
    "    print(f\"epoch time: {now()-e0}, elapsed time: {now()-t0}\")\n",
    "    \n",
    "    if np.mod(i,25)==0:\n",
    "        plot_state_ccvae(latent_dim)\n",
    "        plt.show()\n",
    "        \n",
    "print(f'done in: {now()-t0}')"
   ]
  },
  {
   "cell_type": "code",
   "execution_count": null,
   "metadata": {
    "papermill": {
     "duration": null,
     "end_time": null,
     "exception": null,
     "start_time": null,
     "status": "pending"
    },
    "tags": []
   },
   "outputs": [],
   "source": []
  },
  {
   "cell_type": "code",
   "execution_count": null,
   "metadata": {
    "papermill": {
     "duration": null,
     "end_time": null,
     "exception": null,
     "start_time": null,
     "status": "pending"
    },
    "tags": []
   },
   "outputs": [],
   "source": []
  },
  {
   "cell_type": "code",
   "execution_count": null,
   "metadata": {
    "papermill": {
     "duration": null,
     "end_time": null,
     "exception": null,
     "start_time": null,
     "status": "pending"
    },
    "tags": []
   },
   "outputs": [],
   "source": []
  },
  {
   "cell_type": "code",
   "execution_count": null,
   "metadata": {
    "papermill": {
     "duration": null,
     "end_time": null,
     "exception": null,
     "start_time": null,
     "status": "pending"
    },
    "tags": []
   },
   "outputs": [],
   "source": []
  },
  {
   "cell_type": "code",
   "execution_count": null,
   "metadata": {
    "papermill": {
     "duration": null,
     "end_time": null,
     "exception": null,
     "start_time": null,
     "status": "pending"
    },
    "tags": []
   },
   "outputs": [],
   "source": []
  },
  {
   "cell_type": "code",
   "execution_count": null,
   "metadata": {
    "papermill": {
     "duration": null,
     "end_time": null,
     "exception": null,
     "start_time": null,
     "status": "pending"
    },
    "tags": []
   },
   "outputs": [],
   "source": []
  },
  {
   "cell_type": "code",
   "execution_count": null,
   "metadata": {
    "papermill": {
     "duration": null,
     "end_time": null,
     "exception": null,
     "start_time": null,
     "status": "pending"
    },
    "tags": []
   },
   "outputs": [],
   "source": []
  },
  {
   "cell_type": "code",
   "execution_count": null,
   "metadata": {
    "papermill": {
     "duration": null,
     "end_time": null,
     "exception": null,
     "start_time": null,
     "status": "pending"
    },
    "tags": []
   },
   "outputs": [],
   "source": []
  },
  {
   "cell_type": "code",
   "execution_count": null,
   "metadata": {
    "papermill": {
     "duration": null,
     "end_time": null,
     "exception": null,
     "start_time": null,
     "status": "pending"
    },
    "tags": []
   },
   "outputs": [],
   "source": []
  },
  {
   "cell_type": "code",
   "execution_count": null,
   "metadata": {
    "papermill": {
     "duration": null,
     "end_time": null,
     "exception": null,
     "start_time": null,
     "status": "pending"
    },
    "tags": []
   },
   "outputs": [],
   "source": []
  },
  {
   "cell_type": "code",
   "execution_count": null,
   "metadata": {
    "papermill": {
     "duration": null,
     "end_time": null,
     "exception": null,
     "start_time": null,
     "status": "pending"
    },
    "tags": []
   },
   "outputs": [],
   "source": []
  },
  {
   "cell_type": "code",
   "execution_count": null,
   "metadata": {
    "papermill": {
     "duration": null,
     "end_time": null,
     "exception": null,
     "start_time": null,
     "status": "pending"
    },
    "tags": []
   },
   "outputs": [],
   "source": []
  },
  {
   "cell_type": "code",
   "execution_count": null,
   "metadata": {
    "papermill": {
     "duration": null,
     "end_time": null,
     "exception": null,
     "start_time": null,
     "status": "pending"
    },
    "tags": []
   },
   "outputs": [],
   "source": []
  },
  {
   "cell_type": "code",
   "execution_count": null,
   "metadata": {
    "papermill": {
     "duration": null,
     "end_time": null,
     "exception": null,
     "start_time": null,
     "status": "pending"
    },
    "tags": []
   },
   "outputs": [],
   "source": []
  },
  {
   "cell_type": "code",
   "execution_count": null,
   "metadata": {
    "papermill": {
     "duration": null,
     "end_time": null,
     "exception": null,
     "start_time": null,
     "status": "pending"
    },
    "tags": []
   },
   "outputs": [],
   "source": []
  },
  {
   "cell_type": "code",
   "execution_count": null,
   "metadata": {
    "papermill": {
     "duration": null,
     "end_time": null,
     "exception": null,
     "start_time": null,
     "status": "pending"
    },
    "tags": []
   },
   "outputs": [],
   "source": []
  },
  {
   "cell_type": "code",
   "execution_count": null,
   "metadata": {
    "papermill": {
     "duration": null,
     "end_time": null,
     "exception": null,
     "start_time": null,
     "status": "pending"
    },
    "tags": []
   },
   "outputs": [],
   "source": []
  },
  {
   "cell_type": "code",
   "execution_count": null,
   "metadata": {
    "papermill": {
     "duration": null,
     "end_time": null,
     "exception": null,
     "start_time": null,
     "status": "pending"
    },
    "tags": []
   },
   "outputs": [],
   "source": []
  },
  {
   "cell_type": "code",
   "execution_count": null,
   "metadata": {
    "papermill": {
     "duration": null,
     "end_time": null,
     "exception": null,
     "start_time": null,
     "status": "pending"
    },
    "tags": []
   },
   "outputs": [],
   "source": []
  },
  {
   "cell_type": "code",
   "execution_count": null,
   "metadata": {
    "papermill": {
     "duration": null,
     "end_time": null,
     "exception": null,
     "start_time": null,
     "status": "pending"
    },
    "tags": []
   },
   "outputs": [],
   "source": []
  }
 ],
 "metadata": {
  "accelerator": "GPU",
  "colab": {
   "collapsed_sections": [],
   "name": "MRI-CCAE-3D.ipynb",
   "provenance": []
  },
  "kernelspec": {
   "display_name": "Python 3",
   "language": "python",
   "name": "python3"
  },
  "language_info": {
   "codemirror_mode": {
    "name": "ipython",
    "version": 3
   },
   "file_extension": ".py",
   "mimetype": "text/x-python",
   "name": "python",
   "nbconvert_exporter": "python",
   "pygments_lexer": "ipython3",
   "version": "3.7.6"
  },
  "papermill": {
   "default_parameters": {},
   "duration": 73.611285,
   "end_time": "2020-12-02T23:28:04.530082",
   "environment_variables": {},
   "exception": true,
   "input_path": "MRI-CCAE-3D-TRAIN-CCAE.ipynb",
   "output_path": "../MRI-CCAE-3D-TRAIN-CCAE.ipynb",
   "parameters": {},
   "start_time": "2020-12-02T23:26:50.918797",
   "version": "2.2.2"
  }
 },
 "nbformat": 4,
 "nbformat_minor": 4
}
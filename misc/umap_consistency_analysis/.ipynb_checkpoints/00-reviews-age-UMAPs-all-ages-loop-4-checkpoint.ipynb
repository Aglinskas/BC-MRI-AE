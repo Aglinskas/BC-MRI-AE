{
 "cells": [
  {
   "cell_type": "code",
   "execution_count": 1,
   "id": "ea76db21",
   "metadata": {
    "execution": {
     "iopub.execute_input": "2022-02-02T13:46:04.522378Z",
     "iopub.status.busy": "2022-02-02T13:46:04.522002Z",
     "iopub.status.idle": "2022-02-02T13:46:04.523914Z",
     "shell.execute_reply": "2022-02-02T13:46:04.524185Z"
    },
    "papermill": {
     "duration": 0.026066,
     "end_time": "2022-02-02T13:46:04.524360",
     "exception": false,
     "start_time": "2022-02-02T13:46:04.498294",
     "status": "completed"
    },
    "tags": []
   },
   "outputs": [
    {
     "data": {
      "text/plain": [
       "'/mmfs1/data/aglinska/BC-MRI-AE/Colab Notebooks'"
      ]
     },
     "execution_count": 1,
     "metadata": {},
     "output_type": "execute_result"
    }
   ],
   "source": [
    "pwd"
   ]
  },
  {
   "cell_type": "code",
   "execution_count": 2,
   "id": "3dd4eb4d",
   "metadata": {
    "execution": {
     "iopub.execute_input": "2022-02-02T13:46:04.549160Z",
     "iopub.status.busy": "2022-02-02T13:46:04.548801Z",
     "iopub.status.idle": "2022-02-02T13:46:04.550186Z",
     "shell.execute_reply": "2022-02-02T13:46:04.550462Z"
    },
    "papermill": {
     "duration": 0.014897,
     "end_time": "2022-02-02T13:46:04.550552",
     "exception": false,
     "start_time": "2022-02-02T13:46:04.535655",
     "status": "completed"
    },
    "tags": [
     "parameters"
    ]
   },
   "outputs": [],
   "source": [
    "#this cell is tagged \"parameters\"\n",
    "analysis_number = 1"
   ]
  },
  {
   "cell_type": "code",
   "execution_count": 3,
   "id": "17cfe6dc",
   "metadata": {
    "execution": {
     "iopub.execute_input": "2022-02-02T13:46:04.574828Z",
     "iopub.status.busy": "2022-02-02T13:46:04.574479Z",
     "iopub.status.idle": "2022-02-02T13:46:04.576121Z",
     "shell.execute_reply": "2022-02-02T13:46:04.575838Z"
    },
    "papermill": {
     "duration": 0.01472,
     "end_time": "2022-02-02T13:46:04.576194",
     "exception": false,
     "start_time": "2022-02-02T13:46:04.561474",
     "status": "completed"
    },
    "tags": [
     "injected-parameters"
    ]
   },
   "outputs": [],
   "source": [
    "# Parameters\n",
    "analysis_number = 4\n"
   ]
  },
  {
   "cell_type": "code",
   "execution_count": 4,
   "id": "0d49a487",
   "metadata": {
    "execution": {
     "iopub.execute_input": "2022-02-02T13:46:04.601204Z",
     "iopub.status.busy": "2022-02-02T13:46:04.600872Z",
     "iopub.status.idle": "2022-02-02T13:46:21.097592Z",
     "shell.execute_reply": "2022-02-02T13:46:21.097295Z"
    },
    "papermill": {
     "duration": 16.510527,
     "end_time": "2022-02-02T13:46:21.097675",
     "exception": false,
     "start_time": "2022-02-02T13:46:04.587148",
     "status": "completed"
    },
    "tags": []
   },
   "outputs": [
    {
     "name": "stdout",
     "output_type": "stream",
     "text": [
      "2022-02-02 08:46:21.093531\n"
     ]
    }
   ],
   "source": [
    "import numpy as np\n",
    "import pandas as pd\n",
    "import pickle\n",
    "\n",
    "from matplotlib import pyplot as plt\n",
    "import seaborn as sns\n",
    "\n",
    "import os\n",
    "import ants\n",
    "from tqdm import tqdm\n",
    "\n",
    "import umap\n",
    "\n",
    "from datetime import datetime;now = datetime.now;t0=now();print(t0)"
   ]
  },
  {
   "cell_type": "code",
   "execution_count": 5,
   "id": "1c07ade7",
   "metadata": {
    "execution": {
     "iopub.execute_input": "2022-02-02T13:46:21.128196Z",
     "iopub.status.busy": "2022-02-02T13:46:21.127864Z",
     "iopub.status.idle": "2022-02-02T13:46:21.163613Z",
     "shell.execute_reply": "2022-02-02T13:46:21.163296Z"
    },
    "papermill": {
     "duration": 0.050787,
     "end_time": "2022-02-02T13:46:21.163683",
     "exception": false,
     "start_time": "2022-02-02T13:46:21.112896",
     "status": "completed"
    },
    "tags": []
   },
   "outputs": [
    {
     "data": {
      "text/html": [
       "<div>\n",
       "<style scoped>\n",
       "    .dataframe tbody tr th:only-of-type {\n",
       "        vertical-align: middle;\n",
       "    }\n",
       "\n",
       "    .dataframe tbody tr th {\n",
       "        vertical-align: top;\n",
       "    }\n",
       "\n",
       "    .dataframe thead th {\n",
       "        text-align: right;\n",
       "    }\n",
       "</style>\n",
       "<table border=\"1\" class=\"dataframe\">\n",
       "  <thead>\n",
       "    <tr style=\"text-align: right;\">\n",
       "      <th></th>\n",
       "      <th>Unnamed: 0</th>\n",
       "      <th>index</th>\n",
       "      <th>BIDS_ID</th>\n",
       "      <th>Anonymized ID</th>\n",
       "      <th>Subject Type</th>\n",
       "      <th>Visit</th>\n",
       "      <th>Days since enrollment</th>\n",
       "      <th>SubID</th>\n",
       "      <th>DxGroup</th>\n",
       "      <th>DSMIVTR</th>\n",
       "      <th>...</th>\n",
       "      <th>WISC4 Sym Scaled</th>\n",
       "      <th>Age at MPRAGE</th>\n",
       "      <th>Current Med Status</th>\n",
       "      <th>Medication Name</th>\n",
       "      <th>Medication Name.1</th>\n",
       "      <th>Off stimulants at EPI scan?</th>\n",
       "      <th>ScanSite</th>\n",
       "      <th>ScannerType</th>\n",
       "      <th>ScannerID</th>\n",
       "      <th>ScanSiteID</th>\n",
       "    </tr>\n",
       "  </thead>\n",
       "  <tbody>\n",
       "    <tr>\n",
       "      <th>0</th>\n",
       "      <td>0</td>\n",
       "      <td>0</td>\n",
       "      <td>sub-001</td>\n",
       "      <td>A00033348</td>\n",
       "      <td>PATIENT</td>\n",
       "      <td>session_1</td>\n",
       "      <td>8</td>\n",
       "      <td>51320</td>\n",
       "      <td>1</td>\n",
       "      <td>2.0</td>\n",
       "      <td>...</td>\n",
       "      <td>NaN</td>\n",
       "      <td>NaN</td>\n",
       "      <td>0.0</td>\n",
       "      <td>NaN</td>\n",
       "      <td>NaN</td>\n",
       "      <td>NaN</td>\n",
       "      <td>mpg</td>\n",
       "      <td>verio</td>\n",
       "      <td>7</td>\n",
       "      <td>3</td>\n",
       "    </tr>\n",
       "    <tr>\n",
       "      <th>1</th>\n",
       "      <td>1</td>\n",
       "      <td>1</td>\n",
       "      <td>sub-002</td>\n",
       "      <td>A00033398</td>\n",
       "      <td>CONTROL</td>\n",
       "      <td>session_1</td>\n",
       "      <td>8</td>\n",
       "      <td>51373</td>\n",
       "      <td>2</td>\n",
       "      <td>0.0</td>\n",
       "      <td>...</td>\n",
       "      <td>NaN</td>\n",
       "      <td>NaN</td>\n",
       "      <td>0.0</td>\n",
       "      <td>NaN</td>\n",
       "      <td>NaN</td>\n",
       "      <td>NaN</td>\n",
       "      <td>mpg</td>\n",
       "      <td>verio</td>\n",
       "      <td>7</td>\n",
       "      <td>3</td>\n",
       "    </tr>\n",
       "    <tr>\n",
       "      <th>2</th>\n",
       "      <td>2</td>\n",
       "      <td>2</td>\n",
       "      <td>sub-003</td>\n",
       "      <td>A00033352</td>\n",
       "      <td>PATIENT</td>\n",
       "      <td>session_1</td>\n",
       "      <td>8</td>\n",
       "      <td>51324</td>\n",
       "      <td>1</td>\n",
       "      <td>2.0</td>\n",
       "      <td>...</td>\n",
       "      <td>NaN</td>\n",
       "      <td>NaN</td>\n",
       "      <td>0.0</td>\n",
       "      <td>NaN</td>\n",
       "      <td>NaN</td>\n",
       "      <td>NaN</td>\n",
       "      <td>mpg</td>\n",
       "      <td>verio</td>\n",
       "      <td>7</td>\n",
       "      <td>3</td>\n",
       "    </tr>\n",
       "    <tr>\n",
       "      <th>3</th>\n",
       "      <td>3</td>\n",
       "      <td>3</td>\n",
       "      <td>sub-004</td>\n",
       "      <td>A00033389</td>\n",
       "      <td>CONTROL</td>\n",
       "      <td>session_1</td>\n",
       "      <td>8</td>\n",
       "      <td>51364</td>\n",
       "      <td>2</td>\n",
       "      <td>0.0</td>\n",
       "      <td>...</td>\n",
       "      <td>NaN</td>\n",
       "      <td>NaN</td>\n",
       "      <td>0.0</td>\n",
       "      <td>NaN</td>\n",
       "      <td>NaN</td>\n",
       "      <td>NaN</td>\n",
       "      <td>mpg</td>\n",
       "      <td>verio</td>\n",
       "      <td>7</td>\n",
       "      <td>3</td>\n",
       "    </tr>\n",
       "    <tr>\n",
       "      <th>4</th>\n",
       "      <td>4</td>\n",
       "      <td>4</td>\n",
       "      <td>sub-005</td>\n",
       "      <td>A00033354</td>\n",
       "      <td>PATIENT</td>\n",
       "      <td>session_1</td>\n",
       "      <td>8</td>\n",
       "      <td>51326</td>\n",
       "      <td>1</td>\n",
       "      <td>2.0</td>\n",
       "      <td>...</td>\n",
       "      <td>NaN</td>\n",
       "      <td>NaN</td>\n",
       "      <td>0.0</td>\n",
       "      <td>NaN</td>\n",
       "      <td>NaN</td>\n",
       "      <td>NaN</td>\n",
       "      <td>mpg</td>\n",
       "      <td>verio</td>\n",
       "      <td>7</td>\n",
       "      <td>3</td>\n",
       "    </tr>\n",
       "    <tr>\n",
       "      <th>...</th>\n",
       "      <td>...</td>\n",
       "      <td>...</td>\n",
       "      <td>...</td>\n",
       "      <td>...</td>\n",
       "      <td>...</td>\n",
       "      <td>...</td>\n",
       "      <td>...</td>\n",
       "      <td>...</td>\n",
       "      <td>...</td>\n",
       "      <td>...</td>\n",
       "      <td>...</td>\n",
       "      <td>...</td>\n",
       "      <td>...</td>\n",
       "      <td>...</td>\n",
       "      <td>...</td>\n",
       "      <td>...</td>\n",
       "      <td>...</td>\n",
       "      <td>...</td>\n",
       "      <td>...</td>\n",
       "      <td>...</td>\n",
       "      <td>...</td>\n",
       "    </tr>\n",
       "    <tr>\n",
       "      <th>977</th>\n",
       "      <td>977</td>\n",
       "      <td>1094</td>\n",
       "      <td>sub-985</td>\n",
       "      <td>A00032725</td>\n",
       "      <td>CONTROL</td>\n",
       "      <td>session_1</td>\n",
       "      <td>28</td>\n",
       "      <td>51252</td>\n",
       "      <td>2</td>\n",
       "      <td>0.0</td>\n",
       "      <td>...</td>\n",
       "      <td>NaN</td>\n",
       "      <td>10.99</td>\n",
       "      <td>0.0</td>\n",
       "      <td>NaN</td>\n",
       "      <td>NaN</td>\n",
       "      <td>NaN</td>\n",
       "      <td>ucla</td>\n",
       "      <td>triotim</td>\n",
       "      <td>6</td>\n",
       "      <td>12</td>\n",
       "    </tr>\n",
       "    <tr>\n",
       "      <th>978</th>\n",
       "      <td>978</td>\n",
       "      <td>1095</td>\n",
       "      <td>sub-986</td>\n",
       "      <td>A00032704</td>\n",
       "      <td>PATIENT</td>\n",
       "      <td>session_1</td>\n",
       "      <td>28</td>\n",
       "      <td>51229</td>\n",
       "      <td>1</td>\n",
       "      <td>1.0</td>\n",
       "      <td>...</td>\n",
       "      <td>NaN</td>\n",
       "      <td>14.59</td>\n",
       "      <td>0.0</td>\n",
       "      <td>NaN</td>\n",
       "      <td>NaN</td>\n",
       "      <td>NaN</td>\n",
       "      <td>ucla</td>\n",
       "      <td>triotim</td>\n",
       "      <td>6</td>\n",
       "      <td>12</td>\n",
       "    </tr>\n",
       "    <tr>\n",
       "      <th>979</th>\n",
       "      <td>979</td>\n",
       "      <td>1096</td>\n",
       "      <td>sub-987</td>\n",
       "      <td>A00032740</td>\n",
       "      <td>CONTROL</td>\n",
       "      <td>session_1</td>\n",
       "      <td>28</td>\n",
       "      <td>51268</td>\n",
       "      <td>2</td>\n",
       "      <td>0.0</td>\n",
       "      <td>...</td>\n",
       "      <td>NaN</td>\n",
       "      <td>17.78</td>\n",
       "      <td>0.0</td>\n",
       "      <td>NaN</td>\n",
       "      <td>NaN</td>\n",
       "      <td>NaN</td>\n",
       "      <td>ucla</td>\n",
       "      <td>triotim</td>\n",
       "      <td>6</td>\n",
       "      <td>12</td>\n",
       "    </tr>\n",
       "    <tr>\n",
       "      <th>980</th>\n",
       "      <td>980</td>\n",
       "      <td>1098</td>\n",
       "      <td>sub-989</td>\n",
       "      <td>A00032686</td>\n",
       "      <td>PATIENT</td>\n",
       "      <td>session_1</td>\n",
       "      <td>28</td>\n",
       "      <td>51210</td>\n",
       "      <td>1</td>\n",
       "      <td>1.0</td>\n",
       "      <td>...</td>\n",
       "      <td>NaN</td>\n",
       "      <td>16.56</td>\n",
       "      <td>0.0</td>\n",
       "      <td>NaN</td>\n",
       "      <td>NaN</td>\n",
       "      <td>NaN</td>\n",
       "      <td>ucla</td>\n",
       "      <td>triotim</td>\n",
       "      <td>6</td>\n",
       "      <td>12</td>\n",
       "    </tr>\n",
       "    <tr>\n",
       "      <th>981</th>\n",
       "      <td>981</td>\n",
       "      <td>1099</td>\n",
       "      <td>sub-990</td>\n",
       "      <td>A00032702</td>\n",
       "      <td>PATIENT</td>\n",
       "      <td>session_1</td>\n",
       "      <td>28</td>\n",
       "      <td>51227</td>\n",
       "      <td>1</td>\n",
       "      <td>1.0</td>\n",
       "      <td>...</td>\n",
       "      <td>NaN</td>\n",
       "      <td>14.53</td>\n",
       "      <td>0.0</td>\n",
       "      <td>NaN</td>\n",
       "      <td>NaN</td>\n",
       "      <td>NaN</td>\n",
       "      <td>ucla</td>\n",
       "      <td>triotim</td>\n",
       "      <td>6</td>\n",
       "      <td>12</td>\n",
       "    </tr>\n",
       "  </tbody>\n",
       "</table>\n",
       "<p>982 rows × 90 columns</p>\n",
       "</div>"
      ],
      "text/plain": [
       "     Unnamed: 0  index  BIDS_ID Anonymized ID Subject Type      Visit  \\\n",
       "0             0      0  sub-001     A00033348      PATIENT  session_1   \n",
       "1             1      1  sub-002     A00033398      CONTROL  session_1   \n",
       "2             2      2  sub-003     A00033352      PATIENT  session_1   \n",
       "3             3      3  sub-004     A00033389      CONTROL  session_1   \n",
       "4             4      4  sub-005     A00033354      PATIENT  session_1   \n",
       "..          ...    ...      ...           ...          ...        ...   \n",
       "977         977   1094  sub-985     A00032725      CONTROL  session_1   \n",
       "978         978   1095  sub-986     A00032704      PATIENT  session_1   \n",
       "979         979   1096  sub-987     A00032740      CONTROL  session_1   \n",
       "980         980   1098  sub-989     A00032686      PATIENT  session_1   \n",
       "981         981   1099  sub-990     A00032702      PATIENT  session_1   \n",
       "\n",
       "     Days since enrollment  SubID  DxGroup  DSMIVTR  ...  WISC4 Sym Scaled  \\\n",
       "0                        8  51320        1      2.0  ...               NaN   \n",
       "1                        8  51373        2      0.0  ...               NaN   \n",
       "2                        8  51324        1      2.0  ...               NaN   \n",
       "3                        8  51364        2      0.0  ...               NaN   \n",
       "4                        8  51326        1      2.0  ...               NaN   \n",
       "..                     ...    ...      ...      ...  ...               ...   \n",
       "977                     28  51252        2      0.0  ...               NaN   \n",
       "978                     28  51229        1      1.0  ...               NaN   \n",
       "979                     28  51268        2      0.0  ...               NaN   \n",
       "980                     28  51210        1      1.0  ...               NaN   \n",
       "981                     28  51227        1      1.0  ...               NaN   \n",
       "\n",
       "     Age at MPRAGE  Current Med Status  Medication Name  Medication Name.1  \\\n",
       "0              NaN                 0.0              NaN                NaN   \n",
       "1              NaN                 0.0              NaN                NaN   \n",
       "2              NaN                 0.0              NaN                NaN   \n",
       "3              NaN                 0.0              NaN                NaN   \n",
       "4              NaN                 0.0              NaN                NaN   \n",
       "..             ...                 ...              ...                ...   \n",
       "977          10.99                 0.0              NaN                NaN   \n",
       "978          14.59                 0.0              NaN                NaN   \n",
       "979          17.78                 0.0              NaN                NaN   \n",
       "980          16.56                 0.0              NaN                NaN   \n",
       "981          14.53                 0.0              NaN                NaN   \n",
       "\n",
       "    Off stimulants at EPI scan? ScanSite ScannerType  ScannerID  ScanSiteID  \n",
       "0                           NaN      mpg       verio          7           3  \n",
       "1                           NaN      mpg       verio          7           3  \n",
       "2                           NaN      mpg       verio          7           3  \n",
       "3                           NaN      mpg       verio          7           3  \n",
       "4                           NaN      mpg       verio          7           3  \n",
       "..                          ...      ...         ...        ...         ...  \n",
       "977                         NaN     ucla     triotim          6          12  \n",
       "978                         NaN     ucla     triotim          6          12  \n",
       "979                         NaN     ucla     triotim          6          12  \n",
       "980                         NaN     ucla     triotim          6          12  \n",
       "981                         NaN     ucla     triotim          6          12  \n",
       "\n",
       "[982 rows x 90 columns]"
      ]
     },
     "execution_count": 5,
     "metadata": {},
     "output_type": "execute_result"
    }
   ],
   "source": [
    "df = pd.read_csv('../Data/ABIDE_legend_S982.csv')\n",
    "patients = df['DxGroup'].values==1\n",
    "df_asd = df.iloc[patients]\n",
    "df"
   ]
  },
  {
   "cell_type": "code",
   "execution_count": 6,
   "id": "64906771",
   "metadata": {
    "execution": {
     "iopub.execute_input": "2022-02-02T13:46:21.187874Z",
     "iopub.status.busy": "2022-02-02T13:46:21.187562Z",
     "iopub.status.idle": "2022-02-02T13:46:21.189369Z",
     "shell.execute_reply": "2022-02-02T13:46:21.189084Z"
    },
    "papermill": {
     "duration": 0.014854,
     "end_time": "2022-02-02T13:46:21.189436",
     "exception": false,
     "start_time": "2022-02-02T13:46:21.174582",
     "status": "completed"
    },
    "tags": []
   },
   "outputs": [],
   "source": [
    "# data_latent_vec = np.load('../Data/latent_vecs.npz')\n",
    "# keys = list(data_latent_vec.keys())\n",
    "# print(keys)\n",
    "# for key in keys:\n",
    "#     print(data_latent_vec[key].shape)"
   ]
  },
  {
   "cell_type": "code",
   "execution_count": 7,
   "id": "7ef6c332",
   "metadata": {
    "execution": {
     "iopub.execute_input": "2022-02-02T13:46:21.214218Z",
     "iopub.status.busy": "2022-02-02T13:46:21.213889Z",
     "iopub.status.idle": "2022-02-02T13:46:21.219022Z",
     "shell.execute_reply": "2022-02-02T13:46:21.219280Z"
    },
    "papermill": {
     "duration": 0.01887,
     "end_time": "2022-02-02T13:46:21.219359",
     "exception": false,
     "start_time": "2022-02-02T13:46:21.200489",
     "status": "completed"
    },
    "tags": []
   },
   "outputs": [
    {
     "name": "stdout",
     "output_type": "stream",
     "text": [
      "CPU times: user 1.18 ms, sys: 87 µs, total: 1.27 ms\n",
      "Wall time: 2.97 ms\n"
     ]
    }
   ],
   "source": [
    "%%time\n",
    "embed = pickle.load(open('../Data/embedded_data.pickle','rb'))"
   ]
  },
  {
   "cell_type": "code",
   "execution_count": 8,
   "id": "6a8ebb7d",
   "metadata": {
    "execution": {
     "iopub.execute_input": "2022-02-02T13:46:21.245002Z",
     "iopub.status.busy": "2022-02-02T13:46:21.244681Z",
     "iopub.status.idle": "2022-02-02T13:46:21.248212Z",
     "shell.execute_reply": "2022-02-02T13:46:21.247906Z"
    },
    "papermill": {
     "duration": 0.017512,
     "end_time": "2022-02-02T13:46:21.248279",
     "exception": false,
     "start_time": "2022-02-02T13:46:21.230767",
     "status": "completed"
    },
    "tags": []
   },
   "outputs": [
    {
     "name": "stdout",
     "output_type": "stream",
     "text": [
      "embedding_bg | (470, 16)\n",
      "embedding_sl | (470, 16)\n",
      "embedding_vae | (470, 32)\n",
      "sfari_embedding_vae | (51, 32)\n",
      "sfari_embedding_bg | (51, 16)\n",
      "sfari_embedding_sl | (51, 16)\n",
      "bg_space_abide | (470, 2)\n",
      "sl_space_abide | (470, 2)\n",
      "vae_space_abide | (470, 2)\n",
      "bg_space_sfari | (51, 2)\n",
      "sl_space_sfari | (51, 2)\n",
      "vae_space_sfari | (51, 2)\n",
      "bg_Sspace_sfari | (51, 2)\n",
      "sl_Sspace_sfari | (51, 2)\n",
      "vae_Sspace_sfari | (51, 2)\n",
      "reducer_bg_abide\n",
      "reducer_sl_abide\n",
      "reducer_vae_abide\n",
      "reducer_bg_sfari\n",
      "reducer_sl_sfari\n",
      "reducer_vae_sfari\n"
     ]
    }
   ],
   "source": [
    "keys = list(embed.keys())\n",
    "for key in keys:\n",
    "    try:\n",
    "        print(f'{key} | {embed[key].shape}')\n",
    "    except:\n",
    "        print(f'{key}')"
   ]
  },
  {
   "cell_type": "code",
   "execution_count": 9,
   "id": "6f4ccb44",
   "metadata": {
    "execution": {
     "iopub.execute_input": "2022-02-02T13:46:21.274993Z",
     "iopub.status.busy": "2022-02-02T13:46:21.274662Z",
     "iopub.status.idle": "2022-02-02T13:46:26.598951Z",
     "shell.execute_reply": "2022-02-02T13:46:26.598670Z"
    },
    "papermill": {
     "duration": 5.339211,
     "end_time": "2022-02-02T13:46:26.599029",
     "exception": false,
     "start_time": "2022-02-02T13:46:21.259818",
     "status": "completed"
    },
    "tags": []
   },
   "outputs": [],
   "source": [
    "import umap\n",
    "reducer = umap.UMAP()\n",
    "embedding_sl = reducer.fit_transform(embed['embedding_sl'])"
   ]
  },
  {
   "cell_type": "code",
   "execution_count": 10,
   "id": "6c3e4994",
   "metadata": {
    "execution": {
     "iopub.execute_input": "2022-02-02T13:46:26.626921Z",
     "iopub.status.busy": "2022-02-02T13:46:26.626603Z",
     "iopub.status.idle": "2022-02-02T13:46:26.628465Z",
     "shell.execute_reply": "2022-02-02T13:46:26.628178Z"
    },
    "papermill": {
     "duration": 0.015967,
     "end_time": "2022-02-02T13:46:26.628533",
     "exception": false,
     "start_time": "2022-02-02T13:46:26.612566",
     "status": "completed"
    },
    "tags": []
   },
   "outputs": [],
   "source": [
    "#embedding_sl = embed['sl_space_abide']\n",
    "#embedding_sl = embed['reducer_sl_abide'].transform(embed['embedding_sl'])\n",
    "x_loading = embedding_sl[:,0]\n",
    "y_loading = embedding_sl[:,1]"
   ]
  },
  {
   "cell_type": "code",
   "execution_count": 11,
   "id": "d7b25ae3",
   "metadata": {
    "execution": {
     "iopub.execute_input": "2022-02-02T13:46:26.653492Z",
     "iopub.status.busy": "2022-02-02T13:46:26.653166Z",
     "iopub.status.idle": "2022-02-02T13:46:26.654745Z",
     "shell.execute_reply": "2022-02-02T13:46:26.654998Z"
    },
    "papermill": {
     "duration": 0.015198,
     "end_time": "2022-02-02T13:46:26.655081",
     "exception": false,
     "start_time": "2022-02-02T13:46:26.639883",
     "status": "completed"
    },
    "tags": []
   },
   "outputs": [],
   "source": [
    "# from sklearn.decomposition import PCA\n",
    "# pca = PCA(n_components=2)\n",
    "# embedding_sl = pca.fit_transform(embed['embedding_sl'])\n",
    "# x_loading = embedding_sl[:,0]\n",
    "# y_loading = embedding_sl[:,1]"
   ]
  },
  {
   "cell_type": "code",
   "execution_count": 12,
   "id": "df18168b",
   "metadata": {
    "execution": {
     "iopub.execute_input": "2022-02-02T13:46:26.683738Z",
     "iopub.status.busy": "2022-02-02T13:46:26.683408Z",
     "iopub.status.idle": "2022-02-02T13:46:26.687716Z",
     "shell.execute_reply": "2022-02-02T13:46:26.687388Z"
    },
    "papermill": {
     "duration": 0.021062,
     "end_time": "2022-02-02T13:46:26.687798",
     "exception": false,
     "start_time": "2022-02-02T13:46:26.666736",
     "status": "completed"
    },
    "tags": []
   },
   "outputs": [
    {
     "name": "stdout",
     "output_type": "stream",
     "text": [
      "AgeAtScan | X:0.01,Y:0.01\n",
      "FIQ | X:-0.03,Y:0.14\n",
      "ADOS_Total | X:-0.04,Y:-0.05\n",
      "ADOS_Comm | X:-0.03,Y:0.00\n",
      "ADOS_Social | X:-0.02,Y:-0.06\n",
      "ADOS_StBeh | X:-0.12,Y:0.02\n"
     ]
    }
   ],
   "source": [
    "keys = ['AgeAtScan','FIQ','ADOS_Total','ADOS_Comm', 'ADOS_Social', 'ADOS_StBeh']\n",
    "for key in keys:\n",
    "    vec = df[key].values[patients]\n",
    "    e = np.isnan(vec)\n",
    "    r_x = np.corrcoef(vec[~e],x_loading[~e])[0,1]\n",
    "    r_y = np.corrcoef(vec[~e],y_loading[~e])[0,1]\n",
    "    print(f'{key} | X:{r_x:.2f},Y:{r_y:.2f}')"
   ]
  },
  {
   "cell_type": "code",
   "execution_count": 13,
   "id": "7d255570",
   "metadata": {
    "execution": {
     "iopub.execute_input": "2022-02-02T13:46:26.715937Z",
     "iopub.status.busy": "2022-02-02T13:46:26.715609Z",
     "iopub.status.idle": "2022-02-02T13:46:26.719059Z",
     "shell.execute_reply": "2022-02-02T13:46:26.718777Z"
    },
    "papermill": {
     "duration": 0.019403,
     "end_time": "2022-02-02T13:46:26.719127",
     "exception": false,
     "start_time": "2022-02-02T13:46:26.699724",
     "status": "completed"
    },
    "tags": []
   },
   "outputs": [
    {
     "name": "stdout",
     "output_type": "stream",
     "text": [
      "top | [8.417542 8.928558]\n",
      "botom | [8.417542  3.3216214]\n",
      "left | [5.6338167 6.0899577]\n",
      "right | [11.302703   6.0899577]\n"
     ]
    }
   ],
   "source": [
    "_max = embedding_sl.max(axis=0)\n",
    "_min = embedding_sl.min(axis=0)\n",
    "_mid = embedding_sl.mean(axis=0)\n",
    "\n",
    "# CALC CORNERS\n",
    "top = (_mid[0],_max[1])\n",
    "bottom = (_mid[0],_min[1])\n",
    "left = (_min[0],_mid[1])\n",
    "right = (_max[0],_mid[1])\n",
    "\n",
    "top = np.array(top)\n",
    "bottom = np.array(bottom)\n",
    "left = np.array(left)\n",
    "right = np.array(right)\n",
    "\n",
    "\n",
    "print(f'top | {top}')\n",
    "print(f'botom | {bottom}')\n",
    "print(f'left | {left}')\n",
    "print(f'right | {right}')"
   ]
  },
  {
   "cell_type": "code",
   "execution_count": 14,
   "id": "6753845b",
   "metadata": {
    "execution": {
     "iopub.execute_input": "2022-02-02T13:46:26.747008Z",
     "iopub.status.busy": "2022-02-02T13:46:26.746695Z",
     "iopub.status.idle": "2022-02-02T13:46:26.748902Z",
     "shell.execute_reply": "2022-02-02T13:46:26.748595Z"
    },
    "papermill": {
     "duration": 0.017838,
     "end_time": "2022-02-02T13:46:26.748968",
     "exception": false,
     "start_time": "2022-02-02T13:46:26.731130",
     "status": "completed"
    },
    "tags": []
   },
   "outputs": [],
   "source": [
    "idx_top50 = np.argsort(np.linalg.norm(embedding_sl-top,axis=1))[0:50]\n",
    "idx_bottom50 = np.argsort(np.linalg.norm(embedding_sl-bottom,axis=1))[0:50]\n",
    "\n",
    "idx_left50 = np.argsort(np.linalg.norm(embedding_sl-left,axis=1))[0:50]\n",
    "idx_right50 = np.argsort(np.linalg.norm(embedding_sl-right,axis=1))[0:50]"
   ]
  },
  {
   "cell_type": "code",
   "execution_count": 15,
   "id": "f853ae7b",
   "metadata": {
    "execution": {
     "iopub.execute_input": "2022-02-02T13:46:26.786267Z",
     "iopub.status.busy": "2022-02-02T13:46:26.785020Z",
     "iopub.status.idle": "2022-02-02T13:46:27.000878Z",
     "shell.execute_reply": "2022-02-02T13:46:27.000548Z"
    },
    "papermill": {
     "duration": 0.239954,
     "end_time": "2022-02-02T13:46:27.000949",
     "exception": false,
     "start_time": "2022-02-02T13:46:26.760995",
     "status": "completed"
    },
    "tags": []
   },
   "outputs": [
    {
     "data": {
      "text/plain": [
       "Text(0.5, 1.0, 'SL SPACE')"
      ]
     },
     "execution_count": 15,
     "metadata": {},
     "output_type": "execute_result"
    },
    {
     "data": {
      "image/png": "[encoded data removed]",
      "text/plain": [
       "<Figure size 360x360 with 1 Axes>"
      ]
     },
     "metadata": {
      "needs_background": "light"
     },
     "output_type": "display_data"
    }
   ],
   "source": [
    "plt.figure(figsize=(5,5))\n",
    "plt.scatter(embedding_sl[:,0],embedding_sl[:,1])\n",
    "plt.scatter(embedding_sl[idx_top50,0],embedding_sl[idx_top50,1])\n",
    "plt.scatter(embedding_sl[idx_bottom50,0],embedding_sl[idx_bottom50,1])\n",
    "plt.scatter(embedding_sl[idx_left50,0],embedding_sl[idx_left50,1])\n",
    "plt.scatter(embedding_sl[idx_right50,0],embedding_sl[idx_right50,1])\n",
    "plt.legend(['none','top','bottom','left','right'])\n",
    "plt.title('SL SPACE')"
   ]
  },
  {
   "cell_type": "code",
   "execution_count": 16,
   "id": "9101836e",
   "metadata": {
    "execution": {
     "iopub.execute_input": "2022-02-02T13:46:27.030895Z",
     "iopub.status.busy": "2022-02-02T13:46:27.030575Z",
     "iopub.status.idle": "2022-02-02T13:46:27.032423Z",
     "shell.execute_reply": "2022-02-02T13:46:27.032149Z"
    },
    "papermill": {
     "duration": 0.018031,
     "end_time": "2022-02-02T13:46:27.032490",
     "exception": false,
     "start_time": "2022-02-02T13:46:27.014459",
     "status": "completed"
    },
    "tags": []
   },
   "outputs": [],
   "source": [
    "subs_top50 = df_asd['BIDS_ID'].values[idx_top50]\n",
    "subs_bottom50 = df_asd['BIDS_ID'].values[idx_bottom50]\n",
    "subs_left50 = df_asd['BIDS_ID'].values[idx_left50]\n",
    "subs_right50 = df_asd['BIDS_ID'].values[idx_right50]"
   ]
  },
  {
   "cell_type": "code",
   "execution_count": null,
   "id": "ba18d4f6",
   "metadata": {
    "papermill": {
     "duration": 0.012885,
     "end_time": "2022-02-02T13:46:27.058179",
     "exception": false,
     "start_time": "2022-02-02T13:46:27.045294",
     "status": "completed"
    },
    "tags": []
   },
   "outputs": [],
   "source": []
  },
  {
   "cell_type": "code",
   "execution_count": 17,
   "id": "5054d858",
   "metadata": {
    "execution": {
     "iopub.execute_input": "2022-02-02T13:46:27.088443Z",
     "iopub.status.busy": "2022-02-02T13:46:27.088119Z",
     "iopub.status.idle": "2022-02-02T13:46:27.098785Z",
     "shell.execute_reply": "2022-02-02T13:46:27.098496Z"
    },
    "papermill": {
     "duration": 0.027527,
     "end_time": "2022-02-02T13:46:27.098852",
     "exception": false,
     "start_time": "2022-02-02T13:46:27.071325",
     "status": "completed"
    },
    "tags": []
   },
   "outputs": [],
   "source": [
    "# Save subject list for SPM analyses\n",
    "pd.DataFrame(\n",
    "    np.hstack((subs_bottom50[:,np.newaxis],subs_top50[:,np.newaxis])),\n",
    "    columns=['low','high']).to_csv(\n",
    "    f'../misc/umap_consistency_analysis/corner_TB_{analysis_number:03d}.csv')\n",
    "\n",
    "pd.DataFrame(\n",
    "    np.hstack((subs_left50[:,np.newaxis],subs_right50[:,np.newaxis])),\n",
    "    columns=['low','high']).to_csv(\n",
    "f'../misc/umap_consistency_analysis/corner_LR_{analysis_number:03d}.csv')"
   ]
  },
  {
   "cell_type": "code",
   "execution_count": 18,
   "id": "068ecb60",
   "metadata": {
    "execution": {
     "iopub.execute_input": "2022-02-02T13:46:27.129915Z",
     "iopub.status.busy": "2022-02-02T13:46:27.129591Z",
     "iopub.status.idle": "2022-02-02T13:46:27.131140Z",
     "shell.execute_reply": "2022-02-02T13:46:27.131394Z"
    },
    "papermill": {
     "duration": 0.019622,
     "end_time": "2022-02-02T13:46:27.131471",
     "exception": false,
     "start_time": "2022-02-02T13:46:27.111849",
     "status": "completed"
    },
    "tags": []
   },
   "outputs": [],
   "source": [
    "home = os.getenv(\"HOME\")\n",
    "j_fn_temp =os.path.join(home,'jacobians/normed_Js_masked/{}_normed_Js_masked.nii')\n",
    "#j_fn_temp =os.path.join(home,'jacobians/normed_Js/{}_normed_Js.nii')\n",
    "\n",
    "def glm_second_level(subs_high,subs_low):\n",
    "    from nilearn.glm import threshold_stats_img\n",
    "    from nilearn.glm.second_level import SecondLevelModel\n",
    "    con_name = 't_con'\n",
    "    \n",
    "    files_high = [j_fn_temp.format(sub) for sub in subs_high]\n",
    "    files_low = [j_fn_temp.format(sub) for sub in subs_low]\n",
    "\n",
    "    second_level_input = files_high+files_low\n",
    "    nsubs = int(len(second_level_input)/2)\n",
    "    condition_effect = np.hstack((np.repeat(1,nsubs),np.repeat(-1,nsubs)))\n",
    "\n",
    "    unpaired_design_matrix = pd.DataFrame(condition_effect[:, np.newaxis],columns=[con_name])\n",
    "    second_level_model_unpaired = SecondLevelModel().fit(second_level_input, design_matrix=unpaired_design_matrix)\n",
    "\n",
    "    stat_maps_unpaired = second_level_model_unpaired.compute_contrast(con_name,output_type='all')\n",
    "    return stat_maps_unpaired,second_level_model_unpaired"
   ]
  },
  {
   "cell_type": "code",
   "execution_count": 19,
   "id": "9efa79fa",
   "metadata": {
    "execution": {
     "iopub.execute_input": "2022-02-02T13:46:27.161139Z",
     "iopub.status.busy": "2022-02-02T13:46:27.160820Z",
     "iopub.status.idle": "2022-02-02T13:46:27.162696Z",
     "shell.execute_reply": "2022-02-02T13:46:27.162391Z"
    },
    "papermill": {
     "duration": 0.018011,
     "end_time": "2022-02-02T13:46:27.162764",
     "exception": false,
     "start_time": "2022-02-02T13:46:27.144753",
     "status": "completed"
    },
    "tags": []
   },
   "outputs": [],
   "source": [
    "def plot_glass_brain(stat_maps_unpaired,threshold=3.1,con_name='t_con',title=None):\n",
    "    from nilearn import plotting\n",
    "    display = plotting.plot_glass_brain(\n",
    "    stat_maps_unpaired, threshold=threshold, colorbar=True, plot_abs=False,\n",
    "    title=title, vmin=0, vmax=6)"
   ]
  },
  {
   "cell_type": "code",
   "execution_count": null,
   "id": "3a52de31",
   "metadata": {
    "papermill": {
     "duration": 0.013317,
     "end_time": "2022-02-02T13:46:27.189193",
     "exception": false,
     "start_time": "2022-02-02T13:46:27.175876",
     "status": "completed"
    },
    "tags": []
   },
   "outputs": [],
   "source": []
  },
  {
   "cell_type": "code",
   "execution_count": 20,
   "id": "f1015bc3",
   "metadata": {
    "execution": {
     "iopub.execute_input": "2022-02-02T13:46:27.218055Z",
     "iopub.status.busy": "2022-02-02T13:46:27.217732Z",
     "iopub.status.idle": "2022-02-02T13:46:48.712308Z",
     "shell.execute_reply": "2022-02-02T13:46:48.712769Z"
    },
    "papermill": {
     "duration": 21.51057,
     "end_time": "2022-02-02T13:46:48.712891",
     "exception": false,
     "start_time": "2022-02-02T13:46:27.202321",
     "status": "completed"
    },
    "tags": []
   },
   "outputs": [
    {
     "name": "stderr",
     "output_type": "stream",
     "text": [
      "/data/aglinska/.local/lib/python3.8/site-packages/nilearn/glm/__init__.py:55: FutureWarning:\n",
      "\n",
      "The nilearn.glm module is experimental. It may change in any future release of Nilearn.\n",
      "\n"
     ]
    }
   ],
   "source": [
    "stat_maps_TB,model_TB = glm_second_level(subs_top50,subs_bottom50)\n",
    "stat_maps_LR,model_LR = glm_second_level(subs_left50,subs_right50)"
   ]
  },
  {
   "cell_type": "code",
   "execution_count": 21,
   "id": "e3ca7621",
   "metadata": {
    "execution": {
     "iopub.execute_input": "2022-02-02T13:46:48.751478Z",
     "iopub.status.busy": "2022-02-02T13:46:48.750838Z",
     "iopub.status.idle": "2022-02-02T13:46:51.571237Z",
     "shell.execute_reply": "2022-02-02T13:46:51.571485Z"
    },
    "papermill": {
     "duration": 2.840098,
     "end_time": "2022-02-02T13:46:51.571577",
     "exception": false,
     "start_time": "2022-02-02T13:46:48.731479",
     "status": "completed"
    },
    "tags": []
   },
   "outputs": [
    {
     "data": {
      "image/png": "[encoded data removed]",
      "text/plain": [
       "<Figure size 525.6x187.2 with 5 Axes>"
      ]
     },
     "metadata": {},
     "output_type": "display_data"
    },
    {
     "data": {
      "image/png": "[encoded data removed]",
      "text/plain": [
       "<Figure size 525.6x187.2 with 5 Axes>"
      ]
     },
     "metadata": {},
     "output_type": "display_data"
    }
   ],
   "source": [
    "plot_glass_brain(stat_maps_TB['z_score'],title='Top vs Bottom')\n",
    "plot_glass_brain(stat_maps_LR['z_score'],title='Left vs Right')"
   ]
  },
  {
   "cell_type": "code",
   "execution_count": 22,
   "id": "778fbe38",
   "metadata": {
    "execution": {
     "iopub.execute_input": "2022-02-02T13:46:51.607678Z",
     "iopub.status.busy": "2022-02-02T13:46:51.607352Z",
     "iopub.status.idle": "2022-02-02T13:46:51.620689Z",
     "shell.execute_reply": "2022-02-02T13:46:51.620433Z"
    },
    "papermill": {
     "duration": 0.032448,
     "end_time": "2022-02-02T13:46:51.620760",
     "exception": false,
     "start_time": "2022-02-02T13:46:51.588312",
     "status": "completed"
    },
    "tags": []
   },
   "outputs": [],
   "source": [
    "stat_maps_TB['z_score'].to_filename(\n",
    "f'../misc/umap_consistency_analysis/zmap_TB_{analysis_number:03d}.nii')\n",
    "\n",
    "stat_maps_LR['z_score'].to_filename(\n",
    "f'../misc/umap_consistency_analysis/zmap_LR_{analysis_number:03d}.nii')"
   ]
  },
  {
   "cell_type": "code",
   "execution_count": null,
   "id": "21414212",
   "metadata": {
    "papermill": {
     "duration": 0.016221,
     "end_time": "2022-02-02T13:46:51.653734",
     "exception": false,
     "start_time": "2022-02-02T13:46:51.637513",
     "status": "completed"
    },
    "tags": []
   },
   "outputs": [],
   "source": []
  },
  {
   "cell_type": "code",
   "execution_count": null,
   "id": "96964e9c",
   "metadata": {
    "papermill": {
     "duration": 0.016378,
     "end_time": "2022-02-02T13:46:51.686557",
     "exception": false,
     "start_time": "2022-02-02T13:46:51.670179",
     "status": "completed"
    },
    "tags": []
   },
   "outputs": [],
   "source": []
  },
  {
   "cell_type": "code",
   "execution_count": null,
   "id": "0f959237",
   "metadata": {
    "papermill": {
     "duration": 0.016501,
     "end_time": "2022-02-02T13:46:51.719604",
     "exception": false,
     "start_time": "2022-02-02T13:46:51.703103",
     "status": "completed"
    },
    "tags": []
   },
   "outputs": [],
   "source": []
  },
  {
   "cell_type": "code",
   "execution_count": 23,
   "id": "820bb68c",
   "metadata": {
    "execution": {
     "iopub.execute_input": "2022-02-02T13:46:51.756442Z",
     "iopub.status.busy": "2022-02-02T13:46:51.756109Z",
     "iopub.status.idle": "2022-02-02T13:46:51.757439Z",
     "shell.execute_reply": "2022-02-02T13:46:51.757693Z"
    },
    "papermill": {
     "duration": 0.020354,
     "end_time": "2022-02-02T13:46:51.757783",
     "exception": false,
     "start_time": "2022-02-02T13:46:51.737429",
     "status": "completed"
    },
    "tags": []
   },
   "outputs": [],
   "source": [
    "#pwd"
   ]
  },
  {
   "cell_type": "code",
   "execution_count": 24,
   "id": "8b7394ea",
   "metadata": {
    "execution": {
     "iopub.execute_input": "2022-02-02T13:46:51.793316Z",
     "iopub.status.busy": "2022-02-02T13:46:51.793004Z",
     "iopub.status.idle": "2022-02-02T13:46:51.793824Z",
     "shell.execute_reply": "2022-02-02T13:46:51.794104Z"
    },
    "papermill": {
     "duration": 0.020024,
     "end_time": "2022-02-02T13:46:51.794181",
     "exception": false,
     "start_time": "2022-02-02T13:46:51.774157",
     "status": "completed"
    },
    "tags": []
   },
   "outputs": [],
   "source": [
    "# use_keys = ['AgeAtScan','FIQ','ADOS_Total','ADOS_StBeh', 'ADOS_Comm', 'ADOS_Social']\n",
    "# base_corr = np.zeros((len(use_keys),len(use_keys)))\n",
    "# for i1,key1 in enumerate(use_keys):\n",
    "#     for i2,key2 in enumerate(use_keys):\n",
    "#         vec1=df[key1].values[patients]\n",
    "#         vec2=df[key2].values[patients]\n",
    "#         e = np.isnan(vec1)+np.isnan(vec2)\n",
    "#         r = np.corrcoef(vec1[~e],vec2[~e])[0,1]\n",
    "#         base_corr[i1,i2] = r\n",
    "        \n",
    "# sns.heatmap(base_corr,xticklabels=use_keys,yticklabels=use_keys,annot=True);"
   ]
  },
  {
   "cell_type": "code",
   "execution_count": 25,
   "id": "80dc3e25",
   "metadata": {
    "execution": {
     "iopub.execute_input": "2022-02-02T13:46:51.830087Z",
     "iopub.status.busy": "2022-02-02T13:46:51.829767Z",
     "iopub.status.idle": "2022-02-02T13:46:51.831986Z",
     "shell.execute_reply": "2022-02-02T13:46:51.831709Z"
    },
    "papermill": {
     "duration": 0.02136,
     "end_time": "2022-02-02T13:46:51.832060",
     "exception": false,
     "start_time": "2022-02-02T13:46:51.810700",
     "status": "completed"
    },
    "tags": []
   },
   "outputs": [
    {
     "name": "stdout",
     "output_type": "stream",
     "text": [
      "0:00:30.735530\n"
     ]
    }
   ],
   "source": [
    "print(now()-t0)"
   ]
  },
  {
   "cell_type": "code",
   "execution_count": null,
   "id": "fbb2f060",
   "metadata": {
    "papermill": {
     "duration": 0.016649,
     "end_time": "2022-02-02T13:46:51.865824",
     "exception": false,
     "start_time": "2022-02-02T13:46:51.849175",
     "status": "completed"
    },
    "tags": []
   },
   "outputs": [],
   "source": []
  }
 ],
 "metadata": {
  "kernelspec": {
   "display_name": "Python 3",
   "language": "python",
   "name": "python3"
  },
  "language_info": {
   "codemirror_mode": {
    "name": "ipython",
    "version": 3
   },
   "file_extension": ".py",
   "mimetype": "text/x-python",
   "name": "python",
   "nbconvert_exporter": "python",
   "pygments_lexer": "ipython3",
   "version": "3.8.5"
  },
  "papermill": {
   "default_parameters": {},
   "duration": 50.917074,
   "end_time": "2022-02-02T13:46:53.754437",
   "environment_variables": {},
   "exception": null,
   "input_path": "/data/aglinska/BC-MRI-AE/Colab Notebooks/00-reviews-age-UMAPs-all-ages-loop.ipynb",
   "output_path": "/data/aglinska/BC-MRI-AE/misc/umap_consistency_analysis/00-reviews-age-UMAPs-all-ages-loop-4.ipynb",
   "parameters": {
    "analysis_number": 4
   },
   "start_time": "2022-02-02T13:46:02.837363",
   "version": "2.3.3"
  }
 },
 "nbformat": 4,
 "nbformat_minor": 5
}
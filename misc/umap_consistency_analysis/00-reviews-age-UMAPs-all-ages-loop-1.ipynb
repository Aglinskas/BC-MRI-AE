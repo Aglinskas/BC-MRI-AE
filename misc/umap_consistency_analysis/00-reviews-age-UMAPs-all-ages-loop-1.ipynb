{
 "cells": [
  {
   "cell_type": "code",
   "execution_count": 1,
   "id": "ea76db21",
   "metadata": {
    "execution": {
     "iopub.execute_input": "2022-02-02T13:42:55.987026Z",
     "iopub.status.busy": "2022-02-02T13:42:55.986687Z",
     "iopub.status.idle": "2022-02-02T13:42:55.988434Z",
     "shell.execute_reply": "2022-02-02T13:42:55.988702Z"
    },
    "papermill": {
     "duration": 0.021365,
     "end_time": "2022-02-02T13:42:55.988860",
     "exception": false,
     "start_time": "2022-02-02T13:42:55.967495",
     "status": "completed"
    },
    "tags": []
   },
   "outputs": [
    {
     "data": {
      "text/plain": [
       "'/mmfs1/data/aglinska/BC-MRI-AE/Colab Notebooks'"
      ]
     },
     "execution_count": 1,
     "metadata": {},
     "output_type": "execute_result"
    }
   ],
   "source": [
    "pwd"
   ]
  },
  {
   "cell_type": "code",
   "execution_count": 2,
   "id": "3dd4eb4d",
   "metadata": {
    "execution": {
     "iopub.execute_input": "2022-02-02T13:42:56.011809Z",
     "iopub.status.busy": "2022-02-02T13:42:56.011486Z",
     "iopub.status.idle": "2022-02-02T13:42:56.012801Z",
     "shell.execute_reply": "2022-02-02T13:42:56.013064Z"
    },
    "papermill": {
     "duration": 0.013803,
     "end_time": "2022-02-02T13:42:56.013147",
     "exception": false,
     "start_time": "2022-02-02T13:42:55.999344",
     "status": "completed"
    },
    "tags": [
     "parameters"
    ]
   },
   "outputs": [],
   "source": [
    "#this cell is tagged \"parameters\"\n",
    "analysis_number = 1"
   ]
  },
  {
   "cell_type": "code",
   "execution_count": 3,
   "id": "cd2e7310",
   "metadata": {
    "execution": {
     "iopub.execute_input": "2022-02-02T13:42:56.035788Z",
     "iopub.status.busy": "2022-02-02T13:42:56.035466Z",
     "iopub.status.idle": "2022-02-02T13:42:56.036817Z",
     "shell.execute_reply": "2022-02-02T13:42:56.037082Z"
    },
    "papermill": {
     "duration": 0.013622,
     "end_time": "2022-02-02T13:42:56.037164",
     "exception": false,
     "start_time": "2022-02-02T13:42:56.023542",
     "status": "completed"
    },
    "tags": [
     "injected-parameters"
    ]
   },
   "outputs": [],
   "source": [
    "# Parameters\n",
    "analysis_number = 1\n"
   ]
  },
  {
   "cell_type": "code",
   "execution_count": 4,
   "id": "0d49a487",
   "metadata": {
    "execution": {
     "iopub.execute_input": "2022-02-02T13:42:56.060877Z",
     "iopub.status.busy": "2022-02-02T13:42:56.060553Z",
     "iopub.status.idle": "2022-02-02T13:43:12.038616Z",
     "shell.execute_reply": "2022-02-02T13:43:12.038883Z"
    },
    "papermill": {
     "duration": 15.991362,
     "end_time": "2022-02-02T13:43:12.038995",
     "exception": false,
     "start_time": "2022-02-02T13:42:56.047633",
     "status": "completed"
    },
    "tags": []
   },
   "outputs": [
    {
     "name": "stdout",
     "output_type": "stream",
     "text": [
      "2022-02-02 08:43:12.035809\n"
     ]
    }
   ],
   "source": [
    "import numpy as np\n",
    "import pandas as pd\n",
    "import pickle\n",
    "\n",
    "from matplotlib import pyplot as plt\n",
    "import seaborn as sns\n",
    "\n",
    "import os\n",
    "import ants\n",
    "from tqdm import tqdm\n",
    "\n",
    "import umap\n",
    "\n",
    "from datetime import datetime;now = datetime.now;t0=now();print(t0)"
   ]
  },
  {
   "cell_type": "code",
   "execution_count": 5,
   "id": "1c07ade7",
   "metadata": {
    "execution": {
     "iopub.execute_input": "2022-02-02T13:43:12.073147Z",
     "iopub.status.busy": "2022-02-02T13:43:12.072814Z",
     "iopub.status.idle": "2022-02-02T13:43:12.129351Z",
     "shell.execute_reply": "2022-02-02T13:43:12.129620Z"
    },
    "papermill": {
     "duration": 0.073414,
     "end_time": "2022-02-02T13:43:12.129716",
     "exception": false,
     "start_time": "2022-02-02T13:43:12.056302",
     "status": "completed"
    },
    "tags": []
   },
   "outputs": [
    {
     "data": {
      "text/html": [
       "<div>\n",
       "<style scoped>\n",
       "    .dataframe tbody tr th:only-of-type {\n",
       "        vertical-align: middle;\n",
       "    }\n",
       "\n",
       "    .dataframe tbody tr th {\n",
       "        vertical-align: top;\n",
       "    }\n",
       "\n",
       "    .dataframe thead th {\n",
       "        text-align: right;\n",
       "    }\n",
       "</style>\n",
       "<table border=\"1\" class=\"dataframe\">\n",
       "  <thead>\n",
       "    <tr style=\"text-align: right;\">\n",
       "      <th></th>\n",
       "      <th>Unnamed: 0</th>\n",
       "      <th>index</th>\n",
       "      <th>BIDS_ID</th>\n",
       "      <th>Anonymized ID</th>\n",
       "      <th>Subject Type</th>\n",
       "      <th>Visit</th>\n",
       "      <th>Days since enrollment</th>\n",
       "      <th>SubID</th>\n",
       "      <th>DxGroup</th>\n",
       "      <th>DSMIVTR</th>\n",
       "      <th>...</th>\n",
       "      <th>WISC4 Sym Scaled</th>\n",
       "      <th>Age at MPRAGE</th>\n",
       "      <th>Current Med Status</th>\n",
       "      <th>Medication Name</th>\n",
       "      <th>Medication Name.1</th>\n",
       "      <th>Off stimulants at EPI scan?</th>\n",
       "      <th>ScanSite</th>\n",
       "      <th>ScannerType</th>\n",
       "      <th>ScannerID</th>\n",
       "      <th>ScanSiteID</th>\n",
       "    </tr>\n",
       "  </thead>\n",
       "  <tbody>\n",
       "    <tr>\n",
       "      <th>0</th>\n",
       "      <td>0</td>\n",
       "      <td>0</td>\n",
       "      <td>sub-001</td>\n",
       "      <td>A00033348</td>\n",
       "      <td>PATIENT</td>\n",
       "      <td>session_1</td>\n",
       "      <td>8</td>\n",
       "      <td>51320</td>\n",
       "      <td>1</td>\n",
       "      <td>2.0</td>\n",
       "      <td>...</td>\n",
       "      <td>NaN</td>\n",
       "      <td>NaN</td>\n",
       "      <td>0.0</td>\n",
       "      <td>NaN</td>\n",
       "      <td>NaN</td>\n",
       "      <td>NaN</td>\n",
       "      <td>mpg</td>\n",
       "      <td>verio</td>\n",
       "      <td>7</td>\n",
       "      <td>3</td>\n",
       "    </tr>\n",
       "    <tr>\n",
       "      <th>1</th>\n",
       "      <td>1</td>\n",
       "      <td>1</td>\n",
       "      <td>sub-002</td>\n",
       "      <td>A00033398</td>\n",
       "      <td>CONTROL</td>\n",
       "      <td>session_1</td>\n",
       "      <td>8</td>\n",
       "      <td>51373</td>\n",
       "      <td>2</td>\n",
       "      <td>0.0</td>\n",
       "      <td>...</td>\n",
       "      <td>NaN</td>\n",
       "      <td>NaN</td>\n",
       "      <td>0.0</td>\n",
       "      <td>NaN</td>\n",
       "      <td>NaN</td>\n",
       "      <td>NaN</td>\n",
       "      <td>mpg</td>\n",
       "      <td>verio</td>\n",
       "      <td>7</td>\n",
       "      <td>3</td>\n",
       "    </tr>\n",
       "    <tr>\n",
       "      <th>2</th>\n",
       "      <td>2</td>\n",
       "      <td>2</td>\n",
       "      <td>sub-003</td>\n",
       "      <td>A00033352</td>\n",
       "      <td>PATIENT</td>\n",
       "      <td>session_1</td>\n",
       "      <td>8</td>\n",
       "      <td>51324</td>\n",
       "      <td>1</td>\n",
       "      <td>2.0</td>\n",
       "      <td>...</td>\n",
       "      <td>NaN</td>\n",
       "      <td>NaN</td>\n",
       "      <td>0.0</td>\n",
       "      <td>NaN</td>\n",
       "      <td>NaN</td>\n",
       "      <td>NaN</td>\n",
       "      <td>mpg</td>\n",
       "      <td>verio</td>\n",
       "      <td>7</td>\n",
       "      <td>3</td>\n",
       "    </tr>\n",
       "    <tr>\n",
       "      <th>3</th>\n",
       "      <td>3</td>\n",
       "      <td>3</td>\n",
       "      <td>sub-004</td>\n",
       "      <td>A00033389</td>\n",
       "      <td>CONTROL</td>\n",
       "      <td>session_1</td>\n",
       "      <td>8</td>\n",
       "      <td>51364</td>\n",
       "      <td>2</td>\n",
       "      <td>0.0</td>\n",
       "      <td>...</td>\n",
       "      <td>NaN</td>\n",
       "      <td>NaN</td>\n",
       "      <td>0.0</td>\n",
       "      <td>NaN</td>\n",
       "      <td>NaN</td>\n",
       "      <td>NaN</td>\n",
       "      <td>mpg</td>\n",
       "      <td>verio</td>\n",
       "      <td>7</td>\n",
       "      <td>3</td>\n",
       "    </tr>\n",
       "    <tr>\n",
       "      <th>4</th>\n",
       "      <td>4</td>\n",
       "      <td>4</td>\n",
       "      <td>sub-005</td>\n",
       "      <td>A00033354</td>\n",
       "      <td>PATIENT</td>\n",
       "      <td>session_1</td>\n",
       "      <td>8</td>\n",
       "      <td>51326</td>\n",
       "      <td>1</td>\n",
       "      <td>2.0</td>\n",
       "      <td>...</td>\n",
       "      <td>NaN</td>\n",
       "      <td>NaN</td>\n",
       "      <td>0.0</td>\n",
       "      <td>NaN</td>\n",
       "      <td>NaN</td>\n",
       "      <td>NaN</td>\n",
       "      <td>mpg</td>\n",
       "      <td>verio</td>\n",
       "      <td>7</td>\n",
       "      <td>3</td>\n",
       "    </tr>\n",
       "    <tr>\n",
       "      <th>...</th>\n",
       "      <td>...</td>\n",
       "      <td>...</td>\n",
       "      <td>...</td>\n",
       "      <td>...</td>\n",
       "      <td>...</td>\n",
       "      <td>...</td>\n",
       "      <td>...</td>\n",
       "      <td>...</td>\n",
       "      <td>...</td>\n",
       "      <td>...</td>\n",
       "      <td>...</td>\n",
       "      <td>...</td>\n",
       "      <td>...</td>\n",
       "      <td>...</td>\n",
       "      <td>...</td>\n",
       "      <td>...</td>\n",
       "      <td>...</td>\n",
       "      <td>...</td>\n",
       "      <td>...</td>\n",
       "      <td>...</td>\n",
       "      <td>...</td>\n",
       "    </tr>\n",
       "    <tr>\n",
       "      <th>977</th>\n",
       "      <td>977</td>\n",
       "      <td>1094</td>\n",
       "      <td>sub-985</td>\n",
       "      <td>A00032725</td>\n",
       "      <td>CONTROL</td>\n",
       "      <td>session_1</td>\n",
       "      <td>28</td>\n",
       "      <td>51252</td>\n",
       "      <td>2</td>\n",
       "      <td>0.0</td>\n",
       "      <td>...</td>\n",
       "      <td>NaN</td>\n",
       "      <td>10.99</td>\n",
       "      <td>0.0</td>\n",
       "      <td>NaN</td>\n",
       "      <td>NaN</td>\n",
       "      <td>NaN</td>\n",
       "      <td>ucla</td>\n",
       "      <td>triotim</td>\n",
       "      <td>6</td>\n",
       "      <td>12</td>\n",
       "    </tr>\n",
       "    <tr>\n",
       "      <th>978</th>\n",
       "      <td>978</td>\n",
       "      <td>1095</td>\n",
       "      <td>sub-986</td>\n",
       "      <td>A00032704</td>\n",
       "      <td>PATIENT</td>\n",
       "      <td>session_1</td>\n",
       "      <td>28</td>\n",
       "      <td>51229</td>\n",
       "      <td>1</td>\n",
       "      <td>1.0</td>\n",
       "      <td>...</td>\n",
       "      <td>NaN</td>\n",
       "      <td>14.59</td>\n",
       "      <td>0.0</td>\n",
       "      <td>NaN</td>\n",
       "      <td>NaN</td>\n",
       "      <td>NaN</td>\n",
       "      <td>ucla</td>\n",
       "      <td>triotim</td>\n",
       "      <td>6</td>\n",
       "      <td>12</td>\n",
       "    </tr>\n",
       "    <tr>\n",
       "      <th>979</th>\n",
       "      <td>979</td>\n",
       "      <td>1096</td>\n",
       "      <td>sub-987</td>\n",
       "      <td>A00032740</td>\n",
       "      <td>CONTROL</td>\n",
       "      <td>session_1</td>\n",
       "      <td>28</td>\n",
       "      <td>51268</td>\n",
       "      <td>2</td>\n",
       "      <td>0.0</td>\n",
       "      <td>...</td>\n",
       "      <td>NaN</td>\n",
       "      <td>17.78</td>\n",
       "      <td>0.0</td>\n",
       "      <td>NaN</td>\n",
       "      <td>NaN</td>\n",
       "      <td>NaN</td>\n",
       "      <td>ucla</td>\n",
       "      <td>triotim</td>\n",
       "      <td>6</td>\n",
       "      <td>12</td>\n",
       "    </tr>\n",
       "    <tr>\n",
       "      <th>980</th>\n",
       "      <td>980</td>\n",
       "      <td>1098</td>\n",
       "      <td>sub-989</td>\n",
       "      <td>A00032686</td>\n",
       "      <td>PATIENT</td>\n",
       "      <td>session_1</td>\n",
       "      <td>28</td>\n",
       "      <td>51210</td>\n",
       "      <td>1</td>\n",
       "      <td>1.0</td>\n",
       "      <td>...</td>\n",
       "      <td>NaN</td>\n",
       "      <td>16.56</td>\n",
       "      <td>0.0</td>\n",
       "      <td>NaN</td>\n",
       "      <td>NaN</td>\n",
       "      <td>NaN</td>\n",
       "      <td>ucla</td>\n",
       "      <td>triotim</td>\n",
       "      <td>6</td>\n",
       "      <td>12</td>\n",
       "    </tr>\n",
       "    <tr>\n",
       "      <th>981</th>\n",
       "      <td>981</td>\n",
       "      <td>1099</td>\n",
       "      <td>sub-990</td>\n",
       "      <td>A00032702</td>\n",
       "      <td>PATIENT</td>\n",
       "      <td>session_1</td>\n",
       "      <td>28</td>\n",
       "      <td>51227</td>\n",
       "      <td>1</td>\n",
       "      <td>1.0</td>\n",
       "      <td>...</td>\n",
       "      <td>NaN</td>\n",
       "      <td>14.53</td>\n",
       "      <td>0.0</td>\n",
       "      <td>NaN</td>\n",
       "      <td>NaN</td>\n",
       "      <td>NaN</td>\n",
       "      <td>ucla</td>\n",
       "      <td>triotim</td>\n",
       "      <td>6</td>\n",
       "      <td>12</td>\n",
       "    </tr>\n",
       "  </tbody>\n",
       "</table>\n",
       "<p>982 rows × 90 columns</p>\n",
       "</div>"
      ],
      "text/plain": [
       "     Unnamed: 0  index  BIDS_ID Anonymized ID Subject Type      Visit  \\\n",
       "0             0      0  sub-001     A00033348      PATIENT  session_1   \n",
       "1             1      1  sub-002     A00033398      CONTROL  session_1   \n",
       "2             2      2  sub-003     A00033352      PATIENT  session_1   \n",
       "3             3      3  sub-004     A00033389      CONTROL  session_1   \n",
       "4             4      4  sub-005     A00033354      PATIENT  session_1   \n",
       "..          ...    ...      ...           ...          ...        ...   \n",
       "977         977   1094  sub-985     A00032725      CONTROL  session_1   \n",
       "978         978   1095  sub-986     A00032704      PATIENT  session_1   \n",
       "979         979   1096  sub-987     A00032740      CONTROL  session_1   \n",
       "980         980   1098  sub-989     A00032686      PATIENT  session_1   \n",
       "981         981   1099  sub-990     A00032702      PATIENT  session_1   \n",
       "\n",
       "     Days since enrollment  SubID  DxGroup  DSMIVTR  ...  WISC4 Sym Scaled  \\\n",
       "0                        8  51320        1      2.0  ...               NaN   \n",
       "1                        8  51373        2      0.0  ...               NaN   \n",
       "2                        8  51324        1      2.0  ...               NaN   \n",
       "3                        8  51364        2      0.0  ...               NaN   \n",
       "4                        8  51326        1      2.0  ...               NaN   \n",
       "..                     ...    ...      ...      ...  ...               ...   \n",
       "977                     28  51252        2      0.0  ...               NaN   \n",
       "978                     28  51229        1      1.0  ...               NaN   \n",
       "979                     28  51268        2      0.0  ...               NaN   \n",
       "980                     28  51210        1      1.0  ...               NaN   \n",
       "981                     28  51227        1      1.0  ...               NaN   \n",
       "\n",
       "     Age at MPRAGE  Current Med Status  Medication Name  Medication Name.1  \\\n",
       "0              NaN                 0.0              NaN                NaN   \n",
       "1              NaN                 0.0              NaN                NaN   \n",
       "2              NaN                 0.0              NaN                NaN   \n",
       "3              NaN                 0.0              NaN                NaN   \n",
       "4              NaN                 0.0              NaN                NaN   \n",
       "..             ...                 ...              ...                ...   \n",
       "977          10.99                 0.0              NaN                NaN   \n",
       "978          14.59                 0.0              NaN                NaN   \n",
       "979          17.78                 0.0              NaN                NaN   \n",
       "980          16.56                 0.0              NaN                NaN   \n",
       "981          14.53                 0.0              NaN                NaN   \n",
       "\n",
       "    Off stimulants at EPI scan? ScanSite ScannerType  ScannerID  ScanSiteID  \n",
       "0                           NaN      mpg       verio          7           3  \n",
       "1                           NaN      mpg       verio          7           3  \n",
       "2                           NaN      mpg       verio          7           3  \n",
       "3                           NaN      mpg       verio          7           3  \n",
       "4                           NaN      mpg       verio          7           3  \n",
       "..                          ...      ...         ...        ...         ...  \n",
       "977                         NaN     ucla     triotim          6          12  \n",
       "978                         NaN     ucla     triotim          6          12  \n",
       "979                         NaN     ucla     triotim          6          12  \n",
       "980                         NaN     ucla     triotim          6          12  \n",
       "981                         NaN     ucla     triotim          6          12  \n",
       "\n",
       "[982 rows x 90 columns]"
      ]
     },
     "execution_count": 5,
     "metadata": {},
     "output_type": "execute_result"
    }
   ],
   "source": [
    "df = pd.read_csv('../Data/ABIDE_legend_S982.csv')\n",
    "patients = df['DxGroup'].values==1\n",
    "df_asd = df.iloc[patients]\n",
    "df"
   ]
  },
  {
   "cell_type": "code",
   "execution_count": 6,
   "id": "64906771",
   "metadata": {
    "execution": {
     "iopub.execute_input": "2022-02-02T13:43:12.153922Z",
     "iopub.status.busy": "2022-02-02T13:43:12.153598Z",
     "iopub.status.idle": "2022-02-02T13:43:12.155215Z",
     "shell.execute_reply": "2022-02-02T13:43:12.154936Z"
    },
    "papermill": {
     "duration": 0.014436,
     "end_time": "2022-02-02T13:43:12.155287",
     "exception": false,
     "start_time": "2022-02-02T13:43:12.140851",
     "status": "completed"
    },
    "tags": []
   },
   "outputs": [],
   "source": [
    "# data_latent_vec = np.load('../Data/latent_vecs.npz')\n",
    "# keys = list(data_latent_vec.keys())\n",
    "# print(keys)\n",
    "# for key in keys:\n",
    "#     print(data_latent_vec[key].shape)"
   ]
  },
  {
   "cell_type": "code",
   "execution_count": 7,
   "id": "7ef6c332",
   "metadata": {
    "execution": {
     "iopub.execute_input": "2022-02-02T13:43:12.180611Z",
     "iopub.status.busy": "2022-02-02T13:43:12.180288Z",
     "iopub.status.idle": "2022-02-02T13:43:12.203440Z",
     "shell.execute_reply": "2022-02-02T13:43:12.203703Z"
    },
    "papermill": {
     "duration": 0.037079,
     "end_time": "2022-02-02T13:43:12.203786",
     "exception": false,
     "start_time": "2022-02-02T13:43:12.166707",
     "status": "completed"
    },
    "tags": []
   },
   "outputs": [
    {
     "name": "stdout",
     "output_type": "stream",
     "text": [
      "CPU times: user 0 ns, sys: 927 µs, total: 927 µs\n",
      "Wall time: 21.4 ms\n"
     ]
    }
   ],
   "source": [
    "%%time\n",
    "embed = pickle.load(open('../Data/embedded_data.pickle','rb'))"
   ]
  },
  {
   "cell_type": "code",
   "execution_count": 8,
   "id": "6a8ebb7d",
   "metadata": {
    "execution": {
     "iopub.execute_input": "2022-02-02T13:43:12.229518Z",
     "iopub.status.busy": "2022-02-02T13:43:12.229193Z",
     "iopub.status.idle": "2022-02-02T13:43:12.231844Z",
     "shell.execute_reply": "2022-02-02T13:43:12.232108Z"
    },
    "papermill": {
     "duration": 0.016781,
     "end_time": "2022-02-02T13:43:12.232190",
     "exception": false,
     "start_time": "2022-02-02T13:43:12.215409",
     "status": "completed"
    },
    "tags": []
   },
   "outputs": [
    {
     "name": "stdout",
     "output_type": "stream",
     "text": [
      "embedding_bg | (470, 16)\n",
      "embedding_sl | (470, 16)\n",
      "embedding_vae | (470, 32)\n",
      "sfari_embedding_vae | (51, 32)\n",
      "sfari_embedding_bg | (51, 16)\n",
      "sfari_embedding_sl | (51, 16)\n",
      "bg_space_abide | (470, 2)\n",
      "sl_space_abide | (470, 2)\n",
      "vae_space_abide | (470, 2)\n",
      "bg_space_sfari | (51, 2)\n",
      "sl_space_sfari | (51, 2)\n",
      "vae_space_sfari | (51, 2)\n",
      "bg_Sspace_sfari | (51, 2)\n",
      "sl_Sspace_sfari | (51, 2)\n",
      "vae_Sspace_sfari | (51, 2)\n",
      "reducer_bg_abide\n",
      "reducer_sl_abide\n",
      "reducer_vae_abide\n",
      "reducer_bg_sfari\n",
      "reducer_sl_sfari\n",
      "reducer_vae_sfari\n"
     ]
    }
   ],
   "source": [
    "keys = list(embed.keys())\n",
    "for key in keys:\n",
    "    try:\n",
    "        print(f'{key} | {embed[key].shape}')\n",
    "    except:\n",
    "        print(f'{key}')"
   ]
  },
  {
   "cell_type": "code",
   "execution_count": 9,
   "id": "6f4ccb44",
   "metadata": {
    "execution": {
     "iopub.execute_input": "2022-02-02T13:43:12.258806Z",
     "iopub.status.busy": "2022-02-02T13:43:12.258481Z",
     "iopub.status.idle": "2022-02-02T13:43:17.982156Z",
     "shell.execute_reply": "2022-02-02T13:43:17.981842Z"
    },
    "papermill": {
     "duration": 5.738431,
     "end_time": "2022-02-02T13:43:17.982250",
     "exception": false,
     "start_time": "2022-02-02T13:43:12.243819",
     "status": "completed"
    },
    "tags": []
   },
   "outputs": [],
   "source": [
    "import umap\n",
    "reducer = umap.UMAP()\n",
    "embedding_sl = reducer.fit_transform(embed['embedding_sl'])"
   ]
  },
  {
   "cell_type": "code",
   "execution_count": 10,
   "id": "6c3e4994",
   "metadata": {
    "execution": {
     "iopub.execute_input": "2022-02-02T13:43:18.009040Z",
     "iopub.status.busy": "2022-02-02T13:43:18.008709Z",
     "iopub.status.idle": "2022-02-02T13:43:18.010077Z",
     "shell.execute_reply": "2022-02-02T13:43:18.010340Z"
    },
    "papermill": {
     "duration": 0.016259,
     "end_time": "2022-02-02T13:43:18.010427",
     "exception": false,
     "start_time": "2022-02-02T13:43:17.994168",
     "status": "completed"
    },
    "tags": []
   },
   "outputs": [],
   "source": [
    "#embedding_sl = embed['sl_space_abide']\n",
    "#embedding_sl = embed['reducer_sl_abide'].transform(embed['embedding_sl'])\n",
    "x_loading = embedding_sl[:,0]\n",
    "y_loading = embedding_sl[:,1]"
   ]
  },
  {
   "cell_type": "code",
   "execution_count": 11,
   "id": "d7b25ae3",
   "metadata": {
    "execution": {
     "iopub.execute_input": "2022-02-02T13:43:18.035960Z",
     "iopub.status.busy": "2022-02-02T13:43:18.035636Z",
     "iopub.status.idle": "2022-02-02T13:43:18.036971Z",
     "shell.execute_reply": "2022-02-02T13:43:18.037236Z"
    },
    "papermill": {
     "duration": 0.014982,
     "end_time": "2022-02-02T13:43:18.037317",
     "exception": false,
     "start_time": "2022-02-02T13:43:18.022335",
     "status": "completed"
    },
    "tags": []
   },
   "outputs": [],
   "source": [
    "# from sklearn.decomposition import PCA\n",
    "# pca = PCA(n_components=2)\n",
    "# embedding_sl = pca.fit_transform(embed['embedding_sl'])\n",
    "# x_loading = embedding_sl[:,0]\n",
    "# y_loading = embedding_sl[:,1]"
   ]
  },
  {
   "cell_type": "code",
   "execution_count": 12,
   "id": "df18168b",
   "metadata": {
    "execution": {
     "iopub.execute_input": "2022-02-02T13:43:18.066484Z",
     "iopub.status.busy": "2022-02-02T13:43:18.066152Z",
     "iopub.status.idle": "2022-02-02T13:43:18.070363Z",
     "shell.execute_reply": "2022-02-02T13:43:18.070074Z"
    },
    "papermill": {
     "duration": 0.019906,
     "end_time": "2022-02-02T13:43:18.070446",
     "exception": false,
     "start_time": "2022-02-02T13:43:18.050540",
     "status": "completed"
    },
    "tags": []
   },
   "outputs": [
    {
     "name": "stdout",
     "output_type": "stream",
     "text": [
      "AgeAtScan | X:0.01,Y:0.05\n",
      "FIQ | X:-0.12,Y:0.11\n",
      "ADOS_Total | X:-0.04,Y:-0.01\n",
      "ADOS_Comm | X:-0.03,Y:0.01\n",
      "ADOS_Social | X:-0.04,Y:0.01\n",
      "ADOS_StBeh | X:-0.14,Y:-0.03\n"
     ]
    }
   ],
   "source": [
    "keys = ['AgeAtScan','FIQ','ADOS_Total','ADOS_Comm', 'ADOS_Social', 'ADOS_StBeh']\n",
    "for key in keys:\n",
    "    vec = df[key].values[patients]\n",
    "    e = np.isnan(vec)\n",
    "    r_x = np.corrcoef(vec[~e],x_loading[~e])[0,1]\n",
    "    r_y = np.corrcoef(vec[~e],y_loading[~e])[0,1]\n",
    "    print(f'{key} | X:{r_x:.2f},Y:{r_y:.2f}')"
   ]
  },
  {
   "cell_type": "code",
   "execution_count": 13,
   "id": "7d255570",
   "metadata": {
    "execution": {
     "iopub.execute_input": "2022-02-02T13:43:18.098496Z",
     "iopub.status.busy": "2022-02-02T13:43:18.098167Z",
     "iopub.status.idle": "2022-02-02T13:43:18.101125Z",
     "shell.execute_reply": "2022-02-02T13:43:18.101389Z"
    },
    "papermill": {
     "duration": 0.018946,
     "end_time": "2022-02-02T13:43:18.101471",
     "exception": false,
     "start_time": "2022-02-02T13:43:18.082525",
     "status": "completed"
    },
    "tags": []
   },
   "outputs": [
    {
     "name": "stdout",
     "output_type": "stream",
     "text": [
      "top | [ 5.1344743 10.426546 ]\n",
      "botom | [5.1344743 4.8668795]\n",
      "left | [2.3421729 7.7634754]\n",
      "right | [7.9661427 7.7634754]\n"
     ]
    }
   ],
   "source": [
    "_max = embedding_sl.max(axis=0)\n",
    "_min = embedding_sl.min(axis=0)\n",
    "_mid = embedding_sl.mean(axis=0)\n",
    "\n",
    "# CALC CORNERS\n",
    "top = (_mid[0],_max[1])\n",
    "bottom = (_mid[0],_min[1])\n",
    "left = (_min[0],_mid[1])\n",
    "right = (_max[0],_mid[1])\n",
    "\n",
    "top = np.array(top)\n",
    "bottom = np.array(bottom)\n",
    "left = np.array(left)\n",
    "right = np.array(right)\n",
    "\n",
    "\n",
    "print(f'top | {top}')\n",
    "print(f'botom | {bottom}')\n",
    "print(f'left | {left}')\n",
    "print(f'right | {right}')"
   ]
  },
  {
   "cell_type": "code",
   "execution_count": 14,
   "id": "6753845b",
   "metadata": {
    "execution": {
     "iopub.execute_input": "2022-02-02T13:43:18.129528Z",
     "iopub.status.busy": "2022-02-02T13:43:18.129201Z",
     "iopub.status.idle": "2022-02-02T13:43:18.131006Z",
     "shell.execute_reply": "2022-02-02T13:43:18.131268Z"
    },
    "papermill": {
     "duration": 0.017399,
     "end_time": "2022-02-02T13:43:18.131349",
     "exception": false,
     "start_time": "2022-02-02T13:43:18.113950",
     "status": "completed"
    },
    "tags": []
   },
   "outputs": [],
   "source": [
    "idx_top50 = np.argsort(np.linalg.norm(embedding_sl-top,axis=1))[0:50]\n",
    "idx_bottom50 = np.argsort(np.linalg.norm(embedding_sl-bottom,axis=1))[0:50]\n",
    "\n",
    "idx_left50 = np.argsort(np.linalg.norm(embedding_sl-left,axis=1))[0:50]\n",
    "idx_right50 = np.argsort(np.linalg.norm(embedding_sl-right,axis=1))[0:50]"
   ]
  },
  {
   "cell_type": "code",
   "execution_count": 15,
   "id": "f853ae7b",
   "metadata": {
    "execution": {
     "iopub.execute_input": "2022-02-02T13:43:18.170748Z",
     "iopub.status.busy": "2022-02-02T13:43:18.168457Z",
     "iopub.status.idle": "2022-02-02T13:43:18.387582Z",
     "shell.execute_reply": "2022-02-02T13:43:18.387292Z"
    },
    "papermill": {
     "duration": 0.243969,
     "end_time": "2022-02-02T13:43:18.387659",
     "exception": false,
     "start_time": "2022-02-02T13:43:18.143690",
     "status": "completed"
    },
    "tags": []
   },
   "outputs": [
    {
     "data": {
      "text/plain": [
       "Text(0.5, 1.0, 'SL SPACE')"
      ]
     },
     "execution_count": 15,
     "metadata": {},
     "output_type": "execute_result"
    },
    {
     "data": {
      "image/png": "[encoded data removed]",
      "text/plain": [
       "<Figure size 360x360 with 1 Axes>"
      ]
     },
     "metadata": {
      "needs_background": "light"
     },
     "output_type": "display_data"
    }
   ],
   "source": [
    "plt.figure(figsize=(5,5))\n",
    "plt.scatter(embedding_sl[:,0],embedding_sl[:,1])\n",
    "plt.scatter(embedding_sl[idx_top50,0],embedding_sl[idx_top50,1])\n",
    "plt.scatter(embedding_sl[idx_bottom50,0],embedding_sl[idx_bottom50,1])\n",
    "plt.scatter(embedding_sl[idx_left50,0],embedding_sl[idx_left50,1])\n",
    "plt.scatter(embedding_sl[idx_right50,0],embedding_sl[idx_right50,1])\n",
    "plt.legend(['none','top','bottom','left','right'])\n",
    "plt.title('SL SPACE')"
   ]
  },
  {
   "cell_type": "code",
   "execution_count": 16,
   "id": "9101836e",
   "metadata": {
    "execution": {
     "iopub.execute_input": "2022-02-02T13:43:18.418681Z",
     "iopub.status.busy": "2022-02-02T13:43:18.418357Z",
     "iopub.status.idle": "2022-02-02T13:43:18.420061Z",
     "shell.execute_reply": "2022-02-02T13:43:18.419785Z"
    },
    "papermill": {
     "duration": 0.017359,
     "end_time": "2022-02-02T13:43:18.420131",
     "exception": false,
     "start_time": "2022-02-02T13:43:18.402772",
     "status": "completed"
    },
    "tags": []
   },
   "outputs": [],
   "source": [
    "subs_top50 = df_asd['BIDS_ID'].values[idx_top50]\n",
    "subs_bottom50 = df_asd['BIDS_ID'].values[idx_bottom50]\n",
    "subs_left50 = df_asd['BIDS_ID'].values[idx_left50]\n",
    "subs_right50 = df_asd['BIDS_ID'].values[idx_right50]"
   ]
  },
  {
   "cell_type": "code",
   "execution_count": null,
   "id": "ba18d4f6",
   "metadata": {
    "papermill": {
     "duration": 0.012963,
     "end_time": "2022-02-02T13:43:18.446385",
     "exception": false,
     "start_time": "2022-02-02T13:43:18.433422",
     "status": "completed"
    },
    "tags": []
   },
   "outputs": [],
   "source": []
  },
  {
   "cell_type": "code",
   "execution_count": 17,
   "id": "5054d858",
   "metadata": {
    "execution": {
     "iopub.execute_input": "2022-02-02T13:43:18.476229Z",
     "iopub.status.busy": "2022-02-02T13:43:18.475898Z",
     "iopub.status.idle": "2022-02-02T13:43:18.504423Z",
     "shell.execute_reply": "2022-02-02T13:43:18.504139Z"
    },
    "papermill": {
     "duration": 0.045125,
     "end_time": "2022-02-02T13:43:18.504493",
     "exception": false,
     "start_time": "2022-02-02T13:43:18.459368",
     "status": "completed"
    },
    "tags": []
   },
   "outputs": [],
   "source": [
    "# Save subject list for SPM analyses\n",
    "pd.DataFrame(\n",
    "    np.hstack((subs_bottom50[:,np.newaxis],subs_top50[:,np.newaxis])),\n",
    "    columns=['low','high']).to_csv(\n",
    "    f'../misc/umap_consistency_analysis/corner_TB_{analysis_number:03d}.csv')\n",
    "\n",
    "pd.DataFrame(\n",
    "    np.hstack((subs_left50[:,np.newaxis],subs_right50[:,np.newaxis])),\n",
    "    columns=['low','high']).to_csv(\n",
    "f'../misc/umap_consistency_analysis/corner_LR_{analysis_number:03d}.csv')"
   ]
  },
  {
   "cell_type": "code",
   "execution_count": 18,
   "id": "068ecb60",
   "metadata": {
    "execution": {
     "iopub.execute_input": "2022-02-02T13:43:18.536179Z",
     "iopub.status.busy": "2022-02-02T13:43:18.535846Z",
     "iopub.status.idle": "2022-02-02T13:43:18.537121Z",
     "shell.execute_reply": "2022-02-02T13:43:18.537379Z"
    },
    "papermill": {
     "duration": 0.019295,
     "end_time": "2022-02-02T13:43:18.537460",
     "exception": false,
     "start_time": "2022-02-02T13:43:18.518165",
     "status": "completed"
    },
    "tags": []
   },
   "outputs": [],
   "source": [
    "home = os.getenv(\"HOME\")\n",
    "j_fn_temp =os.path.join(home,'jacobians/normed_Js_masked/{}_normed_Js_masked.nii')\n",
    "#j_fn_temp =os.path.join(home,'jacobians/normed_Js/{}_normed_Js.nii')\n",
    "\n",
    "def glm_second_level(subs_high,subs_low):\n",
    "    from nilearn.glm import threshold_stats_img\n",
    "    from nilearn.glm.second_level import SecondLevelModel\n",
    "    con_name = 't_con'\n",
    "    \n",
    "    files_high = [j_fn_temp.format(sub) for sub in subs_high]\n",
    "    files_low = [j_fn_temp.format(sub) for sub in subs_low]\n",
    "\n",
    "    second_level_input = files_high+files_low\n",
    "    nsubs = int(len(second_level_input)/2)\n",
    "    condition_effect = np.hstack((np.repeat(1,nsubs),np.repeat(-1,nsubs)))\n",
    "\n",
    "    unpaired_design_matrix = pd.DataFrame(condition_effect[:, np.newaxis],columns=[con_name])\n",
    "    second_level_model_unpaired = SecondLevelModel().fit(second_level_input, design_matrix=unpaired_design_matrix)\n",
    "\n",
    "    stat_maps_unpaired = second_level_model_unpaired.compute_contrast(con_name,output_type='all')\n",
    "    return stat_maps_unpaired,second_level_model_unpaired"
   ]
  },
  {
   "cell_type": "code",
   "execution_count": 19,
   "id": "9efa79fa",
   "metadata": {
    "execution": {
     "iopub.execute_input": "2022-02-02T13:43:18.566848Z",
     "iopub.status.busy": "2022-02-02T13:43:18.566524Z",
     "iopub.status.idle": "2022-02-02T13:43:18.567884Z",
     "shell.execute_reply": "2022-02-02T13:43:18.568145Z"
    },
    "papermill": {
     "duration": 0.017314,
     "end_time": "2022-02-02T13:43:18.568227",
     "exception": false,
     "start_time": "2022-02-02T13:43:18.550913",
     "status": "completed"
    },
    "tags": []
   },
   "outputs": [],
   "source": [
    "def plot_glass_brain(stat_maps_unpaired,threshold=3.1,con_name='t_con',title=None):\n",
    "    from nilearn import plotting\n",
    "    display = plotting.plot_glass_brain(\n",
    "    stat_maps_unpaired, threshold=threshold, colorbar=True, plot_abs=False,\n",
    "    title=title, vmin=0, vmax=6)"
   ]
  },
  {
   "cell_type": "code",
   "execution_count": null,
   "id": "3a52de31",
   "metadata": {
    "papermill": {
     "duration": 0.013492,
     "end_time": "2022-02-02T13:43:18.595178",
     "exception": false,
     "start_time": "2022-02-02T13:43:18.581686",
     "status": "completed"
    },
    "tags": []
   },
   "outputs": [],
   "source": []
  },
  {
   "cell_type": "code",
   "execution_count": 20,
   "id": "f1015bc3",
   "metadata": {
    "execution": {
     "iopub.execute_input": "2022-02-02T13:43:18.624020Z",
     "iopub.status.busy": "2022-02-02T13:43:18.623700Z",
     "iopub.status.idle": "2022-02-02T13:43:41.944777Z",
     "shell.execute_reply": "2022-02-02T13:43:41.945376Z"
    },
    "papermill": {
     "duration": 23.337212,
     "end_time": "2022-02-02T13:43:41.945513",
     "exception": false,
     "start_time": "2022-02-02T13:43:18.608301",
     "status": "completed"
    },
    "tags": []
   },
   "outputs": [
    {
     "name": "stderr",
     "output_type": "stream",
     "text": [
      "/data/aglinska/.local/lib/python3.8/site-packages/nilearn/glm/__init__.py:55: FutureWarning:\n",
      "\n",
      "The nilearn.glm module is experimental. It may change in any future release of Nilearn.\n",
      "\n"
     ]
    }
   ],
   "source": [
    "stat_maps_TB,model_TB = glm_second_level(subs_top50,subs_bottom50)\n",
    "stat_maps_LR,model_LR = glm_second_level(subs_left50,subs_right50)"
   ]
  },
  {
   "cell_type": "code",
   "execution_count": 21,
   "id": "e3ca7621",
   "metadata": {
    "execution": {
     "iopub.execute_input": "2022-02-02T13:43:41.985214Z",
     "iopub.status.busy": "2022-02-02T13:43:41.984544Z",
     "iopub.status.idle": "2022-02-02T13:43:45.619685Z",
     "shell.execute_reply": "2022-02-02T13:43:45.619953Z"
    },
    "papermill": {
     "duration": 3.655577,
     "end_time": "2022-02-02T13:43:45.620064",
     "exception": false,
     "start_time": "2022-02-02T13:43:41.964487",
     "status": "completed"
    },
    "tags": []
   },
   "outputs": [
    {
     "data": {
      "image/png": "[encoded data removed]",
      "text/plain": [
       "<Figure size 525.6x187.2 with 5 Axes>"
      ]
     },
     "metadata": {},
     "output_type": "display_data"
    },
    {
     "data": {
      "image/png": "[encoded data removed]",
      "text/plain": [
       "<Figure size 525.6x187.2 with 5 Axes>"
      ]
     },
     "metadata": {},
     "output_type": "display_data"
    }
   ],
   "source": [
    "plot_glass_brain(stat_maps_TB['z_score'],title='Top vs Bottom')\n",
    "plot_glass_brain(stat_maps_LR['z_score'],title='Left vs Right')"
   ]
  },
  {
   "cell_type": "code",
   "execution_count": 22,
   "id": "778fbe38",
   "metadata": {
    "execution": {
     "iopub.execute_input": "2022-02-02T13:43:45.657633Z",
     "iopub.status.busy": "2022-02-02T13:43:45.657308Z",
     "iopub.status.idle": "2022-02-02T13:43:45.670210Z",
     "shell.execute_reply": "2022-02-02T13:43:45.669914Z"
    },
    "papermill": {
     "duration": 0.032897,
     "end_time": "2022-02-02T13:43:45.670294",
     "exception": false,
     "start_time": "2022-02-02T13:43:45.637397",
     "status": "completed"
    },
    "tags": []
   },
   "outputs": [],
   "source": [
    "stat_maps_TB['z_score'].to_filename(\n",
    "f'../misc/umap_consistency_analysis/zmap_TB_{analysis_number:03d}.nii')\n",
    "\n",
    "stat_maps_LR['z_score'].to_filename(\n",
    "f'../misc/umap_consistency_analysis/zmap_LR_{analysis_number:03d}.nii')"
   ]
  },
  {
   "cell_type": "code",
   "execution_count": null,
   "id": "21414212",
   "metadata": {
    "papermill": {
     "duration": 0.016524,
     "end_time": "2022-02-02T13:43:45.704023",
     "exception": false,
     "start_time": "2022-02-02T13:43:45.687499",
     "status": "completed"
    },
    "tags": []
   },
   "outputs": [],
   "source": []
  },
  {
   "cell_type": "code",
   "execution_count": null,
   "id": "96964e9c",
   "metadata": {
    "papermill": {
     "duration": 0.016691,
     "end_time": "2022-02-02T13:43:45.737376",
     "exception": false,
     "start_time": "2022-02-02T13:43:45.720685",
     "status": "completed"
    },
    "tags": []
   },
   "outputs": [],
   "source": []
  },
  {
   "cell_type": "code",
   "execution_count": null,
   "id": "0f959237",
   "metadata": {
    "papermill": {
     "duration": 0.016495,
     "end_time": "2022-02-02T13:43:45.770663",
     "exception": false,
     "start_time": "2022-02-02T13:43:45.754168",
     "status": "completed"
    },
    "tags": []
   },
   "outputs": [],
   "source": []
  },
  {
   "cell_type": "code",
   "execution_count": 23,
   "id": "820bb68c",
   "metadata": {
    "execution": {
     "iopub.execute_input": "2022-02-02T13:43:45.806731Z",
     "iopub.status.busy": "2022-02-02T13:43:45.806410Z",
     "iopub.status.idle": "2022-02-02T13:43:45.808038Z",
     "shell.execute_reply": "2022-02-02T13:43:45.807759Z"
    },
    "papermill": {
     "duration": 0.020351,
     "end_time": "2022-02-02T13:43:45.808111",
     "exception": false,
     "start_time": "2022-02-02T13:43:45.787760",
     "status": "completed"
    },
    "tags": []
   },
   "outputs": [],
   "source": [
    "#pwd"
   ]
  },
  {
   "cell_type": "code",
   "execution_count": 24,
   "id": "8b7394ea",
   "metadata": {
    "execution": {
     "iopub.execute_input": "2022-02-02T13:43:45.843889Z",
     "iopub.status.busy": "2022-02-02T13:43:45.843562Z",
     "iopub.status.idle": "2022-02-02T13:43:45.844846Z",
     "shell.execute_reply": "2022-02-02T13:43:45.845125Z"
    },
    "papermill": {
     "duration": 0.020371,
     "end_time": "2022-02-02T13:43:45.845208",
     "exception": false,
     "start_time": "2022-02-02T13:43:45.824837",
     "status": "completed"
    },
    "tags": []
   },
   "outputs": [],
   "source": [
    "# use_keys = ['AgeAtScan','FIQ','ADOS_Total','ADOS_StBeh', 'ADOS_Comm', 'ADOS_Social']\n",
    "# base_corr = np.zeros((len(use_keys),len(use_keys)))\n",
    "# for i1,key1 in enumerate(use_keys):\n",
    "#     for i2,key2 in enumerate(use_keys):\n",
    "#         vec1=df[key1].values[patients]\n",
    "#         vec2=df[key2].values[patients]\n",
    "#         e = np.isnan(vec1)+np.isnan(vec2)\n",
    "#         r = np.corrcoef(vec1[~e],vec2[~e])[0,1]\n",
    "#         base_corr[i1,i2] = r\n",
    "        \n",
    "# sns.heatmap(base_corr,xticklabels=use_keys,yticklabels=use_keys,annot=True);"
   ]
  },
  {
   "cell_type": "code",
   "execution_count": 25,
   "id": "80dc3e25",
   "metadata": {
    "execution": {
     "iopub.execute_input": "2022-02-02T13:43:45.881247Z",
     "iopub.status.busy": "2022-02-02T13:43:45.880920Z",
     "iopub.status.idle": "2022-02-02T13:43:45.882645Z",
     "shell.execute_reply": "2022-02-02T13:43:45.882907Z"
    },
    "papermill": {
     "duration": 0.020946,
     "end_time": "2022-02-02T13:43:45.882988",
     "exception": false,
     "start_time": "2022-02-02T13:43:45.862042",
     "status": "completed"
    },
    "tags": []
   },
   "outputs": [
    {
     "name": "stdout",
     "output_type": "stream",
     "text": [
      "0:00:33.844426\n"
     ]
    }
   ],
   "source": [
    "print(now()-t0)"
   ]
  },
  {
   "cell_type": "code",
   "execution_count": null,
   "id": "fbb2f060",
   "metadata": {
    "papermill": {
     "duration": 0.016619,
     "end_time": "2022-02-02T13:43:45.916334",
     "exception": false,
     "start_time": "2022-02-02T13:43:45.899715",
     "status": "completed"
    },
    "tags": []
   },
   "outputs": [],
   "source": []
  }
 ],
 "metadata": {
  "kernelspec": {
   "display_name": "Python 3",
   "language": "python",
   "name": "python3"
  },
  "language_info": {
   "codemirror_mode": {
    "name": "ipython",
    "version": 3
   },
   "file_extension": ".py",
   "mimetype": "text/x-python",
   "name": "python",
   "nbconvert_exporter": "python",
   "pygments_lexer": "ipython3",
   "version": "3.8.5"
  },
  "papermill": {
   "default_parameters": {},
   "duration": 53.062452,
   "end_time": "2022-02-02T13:43:47.223106",
   "environment_variables": {},
   "exception": null,
   "input_path": "/data/aglinska/BC-MRI-AE/Colab Notebooks/00-reviews-age-UMAPs-all-ages-loop.ipynb",
   "output_path": "/data/aglinska/BC-MRI-AE/misc/umap_consistency_analysis/00-reviews-age-UMAPs-all-ages-loop-1.ipynb",
   "parameters": {
    "analysis_number": 1
   },
   "start_time": "2022-02-02T13:42:54.160654",
   "version": "2.3.3"
  }
 },
 "nbformat": 4,
 "nbformat_minor": 5
}
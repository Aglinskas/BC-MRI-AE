{
 "cells": [
  {
   "cell_type": "code",
   "execution_count": 1,
   "id": "ea76db21",
   "metadata": {
    "execution": {
     "iopub.execute_input": "2022-02-02T13:50:34.566182Z",
     "iopub.status.busy": "2022-02-02T13:50:34.565806Z",
     "iopub.status.idle": "2022-02-02T13:50:34.567721Z",
     "shell.execute_reply": "2022-02-02T13:50:34.567994Z"
    },
    "papermill": {
     "duration": 0.023622,
     "end_time": "2022-02-02T13:50:34.568169",
     "exception": false,
     "start_time": "2022-02-02T13:50:34.544547",
     "status": "completed"
    },
    "tags": []
   },
   "outputs": [
    {
     "data": {
      "text/plain": [
       "'/mmfs1/data/aglinska/BC-MRI-AE/Colab Notebooks'"
      ]
     },
     "execution_count": 1,
     "metadata": {},
     "output_type": "execute_result"
    }
   ],
   "source": [
    "pwd"
   ]
  },
  {
   "cell_type": "code",
   "execution_count": 2,
   "id": "3dd4eb4d",
   "metadata": {
    "execution": {
     "iopub.execute_input": "2022-02-02T13:50:34.592885Z",
     "iopub.status.busy": "2022-02-02T13:50:34.592555Z",
     "iopub.status.idle": "2022-02-02T13:50:34.593908Z",
     "shell.execute_reply": "2022-02-02T13:50:34.594177Z"
    },
    "papermill": {
     "duration": 0.014852,
     "end_time": "2022-02-02T13:50:34.594266",
     "exception": false,
     "start_time": "2022-02-02T13:50:34.579414",
     "status": "completed"
    },
    "tags": [
     "parameters"
    ]
   },
   "outputs": [],
   "source": [
    "#this cell is tagged \"parameters\"\n",
    "analysis_number = 1"
   ]
  },
  {
   "cell_type": "code",
   "execution_count": 3,
   "id": "38e8325c",
   "metadata": {
    "execution": {
     "iopub.execute_input": "2022-02-02T13:50:34.618710Z",
     "iopub.status.busy": "2022-02-02T13:50:34.618380Z",
     "iopub.status.idle": "2022-02-02T13:50:34.619703Z",
     "shell.execute_reply": "2022-02-02T13:50:34.619968Z"
    },
    "papermill": {
     "duration": 0.014913,
     "end_time": "2022-02-02T13:50:34.620058",
     "exception": false,
     "start_time": "2022-02-02T13:50:34.605145",
     "status": "completed"
    },
    "tags": [
     "injected-parameters"
    ]
   },
   "outputs": [],
   "source": [
    "# Parameters\n",
    "analysis_number = 9\n"
   ]
  },
  {
   "cell_type": "code",
   "execution_count": 4,
   "id": "0d49a487",
   "metadata": {
    "execution": {
     "iopub.execute_input": "2022-02-02T13:50:34.645142Z",
     "iopub.status.busy": "2022-02-02T13:50:34.644787Z",
     "iopub.status.idle": "2022-02-02T13:50:50.054261Z",
     "shell.execute_reply": "2022-02-02T13:50:50.054533Z"
    },
    "papermill": {
     "duration": 15.42369,
     "end_time": "2022-02-02T13:50:50.054646",
     "exception": false,
     "start_time": "2022-02-02T13:50:34.630956",
     "status": "completed"
    },
    "tags": []
   },
   "outputs": [
    {
     "name": "stdout",
     "output_type": "stream",
     "text": [
      "2022-02-02 08:50:50.051468\n"
     ]
    }
   ],
   "source": [
    "import numpy as np\n",
    "import pandas as pd\n",
    "import pickle\n",
    "\n",
    "from matplotlib import pyplot as plt\n",
    "import seaborn as sns\n",
    "\n",
    "import os\n",
    "import ants\n",
    "from tqdm import tqdm\n",
    "\n",
    "import umap\n",
    "\n",
    "from datetime import datetime;now = datetime.now;t0=now();print(t0)"
   ]
  },
  {
   "cell_type": "code",
   "execution_count": 5,
   "id": "1c07ade7",
   "metadata": {
    "execution": {
     "iopub.execute_input": "2022-02-02T13:50:50.084688Z",
     "iopub.status.busy": "2022-02-02T13:50:50.084361Z",
     "iopub.status.idle": "2022-02-02T13:50:50.119906Z",
     "shell.execute_reply": "2022-02-02T13:50:50.119615Z"
    },
    "papermill": {
     "duration": 0.050763,
     "end_time": "2022-02-02T13:50:50.119984",
     "exception": false,
     "start_time": "2022-02-02T13:50:50.069221",
     "status": "completed"
    },
    "tags": []
   },
   "outputs": [
    {
     "data": {
      "text/html": [
       "<div>\n",
       "<style scoped>\n",
       "    .dataframe tbody tr th:only-of-type {\n",
       "        vertical-align: middle;\n",
       "    }\n",
       "\n",
       "    .dataframe tbody tr th {\n",
       "        vertical-align: top;\n",
       "    }\n",
       "\n",
       "    .dataframe thead th {\n",
       "        text-align: right;\n",
       "    }\n",
       "</style>\n",
       "<table border=\"1\" class=\"dataframe\">\n",
       "  <thead>\n",
       "    <tr style=\"text-align: right;\">\n",
       "      <th></th>\n",
       "      <th>Unnamed: 0</th>\n",
       "      <th>index</th>\n",
       "      <th>BIDS_ID</th>\n",
       "      <th>Anonymized ID</th>\n",
       "      <th>Subject Type</th>\n",
       "      <th>Visit</th>\n",
       "      <th>Days since enrollment</th>\n",
       "      <th>SubID</th>\n",
       "      <th>DxGroup</th>\n",
       "      <th>DSMIVTR</th>\n",
       "      <th>...</th>\n",
       "      <th>WISC4 Sym Scaled</th>\n",
       "      <th>Age at MPRAGE</th>\n",
       "      <th>Current Med Status</th>\n",
       "      <th>Medication Name</th>\n",
       "      <th>Medication Name.1</th>\n",
       "      <th>Off stimulants at EPI scan?</th>\n",
       "      <th>ScanSite</th>\n",
       "      <th>ScannerType</th>\n",
       "      <th>ScannerID</th>\n",
       "      <th>ScanSiteID</th>\n",
       "    </tr>\n",
       "  </thead>\n",
       "  <tbody>\n",
       "    <tr>\n",
       "      <th>0</th>\n",
       "      <td>0</td>\n",
       "      <td>0</td>\n",
       "      <td>sub-001</td>\n",
       "      <td>A00033348</td>\n",
       "      <td>PATIENT</td>\n",
       "      <td>session_1</td>\n",
       "      <td>8</td>\n",
       "      <td>51320</td>\n",
       "      <td>1</td>\n",
       "      <td>2.0</td>\n",
       "      <td>...</td>\n",
       "      <td>NaN</td>\n",
       "      <td>NaN</td>\n",
       "      <td>0.0</td>\n",
       "      <td>NaN</td>\n",
       "      <td>NaN</td>\n",
       "      <td>NaN</td>\n",
       "      <td>mpg</td>\n",
       "      <td>verio</td>\n",
       "      <td>7</td>\n",
       "      <td>3</td>\n",
       "    </tr>\n",
       "    <tr>\n",
       "      <th>1</th>\n",
       "      <td>1</td>\n",
       "      <td>1</td>\n",
       "      <td>sub-002</td>\n",
       "      <td>A00033398</td>\n",
       "      <td>CONTROL</td>\n",
       "      <td>session_1</td>\n",
       "      <td>8</td>\n",
       "      <td>51373</td>\n",
       "      <td>2</td>\n",
       "      <td>0.0</td>\n",
       "      <td>...</td>\n",
       "      <td>NaN</td>\n",
       "      <td>NaN</td>\n",
       "      <td>0.0</td>\n",
       "      <td>NaN</td>\n",
       "      <td>NaN</td>\n",
       "      <td>NaN</td>\n",
       "      <td>mpg</td>\n",
       "      <td>verio</td>\n",
       "      <td>7</td>\n",
       "      <td>3</td>\n",
       "    </tr>\n",
       "    <tr>\n",
       "      <th>2</th>\n",
       "      <td>2</td>\n",
       "      <td>2</td>\n",
       "      <td>sub-003</td>\n",
       "      <td>A00033352</td>\n",
       "      <td>PATIENT</td>\n",
       "      <td>session_1</td>\n",
       "      <td>8</td>\n",
       "      <td>51324</td>\n",
       "      <td>1</td>\n",
       "      <td>2.0</td>\n",
       "      <td>...</td>\n",
       "      <td>NaN</td>\n",
       "      <td>NaN</td>\n",
       "      <td>0.0</td>\n",
       "      <td>NaN</td>\n",
       "      <td>NaN</td>\n",
       "      <td>NaN</td>\n",
       "      <td>mpg</td>\n",
       "      <td>verio</td>\n",
       "      <td>7</td>\n",
       "      <td>3</td>\n",
       "    </tr>\n",
       "    <tr>\n",
       "      <th>3</th>\n",
       "      <td>3</td>\n",
       "      <td>3</td>\n",
       "      <td>sub-004</td>\n",
       "      <td>A00033389</td>\n",
       "      <td>CONTROL</td>\n",
       "      <td>session_1</td>\n",
       "      <td>8</td>\n",
       "      <td>51364</td>\n",
       "      <td>2</td>\n",
       "      <td>0.0</td>\n",
       "      <td>...</td>\n",
       "      <td>NaN</td>\n",
       "      <td>NaN</td>\n",
       "      <td>0.0</td>\n",
       "      <td>NaN</td>\n",
       "      <td>NaN</td>\n",
       "      <td>NaN</td>\n",
       "      <td>mpg</td>\n",
       "      <td>verio</td>\n",
       "      <td>7</td>\n",
       "      <td>3</td>\n",
       "    </tr>\n",
       "    <tr>\n",
       "      <th>4</th>\n",
       "      <td>4</td>\n",
       "      <td>4</td>\n",
       "      <td>sub-005</td>\n",
       "      <td>A00033354</td>\n",
       "      <td>PATIENT</td>\n",
       "      <td>session_1</td>\n",
       "      <td>8</td>\n",
       "      <td>51326</td>\n",
       "      <td>1</td>\n",
       "      <td>2.0</td>\n",
       "      <td>...</td>\n",
       "      <td>NaN</td>\n",
       "      <td>NaN</td>\n",
       "      <td>0.0</td>\n",
       "      <td>NaN</td>\n",
       "      <td>NaN</td>\n",
       "      <td>NaN</td>\n",
       "      <td>mpg</td>\n",
       "      <td>verio</td>\n",
       "      <td>7</td>\n",
       "      <td>3</td>\n",
       "    </tr>\n",
       "    <tr>\n",
       "      <th>...</th>\n",
       "      <td>...</td>\n",
       "      <td>...</td>\n",
       "      <td>...</td>\n",
       "      <td>...</td>\n",
       "      <td>...</td>\n",
       "      <td>...</td>\n",
       "      <td>...</td>\n",
       "      <td>...</td>\n",
       "      <td>...</td>\n",
       "      <td>...</td>\n",
       "      <td>...</td>\n",
       "      <td>...</td>\n",
       "      <td>...</td>\n",
       "      <td>...</td>\n",
       "      <td>...</td>\n",
       "      <td>...</td>\n",
       "      <td>...</td>\n",
       "      <td>...</td>\n",
       "      <td>...</td>\n",
       "      <td>...</td>\n",
       "      <td>...</td>\n",
       "    </tr>\n",
       "    <tr>\n",
       "      <th>977</th>\n",
       "      <td>977</td>\n",
       "      <td>1094</td>\n",
       "      <td>sub-985</td>\n",
       "      <td>A00032725</td>\n",
       "      <td>CONTROL</td>\n",
       "      <td>session_1</td>\n",
       "      <td>28</td>\n",
       "      <td>51252</td>\n",
       "      <td>2</td>\n",
       "      <td>0.0</td>\n",
       "      <td>...</td>\n",
       "      <td>NaN</td>\n",
       "      <td>10.99</td>\n",
       "      <td>0.0</td>\n",
       "      <td>NaN</td>\n",
       "      <td>NaN</td>\n",
       "      <td>NaN</td>\n",
       "      <td>ucla</td>\n",
       "      <td>triotim</td>\n",
       "      <td>6</td>\n",
       "      <td>12</td>\n",
       "    </tr>\n",
       "    <tr>\n",
       "      <th>978</th>\n",
       "      <td>978</td>\n",
       "      <td>1095</td>\n",
       "      <td>sub-986</td>\n",
       "      <td>A00032704</td>\n",
       "      <td>PATIENT</td>\n",
       "      <td>session_1</td>\n",
       "      <td>28</td>\n",
       "      <td>51229</td>\n",
       "      <td>1</td>\n",
       "      <td>1.0</td>\n",
       "      <td>...</td>\n",
       "      <td>NaN</td>\n",
       "      <td>14.59</td>\n",
       "      <td>0.0</td>\n",
       "      <td>NaN</td>\n",
       "      <td>NaN</td>\n",
       "      <td>NaN</td>\n",
       "      <td>ucla</td>\n",
       "      <td>triotim</td>\n",
       "      <td>6</td>\n",
       "      <td>12</td>\n",
       "    </tr>\n",
       "    <tr>\n",
       "      <th>979</th>\n",
       "      <td>979</td>\n",
       "      <td>1096</td>\n",
       "      <td>sub-987</td>\n",
       "      <td>A00032740</td>\n",
       "      <td>CONTROL</td>\n",
       "      <td>session_1</td>\n",
       "      <td>28</td>\n",
       "      <td>51268</td>\n",
       "      <td>2</td>\n",
       "      <td>0.0</td>\n",
       "      <td>...</td>\n",
       "      <td>NaN</td>\n",
       "      <td>17.78</td>\n",
       "      <td>0.0</td>\n",
       "      <td>NaN</td>\n",
       "      <td>NaN</td>\n",
       "      <td>NaN</td>\n",
       "      <td>ucla</td>\n",
       "      <td>triotim</td>\n",
       "      <td>6</td>\n",
       "      <td>12</td>\n",
       "    </tr>\n",
       "    <tr>\n",
       "      <th>980</th>\n",
       "      <td>980</td>\n",
       "      <td>1098</td>\n",
       "      <td>sub-989</td>\n",
       "      <td>A00032686</td>\n",
       "      <td>PATIENT</td>\n",
       "      <td>session_1</td>\n",
       "      <td>28</td>\n",
       "      <td>51210</td>\n",
       "      <td>1</td>\n",
       "      <td>1.0</td>\n",
       "      <td>...</td>\n",
       "      <td>NaN</td>\n",
       "      <td>16.56</td>\n",
       "      <td>0.0</td>\n",
       "      <td>NaN</td>\n",
       "      <td>NaN</td>\n",
       "      <td>NaN</td>\n",
       "      <td>ucla</td>\n",
       "      <td>triotim</td>\n",
       "      <td>6</td>\n",
       "      <td>12</td>\n",
       "    </tr>\n",
       "    <tr>\n",
       "      <th>981</th>\n",
       "      <td>981</td>\n",
       "      <td>1099</td>\n",
       "      <td>sub-990</td>\n",
       "      <td>A00032702</td>\n",
       "      <td>PATIENT</td>\n",
       "      <td>session_1</td>\n",
       "      <td>28</td>\n",
       "      <td>51227</td>\n",
       "      <td>1</td>\n",
       "      <td>1.0</td>\n",
       "      <td>...</td>\n",
       "      <td>NaN</td>\n",
       "      <td>14.53</td>\n",
       "      <td>0.0</td>\n",
       "      <td>NaN</td>\n",
       "      <td>NaN</td>\n",
       "      <td>NaN</td>\n",
       "      <td>ucla</td>\n",
       "      <td>triotim</td>\n",
       "      <td>6</td>\n",
       "      <td>12</td>\n",
       "    </tr>\n",
       "  </tbody>\n",
       "</table>\n",
       "<p>982 rows × 90 columns</p>\n",
       "</div>"
      ],
      "text/plain": [
       "     Unnamed: 0  index  BIDS_ID Anonymized ID Subject Type      Visit  \\\n",
       "0             0      0  sub-001     A00033348      PATIENT  session_1   \n",
       "1             1      1  sub-002     A00033398      CONTROL  session_1   \n",
       "2             2      2  sub-003     A00033352      PATIENT  session_1   \n",
       "3             3      3  sub-004     A00033389      CONTROL  session_1   \n",
       "4             4      4  sub-005     A00033354      PATIENT  session_1   \n",
       "..          ...    ...      ...           ...          ...        ...   \n",
       "977         977   1094  sub-985     A00032725      CONTROL  session_1   \n",
       "978         978   1095  sub-986     A00032704      PATIENT  session_1   \n",
       "979         979   1096  sub-987     A00032740      CONTROL  session_1   \n",
       "980         980   1098  sub-989     A00032686      PATIENT  session_1   \n",
       "981         981   1099  sub-990     A00032702      PATIENT  session_1   \n",
       "\n",
       "     Days since enrollment  SubID  DxGroup  DSMIVTR  ...  WISC4 Sym Scaled  \\\n",
       "0                        8  51320        1      2.0  ...               NaN   \n",
       "1                        8  51373        2      0.0  ...               NaN   \n",
       "2                        8  51324        1      2.0  ...               NaN   \n",
       "3                        8  51364        2      0.0  ...               NaN   \n",
       "4                        8  51326        1      2.0  ...               NaN   \n",
       "..                     ...    ...      ...      ...  ...               ...   \n",
       "977                     28  51252        2      0.0  ...               NaN   \n",
       "978                     28  51229        1      1.0  ...               NaN   \n",
       "979                     28  51268        2      0.0  ...               NaN   \n",
       "980                     28  51210        1      1.0  ...               NaN   \n",
       "981                     28  51227        1      1.0  ...               NaN   \n",
       "\n",
       "     Age at MPRAGE  Current Med Status  Medication Name  Medication Name.1  \\\n",
       "0              NaN                 0.0              NaN                NaN   \n",
       "1              NaN                 0.0              NaN                NaN   \n",
       "2              NaN                 0.0              NaN                NaN   \n",
       "3              NaN                 0.0              NaN                NaN   \n",
       "4              NaN                 0.0              NaN                NaN   \n",
       "..             ...                 ...              ...                ...   \n",
       "977          10.99                 0.0              NaN                NaN   \n",
       "978          14.59                 0.0              NaN                NaN   \n",
       "979          17.78                 0.0              NaN                NaN   \n",
       "980          16.56                 0.0              NaN                NaN   \n",
       "981          14.53                 0.0              NaN                NaN   \n",
       "\n",
       "    Off stimulants at EPI scan? ScanSite ScannerType  ScannerID  ScanSiteID  \n",
       "0                           NaN      mpg       verio          7           3  \n",
       "1                           NaN      mpg       verio          7           3  \n",
       "2                           NaN      mpg       verio          7           3  \n",
       "3                           NaN      mpg       verio          7           3  \n",
       "4                           NaN      mpg       verio          7           3  \n",
       "..                          ...      ...         ...        ...         ...  \n",
       "977                         NaN     ucla     triotim          6          12  \n",
       "978                         NaN     ucla     triotim          6          12  \n",
       "979                         NaN     ucla     triotim          6          12  \n",
       "980                         NaN     ucla     triotim          6          12  \n",
       "981                         NaN     ucla     triotim          6          12  \n",
       "\n",
       "[982 rows x 90 columns]"
      ]
     },
     "execution_count": 5,
     "metadata": {},
     "output_type": "execute_result"
    }
   ],
   "source": [
    "df = pd.read_csv('../Data/ABIDE_legend_S982.csv')\n",
    "patients = df['DxGroup'].values==1\n",
    "df_asd = df.iloc[patients]\n",
    "df"
   ]
  },
  {
   "cell_type": "code",
   "execution_count": 6,
   "id": "64906771",
   "metadata": {
    "execution": {
     "iopub.execute_input": "2022-02-02T13:50:50.144535Z",
     "iopub.status.busy": "2022-02-02T13:50:50.144205Z",
     "iopub.status.idle": "2022-02-02T13:50:50.145754Z",
     "shell.execute_reply": "2022-02-02T13:50:50.145476Z"
    },
    "papermill": {
     "duration": 0.014508,
     "end_time": "2022-02-02T13:50:50.145826",
     "exception": false,
     "start_time": "2022-02-02T13:50:50.131318",
     "status": "completed"
    },
    "tags": []
   },
   "outputs": [],
   "source": [
    "# data_latent_vec = np.load('../Data/latent_vecs.npz')\n",
    "# keys = list(data_latent_vec.keys())\n",
    "# print(keys)\n",
    "# for key in keys:\n",
    "#     print(data_latent_vec[key].shape)"
   ]
  },
  {
   "cell_type": "code",
   "execution_count": 7,
   "id": "7ef6c332",
   "metadata": {
    "execution": {
     "iopub.execute_input": "2022-02-02T13:50:50.170788Z",
     "iopub.status.busy": "2022-02-02T13:50:50.170467Z",
     "iopub.status.idle": "2022-02-02T13:50:50.175267Z",
     "shell.execute_reply": "2022-02-02T13:50:50.175532Z"
    },
    "papermill": {
     "duration": 0.018455,
     "end_time": "2022-02-02T13:50:50.175616",
     "exception": false,
     "start_time": "2022-02-02T13:50:50.157161",
     "status": "completed"
    },
    "tags": []
   },
   "outputs": [
    {
     "name": "stdout",
     "output_type": "stream",
     "text": [
      "CPU times: user 710 µs, sys: 330 µs, total: 1.04 ms\n",
      "Wall time: 2.99 ms\n"
     ]
    }
   ],
   "source": [
    "%%time\n",
    "embed = pickle.load(open('../Data/embedded_data.pickle','rb'))"
   ]
  },
  {
   "cell_type": "code",
   "execution_count": 8,
   "id": "6a8ebb7d",
   "metadata": {
    "execution": {
     "iopub.execute_input": "2022-02-02T13:50:50.201372Z",
     "iopub.status.busy": "2022-02-02T13:50:50.201042Z",
     "iopub.status.idle": "2022-02-02T13:50:50.203469Z",
     "shell.execute_reply": "2022-02-02T13:50:50.203733Z"
    },
    "papermill": {
     "duration": 0.01661,
     "end_time": "2022-02-02T13:50:50.203816",
     "exception": false,
     "start_time": "2022-02-02T13:50:50.187206",
     "status": "completed"
    },
    "tags": []
   },
   "outputs": [
    {
     "name": "stdout",
     "output_type": "stream",
     "text": [
      "embedding_bg | (470, 16)\n",
      "embedding_sl | (470, 16)\n",
      "embedding_vae | (470, 32)\n",
      "sfari_embedding_vae | (51, 32)\n",
      "sfari_embedding_bg | (51, 16)\n",
      "sfari_embedding_sl | (51, 16)\n",
      "bg_space_abide | (470, 2)\n",
      "sl_space_abide | (470, 2)\n",
      "vae_space_abide | (470, 2)\n",
      "bg_space_sfari | (51, 2)\n",
      "sl_space_sfari | (51, 2)\n",
      "vae_space_sfari | (51, 2)\n",
      "bg_Sspace_sfari | (51, 2)\n",
      "sl_Sspace_sfari | (51, 2)\n",
      "vae_Sspace_sfari | (51, 2)\n",
      "reducer_bg_abide\n",
      "reducer_sl_abide\n",
      "reducer_vae_abide\n",
      "reducer_bg_sfari\n",
      "reducer_sl_sfari\n",
      "reducer_vae_sfari\n"
     ]
    }
   ],
   "source": [
    "keys = list(embed.keys())\n",
    "for key in keys:\n",
    "    try:\n",
    "        print(f'{key} | {embed[key].shape}')\n",
    "    except:\n",
    "        print(f'{key}')"
   ]
  },
  {
   "cell_type": "code",
   "execution_count": 9,
   "id": "6f4ccb44",
   "metadata": {
    "execution": {
     "iopub.execute_input": "2022-02-02T13:50:50.230538Z",
     "iopub.status.busy": "2022-02-02T13:50:50.230214Z",
     "iopub.status.idle": "2022-02-02T13:50:55.941647Z",
     "shell.execute_reply": "2022-02-02T13:50:55.941925Z"
    },
    "papermill": {
     "duration": 5.726492,
     "end_time": "2022-02-02T13:50:55.942050",
     "exception": false,
     "start_time": "2022-02-02T13:50:50.215558",
     "status": "completed"
    },
    "tags": []
   },
   "outputs": [],
   "source": [
    "import umap\n",
    "reducer = umap.UMAP()\n",
    "embedding_sl = reducer.fit_transform(embed['embedding_sl'])"
   ]
  },
  {
   "cell_type": "code",
   "execution_count": 10,
   "id": "6c3e4994",
   "metadata": {
    "execution": {
     "iopub.execute_input": "2022-02-02T13:50:55.969829Z",
     "iopub.status.busy": "2022-02-02T13:50:55.969501Z",
     "iopub.status.idle": "2022-02-02T13:50:55.970893Z",
     "shell.execute_reply": "2022-02-02T13:50:55.971160Z"
    },
    "papermill": {
     "duration": 0.016021,
     "end_time": "2022-02-02T13:50:55.971246",
     "exception": false,
     "start_time": "2022-02-02T13:50:55.955225",
     "status": "completed"
    },
    "tags": []
   },
   "outputs": [],
   "source": [
    "#embedding_sl = embed['sl_space_abide']\n",
    "#embedding_sl = embed['reducer_sl_abide'].transform(embed['embedding_sl'])\n",
    "x_loading = embedding_sl[:,0]\n",
    "y_loading = embedding_sl[:,1]"
   ]
  },
  {
   "cell_type": "code",
   "execution_count": 11,
   "id": "d7b25ae3",
   "metadata": {
    "execution": {
     "iopub.execute_input": "2022-02-02T13:50:55.998077Z",
     "iopub.status.busy": "2022-02-02T13:50:55.997737Z",
     "iopub.status.idle": "2022-02-02T13:50:55.999017Z",
     "shell.execute_reply": "2022-02-02T13:50:55.999287Z"
    },
    "papermill": {
     "duration": 0.016374,
     "end_time": "2022-02-02T13:50:55.999393",
     "exception": false,
     "start_time": "2022-02-02T13:50:55.983019",
     "status": "completed"
    },
    "tags": []
   },
   "outputs": [],
   "source": [
    "# from sklearn.decomposition import PCA\n",
    "# pca = PCA(n_components=2)\n",
    "# embedding_sl = pca.fit_transform(embed['embedding_sl'])\n",
    "# x_loading = embedding_sl[:,0]\n",
    "# y_loading = embedding_sl[:,1]"
   ]
  },
  {
   "cell_type": "code",
   "execution_count": 12,
   "id": "df18168b",
   "metadata": {
    "execution": {
     "iopub.execute_input": "2022-02-02T13:50:56.026570Z",
     "iopub.status.busy": "2022-02-02T13:50:56.026241Z",
     "iopub.status.idle": "2022-02-02T13:50:56.030250Z",
     "shell.execute_reply": "2022-02-02T13:50:56.030515Z"
    },
    "papermill": {
     "duration": 0.019369,
     "end_time": "2022-02-02T13:50:56.030598",
     "exception": false,
     "start_time": "2022-02-02T13:50:56.011229",
     "status": "completed"
    },
    "tags": []
   },
   "outputs": [
    {
     "name": "stdout",
     "output_type": "stream",
     "text": [
      "AgeAtScan | X:0.02,Y:0.04\n",
      "FIQ | X:-0.02,Y:0.16\n",
      "ADOS_Total | X:-0.05,Y:0.03\n",
      "ADOS_Comm | X:-0.02,Y:0.05\n",
      "ADOS_Social | X:-0.05,Y:0.04\n",
      "ADOS_StBeh | X:-0.13,Y:0.09\n"
     ]
    }
   ],
   "source": [
    "keys = ['AgeAtScan','FIQ','ADOS_Total','ADOS_Comm', 'ADOS_Social', 'ADOS_StBeh']\n",
    "for key in keys:\n",
    "    vec = df[key].values[patients]\n",
    "    e = np.isnan(vec)\n",
    "    r_x = np.corrcoef(vec[~e],x_loading[~e])[0,1]\n",
    "    r_y = np.corrcoef(vec[~e],y_loading[~e])[0,1]\n",
    "    print(f'{key} | X:{r_x:.2f},Y:{r_y:.2f}')"
   ]
  },
  {
   "cell_type": "code",
   "execution_count": 13,
   "id": "7d255570",
   "metadata": {
    "execution": {
     "iopub.execute_input": "2022-02-02T13:50:56.058469Z",
     "iopub.status.busy": "2022-02-02T13:50:56.058140Z",
     "iopub.status.idle": "2022-02-02T13:50:56.061009Z",
     "shell.execute_reply": "2022-02-02T13:50:56.061281Z"
    },
    "papermill": {
     "duration": 0.018905,
     "end_time": "2022-02-02T13:50:56.061362",
     "exception": false,
     "start_time": "2022-02-02T13:50:56.042457",
     "status": "completed"
    },
    "tags": []
   },
   "outputs": [
    {
     "name": "stdout",
     "output_type": "stream",
     "text": [
      "top | [9.050537 8.973357]\n",
      "botom | [9.050537  3.2608018]\n",
      "left | [6.4033732 6.241323 ]\n",
      "right | [11.845011  6.241323]\n"
     ]
    }
   ],
   "source": [
    "_max = embedding_sl.max(axis=0)\n",
    "_min = embedding_sl.min(axis=0)\n",
    "_mid = embedding_sl.mean(axis=0)\n",
    "\n",
    "# CALC CORNERS\n",
    "top = (_mid[0],_max[1])\n",
    "bottom = (_mid[0],_min[1])\n",
    "left = (_min[0],_mid[1])\n",
    "right = (_max[0],_mid[1])\n",
    "\n",
    "top = np.array(top)\n",
    "bottom = np.array(bottom)\n",
    "left = np.array(left)\n",
    "right = np.array(right)\n",
    "\n",
    "\n",
    "print(f'top | {top}')\n",
    "print(f'botom | {bottom}')\n",
    "print(f'left | {left}')\n",
    "print(f'right | {right}')"
   ]
  },
  {
   "cell_type": "code",
   "execution_count": 14,
   "id": "6753845b",
   "metadata": {
    "execution": {
     "iopub.execute_input": "2022-02-02T13:50:56.089239Z",
     "iopub.status.busy": "2022-02-02T13:50:56.088905Z",
     "iopub.status.idle": "2022-02-02T13:50:56.090703Z",
     "shell.execute_reply": "2022-02-02T13:50:56.090962Z"
    },
    "papermill": {
     "duration": 0.017336,
     "end_time": "2022-02-02T13:50:56.091050",
     "exception": false,
     "start_time": "2022-02-02T13:50:56.073714",
     "status": "completed"
    },
    "tags": []
   },
   "outputs": [],
   "source": [
    "idx_top50 = np.argsort(np.linalg.norm(embedding_sl-top,axis=1))[0:50]\n",
    "idx_bottom50 = np.argsort(np.linalg.norm(embedding_sl-bottom,axis=1))[0:50]\n",
    "\n",
    "idx_left50 = np.argsort(np.linalg.norm(embedding_sl-left,axis=1))[0:50]\n",
    "idx_right50 = np.argsort(np.linalg.norm(embedding_sl-right,axis=1))[0:50]"
   ]
  },
  {
   "cell_type": "code",
   "execution_count": 15,
   "id": "f853ae7b",
   "metadata": {
    "execution": {
     "iopub.execute_input": "2022-02-02T13:50:56.132074Z",
     "iopub.status.busy": "2022-02-02T13:50:56.128693Z",
     "iopub.status.idle": "2022-02-02T13:50:56.341784Z",
     "shell.execute_reply": "2022-02-02T13:50:56.342054Z"
    },
    "papermill": {
     "duration": 0.238768,
     "end_time": "2022-02-02T13:50:56.342147",
     "exception": false,
     "start_time": "2022-02-02T13:50:56.103379",
     "status": "completed"
    },
    "tags": []
   },
   "outputs": [
    {
     "data": {
      "text/plain": [
       "Text(0.5, 1.0, 'SL SPACE')"
      ]
     },
     "execution_count": 15,
     "metadata": {},
     "output_type": "execute_result"
    },
    {
     "data": {
      "image/png": "[encoded data removed]",
      "text/plain": [
       "<Figure size 360x360 with 1 Axes>"
      ]
     },
     "metadata": {
      "needs_background": "light"
     },
     "output_type": "display_data"
    }
   ],
   "source": [
    "plt.figure(figsize=(5,5))\n",
    "plt.scatter(embedding_sl[:,0],embedding_sl[:,1])\n",
    "plt.scatter(embedding_sl[idx_top50,0],embedding_sl[idx_top50,1])\n",
    "plt.scatter(embedding_sl[idx_bottom50,0],embedding_sl[idx_bottom50,1])\n",
    "plt.scatter(embedding_sl[idx_left50,0],embedding_sl[idx_left50,1])\n",
    "plt.scatter(embedding_sl[idx_right50,0],embedding_sl[idx_right50,1])\n",
    "plt.legend(['none','top','bottom','left','right'])\n",
    "plt.title('SL SPACE')"
   ]
  },
  {
   "cell_type": "code",
   "execution_count": 16,
   "id": "9101836e",
   "metadata": {
    "execution": {
     "iopub.execute_input": "2022-02-02T13:50:56.371593Z",
     "iopub.status.busy": "2022-02-02T13:50:56.371267Z",
     "iopub.status.idle": "2022-02-02T13:50:56.372692Z",
     "shell.execute_reply": "2022-02-02T13:50:56.372951Z"
    },
    "papermill": {
     "duration": 0.017603,
     "end_time": "2022-02-02T13:50:56.373031",
     "exception": false,
     "start_time": "2022-02-02T13:50:56.355428",
     "status": "completed"
    },
    "tags": []
   },
   "outputs": [],
   "source": [
    "subs_top50 = df_asd['BIDS_ID'].values[idx_top50]\n",
    "subs_bottom50 = df_asd['BIDS_ID'].values[idx_bottom50]\n",
    "subs_left50 = df_asd['BIDS_ID'].values[idx_left50]\n",
    "subs_right50 = df_asd['BIDS_ID'].values[idx_right50]"
   ]
  },
  {
   "cell_type": "code",
   "execution_count": null,
   "id": "ba18d4f6",
   "metadata": {
    "papermill": {
     "duration": 0.012957,
     "end_time": "2022-02-02T13:50:56.399334",
     "exception": false,
     "start_time": "2022-02-02T13:50:56.386377",
     "status": "completed"
    },
    "tags": []
   },
   "outputs": [],
   "source": []
  },
  {
   "cell_type": "code",
   "execution_count": 17,
   "id": "5054d858",
   "metadata": {
    "execution": {
     "iopub.execute_input": "2022-02-02T13:50:56.431807Z",
     "iopub.status.busy": "2022-02-02T13:50:56.431482Z",
     "iopub.status.idle": "2022-02-02T13:50:56.441207Z",
     "shell.execute_reply": "2022-02-02T13:50:56.440929Z"
    },
    "papermill": {
     "duration": 0.028705,
     "end_time": "2022-02-02T13:50:56.441280",
     "exception": false,
     "start_time": "2022-02-02T13:50:56.412575",
     "status": "completed"
    },
    "tags": []
   },
   "outputs": [],
   "source": [
    "# Save subject list for SPM analyses\n",
    "pd.DataFrame(\n",
    "    np.hstack((subs_bottom50[:,np.newaxis],subs_top50[:,np.newaxis])),\n",
    "    columns=['low','high']).to_csv(\n",
    "    f'../misc/umap_consistency_analysis/corner_TB_{analysis_number:03d}.csv')\n",
    "\n",
    "pd.DataFrame(\n",
    "    np.hstack((subs_left50[:,np.newaxis],subs_right50[:,np.newaxis])),\n",
    "    columns=['low','high']).to_csv(\n",
    "f'../misc/umap_consistency_analysis/corner_LR_{analysis_number:03d}.csv')"
   ]
  },
  {
   "cell_type": "code",
   "execution_count": 18,
   "id": "068ecb60",
   "metadata": {
    "execution": {
     "iopub.execute_input": "2022-02-02T13:50:56.472620Z",
     "iopub.status.busy": "2022-02-02T13:50:56.472293Z",
     "iopub.status.idle": "2022-02-02T13:50:56.473928Z",
     "shell.execute_reply": "2022-02-02T13:50:56.473652Z"
    },
    "papermill": {
     "duration": 0.019202,
     "end_time": "2022-02-02T13:50:56.473997",
     "exception": false,
     "start_time": "2022-02-02T13:50:56.454795",
     "status": "completed"
    },
    "tags": []
   },
   "outputs": [],
   "source": [
    "home = os.getenv(\"HOME\")\n",
    "j_fn_temp =os.path.join(home,'jacobians/normed_Js_masked/{}_normed_Js_masked.nii')\n",
    "#j_fn_temp =os.path.join(home,'jacobians/normed_Js/{}_normed_Js.nii')\n",
    "\n",
    "def glm_second_level(subs_high,subs_low):\n",
    "    from nilearn.glm import threshold_stats_img\n",
    "    from nilearn.glm.second_level import SecondLevelModel\n",
    "    con_name = 't_con'\n",
    "    \n",
    "    files_high = [j_fn_temp.format(sub) for sub in subs_high]\n",
    "    files_low = [j_fn_temp.format(sub) for sub in subs_low]\n",
    "\n",
    "    second_level_input = files_high+files_low\n",
    "    nsubs = int(len(second_level_input)/2)\n",
    "    condition_effect = np.hstack((np.repeat(1,nsubs),np.repeat(-1,nsubs)))\n",
    "\n",
    "    unpaired_design_matrix = pd.DataFrame(condition_effect[:, np.newaxis],columns=[con_name])\n",
    "    second_level_model_unpaired = SecondLevelModel().fit(second_level_input, design_matrix=unpaired_design_matrix)\n",
    "\n",
    "    stat_maps_unpaired = second_level_model_unpaired.compute_contrast(con_name,output_type='all')\n",
    "    return stat_maps_unpaired,second_level_model_unpaired"
   ]
  },
  {
   "cell_type": "code",
   "execution_count": 19,
   "id": "9efa79fa",
   "metadata": {
    "execution": {
     "iopub.execute_input": "2022-02-02T13:50:56.503680Z",
     "iopub.status.busy": "2022-02-02T13:50:56.503356Z",
     "iopub.status.idle": "2022-02-02T13:50:56.504689Z",
     "shell.execute_reply": "2022-02-02T13:50:56.504948Z"
    },
    "papermill": {
     "duration": 0.017504,
     "end_time": "2022-02-02T13:50:56.505028",
     "exception": false,
     "start_time": "2022-02-02T13:50:56.487524",
     "status": "completed"
    },
    "tags": []
   },
   "outputs": [],
   "source": [
    "def plot_glass_brain(stat_maps_unpaired,threshold=3.1,con_name='t_con',title=None):\n",
    "    from nilearn import plotting\n",
    "    display = plotting.plot_glass_brain(\n",
    "    stat_maps_unpaired, threshold=threshold, colorbar=True, plot_abs=False,\n",
    "    title=title, vmin=0, vmax=6)"
   ]
  },
  {
   "cell_type": "code",
   "execution_count": null,
   "id": "3a52de31",
   "metadata": {
    "papermill": {
     "duration": 0.013179,
     "end_time": "2022-02-02T13:50:56.531677",
     "exception": false,
     "start_time": "2022-02-02T13:50:56.518498",
     "status": "completed"
    },
    "tags": []
   },
   "outputs": [],
   "source": []
  },
  {
   "cell_type": "code",
   "execution_count": 20,
   "id": "f1015bc3",
   "metadata": {
    "execution": {
     "iopub.execute_input": "2022-02-02T13:50:56.560234Z",
     "iopub.status.busy": "2022-02-02T13:50:56.559909Z",
     "iopub.status.idle": "2022-02-02T13:51:18.452285Z",
     "shell.execute_reply": "2022-02-02T13:51:18.452614Z"
    },
    "papermill": {
     "duration": 21.907814,
     "end_time": "2022-02-02T13:51:18.452744",
     "exception": false,
     "start_time": "2022-02-02T13:50:56.544930",
     "status": "completed"
    },
    "tags": []
   },
   "outputs": [
    {
     "name": "stderr",
     "output_type": "stream",
     "text": [
      "/data/aglinska/.local/lib/python3.8/site-packages/nilearn/glm/__init__.py:55: FutureWarning:\n",
      "\n",
      "The nilearn.glm module is experimental. It may change in any future release of Nilearn.\n",
      "\n"
     ]
    }
   ],
   "source": [
    "stat_maps_TB,model_TB = glm_second_level(subs_top50,subs_bottom50)\n",
    "stat_maps_LR,model_LR = glm_second_level(subs_left50,subs_right50)"
   ]
  },
  {
   "cell_type": "code",
   "execution_count": 21,
   "id": "e3ca7621",
   "metadata": {
    "execution": {
     "iopub.execute_input": "2022-02-02T13:51:18.493637Z",
     "iopub.status.busy": "2022-02-02T13:51:18.493298Z",
     "iopub.status.idle": "2022-02-02T13:51:21.987219Z",
     "shell.execute_reply": "2022-02-02T13:51:21.987483Z"
    },
    "papermill": {
     "duration": 3.514083,
     "end_time": "2022-02-02T13:51:21.987579",
     "exception": false,
     "start_time": "2022-02-02T13:51:18.473496",
     "status": "completed"
    },
    "tags": []
   },
   "outputs": [
    {
     "data": {
      "image/png": "[encoded data removed]",
      "text/plain": [
       "<Figure size 525.6x187.2 with 5 Axes>"
      ]
     },
     "metadata": {},
     "output_type": "display_data"
    },
    {
     "data": {
      "image/png": "[encoded data removed]",
      "text/plain": [
       "<Figure size 525.6x187.2 with 5 Axes>"
      ]
     },
     "metadata": {},
     "output_type": "display_data"
    }
   ],
   "source": [
    "plot_glass_brain(stat_maps_TB['z_score'],title='Top vs Bottom')\n",
    "plot_glass_brain(stat_maps_LR['z_score'],title='Left vs Right')"
   ]
  },
  {
   "cell_type": "code",
   "execution_count": 22,
   "id": "778fbe38",
   "metadata": {
    "execution": {
     "iopub.execute_input": "2022-02-02T13:51:22.025121Z",
     "iopub.status.busy": "2022-02-02T13:51:22.024783Z",
     "iopub.status.idle": "2022-02-02T13:51:22.038322Z",
     "shell.execute_reply": "2022-02-02T13:51:22.038574Z"
    },
    "papermill": {
     "duration": 0.034139,
     "end_time": "2022-02-02T13:51:22.038668",
     "exception": false,
     "start_time": "2022-02-02T13:51:22.004529",
     "status": "completed"
    },
    "tags": []
   },
   "outputs": [],
   "source": [
    "stat_maps_TB['z_score'].to_filename(\n",
    "f'../misc/umap_consistency_analysis/zmap_TB_{analysis_number:03d}.nii')\n",
    "\n",
    "stat_maps_LR['z_score'].to_filename(\n",
    "f'../misc/umap_consistency_analysis/zmap_LR_{analysis_number:03d}.nii')"
   ]
  },
  {
   "cell_type": "code",
   "execution_count": null,
   "id": "21414212",
   "metadata": {
    "papermill": {
     "duration": 0.0165,
     "end_time": "2022-02-02T13:51:22.071653",
     "exception": false,
     "start_time": "2022-02-02T13:51:22.055153",
     "status": "completed"
    },
    "tags": []
   },
   "outputs": [],
   "source": []
  },
  {
   "cell_type": "code",
   "execution_count": null,
   "id": "96964e9c",
   "metadata": {
    "papermill": {
     "duration": 0.01617,
     "end_time": "2022-02-02T13:51:22.104403",
     "exception": false,
     "start_time": "2022-02-02T13:51:22.088233",
     "status": "completed"
    },
    "tags": []
   },
   "outputs": [],
   "source": []
  },
  {
   "cell_type": "code",
   "execution_count": null,
   "id": "0f959237",
   "metadata": {
    "papermill": {
     "duration": 0.01649,
     "end_time": "2022-02-02T13:51:22.137568",
     "exception": false,
     "start_time": "2022-02-02T13:51:22.121078",
     "status": "completed"
    },
    "tags": []
   },
   "outputs": [],
   "source": []
  },
  {
   "cell_type": "code",
   "execution_count": 23,
   "id": "820bb68c",
   "metadata": {
    "execution": {
     "iopub.execute_input": "2022-02-02T13:51:22.173509Z",
     "iopub.status.busy": "2022-02-02T13:51:22.173193Z",
     "iopub.status.idle": "2022-02-02T13:51:22.174754Z",
     "shell.execute_reply": "2022-02-02T13:51:22.175016Z"
    },
    "papermill": {
     "duration": 0.020584,
     "end_time": "2022-02-02T13:51:22.175102",
     "exception": false,
     "start_time": "2022-02-02T13:51:22.154518",
     "status": "completed"
    },
    "tags": []
   },
   "outputs": [],
   "source": [
    "#pwd"
   ]
  },
  {
   "cell_type": "code",
   "execution_count": 24,
   "id": "8b7394ea",
   "metadata": {
    "execution": {
     "iopub.execute_input": "2022-02-02T13:51:22.210368Z",
     "iopub.status.busy": "2022-02-02T13:51:22.210040Z",
     "iopub.status.idle": "2022-02-02T13:51:22.211974Z",
     "shell.execute_reply": "2022-02-02T13:51:22.211663Z"
    },
    "papermill": {
     "duration": 0.020502,
     "end_time": "2022-02-02T13:51:22.212048",
     "exception": false,
     "start_time": "2022-02-02T13:51:22.191546",
     "status": "completed"
    },
    "tags": []
   },
   "outputs": [],
   "source": [
    "# use_keys = ['AgeAtScan','FIQ','ADOS_Total','ADOS_StBeh', 'ADOS_Comm', 'ADOS_Social']\n",
    "# base_corr = np.zeros((len(use_keys),len(use_keys)))\n",
    "# for i1,key1 in enumerate(use_keys):\n",
    "#     for i2,key2 in enumerate(use_keys):\n",
    "#         vec1=df[key1].values[patients]\n",
    "#         vec2=df[key2].values[patients]\n",
    "#         e = np.isnan(vec1)+np.isnan(vec2)\n",
    "#         r = np.corrcoef(vec1[~e],vec2[~e])[0,1]\n",
    "#         base_corr[i1,i2] = r\n",
    "        \n",
    "# sns.heatmap(base_corr,xticklabels=use_keys,yticklabels=use_keys,annot=True);"
   ]
  },
  {
   "cell_type": "code",
   "execution_count": 25,
   "id": "80dc3e25",
   "metadata": {
    "execution": {
     "iopub.execute_input": "2022-02-02T13:51:22.248373Z",
     "iopub.status.busy": "2022-02-02T13:51:22.248049Z",
     "iopub.status.idle": "2022-02-02T13:51:22.250701Z",
     "shell.execute_reply": "2022-02-02T13:51:22.250377Z"
    },
    "papermill": {
     "duration": 0.02188,
     "end_time": "2022-02-02T13:51:22.250771",
     "exception": false,
     "start_time": "2022-02-02T13:51:22.228891",
     "status": "completed"
    },
    "tags": []
   },
   "outputs": [
    {
     "name": "stdout",
     "output_type": "stream",
     "text": [
      "0:00:32.195796\n"
     ]
    }
   ],
   "source": [
    "print(now()-t0)"
   ]
  },
  {
   "cell_type": "code",
   "execution_count": null,
   "id": "fbb2f060",
   "metadata": {
    "papermill": {
     "duration": 0.016645,
     "end_time": "2022-02-02T13:51:22.284611",
     "exception": false,
     "start_time": "2022-02-02T13:51:22.267966",
     "status": "completed"
    },
    "tags": []
   },
   "outputs": [],
   "source": []
  }
 ],
 "metadata": {
  "kernelspec": {
   "display_name": "Python 3",
   "language": "python",
   "name": "python3"
  },
  "language_info": {
   "codemirror_mode": {
    "name": "ipython",
    "version": 3
   },
   "file_extension": ".py",
   "mimetype": "text/x-python",
   "name": "python",
   "nbconvert_exporter": "python",
   "pygments_lexer": "ipython3",
   "version": "3.8.5"
  },
  "papermill": {
   "default_parameters": {},
   "duration": 50.962995,
   "end_time": "2022-02-02T13:51:23.794795",
   "environment_variables": {},
   "exception": null,
   "input_path": "/data/aglinska/BC-MRI-AE/Colab Notebooks/00-reviews-age-UMAPs-all-ages-loop.ipynb",
   "output_path": "/data/aglinska/BC-MRI-AE/misc/umap_consistency_analysis/00-reviews-age-UMAPs-all-ages-loop-9.ipynb",
   "parameters": {
    "analysis_number": 9
   },
   "start_time": "2022-02-02T13:50:32.831800",
   "version": "2.3.3"
  }
 },
 "nbformat": 4,
 "nbformat_minor": 5
}